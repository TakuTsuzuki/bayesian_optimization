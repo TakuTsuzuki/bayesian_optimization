{
 "cells": [
  {
   "cell_type": "code",
   "execution_count": 1,
   "metadata": {
    "collapsed": false,
    "scrolled": true
   },
   "outputs": [
    {
     "data": {
      "text/plain": [
       "'/Users/tsuzuki/bayesopt_prototype/src/examples'"
      ]
     },
     "execution_count": 1,
     "metadata": {},
     "output_type": "execute_result"
    }
   ],
   "source": [
    "pwd"
   ]
  },
  {
   "cell_type": "code",
   "execution_count": 2,
   "metadata": {
    "collapsed": false,
    "scrolled": true
   },
   "outputs": [
    {
     "name": "stdout",
     "output_type": "stream",
     "text": [
      "/Users/tsuzuki/bayesopt_prototype/src\n"
     ]
    }
   ],
   "source": [
    "cd .."
   ]
  },
  {
   "cell_type": "code",
   "execution_count": 3,
   "metadata": {
    "collapsed": false
   },
   "outputs": [],
   "source": [
    "%matplotlib inline\n",
    "import sys\n",
    "import numpy as np\n",
    "import matplotlib.pyplot as plt\n",
    "\n",
    "from bayes_opt import BayesianOptimization"
   ]
  },
  {
   "cell_type": "raw",
   "metadata": {},
   "source": [
    "実験計画：\n",
    "n=1,5,10,20,40,80をそれぞれ3回施行．　評価関数が2を下回るまでに必要とされたqueryの数の平均を評価．"
   ]
  },
  {
   "cell_type": "markdown",
   "metadata": {},
   "source": [
    "### 条件設定"
   ]
  },
  {
   "cell_type": "code",
   "execution_count": 4,
   "metadata": {
    "collapsed": false
   },
   "outputs": [],
   "source": [
    "n_sample=1\n",
    "ran=1\n",
    "\n",
    "#results\n",
    "counts = {}\n",
    "min_vals ={}\n",
    "for k in range(1,7):\n",
    "    counts[k]=np.array([])\n",
    "    min_vals[k]=np.array([])"
   ]
  },
  {
   "cell_type": "markdown",
   "metadata": {
    "collapsed": true
   },
   "source": [
    "#### dim=1"
   ]
  },
  {
   "cell_type": "code",
   "execution_count": 5,
   "metadata": {
    "collapsed": false
   },
   "outputs": [
    {
     "name": "stdout",
     "output_type": "stream",
     "text": [
      "iteration 0\n",
      "16.1553879844\n",
      "0.00145909314804\n"
     ]
    }
   ],
   "source": [
    "#define black box function\n",
    "for i in range(n_sample):\n",
    "    print (\"iteration {0}\".format(i))\n",
    "    bo1 = BayesianOptimization(lambda x1: -(x1**2)\n",
    "                               +np.cos(x1*3)-1,\n",
    "                               {'x1': (-4, 4)})\n",
    "    value = bo1.maximize(init_points=1, n_iter=1, acq='mi', kappa=3.29, value=True)\n",
    "    min_val = -1*value\n",
    "    count1=2\n",
    "    min_vals[1] = np.append(min_vals[1], [min_val])\n",
    "    \n",
    "    while min_val > 5:\n",
    "        count1=count1 + 1\n",
    "        value = bo1.maximize(init_points=1, n_iter=1, acq='mi', kappa=3.29, value=True)\n",
    "        if min_val > -1*value:\n",
    "            min_val =-1* value\n",
    "        \n",
    "        min_vals[1] = np.append(min_vals[1], [min_val])\n",
    "        print (min_val)\n",
    "    counts[1]=np.append(counts[1], [count1])"
   ]
  },
  {
   "cell_type": "code",
   "execution_count": 6,
   "metadata": {
    "collapsed": false,
    "scrolled": true
   },
   "outputs": [
    {
     "data": {
      "text/plain": [
       "array([ 4.])"
      ]
     },
     "execution_count": 6,
     "metadata": {},
     "output_type": "execute_result"
    }
   ],
   "source": [
    "counts[1]"
   ]
  },
  {
   "cell_type": "markdown",
   "metadata": {},
   "source": [
    "#### dim=5"
   ]
  },
  {
   "cell_type": "code",
   "execution_count": 7,
   "metadata": {
    "code_folding": [],
    "collapsed": false
   },
   "outputs": [
    {
     "name": "stdout",
     "output_type": "stream",
     "text": [
      "iteration 0\n",
      "74.8396631694\n",
      "73.1719643765\n",
      "71.1246921179\n",
      "69.4195511806\n",
      "69.4195511806\n",
      "69.4195511806\n",
      "59.3406607872\n",
      "59.3406607872\n",
      "43.4174938958\n",
      "43.1572719717\n",
      "41.4919728528\n",
      "40.0487771218\n"
     ]
    },
    {
     "name": "stderr",
     "output_type": "stream",
     "text": [
      "/Users/tsuzuki/anaconda3/lib/python3.4/site-packages/sklearn/gaussian_process/gpr.py:427: UserWarning: fmin_l_bfgs_b terminated abnormally with the  state: {'nit': 2, 'warnflag': 2, 'grad': array([-0.00029934]), 'funcalls': 51, 'task': b'ABNORMAL_TERMINATION_IN_LNSRCH'}\n",
      "  \" state: %s\" % convergence_dict)\n"
     ]
    },
    {
     "name": "stdout",
     "output_type": "stream",
     "text": [
      "31.9884482266\n",
      "30.1324873759\n",
      "30.0391272064\n"
     ]
    },
    {
     "name": "stderr",
     "output_type": "stream",
     "text": [
      "/Users/tsuzuki/anaconda3/lib/python3.4/site-packages/sklearn/gaussian_process/gpr.py:427: UserWarning: fmin_l_bfgs_b terminated abnormally with the  state: {'nit': 5, 'warnflag': 2, 'grad': array([ 0.00169717]), 'funcalls': 50, 'task': b'ABNORMAL_TERMINATION_IN_LNSRCH'}\n",
      "  \" state: %s\" % convergence_dict)\n"
     ]
    },
    {
     "name": "stdout",
     "output_type": "stream",
     "text": [
      "28.601404617\n"
     ]
    },
    {
     "name": "stderr",
     "output_type": "stream",
     "text": [
      "/Users/tsuzuki/anaconda3/lib/python3.4/site-packages/sklearn/gaussian_process/gpr.py:427: UserWarning: fmin_l_bfgs_b terminated abnormally with the  state: {'nit': 2, 'warnflag': 2, 'grad': array([-0.00111623]), 'funcalls': 52, 'task': b'ABNORMAL_TERMINATION_IN_LNSRCH'}\n",
      "  \" state: %s\" % convergence_dict)\n"
     ]
    },
    {
     "name": "stdout",
     "output_type": "stream",
     "text": [
      "24.4991736833\n"
     ]
    },
    {
     "name": "stderr",
     "output_type": "stream",
     "text": [
      "/Users/tsuzuki/anaconda3/lib/python3.4/site-packages/sklearn/gaussian_process/gpr.py:427: UserWarning: fmin_l_bfgs_b terminated abnormally with the  state: {'nit': 2, 'warnflag': 2, 'grad': array([ -5.31884580e-05]), 'funcalls': 51, 'task': b'ABNORMAL_TERMINATION_IN_LNSRCH'}\n",
      "  \" state: %s\" % convergence_dict)\n"
     ]
    },
    {
     "name": "stdout",
     "output_type": "stream",
     "text": [
      "22.7141874747\n"
     ]
    },
    {
     "name": "stderr",
     "output_type": "stream",
     "text": [
      "/Users/tsuzuki/anaconda3/lib/python3.4/site-packages/sklearn/gaussian_process/gpr.py:427: UserWarning: fmin_l_bfgs_b terminated abnormally with the  state: {'nit': 5, 'warnflag': 2, 'grad': array([ 0.00150531]), 'funcalls': 54, 'task': b'ABNORMAL_TERMINATION_IN_LNSRCH'}\n",
      "  \" state: %s\" % convergence_dict)\n",
      "/Users/tsuzuki/anaconda3/lib/python3.4/site-packages/sklearn/gaussian_process/gpr.py:427: UserWarning: fmin_l_bfgs_b terminated abnormally with the  state: {'nit': 4, 'warnflag': 2, 'grad': array([-0.0024224]), 'funcalls': 57, 'task': b'ABNORMAL_TERMINATION_IN_LNSRCH'}\n",
      "  \" state: %s\" % convergence_dict)\n"
     ]
    },
    {
     "name": "stdout",
     "output_type": "stream",
     "text": [
      "20.2669537117\n",
      "17.094107441\n",
      "14.6478605919\n",
      "14.4737577822\n",
      "14.3627080554\n",
      "13.9827217092\n"
     ]
    },
    {
     "name": "stderr",
     "output_type": "stream",
     "text": [
      "/Users/tsuzuki/anaconda3/lib/python3.4/site-packages/sklearn/gaussian_process/gpr.py:427: UserWarning: fmin_l_bfgs_b terminated abnormally with the  state: {'nit': 2, 'warnflag': 2, 'grad': array([ -8.68186131e-05]), 'funcalls': 51, 'task': b'ABNORMAL_TERMINATION_IN_LNSRCH'}\n",
      "  \" state: %s\" % convergence_dict)\n",
      "/Users/tsuzuki/anaconda3/lib/python3.4/site-packages/sklearn/gaussian_process/gpr.py:427: UserWarning: fmin_l_bfgs_b terminated abnormally with the  state: {'nit': 4, 'warnflag': 2, 'grad': array([ 0.00137878]), 'funcalls': 55, 'task': b'ABNORMAL_TERMINATION_IN_LNSRCH'}\n",
      "  \" state: %s\" % convergence_dict)\n"
     ]
    },
    {
     "name": "stdout",
     "output_type": "stream",
     "text": [
      "13.4156465258\n"
     ]
    },
    {
     "name": "stderr",
     "output_type": "stream",
     "text": [
      "/Users/tsuzuki/anaconda3/lib/python3.4/site-packages/sklearn/gaussian_process/gpr.py:427: UserWarning: fmin_l_bfgs_b terminated abnormally with the  state: {'nit': 2, 'warnflag': 2, 'grad': array([ -1.53925794e-05]), 'funcalls': 51, 'task': b'ABNORMAL_TERMINATION_IN_LNSRCH'}\n",
      "  \" state: %s\" % convergence_dict)\n",
      "/Users/tsuzuki/anaconda3/lib/python3.4/site-packages/sklearn/gaussian_process/gpr.py:427: UserWarning: fmin_l_bfgs_b terminated abnormally with the  state: {'nit': 2, 'warnflag': 2, 'grad': array([-0.00012671]), 'funcalls': 51, 'task': b'ABNORMAL_TERMINATION_IN_LNSRCH'}\n",
      "  \" state: %s\" % convergence_dict)\n"
     ]
    },
    {
     "name": "stdout",
     "output_type": "stream",
     "text": [
      "13.3711748855\n",
      "13.1831771633\n",
      "13.1831771633\n",
      "12.2137222303\n",
      "10.7994300009\n",
      "10.7718985233\n",
      "10.7668626614\n",
      "10.7668626614\n"
     ]
    },
    {
     "name": "stderr",
     "output_type": "stream",
     "text": [
      "/Users/tsuzuki/anaconda3/lib/python3.4/site-packages/sklearn/gaussian_process/gpr.py:427: UserWarning: fmin_l_bfgs_b terminated abnormally with the  state: {'nit': 3, 'warnflag': 2, 'grad': array([ 0.00052311]), 'funcalls': 47, 'task': b'ABNORMAL_TERMINATION_IN_LNSRCH'}\n",
      "  \" state: %s\" % convergence_dict)\n",
      "/Users/tsuzuki/anaconda3/lib/python3.4/site-packages/sklearn/gaussian_process/gpr.py:427: UserWarning: fmin_l_bfgs_b terminated abnormally with the  state: {'nit': 2, 'warnflag': 2, 'grad': array([ 0.00109787]), 'funcalls': 52, 'task': b'ABNORMAL_TERMINATION_IN_LNSRCH'}\n",
      "  \" state: %s\" % convergence_dict)\n",
      "/Users/tsuzuki/anaconda3/lib/python3.4/site-packages/sklearn/gaussian_process/gpr.py:427: UserWarning: fmin_l_bfgs_b terminated abnormally with the  state: {'nit': 3, 'warnflag': 2, 'grad': array([ 0.00614968]), 'funcalls': 47, 'task': b'ABNORMAL_TERMINATION_IN_LNSRCH'}\n",
      "  \" state: %s\" % convergence_dict)\n"
     ]
    },
    {
     "name": "stdout",
     "output_type": "stream",
     "text": [
      "10.7093404619\n"
     ]
    },
    {
     "name": "stderr",
     "output_type": "stream",
     "text": [
      "/Users/tsuzuki/anaconda3/lib/python3.4/site-packages/sklearn/gaussian_process/gpr.py:427: UserWarning: fmin_l_bfgs_b terminated abnormally with the  state: {'nit': 5, 'warnflag': 2, 'grad': array([ 0.00572613]), 'funcalls': 52, 'task': b'ABNORMAL_TERMINATION_IN_LNSRCH'}\n",
      "  \" state: %s\" % convergence_dict)\n",
      "/Users/tsuzuki/anaconda3/lib/python3.4/site-packages/sklearn/gaussian_process/gpr.py:427: UserWarning: fmin_l_bfgs_b terminated abnormally with the  state: {'nit': 2, 'warnflag': 2, 'grad': array([ -9.80426557e-05]), 'funcalls': 52, 'task': b'ABNORMAL_TERMINATION_IN_LNSRCH'}\n",
      "  \" state: %s\" % convergence_dict)\n"
     ]
    },
    {
     "name": "stdout",
     "output_type": "stream",
     "text": [
      "10.4790815281\n"
     ]
    },
    {
     "name": "stderr",
     "output_type": "stream",
     "text": [
      "/Users/tsuzuki/anaconda3/lib/python3.4/site-packages/sklearn/gaussian_process/gpr.py:427: UserWarning: fmin_l_bfgs_b terminated abnormally with the  state: {'nit': 2, 'warnflag': 2, 'grad': array([-13.23900718]), 'funcalls': 32, 'task': b'ABNORMAL_TERMINATION_IN_LNSRCH'}\n",
      "  \" state: %s\" % convergence_dict)\n"
     ]
    },
    {
     "name": "stdout",
     "output_type": "stream",
     "text": [
      "10.4286040969\n"
     ]
    },
    {
     "name": "stderr",
     "output_type": "stream",
     "text": [
      "/Users/tsuzuki/anaconda3/lib/python3.4/site-packages/sklearn/gaussian_process/gpr.py:427: UserWarning: fmin_l_bfgs_b terminated abnormally with the  state: {'nit': 4, 'warnflag': 2, 'grad': array([-0.00504585]), 'funcalls': 51, 'task': b'ABNORMAL_TERMINATION_IN_LNSRCH'}\n",
      "  \" state: %s\" % convergence_dict)\n"
     ]
    },
    {
     "name": "stdout",
     "output_type": "stream",
     "text": [
      "10.3980594071\n"
     ]
    },
    {
     "name": "stderr",
     "output_type": "stream",
     "text": [
      "/Users/tsuzuki/anaconda3/lib/python3.4/site-packages/sklearn/gaussian_process/gpr.py:427: UserWarning: fmin_l_bfgs_b terminated abnormally with the  state: {'nit': 3, 'warnflag': 2, 'grad': array([-0.00172884]), 'funcalls': 52, 'task': b'ABNORMAL_TERMINATION_IN_LNSRCH'}\n",
      "  \" state: %s\" % convergence_dict)\n",
      "/Users/tsuzuki/anaconda3/lib/python3.4/site-packages/sklearn/gaussian_process/gpr.py:427: UserWarning: fmin_l_bfgs_b terminated abnormally with the  state: {'nit': 2, 'warnflag': 2, 'grad': array([-0.00017978]), 'funcalls': 51, 'task': b'ABNORMAL_TERMINATION_IN_LNSRCH'}\n",
      "  \" state: %s\" % convergence_dict)\n"
     ]
    },
    {
     "name": "stdout",
     "output_type": "stream",
     "text": [
      "10.3980594071\n"
     ]
    },
    {
     "name": "stderr",
     "output_type": "stream",
     "text": [
      "/Users/tsuzuki/anaconda3/lib/python3.4/site-packages/sklearn/gaussian_process/gpr.py:427: UserWarning: fmin_l_bfgs_b terminated abnormally with the  state: {'nit': 3, 'warnflag': 2, 'grad': array([-0.00027188]), 'funcalls': 53, 'task': b'ABNORMAL_TERMINATION_IN_LNSRCH'}\n",
      "  \" state: %s\" % convergence_dict)\n",
      "/Users/tsuzuki/anaconda3/lib/python3.4/site-packages/sklearn/gaussian_process/gpr.py:427: UserWarning: fmin_l_bfgs_b terminated abnormally with the  state: {'nit': 4, 'warnflag': 2, 'grad': array([-0.00205319]), 'funcalls': 55, 'task': b'ABNORMAL_TERMINATION_IN_LNSRCH'}\n",
      "  \" state: %s\" % convergence_dict)\n"
     ]
    },
    {
     "name": "stdout",
     "output_type": "stream",
     "text": [
      "10.3965794004\n"
     ]
    },
    {
     "name": "stderr",
     "output_type": "stream",
     "text": [
      "/Users/tsuzuki/anaconda3/lib/python3.4/site-packages/sklearn/gaussian_process/gpr.py:308: UserWarning: Predicted variances smaller than 0. Setting those variances to 0.\n",
      "  warnings.warn(\"Predicted variances smaller than 0. \"\n"
     ]
    },
    {
     "name": "stdout",
     "output_type": "stream",
     "text": [
      "10.3893041733\n"
     ]
    },
    {
     "name": "stderr",
     "output_type": "stream",
     "text": [
      "/Users/tsuzuki/anaconda3/lib/python3.4/site-packages/sklearn/gaussian_process/gpr.py:427: UserWarning: fmin_l_bfgs_b terminated abnormally with the  state: {'nit': 4, 'warnflag': 2, 'grad': array([-0.01561564]), 'funcalls': 57, 'task': b'ABNORMAL_TERMINATION_IN_LNSRCH'}\n",
      "  \" state: %s\" % convergence_dict)\n",
      "/Users/tsuzuki/anaconda3/lib/python3.4/site-packages/sklearn/gaussian_process/gpr.py:427: UserWarning: fmin_l_bfgs_b terminated abnormally with the  state: {'nit': 3, 'warnflag': 2, 'grad': array([-0.04337721]), 'funcalls': 49, 'task': b'ABNORMAL_TERMINATION_IN_LNSRCH'}\n",
      "  \" state: %s\" % convergence_dict)\n",
      "/Users/tsuzuki/anaconda3/lib/python3.4/site-packages/sklearn/gaussian_process/gpr.py:427: UserWarning: fmin_l_bfgs_b terminated abnormally with the  state: {'nit': 3, 'warnflag': 2, 'grad': array([ 0.01497363]), 'funcalls': 47, 'task': b'ABNORMAL_TERMINATION_IN_LNSRCH'}\n",
      "  \" state: %s\" % convergence_dict)\n",
      "/Users/tsuzuki/anaconda3/lib/python3.4/site-packages/sklearn/gaussian_process/gpr.py:427: UserWarning: fmin_l_bfgs_b terminated abnormally with the  state: {'nit': 4, 'warnflag': 2, 'grad': array([ 0.00576934]), 'funcalls': 54, 'task': b'ABNORMAL_TERMINATION_IN_LNSRCH'}\n",
      "  \" state: %s\" % convergence_dict)\n",
      "/Users/tsuzuki/anaconda3/lib/python3.4/site-packages/sklearn/gaussian_process/gpr.py:427: UserWarning: fmin_l_bfgs_b terminated abnormally with the  state: {'nit': 4, 'warnflag': 2, 'grad': array([-0.00209378]), 'funcalls': 47, 'task': b'ABNORMAL_TERMINATION_IN_LNSRCH'}\n",
      "  \" state: %s\" % convergence_dict)\n"
     ]
    },
    {
     "name": "stdout",
     "output_type": "stream",
     "text": [
      "10.3893041733\n"
     ]
    },
    {
     "name": "stderr",
     "output_type": "stream",
     "text": [
      "/Users/tsuzuki/anaconda3/lib/python3.4/site-packages/sklearn/gaussian_process/gpr.py:427: UserWarning: fmin_l_bfgs_b terminated abnormally with the  state: {'nit': 2, 'warnflag': 2, 'grad': array([-0.00204155]), 'funcalls': 53, 'task': b'ABNORMAL_TERMINATION_IN_LNSRCH'}\n",
      "  \" state: %s\" % convergence_dict)\n",
      "/Users/tsuzuki/anaconda3/lib/python3.4/site-packages/sklearn/gaussian_process/gpr.py:427: UserWarning: fmin_l_bfgs_b terminated abnormally with the  state: {'nit': 2, 'warnflag': 2, 'grad': array([-253.88983625]), 'funcalls': 32, 'task': b'ABNORMAL_TERMINATION_IN_LNSRCH'}\n",
      "  \" state: %s\" % convergence_dict)\n",
      "/Users/tsuzuki/anaconda3/lib/python3.4/site-packages/sklearn/gaussian_process/gpr.py:427: UserWarning: fmin_l_bfgs_b terminated abnormally with the  state: {'nit': 6, 'warnflag': 2, 'grad': array([-0.00545199]), 'funcalls': 56, 'task': b'ABNORMAL_TERMINATION_IN_LNSRCH'}\n",
      "  \" state: %s\" % convergence_dict)\n",
      "/Users/tsuzuki/anaconda3/lib/python3.4/site-packages/sklearn/gaussian_process/gpr.py:427: UserWarning: fmin_l_bfgs_b terminated abnormally with the  state: {'nit': 5, 'warnflag': 2, 'grad': array([-0.00686364]), 'funcalls': 51, 'task': b'ABNORMAL_TERMINATION_IN_LNSRCH'}\n",
      "  \" state: %s\" % convergence_dict)\n"
     ]
    },
    {
     "name": "stdout",
     "output_type": "stream",
     "text": [
      "10.3893041733\n"
     ]
    },
    {
     "name": "stderr",
     "output_type": "stream",
     "text": [
      "/Users/tsuzuki/anaconda3/lib/python3.4/site-packages/sklearn/gaussian_process/gpr.py:427: UserWarning: fmin_l_bfgs_b terminated abnormally with the  state: {'nit': 3, 'warnflag': 2, 'grad': array([ 0.10502892]), 'funcalls': 48, 'task': b'ABNORMAL_TERMINATION_IN_LNSRCH'}\n",
      "  \" state: %s\" % convergence_dict)\n",
      "/Users/tsuzuki/anaconda3/lib/python3.4/site-packages/sklearn/gaussian_process/gpr.py:427: UserWarning: fmin_l_bfgs_b terminated abnormally with the  state: {'nit': 3, 'warnflag': 2, 'grad': array([ 0.04868218]), 'funcalls': 50, 'task': b'ABNORMAL_TERMINATION_IN_LNSRCH'}\n",
      "  \" state: %s\" % convergence_dict)\n"
     ]
    },
    {
     "name": "stdout",
     "output_type": "stream",
     "text": [
      "10.3878247726\n"
     ]
    },
    {
     "name": "stderr",
     "output_type": "stream",
     "text": [
      "/Users/tsuzuki/anaconda3/lib/python3.4/site-packages/sklearn/gaussian_process/gpr.py:427: UserWarning: fmin_l_bfgs_b terminated abnormally with the  state: {'nit': 1, 'warnflag': 2, 'grad': array([-1406.02450891]), 'funcalls': 29, 'task': b'ABNORMAL_TERMINATION_IN_LNSRCH'}\n",
      "  \" state: %s\" % convergence_dict)\n",
      "/Users/tsuzuki/anaconda3/lib/python3.4/site-packages/sklearn/gaussian_process/gpr.py:427: UserWarning: fmin_l_bfgs_b terminated abnormally with the  state: {'nit': 3, 'warnflag': 2, 'grad': array([ 0.21374394]), 'funcalls': 50, 'task': b'ABNORMAL_TERMINATION_IN_LNSRCH'}\n",
      "  \" state: %s\" % convergence_dict)\n"
     ]
    },
    {
     "name": "stdout",
     "output_type": "stream",
     "text": [
      "10.3859281542\n"
     ]
    },
    {
     "name": "stderr",
     "output_type": "stream",
     "text": [
      "/Users/tsuzuki/anaconda3/lib/python3.4/site-packages/sklearn/gaussian_process/gpr.py:427: UserWarning: fmin_l_bfgs_b terminated abnormally with the  state: {'nit': 4, 'warnflag': 2, 'grad': array([-0.05519306]), 'funcalls': 56, 'task': b'ABNORMAL_TERMINATION_IN_LNSRCH'}\n",
      "  \" state: %s\" % convergence_dict)\n"
     ]
    },
    {
     "name": "stdout",
     "output_type": "stream",
     "text": [
      "10.3838873691\n"
     ]
    },
    {
     "name": "stderr",
     "output_type": "stream",
     "text": [
      "/Users/tsuzuki/anaconda3/lib/python3.4/site-packages/sklearn/gaussian_process/gpr.py:427: UserWarning: fmin_l_bfgs_b terminated abnormally with the  state: {'nit': 3, 'warnflag': 2, 'grad': array([ 0.00670632]), 'funcalls': 50, 'task': b'ABNORMAL_TERMINATION_IN_LNSRCH'}\n",
      "  \" state: %s\" % convergence_dict)\n",
      "/Users/tsuzuki/anaconda3/lib/python3.4/site-packages/sklearn/gaussian_process/gpr.py:427: UserWarning: fmin_l_bfgs_b terminated abnormally with the  state: {'nit': 2, 'warnflag': 2, 'grad': array([-1400.47478249]), 'funcalls': 28, 'task': b'ABNORMAL_TERMINATION_IN_LNSRCH'}\n",
      "  \" state: %s\" % convergence_dict)\n",
      "/Users/tsuzuki/anaconda3/lib/python3.4/site-packages/sklearn/gaussian_process/gpr.py:427: UserWarning: fmin_l_bfgs_b terminated abnormally with the  state: {'nit': 4, 'warnflag': 2, 'grad': array([-0.00357934]), 'funcalls': 55, 'task': b'ABNORMAL_TERMINATION_IN_LNSRCH'}\n",
      "  \" state: %s\" % convergence_dict)\n"
     ]
    },
    {
     "name": "stdout",
     "output_type": "stream",
     "text": [
      "10.3769213046\n",
      "10.3718667761\n"
     ]
    },
    {
     "name": "stderr",
     "output_type": "stream",
     "text": [
      "/Users/tsuzuki/anaconda3/lib/python3.4/site-packages/sklearn/gaussian_process/gpr.py:427: UserWarning: fmin_l_bfgs_b terminated abnormally with the  state: {'nit': 1, 'warnflag': 2, 'grad': array([-373.00979449]), 'funcalls': 28, 'task': b'ABNORMAL_TERMINATION_IN_LNSRCH'}\n",
      "  \" state: %s\" % convergence_dict)\n",
      "/Users/tsuzuki/anaconda3/lib/python3.4/site-packages/sklearn/gaussian_process/gpr.py:427: UserWarning: fmin_l_bfgs_b terminated abnormally with the  state: {'nit': 2, 'warnflag': 2, 'grad': array([-0.02547825]), 'funcalls': 53, 'task': b'ABNORMAL_TERMINATION_IN_LNSRCH'}\n",
      "  \" state: %s\" % convergence_dict)\n",
      "/Users/tsuzuki/anaconda3/lib/python3.4/site-packages/sklearn/gaussian_process/gpr.py:427: UserWarning: fmin_l_bfgs_b terminated abnormally with the  state: {'nit': 3, 'warnflag': 2, 'grad': array([-0.00411584]), 'funcalls': 53, 'task': b'ABNORMAL_TERMINATION_IN_LNSRCH'}\n",
      "  \" state: %s\" % convergence_dict)\n",
      "/Users/tsuzuki/anaconda3/lib/python3.4/site-packages/sklearn/gaussian_process/gpr.py:427: UserWarning: fmin_l_bfgs_b terminated abnormally with the  state: {'nit': 2, 'warnflag': 2, 'grad': array([-0.00046903]), 'funcalls': 52, 'task': b'ABNORMAL_TERMINATION_IN_LNSRCH'}\n",
      "  \" state: %s\" % convergence_dict)\n"
     ]
    },
    {
     "name": "stdout",
     "output_type": "stream",
     "text": [
      "10.3711762069\n"
     ]
    },
    {
     "name": "stderr",
     "output_type": "stream",
     "text": [
      "/Users/tsuzuki/anaconda3/lib/python3.4/site-packages/sklearn/gaussian_process/gpr.py:427: UserWarning: fmin_l_bfgs_b terminated abnormally with the  state: {'nit': 1, 'warnflag': 2, 'grad': array([-475.62629661]), 'funcalls': 27, 'task': b'ABNORMAL_TERMINATION_IN_LNSRCH'}\n",
      "  \" state: %s\" % convergence_dict)\n",
      "/Users/tsuzuki/anaconda3/lib/python3.4/site-packages/sklearn/gaussian_process/gpr.py:427: UserWarning: fmin_l_bfgs_b terminated abnormally with the  state: {'nit': 6, 'warnflag': 2, 'grad': array([-0.00276048]), 'funcalls': 57, 'task': b'ABNORMAL_TERMINATION_IN_LNSRCH'}\n",
      "  \" state: %s\" % convergence_dict)\n",
      "/Users/tsuzuki/anaconda3/lib/python3.4/site-packages/sklearn/gaussian_process/gpr.py:427: UserWarning: fmin_l_bfgs_b terminated abnormally with the  state: {'nit': 5, 'warnflag': 2, 'grad': array([-0.04341769]), 'funcalls': 53, 'task': b'ABNORMAL_TERMINATION_IN_LNSRCH'}\n",
      "  \" state: %s\" % convergence_dict)\n"
     ]
    },
    {
     "name": "stdout",
     "output_type": "stream",
     "text": [
      "10.3711762069\n"
     ]
    },
    {
     "name": "stderr",
     "output_type": "stream",
     "text": [
      "/Users/tsuzuki/anaconda3/lib/python3.4/site-packages/sklearn/gaussian_process/gpr.py:427: UserWarning: fmin_l_bfgs_b terminated abnormally with the  state: {'nit': 2, 'warnflag': 2, 'grad': array([-0.00051969]), 'funcalls': 51, 'task': b'ABNORMAL_TERMINATION_IN_LNSRCH'}\n",
      "  \" state: %s\" % convergence_dict)\n",
      "/Users/tsuzuki/anaconda3/lib/python3.4/site-packages/sklearn/gaussian_process/gpr.py:427: UserWarning: fmin_l_bfgs_b terminated abnormally with the  state: {'nit': 0, 'warnflag': 2, 'grad': array([-360.03814273]), 'funcalls': 21, 'task': b'ABNORMAL_TERMINATION_IN_LNSRCH'}\n",
      "  \" state: %s\" % convergence_dict)\n"
     ]
    },
    {
     "name": "stdout",
     "output_type": "stream",
     "text": [
      "10.3688356011\n"
     ]
    },
    {
     "name": "stderr",
     "output_type": "stream",
     "text": [
      "/Users/tsuzuki/anaconda3/lib/python3.4/site-packages/sklearn/gaussian_process/gpr.py:427: UserWarning: fmin_l_bfgs_b terminated abnormally with the  state: {'nit': 4, 'warnflag': 2, 'grad': array([-0.01562156]), 'funcalls': 56, 'task': b'ABNORMAL_TERMINATION_IN_LNSRCH'}\n",
      "  \" state: %s\" % convergence_dict)\n"
     ]
    },
    {
     "name": "stdout",
     "output_type": "stream",
     "text": [
      "10.3656422561\n"
     ]
    },
    {
     "name": "stderr",
     "output_type": "stream",
     "text": [
      "/Users/tsuzuki/anaconda3/lib/python3.4/site-packages/sklearn/gaussian_process/gpr.py:427: UserWarning: fmin_l_bfgs_b terminated abnormally with the  state: {'nit': 1, 'warnflag': 2, 'grad': array([-207.14516389]), 'funcalls': 27, 'task': b'ABNORMAL_TERMINATION_IN_LNSRCH'}\n",
      "  \" state: %s\" % convergence_dict)\n",
      "/Users/tsuzuki/anaconda3/lib/python3.4/site-packages/sklearn/gaussian_process/gpr.py:427: UserWarning: fmin_l_bfgs_b terminated abnormally with the  state: {'nit': 2, 'warnflag': 2, 'grad': array([-0.00013255]), 'funcalls': 52, 'task': b'ABNORMAL_TERMINATION_IN_LNSRCH'}\n",
      "  \" state: %s\" % convergence_dict)\n"
     ]
    },
    {
     "name": "stdout",
     "output_type": "stream",
     "text": [
      "10.3628325507\n"
     ]
    },
    {
     "name": "stderr",
     "output_type": "stream",
     "text": [
      "/Users/tsuzuki/anaconda3/lib/python3.4/site-packages/sklearn/gaussian_process/gpr.py:427: UserWarning: fmin_l_bfgs_b terminated abnormally with the  state: {'nit': 3, 'warnflag': 2, 'grad': array([-16.11487606]), 'funcalls': 39, 'task': b'ABNORMAL_TERMINATION_IN_LNSRCH'}\n",
      "  \" state: %s\" % convergence_dict)\n",
      "/Users/tsuzuki/anaconda3/lib/python3.4/site-packages/sklearn/gaussian_process/gpr.py:427: UserWarning: fmin_l_bfgs_b terminated abnormally with the  state: {'nit': 3, 'warnflag': 2, 'grad': array([ 0.00429344]), 'funcalls': 54, 'task': b'ABNORMAL_TERMINATION_IN_LNSRCH'}\n",
      "  \" state: %s\" % convergence_dict)\n"
     ]
    },
    {
     "name": "stdout",
     "output_type": "stream",
     "text": [
      "10.3608560801\n",
      "10.3574595649\n"
     ]
    },
    {
     "name": "stderr",
     "output_type": "stream",
     "text": [
      "/Users/tsuzuki/anaconda3/lib/python3.4/site-packages/sklearn/gaussian_process/gpr.py:427: UserWarning: fmin_l_bfgs_b terminated abnormally with the  state: {'nit': 4, 'warnflag': 2, 'grad': array([-0.01449395]), 'funcalls': 57, 'task': b'ABNORMAL_TERMINATION_IN_LNSRCH'}\n",
      "  \" state: %s\" % convergence_dict)\n"
     ]
    },
    {
     "name": "stdout",
     "output_type": "stream",
     "text": [
      "10.3557924727\n"
     ]
    },
    {
     "name": "stderr",
     "output_type": "stream",
     "text": [
      "/Users/tsuzuki/anaconda3/lib/python3.4/site-packages/sklearn/gaussian_process/gpr.py:427: UserWarning: fmin_l_bfgs_b terminated abnormally with the  state: {'nit': 3, 'warnflag': 2, 'grad': array([-0.00146071]), 'funcalls': 58, 'task': b'ABNORMAL_TERMINATION_IN_LNSRCH'}\n",
      "  \" state: %s\" % convergence_dict)\n"
     ]
    },
    {
     "name": "stdout",
     "output_type": "stream",
     "text": [
      "10.3443907095\n"
     ]
    },
    {
     "name": "stderr",
     "output_type": "stream",
     "text": [
      "/Users/tsuzuki/anaconda3/lib/python3.4/site-packages/sklearn/gaussian_process/gpr.py:427: UserWarning: fmin_l_bfgs_b terminated abnormally with the  state: {'nit': 5, 'warnflag': 2, 'grad': array([ 0.02275508]), 'funcalls': 65, 'task': b'ABNORMAL_TERMINATION_IN_LNSRCH'}\n",
      "  \" state: %s\" % convergence_dict)\n",
      "/Users/tsuzuki/anaconda3/lib/python3.4/site-packages/sklearn/gaussian_process/gpr.py:427: UserWarning: fmin_l_bfgs_b terminated abnormally with the  state: {'nit': 4, 'warnflag': 2, 'grad': array([-0.0018692]), 'funcalls': 55, 'task': b'ABNORMAL_TERMINATION_IN_LNSRCH'}\n",
      "  \" state: %s\" % convergence_dict)\n"
     ]
    },
    {
     "name": "stdout",
     "output_type": "stream",
     "text": [
      "10.3203121854\n"
     ]
    },
    {
     "name": "stderr",
     "output_type": "stream",
     "text": [
      "/Users/tsuzuki/anaconda3/lib/python3.4/site-packages/sklearn/gaussian_process/gpr.py:427: UserWarning: fmin_l_bfgs_b terminated abnormally with the  state: {'nit': 4, 'warnflag': 2, 'grad': array([ 0.01520869]), 'funcalls': 53, 'task': b'ABNORMAL_TERMINATION_IN_LNSRCH'}\n",
      "  \" state: %s\" % convergence_dict)\n",
      "/Users/tsuzuki/anaconda3/lib/python3.4/site-packages/sklearn/gaussian_process/gpr.py:427: UserWarning: fmin_l_bfgs_b terminated abnormally with the  state: {'nit': 2, 'warnflag': 2, 'grad': array([-0.00023619]), 'funcalls': 52, 'task': b'ABNORMAL_TERMINATION_IN_LNSRCH'}\n",
      "  \" state: %s\" % convergence_dict)\n"
     ]
    },
    {
     "name": "stdout",
     "output_type": "stream",
     "text": [
      "10.2994877083\n"
     ]
    },
    {
     "name": "stderr",
     "output_type": "stream",
     "text": [
      "/Users/tsuzuki/anaconda3/lib/python3.4/site-packages/sklearn/gaussian_process/gpr.py:427: UserWarning: fmin_l_bfgs_b terminated abnormally with the  state: {'nit': 6, 'warnflag': 2, 'grad': array([-0.00655111]), 'funcalls': 57, 'task': b'ABNORMAL_TERMINATION_IN_LNSRCH'}\n",
      "  \" state: %s\" % convergence_dict)\n"
     ]
    },
    {
     "name": "stdout",
     "output_type": "stream",
     "text": [
      "10.2744087713\n"
     ]
    },
    {
     "name": "stderr",
     "output_type": "stream",
     "text": [
      "/Users/tsuzuki/anaconda3/lib/python3.4/site-packages/sklearn/gaussian_process/gpr.py:427: UserWarning: fmin_l_bfgs_b terminated abnormally with the  state: {'nit': 4, 'warnflag': 2, 'grad': array([-0.00570507]), 'funcalls': 51, 'task': b'ABNORMAL_TERMINATION_IN_LNSRCH'}\n",
      "  \" state: %s\" % convergence_dict)\n",
      "/Users/tsuzuki/anaconda3/lib/python3.4/site-packages/sklearn/gaussian_process/gpr.py:427: UserWarning: fmin_l_bfgs_b terminated abnormally with the  state: {'nit': 4, 'warnflag': 2, 'grad': array([ 0.00225073]), 'funcalls': 53, 'task': b'ABNORMAL_TERMINATION_IN_LNSRCH'}\n",
      "  \" state: %s\" % convergence_dict)\n",
      "/Users/tsuzuki/anaconda3/lib/python3.4/site-packages/sklearn/gaussian_process/gpr.py:427: UserWarning: fmin_l_bfgs_b terminated abnormally with the  state: {'nit': 4, 'warnflag': 2, 'grad': array([-0.04311155]), 'funcalls': 50, 'task': b'ABNORMAL_TERMINATION_IN_LNSRCH'}\n",
      "  \" state: %s\" % convergence_dict)\n",
      "/Users/tsuzuki/anaconda3/lib/python3.4/site-packages/sklearn/gaussian_process/gpr.py:427: UserWarning: fmin_l_bfgs_b terminated abnormally with the  state: {'nit': 2, 'warnflag': 2, 'grad': array([-0.00422302]), 'funcalls': 52, 'task': b'ABNORMAL_TERMINATION_IN_LNSRCH'}\n",
      "  \" state: %s\" % convergence_dict)\n"
     ]
    },
    {
     "name": "stdout",
     "output_type": "stream",
     "text": [
      "10.2123258089\n"
     ]
    },
    {
     "name": "stderr",
     "output_type": "stream",
     "text": [
      "/Users/tsuzuki/anaconda3/lib/python3.4/site-packages/sklearn/gaussian_process/gpr.py:427: UserWarning: fmin_l_bfgs_b terminated abnormally with the  state: {'nit': 0, 'warnflag': 2, 'grad': array([-98.71550889]), 'funcalls': 21, 'task': b'ABNORMAL_TERMINATION_IN_LNSRCH'}\n",
      "  \" state: %s\" % convergence_dict)\n",
      "/Users/tsuzuki/anaconda3/lib/python3.4/site-packages/sklearn/gaussian_process/gpr.py:427: UserWarning: fmin_l_bfgs_b terminated abnormally with the  state: {'nit': 1, 'warnflag': 2, 'grad': array([-69.83081467]), 'funcalls': 28, 'task': b'ABNORMAL_TERMINATION_IN_LNSRCH'}\n",
      "  \" state: %s\" % convergence_dict)\n",
      "/Users/tsuzuki/anaconda3/lib/python3.4/site-packages/sklearn/gaussian_process/gpr.py:427: UserWarning: fmin_l_bfgs_b terminated abnormally with the  state: {'nit': 1, 'warnflag': 2, 'grad': array([-337.95654849]), 'funcalls': 27, 'task': b'ABNORMAL_TERMINATION_IN_LNSRCH'}\n",
      "  \" state: %s\" % convergence_dict)\n"
     ]
    },
    {
     "name": "stdout",
     "output_type": "stream",
     "text": [
      "10.076940483\n"
     ]
    },
    {
     "name": "stderr",
     "output_type": "stream",
     "text": [
      "/Users/tsuzuki/anaconda3/lib/python3.4/site-packages/sklearn/gaussian_process/gpr.py:427: UserWarning: fmin_l_bfgs_b terminated abnormally with the  state: {'nit': 2, 'warnflag': 2, 'grad': array([-0.00023559]), 'funcalls': 52, 'task': b'ABNORMAL_TERMINATION_IN_LNSRCH'}\n",
      "  \" state: %s\" % convergence_dict)\n",
      "/Users/tsuzuki/anaconda3/lib/python3.4/site-packages/sklearn/gaussian_process/gpr.py:427: UserWarning: fmin_l_bfgs_b terminated abnormally with the  state: {'nit': 4, 'warnflag': 2, 'grad': array([-0.02620524]), 'funcalls': 57, 'task': b'ABNORMAL_TERMINATION_IN_LNSRCH'}\n",
      "  \" state: %s\" % convergence_dict)\n",
      "/Users/tsuzuki/anaconda3/lib/python3.4/site-packages/sklearn/gaussian_process/gpr.py:427: UserWarning: fmin_l_bfgs_b terminated abnormally with the  state: {'nit': 5, 'warnflag': 2, 'grad': array([-0.00253882]), 'funcalls': 51, 'task': b'ABNORMAL_TERMINATION_IN_LNSRCH'}\n",
      "  \" state: %s\" % convergence_dict)\n"
     ]
    },
    {
     "name": "stdout",
     "output_type": "stream",
     "text": [
      "9.7748706488\n"
     ]
    },
    {
     "name": "stderr",
     "output_type": "stream",
     "text": [
      "/Users/tsuzuki/anaconda3/lib/python3.4/site-packages/sklearn/gaussian_process/gpr.py:427: UserWarning: fmin_l_bfgs_b terminated abnormally with the  state: {'nit': 1, 'warnflag': 2, 'grad': array([-1126.99835819]), 'funcalls': 28, 'task': b'ABNORMAL_TERMINATION_IN_LNSRCH'}\n",
      "  \" state: %s\" % convergence_dict)\n"
     ]
    },
    {
     "name": "stdout",
     "output_type": "stream",
     "text": [
      "9.17948282628\n"
     ]
    },
    {
     "name": "stderr",
     "output_type": "stream",
     "text": [
      "/Users/tsuzuki/anaconda3/lib/python3.4/site-packages/sklearn/gaussian_process/gpr.py:427: UserWarning: fmin_l_bfgs_b terminated abnormally with the  state: {'nit': 4, 'warnflag': 2, 'grad': array([ 0.00116765]), 'funcalls': 54, 'task': b'ABNORMAL_TERMINATION_IN_LNSRCH'}\n",
      "  \" state: %s\" % convergence_dict)\n",
      "/Users/tsuzuki/anaconda3/lib/python3.4/site-packages/sklearn/gaussian_process/gpr.py:427: UserWarning: fmin_l_bfgs_b terminated abnormally with the  state: {'nit': 4, 'warnflag': 2, 'grad': array([ 0.13848579]), 'funcalls': 54, 'task': b'ABNORMAL_TERMINATION_IN_LNSRCH'}\n",
      "  \" state: %s\" % convergence_dict)\n"
     ]
    },
    {
     "name": "stdout",
     "output_type": "stream",
     "text": [
      "8.17282463858\n"
     ]
    },
    {
     "name": "stderr",
     "output_type": "stream",
     "text": [
      "/Users/tsuzuki/anaconda3/lib/python3.4/site-packages/sklearn/gaussian_process/gpr.py:427: UserWarning: fmin_l_bfgs_b terminated abnormally with the  state: {'nit': 6, 'warnflag': 2, 'grad': array([-0.01309565]), 'funcalls': 56, 'task': b'ABNORMAL_TERMINATION_IN_LNSRCH'}\n",
      "  \" state: %s\" % convergence_dict)\n",
      "/Users/tsuzuki/anaconda3/lib/python3.4/site-packages/sklearn/gaussian_process/gpr.py:427: UserWarning: fmin_l_bfgs_b terminated abnormally with the  state: {'nit': 5, 'warnflag': 2, 'grad': array([-0.13577106]), 'funcalls': 60, 'task': b'ABNORMAL_TERMINATION_IN_LNSRCH'}\n",
      "  \" state: %s\" % convergence_dict)\n"
     ]
    },
    {
     "name": "stdout",
     "output_type": "stream",
     "text": [
      "6.93076534143\n"
     ]
    },
    {
     "name": "stderr",
     "output_type": "stream",
     "text": [
      "/Users/tsuzuki/anaconda3/lib/python3.4/site-packages/sklearn/gaussian_process/gpr.py:427: UserWarning: fmin_l_bfgs_b terminated abnormally with the  state: {'nit': 4, 'warnflag': 2, 'grad': array([-0.03938499]), 'funcalls': 55, 'task': b'ABNORMAL_TERMINATION_IN_LNSRCH'}\n",
      "  \" state: %s\" % convergence_dict)\n",
      "/Users/tsuzuki/anaconda3/lib/python3.4/site-packages/sklearn/gaussian_process/gpr.py:427: UserWarning: fmin_l_bfgs_b terminated abnormally with the  state: {'nit': 3, 'warnflag': 2, 'grad': array([ 0.0064621]), 'funcalls': 48, 'task': b'ABNORMAL_TERMINATION_IN_LNSRCH'}\n",
      "  \" state: %s\" % convergence_dict)\n"
     ]
    },
    {
     "name": "stdout",
     "output_type": "stream",
     "text": [
      "5.64417043993\n"
     ]
    },
    {
     "name": "stderr",
     "output_type": "stream",
     "text": [
      "/Users/tsuzuki/anaconda3/lib/python3.4/site-packages/sklearn/gaussian_process/gpr.py:427: UserWarning: fmin_l_bfgs_b terminated abnormally with the  state: {'nit': 4, 'warnflag': 2, 'grad': array([-0.03981449]), 'funcalls': 57, 'task': b'ABNORMAL_TERMINATION_IN_LNSRCH'}\n",
      "  \" state: %s\" % convergence_dict)\n",
      "/Users/tsuzuki/anaconda3/lib/python3.4/site-packages/sklearn/gaussian_process/gpr.py:427: UserWarning: fmin_l_bfgs_b terminated abnormally with the  state: {'nit': 2, 'warnflag': 2, 'grad': array([ 0.00027052]), 'funcalls': 51, 'task': b'ABNORMAL_TERMINATION_IN_LNSRCH'}\n",
      "  \" state: %s\" % convergence_dict)\n"
     ]
    },
    {
     "name": "stdout",
     "output_type": "stream",
     "text": [
      "4.61576777314\n"
     ]
    }
   ],
   "source": [
    "#define black box function\n",
    "num=2\n",
    "for i in range(n_sample):\n",
    "    print (\"iteration {0}\".format(i))\n",
    "    bo = BayesianOptimization(lambda x1,x2,x3,x4, x5: -(x1**2+x2**2+x3**2+x4**2+x5**2)\n",
    "                                 +(np.cos(x1*30)+np.cos(x2*30)+np.cos(x3*30)+np.cos(x4*30)+np.cos(x5*30))-5, \n",
    "                               {'x1': (-1*ran, ran),'x2': (-1*ran, ran),'x3': (-1*ran, ran),'x4': (-1*ran, ran),'x5': (-1*ran, ran)})\n",
    "    \n",
    "    value = bo.maximize(init_points=1, n_iter=1, acq='mi', kappa=3.29, value=True)\n",
    "    min_val = -1*value\n",
    "    min_vals[num] = np.append(min_vals[num], [min_val])\n",
    "    \n",
    "    count=2\n",
    "    while min_val > 5:\n",
    "        count=count + 1\n",
    "        value = bo.maximize(init_points=1, n_iter=1, acq='mi', kappa=3.29, value=True)\n",
    "        if min_val > -1*value:\n",
    "            min_val =-1* value\n",
    "        \n",
    "        min_vals[num] = np.append(min_vals[num], [min_val])\n",
    "        print (min_val)\n",
    "    counts[num]=np.append(counts[num], [count])"
   ]
  },
  {
   "cell_type": "code",
   "execution_count": 1,
   "metadata": {
    "collapsed": false
   },
   "outputs": [
    {
     "ename": "NameError",
     "evalue": "name 'counts' is not defined",
     "output_type": "error",
     "traceback": [
      "\u001b[0;31m---------------------------------------------------------------------------\u001b[0m",
      "\u001b[0;31mNameError\u001b[0m                                 Traceback (most recent call last)",
      "\u001b[0;32m<ipython-input-1-049081028702>\u001b[0m in \u001b[0;36m<module>\u001b[0;34m()\u001b[0m\n\u001b[0;32m----> 1\u001b[0;31m \u001b[0mcounts\u001b[0m\u001b[0;34m[\u001b[0m\u001b[0;36m2\u001b[0m\u001b[0;34m]\u001b[0m\u001b[0;34m\u001b[0m\u001b[0m\n\u001b[0m",
      "\u001b[0;31mNameError\u001b[0m: name 'counts' is not defined"
     ]
    }
   ],
   "source": [
    "counts[2]"
   ]
  },
  {
   "cell_type": "markdown",
   "metadata": {},
   "source": [
    "#### dim=10"
   ]
  },
  {
   "cell_type": "code",
   "execution_count": null,
   "metadata": {
    "collapsed": false
   },
   "outputs": [
    {
     "name": "stdout",
     "output_type": "stream",
     "text": [
      "iteration 0\n",
      "119.574034363\n",
      "119.574034363\n",
      "100.922821536\n",
      "100.922821536\n",
      "100.922821536\n",
      "100.922821536\n",
      "59.6278486158\n",
      "59.6278486158\n"
     ]
    }
   ],
   "source": [
    "num=3\n",
    "for i in range(n_sample):\n",
    "    print (\"iteration {0}\".format(i))\n",
    "    bo = BayesianOptimization(lambda x1,x2,x3,x4, x5, x6,x7,x8,x9, x10: \\\n",
    "                               -(x1**2+x2**2+x3**2+x4**2+x5**2+x6**2+x7**2+x8**2+x9**2+x10**2)\n",
    "                                 +(np.cos(x1*30)+np.cos(x2*30)+np.cos(x3*30)+np.cos(x4*30)+np.cos(x5*30)\n",
    "                                  +np.cos(x6*30)+np.cos(x7*30)+np.cos(x8*30)+np.cos(x9*30)+np.cos(x10*30))-10, \n",
    "                               {'x1': (-1*ran, ran),'x2': (-1*ran, ran),'x3': (-1*ran, ran),'x4': (-1*ran, ran),'x5': (-1*ran, ran),\n",
    "                                'x6': (-1*ran, ran),'x7': (-1*ran, ran),'x8': (-1*ran, ran),'x9': (-1*ran, ran),'x10': (-1*ran, ran)})\n",
    "    \n",
    "    value = bo.maximize(init_points=1, n_iter=1, acq='mi', kappa=3.29, value=True)\n",
    "    min_val = -1*value\n",
    "    min_vals[num] = np.append(min_vals[num], [min_val])\n",
    "    \n",
    "    count=2\n",
    "    while min_val > 5:\n",
    "        count=count + 1\n",
    "        value = bo.maximize(init_points=1, n_iter=1, acq='mi', kappa=3.29, value=True)\n",
    "        if min_val > -1*value:\n",
    "            min_val =-1* value\n",
    "        \n",
    "        min_vals[num] = np.append(min_vals[num], [min_val])\n",
    "        print (min_val)\n",
    "    counts[num]=np.append(counts[num], [count])"
   ]
  },
  {
   "cell_type": "code",
   "execution_count": null,
   "metadata": {
    "collapsed": true
   },
   "outputs": [],
   "source": [
    "counts[3]"
   ]
  },
  {
   "cell_type": "markdown",
   "metadata": {},
   "source": [
    "#### dim=20"
   ]
  },
  {
   "cell_type": "code",
   "execution_count": null,
   "metadata": {
    "code_folding": [],
    "collapsed": true
   },
   "outputs": [],
   "source": [
    "num=4\n",
    "for i in range(n_sample):\n",
    "    print (\"iteration {0}\".format(i))\n",
    "    bo = BayesianOptimization(lambda x1,x2,x3,x4, x5, x6,x7,x8,x9, x10\\\n",
    "                                                                   ,x11,x12,x13,x14, x15, x16,x17,x18,x19, x20: \\\n",
    "                               -(x1**2+x2**2+x3**2+x4**2+x5**2+x6**2+x7**2+x8**2+x9**2+x10**2\n",
    "                                +x11**2+x12**2+x13**2+x14**2+x15**2+x16**2+x17**2+x18**2+x19**2+x20**2)\n",
    "                                 +(np.cos(x1*30)+np.cos(x2*30)+np.cos(x3*30)+np.cos(x4*30)+np.cos(x5*30)\n",
    "                                  +np.cos(x6*30)+np.cos(x7*30)+np.cos(x8*30)+np.cos(x9*30)+np.cos(x10*30)\n",
    "                                  +np.cos(x11*30)+np.cos(x12*30)+np.cos(x13*30)+np.cos(x14*30)+np.cos(x15*30)\n",
    "                                  +np.cos(x16*30)+np.cos(x17*30)+np.cos(x18*30)+np.cos(x19*30)+np.cos(x20*30))\n",
    "                               -20, \n",
    "                               {'x1': (-1*ran, ran),'x2': (-1*ran, ran),'x3': (-1*ran, ran),'x4': (-1*ran, ran),'x5': (-1*ran, ran),\n",
    "                                'x6': (-1*ran, ran),'x7': (-1*ran, ran),'x8': (-1*ran, ran),'x9': (-1*ran, ran),'x10': (-1*ran, ran),\n",
    "                               'x11': (-1*ran, ran),'x12': (-1*ran, ran),'x13': (-1*ran, ran),'x14': (-1*ran, ran),'x15': (-1*ran, ran),\n",
    "                                'x16': (-1*ran, ran),'x17': (-1*ran, ran),'x18': (-1*ran, ran),'x19': (-1*ran, ran),'x20': (-1*ran, ran)})\n",
    "    \n",
    "    value = bo.maximize(init_points=1, n_iter=1, acq='mi', kappa=3.29, value=True)\n",
    "    min_val = -1*value\n",
    "    min_vals[num] = np.append(min_vals[num], [min_val])\n",
    "    \n",
    "    count=2\n",
    "    while min_val > 5:\n",
    "        count=count + 1\n",
    "        value = bo.maximize(init_points=1, n_iter=1, acq='mi', kappa=3.29, value=True)\n",
    "        if min_val > -1*value:\n",
    "            min_val =-1* value\n",
    "        \n",
    "        min_vals[num] = np.append(min_vals[num], [min_val])\n",
    "        print (min_val)\n",
    "    counts[num]=np.append(counts[num], [count])"
   ]
  },
  {
   "cell_type": "code",
   "execution_count": null,
   "metadata": {
    "collapsed": true
   },
   "outputs": [],
   "source": [
    "counts[4]"
   ]
  },
  {
   "cell_type": "markdown",
   "metadata": {},
   "source": [
    "#### dim=40"
   ]
  },
  {
   "cell_type": "code",
   "execution_count": null,
   "metadata": {
    "collapsed": true
   },
   "outputs": [],
   "source": [
    "num=5\n",
    "for i in range(n_sample):\n",
    "    print (\"iteration {0}\".format(i))\n",
    "    bo = BayesianOptimization(lambda x1,x2,x3,x4, x5, x6,x7,x8,x9, x10\\\n",
    "                                                                   ,x11,x12,x13,x14, x15, x16,x17,x18,x19, x20\\\n",
    "                                                                   ,x21,x22,x23,x24, x25, x26,x27,x28,x29, x30\\\n",
    "                                                                   ,x31,x32,x33,x34, x35, x36,x37,x38,x39, x40: \\\n",
    "                               -(x1**2+x2**2+x3**2+x4**2+x5**2+x6**2+x7**2+x8**2+x9**2+x10**2\n",
    "                                +x11**2+x12**2+x13**2+x14**2+x15**2+x16**2+x17**2+x18**2+x19**2+x20**2\n",
    "                                +x21**2+x22**2+x23**2+x24**2+x25**2+x26**2+x27**2+x28**2+x29**2+x30**2\n",
    "                                +x31**2+x32**2+x33**2+x34**2+x35**2+x36**2+x37**2+x38**2+x39**2+x40**2)\n",
    "                                 +(np.cos(x1*30)+np.cos(x2*30)+np.cos(x3*30)+np.cos(x4*30)+np.cos(x5*30)\n",
    "                                  +np.cos(x6*30)+np.cos(x7*30)+np.cos(x8*30)+np.cos(x9*30)+np.cos(x10*30)\n",
    "                                  +np.cos(x11*30)+np.cos(x12*30)+np.cos(x13*30)+np.cos(x14*30)+np.cos(x15*30)\n",
    "                                  +np.cos(x16*30)+np.cos(x17*30)+np.cos(x18*30)+np.cos(x19*30)+np.cos(x20*30)\n",
    "                                  +np.cos(x21*30)+np.cos(x22*30)+np.cos(x23*30)+np.cos(x24*30)+np.cos(x25*30)\n",
    "                                  +np.cos(x26*30)+np.cos(x27*30)+np.cos(x28*30)+np.cos(x29*30)+np.cos(x30*30)\n",
    "                                  +np.cos(x31*30)+np.cos(x32*30)+np.cos(x33*30)+np.cos(x34*30)+np.cos(x35*30)\n",
    "                                  +np.cos(x36*30)+np.cos(x37*30)+np.cos(x38*30)+np.cos(x39*30)+np.cos(x40*30))\n",
    "                               -40, \n",
    "                               {'x1': (-1*ran, ran),'x2': (-1*ran, ran),'x3': (-1*ran, ran),'x4': (-1*ran, ran),'x5': (-1*ran, ran),\n",
    "                                'x6': (-1*ran, ran),'x7': (-1*ran, ran),'x8': (-1*ran, ran),'x9': (-1*ran, ran),'x10': (-1*ran, ran),\n",
    "                               'x11': (-1*ran, ran),'x12': (-1*ran, ran),'x13': (-1*ran, ran),'x14': (-1*ran, ran),'x15': (-1*ran, ran),\n",
    "                                'x16': (-1*ran, ran),'x17': (-1*ran, ran),'x18': (-1*ran, ran),'x19': (-1*ran, ran),'x20': (-1*ran, ran)\n",
    "                               'x21': (-1*ran, ran),'x22': (-1*ran, ran),'x23': (-1*ran, ran),'x24': (-1*ran, ran),'x25': (-1*ran, ran),\n",
    "                                'x26': (-1*ran, ran),'x27': (-1*ran, ran),'x28': (-1*ran, ran),'x29': (-1*ran, ran),'x30': (-1*ran, ran),\n",
    "                               'x31': (-1*ran, ran),'x32': (-1*ran, ran),'x33': (-1*ran, ran),'x34': (-1*ran, ran),'x35': (-1*ran, ran),\n",
    "                                'x36': (-1*ran, ran),'x37': (-1*ran, ran),'x38': (-1*ran, ran),'x39': (-1*ran, ran),'x40': (-1*ran, ran)})\n",
    "    \n",
    "    value = bo.maximize(init_points=1, n_iter=1, acq='mi', kappa=3.29, value=True)\n",
    "    min_val = -1*value\n",
    "    min_vals[num] = np.append(min_vals[num], [min_val])\n",
    "    \n",
    "    count=2\n",
    "    while min_val > 5:\n",
    "        count=count + 1\n",
    "        value = bo.maximize(init_points=1, n_iter=1, acq='mi', kappa=3.29, value=True)\n",
    "        if min_val > -1*value:\n",
    "            min_val =-1* value\n",
    "        \n",
    "        min_vals[num] = np.append(min_vals[num], [min_val])\n",
    "        print (min_val)\n",
    "    counts[num]=np.append(counts[num], [count])"
   ]
  },
  {
   "cell_type": "code",
   "execution_count": null,
   "metadata": {
    "collapsed": true
   },
   "outputs": [],
   "source": [
    "counts[5]"
   ]
  },
  {
   "cell_type": "markdown",
   "metadata": {},
   "source": [
    "#### dim=80"
   ]
  },
  {
   "cell_type": "code",
   "execution_count": null,
   "metadata": {
    "collapsed": true
   },
   "outputs": [],
   "source": []
  }
 ],
 "metadata": {
  "anaconda-cloud": {},
  "kernelspec": {
   "display_name": "Python [default]",
   "language": "python",
   "name": "python3"
  },
  "language_info": {
   "codemirror_mode": {
    "name": "ipython",
    "version": 3
   },
   "file_extension": ".py",
   "mimetype": "text/x-python",
   "name": "python",
   "nbconvert_exporter": "python",
   "pygments_lexer": "ipython3",
   "version": "3.4.5"
  },
  "latex_envs": {
   "bibliofile": "biblio.bib",
   "cite_by": "apalike",
   "current_citInitial": 1,
   "eqLabelWithNumbers": true,
   "eqNumInitial": 0
  },
  "nav_menu": {},
  "toc": {
   "navigate_menu": true,
   "number_sections": true,
   "sideBar": true,
   "threshold": 6,
   "toc_cell": false,
   "toc_section_display": "block",
   "toc_window_display": false
  }
 },
 "nbformat": 4,
 "nbformat_minor": 1
}
