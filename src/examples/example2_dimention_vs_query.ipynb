{
 "cells": [
  {
   "cell_type": "markdown",
   "metadata": {},
   "source": [
    "# Bayesian Optimization test"
   ]
  },
  {
   "cell_type": "code",
   "execution_count": 1,
   "metadata": {
    "collapsed": false,
    "scrolled": true
   },
   "outputs": [
    {
     "data": {
      "text/plain": [
       "'/Users/tsuzuki/bayesopt_prototype/src/examples'"
      ]
     },
     "execution_count": 1,
     "metadata": {},
     "output_type": "execute_result"
    }
   ],
   "source": [
    "pwd"
   ]
  },
  {
   "cell_type": "code",
   "execution_count": 3,
   "metadata": {
    "collapsed": false,
    "scrolled": true
   },
   "outputs": [],
   "source": [
    "%matplotlib inline\n",
    "import sys\n",
    "sys.path.append(\"../\")\n",
    "import numpy as np\n",
    "import matplotlib.pyplot as plt\n",
    "\n",
    "#sys.path.append( '/Users/tsuzuki/BayesianOptimization/bayes_opt')\n",
    "#from bayesian_optimization import BayesianOptimization\n",
    "#from helpers import UtilityFunction\n",
    "from bayes_opt import BayesianOptimization"
   ]
  },
  {
   "cell_type": "markdown",
   "metadata": {},
   "source": [
    "## Experiments"
   ]
  },
  {
   "cell_type": "markdown",
   "metadata": {},
   "source": [
    "### convex"
   ]
  },
  {
   "cell_type": "code",
   "execution_count": 27,
   "metadata": {
    "code_folding": [
     12,
     14,
     16,
     20,
     27
    ],
    "collapsed": false
   },
   "outputs": [
    {
     "name": "stdout",
     "output_type": "stream",
     "text": [
      "sample 0\n",
      "iter 0\n",
      "iter 1\n",
      "iter 2\n",
      "iter 3\n",
      "iter 4\n",
      "iter 5\n",
      "iter 6\n",
      "iter 7\n",
      "iter 8\n",
      "iter 9\n",
      "iter 10\n",
      "iter 11\n",
      "iter 12\n",
      "iter 13\n",
      "iter 14\n",
      "iter 15\n",
      "iter 16\n",
      "iter 17\n"
     ]
    },
    {
     "name": "stderr",
     "output_type": "stream",
     "text": [
      "/Users/tsuzuki/anaconda3/lib/python3.4/site-packages/sklearn/gaussian_process/gpr.py:427: UserWarning: fmin_l_bfgs_b terminated abnormally with the  state: {'nit': 3, 'warnflag': 2, 'task': b'ABNORMAL_TERMINATION_IN_LNSRCH', 'funcalls': 49, 'grad': array([-0.00238672])}\n",
      "  \" state: %s\" % convergence_dict)\n"
     ]
    },
    {
     "name": "stdout",
     "output_type": "stream",
     "text": [
      "iter 18\n"
     ]
    },
    {
     "name": "stderr",
     "output_type": "stream",
     "text": [
      "/Users/tsuzuki/anaconda3/lib/python3.4/site-packages/sklearn/gaussian_process/gpr.py:427: UserWarning: fmin_l_bfgs_b terminated abnormally with the  state: {'nit': 3, 'warnflag': 2, 'task': b'ABNORMAL_TERMINATION_IN_LNSRCH', 'funcalls': 51, 'grad': array([ 0.00160261])}\n",
      "  \" state: %s\" % convergence_dict)\n"
     ]
    },
    {
     "name": "stdout",
     "output_type": "stream",
     "text": [
      "iter 19\n",
      "iter 20\n",
      "iter 21\n"
     ]
    },
    {
     "name": "stderr",
     "output_type": "stream",
     "text": [
      "/Users/tsuzuki/anaconda3/lib/python3.4/site-packages/sklearn/gaussian_process/gpr.py:427: UserWarning: fmin_l_bfgs_b terminated abnormally with the  state: {'nit': 4, 'warnflag': 2, 'task': b'ABNORMAL_TERMINATION_IN_LNSRCH', 'funcalls': 54, 'grad': array([ 0.00037628])}\n",
      "  \" state: %s\" % convergence_dict)\n"
     ]
    },
    {
     "name": "stdout",
     "output_type": "stream",
     "text": [
      "iter 22\n",
      "iter 23\n"
     ]
    },
    {
     "name": "stderr",
     "output_type": "stream",
     "text": [
      "/Users/tsuzuki/anaconda3/lib/python3.4/site-packages/sklearn/gaussian_process/gpr.py:427: UserWarning: fmin_l_bfgs_b terminated abnormally with the  state: {'nit': 2, 'warnflag': 2, 'task': b'ABNORMAL_TERMINATION_IN_LNSRCH', 'funcalls': 51, 'grad': array([ -2.10293251e-05])}\n",
      "  \" state: %s\" % convergence_dict)\n"
     ]
    },
    {
     "name": "stdout",
     "output_type": "stream",
     "text": [
      "iter 24\n",
      "iter 25\n"
     ]
    },
    {
     "name": "stderr",
     "output_type": "stream",
     "text": [
      "/Users/tsuzuki/anaconda3/lib/python3.4/site-packages/sklearn/gaussian_process/gpr.py:427: UserWarning: fmin_l_bfgs_b terminated abnormally with the  state: {'nit': 2, 'warnflag': 2, 'task': b'ABNORMAL_TERMINATION_IN_LNSRCH', 'funcalls': 52, 'grad': array([ 0.00012132])}\n",
      "  \" state: %s\" % convergence_dict)\n"
     ]
    },
    {
     "name": "stdout",
     "output_type": "stream",
     "text": [
      "iter 26\n"
     ]
    },
    {
     "name": "stderr",
     "output_type": "stream",
     "text": [
      "/Users/tsuzuki/anaconda3/lib/python3.4/site-packages/sklearn/gaussian_process/gpr.py:427: UserWarning: fmin_l_bfgs_b terminated abnormally with the  state: {'nit': 4, 'warnflag': 2, 'task': b'ABNORMAL_TERMINATION_IN_LNSRCH', 'funcalls': 60, 'grad': array([ 0.0006949])}\n",
      "  \" state: %s\" % convergence_dict)\n",
      "/Users/tsuzuki/anaconda3/lib/python3.4/site-packages/sklearn/gaussian_process/gpr.py:427: UserWarning: fmin_l_bfgs_b terminated abnormally with the  state: {'nit': 2, 'warnflag': 2, 'task': b'ABNORMAL_TERMINATION_IN_LNSRCH', 'funcalls': 53, 'grad': array([ 0.00057512])}\n",
      "  \" state: %s\" % convergence_dict)\n"
     ]
    },
    {
     "name": "stdout",
     "output_type": "stream",
     "text": [
      "iter 27\n",
      "iter 28\n"
     ]
    },
    {
     "name": "stderr",
     "output_type": "stream",
     "text": [
      "/Users/tsuzuki/anaconda3/lib/python3.4/site-packages/sklearn/gaussian_process/gpr.py:427: UserWarning: fmin_l_bfgs_b terminated abnormally with the  state: {'nit': 5, 'warnflag': 2, 'task': b'ABNORMAL_TERMINATION_IN_LNSRCH', 'funcalls': 54, 'grad': array([ 0.00169597])}\n",
      "  \" state: %s\" % convergence_dict)\n"
     ]
    },
    {
     "name": "stdout",
     "output_type": "stream",
     "text": [
      "iter 29\n",
      "iter 30\n",
      "iter 31\n"
     ]
    },
    {
     "name": "stderr",
     "output_type": "stream",
     "text": [
      "/Users/tsuzuki/anaconda3/lib/python3.4/site-packages/sklearn/gaussian_process/gpr.py:427: UserWarning: fmin_l_bfgs_b terminated abnormally with the  state: {'nit': 2, 'warnflag': 2, 'task': b'ABNORMAL_TERMINATION_IN_LNSRCH', 'funcalls': 49, 'grad': array([-56.93322464])}\n",
      "  \" state: %s\" % convergence_dict)\n"
     ]
    },
    {
     "name": "stdout",
     "output_type": "stream",
     "text": [
      "iter 32\n"
     ]
    },
    {
     "name": "stderr",
     "output_type": "stream",
     "text": [
      "/Users/tsuzuki/anaconda3/lib/python3.4/site-packages/sklearn/gaussian_process/gpr.py:427: UserWarning: fmin_l_bfgs_b terminated abnormally with the  state: {'nit': 5, 'warnflag': 2, 'task': b'ABNORMAL_TERMINATION_IN_LNSRCH', 'funcalls': 60, 'grad': array([ -4.34962567e-05])}\n",
      "  \" state: %s\" % convergence_dict)\n",
      "/Users/tsuzuki/anaconda3/lib/python3.4/site-packages/sklearn/gaussian_process/gpr.py:427: UserWarning: fmin_l_bfgs_b terminated abnormally with the  state: {'nit': 6, 'warnflag': 2, 'task': b'ABNORMAL_TERMINATION_IN_LNSRCH', 'funcalls': 55, 'grad': array([-0.00191077])}\n",
      "  \" state: %s\" % convergence_dict)\n",
      "/Users/tsuzuki/anaconda3/lib/python3.4/site-packages/sklearn/gaussian_process/gpr.py:427: UserWarning: fmin_l_bfgs_b terminated abnormally with the  state: {'nit': 5, 'warnflag': 2, 'task': b'ABNORMAL_TERMINATION_IN_LNSRCH', 'funcalls': 58, 'grad': array([-0.00073034])}\n",
      "  \" state: %s\" % convergence_dict)\n",
      "/Users/tsuzuki/anaconda3/lib/python3.4/site-packages/sklearn/gaussian_process/gpr.py:427: UserWarning: fmin_l_bfgs_b terminated abnormally with the  state: {'nit': 4, 'warnflag': 2, 'task': b'ABNORMAL_TERMINATION_IN_LNSRCH', 'funcalls': 50, 'grad': array([-0.01333366])}\n",
      "  \" state: %s\" % convergence_dict)\n"
     ]
    },
    {
     "name": "stdout",
     "output_type": "stream",
     "text": [
      "iter 33\n"
     ]
    },
    {
     "name": "stderr",
     "output_type": "stream",
     "text": [
      "/Users/tsuzuki/anaconda3/lib/python3.4/site-packages/sklearn/gaussian_process/gpr.py:427: UserWarning: fmin_l_bfgs_b terminated abnormally with the  state: {'nit': 1, 'warnflag': 2, 'task': b'ABNORMAL_TERMINATION_IN_LNSRCH', 'funcalls': 29, 'grad': array([-250.24867436])}\n",
      "  \" state: %s\" % convergence_dict)\n",
      "/Users/tsuzuki/anaconda3/lib/python3.4/site-packages/sklearn/gaussian_process/gpr.py:427: UserWarning: fmin_l_bfgs_b terminated abnormally with the  state: {'nit': 2, 'warnflag': 2, 'task': b'ABNORMAL_TERMINATION_IN_LNSRCH', 'funcalls': 49, 'grad': array([ 0.00212211])}\n",
      "  \" state: %s\" % convergence_dict)\n",
      "/Users/tsuzuki/anaconda3/lib/python3.4/site-packages/sklearn/gaussian_process/gpr.py:427: UserWarning: fmin_l_bfgs_b terminated abnormally with the  state: {'nit': 4, 'warnflag': 2, 'task': b'ABNORMAL_TERMINATION_IN_LNSRCH', 'funcalls': 55, 'grad': array([ 0.00194331])}\n",
      "  \" state: %s\" % convergence_dict)\n"
     ]
    },
    {
     "name": "stdout",
     "output_type": "stream",
     "text": [
      "iter 34\n"
     ]
    },
    {
     "name": "stderr",
     "output_type": "stream",
     "text": [
      "/Users/tsuzuki/anaconda3/lib/python3.4/site-packages/sklearn/gaussian_process/gpr.py:427: UserWarning: fmin_l_bfgs_b terminated abnormally with the  state: {'nit': 6, 'warnflag': 2, 'task': b'ABNORMAL_TERMINATION_IN_LNSRCH', 'funcalls': 60, 'grad': array([ 0.00741656])}\n",
      "  \" state: %s\" % convergence_dict)\n"
     ]
    },
    {
     "name": "stdout",
     "output_type": "stream",
     "text": [
      "iter 35\n"
     ]
    },
    {
     "name": "stderr",
     "output_type": "stream",
     "text": [
      "/Users/tsuzuki/anaconda3/lib/python3.4/site-packages/sklearn/gaussian_process/gpr.py:427: UserWarning: fmin_l_bfgs_b terminated abnormally with the  state: {'nit': 3, 'warnflag': 2, 'task': b'ABNORMAL_TERMINATION_IN_LNSRCH', 'funcalls': 51, 'grad': array([ 0.03331391])}\n",
      "  \" state: %s\" % convergence_dict)\n"
     ]
    },
    {
     "name": "stdout",
     "output_type": "stream",
     "text": [
      "iter 36\n"
     ]
    },
    {
     "name": "stderr",
     "output_type": "stream",
     "text": [
      "/Users/tsuzuki/anaconda3/lib/python3.4/site-packages/sklearn/gaussian_process/gpr.py:427: UserWarning: fmin_l_bfgs_b terminated abnormally with the  state: {'nit': 2, 'warnflag': 2, 'task': b'ABNORMAL_TERMINATION_IN_LNSRCH', 'funcalls': 49, 'grad': array([  9.87594775e-05])}\n",
      "  \" state: %s\" % convergence_dict)\n",
      "/Users/tsuzuki/anaconda3/lib/python3.4/site-packages/sklearn/gaussian_process/gpr.py:427: UserWarning: fmin_l_bfgs_b terminated abnormally with the  state: {'nit': 4, 'warnflag': 2, 'task': b'ABNORMAL_TERMINATION_IN_LNSRCH', 'funcalls': 51, 'grad': array([ 0.00157353])}\n",
      "  \" state: %s\" % convergence_dict)\n",
      "/Users/tsuzuki/anaconda3/lib/python3.4/site-packages/sklearn/gaussian_process/gpr.py:427: UserWarning: fmin_l_bfgs_b terminated abnormally with the  state: {'nit': 2, 'warnflag': 2, 'task': b'ABNORMAL_TERMINATION_IN_LNSRCH', 'funcalls': 52, 'grad': array([-0.00643587])}\n",
      "  \" state: %s\" % convergence_dict)\n",
      "/Users/tsuzuki/anaconda3/lib/python3.4/site-packages/sklearn/gaussian_process/gpr.py:427: UserWarning: fmin_l_bfgs_b terminated abnormally with the  state: {'nit': 4, 'warnflag': 2, 'task': b'ABNORMAL_TERMINATION_IN_LNSRCH', 'funcalls': 47, 'grad': array([-0.00686308])}\n",
      "  \" state: %s\" % convergence_dict)\n"
     ]
    },
    {
     "name": "stdout",
     "output_type": "stream",
     "text": [
      "iter 37\n"
     ]
    },
    {
     "name": "stderr",
     "output_type": "stream",
     "text": [
      "/Users/tsuzuki/anaconda3/lib/python3.4/site-packages/sklearn/gaussian_process/gpr.py:427: UserWarning: fmin_l_bfgs_b terminated abnormally with the  state: {'nit': 4, 'warnflag': 2, 'task': b'ABNORMAL_TERMINATION_IN_LNSRCH', 'funcalls': 55, 'grad': array([-0.00327201])}\n",
      "  \" state: %s\" % convergence_dict)\n",
      "/Users/tsuzuki/anaconda3/lib/python3.4/site-packages/sklearn/gaussian_process/gpr.py:427: UserWarning: fmin_l_bfgs_b terminated abnormally with the  state: {'nit': 3, 'warnflag': 2, 'task': b'ABNORMAL_TERMINATION_IN_LNSRCH', 'funcalls': 52, 'grad': array([ 0.00089996])}\n",
      "  \" state: %s\" % convergence_dict)\n"
     ]
    },
    {
     "name": "stdout",
     "output_type": "stream",
     "text": [
      "iter 38\n"
     ]
    },
    {
     "name": "stderr",
     "output_type": "stream",
     "text": [
      "/Users/tsuzuki/anaconda3/lib/python3.4/site-packages/sklearn/gaussian_process/gpr.py:427: UserWarning: fmin_l_bfgs_b terminated abnormally with the  state: {'nit': 3, 'warnflag': 2, 'task': b'ABNORMAL_TERMINATION_IN_LNSRCH', 'funcalls': 52, 'grad': array([ 0.01700046])}\n",
      "  \" state: %s\" % convergence_dict)\n",
      "/Users/tsuzuki/anaconda3/lib/python3.4/site-packages/sklearn/gaussian_process/gpr.py:427: UserWarning: fmin_l_bfgs_b terminated abnormally with the  state: {'nit': 4, 'warnflag': 2, 'task': b'ABNORMAL_TERMINATION_IN_LNSRCH', 'funcalls': 49, 'grad': array([ 0.00234434])}\n",
      "  \" state: %s\" % convergence_dict)\n"
     ]
    },
    {
     "name": "stdout",
     "output_type": "stream",
     "text": [
      "iter 39\n"
     ]
    },
    {
     "name": "stderr",
     "output_type": "stream",
     "text": [
      "/Users/tsuzuki/anaconda3/lib/python3.4/site-packages/sklearn/gaussian_process/gpr.py:427: UserWarning: fmin_l_bfgs_b terminated abnormally with the  state: {'nit': 4, 'warnflag': 2, 'task': b'ABNORMAL_TERMINATION_IN_LNSRCH', 'funcalls': 53, 'grad': array([ 0.01401388])}\n",
      "  \" state: %s\" % convergence_dict)\n",
      "/Users/tsuzuki/anaconda3/lib/python3.4/site-packages/sklearn/gaussian_process/gpr.py:427: UserWarning: fmin_l_bfgs_b terminated abnormally with the  state: {'nit': 4, 'warnflag': 2, 'task': b'ABNORMAL_TERMINATION_IN_LNSRCH', 'funcalls': 54, 'grad': array([ 0.00633131])}\n",
      "  \" state: %s\" % convergence_dict)\n",
      "/Users/tsuzuki/anaconda3/lib/python3.4/site-packages/sklearn/gaussian_process/gpr.py:427: UserWarning: fmin_l_bfgs_b terminated abnormally with the  state: {'nit': 3, 'warnflag': 2, 'task': b'ABNORMAL_TERMINATION_IN_LNSRCH', 'funcalls': 50, 'grad': array([ 0.0023133])}\n",
      "  \" state: %s\" % convergence_dict)\n"
     ]
    },
    {
     "name": "stdout",
     "output_type": "stream",
     "text": [
      "iter 40\n"
     ]
    },
    {
     "name": "stderr",
     "output_type": "stream",
     "text": [
      "/Users/tsuzuki/anaconda3/lib/python3.4/site-packages/sklearn/gaussian_process/gpr.py:427: UserWarning: fmin_l_bfgs_b terminated abnormally with the  state: {'nit': 4, 'warnflag': 2, 'task': b'ABNORMAL_TERMINATION_IN_LNSRCH', 'funcalls': 52, 'grad': array([ 0.00129622])}\n",
      "  \" state: %s\" % convergence_dict)\n",
      "/Users/tsuzuki/anaconda3/lib/python3.4/site-packages/sklearn/gaussian_process/gpr.py:427: UserWarning: fmin_l_bfgs_b terminated abnormally with the  state: {'nit': 2, 'warnflag': 2, 'task': b'ABNORMAL_TERMINATION_IN_LNSRCH', 'funcalls': 51, 'grad': array([-0.00035762])}\n",
      "  \" state: %s\" % convergence_dict)\n",
      "/Users/tsuzuki/anaconda3/lib/python3.4/site-packages/sklearn/gaussian_process/gpr.py:427: UserWarning: fmin_l_bfgs_b terminated abnormally with the  state: {'nit': 5, 'warnflag': 2, 'task': b'ABNORMAL_TERMINATION_IN_LNSRCH', 'funcalls': 48, 'grad': array([-0.00156903])}\n",
      "  \" state: %s\" % convergence_dict)\n"
     ]
    },
    {
     "name": "stdout",
     "output_type": "stream",
     "text": [
      "iter 41\n"
     ]
    },
    {
     "name": "stderr",
     "output_type": "stream",
     "text": [
      "/Users/tsuzuki/anaconda3/lib/python3.4/site-packages/sklearn/gaussian_process/gpr.py:427: UserWarning: fmin_l_bfgs_b terminated abnormally with the  state: {'nit': 3, 'warnflag': 2, 'task': b'ABNORMAL_TERMINATION_IN_LNSRCH', 'funcalls': 54, 'grad': array([ 0.06943698])}\n",
      "  \" state: %s\" % convergence_dict)\n",
      "/Users/tsuzuki/anaconda3/lib/python3.4/site-packages/sklearn/gaussian_process/gpr.py:427: UserWarning: fmin_l_bfgs_b terminated abnormally with the  state: {'nit': 2, 'warnflag': 2, 'task': b'ABNORMAL_TERMINATION_IN_LNSRCH', 'funcalls': 53, 'grad': array([ 0.00751633])}\n",
      "  \" state: %s\" % convergence_dict)\n",
      "/Users/tsuzuki/anaconda3/lib/python3.4/site-packages/sklearn/gaussian_process/gpr.py:427: UserWarning: fmin_l_bfgs_b terminated abnormally with the  state: {'nit': 2, 'warnflag': 2, 'task': b'ABNORMAL_TERMINATION_IN_LNSRCH', 'funcalls': 50, 'grad': array([-0.02698597])}\n",
      "  \" state: %s\" % convergence_dict)\n",
      "/Users/tsuzuki/anaconda3/lib/python3.4/site-packages/sklearn/gaussian_process/gpr.py:427: UserWarning: fmin_l_bfgs_b terminated abnormally with the  state: {'nit': 2, 'warnflag': 2, 'task': b'ABNORMAL_TERMINATION_IN_LNSRCH', 'funcalls': 31, 'grad': array([-14.45650599])}\n",
      "  \" state: %s\" % convergence_dict)\n",
      "/Users/tsuzuki/anaconda3/lib/python3.4/site-packages/sklearn/gaussian_process/gpr.py:427: UserWarning: fmin_l_bfgs_b terminated abnormally with the  state: {'nit': 3, 'warnflag': 2, 'task': b'ABNORMAL_TERMINATION_IN_LNSRCH', 'funcalls': 47, 'grad': array([ 0.000617])}\n",
      "  \" state: %s\" % convergence_dict)\n"
     ]
    },
    {
     "name": "stdout",
     "output_type": "stream",
     "text": [
      "iter 42\n"
     ]
    },
    {
     "name": "stderr",
     "output_type": "stream",
     "text": [
      "/Users/tsuzuki/anaconda3/lib/python3.4/site-packages/sklearn/gaussian_process/gpr.py:427: UserWarning: fmin_l_bfgs_b terminated abnormally with the  state: {'nit': 3, 'warnflag': 2, 'task': b'ABNORMAL_TERMINATION_IN_LNSRCH', 'funcalls': 54, 'grad': array([ 0.0171306])}\n",
      "  \" state: %s\" % convergence_dict)\n",
      "/Users/tsuzuki/anaconda3/lib/python3.4/site-packages/sklearn/gaussian_process/gpr.py:427: UserWarning: fmin_l_bfgs_b terminated abnormally with the  state: {'nit': 2, 'warnflag': 2, 'task': b'ABNORMAL_TERMINATION_IN_LNSRCH', 'funcalls': 51, 'grad': array([-0.00013777])}\n",
      "  \" state: %s\" % convergence_dict)\n"
     ]
    },
    {
     "name": "stdout",
     "output_type": "stream",
     "text": [
      "iter 43\n"
     ]
    },
    {
     "name": "stderr",
     "output_type": "stream",
     "text": [
      "/Users/tsuzuki/anaconda3/lib/python3.4/site-packages/sklearn/gaussian_process/gpr.py:427: UserWarning: fmin_l_bfgs_b terminated abnormally with the  state: {'nit': 4, 'warnflag': 2, 'task': b'ABNORMAL_TERMINATION_IN_LNSRCH', 'funcalls': 54, 'grad': array([-0.00096391])}\n",
      "  \" state: %s\" % convergence_dict)\n",
      "/Users/tsuzuki/anaconda3/lib/python3.4/site-packages/sklearn/gaussian_process/gpr.py:427: UserWarning: fmin_l_bfgs_b terminated abnormally with the  state: {'nit': 3, 'warnflag': 2, 'task': b'ABNORMAL_TERMINATION_IN_LNSRCH', 'funcalls': 53, 'grad': array([  3.66009772e-05])}\n",
      "  \" state: %s\" % convergence_dict)\n",
      "/Users/tsuzuki/anaconda3/lib/python3.4/site-packages/sklearn/gaussian_process/gpr.py:427: UserWarning: fmin_l_bfgs_b terminated abnormally with the  state: {'nit': 3, 'warnflag': 2, 'task': b'ABNORMAL_TERMINATION_IN_LNSRCH', 'funcalls': 50, 'grad': array([ 0.11461158])}\n",
      "  \" state: %s\" % convergence_dict)\n",
      "/Users/tsuzuki/anaconda3/lib/python3.4/site-packages/sklearn/gaussian_process/gpr.py:427: UserWarning: fmin_l_bfgs_b terminated abnormally with the  state: {'nit': 2, 'warnflag': 2, 'task': b'ABNORMAL_TERMINATION_IN_LNSRCH', 'funcalls': 52, 'grad': array([ 0.00012633])}\n",
      "  \" state: %s\" % convergence_dict)\n",
      "/Users/tsuzuki/anaconda3/lib/python3.4/site-packages/sklearn/gaussian_process/gpr.py:427: UserWarning: fmin_l_bfgs_b terminated abnormally with the  state: {'nit': 3, 'warnflag': 2, 'task': b'ABNORMAL_TERMINATION_IN_LNSRCH', 'funcalls': 51, 'grad': array([ 0.00400859])}\n",
      "  \" state: %s\" % convergence_dict)\n"
     ]
    },
    {
     "name": "stdout",
     "output_type": "stream",
     "text": [
      "iter 44\n"
     ]
    },
    {
     "name": "stderr",
     "output_type": "stream",
     "text": [
      "/Users/tsuzuki/anaconda3/lib/python3.4/site-packages/sklearn/gaussian_process/gpr.py:427: UserWarning: fmin_l_bfgs_b terminated abnormally with the  state: {'nit': 3, 'warnflag': 2, 'task': b'ABNORMAL_TERMINATION_IN_LNSRCH', 'funcalls': 49, 'grad': array([-0.00433648])}\n",
      "  \" state: %s\" % convergence_dict)\n",
      "/Users/tsuzuki/anaconda3/lib/python3.4/site-packages/sklearn/gaussian_process/gpr.py:427: UserWarning: fmin_l_bfgs_b terminated abnormally with the  state: {'nit': 2, 'warnflag': 2, 'task': b'ABNORMAL_TERMINATION_IN_LNSRCH', 'funcalls': 49, 'grad': array([ 0.00189245])}\n",
      "  \" state: %s\" % convergence_dict)\n"
     ]
    },
    {
     "name": "stdout",
     "output_type": "stream",
     "text": [
      "iter 45\n"
     ]
    },
    {
     "name": "stderr",
     "output_type": "stream",
     "text": [
      "/Users/tsuzuki/anaconda3/lib/python3.4/site-packages/sklearn/gaussian_process/gpr.py:427: UserWarning: fmin_l_bfgs_b terminated abnormally with the  state: {'nit': 4, 'warnflag': 2, 'task': b'ABNORMAL_TERMINATION_IN_LNSRCH', 'funcalls': 51, 'grad': array([ 0.04169235])}\n",
      "  \" state: %s\" % convergence_dict)\n",
      "/Users/tsuzuki/anaconda3/lib/python3.4/site-packages/sklearn/gaussian_process/gpr.py:427: UserWarning: fmin_l_bfgs_b terminated abnormally with the  state: {'nit': 3, 'warnflag': 2, 'task': b'ABNORMAL_TERMINATION_IN_LNSRCH', 'funcalls': 54, 'grad': array([ 0.02969188])}\n",
      "  \" state: %s\" % convergence_dict)\n"
     ]
    },
    {
     "name": "stdout",
     "output_type": "stream",
     "text": [
      "iter 46\n"
     ]
    },
    {
     "name": "stderr",
     "output_type": "stream",
     "text": [
      "/Users/tsuzuki/anaconda3/lib/python3.4/site-packages/sklearn/gaussian_process/gpr.py:427: UserWarning: fmin_l_bfgs_b terminated abnormally with the  state: {'nit': 3, 'warnflag': 2, 'task': b'ABNORMAL_TERMINATION_IN_LNSRCH', 'funcalls': 51, 'grad': array([ 0.00214817])}\n",
      "  \" state: %s\" % convergence_dict)\n",
      "/Users/tsuzuki/anaconda3/lib/python3.4/site-packages/sklearn/gaussian_process/gpr.py:427: UserWarning: fmin_l_bfgs_b terminated abnormally with the  state: {'nit': 3, 'warnflag': 2, 'task': b'ABNORMAL_TERMINATION_IN_LNSRCH', 'funcalls': 54, 'grad': array([ 0.00647531])}\n",
      "  \" state: %s\" % convergence_dict)\n"
     ]
    },
    {
     "name": "stdout",
     "output_type": "stream",
     "text": [
      "iter 47\n"
     ]
    },
    {
     "name": "stderr",
     "output_type": "stream",
     "text": [
      "/Users/tsuzuki/anaconda3/lib/python3.4/site-packages/sklearn/gaussian_process/gpr.py:427: UserWarning: fmin_l_bfgs_b terminated abnormally with the  state: {'nit': 5, 'warnflag': 2, 'task': b'ABNORMAL_TERMINATION_IN_LNSRCH', 'funcalls': 56, 'grad': array([ 0.01628089])}\n",
      "  \" state: %s\" % convergence_dict)\n",
      "/Users/tsuzuki/anaconda3/lib/python3.4/site-packages/sklearn/gaussian_process/gpr.py:427: UserWarning: fmin_l_bfgs_b terminated abnormally with the  state: {'nit': 4, 'warnflag': 2, 'task': b'ABNORMAL_TERMINATION_IN_LNSRCH', 'funcalls': 55, 'grad': array([ 0.00094586])}\n",
      "  \" state: %s\" % convergence_dict)\n",
      "/Users/tsuzuki/anaconda3/lib/python3.4/site-packages/sklearn/gaussian_process/gpr.py:427: UserWarning: fmin_l_bfgs_b terminated abnormally with the  state: {'nit': 5, 'warnflag': 2, 'task': b'ABNORMAL_TERMINATION_IN_LNSRCH', 'funcalls': 52, 'grad': array([-0.02160149])}\n",
      "  \" state: %s\" % convergence_dict)\n"
     ]
    },
    {
     "name": "stdout",
     "output_type": "stream",
     "text": [
      "iter 48\n"
     ]
    },
    {
     "name": "stderr",
     "output_type": "stream",
     "text": [
      "/Users/tsuzuki/anaconda3/lib/python3.4/site-packages/sklearn/gaussian_process/gpr.py:427: UserWarning: fmin_l_bfgs_b terminated abnormally with the  state: {'nit': 3, 'warnflag': 2, 'task': b'ABNORMAL_TERMINATION_IN_LNSRCH', 'funcalls': 50, 'grad': array([ 0.03170939])}\n",
      "  \" state: %s\" % convergence_dict)\n",
      "/Users/tsuzuki/anaconda3/lib/python3.4/site-packages/sklearn/gaussian_process/gpr.py:427: UserWarning: fmin_l_bfgs_b terminated abnormally with the  state: {'nit': 5, 'warnflag': 2, 'task': b'ABNORMAL_TERMINATION_IN_LNSRCH', 'funcalls': 48, 'grad': array([-0.00122976])}\n",
      "  \" state: %s\" % convergence_dict)\n"
     ]
    },
    {
     "name": "stdout",
     "output_type": "stream",
     "text": [
      "iter 49\n"
     ]
    },
    {
     "name": "stderr",
     "output_type": "stream",
     "text": [
      "/Users/tsuzuki/anaconda3/lib/python3.4/site-packages/sklearn/gaussian_process/gpr.py:427: UserWarning: fmin_l_bfgs_b terminated abnormally with the  state: {'nit': 4, 'warnflag': 2, 'task': b'ABNORMAL_TERMINATION_IN_LNSRCH', 'funcalls': 49, 'grad': array([ 0.01385425])}\n",
      "  \" state: %s\" % convergence_dict)\n",
      "/Users/tsuzuki/anaconda3/lib/python3.4/site-packages/sklearn/gaussian_process/gpr.py:427: UserWarning: fmin_l_bfgs_b terminated abnormally with the  state: {'nit': 5, 'warnflag': 2, 'task': b'ABNORMAL_TERMINATION_IN_LNSRCH', 'funcalls': 56, 'grad': array([ 0.0066005])}\n",
      "  \" state: %s\" % convergence_dict)\n",
      "/Users/tsuzuki/anaconda3/lib/python3.4/site-packages/sklearn/gaussian_process/gpr.py:427: UserWarning: fmin_l_bfgs_b terminated abnormally with the  state: {'nit': 2, 'warnflag': 2, 'task': b'ABNORMAL_TERMINATION_IN_LNSRCH', 'funcalls': 52, 'grad': array([-0.00134431])}\n",
      "  \" state: %s\" % convergence_dict)\n"
     ]
    },
    {
     "name": "stdout",
     "output_type": "stream",
     "text": [
      "iter 50\n"
     ]
    },
    {
     "name": "stderr",
     "output_type": "stream",
     "text": [
      "/Users/tsuzuki/anaconda3/lib/python3.4/site-packages/sklearn/gaussian_process/gpr.py:427: UserWarning: fmin_l_bfgs_b terminated abnormally with the  state: {'nit': 2, 'warnflag': 2, 'task': b'ABNORMAL_TERMINATION_IN_LNSRCH', 'funcalls': 36, 'grad': array([-12.57665783])}\n",
      "  \" state: %s\" % convergence_dict)\n",
      "/Users/tsuzuki/anaconda3/lib/python3.4/site-packages/sklearn/gaussian_process/gpr.py:427: UserWarning: fmin_l_bfgs_b terminated abnormally with the  state: {'nit': 2, 'warnflag': 2, 'task': b'ABNORMAL_TERMINATION_IN_LNSRCH', 'funcalls': 52, 'grad': array([-0.00069722])}\n",
      "  \" state: %s\" % convergence_dict)\n"
     ]
    },
    {
     "name": "stdout",
     "output_type": "stream",
     "text": [
      "iter 51\n"
     ]
    },
    {
     "name": "stderr",
     "output_type": "stream",
     "text": [
      "/Users/tsuzuki/anaconda3/lib/python3.4/site-packages/sklearn/gaussian_process/gpr.py:427: UserWarning: fmin_l_bfgs_b terminated abnormally with the  state: {'nit': 2, 'warnflag': 2, 'task': b'ABNORMAL_TERMINATION_IN_LNSRCH', 'funcalls': 52, 'grad': array([ 0.00619776])}\n",
      "  \" state: %s\" % convergence_dict)\n",
      "/Users/tsuzuki/anaconda3/lib/python3.4/site-packages/sklearn/gaussian_process/gpr.py:427: UserWarning: fmin_l_bfgs_b terminated abnormally with the  state: {'nit': 2, 'warnflag': 2, 'task': b'ABNORMAL_TERMINATION_IN_LNSRCH', 'funcalls': 52, 'grad': array([ 0.02139467])}\n",
      "  \" state: %s\" % convergence_dict)\n",
      "/Users/tsuzuki/anaconda3/lib/python3.4/site-packages/sklearn/gaussian_process/gpr.py:427: UserWarning: fmin_l_bfgs_b terminated abnormally with the  state: {'nit': 5, 'warnflag': 2, 'task': b'ABNORMAL_TERMINATION_IN_LNSRCH', 'funcalls': 56, 'grad': array([ 0.00194914])}\n",
      "  \" state: %s\" % convergence_dict)\n"
     ]
    },
    {
     "name": "stdout",
     "output_type": "stream",
     "text": [
      "iter 52\n"
     ]
    },
    {
     "name": "stderr",
     "output_type": "stream",
     "text": [
      "/Users/tsuzuki/anaconda3/lib/python3.4/site-packages/sklearn/gaussian_process/gpr.py:427: UserWarning: fmin_l_bfgs_b terminated abnormally with the  state: {'nit': 4, 'warnflag': 2, 'task': b'ABNORMAL_TERMINATION_IN_LNSRCH', 'funcalls': 55, 'grad': array([ 0.00170694])}\n",
      "  \" state: %s\" % convergence_dict)\n",
      "/Users/tsuzuki/anaconda3/lib/python3.4/site-packages/sklearn/gaussian_process/gpr.py:427: UserWarning: fmin_l_bfgs_b terminated abnormally with the  state: {'nit': 6, 'warnflag': 2, 'task': b'ABNORMAL_TERMINATION_IN_LNSRCH', 'funcalls': 64, 'grad': array([ 0.00150676])}\n",
      "  \" state: %s\" % convergence_dict)\n"
     ]
    },
    {
     "name": "stdout",
     "output_type": "stream",
     "text": [
      "iter 53\n"
     ]
    },
    {
     "name": "stderr",
     "output_type": "stream",
     "text": [
      "/Users/tsuzuki/anaconda3/lib/python3.4/site-packages/sklearn/gaussian_process/gpr.py:427: UserWarning: fmin_l_bfgs_b terminated abnormally with the  state: {'nit': 2, 'warnflag': 2, 'task': b'ABNORMAL_TERMINATION_IN_LNSRCH', 'funcalls': 51, 'grad': array([-0.005635])}\n",
      "  \" state: %s\" % convergence_dict)\n",
      "/Users/tsuzuki/anaconda3/lib/python3.4/site-packages/sklearn/gaussian_process/gpr.py:427: UserWarning: fmin_l_bfgs_b terminated abnormally with the  state: {'nit': 2, 'warnflag': 2, 'task': b'ABNORMAL_TERMINATION_IN_LNSRCH', 'funcalls': 35, 'grad': array([-11.12789006])}\n",
      "  \" state: %s\" % convergence_dict)\n"
     ]
    },
    {
     "name": "stdout",
     "output_type": "stream",
     "text": [
      "iter 54\n"
     ]
    },
    {
     "name": "stderr",
     "output_type": "stream",
     "text": [
      "/Users/tsuzuki/anaconda3/lib/python3.4/site-packages/sklearn/gaussian_process/gpr.py:427: UserWarning: fmin_l_bfgs_b terminated abnormally with the  state: {'nit': 5, 'warnflag': 2, 'task': b'ABNORMAL_TERMINATION_IN_LNSRCH', 'funcalls': 56, 'grad': array([ 0.00041261])}\n",
      "  \" state: %s\" % convergence_dict)\n",
      "/Users/tsuzuki/anaconda3/lib/python3.4/site-packages/sklearn/gaussian_process/gpr.py:427: UserWarning: fmin_l_bfgs_b terminated abnormally with the  state: {'nit': 5, 'warnflag': 2, 'task': b'ABNORMAL_TERMINATION_IN_LNSRCH', 'funcalls': 53, 'grad': array([-0.0031215])}\n",
      "  \" state: %s\" % convergence_dict)\n"
     ]
    },
    {
     "name": "stdout",
     "output_type": "stream",
     "text": [
      "iter 55\n"
     ]
    },
    {
     "name": "stderr",
     "output_type": "stream",
     "text": [
      "/Users/tsuzuki/anaconda3/lib/python3.4/site-packages/sklearn/gaussian_process/gpr.py:427: UserWarning: fmin_l_bfgs_b terminated abnormally with the  state: {'nit': 4, 'warnflag': 2, 'task': b'ABNORMAL_TERMINATION_IN_LNSRCH', 'funcalls': 55, 'grad': array([ 0.00764547])}\n",
      "  \" state: %s\" % convergence_dict)\n",
      "/Users/tsuzuki/anaconda3/lib/python3.4/site-packages/sklearn/gaussian_process/gpr.py:427: UserWarning: fmin_l_bfgs_b terminated abnormally with the  state: {'nit': 2, 'warnflag': 2, 'task': b'ABNORMAL_TERMINATION_IN_LNSRCH', 'funcalls': 52, 'grad': array([  8.99342481e-05])}\n",
      "  \" state: %s\" % convergence_dict)\n",
      "/Users/tsuzuki/anaconda3/lib/python3.4/site-packages/sklearn/gaussian_process/gpr.py:427: UserWarning: fmin_l_bfgs_b terminated abnormally with the  state: {'nit': 3, 'warnflag': 2, 'task': b'ABNORMAL_TERMINATION_IN_LNSRCH', 'funcalls': 53, 'grad': array([  8.92858857e-05])}\n",
      "  \" state: %s\" % convergence_dict)\n",
      "/Users/tsuzuki/anaconda3/lib/python3.4/site-packages/sklearn/gaussian_process/gpr.py:427: UserWarning: fmin_l_bfgs_b terminated abnormally with the  state: {'nit': 6, 'warnflag': 2, 'task': b'ABNORMAL_TERMINATION_IN_LNSRCH', 'funcalls': 57, 'grad': array([ 0.00210178])}\n",
      "  \" state: %s\" % convergence_dict)\n"
     ]
    },
    {
     "name": "stdout",
     "output_type": "stream",
     "text": [
      "iter 56\n"
     ]
    },
    {
     "name": "stderr",
     "output_type": "stream",
     "text": [
      "/Users/tsuzuki/anaconda3/lib/python3.4/site-packages/sklearn/gaussian_process/gpr.py:427: UserWarning: fmin_l_bfgs_b terminated abnormally with the  state: {'nit': 2, 'warnflag': 2, 'task': b'ABNORMAL_TERMINATION_IN_LNSRCH', 'funcalls': 49, 'grad': array([-0.02406794])}\n",
      "  \" state: %s\" % convergence_dict)\n",
      "/Users/tsuzuki/anaconda3/lib/python3.4/site-packages/sklearn/gaussian_process/gpr.py:427: UserWarning: fmin_l_bfgs_b terminated abnormally with the  state: {'nit': 2, 'warnflag': 2, 'task': b'ABNORMAL_TERMINATION_IN_LNSRCH', 'funcalls': 51, 'grad': array([ 0.003115])}\n",
      "  \" state: %s\" % convergence_dict)\n",
      "/Users/tsuzuki/anaconda3/lib/python3.4/site-packages/sklearn/gaussian_process/gpr.py:427: UserWarning: fmin_l_bfgs_b terminated abnormally with the  state: {'nit': 3, 'warnflag': 2, 'task': b'ABNORMAL_TERMINATION_IN_LNSRCH', 'funcalls': 51, 'grad': array([ 0.00146782])}\n",
      "  \" state: %s\" % convergence_dict)\n",
      "/Users/tsuzuki/anaconda3/lib/python3.4/site-packages/sklearn/gaussian_process/gpr.py:427: UserWarning: fmin_l_bfgs_b terminated abnormally with the  state: {'nit': 5, 'warnflag': 2, 'task': b'ABNORMAL_TERMINATION_IN_LNSRCH', 'funcalls': 48, 'grad': array([-0.00229025])}\n",
      "  \" state: %s\" % convergence_dict)\n"
     ]
    },
    {
     "name": "stdout",
     "output_type": "stream",
     "text": [
      "iter 57\n"
     ]
    },
    {
     "name": "stderr",
     "output_type": "stream",
     "text": [
      "/Users/tsuzuki/anaconda3/lib/python3.4/site-packages/sklearn/gaussian_process/gpr.py:427: UserWarning: fmin_l_bfgs_b terminated abnormally with the  state: {'nit': 4, 'warnflag': 2, 'task': b'ABNORMAL_TERMINATION_IN_LNSRCH', 'funcalls': 53, 'grad': array([-0.00118966])}\n",
      "  \" state: %s\" % convergence_dict)\n",
      "/Users/tsuzuki/anaconda3/lib/python3.4/site-packages/sklearn/gaussian_process/gpr.py:427: UserWarning: fmin_l_bfgs_b terminated abnormally with the  state: {'nit': 5, 'warnflag': 2, 'task': b'ABNORMAL_TERMINATION_IN_LNSRCH', 'funcalls': 63, 'grad': array([ 0.0026788])}\n",
      "  \" state: %s\" % convergence_dict)\n",
      "/Users/tsuzuki/anaconda3/lib/python3.4/site-packages/sklearn/gaussian_process/gpr.py:427: UserWarning: fmin_l_bfgs_b terminated abnormally with the  state: {'nit': 4, 'warnflag': 2, 'task': b'ABNORMAL_TERMINATION_IN_LNSRCH', 'funcalls': 55, 'grad': array([ 0.02518486])}\n",
      "  \" state: %s\" % convergence_dict)\n"
     ]
    },
    {
     "name": "stdout",
     "output_type": "stream",
     "text": [
      "iter 58\n"
     ]
    },
    {
     "name": "stderr",
     "output_type": "stream",
     "text": [
      "/Users/tsuzuki/anaconda3/lib/python3.4/site-packages/sklearn/gaussian_process/gpr.py:427: UserWarning: fmin_l_bfgs_b terminated abnormally with the  state: {'nit': 3, 'warnflag': 2, 'task': b'ABNORMAL_TERMINATION_IN_LNSRCH', 'funcalls': 56, 'grad': array([-0.00039925])}\n",
      "  \" state: %s\" % convergence_dict)\n",
      "/Users/tsuzuki/anaconda3/lib/python3.4/site-packages/sklearn/gaussian_process/gpr.py:427: UserWarning: fmin_l_bfgs_b terminated abnormally with the  state: {'nit': 2, 'warnflag': 2, 'task': b'ABNORMAL_TERMINATION_IN_LNSRCH', 'funcalls': 51, 'grad': array([-0.00365581])}\n",
      "  \" state: %s\" % convergence_dict)\n",
      "/Users/tsuzuki/anaconda3/lib/python3.4/site-packages/sklearn/gaussian_process/gpr.py:427: UserWarning: fmin_l_bfgs_b terminated abnormally with the  state: {'nit': 5, 'warnflag': 2, 'task': b'ABNORMAL_TERMINATION_IN_LNSRCH', 'funcalls': 54, 'grad': array([-0.00122319])}\n",
      "  \" state: %s\" % convergence_dict)\n"
     ]
    },
    {
     "name": "stdout",
     "output_type": "stream",
     "text": [
      "iter 59\n"
     ]
    },
    {
     "name": "stderr",
     "output_type": "stream",
     "text": [
      "/Users/tsuzuki/anaconda3/lib/python3.4/site-packages/sklearn/gaussian_process/gpr.py:427: UserWarning: fmin_l_bfgs_b terminated abnormally with the  state: {'nit': 4, 'warnflag': 2, 'task': b'ABNORMAL_TERMINATION_IN_LNSRCH', 'funcalls': 52, 'grad': array([ 0.00158472])}\n",
      "  \" state: %s\" % convergence_dict)\n"
     ]
    },
    {
     "name": "stdout",
     "output_type": "stream",
     "text": [
      "iter 60\n"
     ]
    },
    {
     "name": "stderr",
     "output_type": "stream",
     "text": [
      "/Users/tsuzuki/anaconda3/lib/python3.4/site-packages/sklearn/gaussian_process/gpr.py:427: UserWarning: fmin_l_bfgs_b terminated abnormally with the  state: {'nit': 3, 'warnflag': 2, 'task': b'ABNORMAL_TERMINATION_IN_LNSRCH', 'funcalls': 54, 'grad': array([ 0.00558063])}\n",
      "  \" state: %s\" % convergence_dict)\n",
      "/Users/tsuzuki/anaconda3/lib/python3.4/site-packages/sklearn/gaussian_process/gpr.py:427: UserWarning: fmin_l_bfgs_b terminated abnormally with the  state: {'nit': 5, 'warnflag': 2, 'task': b'ABNORMAL_TERMINATION_IN_LNSRCH', 'funcalls': 56, 'grad': array([ 0.0003536])}\n",
      "  \" state: %s\" % convergence_dict)\n",
      "/Users/tsuzuki/anaconda3/lib/python3.4/site-packages/sklearn/gaussian_process/gpr.py:427: UserWarning: fmin_l_bfgs_b terminated abnormally with the  state: {'nit': 3, 'warnflag': 2, 'task': b'ABNORMAL_TERMINATION_IN_LNSRCH', 'funcalls': 54, 'grad': array([ 0.01265451])}\n",
      "  \" state: %s\" % convergence_dict)\n"
     ]
    },
    {
     "name": "stdout",
     "output_type": "stream",
     "text": [
      "iter 61\n"
     ]
    },
    {
     "name": "stderr",
     "output_type": "stream",
     "text": [
      "/Users/tsuzuki/anaconda3/lib/python3.4/site-packages/sklearn/gaussian_process/gpr.py:427: UserWarning: fmin_l_bfgs_b terminated abnormally with the  state: {'nit': 3, 'warnflag': 2, 'task': b'ABNORMAL_TERMINATION_IN_LNSRCH', 'funcalls': 51, 'grad': array([ 0.00243485])}\n",
      "  \" state: %s\" % convergence_dict)\n",
      "/Users/tsuzuki/anaconda3/lib/python3.4/site-packages/sklearn/gaussian_process/gpr.py:427: UserWarning: fmin_l_bfgs_b terminated abnormally with the  state: {'nit': 2, 'warnflag': 2, 'task': b'ABNORMAL_TERMINATION_IN_LNSRCH', 'funcalls': 34, 'grad': array([-12.0976813])}\n",
      "  \" state: %s\" % convergence_dict)\n"
     ]
    },
    {
     "name": "stdout",
     "output_type": "stream",
     "text": [
      "iter 62\n"
     ]
    },
    {
     "name": "stderr",
     "output_type": "stream",
     "text": [
      "/Users/tsuzuki/anaconda3/lib/python3.4/site-packages/sklearn/gaussian_process/gpr.py:427: UserWarning: fmin_l_bfgs_b terminated abnormally with the  state: {'nit': 5, 'warnflag': 2, 'task': b'ABNORMAL_TERMINATION_IN_LNSRCH', 'funcalls': 56, 'grad': array([ 0.0087039])}\n",
      "  \" state: %s\" % convergence_dict)\n"
     ]
    },
    {
     "name": "stdout",
     "output_type": "stream",
     "text": [
      "iter 63\n"
     ]
    },
    {
     "name": "stderr",
     "output_type": "stream",
     "text": [
      "/Users/tsuzuki/anaconda3/lib/python3.4/site-packages/sklearn/gaussian_process/gpr.py:427: UserWarning: fmin_l_bfgs_b terminated abnormally with the  state: {'nit': 4, 'warnflag': 2, 'task': b'ABNORMAL_TERMINATION_IN_LNSRCH', 'funcalls': 55, 'grad': array([ 0.00076674])}\n",
      "  \" state: %s\" % convergence_dict)\n",
      "/Users/tsuzuki/anaconda3/lib/python3.4/site-packages/sklearn/gaussian_process/gpr.py:427: UserWarning: fmin_l_bfgs_b terminated abnormally with the  state: {'nit': 4, 'warnflag': 2, 'task': b'ABNORMAL_TERMINATION_IN_LNSRCH', 'funcalls': 55, 'grad': array([ 0.00547056])}\n",
      "  \" state: %s\" % convergence_dict)\n",
      "/Users/tsuzuki/anaconda3/lib/python3.4/site-packages/sklearn/gaussian_process/gpr.py:427: UserWarning: fmin_l_bfgs_b terminated abnormally with the  state: {'nit': 4, 'warnflag': 2, 'task': b'ABNORMAL_TERMINATION_IN_LNSRCH', 'funcalls': 54, 'grad': array([-0.00804426])}\n",
      "  \" state: %s\" % convergence_dict)\n"
     ]
    },
    {
     "name": "stdout",
     "output_type": "stream",
     "text": [
      "iter 64\n"
     ]
    },
    {
     "name": "stderr",
     "output_type": "stream",
     "text": [
      "/Users/tsuzuki/anaconda3/lib/python3.4/site-packages/sklearn/gaussian_process/gpr.py:427: UserWarning: fmin_l_bfgs_b terminated abnormally with the  state: {'nit': 3, 'warnflag': 2, 'task': b'ABNORMAL_TERMINATION_IN_LNSRCH', 'funcalls': 53, 'grad': array([ 0.00141111])}\n",
      "  \" state: %s\" % convergence_dict)\n",
      "/Users/tsuzuki/anaconda3/lib/python3.4/site-packages/sklearn/gaussian_process/gpr.py:427: UserWarning: fmin_l_bfgs_b terminated abnormally with the  state: {'nit': 2, 'warnflag': 2, 'task': b'ABNORMAL_TERMINATION_IN_LNSRCH', 'funcalls': 36, 'grad': array([-12.19321064])}\n",
      "  \" state: %s\" % convergence_dict)\n",
      "/Users/tsuzuki/anaconda3/lib/python3.4/site-packages/sklearn/gaussian_process/gpr.py:427: UserWarning: fmin_l_bfgs_b terminated abnormally with the  state: {'nit': 4, 'warnflag': 2, 'task': b'ABNORMAL_TERMINATION_IN_LNSRCH', 'funcalls': 54, 'grad': array([ 0.00076108])}\n",
      "  \" state: %s\" % convergence_dict)\n"
     ]
    },
    {
     "name": "stdout",
     "output_type": "stream",
     "text": [
      "iter 65\n"
     ]
    },
    {
     "name": "stderr",
     "output_type": "stream",
     "text": [
      "/Users/tsuzuki/anaconda3/lib/python3.4/site-packages/sklearn/gaussian_process/gpr.py:427: UserWarning: fmin_l_bfgs_b terminated abnormally with the  state: {'nit': 3, 'warnflag': 2, 'task': b'ABNORMAL_TERMINATION_IN_LNSRCH', 'funcalls': 47, 'grad': array([ 0.01695824])}\n",
      "  \" state: %s\" % convergence_dict)\n",
      "/Users/tsuzuki/anaconda3/lib/python3.4/site-packages/sklearn/gaussian_process/gpr.py:427: UserWarning: fmin_l_bfgs_b terminated abnormally with the  state: {'nit': 4, 'warnflag': 2, 'task': b'ABNORMAL_TERMINATION_IN_LNSRCH', 'funcalls': 55, 'grad': array([-0.00410282])}\n",
      "  \" state: %s\" % convergence_dict)\n"
     ]
    },
    {
     "name": "stdout",
     "output_type": "stream",
     "text": [
      "iter 66\n"
     ]
    },
    {
     "name": "stderr",
     "output_type": "stream",
     "text": [
      "/Users/tsuzuki/anaconda3/lib/python3.4/site-packages/sklearn/gaussian_process/gpr.py:427: UserWarning: fmin_l_bfgs_b terminated abnormally with the  state: {'nit': 5, 'warnflag': 2, 'task': b'ABNORMAL_TERMINATION_IN_LNSRCH', 'funcalls': 56, 'grad': array([ 0.00613789])}\n",
      "  \" state: %s\" % convergence_dict)\n"
     ]
    },
    {
     "name": "stdout",
     "output_type": "stream",
     "text": [
      "iter 67\n"
     ]
    },
    {
     "name": "stderr",
     "output_type": "stream",
     "text": [
      "/Users/tsuzuki/anaconda3/lib/python3.4/site-packages/sklearn/gaussian_process/gpr.py:427: UserWarning: fmin_l_bfgs_b terminated abnormally with the  state: {'nit': 5, 'warnflag': 2, 'task': b'ABNORMAL_TERMINATION_IN_LNSRCH', 'funcalls': 56, 'grad': array([ 0.00580541])}\n",
      "  \" state: %s\" % convergence_dict)\n",
      "/Users/tsuzuki/anaconda3/lib/python3.4/site-packages/sklearn/gaussian_process/gpr.py:427: UserWarning: fmin_l_bfgs_b terminated abnormally with the  state: {'nit': 3, 'warnflag': 2, 'task': b'ABNORMAL_TERMINATION_IN_LNSRCH', 'funcalls': 49, 'grad': array([-0.00519535])}\n",
      "  \" state: %s\" % convergence_dict)\n",
      "/Users/tsuzuki/anaconda3/lib/python3.4/site-packages/sklearn/gaussian_process/gpr.py:427: UserWarning: fmin_l_bfgs_b terminated abnormally with the  state: {'nit': 4, 'warnflag': 2, 'task': b'ABNORMAL_TERMINATION_IN_LNSRCH', 'funcalls': 55, 'grad': array([ 0.00280284])}\n",
      "  \" state: %s\" % convergence_dict)\n"
     ]
    },
    {
     "name": "stdout",
     "output_type": "stream",
     "text": [
      "iter 68\n"
     ]
    },
    {
     "name": "stderr",
     "output_type": "stream",
     "text": [
      "/Users/tsuzuki/anaconda3/lib/python3.4/site-packages/sklearn/gaussian_process/gpr.py:427: UserWarning: fmin_l_bfgs_b terminated abnormally with the  state: {'nit': 2, 'warnflag': 2, 'task': b'ABNORMAL_TERMINATION_IN_LNSRCH', 'funcalls': 34, 'grad': array([-11.70023614])}\n",
      "  \" state: %s\" % convergence_dict)\n"
     ]
    },
    {
     "name": "stdout",
     "output_type": "stream",
     "text": [
      "iter 69\n",
      "iter 70\n"
     ]
    },
    {
     "name": "stderr",
     "output_type": "stream",
     "text": [
      "/Users/tsuzuki/anaconda3/lib/python3.4/site-packages/sklearn/gaussian_process/gpr.py:427: UserWarning: fmin_l_bfgs_b terminated abnormally with the  state: {'nit': 4, 'warnflag': 2, 'task': b'ABNORMAL_TERMINATION_IN_LNSRCH', 'funcalls': 55, 'grad': array([ 0.00112705])}\n",
      "  \" state: %s\" % convergence_dict)\n",
      "/Users/tsuzuki/anaconda3/lib/python3.4/site-packages/sklearn/gaussian_process/gpr.py:427: UserWarning: fmin_l_bfgs_b terminated abnormally with the  state: {'nit': 4, 'warnflag': 2, 'task': b'ABNORMAL_TERMINATION_IN_LNSRCH', 'funcalls': 55, 'grad': array([ 0.0004512])}\n",
      "  \" state: %s\" % convergence_dict)\n",
      "/Users/tsuzuki/anaconda3/lib/python3.4/site-packages/sklearn/gaussian_process/gpr.py:427: UserWarning: fmin_l_bfgs_b terminated abnormally with the  state: {'nit': 3, 'warnflag': 2, 'task': b'ABNORMAL_TERMINATION_IN_LNSRCH', 'funcalls': 53, 'grad': array([ 0.0077892])}\n",
      "  \" state: %s\" % convergence_dict)\n"
     ]
    },
    {
     "name": "stdout",
     "output_type": "stream",
     "text": [
      "iter 71\n"
     ]
    },
    {
     "name": "stderr",
     "output_type": "stream",
     "text": [
      "/Users/tsuzuki/anaconda3/lib/python3.4/site-packages/sklearn/gaussian_process/gpr.py:427: UserWarning: fmin_l_bfgs_b terminated abnormally with the  state: {'nit': 3, 'warnflag': 2, 'task': b'ABNORMAL_TERMINATION_IN_LNSRCH', 'funcalls': 50, 'grad': array([-0.0024931])}\n",
      "  \" state: %s\" % convergence_dict)\n"
     ]
    },
    {
     "name": "stdout",
     "output_type": "stream",
     "text": [
      "iter 72\n",
      "iter 73\n"
     ]
    },
    {
     "name": "stderr",
     "output_type": "stream",
     "text": [
      "/Users/tsuzuki/anaconda3/lib/python3.4/site-packages/sklearn/gaussian_process/gpr.py:427: UserWarning: fmin_l_bfgs_b terminated abnormally with the  state: {'nit': 3, 'warnflag': 2, 'task': b'ABNORMAL_TERMINATION_IN_LNSRCH', 'funcalls': 54, 'grad': array([ 0.0070026])}\n",
      "  \" state: %s\" % convergence_dict)\n"
     ]
    },
    {
     "name": "stdout",
     "output_type": "stream",
     "text": [
      "iter 74\n"
     ]
    },
    {
     "name": "stderr",
     "output_type": "stream",
     "text": [
      "/Users/tsuzuki/anaconda3/lib/python3.4/site-packages/sklearn/gaussian_process/gpr.py:427: UserWarning: fmin_l_bfgs_b terminated abnormally with the  state: {'nit': 2, 'warnflag': 2, 'task': b'ABNORMAL_TERMINATION_IN_LNSRCH', 'funcalls': 51, 'grad': array([-0.00030311])}\n",
      "  \" state: %s\" % convergence_dict)\n",
      "/Users/tsuzuki/anaconda3/lib/python3.4/site-packages/sklearn/gaussian_process/gpr.py:427: UserWarning: fmin_l_bfgs_b terminated abnormally with the  state: {'nit': 3, 'warnflag': 2, 'task': b'ABNORMAL_TERMINATION_IN_LNSRCH', 'funcalls': 56, 'grad': array([ 0.0023829])}\n",
      "  \" state: %s\" % convergence_dict)\n"
     ]
    },
    {
     "name": "stdout",
     "output_type": "stream",
     "text": [
      "iter 75\n"
     ]
    },
    {
     "name": "stderr",
     "output_type": "stream",
     "text": [
      "/Users/tsuzuki/anaconda3/lib/python3.4/site-packages/sklearn/gaussian_process/gpr.py:427: UserWarning: fmin_l_bfgs_b terminated abnormally with the  state: {'nit': 6, 'warnflag': 2, 'task': b'ABNORMAL_TERMINATION_IN_LNSRCH', 'funcalls': 55, 'grad': array([-0.00317005])}\n",
      "  \" state: %s\" % convergence_dict)\n"
     ]
    },
    {
     "name": "stdout",
     "output_type": "stream",
     "text": [
      "iter 76\n"
     ]
    },
    {
     "name": "stderr",
     "output_type": "stream",
     "text": [
      "/Users/tsuzuki/anaconda3/lib/python3.4/site-packages/sklearn/gaussian_process/gpr.py:427: UserWarning: fmin_l_bfgs_b terminated abnormally with the  state: {'nit': 2, 'warnflag': 2, 'task': b'ABNORMAL_TERMINATION_IN_LNSRCH', 'funcalls': 51, 'grad': array([  9.15648416e-05])}\n",
      "  \" state: %s\" % convergence_dict)\n",
      "/Users/tsuzuki/anaconda3/lib/python3.4/site-packages/sklearn/gaussian_process/gpr.py:427: UserWarning: fmin_l_bfgs_b terminated abnormally with the  state: {'nit': 4, 'warnflag': 2, 'task': b'ABNORMAL_TERMINATION_IN_LNSRCH', 'funcalls': 53, 'grad': array([ 0.02246229])}\n",
      "  \" state: %s\" % convergence_dict)\n"
     ]
    },
    {
     "name": "stdout",
     "output_type": "stream",
     "text": [
      "iter 77\n"
     ]
    },
    {
     "name": "stderr",
     "output_type": "stream",
     "text": [
      "/Users/tsuzuki/anaconda3/lib/python3.4/site-packages/sklearn/gaussian_process/gpr.py:427: UserWarning: fmin_l_bfgs_b terminated abnormally with the  state: {'nit': 3, 'warnflag': 2, 'task': b'ABNORMAL_TERMINATION_IN_LNSRCH', 'funcalls': 56, 'grad': array([ 0.03746007])}\n",
      "  \" state: %s\" % convergence_dict)\n"
     ]
    },
    {
     "name": "stdout",
     "output_type": "stream",
     "text": [
      "iter 78\n"
     ]
    },
    {
     "name": "stderr",
     "output_type": "stream",
     "text": [
      "/Users/tsuzuki/anaconda3/lib/python3.4/site-packages/sklearn/gaussian_process/gpr.py:427: UserWarning: fmin_l_bfgs_b terminated abnormally with the  state: {'nit': 3, 'warnflag': 2, 'task': b'ABNORMAL_TERMINATION_IN_LNSRCH', 'funcalls': 54, 'grad': array([ 0.00875251])}\n",
      "  \" state: %s\" % convergence_dict)\n",
      "/Users/tsuzuki/anaconda3/lib/python3.4/site-packages/sklearn/gaussian_process/gpr.py:427: UserWarning: fmin_l_bfgs_b terminated abnormally with the  state: {'nit': 2, 'warnflag': 2, 'task': b'ABNORMAL_TERMINATION_IN_LNSRCH', 'funcalls': 36, 'grad': array([-16.67332424])}\n",
      "  \" state: %s\" % convergence_dict)\n",
      "/Users/tsuzuki/anaconda3/lib/python3.4/site-packages/sklearn/gaussian_process/gpr.py:427: UserWarning: fmin_l_bfgs_b terminated abnormally with the  state: {'nit': 5, 'warnflag': 2, 'task': b'ABNORMAL_TERMINATION_IN_LNSRCH', 'funcalls': 55, 'grad': array([-0.00911133])}\n",
      "  \" state: %s\" % convergence_dict)\n",
      "/Users/tsuzuki/anaconda3/lib/python3.4/site-packages/sklearn/gaussian_process/gpr.py:427: UserWarning: fmin_l_bfgs_b terminated abnormally with the  state: {'nit': 3, 'warnflag': 2, 'task': b'ABNORMAL_TERMINATION_IN_LNSRCH', 'funcalls': 36, 'grad': array([-11.96298602])}\n",
      "  \" state: %s\" % convergence_dict)\n"
     ]
    },
    {
     "name": "stdout",
     "output_type": "stream",
     "text": [
      "iter 79\n"
     ]
    },
    {
     "name": "stderr",
     "output_type": "stream",
     "text": [
      "/Users/tsuzuki/anaconda3/lib/python3.4/site-packages/sklearn/gaussian_process/gpr.py:427: UserWarning: fmin_l_bfgs_b terminated abnormally with the  state: {'nit': 3, 'warnflag': 2, 'task': b'ABNORMAL_TERMINATION_IN_LNSRCH', 'funcalls': 52, 'grad': array([ 0.02054861])}\n",
      "  \" state: %s\" % convergence_dict)\n",
      "/Users/tsuzuki/anaconda3/lib/python3.4/site-packages/sklearn/gaussian_process/gpr.py:427: UserWarning: fmin_l_bfgs_b terminated abnormally with the  state: {'nit': 4, 'warnflag': 2, 'task': b'ABNORMAL_TERMINATION_IN_LNSRCH', 'funcalls': 55, 'grad': array([ 0.00020665])}\n",
      "  \" state: %s\" % convergence_dict)\n"
     ]
    },
    {
     "name": "stdout",
     "output_type": "stream",
     "text": [
      "iter 80\n",
      "iter 81\n"
     ]
    },
    {
     "name": "stderr",
     "output_type": "stream",
     "text": [
      "/Users/tsuzuki/anaconda3/lib/python3.4/site-packages/sklearn/gaussian_process/gpr.py:427: UserWarning: fmin_l_bfgs_b terminated abnormally with the  state: {'nit': 5, 'warnflag': 2, 'task': b'ABNORMAL_TERMINATION_IN_LNSRCH', 'funcalls': 56, 'grad': array([ 0.00029856])}\n",
      "  \" state: %s\" % convergence_dict)\n",
      "/Users/tsuzuki/anaconda3/lib/python3.4/site-packages/sklearn/gaussian_process/gpr.py:427: UserWarning: fmin_l_bfgs_b terminated abnormally with the  state: {'nit': 4, 'warnflag': 2, 'task': b'ABNORMAL_TERMINATION_IN_LNSRCH', 'funcalls': 49, 'grad': array([-0.0052542])}\n",
      "  \" state: %s\" % convergence_dict)\n"
     ]
    },
    {
     "name": "stdout",
     "output_type": "stream",
     "text": [
      "iter 82\n",
      "iter 83\n"
     ]
    },
    {
     "name": "stderr",
     "output_type": "stream",
     "text": [
      "/Users/tsuzuki/anaconda3/lib/python3.4/site-packages/sklearn/gaussian_process/gpr.py:427: UserWarning: fmin_l_bfgs_b terminated abnormally with the  state: {'nit': 3, 'warnflag': 2, 'task': b'ABNORMAL_TERMINATION_IN_LNSRCH', 'funcalls': 54, 'grad': array([ 0.01452303])}\n",
      "  \" state: %s\" % convergence_dict)\n"
     ]
    },
    {
     "name": "stdout",
     "output_type": "stream",
     "text": [
      "iter 84\n"
     ]
    },
    {
     "name": "stderr",
     "output_type": "stream",
     "text": [
      "/Users/tsuzuki/anaconda3/lib/python3.4/site-packages/sklearn/gaussian_process/gpr.py:427: UserWarning: fmin_l_bfgs_b terminated abnormally with the  state: {'nit': 3, 'warnflag': 2, 'task': b'ABNORMAL_TERMINATION_IN_LNSRCH', 'funcalls': 47, 'grad': array([ 0.02231521])}\n",
      "  \" state: %s\" % convergence_dict)\n",
      "/Users/tsuzuki/anaconda3/lib/python3.4/site-packages/sklearn/gaussian_process/gpr.py:427: UserWarning: fmin_l_bfgs_b terminated abnormally with the  state: {'nit': 2, 'warnflag': 2, 'task': b'ABNORMAL_TERMINATION_IN_LNSRCH', 'funcalls': 51, 'grad': array([ 0.00693242])}\n",
      "  \" state: %s\" % convergence_dict)\n"
     ]
    },
    {
     "name": "stdout",
     "output_type": "stream",
     "text": [
      "iter 85\n"
     ]
    },
    {
     "name": "stderr",
     "output_type": "stream",
     "text": [
      "/Users/tsuzuki/anaconda3/lib/python3.4/site-packages/sklearn/gaussian_process/gpr.py:427: UserWarning: fmin_l_bfgs_b terminated abnormally with the  state: {'nit': 3, 'warnflag': 2, 'task': b'ABNORMAL_TERMINATION_IN_LNSRCH', 'funcalls': 51, 'grad': array([ 0.00559104])}\n",
      "  \" state: %s\" % convergence_dict)\n"
     ]
    },
    {
     "name": "stdout",
     "output_type": "stream",
     "text": [
      "iter 86\n"
     ]
    },
    {
     "name": "stderr",
     "output_type": "stream",
     "text": [
      "/Users/tsuzuki/anaconda3/lib/python3.4/site-packages/sklearn/gaussian_process/gpr.py:427: UserWarning: fmin_l_bfgs_b terminated abnormally with the  state: {'nit': 3, 'warnflag': 2, 'task': b'ABNORMAL_TERMINATION_IN_LNSRCH', 'funcalls': 47, 'grad': array([ 0.00257507])}\n",
      "  \" state: %s\" % convergence_dict)\n",
      "/Users/tsuzuki/anaconda3/lib/python3.4/site-packages/sklearn/gaussian_process/gpr.py:427: UserWarning: fmin_l_bfgs_b terminated abnormally with the  state: {'nit': 3, 'warnflag': 2, 'task': b'ABNORMAL_TERMINATION_IN_LNSRCH', 'funcalls': 52, 'grad': array([ 0.00391698])}\n",
      "  \" state: %s\" % convergence_dict)\n",
      "/Users/tsuzuki/anaconda3/lib/python3.4/site-packages/sklearn/gaussian_process/gpr.py:427: UserWarning: fmin_l_bfgs_b terminated abnormally with the  state: {'nit': 2, 'warnflag': 2, 'task': b'ABNORMAL_TERMINATION_IN_LNSRCH', 'funcalls': 52, 'grad': array([  9.82936472e-05])}\n",
      "  \" state: %s\" % convergence_dict)\n",
      "/Users/tsuzuki/anaconda3/lib/python3.4/site-packages/sklearn/gaussian_process/gpr.py:427: UserWarning: fmin_l_bfgs_b terminated abnormally with the  state: {'nit': 2, 'warnflag': 2, 'task': b'ABNORMAL_TERMINATION_IN_LNSRCH', 'funcalls': 51, 'grad': array([-0.00089129])}\n",
      "  \" state: %s\" % convergence_dict)\n"
     ]
    },
    {
     "name": "stdout",
     "output_type": "stream",
     "text": [
      "iter 87\n"
     ]
    },
    {
     "name": "stderr",
     "output_type": "stream",
     "text": [
      "/Users/tsuzuki/anaconda3/lib/python3.4/site-packages/sklearn/gaussian_process/gpr.py:427: UserWarning: fmin_l_bfgs_b terminated abnormally with the  state: {'nit': 3, 'warnflag': 2, 'task': b'ABNORMAL_TERMINATION_IN_LNSRCH', 'funcalls': 47, 'grad': array([ 0.02071897])}\n",
      "  \" state: %s\" % convergence_dict)\n",
      "/Users/tsuzuki/anaconda3/lib/python3.4/site-packages/sklearn/gaussian_process/gpr.py:427: UserWarning: fmin_l_bfgs_b terminated abnormally with the  state: {'nit': 4, 'warnflag': 2, 'task': b'ABNORMAL_TERMINATION_IN_LNSRCH', 'funcalls': 53, 'grad': array([-0.00179386])}\n",
      "  \" state: %s\" % convergence_dict)\n"
     ]
    },
    {
     "name": "stdout",
     "output_type": "stream",
     "text": [
      "iter 88\n"
     ]
    },
    {
     "name": "stderr",
     "output_type": "stream",
     "text": [
      "/Users/tsuzuki/anaconda3/lib/python3.4/site-packages/sklearn/gaussian_process/gpr.py:427: UserWarning: fmin_l_bfgs_b terminated abnormally with the  state: {'nit': 3, 'warnflag': 2, 'task': b'ABNORMAL_TERMINATION_IN_LNSRCH', 'funcalls': 53, 'grad': array([ 0.00115799])}\n",
      "  \" state: %s\" % convergence_dict)\n",
      "/Users/tsuzuki/anaconda3/lib/python3.4/site-packages/sklearn/gaussian_process/gpr.py:427: UserWarning: fmin_l_bfgs_b terminated abnormally with the  state: {'nit': 5, 'warnflag': 2, 'task': b'ABNORMAL_TERMINATION_IN_LNSRCH', 'funcalls': 57, 'grad': array([ 0.02609951])}\n",
      "  \" state: %s\" % convergence_dict)\n",
      "/Users/tsuzuki/anaconda3/lib/python3.4/site-packages/sklearn/gaussian_process/gpr.py:427: UserWarning: fmin_l_bfgs_b terminated abnormally with the  state: {'nit': 5, 'warnflag': 2, 'task': b'ABNORMAL_TERMINATION_IN_LNSRCH', 'funcalls': 51, 'grad': array([-0.00054239])}\n",
      "  \" state: %s\" % convergence_dict)\n",
      "/Users/tsuzuki/anaconda3/lib/python3.4/site-packages/sklearn/gaussian_process/gpr.py:427: UserWarning: fmin_l_bfgs_b terminated abnormally with the  state: {'nit': 2, 'warnflag': 2, 'task': b'ABNORMAL_TERMINATION_IN_LNSRCH', 'funcalls': 32, 'grad': array([-83.91876861])}\n",
      "  \" state: %s\" % convergence_dict)\n"
     ]
    },
    {
     "name": "stdout",
     "output_type": "stream",
     "text": [
      "iter 89\n"
     ]
    },
    {
     "name": "stderr",
     "output_type": "stream",
     "text": [
      "/Users/tsuzuki/anaconda3/lib/python3.4/site-packages/sklearn/gaussian_process/gpr.py:427: UserWarning: fmin_l_bfgs_b terminated abnormally with the  state: {'nit': 2, 'warnflag': 2, 'task': b'ABNORMAL_TERMINATION_IN_LNSRCH', 'funcalls': 30, 'grad': array([-58.68660277])}\n",
      "  \" state: %s\" % convergence_dict)\n",
      "/Users/tsuzuki/anaconda3/lib/python3.4/site-packages/sklearn/gaussian_process/gpr.py:308: UserWarning: Predicted variances smaller than 0. Setting those variances to 0.\n",
      "  warnings.warn(\"Predicted variances smaller than 0. \"\n"
     ]
    },
    {
     "name": "stdout",
     "output_type": "stream",
     "text": [
      "iter 90\n"
     ]
    },
    {
     "name": "stderr",
     "output_type": "stream",
     "text": [
      "/Users/tsuzuki/anaconda3/lib/python3.4/site-packages/sklearn/gaussian_process/gpr.py:427: UserWarning: fmin_l_bfgs_b terminated abnormally with the  state: {'nit': 3, 'warnflag': 2, 'task': b'ABNORMAL_TERMINATION_IN_LNSRCH', 'funcalls': 53, 'grad': array([  2.25020922e-05])}\n",
      "  \" state: %s\" % convergence_dict)\n",
      "/Users/tsuzuki/anaconda3/lib/python3.4/site-packages/sklearn/gaussian_process/gpr.py:427: UserWarning: fmin_l_bfgs_b terminated abnormally with the  state: {'nit': 4, 'warnflag': 2, 'task': b'ABNORMAL_TERMINATION_IN_LNSRCH', 'funcalls': 57, 'grad': array([ 0.00331451])}\n",
      "  \" state: %s\" % convergence_dict)\n"
     ]
    },
    {
     "name": "stdout",
     "output_type": "stream",
     "text": [
      "iter 91\n"
     ]
    },
    {
     "name": "stderr",
     "output_type": "stream",
     "text": [
      "/Users/tsuzuki/anaconda3/lib/python3.4/site-packages/sklearn/gaussian_process/gpr.py:427: UserWarning: fmin_l_bfgs_b terminated abnormally with the  state: {'nit': 5, 'warnflag': 2, 'task': b'ABNORMAL_TERMINATION_IN_LNSRCH', 'funcalls': 51, 'grad': array([-0.0005316])}\n",
      "  \" state: %s\" % convergence_dict)\n"
     ]
    },
    {
     "name": "stdout",
     "output_type": "stream",
     "text": [
      "iter 92\n"
     ]
    },
    {
     "name": "stderr",
     "output_type": "stream",
     "text": [
      "/Users/tsuzuki/anaconda3/lib/python3.4/site-packages/sklearn/gaussian_process/gpr.py:427: UserWarning: fmin_l_bfgs_b terminated abnormally with the  state: {'nit': 2, 'warnflag': 2, 'task': b'ABNORMAL_TERMINATION_IN_LNSRCH', 'funcalls': 52, 'grad': array([ 0.00061614])}\n",
      "  \" state: %s\" % convergence_dict)\n",
      "/Users/tsuzuki/anaconda3/lib/python3.4/site-packages/sklearn/gaussian_process/gpr.py:427: UserWarning: fmin_l_bfgs_b terminated abnormally with the  state: {'nit': 4, 'warnflag': 2, 'task': b'ABNORMAL_TERMINATION_IN_LNSRCH', 'funcalls': 49, 'grad': array([-0.02582753])}\n",
      "  \" state: %s\" % convergence_dict)\n"
     ]
    },
    {
     "name": "stdout",
     "output_type": "stream",
     "text": [
      "iter 93\n"
     ]
    },
    {
     "name": "stderr",
     "output_type": "stream",
     "text": [
      "/Users/tsuzuki/anaconda3/lib/python3.4/site-packages/sklearn/gaussian_process/gpr.py:427: UserWarning: fmin_l_bfgs_b terminated abnormally with the  state: {'nit': 2, 'warnflag': 2, 'task': b'ABNORMAL_TERMINATION_IN_LNSRCH', 'funcalls': 34, 'grad': array([-11.86989334])}\n",
      "  \" state: %s\" % convergence_dict)\n",
      "/Users/tsuzuki/anaconda3/lib/python3.4/site-packages/sklearn/gaussian_process/gpr.py:427: UserWarning: fmin_l_bfgs_b terminated abnormally with the  state: {'nit': 4, 'warnflag': 2, 'task': b'ABNORMAL_TERMINATION_IN_LNSRCH', 'funcalls': 49, 'grad': array([ 0.00512896])}\n",
      "  \" state: %s\" % convergence_dict)\n"
     ]
    },
    {
     "name": "stdout",
     "output_type": "stream",
     "text": [
      "iter 94\n"
     ]
    },
    {
     "name": "stderr",
     "output_type": "stream",
     "text": [
      "/Users/tsuzuki/anaconda3/lib/python3.4/site-packages/sklearn/gaussian_process/gpr.py:427: UserWarning: fmin_l_bfgs_b terminated abnormally with the  state: {'nit': 2, 'warnflag': 2, 'task': b'ABNORMAL_TERMINATION_IN_LNSRCH', 'funcalls': 53, 'grad': array([ 0.02022298])}\n",
      "  \" state: %s\" % convergence_dict)\n",
      "/Users/tsuzuki/anaconda3/lib/python3.4/site-packages/sklearn/gaussian_process/gpr.py:427: UserWarning: fmin_l_bfgs_b terminated abnormally with the  state: {'nit': 4, 'warnflag': 2, 'task': b'ABNORMAL_TERMINATION_IN_LNSRCH', 'funcalls': 51, 'grad': array([-0.00365926])}\n",
      "  \" state: %s\" % convergence_dict)\n",
      "/Users/tsuzuki/anaconda3/lib/python3.4/site-packages/sklearn/gaussian_process/gpr.py:427: UserWarning: fmin_l_bfgs_b terminated abnormally with the  state: {'nit': 6, 'warnflag': 2, 'task': b'ABNORMAL_TERMINATION_IN_LNSRCH', 'funcalls': 49, 'grad': array([ 0.0031001])}\n",
      "  \" state: %s\" % convergence_dict)\n"
     ]
    },
    {
     "name": "stdout",
     "output_type": "stream",
     "text": [
      "iter 95\n"
     ]
    },
    {
     "name": "stderr",
     "output_type": "stream",
     "text": [
      "/Users/tsuzuki/anaconda3/lib/python3.4/site-packages/sklearn/gaussian_process/gpr.py:427: UserWarning: fmin_l_bfgs_b terminated abnormally with the  state: {'nit': 3, 'warnflag': 2, 'task': b'ABNORMAL_TERMINATION_IN_LNSRCH', 'funcalls': 53, 'grad': array([ 0.00022694])}\n",
      "  \" state: %s\" % convergence_dict)\n",
      "/Users/tsuzuki/anaconda3/lib/python3.4/site-packages/sklearn/gaussian_process/gpr.py:427: UserWarning: fmin_l_bfgs_b terminated abnormally with the  state: {'nit': 5, 'warnflag': 2, 'task': b'ABNORMAL_TERMINATION_IN_LNSRCH', 'funcalls': 51, 'grad': array([-0.00053142])}\n",
      "  \" state: %s\" % convergence_dict)\n",
      "/Users/tsuzuki/anaconda3/lib/python3.4/site-packages/sklearn/gaussian_process/gpr.py:427: UserWarning: fmin_l_bfgs_b terminated abnormally with the  state: {'nit': 4, 'warnflag': 2, 'task': b'ABNORMAL_TERMINATION_IN_LNSRCH', 'funcalls': 55, 'grad': array([ 0.00093207])}\n",
      "  \" state: %s\" % convergence_dict)\n",
      "/Users/tsuzuki/anaconda3/lib/python3.4/site-packages/sklearn/gaussian_process/gpr.py:427: UserWarning: fmin_l_bfgs_b terminated abnormally with the  state: {'nit': 3, 'warnflag': 2, 'task': b'ABNORMAL_TERMINATION_IN_LNSRCH', 'funcalls': 51, 'grad': array([ 0.00333319])}\n",
      "  \" state: %s\" % convergence_dict)\n"
     ]
    },
    {
     "name": "stdout",
     "output_type": "stream",
     "text": [
      "iter 96\n"
     ]
    },
    {
     "name": "stderr",
     "output_type": "stream",
     "text": [
      "/Users/tsuzuki/anaconda3/lib/python3.4/site-packages/sklearn/gaussian_process/gpr.py:427: UserWarning: fmin_l_bfgs_b terminated abnormally with the  state: {'nit': 5, 'warnflag': 2, 'task': b'ABNORMAL_TERMINATION_IN_LNSRCH', 'funcalls': 59, 'grad': array([-0.0057973])}\n",
      "  \" state: %s\" % convergence_dict)\n",
      "/Users/tsuzuki/anaconda3/lib/python3.4/site-packages/sklearn/gaussian_process/gpr.py:427: UserWarning: fmin_l_bfgs_b terminated abnormally with the  state: {'nit': 5, 'warnflag': 2, 'task': b'ABNORMAL_TERMINATION_IN_LNSRCH', 'funcalls': 51, 'grad': array([-0.0005675])}\n",
      "  \" state: %s\" % convergence_dict)\n",
      "/Users/tsuzuki/anaconda3/lib/python3.4/site-packages/sklearn/gaussian_process/gpr.py:427: UserWarning: fmin_l_bfgs_b terminated abnormally with the  state: {'nit': 2, 'warnflag': 2, 'task': b'ABNORMAL_TERMINATION_IN_LNSRCH', 'funcalls': 51, 'grad': array([-0.00118779])}\n",
      "  \" state: %s\" % convergence_dict)\n"
     ]
    },
    {
     "name": "stdout",
     "output_type": "stream",
     "text": [
      "iter 97\n"
     ]
    },
    {
     "name": "stderr",
     "output_type": "stream",
     "text": [
      "/Users/tsuzuki/anaconda3/lib/python3.4/site-packages/sklearn/gaussian_process/gpr.py:427: UserWarning: fmin_l_bfgs_b terminated abnormally with the  state: {'nit': 2, 'warnflag': 2, 'task': b'ABNORMAL_TERMINATION_IN_LNSRCH', 'funcalls': 52, 'grad': array([ 0.00022671])}\n",
      "  \" state: %s\" % convergence_dict)\n"
     ]
    },
    {
     "name": "stdout",
     "output_type": "stream",
     "text": [
      "iter 98\n"
     ]
    },
    {
     "name": "stderr",
     "output_type": "stream",
     "text": [
      "/Users/tsuzuki/anaconda3/lib/python3.4/site-packages/sklearn/gaussian_process/gpr.py:427: UserWarning: fmin_l_bfgs_b terminated abnormally with the  state: {'nit': 3, 'warnflag': 2, 'task': b'ABNORMAL_TERMINATION_IN_LNSRCH', 'funcalls': 54, 'grad': array([ 0.02553073])}\n",
      "  \" state: %s\" % convergence_dict)\n",
      "/Users/tsuzuki/anaconda3/lib/python3.4/site-packages/sklearn/gaussian_process/gpr.py:427: UserWarning: fmin_l_bfgs_b terminated abnormally with the  state: {'nit': 2, 'warnflag': 2, 'task': b'ABNORMAL_TERMINATION_IN_LNSRCH', 'funcalls': 51, 'grad': array([-0.00036736])}\n",
      "  \" state: %s\" % convergence_dict)\n"
     ]
    },
    {
     "name": "stdout",
     "output_type": "stream",
     "text": [
      "iter 99\n"
     ]
    },
    {
     "name": "stderr",
     "output_type": "stream",
     "text": [
      "/Users/tsuzuki/anaconda3/lib/python3.4/site-packages/sklearn/gaussian_process/gpr.py:427: UserWarning: fmin_l_bfgs_b terminated abnormally with the  state: {'nit': 4, 'warnflag': 2, 'task': b'ABNORMAL_TERMINATION_IN_LNSRCH', 'funcalls': 55, 'grad': array([-0.00081316])}\n",
      "  \" state: %s\" % convergence_dict)\n",
      "/Users/tsuzuki/anaconda3/lib/python3.4/site-packages/sklearn/gaussian_process/gpr.py:427: UserWarning: fmin_l_bfgs_b terminated abnormally with the  state: {'nit': 4, 'warnflag': 2, 'task': b'ABNORMAL_TERMINATION_IN_LNSRCH', 'funcalls': 49, 'grad': array([-0.00438646])}\n",
      "  \" state: %s\" % convergence_dict)\n"
     ]
    },
    {
     "name": "stdout",
     "output_type": "stream",
     "text": [
      "iter 100\n"
     ]
    },
    {
     "name": "stderr",
     "output_type": "stream",
     "text": [
      "/Users/tsuzuki/anaconda3/lib/python3.4/site-packages/sklearn/gaussian_process/gpr.py:427: UserWarning: fmin_l_bfgs_b terminated abnormally with the  state: {'nit': 3, 'warnflag': 2, 'task': b'ABNORMAL_TERMINATION_IN_LNSRCH', 'funcalls': 47, 'grad': array([ 0.00584866])}\n",
      "  \" state: %s\" % convergence_dict)\n",
      "/Users/tsuzuki/anaconda3/lib/python3.4/site-packages/sklearn/gaussian_process/gpr.py:427: UserWarning: fmin_l_bfgs_b terminated abnormally with the  state: {'nit': 4, 'warnflag': 2, 'task': b'ABNORMAL_TERMINATION_IN_LNSRCH', 'funcalls': 49, 'grad': array([ 0.00137905])}\n",
      "  \" state: %s\" % convergence_dict)\n"
     ]
    },
    {
     "name": "stdout",
     "output_type": "stream",
     "text": [
      "iter 101\n"
     ]
    },
    {
     "name": "stderr",
     "output_type": "stream",
     "text": [
      "/Users/tsuzuki/anaconda3/lib/python3.4/site-packages/sklearn/gaussian_process/gpr.py:427: UserWarning: fmin_l_bfgs_b terminated abnormally with the  state: {'nit': 2, 'warnflag': 2, 'task': b'ABNORMAL_TERMINATION_IN_LNSRCH', 'funcalls': 33, 'grad': array([-18.78593888])}\n",
      "  \" state: %s\" % convergence_dict)\n",
      "/Users/tsuzuki/anaconda3/lib/python3.4/site-packages/sklearn/gaussian_process/gpr.py:427: UserWarning: fmin_l_bfgs_b terminated abnormally with the  state: {'nit': 2, 'warnflag': 2, 'task': b'ABNORMAL_TERMINATION_IN_LNSRCH', 'funcalls': 36, 'grad': array([-11.1131542])}\n",
      "  \" state: %s\" % convergence_dict)\n",
      "/Users/tsuzuki/anaconda3/lib/python3.4/site-packages/sklearn/gaussian_process/gpr.py:427: UserWarning: fmin_l_bfgs_b terminated abnormally with the  state: {'nit': 4, 'warnflag': 2, 'task': b'ABNORMAL_TERMINATION_IN_LNSRCH', 'funcalls': 55, 'grad': array([ 0.00057224])}\n",
      "  \" state: %s\" % convergence_dict)\n",
      "/Users/tsuzuki/anaconda3/lib/python3.4/site-packages/sklearn/gaussian_process/gpr.py:427: UserWarning: fmin_l_bfgs_b terminated abnormally with the  state: {'nit': 2, 'warnflag': 2, 'task': b'ABNORMAL_TERMINATION_IN_LNSRCH', 'funcalls': 35, 'grad': array([-10.41157732])}\n",
      "  \" state: %s\" % convergence_dict)\n"
     ]
    },
    {
     "name": "stdout",
     "output_type": "stream",
     "text": [
      "iter 102\n"
     ]
    },
    {
     "name": "stderr",
     "output_type": "stream",
     "text": [
      "/Users/tsuzuki/anaconda3/lib/python3.4/site-packages/sklearn/gaussian_process/gpr.py:427: UserWarning: fmin_l_bfgs_b terminated abnormally with the  state: {'nit': 5, 'warnflag': 2, 'task': b'ABNORMAL_TERMINATION_IN_LNSRCH', 'funcalls': 52, 'grad': array([ 0.01734293])}\n",
      "  \" state: %s\" % convergence_dict)\n",
      "/Users/tsuzuki/anaconda3/lib/python3.4/site-packages/sklearn/gaussian_process/gpr.py:427: UserWarning: fmin_l_bfgs_b terminated abnormally with the  state: {'nit': 6, 'warnflag': 2, 'task': b'ABNORMAL_TERMINATION_IN_LNSRCH', 'funcalls': 55, 'grad': array([-0.00095674])}\n",
      "  \" state: %s\" % convergence_dict)\n",
      "/Users/tsuzuki/anaconda3/lib/python3.4/site-packages/sklearn/gaussian_process/gpr.py:427: UserWarning: fmin_l_bfgs_b terminated abnormally with the  state: {'nit': 2, 'warnflag': 2, 'task': b'ABNORMAL_TERMINATION_IN_LNSRCH', 'funcalls': 34, 'grad': array([-87.89148574])}\n",
      "  \" state: %s\" % convergence_dict)\n"
     ]
    },
    {
     "name": "stdout",
     "output_type": "stream",
     "text": [
      "iter 103\n"
     ]
    },
    {
     "name": "stderr",
     "output_type": "stream",
     "text": [
      "/Users/tsuzuki/anaconda3/lib/python3.4/site-packages/sklearn/gaussian_process/gpr.py:427: UserWarning: fmin_l_bfgs_b terminated abnormally with the  state: {'nit': 5, 'warnflag': 2, 'task': b'ABNORMAL_TERMINATION_IN_LNSRCH', 'funcalls': 59, 'grad': array([-0.00566516])}\n",
      "  \" state: %s\" % convergence_dict)\n",
      "/Users/tsuzuki/anaconda3/lib/python3.4/site-packages/sklearn/gaussian_process/gpr.py:427: UserWarning: fmin_l_bfgs_b terminated abnormally with the  state: {'nit': 2, 'warnflag': 2, 'task': b'ABNORMAL_TERMINATION_IN_LNSRCH', 'funcalls': 35, 'grad': array([-10.13673695])}\n",
      "  \" state: %s\" % convergence_dict)\n"
     ]
    },
    {
     "name": "stdout",
     "output_type": "stream",
     "text": [
      "iter 104\n"
     ]
    },
    {
     "name": "stderr",
     "output_type": "stream",
     "text": [
      "/Users/tsuzuki/anaconda3/lib/python3.4/site-packages/sklearn/gaussian_process/gpr.py:427: UserWarning: fmin_l_bfgs_b terminated abnormally with the  state: {'nit': 5, 'warnflag': 2, 'task': b'ABNORMAL_TERMINATION_IN_LNSRCH', 'funcalls': 52, 'grad': array([-0.00223051])}\n",
      "  \" state: %s\" % convergence_dict)\n"
     ]
    },
    {
     "name": "stdout",
     "output_type": "stream",
     "text": [
      "iter 105\n"
     ]
    },
    {
     "name": "stderr",
     "output_type": "stream",
     "text": [
      "/Users/tsuzuki/anaconda3/lib/python3.4/site-packages/sklearn/gaussian_process/gpr.py:427: UserWarning: fmin_l_bfgs_b terminated abnormally with the  state: {'nit': 4, 'warnflag': 2, 'task': b'ABNORMAL_TERMINATION_IN_LNSRCH', 'funcalls': 56, 'grad': array([-0.00612903])}\n",
      "  \" state: %s\" % convergence_dict)\n"
     ]
    },
    {
     "name": "stdout",
     "output_type": "stream",
     "text": [
      "iter 106\n"
     ]
    },
    {
     "name": "stderr",
     "output_type": "stream",
     "text": [
      "/Users/tsuzuki/anaconda3/lib/python3.4/site-packages/sklearn/gaussian_process/gpr.py:427: UserWarning: fmin_l_bfgs_b terminated abnormally with the  state: {'nit': 5, 'warnflag': 2, 'task': b'ABNORMAL_TERMINATION_IN_LNSRCH', 'funcalls': 59, 'grad': array([ 0.04413932])}\n",
      "  \" state: %s\" % convergence_dict)\n"
     ]
    },
    {
     "name": "stdout",
     "output_type": "stream",
     "text": [
      "iter 107\n"
     ]
    },
    {
     "name": "stderr",
     "output_type": "stream",
     "text": [
      "/Users/tsuzuki/anaconda3/lib/python3.4/site-packages/sklearn/gaussian_process/gpr.py:427: UserWarning: fmin_l_bfgs_b terminated abnormally with the  state: {'nit': 3, 'warnflag': 2, 'task': b'ABNORMAL_TERMINATION_IN_LNSRCH', 'funcalls': 36, 'grad': array([-9.111483])}\n",
      "  \" state: %s\" % convergence_dict)\n",
      "/Users/tsuzuki/anaconda3/lib/python3.4/site-packages/sklearn/gaussian_process/gpr.py:427: UserWarning: fmin_l_bfgs_b terminated abnormally with the  state: {'nit': 3, 'warnflag': 2, 'task': b'ABNORMAL_TERMINATION_IN_LNSRCH', 'funcalls': 51, 'grad': array([-0.04187729])}\n",
      "  \" state: %s\" % convergence_dict)\n"
     ]
    },
    {
     "name": "stdout",
     "output_type": "stream",
     "text": [
      "iter 108\n"
     ]
    },
    {
     "name": "stderr",
     "output_type": "stream",
     "text": [
      "/Users/tsuzuki/anaconda3/lib/python3.4/site-packages/sklearn/gaussian_process/gpr.py:427: UserWarning: fmin_l_bfgs_b terminated abnormally with the  state: {'nit': 3, 'warnflag': 2, 'task': b'ABNORMAL_TERMINATION_IN_LNSRCH', 'funcalls': 56, 'grad': array([ 0.20060221])}\n",
      "  \" state: %s\" % convergence_dict)\n"
     ]
    },
    {
     "name": "stdout",
     "output_type": "stream",
     "text": [
      "iter 109\n"
     ]
    },
    {
     "name": "stderr",
     "output_type": "stream",
     "text": [
      "/Users/tsuzuki/anaconda3/lib/python3.4/site-packages/sklearn/gaussian_process/gpr.py:427: UserWarning: fmin_l_bfgs_b terminated abnormally with the  state: {'nit': 6, 'warnflag': 2, 'task': b'ABNORMAL_TERMINATION_IN_LNSRCH', 'funcalls': 49, 'grad': array([ 0.00247463])}\n",
      "  \" state: %s\" % convergence_dict)\n"
     ]
    },
    {
     "name": "stdout",
     "output_type": "stream",
     "text": [
      "iter 110\n"
     ]
    },
    {
     "name": "stderr",
     "output_type": "stream",
     "text": [
      "/Users/tsuzuki/anaconda3/lib/python3.4/site-packages/sklearn/gaussian_process/gpr.py:427: UserWarning: fmin_l_bfgs_b terminated abnormally with the  state: {'nit': 3, 'warnflag': 2, 'task': b'ABNORMAL_TERMINATION_IN_LNSRCH', 'funcalls': 48, 'grad': array([ 0.00137242])}\n",
      "  \" state: %s\" % convergence_dict)\n",
      "/Users/tsuzuki/anaconda3/lib/python3.4/site-packages/sklearn/gaussian_process/gpr.py:427: UserWarning: fmin_l_bfgs_b terminated abnormally with the  state: {'nit': 3, 'warnflag': 2, 'task': b'ABNORMAL_TERMINATION_IN_LNSRCH', 'funcalls': 48, 'grad': array([-0.02164804])}\n",
      "  \" state: %s\" % convergence_dict)\n",
      "/Users/tsuzuki/anaconda3/lib/python3.4/site-packages/sklearn/gaussian_process/gpr.py:427: UserWarning: fmin_l_bfgs_b terminated abnormally with the  state: {'nit': 3, 'warnflag': 2, 'task': b'ABNORMAL_TERMINATION_IN_LNSRCH', 'funcalls': 54, 'grad': array([-0.01885801])}\n",
      "  \" state: %s\" % convergence_dict)\n"
     ]
    },
    {
     "name": "stdout",
     "output_type": "stream",
     "text": [
      "iter 111\n"
     ]
    },
    {
     "name": "stderr",
     "output_type": "stream",
     "text": [
      "/Users/tsuzuki/anaconda3/lib/python3.4/site-packages/sklearn/gaussian_process/gpr.py:427: UserWarning: fmin_l_bfgs_b terminated abnormally with the  state: {'nit': 3, 'warnflag': 2, 'task': b'ABNORMAL_TERMINATION_IN_LNSRCH', 'funcalls': 52, 'grad': array([-0.04828208])}\n",
      "  \" state: %s\" % convergence_dict)\n"
     ]
    },
    {
     "name": "stdout",
     "output_type": "stream",
     "text": [
      "iter 112\n",
      "iter 113\n"
     ]
    },
    {
     "name": "stderr",
     "output_type": "stream",
     "text": [
      "/Users/tsuzuki/anaconda3/lib/python3.4/site-packages/sklearn/gaussian_process/gpr.py:427: UserWarning: fmin_l_bfgs_b terminated abnormally with the  state: {'nit': 3, 'warnflag': 2, 'task': b'ABNORMAL_TERMINATION_IN_LNSRCH', 'funcalls': 48, 'grad': array([ 0.01661088])}\n",
      "  \" state: %s\" % convergence_dict)\n",
      "/Users/tsuzuki/anaconda3/lib/python3.4/site-packages/sklearn/gaussian_process/gpr.py:427: UserWarning: fmin_l_bfgs_b terminated abnormally with the  state: {'nit': 5, 'warnflag': 2, 'task': b'ABNORMAL_TERMINATION_IN_LNSRCH', 'funcalls': 54, 'grad': array([ 0.00738022])}\n",
      "  \" state: %s\" % convergence_dict)\n"
     ]
    },
    {
     "name": "stdout",
     "output_type": "stream",
     "text": [
      "iter 114\n"
     ]
    },
    {
     "name": "stderr",
     "output_type": "stream",
     "text": [
      "/Users/tsuzuki/anaconda3/lib/python3.4/site-packages/sklearn/gaussian_process/gpr.py:427: UserWarning: fmin_l_bfgs_b terminated abnormally with the  state: {'nit': 5, 'warnflag': 2, 'task': b'ABNORMAL_TERMINATION_IN_LNSRCH', 'funcalls': 58, 'grad': array([ 0.00191751])}\n",
      "  \" state: %s\" % convergence_dict)\n"
     ]
    },
    {
     "name": "stdout",
     "output_type": "stream",
     "text": [
      "iter 115\n",
      "iter 116\n"
     ]
    },
    {
     "name": "stderr",
     "output_type": "stream",
     "text": [
      "/Users/tsuzuki/anaconda3/lib/python3.4/site-packages/sklearn/gaussian_process/gpr.py:427: UserWarning: fmin_l_bfgs_b terminated abnormally with the  state: {'nit': 2, 'warnflag': 2, 'task': b'ABNORMAL_TERMINATION_IN_LNSRCH', 'funcalls': 51, 'grad': array([-0.00122017])}\n",
      "  \" state: %s\" % convergence_dict)\n",
      "/Users/tsuzuki/anaconda3/lib/python3.4/site-packages/sklearn/gaussian_process/gpr.py:427: UserWarning: fmin_l_bfgs_b terminated abnormally with the  state: {'nit': 4, 'warnflag': 2, 'task': b'ABNORMAL_TERMINATION_IN_LNSRCH', 'funcalls': 53, 'grad': array([ 0.06567204])}\n",
      "  \" state: %s\" % convergence_dict)\n",
      "/Users/tsuzuki/anaconda3/lib/python3.4/site-packages/sklearn/gaussian_process/gpr.py:427: UserWarning: fmin_l_bfgs_b terminated abnormally with the  state: {'nit': 1, 'warnflag': 2, 'task': b'ABNORMAL_TERMINATION_IN_LNSRCH', 'funcalls': 48, 'grad': array([-234.54711233])}\n",
      "  \" state: %s\" % convergence_dict)\n"
     ]
    },
    {
     "name": "stdout",
     "output_type": "stream",
     "text": [
      "iter 117\n",
      "iter 118\n"
     ]
    },
    {
     "name": "stderr",
     "output_type": "stream",
     "text": [
      "/Users/tsuzuki/anaconda3/lib/python3.4/site-packages/sklearn/gaussian_process/gpr.py:427: UserWarning: fmin_l_bfgs_b terminated abnormally with the  state: {'nit': 4, 'warnflag': 2, 'task': b'ABNORMAL_TERMINATION_IN_LNSRCH', 'funcalls': 49, 'grad': array([ 0.0101993])}\n",
      "  \" state: %s\" % convergence_dict)\n",
      "/Users/tsuzuki/anaconda3/lib/python3.4/site-packages/sklearn/gaussian_process/gpr.py:427: UserWarning: fmin_l_bfgs_b terminated abnormally with the  state: {'nit': 5, 'warnflag': 2, 'task': b'ABNORMAL_TERMINATION_IN_LNSRCH', 'funcalls': 48, 'grad': array([-0.04490617])}\n",
      "  \" state: %s\" % convergence_dict)\n",
      "/Users/tsuzuki/anaconda3/lib/python3.4/site-packages/sklearn/gaussian_process/gpr.py:427: UserWarning: fmin_l_bfgs_b terminated abnormally with the  state: {'nit': 2, 'warnflag': 2, 'task': b'ABNORMAL_TERMINATION_IN_LNSRCH', 'funcalls': 34, 'grad': array([-13.9600377])}\n",
      "  \" state: %s\" % convergence_dict)\n",
      "/Users/tsuzuki/anaconda3/lib/python3.4/site-packages/sklearn/gaussian_process/gpr.py:427: UserWarning: fmin_l_bfgs_b terminated abnormally with the  state: {'nit': 2, 'warnflag': 2, 'task': b'ABNORMAL_TERMINATION_IN_LNSRCH', 'funcalls': 34, 'grad': array([-14.35228122])}\n",
      "  \" state: %s\" % convergence_dict)\n"
     ]
    },
    {
     "name": "stdout",
     "output_type": "stream",
     "text": [
      "iter 119\n"
     ]
    },
    {
     "name": "stderr",
     "output_type": "stream",
     "text": [
      "/Users/tsuzuki/anaconda3/lib/python3.4/site-packages/sklearn/gaussian_process/gpr.py:427: UserWarning: fmin_l_bfgs_b terminated abnormally with the  state: {'nit': 2, 'warnflag': 2, 'task': b'ABNORMAL_TERMINATION_IN_LNSRCH', 'funcalls': 51, 'grad': array([ 0.05133167])}\n",
      "  \" state: %s\" % convergence_dict)\n",
      "/Users/tsuzuki/anaconda3/lib/python3.4/site-packages/sklearn/gaussian_process/gpr.py:427: UserWarning: fmin_l_bfgs_b terminated abnormally with the  state: {'nit': 4, 'warnflag': 2, 'task': b'ABNORMAL_TERMINATION_IN_LNSRCH', 'funcalls': 54, 'grad': array([ 0.01600248])}\n",
      "  \" state: %s\" % convergence_dict)\n"
     ]
    },
    {
     "name": "stdout",
     "output_type": "stream",
     "text": [
      "iter 120\n"
     ]
    },
    {
     "name": "stderr",
     "output_type": "stream",
     "text": [
      "/Users/tsuzuki/anaconda3/lib/python3.4/site-packages/sklearn/gaussian_process/gpr.py:427: UserWarning: fmin_l_bfgs_b terminated abnormally with the  state: {'nit': 4, 'warnflag': 2, 'task': b'ABNORMAL_TERMINATION_IN_LNSRCH', 'funcalls': 59, 'grad': array([ 0.0011762])}\n",
      "  \" state: %s\" % convergence_dict)\n",
      "/Users/tsuzuki/anaconda3/lib/python3.4/site-packages/sklearn/gaussian_process/gpr.py:427: UserWarning: fmin_l_bfgs_b terminated abnormally with the  state: {'nit': 2, 'warnflag': 2, 'task': b'ABNORMAL_TERMINATION_IN_LNSRCH', 'funcalls': 49, 'grad': array([-0.04387948])}\n",
      "  \" state: %s\" % convergence_dict)\n",
      "/Users/tsuzuki/anaconda3/lib/python3.4/site-packages/sklearn/gaussian_process/gpr.py:427: UserWarning: fmin_l_bfgs_b terminated abnormally with the  state: {'nit': 3, 'warnflag': 2, 'task': b'ABNORMAL_TERMINATION_IN_LNSRCH', 'funcalls': 52, 'grad': array([ 0.00830444])}\n",
      "  \" state: %s\" % convergence_dict)\n"
     ]
    },
    {
     "name": "stdout",
     "output_type": "stream",
     "text": [
      "iter 121\n"
     ]
    },
    {
     "name": "stderr",
     "output_type": "stream",
     "text": [
      "/Users/tsuzuki/anaconda3/lib/python3.4/site-packages/sklearn/gaussian_process/gpr.py:427: UserWarning: fmin_l_bfgs_b terminated abnormally with the  state: {'nit': 4, 'warnflag': 2, 'task': b'ABNORMAL_TERMINATION_IN_LNSRCH', 'funcalls': 49, 'grad': array([-0.00434988])}\n",
      "  \" state: %s\" % convergence_dict)\n"
     ]
    },
    {
     "name": "stdout",
     "output_type": "stream",
     "text": [
      "iter 122\n"
     ]
    },
    {
     "name": "stderr",
     "output_type": "stream",
     "text": [
      "/Users/tsuzuki/anaconda3/lib/python3.4/site-packages/sklearn/gaussian_process/gpr.py:427: UserWarning: fmin_l_bfgs_b terminated abnormally with the  state: {'nit': 2, 'warnflag': 2, 'task': b'ABNORMAL_TERMINATION_IN_LNSRCH', 'funcalls': 51, 'grad': array([-0.00079988])}\n",
      "  \" state: %s\" % convergence_dict)\n",
      "/Users/tsuzuki/anaconda3/lib/python3.4/site-packages/sklearn/gaussian_process/gpr.py:427: UserWarning: fmin_l_bfgs_b terminated abnormally with the  state: {'nit': 1, 'warnflag': 2, 'task': b'ABNORMAL_TERMINATION_IN_LNSRCH', 'funcalls': 48, 'grad': array([-247.97821366])}\n",
      "  \" state: %s\" % convergence_dict)\n",
      "/Users/tsuzuki/anaconda3/lib/python3.4/site-packages/sklearn/gaussian_process/gpr.py:427: UserWarning: fmin_l_bfgs_b terminated abnormally with the  state: {'nit': 2, 'warnflag': 2, 'task': b'ABNORMAL_TERMINATION_IN_LNSRCH', 'funcalls': 32, 'grad': array([-537.62315809])}\n",
      "  \" state: %s\" % convergence_dict)\n",
      "/Users/tsuzuki/anaconda3/lib/python3.4/site-packages/sklearn/gaussian_process/gpr.py:427: UserWarning: fmin_l_bfgs_b terminated abnormally with the  state: {'nit': 1, 'warnflag': 2, 'task': b'ABNORMAL_TERMINATION_IN_LNSRCH', 'funcalls': 48, 'grad': array([-238.34780304])}\n",
      "  \" state: %s\" % convergence_dict)\n"
     ]
    },
    {
     "name": "stdout",
     "output_type": "stream",
     "text": [
      "iter 123\n",
      "iter 124\n",
      "iter 125\n"
     ]
    },
    {
     "name": "stderr",
     "output_type": "stream",
     "text": [
      "/Users/tsuzuki/anaconda3/lib/python3.4/site-packages/sklearn/gaussian_process/gpr.py:427: UserWarning: fmin_l_bfgs_b terminated abnormally with the  state: {'nit': 3, 'warnflag': 2, 'task': b'ABNORMAL_TERMINATION_IN_LNSRCH', 'funcalls': 37, 'grad': array([-16.14936972])}\n",
      "  \" state: %s\" % convergence_dict)\n"
     ]
    },
    {
     "name": "stdout",
     "output_type": "stream",
     "text": [
      "iter 126\n"
     ]
    },
    {
     "name": "stderr",
     "output_type": "stream",
     "text": [
      "/Users/tsuzuki/anaconda3/lib/python3.4/site-packages/sklearn/gaussian_process/gpr.py:427: UserWarning: fmin_l_bfgs_b terminated abnormally with the  state: {'nit': 2, 'warnflag': 2, 'task': b'ABNORMAL_TERMINATION_IN_LNSRCH', 'funcalls': 49, 'grad': array([-0.00401403])}\n",
      "  \" state: %s\" % convergence_dict)\n"
     ]
    },
    {
     "name": "stdout",
     "output_type": "stream",
     "text": [
      "iter 127\n"
     ]
    },
    {
     "name": "stderr",
     "output_type": "stream",
     "text": [
      "/Users/tsuzuki/anaconda3/lib/python3.4/site-packages/sklearn/gaussian_process/gpr.py:427: UserWarning: fmin_l_bfgs_b terminated abnormally with the  state: {'nit': 1, 'warnflag': 2, 'task': b'ABNORMAL_TERMINATION_IN_LNSRCH', 'funcalls': 48, 'grad': array([-248.38307471])}\n",
      "  \" state: %s\" % convergence_dict)\n"
     ]
    },
    {
     "name": "stdout",
     "output_type": "stream",
     "text": [
      "iter 128\n"
     ]
    },
    {
     "name": "stderr",
     "output_type": "stream",
     "text": [
      "/Users/tsuzuki/anaconda3/lib/python3.4/site-packages/sklearn/gaussian_process/gpr.py:427: UserWarning: fmin_l_bfgs_b terminated abnormally with the  state: {'nit': 2, 'warnflag': 2, 'task': b'ABNORMAL_TERMINATION_IN_LNSRCH', 'funcalls': 49, 'grad': array([-0.05817283])}\n",
      "  \" state: %s\" % convergence_dict)\n",
      "/Users/tsuzuki/anaconda3/lib/python3.4/site-packages/sklearn/gaussian_process/gpr.py:427: UserWarning: fmin_l_bfgs_b terminated abnormally with the  state: {'nit': 2, 'warnflag': 2, 'task': b'ABNORMAL_TERMINATION_IN_LNSRCH', 'funcalls': 54, 'grad': array([-0.00046069])}\n",
      "  \" state: %s\" % convergence_dict)\n",
      "/Users/tsuzuki/anaconda3/lib/python3.4/site-packages/sklearn/gaussian_process/gpr.py:427: UserWarning: fmin_l_bfgs_b terminated abnormally with the  state: {'nit': 1, 'warnflag': 2, 'task': b'ABNORMAL_TERMINATION_IN_LNSRCH', 'funcalls': 28, 'grad': array([-565.39214893])}\n",
      "  \" state: %s\" % convergence_dict)\n"
     ]
    },
    {
     "name": "stdout",
     "output_type": "stream",
     "text": [
      "iter 129\n"
     ]
    },
    {
     "name": "stderr",
     "output_type": "stream",
     "text": [
      "/Users/tsuzuki/anaconda3/lib/python3.4/site-packages/sklearn/gaussian_process/gpr.py:427: UserWarning: fmin_l_bfgs_b terminated abnormally with the  state: {'nit': 5, 'warnflag': 2, 'task': b'ABNORMAL_TERMINATION_IN_LNSRCH', 'funcalls': 48, 'grad': array([-0.03314228])}\n",
      "  \" state: %s\" % convergence_dict)\n"
     ]
    },
    {
     "name": "stdout",
     "output_type": "stream",
     "text": [
      "iter 130\n"
     ]
    },
    {
     "name": "stderr",
     "output_type": "stream",
     "text": [
      "/Users/tsuzuki/anaconda3/lib/python3.4/site-packages/sklearn/gaussian_process/gpr.py:427: UserWarning: fmin_l_bfgs_b terminated abnormally with the  state: {'nit': 3, 'warnflag': 2, 'task': b'ABNORMAL_TERMINATION_IN_LNSRCH', 'funcalls': 33, 'grad': array([-52.22424149])}\n",
      "  \" state: %s\" % convergence_dict)\n",
      "/Users/tsuzuki/anaconda3/lib/python3.4/site-packages/sklearn/gaussian_process/gpr.py:427: UserWarning: fmin_l_bfgs_b terminated abnormally with the  state: {'nit': 3, 'warnflag': 2, 'task': b'ABNORMAL_TERMINATION_IN_LNSRCH', 'funcalls': 53, 'grad': array([ 0.03645347])}\n",
      "  \" state: %s\" % convergence_dict)\n"
     ]
    },
    {
     "name": "stdout",
     "output_type": "stream",
     "text": [
      "iter 131\n"
     ]
    },
    {
     "name": "stderr",
     "output_type": "stream",
     "text": [
      "/Users/tsuzuki/anaconda3/lib/python3.4/site-packages/sklearn/gaussian_process/gpr.py:427: UserWarning: fmin_l_bfgs_b terminated abnormally with the  state: {'nit': 2, 'warnflag': 2, 'task': b'ABNORMAL_TERMINATION_IN_LNSRCH', 'funcalls': 34, 'grad': array([-14.14199495])}\n",
      "  \" state: %s\" % convergence_dict)\n"
     ]
    },
    {
     "name": "stdout",
     "output_type": "stream",
     "text": [
      "iter 132\n"
     ]
    },
    {
     "name": "stderr",
     "output_type": "stream",
     "text": [
      "/Users/tsuzuki/anaconda3/lib/python3.4/site-packages/sklearn/gaussian_process/gpr.py:427: UserWarning: fmin_l_bfgs_b terminated abnormally with the  state: {'nit': 5, 'warnflag': 2, 'task': b'ABNORMAL_TERMINATION_IN_LNSRCH', 'funcalls': 50, 'grad': array([ 0.00137759])}\n",
      "  \" state: %s\" % convergence_dict)\n",
      "/Users/tsuzuki/anaconda3/lib/python3.4/site-packages/sklearn/gaussian_process/gpr.py:427: UserWarning: fmin_l_bfgs_b terminated abnormally with the  state: {'nit': 1, 'warnflag': 2, 'task': b'ABNORMAL_TERMINATION_IN_LNSRCH', 'funcalls': 48, 'grad': array([-249.20866045])}\n",
      "  \" state: %s\" % convergence_dict)\n",
      "/Users/tsuzuki/anaconda3/lib/python3.4/site-packages/sklearn/gaussian_process/gpr.py:427: UserWarning: fmin_l_bfgs_b terminated abnormally with the  state: {'nit': 4, 'warnflag': 2, 'task': b'ABNORMAL_TERMINATION_IN_LNSRCH', 'funcalls': 52, 'grad': array([ 0.00890062])}\n",
      "  \" state: %s\" % convergence_dict)\n"
     ]
    },
    {
     "name": "stdout",
     "output_type": "stream",
     "text": [
      "iter 133\n",
      "iter 134\n"
     ]
    },
    {
     "name": "stderr",
     "output_type": "stream",
     "text": [
      "/Users/tsuzuki/anaconda3/lib/python3.4/site-packages/sklearn/gaussian_process/gpr.py:427: UserWarning: fmin_l_bfgs_b terminated abnormally with the  state: {'nit': 3, 'warnflag': 2, 'task': b'ABNORMAL_TERMINATION_IN_LNSRCH', 'funcalls': 48, 'grad': array([ 0.02618025])}\n",
      "  \" state: %s\" % convergence_dict)\n",
      "/Users/tsuzuki/anaconda3/lib/python3.4/site-packages/sklearn/gaussian_process/gpr.py:427: UserWarning: fmin_l_bfgs_b terminated abnormally with the  state: {'nit': 2, 'warnflag': 2, 'task': b'ABNORMAL_TERMINATION_IN_LNSRCH', 'funcalls': 53, 'grad': array([-0.02447821])}\n",
      "  \" state: %s\" % convergence_dict)\n"
     ]
    },
    {
     "name": "stdout",
     "output_type": "stream",
     "text": [
      "iter 135\n",
      "iter 136\n"
     ]
    },
    {
     "name": "stderr",
     "output_type": "stream",
     "text": [
      "/Users/tsuzuki/anaconda3/lib/python3.4/site-packages/sklearn/gaussian_process/gpr.py:427: UserWarning: fmin_l_bfgs_b terminated abnormally with the  state: {'nit': 0, 'warnflag': 2, 'task': b'ABNORMAL_TERMINATION_IN_LNSRCH', 'funcalls': 21, 'grad': array([-84.20164645])}\n",
      "  \" state: %s\" % convergence_dict)\n",
      "/Users/tsuzuki/anaconda3/lib/python3.4/site-packages/sklearn/gaussian_process/gpr.py:427: UserWarning: fmin_l_bfgs_b terminated abnormally with the  state: {'nit': 2, 'warnflag': 2, 'task': b'ABNORMAL_TERMINATION_IN_LNSRCH', 'funcalls': 49, 'grad': array([-226.6581155])}\n",
      "  \" state: %s\" % convergence_dict)\n"
     ]
    },
    {
     "name": "stdout",
     "output_type": "stream",
     "text": [
      "iter 137\n"
     ]
    },
    {
     "name": "stderr",
     "output_type": "stream",
     "text": [
      "/Users/tsuzuki/anaconda3/lib/python3.4/site-packages/sklearn/gaussian_process/gpr.py:427: UserWarning: fmin_l_bfgs_b terminated abnormally with the  state: {'nit': 2, 'warnflag': 2, 'task': b'ABNORMAL_TERMINATION_IN_LNSRCH', 'funcalls': 53, 'grad': array([-0.06796247])}\n",
      "  \" state: %s\" % convergence_dict)\n",
      "/Users/tsuzuki/anaconda3/lib/python3.4/site-packages/sklearn/gaussian_process/gpr.py:427: UserWarning: fmin_l_bfgs_b terminated abnormally with the  state: {'nit': 5, 'warnflag': 2, 'task': b'ABNORMAL_TERMINATION_IN_LNSRCH', 'funcalls': 50, 'grad': array([ 0.01038266])}\n",
      "  \" state: %s\" % convergence_dict)\n",
      "/Users/tsuzuki/anaconda3/lib/python3.4/site-packages/sklearn/gaussian_process/gpr.py:427: UserWarning: fmin_l_bfgs_b terminated abnormally with the  state: {'nit': 1, 'warnflag': 2, 'task': b'ABNORMAL_TERMINATION_IN_LNSRCH', 'funcalls': 48, 'grad': array([-229.79215165])}\n",
      "  \" state: %s\" % convergence_dict)\n"
     ]
    },
    {
     "name": "stdout",
     "output_type": "stream",
     "text": [
      "iter 138\n"
     ]
    },
    {
     "name": "stderr",
     "output_type": "stream",
     "text": [
      "/Users/tsuzuki/anaconda3/lib/python3.4/site-packages/sklearn/gaussian_process/gpr.py:427: UserWarning: fmin_l_bfgs_b terminated abnormally with the  state: {'nit': 4, 'warnflag': 2, 'task': b'ABNORMAL_TERMINATION_IN_LNSRCH', 'funcalls': 49, 'grad': array([ 0.00189059])}\n",
      "  \" state: %s\" % convergence_dict)\n",
      "/Users/tsuzuki/anaconda3/lib/python3.4/site-packages/sklearn/gaussian_process/gpr.py:427: UserWarning: fmin_l_bfgs_b terminated abnormally with the  state: {'nit': 4, 'warnflag': 2, 'task': b'ABNORMAL_TERMINATION_IN_LNSRCH', 'funcalls': 53, 'grad': array([ 0.00168472])}\n",
      "  \" state: %s\" % convergence_dict)\n"
     ]
    },
    {
     "name": "stdout",
     "output_type": "stream",
     "text": [
      "iter 139\n"
     ]
    },
    {
     "name": "stderr",
     "output_type": "stream",
     "text": [
      "/Users/tsuzuki/anaconda3/lib/python3.4/site-packages/sklearn/gaussian_process/gpr.py:427: UserWarning: fmin_l_bfgs_b terminated abnormally with the  state: {'nit': 3, 'warnflag': 2, 'task': b'ABNORMAL_TERMINATION_IN_LNSRCH', 'funcalls': 53, 'grad': array([ 0.01912851])}\n",
      "  \" state: %s\" % convergence_dict)\n"
     ]
    },
    {
     "name": "stdout",
     "output_type": "stream",
     "text": [
      "iter 140\n"
     ]
    },
    {
     "name": "stderr",
     "output_type": "stream",
     "text": [
      "/Users/tsuzuki/anaconda3/lib/python3.4/site-packages/sklearn/gaussian_process/gpr.py:427: UserWarning: fmin_l_bfgs_b terminated abnormally with the  state: {'nit': 6, 'warnflag': 2, 'task': b'ABNORMAL_TERMINATION_IN_LNSRCH', 'funcalls': 49, 'grad': array([ 0.00215503])}\n",
      "  \" state: %s\" % convergence_dict)\n",
      "/Users/tsuzuki/anaconda3/lib/python3.4/site-packages/sklearn/gaussian_process/gpr.py:427: UserWarning: fmin_l_bfgs_b terminated abnormally with the  state: {'nit': 4, 'warnflag': 2, 'task': b'ABNORMAL_TERMINATION_IN_LNSRCH', 'funcalls': 49, 'grad': array([-0.0286366])}\n",
      "  \" state: %s\" % convergence_dict)\n",
      "/Users/tsuzuki/anaconda3/lib/python3.4/site-packages/sklearn/gaussian_process/gpr.py:427: UserWarning: fmin_l_bfgs_b terminated abnormally with the  state: {'nit': 2, 'warnflag': 2, 'task': b'ABNORMAL_TERMINATION_IN_LNSRCH', 'funcalls': 50, 'grad': array([-0.10955072])}\n",
      "  \" state: %s\" % convergence_dict)\n",
      "/Users/tsuzuki/anaconda3/lib/python3.4/site-packages/sklearn/gaussian_process/gpr.py:427: UserWarning: fmin_l_bfgs_b terminated abnormally with the  state: {'nit': 1, 'warnflag': 2, 'task': b'ABNORMAL_TERMINATION_IN_LNSRCH', 'funcalls': 48, 'grad': array([-241.98131975])}\n",
      "  \" state: %s\" % convergence_dict)\n"
     ]
    },
    {
     "name": "stdout",
     "output_type": "stream",
     "text": [
      "iter 141\n"
     ]
    },
    {
     "name": "stderr",
     "output_type": "stream",
     "text": [
      "/Users/tsuzuki/anaconda3/lib/python3.4/site-packages/sklearn/gaussian_process/gpr.py:427: UserWarning: fmin_l_bfgs_b terminated abnormally with the  state: {'nit': 2, 'warnflag': 2, 'task': b'ABNORMAL_TERMINATION_IN_LNSRCH', 'funcalls': 34, 'grad': array([-14.72541163])}\n",
      "  \" state: %s\" % convergence_dict)\n",
      "/Users/tsuzuki/anaconda3/lib/python3.4/site-packages/sklearn/gaussian_process/gpr.py:427: UserWarning: fmin_l_bfgs_b terminated abnormally with the  state: {'nit': 5, 'warnflag': 2, 'task': b'ABNORMAL_TERMINATION_IN_LNSRCH', 'funcalls': 48, 'grad': array([-0.06124774])}\n",
      "  \" state: %s\" % convergence_dict)\n"
     ]
    },
    {
     "name": "stdout",
     "output_type": "stream",
     "text": [
      "iter 142\n"
     ]
    },
    {
     "name": "stderr",
     "output_type": "stream",
     "text": [
      "/Users/tsuzuki/anaconda3/lib/python3.4/site-packages/sklearn/gaussian_process/gpr.py:427: UserWarning: fmin_l_bfgs_b terminated abnormally with the  state: {'nit': 3, 'warnflag': 2, 'task': b'ABNORMAL_TERMINATION_IN_LNSRCH', 'funcalls': 53, 'grad': array([ 0.01524704])}\n",
      "  \" state: %s\" % convergence_dict)\n",
      "/Users/tsuzuki/anaconda3/lib/python3.4/site-packages/sklearn/gaussian_process/gpr.py:427: UserWarning: fmin_l_bfgs_b terminated abnormally with the  state: {'nit': 3, 'warnflag': 2, 'task': b'ABNORMAL_TERMINATION_IN_LNSRCH', 'funcalls': 54, 'grad': array([ 0.07660266])}\n",
      "  \" state: %s\" % convergence_dict)\n"
     ]
    },
    {
     "name": "stdout",
     "output_type": "stream",
     "text": [
      "iter 143\n"
     ]
    },
    {
     "name": "stderr",
     "output_type": "stream",
     "text": [
      "/Users/tsuzuki/anaconda3/lib/python3.4/site-packages/sklearn/gaussian_process/gpr.py:427: UserWarning: fmin_l_bfgs_b terminated abnormally with the  state: {'nit': 3, 'warnflag': 2, 'task': b'ABNORMAL_TERMINATION_IN_LNSRCH', 'funcalls': 51, 'grad': array([ 0.02310582])}\n",
      "  \" state: %s\" % convergence_dict)\n"
     ]
    },
    {
     "name": "stdout",
     "output_type": "stream",
     "text": [
      "iter 144\n",
      "iter 145\n"
     ]
    },
    {
     "name": "stderr",
     "output_type": "stream",
     "text": [
      "/Users/tsuzuki/anaconda3/lib/python3.4/site-packages/sklearn/gaussian_process/gpr.py:427: UserWarning: fmin_l_bfgs_b terminated abnormally with the  state: {'nit': 2, 'warnflag': 2, 'task': b'ABNORMAL_TERMINATION_IN_LNSRCH', 'funcalls': 49, 'grad': array([-0.08260654])}\n",
      "  \" state: %s\" % convergence_dict)\n"
     ]
    },
    {
     "name": "stdout",
     "output_type": "stream",
     "text": [
      "iter 146\n"
     ]
    },
    {
     "name": "stderr",
     "output_type": "stream",
     "text": [
      "/Users/tsuzuki/anaconda3/lib/python3.4/site-packages/sklearn/gaussian_process/gpr.py:427: UserWarning: fmin_l_bfgs_b terminated abnormally with the  state: {'nit': 2, 'warnflag': 2, 'task': b'ABNORMAL_TERMINATION_IN_LNSRCH', 'funcalls': 51, 'grad': array([-0.00130413])}\n",
      "  \" state: %s\" % convergence_dict)\n"
     ]
    },
    {
     "name": "stdout",
     "output_type": "stream",
     "text": [
      "iter 147\n"
     ]
    },
    {
     "name": "stderr",
     "output_type": "stream",
     "text": [
      "/Users/tsuzuki/anaconda3/lib/python3.4/site-packages/sklearn/gaussian_process/gpr.py:427: UserWarning: fmin_l_bfgs_b terminated abnormally with the  state: {'nit': 3, 'warnflag': 2, 'task': b'ABNORMAL_TERMINATION_IN_LNSRCH', 'funcalls': 58, 'grad': array([-0.08030479])}\n",
      "  \" state: %s\" % convergence_dict)\n",
      "/Users/tsuzuki/anaconda3/lib/python3.4/site-packages/sklearn/gaussian_process/gpr.py:427: UserWarning: fmin_l_bfgs_b terminated abnormally with the  state: {'nit': 4, 'warnflag': 2, 'task': b'ABNORMAL_TERMINATION_IN_LNSRCH', 'funcalls': 49, 'grad': array([-0.01884661])}\n",
      "  \" state: %s\" % convergence_dict)\n",
      "/Users/tsuzuki/anaconda3/lib/python3.4/site-packages/sklearn/gaussian_process/gpr.py:427: UserWarning: fmin_l_bfgs_b terminated abnormally with the  state: {'nit': 6, 'warnflag': 2, 'task': b'ABNORMAL_TERMINATION_IN_LNSRCH', 'funcalls': 49, 'grad': array([ 0.00126788])}\n",
      "  \" state: %s\" % convergence_dict)\n",
      "/Users/tsuzuki/anaconda3/lib/python3.4/site-packages/sklearn/gaussian_process/gpr.py:427: UserWarning: fmin_l_bfgs_b terminated abnormally with the  state: {'nit': 4, 'warnflag': 2, 'task': b'ABNORMAL_TERMINATION_IN_LNSRCH', 'funcalls': 49, 'grad': array([-0.0276676])}\n",
      "  \" state: %s\" % convergence_dict)\n"
     ]
    },
    {
     "name": "stdout",
     "output_type": "stream",
     "text": [
      "iter 148\n"
     ]
    },
    {
     "name": "stderr",
     "output_type": "stream",
     "text": [
      "/Users/tsuzuki/anaconda3/lib/python3.4/site-packages/sklearn/gaussian_process/gpr.py:427: UserWarning: fmin_l_bfgs_b terminated abnormally with the  state: {'nit': 3, 'warnflag': 2, 'task': b'ABNORMAL_TERMINATION_IN_LNSRCH', 'funcalls': 53, 'grad': array([ 0.01105563])}\n",
      "  \" state: %s\" % convergence_dict)\n",
      "/Users/tsuzuki/anaconda3/lib/python3.4/site-packages/sklearn/gaussian_process/gpr.py:427: UserWarning: fmin_l_bfgs_b terminated abnormally with the  state: {'nit': 3, 'warnflag': 2, 'task': b'ABNORMAL_TERMINATION_IN_LNSRCH', 'funcalls': 51, 'grad': array([ 0.00538806])}\n",
      "  \" state: %s\" % convergence_dict)\n"
     ]
    },
    {
     "name": "stdout",
     "output_type": "stream",
     "text": [
      "iter 149\n"
     ]
    },
    {
     "name": "stderr",
     "output_type": "stream",
     "text": [
      "/Users/tsuzuki/anaconda3/lib/python3.4/site-packages/sklearn/gaussian_process/gpr.py:427: UserWarning: fmin_l_bfgs_b terminated abnormally with the  state: {'nit': 5, 'warnflag': 2, 'task': b'ABNORMAL_TERMINATION_IN_LNSRCH', 'funcalls': 48, 'grad': array([-0.00355085])}\n",
      "  \" state: %s\" % convergence_dict)\n",
      "/Users/tsuzuki/anaconda3/lib/python3.4/site-packages/sklearn/gaussian_process/gpr.py:427: UserWarning: fmin_l_bfgs_b terminated abnormally with the  state: {'nit': 2, 'warnflag': 2, 'task': b'ABNORMAL_TERMINATION_IN_LNSRCH', 'funcalls': 49, 'grad': array([-775.65341982])}\n",
      "  \" state: %s\" % convergence_dict)\n",
      "/Users/tsuzuki/anaconda3/lib/python3.4/site-packages/sklearn/gaussian_process/gpr.py:427: UserWarning: fmin_l_bfgs_b terminated abnormally with the  state: {'nit': 4, 'warnflag': 2, 'task': b'ABNORMAL_TERMINATION_IN_LNSRCH', 'funcalls': 49, 'grad': array([-0.01899761])}\n",
      "  \" state: %s\" % convergence_dict)\n"
     ]
    },
    {
     "name": "stdout",
     "output_type": "stream",
     "text": [
      "sample 1\n",
      "iter 0\n",
      "iter 1\n",
      "iter 2\n",
      "iter 3\n",
      "iter 4\n",
      "iter 5\n",
      "iter 6\n",
      "iter 7\n",
      "iter 8\n",
      "iter 9\n",
      "iter 10\n",
      "iter 11\n",
      "iter 12\n",
      "iter 13\n",
      "iter 14\n",
      "iter 15\n",
      "iter 16\n"
     ]
    },
    {
     "name": "stderr",
     "output_type": "stream",
     "text": [
      "/Users/tsuzuki/anaconda3/lib/python3.4/site-packages/sklearn/gaussian_process/gpr.py:427: UserWarning: fmin_l_bfgs_b terminated abnormally with the  state: {'nit': 4, 'warnflag': 2, 'task': b'ABNORMAL_TERMINATION_IN_LNSRCH', 'funcalls': 50, 'grad': array([-0.00114173])}\n",
      "  \" state: %s\" % convergence_dict)\n"
     ]
    },
    {
     "name": "stdout",
     "output_type": "stream",
     "text": [
      "iter 17\n",
      "iter 18\n",
      "iter 19\n"
     ]
    },
    {
     "name": "stderr",
     "output_type": "stream",
     "text": [
      "/Users/tsuzuki/anaconda3/lib/python3.4/site-packages/sklearn/gaussian_process/gpr.py:427: UserWarning: fmin_l_bfgs_b terminated abnormally with the  state: {'nit': 2, 'warnflag': 2, 'task': b'ABNORMAL_TERMINATION_IN_LNSRCH', 'funcalls': 49, 'grad': array([-0.00103082])}\n",
      "  \" state: %s\" % convergence_dict)\n"
     ]
    },
    {
     "name": "stdout",
     "output_type": "stream",
     "text": [
      "iter 20\n"
     ]
    },
    {
     "name": "stderr",
     "output_type": "stream",
     "text": [
      "/Users/tsuzuki/anaconda3/lib/python3.4/site-packages/sklearn/gaussian_process/gpr.py:427: UserWarning: fmin_l_bfgs_b terminated abnormally with the  state: {'nit': 2, 'warnflag': 2, 'task': b'ABNORMAL_TERMINATION_IN_LNSRCH', 'funcalls': 49, 'grad': array([-0.00056383])}\n",
      "  \" state: %s\" % convergence_dict)\n"
     ]
    },
    {
     "name": "stdout",
     "output_type": "stream",
     "text": [
      "iter 21\n"
     ]
    },
    {
     "name": "stderr",
     "output_type": "stream",
     "text": [
      "/Users/tsuzuki/anaconda3/lib/python3.4/site-packages/sklearn/gaussian_process/gpr.py:427: UserWarning: fmin_l_bfgs_b terminated abnormally with the  state: {'nit': 2, 'warnflag': 2, 'task': b'ABNORMAL_TERMINATION_IN_LNSRCH', 'funcalls': 52, 'grad': array([ 0.00019643])}\n",
      "  \" state: %s\" % convergence_dict)\n"
     ]
    },
    {
     "name": "stdout",
     "output_type": "stream",
     "text": [
      "iter 22\n"
     ]
    },
    {
     "name": "stderr",
     "output_type": "stream",
     "text": [
      "/Users/tsuzuki/anaconda3/lib/python3.4/site-packages/sklearn/gaussian_process/gpr.py:427: UserWarning: fmin_l_bfgs_b terminated abnormally with the  state: {'nit': 2, 'warnflag': 2, 'task': b'ABNORMAL_TERMINATION_IN_LNSRCH', 'funcalls': 49, 'grad': array([-0.00238473])}\n",
      "  \" state: %s\" % convergence_dict)\n",
      "/Users/tsuzuki/anaconda3/lib/python3.4/site-packages/sklearn/gaussian_process/gpr.py:427: UserWarning: fmin_l_bfgs_b terminated abnormally with the  state: {'nit': 3, 'warnflag': 2, 'task': b'ABNORMAL_TERMINATION_IN_LNSRCH', 'funcalls': 50, 'grad': array([-0.01061865])}\n",
      "  \" state: %s\" % convergence_dict)\n"
     ]
    },
    {
     "name": "stdout",
     "output_type": "stream",
     "text": [
      "iter 23\n"
     ]
    },
    {
     "name": "stderr",
     "output_type": "stream",
     "text": [
      "/Users/tsuzuki/anaconda3/lib/python3.4/site-packages/sklearn/gaussian_process/gpr.py:427: UserWarning: fmin_l_bfgs_b terminated abnormally with the  state: {'nit': 4, 'warnflag': 2, 'task': b'ABNORMAL_TERMINATION_IN_LNSRCH', 'funcalls': 54, 'grad': array([-0.00088156])}\n",
      "  \" state: %s\" % convergence_dict)\n"
     ]
    },
    {
     "name": "stdout",
     "output_type": "stream",
     "text": [
      "iter 24\n"
     ]
    },
    {
     "name": "stderr",
     "output_type": "stream",
     "text": [
      "/Users/tsuzuki/anaconda3/lib/python3.4/site-packages/sklearn/gaussian_process/gpr.py:427: UserWarning: fmin_l_bfgs_b terminated abnormally with the  state: {'nit': 3, 'warnflag': 2, 'task': b'ABNORMAL_TERMINATION_IN_LNSRCH', 'funcalls': 47, 'grad': array([ 0.00660023])}\n",
      "  \" state: %s\" % convergence_dict)\n",
      "/Users/tsuzuki/anaconda3/lib/python3.4/site-packages/sklearn/gaussian_process/gpr.py:427: UserWarning: fmin_l_bfgs_b terminated abnormally with the  state: {'nit': 3, 'warnflag': 2, 'task': b'ABNORMAL_TERMINATION_IN_LNSRCH', 'funcalls': 52, 'grad': array([ 0.01662333])}\n",
      "  \" state: %s\" % convergence_dict)\n"
     ]
    },
    {
     "name": "stdout",
     "output_type": "stream",
     "text": [
      "iter 25\n",
      "iter 26\n",
      "iter 27\n",
      "iter 28\n"
     ]
    },
    {
     "name": "stderr",
     "output_type": "stream",
     "text": [
      "/Users/tsuzuki/anaconda3/lib/python3.4/site-packages/sklearn/gaussian_process/gpr.py:427: UserWarning: fmin_l_bfgs_b terminated abnormally with the  state: {'nit': 4, 'warnflag': 2, 'task': b'ABNORMAL_TERMINATION_IN_LNSRCH', 'funcalls': 54, 'grad': array([-0.00534167])}\n",
      "  \" state: %s\" % convergence_dict)\n"
     ]
    },
    {
     "name": "stdout",
     "output_type": "stream",
     "text": [
      "iter 29\n"
     ]
    },
    {
     "name": "stderr",
     "output_type": "stream",
     "text": [
      "/Users/tsuzuki/anaconda3/lib/python3.4/site-packages/sklearn/gaussian_process/gpr.py:427: UserWarning: fmin_l_bfgs_b terminated abnormally with the  state: {'nit': 2, 'warnflag': 2, 'task': b'ABNORMAL_TERMINATION_IN_LNSRCH', 'funcalls': 51, 'grad': array([-0.0001128])}\n",
      "  \" state: %s\" % convergence_dict)\n",
      "/Users/tsuzuki/anaconda3/lib/python3.4/site-packages/sklearn/gaussian_process/gpr.py:427: UserWarning: fmin_l_bfgs_b terminated abnormally with the  state: {'nit': 3, 'warnflag': 2, 'task': b'ABNORMAL_TERMINATION_IN_LNSRCH', 'funcalls': 51, 'grad': array([ 0.00101232])}\n",
      "  \" state: %s\" % convergence_dict)\n"
     ]
    },
    {
     "name": "stdout",
     "output_type": "stream",
     "text": [
      "iter 30\n"
     ]
    },
    {
     "name": "stderr",
     "output_type": "stream",
     "text": [
      "/Users/tsuzuki/anaconda3/lib/python3.4/site-packages/sklearn/gaussian_process/gpr.py:427: UserWarning: fmin_l_bfgs_b terminated abnormally with the  state: {'nit': 3, 'warnflag': 2, 'task': b'ABNORMAL_TERMINATION_IN_LNSRCH', 'funcalls': 56, 'grad': array([ -5.40085584e-05])}\n",
      "  \" state: %s\" % convergence_dict)\n"
     ]
    },
    {
     "name": "stdout",
     "output_type": "stream",
     "text": [
      "iter 31\n",
      "iter 32\n",
      "iter 33\n"
     ]
    },
    {
     "name": "stderr",
     "output_type": "stream",
     "text": [
      "/Users/tsuzuki/anaconda3/lib/python3.4/site-packages/sklearn/gaussian_process/gpr.py:427: UserWarning: fmin_l_bfgs_b terminated abnormally with the  state: {'nit': 3, 'warnflag': 2, 'task': b'ABNORMAL_TERMINATION_IN_LNSRCH', 'funcalls': 54, 'grad': array([ -2.10923763e-05])}\n",
      "  \" state: %s\" % convergence_dict)\n"
     ]
    },
    {
     "name": "stdout",
     "output_type": "stream",
     "text": [
      "iter 34\n",
      "iter 35\n",
      "iter 36\n",
      "iter 37\n",
      "iter 38\n"
     ]
    },
    {
     "name": "stderr",
     "output_type": "stream",
     "text": [
      "/Users/tsuzuki/anaconda3/lib/python3.4/site-packages/sklearn/gaussian_process/gpr.py:427: UserWarning: fmin_l_bfgs_b terminated abnormally with the  state: {'nit': 2, 'warnflag': 2, 'task': b'ABNORMAL_TERMINATION_IN_LNSRCH', 'funcalls': 48, 'grad': array([ 0.00013657])}\n",
      "  \" state: %s\" % convergence_dict)\n",
      "/Users/tsuzuki/anaconda3/lib/python3.4/site-packages/sklearn/gaussian_process/gpr.py:427: UserWarning: fmin_l_bfgs_b terminated abnormally with the  state: {'nit': 3, 'warnflag': 2, 'task': b'ABNORMAL_TERMINATION_IN_LNSRCH', 'funcalls': 50, 'grad': array([ 0.00091187])}\n",
      "  \" state: %s\" % convergence_dict)\n"
     ]
    },
    {
     "name": "stdout",
     "output_type": "stream",
     "text": [
      "iter 39\n"
     ]
    },
    {
     "name": "stderr",
     "output_type": "stream",
     "text": [
      "/Users/tsuzuki/anaconda3/lib/python3.4/site-packages/sklearn/gaussian_process/gpr.py:427: UserWarning: fmin_l_bfgs_b terminated abnormally with the  state: {'nit': 4, 'warnflag': 2, 'task': b'ABNORMAL_TERMINATION_IN_LNSRCH', 'funcalls': 54, 'grad': array([ 0.01077488])}\n",
      "  \" state: %s\" % convergence_dict)\n",
      "/Users/tsuzuki/anaconda3/lib/python3.4/site-packages/sklearn/gaussian_process/gpr.py:427: UserWarning: fmin_l_bfgs_b terminated abnormally with the  state: {'nit': 2, 'warnflag': 2, 'task': b'ABNORMAL_TERMINATION_IN_LNSRCH', 'funcalls': 49, 'grad': array([-0.00041113])}\n",
      "  \" state: %s\" % convergence_dict)\n"
     ]
    },
    {
     "name": "stdout",
     "output_type": "stream",
     "text": [
      "iter 40\n",
      "iter 41\n"
     ]
    },
    {
     "name": "stderr",
     "output_type": "stream",
     "text": [
      "/Users/tsuzuki/anaconda3/lib/python3.4/site-packages/sklearn/gaussian_process/gpr.py:427: UserWarning: fmin_l_bfgs_b terminated abnormally with the  state: {'nit': 2, 'warnflag': 2, 'task': b'ABNORMAL_TERMINATION_IN_LNSRCH', 'funcalls': 49, 'grad': array([-0.00686862])}\n",
      "  \" state: %s\" % convergence_dict)\n"
     ]
    },
    {
     "name": "stdout",
     "output_type": "stream",
     "text": [
      "iter 42\n"
     ]
    },
    {
     "name": "stderr",
     "output_type": "stream",
     "text": [
      "/Users/tsuzuki/anaconda3/lib/python3.4/site-packages/sklearn/gaussian_process/gpr.py:427: UserWarning: fmin_l_bfgs_b terminated abnormally with the  state: {'nit': 2, 'warnflag': 2, 'task': b'ABNORMAL_TERMINATION_IN_LNSRCH', 'funcalls': 49, 'grad': array([-0.00034298])}\n",
      "  \" state: %s\" % convergence_dict)\n"
     ]
    },
    {
     "name": "stdout",
     "output_type": "stream",
     "text": [
      "iter 43\n"
     ]
    },
    {
     "name": "stderr",
     "output_type": "stream",
     "text": [
      "/Users/tsuzuki/anaconda3/lib/python3.4/site-packages/sklearn/gaussian_process/gpr.py:427: UserWarning: fmin_l_bfgs_b terminated abnormally with the  state: {'nit': 2, 'warnflag': 2, 'task': b'ABNORMAL_TERMINATION_IN_LNSRCH', 'funcalls': 49, 'grad': array([-0.00250691])}\n",
      "  \" state: %s\" % convergence_dict)\n"
     ]
    },
    {
     "name": "stdout",
     "output_type": "stream",
     "text": [
      "iter 44\n",
      "iter 45\n"
     ]
    },
    {
     "name": "stderr",
     "output_type": "stream",
     "text": [
      "/Users/tsuzuki/anaconda3/lib/python3.4/site-packages/sklearn/gaussian_process/gpr.py:427: UserWarning: fmin_l_bfgs_b terminated abnormally with the  state: {'nit': 6, 'warnflag': 2, 'task': b'ABNORMAL_TERMINATION_IN_LNSRCH', 'funcalls': 50, 'grad': array([-0.00220849])}\n",
      "  \" state: %s\" % convergence_dict)\n"
     ]
    },
    {
     "name": "stdout",
     "output_type": "stream",
     "text": [
      "iter 46\n"
     ]
    },
    {
     "name": "stderr",
     "output_type": "stream",
     "text": [
      "/Users/tsuzuki/anaconda3/lib/python3.4/site-packages/sklearn/gaussian_process/gpr.py:427: UserWarning: fmin_l_bfgs_b terminated abnormally with the  state: {'nit': 4, 'warnflag': 2, 'task': b'ABNORMAL_TERMINATION_IN_LNSRCH', 'funcalls': 53, 'grad': array([-0.00214773])}\n",
      "  \" state: %s\" % convergence_dict)\n"
     ]
    },
    {
     "name": "stdout",
     "output_type": "stream",
     "text": [
      "iter 47\n",
      "iter 48\n"
     ]
    },
    {
     "name": "stderr",
     "output_type": "stream",
     "text": [
      "/Users/tsuzuki/anaconda3/lib/python3.4/site-packages/sklearn/gaussian_process/gpr.py:427: UserWarning: fmin_l_bfgs_b terminated abnormally with the  state: {'nit': 3, 'warnflag': 2, 'task': b'ABNORMAL_TERMINATION_IN_LNSRCH', 'funcalls': 53, 'grad': array([ 0.00353379])}\n",
      "  \" state: %s\" % convergence_dict)\n",
      "/Users/tsuzuki/anaconda3/lib/python3.4/site-packages/sklearn/gaussian_process/gpr.py:427: UserWarning: fmin_l_bfgs_b terminated abnormally with the  state: {'nit': 4, 'warnflag': 2, 'task': b'ABNORMAL_TERMINATION_IN_LNSRCH', 'funcalls': 52, 'grad': array([-0.00911349])}\n",
      "  \" state: %s\" % convergence_dict)\n",
      "/Users/tsuzuki/anaconda3/lib/python3.4/site-packages/sklearn/gaussian_process/gpr.py:427: UserWarning: fmin_l_bfgs_b terminated abnormally with the  state: {'nit': 5, 'warnflag': 2, 'task': b'ABNORMAL_TERMINATION_IN_LNSRCH', 'funcalls': 54, 'grad': array([ 0.00050185])}\n",
      "  \" state: %s\" % convergence_dict)\n",
      "/Users/tsuzuki/anaconda3/lib/python3.4/site-packages/sklearn/gaussian_process/gpr.py:427: UserWarning: fmin_l_bfgs_b terminated abnormally with the  state: {'nit': 3, 'warnflag': 2, 'task': b'ABNORMAL_TERMINATION_IN_LNSRCH', 'funcalls': 51, 'grad': array([ 0.00371704])}\n",
      "  \" state: %s\" % convergence_dict)\n"
     ]
    },
    {
     "name": "stdout",
     "output_type": "stream",
     "text": [
      "iter 49\n"
     ]
    },
    {
     "name": "stderr",
     "output_type": "stream",
     "text": [
      "/Users/tsuzuki/anaconda3/lib/python3.4/site-packages/sklearn/gaussian_process/gpr.py:427: UserWarning: fmin_l_bfgs_b terminated abnormally with the  state: {'nit': 3, 'warnflag': 2, 'task': b'ABNORMAL_TERMINATION_IN_LNSRCH', 'funcalls': 50, 'grad': array([ 0.00406593])}\n",
      "  \" state: %s\" % convergence_dict)\n",
      "/Users/tsuzuki/anaconda3/lib/python3.4/site-packages/sklearn/gaussian_process/gpr.py:427: UserWarning: fmin_l_bfgs_b terminated abnormally with the  state: {'nit': 2, 'warnflag': 2, 'task': b'ABNORMAL_TERMINATION_IN_LNSRCH', 'funcalls': 48, 'grad': array([ 0.00185338])}\n",
      "  \" state: %s\" % convergence_dict)\n"
     ]
    },
    {
     "name": "stdout",
     "output_type": "stream",
     "text": [
      "iter 50\n",
      "iter 51\n"
     ]
    },
    {
     "name": "stderr",
     "output_type": "stream",
     "text": [
      "/Users/tsuzuki/anaconda3/lib/python3.4/site-packages/sklearn/gaussian_process/gpr.py:427: UserWarning: fmin_l_bfgs_b terminated abnormally with the  state: {'nit': 4, 'warnflag': 2, 'task': b'ABNORMAL_TERMINATION_IN_LNSRCH', 'funcalls': 53, 'grad': array([-0.00180263])}\n",
      "  \" state: %s\" % convergence_dict)\n",
      "/Users/tsuzuki/anaconda3/lib/python3.4/site-packages/sklearn/gaussian_process/gpr.py:427: UserWarning: fmin_l_bfgs_b terminated abnormally with the  state: {'nit': 3, 'warnflag': 2, 'task': b'ABNORMAL_TERMINATION_IN_LNSRCH', 'funcalls': 50, 'grad': array([ 0.0009428])}\n",
      "  \" state: %s\" % convergence_dict)\n",
      "/Users/tsuzuki/anaconda3/lib/python3.4/site-packages/sklearn/gaussian_process/gpr.py:427: UserWarning: fmin_l_bfgs_b terminated abnormally with the  state: {'nit': 3, 'warnflag': 2, 'task': b'ABNORMAL_TERMINATION_IN_LNSRCH', 'funcalls': 51, 'grad': array([ 0.00096531])}\n",
      "  \" state: %s\" % convergence_dict)\n",
      "/Users/tsuzuki/anaconda3/lib/python3.4/site-packages/sklearn/gaussian_process/gpr.py:427: UserWarning: fmin_l_bfgs_b terminated abnormally with the  state: {'nit': 2, 'warnflag': 2, 'task': b'ABNORMAL_TERMINATION_IN_LNSRCH', 'funcalls': 49, 'grad': array([-0.00036775])}\n",
      "  \" state: %s\" % convergence_dict)\n"
     ]
    },
    {
     "name": "stdout",
     "output_type": "stream",
     "text": [
      "iter 52\n"
     ]
    },
    {
     "name": "stderr",
     "output_type": "stream",
     "text": [
      "/Users/tsuzuki/anaconda3/lib/python3.4/site-packages/sklearn/gaussian_process/gpr.py:427: UserWarning: fmin_l_bfgs_b terminated abnormally with the  state: {'nit': 3, 'warnflag': 2, 'task': b'ABNORMAL_TERMINATION_IN_LNSRCH', 'funcalls': 50, 'grad': array([ 0.00121369])}\n",
      "  \" state: %s\" % convergence_dict)\n",
      "/Users/tsuzuki/anaconda3/lib/python3.4/site-packages/sklearn/gaussian_process/gpr.py:427: UserWarning: fmin_l_bfgs_b terminated abnormally with the  state: {'nit': 2, 'warnflag': 2, 'task': b'ABNORMAL_TERMINATION_IN_LNSRCH', 'funcalls': 49, 'grad': array([ -4.46025515e-05])}\n",
      "  \" state: %s\" % convergence_dict)\n"
     ]
    },
    {
     "name": "stdout",
     "output_type": "stream",
     "text": [
      "iter 53\n",
      "iter 54\n"
     ]
    },
    {
     "name": "stderr",
     "output_type": "stream",
     "text": [
      "/Users/tsuzuki/anaconda3/lib/python3.4/site-packages/sklearn/gaussian_process/gpr.py:427: UserWarning: fmin_l_bfgs_b terminated abnormally with the  state: {'nit': 3, 'warnflag': 2, 'task': b'ABNORMAL_TERMINATION_IN_LNSRCH', 'funcalls': 50, 'grad': array([ 0.00146766])}\n",
      "  \" state: %s\" % convergence_dict)\n"
     ]
    },
    {
     "name": "stdout",
     "output_type": "stream",
     "text": [
      "iter 55\n"
     ]
    },
    {
     "name": "stderr",
     "output_type": "stream",
     "text": [
      "/Users/tsuzuki/anaconda3/lib/python3.4/site-packages/sklearn/gaussian_process/gpr.py:427: UserWarning: fmin_l_bfgs_b terminated abnormally with the  state: {'nit': 4, 'warnflag': 2, 'task': b'ABNORMAL_TERMINATION_IN_LNSRCH', 'funcalls': 53, 'grad': array([ 0.0033283])}\n",
      "  \" state: %s\" % convergence_dict)\n",
      "/Users/tsuzuki/anaconda3/lib/python3.4/site-packages/sklearn/gaussian_process/gpr.py:427: UserWarning: fmin_l_bfgs_b terminated abnormally with the  state: {'nit': 4, 'warnflag': 2, 'task': b'ABNORMAL_TERMINATION_IN_LNSRCH', 'funcalls': 57, 'grad': array([ 0.00039525])}\n",
      "  \" state: %s\" % convergence_dict)\n"
     ]
    },
    {
     "name": "stdout",
     "output_type": "stream",
     "text": [
      "iter 56\n"
     ]
    },
    {
     "name": "stderr",
     "output_type": "stream",
     "text": [
      "/Users/tsuzuki/anaconda3/lib/python3.4/site-packages/sklearn/gaussian_process/gpr.py:427: UserWarning: fmin_l_bfgs_b terminated abnormally with the  state: {'nit': 4, 'warnflag': 2, 'task': b'ABNORMAL_TERMINATION_IN_LNSRCH', 'funcalls': 50, 'grad': array([ 0.00242098])}\n",
      "  \" state: %s\" % convergence_dict)\n"
     ]
    },
    {
     "name": "stdout",
     "output_type": "stream",
     "text": [
      "iter 57\n",
      "iter 58\n",
      "iter 59\n",
      "iter 60\n"
     ]
    },
    {
     "name": "stderr",
     "output_type": "stream",
     "text": [
      "/Users/tsuzuki/anaconda3/lib/python3.4/site-packages/sklearn/gaussian_process/gpr.py:427: UserWarning: fmin_l_bfgs_b terminated abnormally with the  state: {'nit': 4, 'warnflag': 2, 'task': b'ABNORMAL_TERMINATION_IN_LNSRCH', 'funcalls': 53, 'grad': array([ 0.0036142])}\n",
      "  \" state: %s\" % convergence_dict)\n",
      "/Users/tsuzuki/anaconda3/lib/python3.4/site-packages/sklearn/gaussian_process/gpr.py:427: UserWarning: fmin_l_bfgs_b terminated abnormally with the  state: {'nit': 4, 'warnflag': 2, 'task': b'ABNORMAL_TERMINATION_IN_LNSRCH', 'funcalls': 50, 'grad': array([-0.00315046])}\n",
      "  \" state: %s\" % convergence_dict)\n"
     ]
    },
    {
     "name": "stdout",
     "output_type": "stream",
     "text": [
      "iter 61\n"
     ]
    },
    {
     "name": "stderr",
     "output_type": "stream",
     "text": [
      "/Users/tsuzuki/anaconda3/lib/python3.4/site-packages/sklearn/gaussian_process/gpr.py:427: UserWarning: fmin_l_bfgs_b terminated abnormally with the  state: {'nit': 2, 'warnflag': 2, 'task': b'ABNORMAL_TERMINATION_IN_LNSRCH', 'funcalls': 48, 'grad': array([  5.88342664e-05])}\n",
      "  \" state: %s\" % convergence_dict)\n"
     ]
    },
    {
     "name": "stdout",
     "output_type": "stream",
     "text": [
      "iter 62\n"
     ]
    },
    {
     "name": "stderr",
     "output_type": "stream",
     "text": [
      "/Users/tsuzuki/anaconda3/lib/python3.4/site-packages/sklearn/gaussian_process/gpr.py:427: UserWarning: fmin_l_bfgs_b terminated abnormally with the  state: {'nit': 5, 'warnflag': 2, 'task': b'ABNORMAL_TERMINATION_IN_LNSRCH', 'funcalls': 54, 'grad': array([-0.00220112])}\n",
      "  \" state: %s\" % convergence_dict)\n",
      "/Users/tsuzuki/anaconda3/lib/python3.4/site-packages/sklearn/gaussian_process/gpr.py:427: UserWarning: fmin_l_bfgs_b terminated abnormally with the  state: {'nit': 3, 'warnflag': 2, 'task': b'ABNORMAL_TERMINATION_IN_LNSRCH', 'funcalls': 50, 'grad': array([ 0.00435856])}\n",
      "  \" state: %s\" % convergence_dict)\n",
      "/Users/tsuzuki/anaconda3/lib/python3.4/site-packages/sklearn/gaussian_process/gpr.py:427: UserWarning: fmin_l_bfgs_b terminated abnormally with the  state: {'nit': 4, 'warnflag': 2, 'task': b'ABNORMAL_TERMINATION_IN_LNSRCH', 'funcalls': 55, 'grad': array([-0.00645095])}\n",
      "  \" state: %s\" % convergence_dict)\n"
     ]
    },
    {
     "name": "stdout",
     "output_type": "stream",
     "text": [
      "iter 63\n"
     ]
    },
    {
     "name": "stderr",
     "output_type": "stream",
     "text": [
      "/Users/tsuzuki/anaconda3/lib/python3.4/site-packages/sklearn/gaussian_process/gpr.py:427: UserWarning: fmin_l_bfgs_b terminated abnormally with the  state: {'nit': 3, 'warnflag': 2, 'task': b'ABNORMAL_TERMINATION_IN_LNSRCH', 'funcalls': 50, 'grad': array([ 0.00190794])}\n",
      "  \" state: %s\" % convergence_dict)\n",
      "/Users/tsuzuki/anaconda3/lib/python3.4/site-packages/sklearn/gaussian_process/gpr.py:427: UserWarning: fmin_l_bfgs_b terminated abnormally with the  state: {'nit': 4, 'warnflag': 2, 'task': b'ABNORMAL_TERMINATION_IN_LNSRCH', 'funcalls': 55, 'grad': array([-0.00598555])}\n",
      "  \" state: %s\" % convergence_dict)\n",
      "/Users/tsuzuki/anaconda3/lib/python3.4/site-packages/sklearn/gaussian_process/gpr.py:427: UserWarning: fmin_l_bfgs_b terminated abnormally with the  state: {'nit': 4, 'warnflag': 2, 'task': b'ABNORMAL_TERMINATION_IN_LNSRCH', 'funcalls': 52, 'grad': array([ 0.00161192])}\n",
      "  \" state: %s\" % convergence_dict)\n"
     ]
    },
    {
     "name": "stdout",
     "output_type": "stream",
     "text": [
      "iter 64\n",
      "iter 65\n",
      "iter 66\n"
     ]
    },
    {
     "name": "stderr",
     "output_type": "stream",
     "text": [
      "/Users/tsuzuki/anaconda3/lib/python3.4/site-packages/sklearn/gaussian_process/gpr.py:427: UserWarning: fmin_l_bfgs_b terminated abnormally with the  state: {'nit': 3, 'warnflag': 2, 'task': b'ABNORMAL_TERMINATION_IN_LNSRCH', 'funcalls': 50, 'grad': array([ 0.01642879])}\n",
      "  \" state: %s\" % convergence_dict)\n",
      "/Users/tsuzuki/anaconda3/lib/python3.4/site-packages/sklearn/gaussian_process/gpr.py:427: UserWarning: fmin_l_bfgs_b terminated abnormally with the  state: {'nit': 2, 'warnflag': 2, 'task': b'ABNORMAL_TERMINATION_IN_LNSRCH', 'funcalls': 49, 'grad': array([ -3.84273008e-05])}\n",
      "  \" state: %s\" % convergence_dict)\n"
     ]
    },
    {
     "name": "stdout",
     "output_type": "stream",
     "text": [
      "iter 67\n"
     ]
    },
    {
     "name": "stderr",
     "output_type": "stream",
     "text": [
      "/Users/tsuzuki/anaconda3/lib/python3.4/site-packages/sklearn/gaussian_process/gpr.py:427: UserWarning: fmin_l_bfgs_b terminated abnormally with the  state: {'nit': 3, 'warnflag': 2, 'task': b'ABNORMAL_TERMINATION_IN_LNSRCH', 'funcalls': 48, 'grad': array([ 0.00278454])}\n",
      "  \" state: %s\" % convergence_dict)\n",
      "/Users/tsuzuki/anaconda3/lib/python3.4/site-packages/sklearn/gaussian_process/gpr.py:427: UserWarning: fmin_l_bfgs_b terminated abnormally with the  state: {'nit': 4, 'warnflag': 2, 'task': b'ABNORMAL_TERMINATION_IN_LNSRCH', 'funcalls': 54, 'grad': array([ 0.00281293])}\n",
      "  \" state: %s\" % convergence_dict)\n",
      "/Users/tsuzuki/anaconda3/lib/python3.4/site-packages/sklearn/gaussian_process/gpr.py:427: UserWarning: fmin_l_bfgs_b terminated abnormally with the  state: {'nit': 3, 'warnflag': 2, 'task': b'ABNORMAL_TERMINATION_IN_LNSRCH', 'funcalls': 50, 'grad': array([ 0.00109724])}\n",
      "  \" state: %s\" % convergence_dict)\n"
     ]
    },
    {
     "name": "stdout",
     "output_type": "stream",
     "text": [
      "iter 68\n"
     ]
    },
    {
     "name": "stderr",
     "output_type": "stream",
     "text": [
      "/Users/tsuzuki/anaconda3/lib/python3.4/site-packages/sklearn/gaussian_process/gpr.py:427: UserWarning: fmin_l_bfgs_b terminated abnormally with the  state: {'nit': 4, 'warnflag': 2, 'task': b'ABNORMAL_TERMINATION_IN_LNSRCH', 'funcalls': 51, 'grad': array([ 0.00143162])}\n",
      "  \" state: %s\" % convergence_dict)\n"
     ]
    },
    {
     "name": "stdout",
     "output_type": "stream",
     "text": [
      "iter 69\n"
     ]
    },
    {
     "name": "stderr",
     "output_type": "stream",
     "text": [
      "/Users/tsuzuki/anaconda3/lib/python3.4/site-packages/sklearn/gaussian_process/gpr.py:427: UserWarning: fmin_l_bfgs_b terminated abnormally with the  state: {'nit': 3, 'warnflag': 2, 'task': b'ABNORMAL_TERMINATION_IN_LNSRCH', 'funcalls': 48, 'grad': array([ 0.00415767])}\n",
      "  \" state: %s\" % convergence_dict)\n"
     ]
    },
    {
     "name": "stdout",
     "output_type": "stream",
     "text": [
      "iter 70\n"
     ]
    },
    {
     "name": "stderr",
     "output_type": "stream",
     "text": [
      "/Users/tsuzuki/anaconda3/lib/python3.4/site-packages/sklearn/gaussian_process/gpr.py:427: UserWarning: fmin_l_bfgs_b terminated abnormally with the  state: {'nit': 2, 'warnflag': 2, 'task': b'ABNORMAL_TERMINATION_IN_LNSRCH', 'funcalls': 49, 'grad': array([-0.00362806])}\n",
      "  \" state: %s\" % convergence_dict)\n"
     ]
    },
    {
     "name": "stdout",
     "output_type": "stream",
     "text": [
      "iter 71\n",
      "iter 72\n"
     ]
    },
    {
     "name": "stderr",
     "output_type": "stream",
     "text": [
      "/Users/tsuzuki/anaconda3/lib/python3.4/site-packages/sklearn/gaussian_process/gpr.py:427: UserWarning: fmin_l_bfgs_b terminated abnormally with the  state: {'nit': 2, 'warnflag': 2, 'task': b'ABNORMAL_TERMINATION_IN_LNSRCH', 'funcalls': 51, 'grad': array([ 0.01042158])}\n",
      "  \" state: %s\" % convergence_dict)\n",
      "/Users/tsuzuki/anaconda3/lib/python3.4/site-packages/sklearn/gaussian_process/gpr.py:427: UserWarning: fmin_l_bfgs_b terminated abnormally with the  state: {'nit': 4, 'warnflag': 2, 'task': b'ABNORMAL_TERMINATION_IN_LNSRCH', 'funcalls': 54, 'grad': array([-0.00400323])}\n",
      "  \" state: %s\" % convergence_dict)\n"
     ]
    },
    {
     "name": "stdout",
     "output_type": "stream",
     "text": [
      "iter 73\n"
     ]
    },
    {
     "name": "stderr",
     "output_type": "stream",
     "text": [
      "/Users/tsuzuki/anaconda3/lib/python3.4/site-packages/sklearn/gaussian_process/gpr.py:427: UserWarning: fmin_l_bfgs_b terminated abnormally with the  state: {'nit': 4, 'warnflag': 2, 'task': b'ABNORMAL_TERMINATION_IN_LNSRCH', 'funcalls': 53, 'grad': array([ 0.00131174])}\n",
      "  \" state: %s\" % convergence_dict)\n"
     ]
    },
    {
     "name": "stdout",
     "output_type": "stream",
     "text": [
      "iter 74\n",
      "iter 75\n",
      "iter 76\n",
      "iter 77\n"
     ]
    },
    {
     "name": "stderr",
     "output_type": "stream",
     "text": [
      "/Users/tsuzuki/anaconda3/lib/python3.4/site-packages/sklearn/gaussian_process/gpr.py:427: UserWarning: fmin_l_bfgs_b terminated abnormally with the  state: {'nit': 6, 'warnflag': 2, 'task': b'ABNORMAL_TERMINATION_IN_LNSRCH', 'funcalls': 54, 'grad': array([ 0.00844729])}\n",
      "  \" state: %s\" % convergence_dict)\n",
      "/Users/tsuzuki/anaconda3/lib/python3.4/site-packages/sklearn/gaussian_process/gpr.py:427: UserWarning: fmin_l_bfgs_b terminated abnormally with the  state: {'nit': 5, 'warnflag': 2, 'task': b'ABNORMAL_TERMINATION_IN_LNSRCH', 'funcalls': 55, 'grad': array([-0.00273446])}\n",
      "  \" state: %s\" % convergence_dict)\n"
     ]
    },
    {
     "name": "stdout",
     "output_type": "stream",
     "text": [
      "iter 78\n",
      "iter 79\n"
     ]
    },
    {
     "name": "stderr",
     "output_type": "stream",
     "text": [
      "/Users/tsuzuki/anaconda3/lib/python3.4/site-packages/sklearn/gaussian_process/gpr.py:427: UserWarning: fmin_l_bfgs_b terminated abnormally with the  state: {'nit': 4, 'warnflag': 2, 'task': b'ABNORMAL_TERMINATION_IN_LNSRCH', 'funcalls': 50, 'grad': array([-0.00048418])}\n",
      "  \" state: %s\" % convergence_dict)\n",
      "/Users/tsuzuki/anaconda3/lib/python3.4/site-packages/sklearn/gaussian_process/gpr.py:427: UserWarning: fmin_l_bfgs_b terminated abnormally with the  state: {'nit': 3, 'warnflag': 2, 'task': b'ABNORMAL_TERMINATION_IN_LNSRCH', 'funcalls': 51, 'grad': array([ 0.00323514])}\n",
      "  \" state: %s\" % convergence_dict)\n",
      "/Users/tsuzuki/anaconda3/lib/python3.4/site-packages/sklearn/gaussian_process/gpr.py:427: UserWarning: fmin_l_bfgs_b terminated abnormally with the  state: {'nit': 4, 'warnflag': 2, 'task': b'ABNORMAL_TERMINATION_IN_LNSRCH', 'funcalls': 54, 'grad': array([-0.00136878])}\n",
      "  \" state: %s\" % convergence_dict)\n"
     ]
    },
    {
     "name": "stdout",
     "output_type": "stream",
     "text": [
      "iter 80\n"
     ]
    },
    {
     "name": "stderr",
     "output_type": "stream",
     "text": [
      "/Users/tsuzuki/anaconda3/lib/python3.4/site-packages/sklearn/gaussian_process/gpr.py:427: UserWarning: fmin_l_bfgs_b terminated abnormally with the  state: {'nit': 4, 'warnflag': 2, 'task': b'ABNORMAL_TERMINATION_IN_LNSRCH', 'funcalls': 51, 'grad': array([ 0.00857564])}\n",
      "  \" state: %s\" % convergence_dict)\n"
     ]
    },
    {
     "name": "stdout",
     "output_type": "stream",
     "text": [
      "iter 81\n"
     ]
    },
    {
     "name": "stderr",
     "output_type": "stream",
     "text": [
      "/Users/tsuzuki/anaconda3/lib/python3.4/site-packages/sklearn/gaussian_process/gpr.py:427: UserWarning: fmin_l_bfgs_b terminated abnormally with the  state: {'nit': 4, 'warnflag': 2, 'task': b'ABNORMAL_TERMINATION_IN_LNSRCH', 'funcalls': 48, 'grad': array([-0.00941179])}\n",
      "  \" state: %s\" % convergence_dict)\n"
     ]
    },
    {
     "name": "stdout",
     "output_type": "stream",
     "text": [
      "iter 82\n"
     ]
    },
    {
     "name": "stderr",
     "output_type": "stream",
     "text": [
      "/Users/tsuzuki/anaconda3/lib/python3.4/site-packages/sklearn/gaussian_process/gpr.py:427: UserWarning: fmin_l_bfgs_b terminated abnormally with the  state: {'nit': 4, 'warnflag': 2, 'task': b'ABNORMAL_TERMINATION_IN_LNSRCH', 'funcalls': 49, 'grad': array([ 0.00253462])}\n",
      "  \" state: %s\" % convergence_dict)\n"
     ]
    },
    {
     "name": "stdout",
     "output_type": "stream",
     "text": [
      "iter 83\n"
     ]
    },
    {
     "name": "stderr",
     "output_type": "stream",
     "text": [
      "/Users/tsuzuki/anaconda3/lib/python3.4/site-packages/sklearn/gaussian_process/gpr.py:427: UserWarning: fmin_l_bfgs_b terminated abnormally with the  state: {'nit': 4, 'warnflag': 2, 'task': b'ABNORMAL_TERMINATION_IN_LNSRCH', 'funcalls': 49, 'grad': array([ 0.00253263])}\n",
      "  \" state: %s\" % convergence_dict)\n"
     ]
    },
    {
     "name": "stdout",
     "output_type": "stream",
     "text": [
      "iter 84\n"
     ]
    },
    {
     "name": "stderr",
     "output_type": "stream",
     "text": [
      "/Users/tsuzuki/anaconda3/lib/python3.4/site-packages/sklearn/gaussian_process/gpr.py:427: UserWarning: fmin_l_bfgs_b terminated abnormally with the  state: {'nit': 3, 'warnflag': 2, 'task': b'ABNORMAL_TERMINATION_IN_LNSRCH', 'funcalls': 50, 'grad': array([ 0.00432701])}\n",
      "  \" state: %s\" % convergence_dict)\n",
      "/Users/tsuzuki/anaconda3/lib/python3.4/site-packages/sklearn/gaussian_process/gpr.py:427: UserWarning: fmin_l_bfgs_b terminated abnormally with the  state: {'nit': 2, 'warnflag': 2, 'task': b'ABNORMAL_TERMINATION_IN_LNSRCH', 'funcalls': 48, 'grad': array([ 0.00042659])}\n",
      "  \" state: %s\" % convergence_dict)\n",
      "/Users/tsuzuki/anaconda3/lib/python3.4/site-packages/sklearn/gaussian_process/gpr.py:427: UserWarning: fmin_l_bfgs_b terminated abnormally with the  state: {'nit': 4, 'warnflag': 2, 'task': b'ABNORMAL_TERMINATION_IN_LNSRCH', 'funcalls': 55, 'grad': array([-0.00422281])}\n",
      "  \" state: %s\" % convergence_dict)\n",
      "/Users/tsuzuki/anaconda3/lib/python3.4/site-packages/sklearn/gaussian_process/gpr.py:427: UserWarning: fmin_l_bfgs_b terminated abnormally with the  state: {'nit': 5, 'warnflag': 2, 'task': b'ABNORMAL_TERMINATION_IN_LNSRCH', 'funcalls': 48, 'grad': array([ 0.00224014])}\n",
      "  \" state: %s\" % convergence_dict)\n"
     ]
    },
    {
     "name": "stdout",
     "output_type": "stream",
     "text": [
      "iter 85\n",
      "iter 86\n"
     ]
    },
    {
     "name": "stderr",
     "output_type": "stream",
     "text": [
      "/Users/tsuzuki/anaconda3/lib/python3.4/site-packages/sklearn/gaussian_process/gpr.py:427: UserWarning: fmin_l_bfgs_b terminated abnormally with the  state: {'nit': 4, 'warnflag': 2, 'task': b'ABNORMAL_TERMINATION_IN_LNSRCH', 'funcalls': 49, 'grad': array([ 0.00049506])}\n",
      "  \" state: %s\" % convergence_dict)\n",
      "/Users/tsuzuki/anaconda3/lib/python3.4/site-packages/sklearn/gaussian_process/gpr.py:427: UserWarning: fmin_l_bfgs_b terminated abnormally with the  state: {'nit': 5, 'warnflag': 2, 'task': b'ABNORMAL_TERMINATION_IN_LNSRCH', 'funcalls': 55, 'grad': array([-0.0008737])}\n",
      "  \" state: %s\" % convergence_dict)\n",
      "/Users/tsuzuki/anaconda3/lib/python3.4/site-packages/sklearn/gaussian_process/gpr.py:427: UserWarning: fmin_l_bfgs_b terminated abnormally with the  state: {'nit': 4, 'warnflag': 2, 'task': b'ABNORMAL_TERMINATION_IN_LNSRCH', 'funcalls': 49, 'grad': array([ 0.00051733])}\n",
      "  \" state: %s\" % convergence_dict)\n"
     ]
    },
    {
     "name": "stdout",
     "output_type": "stream",
     "text": [
      "iter 87\n"
     ]
    },
    {
     "name": "stderr",
     "output_type": "stream",
     "text": [
      "/Users/tsuzuki/anaconda3/lib/python3.4/site-packages/sklearn/gaussian_process/gpr.py:427: UserWarning: fmin_l_bfgs_b terminated abnormally with the  state: {'nit': 5, 'warnflag': 2, 'task': b'ABNORMAL_TERMINATION_IN_LNSRCH', 'funcalls': 56, 'grad': array([-0.00712311])}\n",
      "  \" state: %s\" % convergence_dict)\n"
     ]
    },
    {
     "name": "stdout",
     "output_type": "stream",
     "text": [
      "iter 88\n"
     ]
    },
    {
     "name": "stderr",
     "output_type": "stream",
     "text": [
      "/Users/tsuzuki/anaconda3/lib/python3.4/site-packages/sklearn/gaussian_process/gpr.py:427: UserWarning: fmin_l_bfgs_b terminated abnormally with the  state: {'nit': 4, 'warnflag': 2, 'task': b'ABNORMAL_TERMINATION_IN_LNSRCH', 'funcalls': 55, 'grad': array([-0.00780502])}\n",
      "  \" state: %s\" % convergence_dict)\n",
      "/Users/tsuzuki/anaconda3/lib/python3.4/site-packages/sklearn/gaussian_process/gpr.py:427: UserWarning: fmin_l_bfgs_b terminated abnormally with the  state: {'nit': 3, 'warnflag': 2, 'task': b'ABNORMAL_TERMINATION_IN_LNSRCH', 'funcalls': 50, 'grad': array([ 0.00350716])}\n",
      "  \" state: %s\" % convergence_dict)\n",
      "/Users/tsuzuki/anaconda3/lib/python3.4/site-packages/sklearn/gaussian_process/gpr.py:427: UserWarning: fmin_l_bfgs_b terminated abnormally with the  state: {'nit': 2, 'warnflag': 2, 'task': b'ABNORMAL_TERMINATION_IN_LNSRCH', 'funcalls': 49, 'grad': array([ -3.26619484e-05])}\n",
      "  \" state: %s\" % convergence_dict)\n"
     ]
    },
    {
     "name": "stdout",
     "output_type": "stream",
     "text": [
      "iter 89\n",
      "iter 90\n"
     ]
    },
    {
     "name": "stderr",
     "output_type": "stream",
     "text": [
      "/Users/tsuzuki/anaconda3/lib/python3.4/site-packages/sklearn/gaussian_process/gpr.py:427: UserWarning: fmin_l_bfgs_b terminated abnormally with the  state: {'nit': 2, 'warnflag': 2, 'task': b'ABNORMAL_TERMINATION_IN_LNSRCH', 'funcalls': 49, 'grad': array([ -1.96555047e-05])}\n",
      "  \" state: %s\" % convergence_dict)\n"
     ]
    },
    {
     "name": "stdout",
     "output_type": "stream",
     "text": [
      "iter 91\n"
     ]
    },
    {
     "name": "stderr",
     "output_type": "stream",
     "text": [
      "/Users/tsuzuki/anaconda3/lib/python3.4/site-packages/sklearn/gaussian_process/gpr.py:427: UserWarning: fmin_l_bfgs_b terminated abnormally with the  state: {'nit': 3, 'warnflag': 2, 'task': b'ABNORMAL_TERMINATION_IN_LNSRCH', 'funcalls': 50, 'grad': array([ 0.00459354])}\n",
      "  \" state: %s\" % convergence_dict)\n"
     ]
    },
    {
     "name": "stdout",
     "output_type": "stream",
     "text": [
      "iter 92\n"
     ]
    },
    {
     "name": "stderr",
     "output_type": "stream",
     "text": [
      "/Users/tsuzuki/anaconda3/lib/python3.4/site-packages/sklearn/gaussian_process/gpr.py:427: UserWarning: fmin_l_bfgs_b terminated abnormally with the  state: {'nit': 3, 'warnflag': 2, 'task': b'ABNORMAL_TERMINATION_IN_LNSRCH', 'funcalls': 53, 'grad': array([ 0.01155318])}\n",
      "  \" state: %s\" % convergence_dict)\n"
     ]
    },
    {
     "name": "stdout",
     "output_type": "stream",
     "text": [
      "iter 93\n",
      "iter 94\n"
     ]
    },
    {
     "name": "stderr",
     "output_type": "stream",
     "text": [
      "/Users/tsuzuki/anaconda3/lib/python3.4/site-packages/sklearn/gaussian_process/gpr.py:427: UserWarning: fmin_l_bfgs_b terminated abnormally with the  state: {'nit': 4, 'warnflag': 2, 'task': b'ABNORMAL_TERMINATION_IN_LNSRCH', 'funcalls': 49, 'grad': array([ 0.00308382])}\n",
      "  \" state: %s\" % convergence_dict)\n",
      "/Users/tsuzuki/anaconda3/lib/python3.4/site-packages/sklearn/gaussian_process/gpr.py:427: UserWarning: fmin_l_bfgs_b terminated abnormally with the  state: {'nit': 2, 'warnflag': 2, 'task': b'ABNORMAL_TERMINATION_IN_LNSRCH', 'funcalls': 50, 'grad': array([-0.00854856])}\n",
      "  \" state: %s\" % convergence_dict)\n"
     ]
    },
    {
     "name": "stdout",
     "output_type": "stream",
     "text": [
      "iter 95\n",
      "iter 96\n"
     ]
    },
    {
     "name": "stderr",
     "output_type": "stream",
     "text": [
      "/Users/tsuzuki/anaconda3/lib/python3.4/site-packages/sklearn/gaussian_process/gpr.py:427: UserWarning: fmin_l_bfgs_b terminated abnormally with the  state: {'nit': 2, 'warnflag': 2, 'task': b'ABNORMAL_TERMINATION_IN_LNSRCH', 'funcalls': 49, 'grad': array([ -2.72841426e-05])}\n",
      "  \" state: %s\" % convergence_dict)\n"
     ]
    },
    {
     "name": "stdout",
     "output_type": "stream",
     "text": [
      "iter 97\n",
      "iter 98\n",
      "iter 99\n"
     ]
    },
    {
     "name": "stderr",
     "output_type": "stream",
     "text": [
      "/Users/tsuzuki/anaconda3/lib/python3.4/site-packages/sklearn/gaussian_process/gpr.py:427: UserWarning: fmin_l_bfgs_b terminated abnormally with the  state: {'nit': 4, 'warnflag': 2, 'task': b'ABNORMAL_TERMINATION_IN_LNSRCH', 'funcalls': 55, 'grad': array([ 0.0015848])}\n",
      "  \" state: %s\" % convergence_dict)\n"
     ]
    },
    {
     "name": "stdout",
     "output_type": "stream",
     "text": [
      "iter 100\n",
      "iter 101\n"
     ]
    },
    {
     "name": "stderr",
     "output_type": "stream",
     "text": [
      "/Users/tsuzuki/anaconda3/lib/python3.4/site-packages/sklearn/gaussian_process/gpr.py:427: UserWarning: fmin_l_bfgs_b terminated abnormally with the  state: {'nit': 5, 'warnflag': 2, 'task': b'ABNORMAL_TERMINATION_IN_LNSRCH', 'funcalls': 48, 'grad': array([-0.00988864])}\n",
      "  \" state: %s\" % convergence_dict)\n"
     ]
    },
    {
     "name": "stdout",
     "output_type": "stream",
     "text": [
      "iter 102\n"
     ]
    },
    {
     "name": "stderr",
     "output_type": "stream",
     "text": [
      "/Users/tsuzuki/anaconda3/lib/python3.4/site-packages/sklearn/gaussian_process/gpr.py:427: UserWarning: fmin_l_bfgs_b terminated abnormally with the  state: {'nit': 2, 'warnflag': 2, 'task': b'ABNORMAL_TERMINATION_IN_LNSRCH', 'funcalls': 49, 'grad': array([ -5.50288241e-05])}\n",
      "  \" state: %s\" % convergence_dict)\n"
     ]
    },
    {
     "name": "stdout",
     "output_type": "stream",
     "text": [
      "iter 103\n"
     ]
    },
    {
     "name": "stderr",
     "output_type": "stream",
     "text": [
      "/Users/tsuzuki/anaconda3/lib/python3.4/site-packages/sklearn/gaussian_process/gpr.py:427: UserWarning: fmin_l_bfgs_b terminated abnormally with the  state: {'nit': 2, 'warnflag': 2, 'task': b'ABNORMAL_TERMINATION_IN_LNSRCH', 'funcalls': 50, 'grad': array([-0.00083789])}\n",
      "  \" state: %s\" % convergence_dict)\n"
     ]
    },
    {
     "name": "stdout",
     "output_type": "stream",
     "text": [
      "iter 104\n"
     ]
    },
    {
     "name": "stderr",
     "output_type": "stream",
     "text": [
      "/Users/tsuzuki/anaconda3/lib/python3.4/site-packages/sklearn/gaussian_process/gpr.py:427: UserWarning: fmin_l_bfgs_b terminated abnormally with the  state: {'nit': 4, 'warnflag': 2, 'task': b'ABNORMAL_TERMINATION_IN_LNSRCH', 'funcalls': 51, 'grad': array([ 0.00337458])}\n",
      "  \" state: %s\" % convergence_dict)\n",
      "/Users/tsuzuki/anaconda3/lib/python3.4/site-packages/sklearn/gaussian_process/gpr.py:427: UserWarning: fmin_l_bfgs_b terminated abnormally with the  state: {'nit': 2, 'warnflag': 2, 'task': b'ABNORMAL_TERMINATION_IN_LNSRCH', 'funcalls': 50, 'grad': array([  7.55597139e-05])}\n",
      "  \" state: %s\" % convergence_dict)\n"
     ]
    },
    {
     "name": "stdout",
     "output_type": "stream",
     "text": [
      "iter 105\n"
     ]
    },
    {
     "name": "stderr",
     "output_type": "stream",
     "text": [
      "/Users/tsuzuki/anaconda3/lib/python3.4/site-packages/sklearn/gaussian_process/gpr.py:427: UserWarning: fmin_l_bfgs_b terminated abnormally with the  state: {'nit': 4, 'warnflag': 2, 'task': b'ABNORMAL_TERMINATION_IN_LNSRCH', 'funcalls': 53, 'grad': array([ 0.00573884])}\n",
      "  \" state: %s\" % convergence_dict)\n"
     ]
    },
    {
     "name": "stdout",
     "output_type": "stream",
     "text": [
      "iter 106\n"
     ]
    },
    {
     "name": "stderr",
     "output_type": "stream",
     "text": [
      "/Users/tsuzuki/anaconda3/lib/python3.4/site-packages/sklearn/gaussian_process/gpr.py:427: UserWarning: fmin_l_bfgs_b terminated abnormally with the  state: {'nit': 5, 'warnflag': 2, 'task': b'ABNORMAL_TERMINATION_IN_LNSRCH', 'funcalls': 53, 'grad': array([-0.00509049])}\n",
      "  \" state: %s\" % convergence_dict)\n"
     ]
    },
    {
     "name": "stdout",
     "output_type": "stream",
     "text": [
      "iter 107\n"
     ]
    },
    {
     "name": "stderr",
     "output_type": "stream",
     "text": [
      "/Users/tsuzuki/anaconda3/lib/python3.4/site-packages/sklearn/gaussian_process/gpr.py:427: UserWarning: fmin_l_bfgs_b terminated abnormally with the  state: {'nit': 3, 'warnflag': 2, 'task': b'ABNORMAL_TERMINATION_IN_LNSRCH', 'funcalls': 47, 'grad': array([ 0.00106936])}\n",
      "  \" state: %s\" % convergence_dict)\n"
     ]
    },
    {
     "name": "stdout",
     "output_type": "stream",
     "text": [
      "iter 108\n"
     ]
    },
    {
     "name": "stderr",
     "output_type": "stream",
     "text": [
      "/Users/tsuzuki/anaconda3/lib/python3.4/site-packages/sklearn/gaussian_process/gpr.py:427: UserWarning: fmin_l_bfgs_b terminated abnormally with the  state: {'nit': 2, 'warnflag': 2, 'task': b'ABNORMAL_TERMINATION_IN_LNSRCH', 'funcalls': 50, 'grad': array([-0.0051513])}\n",
      "  \" state: %s\" % convergence_dict)\n",
      "/Users/tsuzuki/anaconda3/lib/python3.4/site-packages/sklearn/gaussian_process/gpr.py:427: UserWarning: fmin_l_bfgs_b terminated abnormally with the  state: {'nit': 2, 'warnflag': 2, 'task': b'ABNORMAL_TERMINATION_IN_LNSRCH', 'funcalls': 50, 'grad': array([ -5.69638796e-05])}\n",
      "  \" state: %s\" % convergence_dict)\n"
     ]
    },
    {
     "name": "stdout",
     "output_type": "stream",
     "text": [
      "iter 109\n",
      "iter 110\n",
      "iter 111\n",
      "iter 112\n"
     ]
    },
    {
     "name": "stderr",
     "output_type": "stream",
     "text": [
      "/Users/tsuzuki/anaconda3/lib/python3.4/site-packages/sklearn/gaussian_process/gpr.py:427: UserWarning: fmin_l_bfgs_b terminated abnormally with the  state: {'nit': 5, 'warnflag': 2, 'task': b'ABNORMAL_TERMINATION_IN_LNSRCH', 'funcalls': 51, 'grad': array([-0.00377756])}\n",
      "  \" state: %s\" % convergence_dict)\n",
      "/Users/tsuzuki/anaconda3/lib/python3.4/site-packages/sklearn/gaussian_process/gpr.py:427: UserWarning: fmin_l_bfgs_b terminated abnormally with the  state: {'nit': 5, 'warnflag': 2, 'task': b'ABNORMAL_TERMINATION_IN_LNSRCH', 'funcalls': 58, 'grad': array([-0.01400182])}\n",
      "  \" state: %s\" % convergence_dict)\n"
     ]
    },
    {
     "name": "stdout",
     "output_type": "stream",
     "text": [
      "iter 113\n"
     ]
    },
    {
     "name": "stderr",
     "output_type": "stream",
     "text": [
      "/Users/tsuzuki/anaconda3/lib/python3.4/site-packages/sklearn/gaussian_process/gpr.py:427: UserWarning: fmin_l_bfgs_b terminated abnormally with the  state: {'nit': 3, 'warnflag': 2, 'task': b'ABNORMAL_TERMINATION_IN_LNSRCH', 'funcalls': 50, 'grad': array([ 0.01596695])}\n",
      "  \" state: %s\" % convergence_dict)\n",
      "/Users/tsuzuki/anaconda3/lib/python3.4/site-packages/sklearn/gaussian_process/gpr.py:427: UserWarning: fmin_l_bfgs_b terminated abnormally with the  state: {'nit': 5, 'warnflag': 2, 'task': b'ABNORMAL_TERMINATION_IN_LNSRCH', 'funcalls': 52, 'grad': array([ 0.01588921])}\n",
      "  \" state: %s\" % convergence_dict)\n",
      "/Users/tsuzuki/anaconda3/lib/python3.4/site-packages/sklearn/gaussian_process/gpr.py:427: UserWarning: fmin_l_bfgs_b terminated abnormally with the  state: {'nit': 2, 'warnflag': 2, 'task': b'ABNORMAL_TERMINATION_IN_LNSRCH', 'funcalls': 51, 'grad': array([-0.01381801])}\n",
      "  \" state: %s\" % convergence_dict)\n"
     ]
    },
    {
     "name": "stdout",
     "output_type": "stream",
     "text": [
      "iter 114\n",
      "iter 115\n"
     ]
    },
    {
     "name": "stderr",
     "output_type": "stream",
     "text": [
      "/Users/tsuzuki/anaconda3/lib/python3.4/site-packages/sklearn/gaussian_process/gpr.py:427: UserWarning: fmin_l_bfgs_b terminated abnormally with the  state: {'nit': 2, 'warnflag': 2, 'task': b'ABNORMAL_TERMINATION_IN_LNSRCH', 'funcalls': 51, 'grad': array([-0.01441678])}\n",
      "  \" state: %s\" % convergence_dict)\n"
     ]
    },
    {
     "name": "stdout",
     "output_type": "stream",
     "text": [
      "iter 116\n",
      "iter 117\n",
      "iter 118\n"
     ]
    },
    {
     "name": "stderr",
     "output_type": "stream",
     "text": [
      "/Users/tsuzuki/anaconda3/lib/python3.4/site-packages/sklearn/gaussian_process/gpr.py:427: UserWarning: fmin_l_bfgs_b terminated abnormally with the  state: {'nit': 4, 'warnflag': 2, 'task': b'ABNORMAL_TERMINATION_IN_LNSRCH', 'funcalls': 52, 'grad': array([-0.00092405])}\n",
      "  \" state: %s\" % convergence_dict)\n"
     ]
    },
    {
     "name": "stdout",
     "output_type": "stream",
     "text": [
      "iter 119\n",
      "iter 120\n",
      "iter 121\n",
      "iter 122\n"
     ]
    },
    {
     "name": "stderr",
     "output_type": "stream",
     "text": [
      "/Users/tsuzuki/anaconda3/lib/python3.4/site-packages/sklearn/gaussian_process/gpr.py:427: UserWarning: fmin_l_bfgs_b terminated abnormally with the  state: {'nit': 2, 'warnflag': 2, 'task': b'ABNORMAL_TERMINATION_IN_LNSRCH', 'funcalls': 49, 'grad': array([ 0.01136297])}\n",
      "  \" state: %s\" % convergence_dict)\n"
     ]
    },
    {
     "name": "stdout",
     "output_type": "stream",
     "text": [
      "iter 123\n",
      "iter 124\n",
      "iter 125\n"
     ]
    },
    {
     "name": "stderr",
     "output_type": "stream",
     "text": [
      "/Users/tsuzuki/anaconda3/lib/python3.4/site-packages/sklearn/gaussian_process/gpr.py:427: UserWarning: fmin_l_bfgs_b terminated abnormally with the  state: {'nit': 2, 'warnflag': 2, 'task': b'ABNORMAL_TERMINATION_IN_LNSRCH', 'funcalls': 48, 'grad': array([-0.00388664])}\n",
      "  \" state: %s\" % convergence_dict)\n"
     ]
    },
    {
     "name": "stdout",
     "output_type": "stream",
     "text": [
      "iter 126\n",
      "iter 127\n"
     ]
    },
    {
     "name": "stderr",
     "output_type": "stream",
     "text": [
      "/Users/tsuzuki/anaconda3/lib/python3.4/site-packages/sklearn/gaussian_process/gpr.py:427: UserWarning: fmin_l_bfgs_b terminated abnormally with the  state: {'nit': 3, 'warnflag': 2, 'task': b'ABNORMAL_TERMINATION_IN_LNSRCH', 'funcalls': 47, 'grad': array([ 0.00060058])}\n",
      "  \" state: %s\" % convergence_dict)\n",
      "/Users/tsuzuki/anaconda3/lib/python3.4/site-packages/sklearn/gaussian_process/gpr.py:427: UserWarning: fmin_l_bfgs_b terminated abnormally with the  state: {'nit': 4, 'warnflag': 2, 'task': b'ABNORMAL_TERMINATION_IN_LNSRCH', 'funcalls': 48, 'grad': array([-0.00354098])}\n",
      "  \" state: %s\" % convergence_dict)\n"
     ]
    },
    {
     "name": "stdout",
     "output_type": "stream",
     "text": [
      "iter 128\n"
     ]
    },
    {
     "name": "stderr",
     "output_type": "stream",
     "text": [
      "/Users/tsuzuki/anaconda3/lib/python3.4/site-packages/sklearn/gaussian_process/gpr.py:427: UserWarning: fmin_l_bfgs_b terminated abnormally with the  state: {'nit': 6, 'warnflag': 2, 'task': b'ABNORMAL_TERMINATION_IN_LNSRCH', 'funcalls': 50, 'grad': array([-0.00387192])}\n",
      "  \" state: %s\" % convergence_dict)\n",
      "/Users/tsuzuki/anaconda3/lib/python3.4/site-packages/sklearn/gaussian_process/gpr.py:427: UserWarning: fmin_l_bfgs_b terminated abnormally with the  state: {'nit': 4, 'warnflag': 2, 'task': b'ABNORMAL_TERMINATION_IN_LNSRCH', 'funcalls': 50, 'grad': array([ 0.0034969])}\n",
      "  \" state: %s\" % convergence_dict)\n"
     ]
    },
    {
     "name": "stdout",
     "output_type": "stream",
     "text": [
      "iter 129\n",
      "iter 130\n"
     ]
    },
    {
     "name": "stderr",
     "output_type": "stream",
     "text": [
      "/Users/tsuzuki/anaconda3/lib/python3.4/site-packages/sklearn/gaussian_process/gpr.py:427: UserWarning: fmin_l_bfgs_b terminated abnormally with the  state: {'nit': 3, 'warnflag': 2, 'task': b'ABNORMAL_TERMINATION_IN_LNSRCH', 'funcalls': 50, 'grad': array([ 0.02107975])}\n",
      "  \" state: %s\" % convergence_dict)\n",
      "/Users/tsuzuki/anaconda3/lib/python3.4/site-packages/sklearn/gaussian_process/gpr.py:427: UserWarning: fmin_l_bfgs_b terminated abnormally with the  state: {'nit': 2, 'warnflag': 2, 'task': b'ABNORMAL_TERMINATION_IN_LNSRCH', 'funcalls': 47, 'grad': array([-0.00020859])}\n",
      "  \" state: %s\" % convergence_dict)\n"
     ]
    },
    {
     "name": "stdout",
     "output_type": "stream",
     "text": [
      "iter 131\n"
     ]
    },
    {
     "name": "stderr",
     "output_type": "stream",
     "text": [
      "/Users/tsuzuki/anaconda3/lib/python3.4/site-packages/sklearn/gaussian_process/gpr.py:427: UserWarning: fmin_l_bfgs_b terminated abnormally with the  state: {'nit': 3, 'warnflag': 2, 'task': b'ABNORMAL_TERMINATION_IN_LNSRCH', 'funcalls': 53, 'grad': array([ 0.00746047])}\n",
      "  \" state: %s\" % convergence_dict)\n"
     ]
    },
    {
     "name": "stdout",
     "output_type": "stream",
     "text": [
      "iter 132\n"
     ]
    },
    {
     "name": "stderr",
     "output_type": "stream",
     "text": [
      "/Users/tsuzuki/anaconda3/lib/python3.4/site-packages/sklearn/gaussian_process/gpr.py:427: UserWarning: fmin_l_bfgs_b terminated abnormally with the  state: {'nit': 3, 'warnflag': 2, 'task': b'ABNORMAL_TERMINATION_IN_LNSRCH', 'funcalls': 53, 'grad': array([ 0.01734512])}\n",
      "  \" state: %s\" % convergence_dict)\n"
     ]
    },
    {
     "name": "stdout",
     "output_type": "stream",
     "text": [
      "iter 133\n",
      "iter 134\n",
      "iter 135\n",
      "iter 136\n",
      "iter 137\n",
      "iter 138\n"
     ]
    },
    {
     "name": "stderr",
     "output_type": "stream",
     "text": [
      "/Users/tsuzuki/anaconda3/lib/python3.4/site-packages/sklearn/gaussian_process/gpr.py:427: UserWarning: fmin_l_bfgs_b terminated abnormally with the  state: {'nit': 4, 'warnflag': 2, 'task': b'ABNORMAL_TERMINATION_IN_LNSRCH', 'funcalls': 47, 'grad': array([ 0.00124464])}\n",
      "  \" state: %s\" % convergence_dict)\n"
     ]
    },
    {
     "name": "stdout",
     "output_type": "stream",
     "text": [
      "iter 139\n",
      "iter 140\n",
      "iter 141\n",
      "iter 142\n",
      "iter 143\n",
      "iter 144\n"
     ]
    },
    {
     "name": "stderr",
     "output_type": "stream",
     "text": [
      "/Users/tsuzuki/anaconda3/lib/python3.4/site-packages/sklearn/gaussian_process/gpr.py:427: UserWarning: fmin_l_bfgs_b terminated abnormally with the  state: {'nit': 5, 'warnflag': 2, 'task': b'ABNORMAL_TERMINATION_IN_LNSRCH', 'funcalls': 55, 'grad': array([-0.01144656])}\n",
      "  \" state: %s\" % convergence_dict)\n"
     ]
    },
    {
     "name": "stdout",
     "output_type": "stream",
     "text": [
      "iter 145\n",
      "iter 146\n"
     ]
    },
    {
     "name": "stderr",
     "output_type": "stream",
     "text": [
      "/Users/tsuzuki/anaconda3/lib/python3.4/site-packages/sklearn/gaussian_process/gpr.py:427: UserWarning: fmin_l_bfgs_b terminated abnormally with the  state: {'nit': 2, 'warnflag': 2, 'task': b'ABNORMAL_TERMINATION_IN_LNSRCH', 'funcalls': 51, 'grad': array([-0.00350057])}\n",
      "  \" state: %s\" % convergence_dict)\n"
     ]
    },
    {
     "name": "stdout",
     "output_type": "stream",
     "text": [
      "iter 147\n"
     ]
    },
    {
     "name": "stderr",
     "output_type": "stream",
     "text": [
      "/Users/tsuzuki/anaconda3/lib/python3.4/site-packages/sklearn/gaussian_process/gpr.py:427: UserWarning: fmin_l_bfgs_b terminated abnormally with the  state: {'nit': 4, 'warnflag': 2, 'task': b'ABNORMAL_TERMINATION_IN_LNSRCH', 'funcalls': 47, 'grad': array([-0.02028685])}\n",
      "  \" state: %s\" % convergence_dict)\n"
     ]
    },
    {
     "name": "stdout",
     "output_type": "stream",
     "text": [
      "iter 148\n"
     ]
    },
    {
     "name": "stderr",
     "output_type": "stream",
     "text": [
      "/Users/tsuzuki/anaconda3/lib/python3.4/site-packages/sklearn/gaussian_process/gpr.py:427: UserWarning: fmin_l_bfgs_b terminated abnormally with the  state: {'nit': 4, 'warnflag': 2, 'task': b'ABNORMAL_TERMINATION_IN_LNSRCH', 'funcalls': 54, 'grad': array([ 0.00957245])}\n",
      "  \" state: %s\" % convergence_dict)\n"
     ]
    },
    {
     "name": "stdout",
     "output_type": "stream",
     "text": [
      "iter 149\n"
     ]
    },
    {
     "name": "stderr",
     "output_type": "stream",
     "text": [
      "/Users/tsuzuki/anaconda3/lib/python3.4/site-packages/sklearn/gaussian_process/gpr.py:427: UserWarning: fmin_l_bfgs_b terminated abnormally with the  state: {'nit': 4, 'warnflag': 2, 'task': b'ABNORMAL_TERMINATION_IN_LNSRCH', 'funcalls': 57, 'grad': array([-0.0007697])}\n",
      "  \" state: %s\" % convergence_dict)\n"
     ]
    },
    {
     "name": "stdout",
     "output_type": "stream",
     "text": [
      "sample 2\n",
      "iter 0\n",
      "iter 1\n",
      "iter 2\n",
      "iter 3\n",
      "iter 4\n",
      "iter 5\n",
      "iter 6\n",
      "iter 7\n",
      "iter 8\n",
      "iter 9\n",
      "iter 10\n",
      "iter 11\n",
      "iter 12\n",
      "iter 13\n",
      "iter 14\n",
      "iter 15\n",
      "iter 16\n"
     ]
    },
    {
     "name": "stderr",
     "output_type": "stream",
     "text": [
      "/Users/tsuzuki/anaconda3/lib/python3.4/site-packages/sklearn/gaussian_process/gpr.py:427: UserWarning: fmin_l_bfgs_b terminated abnormally with the  state: {'nit': 2, 'warnflag': 2, 'task': b'ABNORMAL_TERMINATION_IN_LNSRCH', 'funcalls': 50, 'grad': array([-0.00035021])}\n",
      "  \" state: %s\" % convergence_dict)\n"
     ]
    },
    {
     "name": "stdout",
     "output_type": "stream",
     "text": [
      "iter 17\n",
      "iter 18\n",
      "iter 19\n",
      "iter 20\n",
      "iter 21\n",
      "iter 22\n",
      "iter 23\n",
      "iter 24\n",
      "iter 25\n",
      "iter 26\n",
      "iter 27\n",
      "iter 28\n"
     ]
    },
    {
     "name": "stderr",
     "output_type": "stream",
     "text": [
      "/Users/tsuzuki/anaconda3/lib/python3.4/site-packages/sklearn/gaussian_process/gpr.py:427: UserWarning: fmin_l_bfgs_b terminated abnormally with the  state: {'nit': 2, 'warnflag': 2, 'task': b'ABNORMAL_TERMINATION_IN_LNSRCH', 'funcalls': 49, 'grad': array([ -1.00933466e-05])}\n",
      "  \" state: %s\" % convergence_dict)\n"
     ]
    },
    {
     "name": "stdout",
     "output_type": "stream",
     "text": [
      "iter 29\n",
      "iter 30\n",
      "iter 31\n"
     ]
    },
    {
     "name": "stderr",
     "output_type": "stream",
     "text": [
      "/Users/tsuzuki/anaconda3/lib/python3.4/site-packages/sklearn/gaussian_process/gpr.py:427: UserWarning: fmin_l_bfgs_b terminated abnormally with the  state: {'nit': 4, 'warnflag': 2, 'task': b'ABNORMAL_TERMINATION_IN_LNSRCH', 'funcalls': 47, 'grad': array([ 0.00036986])}\n",
      "  \" state: %s\" % convergence_dict)\n"
     ]
    },
    {
     "name": "stdout",
     "output_type": "stream",
     "text": [
      "iter 32\n",
      "iter 33\n"
     ]
    },
    {
     "name": "stderr",
     "output_type": "stream",
     "text": [
      "/Users/tsuzuki/anaconda3/lib/python3.4/site-packages/sklearn/gaussian_process/gpr.py:427: UserWarning: fmin_l_bfgs_b terminated abnormally with the  state: {'nit': 2, 'warnflag': 2, 'task': b'ABNORMAL_TERMINATION_IN_LNSRCH', 'funcalls': 49, 'grad': array([-0.0003973])}\n",
      "  \" state: %s\" % convergence_dict)\n"
     ]
    },
    {
     "name": "stdout",
     "output_type": "stream",
     "text": [
      "iter 34\n",
      "iter 35\n",
      "iter 36\n",
      "iter 37\n",
      "iter 38\n"
     ]
    },
    {
     "name": "stderr",
     "output_type": "stream",
     "text": [
      "/Users/tsuzuki/anaconda3/lib/python3.4/site-packages/sklearn/gaussian_process/gpr.py:427: UserWarning: fmin_l_bfgs_b terminated abnormally with the  state: {'nit': 4, 'warnflag': 2, 'task': b'ABNORMAL_TERMINATION_IN_LNSRCH', 'funcalls': 49, 'grad': array([ -2.87628693e-05])}\n",
      "  \" state: %s\" % convergence_dict)\n"
     ]
    },
    {
     "name": "stdout",
     "output_type": "stream",
     "text": [
      "iter 39\n",
      "iter 40\n",
      "iter 41\n",
      "iter 42\n"
     ]
    },
    {
     "name": "stderr",
     "output_type": "stream",
     "text": [
      "/Users/tsuzuki/anaconda3/lib/python3.4/site-packages/sklearn/gaussian_process/gpr.py:427: UserWarning: fmin_l_bfgs_b terminated abnormally with the  state: {'nit': 2, 'warnflag': 2, 'task': b'ABNORMAL_TERMINATION_IN_LNSRCH', 'funcalls': 51, 'grad': array([-0.00041115])}\n",
      "  \" state: %s\" % convergence_dict)\n"
     ]
    },
    {
     "name": "stdout",
     "output_type": "stream",
     "text": [
      "iter 43\n",
      "iter 44\n"
     ]
    },
    {
     "name": "stderr",
     "output_type": "stream",
     "text": [
      "/Users/tsuzuki/anaconda3/lib/python3.4/site-packages/sklearn/gaussian_process/gpr.py:427: UserWarning: fmin_l_bfgs_b terminated abnormally with the  state: {'nit': 2, 'warnflag': 2, 'task': b'ABNORMAL_TERMINATION_IN_LNSRCH', 'funcalls': 51, 'grad': array([  3.90013918e-05])}\n",
      "  \" state: %s\" % convergence_dict)\n",
      "/Users/tsuzuki/anaconda3/lib/python3.4/site-packages/sklearn/gaussian_process/gpr.py:427: UserWarning: fmin_l_bfgs_b terminated abnormally with the  state: {'nit': 3, 'warnflag': 2, 'task': b'ABNORMAL_TERMINATION_IN_LNSRCH', 'funcalls': 57, 'grad': array([ 0.00064152])}\n",
      "  \" state: %s\" % convergence_dict)\n"
     ]
    },
    {
     "name": "stdout",
     "output_type": "stream",
     "text": [
      "iter 45\n"
     ]
    },
    {
     "name": "stderr",
     "output_type": "stream",
     "text": [
      "/Users/tsuzuki/anaconda3/lib/python3.4/site-packages/sklearn/gaussian_process/gpr.py:427: UserWarning: fmin_l_bfgs_b terminated abnormally with the  state: {'nit': 5, 'warnflag': 2, 'task': b'ABNORMAL_TERMINATION_IN_LNSRCH', 'funcalls': 51, 'grad': array([-0.0005341])}\n",
      "  \" state: %s\" % convergence_dict)\n"
     ]
    },
    {
     "name": "stdout",
     "output_type": "stream",
     "text": [
      "iter 46\n",
      "iter 47\n",
      "iter 48\n",
      "iter 49\n",
      "iter 50\n",
      "iter 51\n"
     ]
    },
    {
     "name": "stderr",
     "output_type": "stream",
     "text": [
      "/Users/tsuzuki/anaconda3/lib/python3.4/site-packages/sklearn/gaussian_process/gpr.py:427: UserWarning: fmin_l_bfgs_b terminated abnormally with the  state: {'nit': 3, 'warnflag': 2, 'task': b'ABNORMAL_TERMINATION_IN_LNSRCH', 'funcalls': 52, 'grad': array([ -1.15246712e-05])}\n",
      "  \" state: %s\" % convergence_dict)\n"
     ]
    },
    {
     "name": "stdout",
     "output_type": "stream",
     "text": [
      "iter 52\n"
     ]
    },
    {
     "name": "stderr",
     "output_type": "stream",
     "text": [
      "/Users/tsuzuki/anaconda3/lib/python3.4/site-packages/sklearn/gaussian_process/gpr.py:427: UserWarning: fmin_l_bfgs_b terminated abnormally with the  state: {'nit': 5, 'warnflag': 2, 'task': b'ABNORMAL_TERMINATION_IN_LNSRCH', 'funcalls': 49, 'grad': array([ -3.24601647e-05])}\n",
      "  \" state: %s\" % convergence_dict)\n",
      "/Users/tsuzuki/anaconda3/lib/python3.4/site-packages/sklearn/gaussian_process/gpr.py:427: UserWarning: fmin_l_bfgs_b terminated abnormally with the  state: {'nit': 5, 'warnflag': 2, 'task': b'ABNORMAL_TERMINATION_IN_LNSRCH', 'funcalls': 49, 'grad': array([-0.00028755])}\n",
      "  \" state: %s\" % convergence_dict)\n"
     ]
    },
    {
     "name": "stdout",
     "output_type": "stream",
     "text": [
      "iter 53\n"
     ]
    },
    {
     "name": "stderr",
     "output_type": "stream",
     "text": [
      "/Users/tsuzuki/anaconda3/lib/python3.4/site-packages/sklearn/gaussian_process/gpr.py:427: UserWarning: fmin_l_bfgs_b terminated abnormally with the  state: {'nit': 3, 'warnflag': 2, 'task': b'ABNORMAL_TERMINATION_IN_LNSRCH', 'funcalls': 48, 'grad': array([ -9.43072373e-05])}\n",
      "  \" state: %s\" % convergence_dict)\n"
     ]
    },
    {
     "name": "stdout",
     "output_type": "stream",
     "text": [
      "iter 54\n"
     ]
    },
    {
     "name": "stderr",
     "output_type": "stream",
     "text": [
      "/Users/tsuzuki/anaconda3/lib/python3.4/site-packages/sklearn/gaussian_process/gpr.py:427: UserWarning: fmin_l_bfgs_b terminated abnormally with the  state: {'nit': 4, 'warnflag': 2, 'task': b'ABNORMAL_TERMINATION_IN_LNSRCH', 'funcalls': 55, 'grad': array([-0.00329884])}\n",
      "  \" state: %s\" % convergence_dict)\n"
     ]
    },
    {
     "name": "stdout",
     "output_type": "stream",
     "text": [
      "iter 55\n",
      "iter 56\n"
     ]
    },
    {
     "name": "stderr",
     "output_type": "stream",
     "text": [
      "/Users/tsuzuki/anaconda3/lib/python3.4/site-packages/sklearn/gaussian_process/gpr.py:427: UserWarning: fmin_l_bfgs_b terminated abnormally with the  state: {'nit': 5, 'warnflag': 2, 'task': b'ABNORMAL_TERMINATION_IN_LNSRCH', 'funcalls': 51, 'grad': array([-0.00043002])}\n",
      "  \" state: %s\" % convergence_dict)\n",
      "/Users/tsuzuki/anaconda3/lib/python3.4/site-packages/sklearn/gaussian_process/gpr.py:427: UserWarning: fmin_l_bfgs_b terminated abnormally with the  state: {'nit': 3, 'warnflag': 2, 'task': b'ABNORMAL_TERMINATION_IN_LNSRCH', 'funcalls': 50, 'grad': array([ 0.00224938])}\n",
      "  \" state: %s\" % convergence_dict)\n",
      "/Users/tsuzuki/anaconda3/lib/python3.4/site-packages/sklearn/gaussian_process/gpr.py:427: UserWarning: fmin_l_bfgs_b terminated abnormally with the  state: {'nit': 3, 'warnflag': 2, 'task': b'ABNORMAL_TERMINATION_IN_LNSRCH', 'funcalls': 53, 'grad': array([ -3.21781633e-05])}\n",
      "  \" state: %s\" % convergence_dict)\n"
     ]
    },
    {
     "name": "stdout",
     "output_type": "stream",
     "text": [
      "iter 57\n",
      "iter 58\n",
      "iter 59\n",
      "iter 60\n",
      "iter 61\n"
     ]
    },
    {
     "name": "stderr",
     "output_type": "stream",
     "text": [
      "/Users/tsuzuki/anaconda3/lib/python3.4/site-packages/sklearn/gaussian_process/gpr.py:427: UserWarning: fmin_l_bfgs_b terminated abnormally with the  state: {'nit': 5, 'warnflag': 2, 'task': b'ABNORMAL_TERMINATION_IN_LNSRCH', 'funcalls': 52, 'grad': array([-0.00697376])}\n",
      "  \" state: %s\" % convergence_dict)\n",
      "/Users/tsuzuki/anaconda3/lib/python3.4/site-packages/sklearn/gaussian_process/gpr.py:427: UserWarning: fmin_l_bfgs_b terminated abnormally with the  state: {'nit': 5, 'warnflag': 2, 'task': b'ABNORMAL_TERMINATION_IN_LNSRCH', 'funcalls': 49, 'grad': array([-0.00127973])}\n",
      "  \" state: %s\" % convergence_dict)\n"
     ]
    },
    {
     "name": "stdout",
     "output_type": "stream",
     "text": [
      "iter 62\n"
     ]
    },
    {
     "name": "stderr",
     "output_type": "stream",
     "text": [
      "/Users/tsuzuki/anaconda3/lib/python3.4/site-packages/sklearn/gaussian_process/gpr.py:427: UserWarning: fmin_l_bfgs_b terminated abnormally with the  state: {'nit': 4, 'warnflag': 2, 'task': b'ABNORMAL_TERMINATION_IN_LNSRCH', 'funcalls': 49, 'grad': array([-0.0005385])}\n",
      "  \" state: %s\" % convergence_dict)\n"
     ]
    },
    {
     "name": "stdout",
     "output_type": "stream",
     "text": [
      "iter 63\n"
     ]
    },
    {
     "name": "stderr",
     "output_type": "stream",
     "text": [
      "/Users/tsuzuki/anaconda3/lib/python3.4/site-packages/sklearn/gaussian_process/gpr.py:427: UserWarning: fmin_l_bfgs_b terminated abnormally with the  state: {'nit': 3, 'warnflag': 2, 'task': b'ABNORMAL_TERMINATION_IN_LNSRCH', 'funcalls': 48, 'grad': array([ 0.00273635])}\n",
      "  \" state: %s\" % convergence_dict)\n",
      "/Users/tsuzuki/anaconda3/lib/python3.4/site-packages/sklearn/gaussian_process/gpr.py:427: UserWarning: fmin_l_bfgs_b terminated abnormally with the  state: {'nit': 4, 'warnflag': 2, 'task': b'ABNORMAL_TERMINATION_IN_LNSRCH', 'funcalls': 55, 'grad': array([-0.00157836])}\n",
      "  \" state: %s\" % convergence_dict)\n",
      "/Users/tsuzuki/anaconda3/lib/python3.4/site-packages/sklearn/gaussian_process/gpr.py:427: UserWarning: fmin_l_bfgs_b terminated abnormally with the  state: {'nit': 2, 'warnflag': 2, 'task': b'ABNORMAL_TERMINATION_IN_LNSRCH', 'funcalls': 51, 'grad': array([ 0.00086719])}\n",
      "  \" state: %s\" % convergence_dict)\n",
      "/Users/tsuzuki/anaconda3/lib/python3.4/site-packages/sklearn/gaussian_process/gpr.py:427: UserWarning: fmin_l_bfgs_b terminated abnormally with the  state: {'nit': 3, 'warnflag': 2, 'task': b'ABNORMAL_TERMINATION_IN_LNSRCH', 'funcalls': 48, 'grad': array([-0.00018895])}\n",
      "  \" state: %s\" % convergence_dict)\n"
     ]
    },
    {
     "name": "stdout",
     "output_type": "stream",
     "text": [
      "iter 64\n"
     ]
    },
    {
     "name": "stderr",
     "output_type": "stream",
     "text": [
      "/Users/tsuzuki/anaconda3/lib/python3.4/site-packages/sklearn/gaussian_process/gpr.py:427: UserWarning: fmin_l_bfgs_b terminated abnormally with the  state: {'nit': 2, 'warnflag': 2, 'task': b'ABNORMAL_TERMINATION_IN_LNSRCH', 'funcalls': 51, 'grad': array([ 0.00136743])}\n",
      "  \" state: %s\" % convergence_dict)\n",
      "/Users/tsuzuki/anaconda3/lib/python3.4/site-packages/sklearn/gaussian_process/gpr.py:427: UserWarning: fmin_l_bfgs_b terminated abnormally with the  state: {'nit': 2, 'warnflag': 2, 'task': b'ABNORMAL_TERMINATION_IN_LNSRCH', 'funcalls': 53, 'grad': array([ 0.00073727])}\n",
      "  \" state: %s\" % convergence_dict)\n"
     ]
    },
    {
     "name": "stdout",
     "output_type": "stream",
     "text": [
      "iter 65\n"
     ]
    },
    {
     "name": "stderr",
     "output_type": "stream",
     "text": [
      "/Users/tsuzuki/anaconda3/lib/python3.4/site-packages/sklearn/gaussian_process/gpr.py:427: UserWarning: fmin_l_bfgs_b terminated abnormally with the  state: {'nit': 2, 'warnflag': 2, 'task': b'ABNORMAL_TERMINATION_IN_LNSRCH', 'funcalls': 53, 'grad': array([ 0.00057792])}\n",
      "  \" state: %s\" % convergence_dict)\n",
      "/Users/tsuzuki/anaconda3/lib/python3.4/site-packages/sklearn/gaussian_process/gpr.py:427: UserWarning: fmin_l_bfgs_b terminated abnormally with the  state: {'nit': 2, 'warnflag': 2, 'task': b'ABNORMAL_TERMINATION_IN_LNSRCH', 'funcalls': 53, 'grad': array([ 0.00062498])}\n",
      "  \" state: %s\" % convergence_dict)\n",
      "/Users/tsuzuki/anaconda3/lib/python3.4/site-packages/sklearn/gaussian_process/gpr.py:427: UserWarning: fmin_l_bfgs_b terminated abnormally with the  state: {'nit': 3, 'warnflag': 2, 'task': b'ABNORMAL_TERMINATION_IN_LNSRCH', 'funcalls': 52, 'grad': array([-0.001327])}\n",
      "  \" state: %s\" % convergence_dict)\n"
     ]
    },
    {
     "name": "stdout",
     "output_type": "stream",
     "text": [
      "iter 66\n"
     ]
    },
    {
     "name": "stderr",
     "output_type": "stream",
     "text": [
      "/Users/tsuzuki/anaconda3/lib/python3.4/site-packages/sklearn/gaussian_process/gpr.py:427: UserWarning: fmin_l_bfgs_b terminated abnormally with the  state: {'nit': 5, 'warnflag': 2, 'task': b'ABNORMAL_TERMINATION_IN_LNSRCH', 'funcalls': 49, 'grad': array([ -1.80379138e-05])}\n",
      "  \" state: %s\" % convergence_dict)\n",
      "/Users/tsuzuki/anaconda3/lib/python3.4/site-packages/sklearn/gaussian_process/gpr.py:427: UserWarning: fmin_l_bfgs_b terminated abnormally with the  state: {'nit': 2, 'warnflag': 2, 'task': b'ABNORMAL_TERMINATION_IN_LNSRCH', 'funcalls': 53, 'grad': array([  9.74301220e-05])}\n",
      "  \" state: %s\" % convergence_dict)\n"
     ]
    },
    {
     "name": "stdout",
     "output_type": "stream",
     "text": [
      "iter 67\n"
     ]
    },
    {
     "name": "stderr",
     "output_type": "stream",
     "text": [
      "/Users/tsuzuki/anaconda3/lib/python3.4/site-packages/sklearn/gaussian_process/gpr.py:427: UserWarning: fmin_l_bfgs_b terminated abnormally with the  state: {'nit': 2, 'warnflag': 2, 'task': b'ABNORMAL_TERMINATION_IN_LNSRCH', 'funcalls': 53, 'grad': array([ 0.00028578])}\n",
      "  \" state: %s\" % convergence_dict)\n"
     ]
    },
    {
     "name": "stdout",
     "output_type": "stream",
     "text": [
      "iter 68\n"
     ]
    },
    {
     "name": "stderr",
     "output_type": "stream",
     "text": [
      "/Users/tsuzuki/anaconda3/lib/python3.4/site-packages/sklearn/gaussian_process/gpr.py:427: UserWarning: fmin_l_bfgs_b terminated abnormally with the  state: {'nit': 2, 'warnflag': 2, 'task': b'ABNORMAL_TERMINATION_IN_LNSRCH', 'funcalls': 53, 'grad': array([ 0.00027438])}\n",
      "  \" state: %s\" % convergence_dict)\n",
      "/Users/tsuzuki/anaconda3/lib/python3.4/site-packages/sklearn/gaussian_process/gpr.py:427: UserWarning: fmin_l_bfgs_b terminated abnormally with the  state: {'nit': 2, 'warnflag': 2, 'task': b'ABNORMAL_TERMINATION_IN_LNSRCH', 'funcalls': 47, 'grad': array([ 0.00010687])}\n",
      "  \" state: %s\" % convergence_dict)\n"
     ]
    },
    {
     "name": "stdout",
     "output_type": "stream",
     "text": [
      "iter 69\n"
     ]
    },
    {
     "name": "stderr",
     "output_type": "stream",
     "text": [
      "/Users/tsuzuki/anaconda3/lib/python3.4/site-packages/sklearn/gaussian_process/gpr.py:427: UserWarning: fmin_l_bfgs_b terminated abnormally with the  state: {'nit': 2, 'warnflag': 2, 'task': b'ABNORMAL_TERMINATION_IN_LNSRCH', 'funcalls': 47, 'grad': array([ 0.00013601])}\n",
      "  \" state: %s\" % convergence_dict)\n",
      "/Users/tsuzuki/anaconda3/lib/python3.4/site-packages/sklearn/gaussian_process/gpr.py:427: UserWarning: fmin_l_bfgs_b terminated abnormally with the  state: {'nit': 2, 'warnflag': 2, 'task': b'ABNORMAL_TERMINATION_IN_LNSRCH', 'funcalls': 51, 'grad': array([ 0.00097523])}\n",
      "  \" state: %s\" % convergence_dict)\n"
     ]
    },
    {
     "name": "stdout",
     "output_type": "stream",
     "text": [
      "iter 70\n",
      "iter 71\n"
     ]
    },
    {
     "name": "stderr",
     "output_type": "stream",
     "text": [
      "/Users/tsuzuki/anaconda3/lib/python3.4/site-packages/sklearn/gaussian_process/gpr.py:427: UserWarning: fmin_l_bfgs_b terminated abnormally with the  state: {'nit': 3, 'warnflag': 2, 'task': b'ABNORMAL_TERMINATION_IN_LNSRCH', 'funcalls': 48, 'grad': array([ 0.00130505])}\n",
      "  \" state: %s\" % convergence_dict)\n",
      "/Users/tsuzuki/anaconda3/lib/python3.4/site-packages/sklearn/gaussian_process/gpr.py:427: UserWarning: fmin_l_bfgs_b terminated abnormally with the  state: {'nit': 2, 'warnflag': 2, 'task': b'ABNORMAL_TERMINATION_IN_LNSRCH', 'funcalls': 51, 'grad': array([ 0.0004759])}\n",
      "  \" state: %s\" % convergence_dict)\n"
     ]
    },
    {
     "name": "stdout",
     "output_type": "stream",
     "text": [
      "iter 72\n"
     ]
    },
    {
     "name": "stderr",
     "output_type": "stream",
     "text": [
      "/Users/tsuzuki/anaconda3/lib/python3.4/site-packages/sklearn/gaussian_process/gpr.py:427: UserWarning: fmin_l_bfgs_b terminated abnormally with the  state: {'nit': 4, 'warnflag': 2, 'task': b'ABNORMAL_TERMINATION_IN_LNSRCH', 'funcalls': 57, 'grad': array([-0.00714906])}\n",
      "  \" state: %s\" % convergence_dict)\n",
      "/Users/tsuzuki/anaconda3/lib/python3.4/site-packages/sklearn/gaussian_process/gpr.py:427: UserWarning: fmin_l_bfgs_b terminated abnormally with the  state: {'nit': 3, 'warnflag': 2, 'task': b'ABNORMAL_TERMINATION_IN_LNSRCH', 'funcalls': 46, 'grad': array([ -2.81621979e-05])}\n",
      "  \" state: %s\" % convergence_dict)\n",
      "/Users/tsuzuki/anaconda3/lib/python3.4/site-packages/sklearn/gaussian_process/gpr.py:427: UserWarning: fmin_l_bfgs_b terminated abnormally with the  state: {'nit': 5, 'warnflag': 2, 'task': b'ABNORMAL_TERMINATION_IN_LNSRCH', 'funcalls': 48, 'grad': array([-0.00135796])}\n",
      "  \" state: %s\" % convergence_dict)\n"
     ]
    },
    {
     "name": "stdout",
     "output_type": "stream",
     "text": [
      "iter 73\n"
     ]
    },
    {
     "name": "stderr",
     "output_type": "stream",
     "text": [
      "/Users/tsuzuki/anaconda3/lib/python3.4/site-packages/sklearn/gaussian_process/gpr.py:427: UserWarning: fmin_l_bfgs_b terminated abnormally with the  state: {'nit': 3, 'warnflag': 2, 'task': b'ABNORMAL_TERMINATION_IN_LNSRCH', 'funcalls': 57, 'grad': array([-0.00611267])}\n",
      "  \" state: %s\" % convergence_dict)\n",
      "/Users/tsuzuki/anaconda3/lib/python3.4/site-packages/sklearn/gaussian_process/gpr.py:427: UserWarning: fmin_l_bfgs_b terminated abnormally with the  state: {'nit': 5, 'warnflag': 2, 'task': b'ABNORMAL_TERMINATION_IN_LNSRCH', 'funcalls': 50, 'grad': array([ 0.00211403])}\n",
      "  \" state: %s\" % convergence_dict)\n",
      "/Users/tsuzuki/anaconda3/lib/python3.4/site-packages/sklearn/gaussian_process/gpr.py:427: UserWarning: fmin_l_bfgs_b terminated abnormally with the  state: {'nit': 2, 'warnflag': 2, 'task': b'ABNORMAL_TERMINATION_IN_LNSRCH', 'funcalls': 53, 'grad': array([ 0.00011018])}\n",
      "  \" state: %s\" % convergence_dict)\n"
     ]
    },
    {
     "name": "stdout",
     "output_type": "stream",
     "text": [
      "iter 74\n"
     ]
    },
    {
     "name": "stderr",
     "output_type": "stream",
     "text": [
      "/Users/tsuzuki/anaconda3/lib/python3.4/site-packages/sklearn/gaussian_process/gpr.py:427: UserWarning: fmin_l_bfgs_b terminated abnormally with the  state: {'nit': 4, 'warnflag': 2, 'task': b'ABNORMAL_TERMINATION_IN_LNSRCH', 'funcalls': 47, 'grad': array([-0.00480267])}\n",
      "  \" state: %s\" % convergence_dict)\n"
     ]
    },
    {
     "name": "stdout",
     "output_type": "stream",
     "text": [
      "iter 75\n"
     ]
    },
    {
     "name": "stderr",
     "output_type": "stream",
     "text": [
      "/Users/tsuzuki/anaconda3/lib/python3.4/site-packages/sklearn/gaussian_process/gpr.py:427: UserWarning: fmin_l_bfgs_b terminated abnormally with the  state: {'nit': 5, 'warnflag': 2, 'task': b'ABNORMAL_TERMINATION_IN_LNSRCH', 'funcalls': 49, 'grad': array([ -4.54336841e-05])}\n",
      "  \" state: %s\" % convergence_dict)\n"
     ]
    },
    {
     "name": "stdout",
     "output_type": "stream",
     "text": [
      "iter 76\n",
      "iter 77\n"
     ]
    },
    {
     "name": "stderr",
     "output_type": "stream",
     "text": [
      "/Users/tsuzuki/anaconda3/lib/python3.4/site-packages/sklearn/gaussian_process/gpr.py:427: UserWarning: fmin_l_bfgs_b terminated abnormally with the  state: {'nit': 5, 'warnflag': 2, 'task': b'ABNORMAL_TERMINATION_IN_LNSRCH', 'funcalls': 48, 'grad': array([ -9.88845713e-05])}\n",
      "  \" state: %s\" % convergence_dict)\n"
     ]
    },
    {
     "name": "stdout",
     "output_type": "stream",
     "text": [
      "iter 78\n",
      "iter 79\n",
      "iter 80\n",
      "iter 81\n",
      "iter 82\n"
     ]
    },
    {
     "name": "stderr",
     "output_type": "stream",
     "text": [
      "/Users/tsuzuki/anaconda3/lib/python3.4/site-packages/sklearn/gaussian_process/gpr.py:427: UserWarning: fmin_l_bfgs_b terminated abnormally with the  state: {'nit': 5, 'warnflag': 2, 'task': b'ABNORMAL_TERMINATION_IN_LNSRCH', 'funcalls': 49, 'grad': array([ 0.00011076])}\n",
      "  \" state: %s\" % convergence_dict)\n"
     ]
    },
    {
     "name": "stdout",
     "output_type": "stream",
     "text": [
      "iter 83\n",
      "iter 84\n",
      "iter 85\n",
      "iter 86\n",
      "iter 87\n",
      "iter 88\n"
     ]
    },
    {
     "name": "stderr",
     "output_type": "stream",
     "text": [
      "/Users/tsuzuki/anaconda3/lib/python3.4/site-packages/sklearn/gaussian_process/gpr.py:427: UserWarning: fmin_l_bfgs_b terminated abnormally with the  state: {'nit': 4, 'warnflag': 2, 'task': b'ABNORMAL_TERMINATION_IN_LNSRCH', 'funcalls': 47, 'grad': array([ 0.00021622])}\n",
      "  \" state: %s\" % convergence_dict)\n",
      "/Users/tsuzuki/anaconda3/lib/python3.4/site-packages/sklearn/gaussian_process/gpr.py:427: UserWarning: fmin_l_bfgs_b terminated abnormally with the  state: {'nit': 2, 'warnflag': 2, 'task': b'ABNORMAL_TERMINATION_IN_LNSRCH', 'funcalls': 50, 'grad': array([ -1.48114723e-05])}\n",
      "  \" state: %s\" % convergence_dict)\n"
     ]
    },
    {
     "name": "stdout",
     "output_type": "stream",
     "text": [
      "iter 89\n"
     ]
    },
    {
     "name": "stderr",
     "output_type": "stream",
     "text": [
      "/Users/tsuzuki/anaconda3/lib/python3.4/site-packages/sklearn/gaussian_process/gpr.py:427: UserWarning: fmin_l_bfgs_b terminated abnormally with the  state: {'nit': 3, 'warnflag': 2, 'task': b'ABNORMAL_TERMINATION_IN_LNSRCH', 'funcalls': 50, 'grad': array([-0.00347213])}\n",
      "  \" state: %s\" % convergence_dict)\n"
     ]
    },
    {
     "name": "stdout",
     "output_type": "stream",
     "text": [
      "iter 90\n",
      "iter 91\n",
      "iter 92\n"
     ]
    },
    {
     "name": "stderr",
     "output_type": "stream",
     "text": [
      "/Users/tsuzuki/anaconda3/lib/python3.4/site-packages/sklearn/gaussian_process/gpr.py:427: UserWarning: fmin_l_bfgs_b terminated abnormally with the  state: {'nit': 4, 'warnflag': 2, 'task': b'ABNORMAL_TERMINATION_IN_LNSRCH', 'funcalls': 49, 'grad': array([ 0.00052833])}\n",
      "  \" state: %s\" % convergence_dict)\n",
      "/Users/tsuzuki/anaconda3/lib/python3.4/site-packages/sklearn/gaussian_process/gpr.py:427: UserWarning: fmin_l_bfgs_b terminated abnormally with the  state: {'nit': 2, 'warnflag': 2, 'task': b'ABNORMAL_TERMINATION_IN_LNSRCH', 'funcalls': 52, 'grad': array([-0.00473157])}\n",
      "  \" state: %s\" % convergence_dict)\n"
     ]
    },
    {
     "name": "stdout",
     "output_type": "stream",
     "text": [
      "iter 93\n"
     ]
    },
    {
     "name": "stderr",
     "output_type": "stream",
     "text": [
      "/Users/tsuzuki/anaconda3/lib/python3.4/site-packages/sklearn/gaussian_process/gpr.py:427: UserWarning: fmin_l_bfgs_b terminated abnormally with the  state: {'nit': 2, 'warnflag': 2, 'task': b'ABNORMAL_TERMINATION_IN_LNSRCH', 'funcalls': 52, 'grad': array([ -5.31196856e-05])}\n",
      "  \" state: %s\" % convergence_dict)\n"
     ]
    },
    {
     "name": "stdout",
     "output_type": "stream",
     "text": [
      "iter 94\n",
      "iter 95\n",
      "iter 96\n",
      "iter 97\n",
      "iter 98\n"
     ]
    },
    {
     "name": "stderr",
     "output_type": "stream",
     "text": [
      "/Users/tsuzuki/anaconda3/lib/python3.4/site-packages/sklearn/gaussian_process/gpr.py:427: UserWarning: fmin_l_bfgs_b terminated abnormally with the  state: {'nit': 3, 'warnflag': 2, 'task': b'ABNORMAL_TERMINATION_IN_LNSRCH', 'funcalls': 52, 'grad': array([-0.00299112])}\n",
      "  \" state: %s\" % convergence_dict)\n",
      "/Users/tsuzuki/anaconda3/lib/python3.4/site-packages/sklearn/gaussian_process/gpr.py:427: UserWarning: fmin_l_bfgs_b terminated abnormally with the  state: {'nit': 3, 'warnflag': 2, 'task': b'ABNORMAL_TERMINATION_IN_LNSRCH', 'funcalls': 51, 'grad': array([ 0.00011757])}\n",
      "  \" state: %s\" % convergence_dict)\n"
     ]
    },
    {
     "name": "stdout",
     "output_type": "stream",
     "text": [
      "iter 99\n"
     ]
    },
    {
     "name": "stderr",
     "output_type": "stream",
     "text": [
      "/Users/tsuzuki/anaconda3/lib/python3.4/site-packages/sklearn/gaussian_process/gpr.py:427: UserWarning: fmin_l_bfgs_b terminated abnormally with the  state: {'nit': 2, 'warnflag': 2, 'task': b'ABNORMAL_TERMINATION_IN_LNSRCH', 'funcalls': 51, 'grad': array([-0.00744052])}\n",
      "  \" state: %s\" % convergence_dict)\n"
     ]
    },
    {
     "name": "stdout",
     "output_type": "stream",
     "text": [
      "iter 100\n"
     ]
    },
    {
     "name": "stderr",
     "output_type": "stream",
     "text": [
      "/Users/tsuzuki/anaconda3/lib/python3.4/site-packages/sklearn/gaussian_process/gpr.py:427: UserWarning: fmin_l_bfgs_b terminated abnormally with the  state: {'nit': 2, 'warnflag': 2, 'task': b'ABNORMAL_TERMINATION_IN_LNSRCH', 'funcalls': 51, 'grad': array([-0.00622494])}\n",
      "  \" state: %s\" % convergence_dict)\n",
      "/Users/tsuzuki/anaconda3/lib/python3.4/site-packages/sklearn/gaussian_process/gpr.py:427: UserWarning: fmin_l_bfgs_b terminated abnormally with the  state: {'nit': 3, 'warnflag': 2, 'task': b'ABNORMAL_TERMINATION_IN_LNSRCH', 'funcalls': 46, 'grad': array([ 0.02004924])}\n",
      "  \" state: %s\" % convergence_dict)\n"
     ]
    },
    {
     "name": "stdout",
     "output_type": "stream",
     "text": [
      "iter 101\n",
      "iter 102\n"
     ]
    },
    {
     "name": "stderr",
     "output_type": "stream",
     "text": [
      "/Users/tsuzuki/anaconda3/lib/python3.4/site-packages/sklearn/gaussian_process/gpr.py:427: UserWarning: fmin_l_bfgs_b terminated abnormally with the  state: {'nit': 2, 'warnflag': 2, 'task': b'ABNORMAL_TERMINATION_IN_LNSRCH', 'funcalls': 51, 'grad': array([-0.00760244])}\n",
      "  \" state: %s\" % convergence_dict)\n"
     ]
    },
    {
     "name": "stdout",
     "output_type": "stream",
     "text": [
      "iter 103\n"
     ]
    },
    {
     "name": "stderr",
     "output_type": "stream",
     "text": [
      "/Users/tsuzuki/anaconda3/lib/python3.4/site-packages/sklearn/gaussian_process/gpr.py:427: UserWarning: fmin_l_bfgs_b terminated abnormally with the  state: {'nit': 3, 'warnflag': 2, 'task': b'ABNORMAL_TERMINATION_IN_LNSRCH', 'funcalls': 53, 'grad': array([ 0.00372289])}\n",
      "  \" state: %s\" % convergence_dict)\n",
      "/Users/tsuzuki/anaconda3/lib/python3.4/site-packages/sklearn/gaussian_process/gpr.py:427: UserWarning: fmin_l_bfgs_b terminated abnormally with the  state: {'nit': 5, 'warnflag': 2, 'task': b'ABNORMAL_TERMINATION_IN_LNSRCH', 'funcalls': 49, 'grad': array([ 0.00241609])}\n",
      "  \" state: %s\" % convergence_dict)\n"
     ]
    },
    {
     "name": "stdout",
     "output_type": "stream",
     "text": [
      "iter 104\n",
      "iter 105\n"
     ]
    },
    {
     "name": "stderr",
     "output_type": "stream",
     "text": [
      "/Users/tsuzuki/anaconda3/lib/python3.4/site-packages/sklearn/gaussian_process/gpr.py:427: UserWarning: fmin_l_bfgs_b terminated abnormally with the  state: {'nit': 3, 'warnflag': 2, 'task': b'ABNORMAL_TERMINATION_IN_LNSRCH', 'funcalls': 48, 'grad': array([  5.18749512e-05])}\n",
      "  \" state: %s\" % convergence_dict)\n"
     ]
    },
    {
     "name": "stdout",
     "output_type": "stream",
     "text": [
      "iter 106\n",
      "iter 107\n"
     ]
    },
    {
     "name": "stderr",
     "output_type": "stream",
     "text": [
      "/Users/tsuzuki/anaconda3/lib/python3.4/site-packages/sklearn/gaussian_process/gpr.py:427: UserWarning: fmin_l_bfgs_b terminated abnormally with the  state: {'nit': 3, 'warnflag': 2, 'task': b'ABNORMAL_TERMINATION_IN_LNSRCH', 'funcalls': 57, 'grad': array([-0.00177705])}\n",
      "  \" state: %s\" % convergence_dict)\n"
     ]
    },
    {
     "name": "stdout",
     "output_type": "stream",
     "text": [
      "iter 108\n"
     ]
    },
    {
     "name": "stderr",
     "output_type": "stream",
     "text": [
      "/Users/tsuzuki/anaconda3/lib/python3.4/site-packages/sklearn/gaussian_process/gpr.py:427: UserWarning: fmin_l_bfgs_b terminated abnormally with the  state: {'nit': 3, 'warnflag': 2, 'task': b'ABNORMAL_TERMINATION_IN_LNSRCH', 'funcalls': 48, 'grad': array([-0.00448728])}\n",
      "  \" state: %s\" % convergence_dict)\n",
      "/Users/tsuzuki/anaconda3/lib/python3.4/site-packages/sklearn/gaussian_process/gpr.py:427: UserWarning: fmin_l_bfgs_b terminated abnormally with the  state: {'nit': 1, 'warnflag': 2, 'task': b'ABNORMAL_TERMINATION_IN_LNSRCH', 'funcalls': 29, 'grad': array([-159.71886383])}\n",
      "  \" state: %s\" % convergence_dict)\n"
     ]
    },
    {
     "name": "stdout",
     "output_type": "stream",
     "text": [
      "iter 109\n",
      "iter 110\n"
     ]
    },
    {
     "name": "stderr",
     "output_type": "stream",
     "text": [
      "/Users/tsuzuki/anaconda3/lib/python3.4/site-packages/sklearn/gaussian_process/gpr.py:427: UserWarning: fmin_l_bfgs_b terminated abnormally with the  state: {'nit': 2, 'warnflag': 2, 'task': b'ABNORMAL_TERMINATION_IN_LNSRCH', 'funcalls': 50, 'grad': array([ -2.69125667e-05])}\n",
      "  \" state: %s\" % convergence_dict)\n"
     ]
    },
    {
     "name": "stdout",
     "output_type": "stream",
     "text": [
      "iter 111\n"
     ]
    },
    {
     "name": "stderr",
     "output_type": "stream",
     "text": [
      "/Users/tsuzuki/anaconda3/lib/python3.4/site-packages/sklearn/gaussian_process/gpr.py:427: UserWarning: fmin_l_bfgs_b terminated abnormally with the  state: {'nit': 2, 'warnflag': 2, 'task': b'ABNORMAL_TERMINATION_IN_LNSRCH', 'funcalls': 50, 'grad': array([-0.00056833])}\n",
      "  \" state: %s\" % convergence_dict)\n"
     ]
    },
    {
     "name": "stdout",
     "output_type": "stream",
     "text": [
      "iter 112\n"
     ]
    },
    {
     "name": "stderr",
     "output_type": "stream",
     "text": [
      "/Users/tsuzuki/anaconda3/lib/python3.4/site-packages/sklearn/gaussian_process/gpr.py:427: UserWarning: fmin_l_bfgs_b terminated abnormally with the  state: {'nit': 3, 'warnflag': 2, 'task': b'ABNORMAL_TERMINATION_IN_LNSRCH', 'funcalls': 48, 'grad': array([-0.00583054])}\n",
      "  \" state: %s\" % convergence_dict)\n",
      "/Users/tsuzuki/anaconda3/lib/python3.4/site-packages/sklearn/gaussian_process/gpr.py:427: UserWarning: fmin_l_bfgs_b terminated abnormally with the  state: {'nit': 3, 'warnflag': 2, 'task': b'ABNORMAL_TERMINATION_IN_LNSRCH', 'funcalls': 53, 'grad': array([-0.00052509])}\n",
      "  \" state: %s\" % convergence_dict)\n"
     ]
    },
    {
     "name": "stdout",
     "output_type": "stream",
     "text": [
      "iter 113\n"
     ]
    },
    {
     "name": "stderr",
     "output_type": "stream",
     "text": [
      "/Users/tsuzuki/anaconda3/lib/python3.4/site-packages/sklearn/gaussian_process/gpr.py:427: UserWarning: fmin_l_bfgs_b terminated abnormally with the  state: {'nit': 3, 'warnflag': 2, 'task': b'ABNORMAL_TERMINATION_IN_LNSRCH', 'funcalls': 48, 'grad': array([-0.00587595])}\n",
      "  \" state: %s\" % convergence_dict)\n",
      "/Users/tsuzuki/anaconda3/lib/python3.4/site-packages/sklearn/gaussian_process/gpr.py:427: UserWarning: fmin_l_bfgs_b terminated abnormally with the  state: {'nit': 3, 'warnflag': 2, 'task': b'ABNORMAL_TERMINATION_IN_LNSRCH', 'funcalls': 57, 'grad': array([-0.00032906])}\n",
      "  \" state: %s\" % convergence_dict)\n"
     ]
    },
    {
     "name": "stdout",
     "output_type": "stream",
     "text": [
      "iter 114\n"
     ]
    },
    {
     "name": "stderr",
     "output_type": "stream",
     "text": [
      "/Users/tsuzuki/anaconda3/lib/python3.4/site-packages/sklearn/gaussian_process/gpr.py:427: UserWarning: fmin_l_bfgs_b terminated abnormally with the  state: {'nit': 2, 'warnflag': 2, 'task': b'ABNORMAL_TERMINATION_IN_LNSRCH', 'funcalls': 50, 'grad': array([-0.00563023])}\n",
      "  \" state: %s\" % convergence_dict)\n"
     ]
    },
    {
     "name": "stdout",
     "output_type": "stream",
     "text": [
      "iter 115\n"
     ]
    },
    {
     "name": "stderr",
     "output_type": "stream",
     "text": [
      "/Users/tsuzuki/anaconda3/lib/python3.4/site-packages/sklearn/gaussian_process/gpr.py:427: UserWarning: fmin_l_bfgs_b terminated abnormally with the  state: {'nit': 1, 'warnflag': 2, 'task': b'ABNORMAL_TERMINATION_IN_LNSRCH', 'funcalls': 29, 'grad': array([-265.02843052])}\n",
      "  \" state: %s\" % convergence_dict)\n",
      "/Users/tsuzuki/anaconda3/lib/python3.4/site-packages/sklearn/gaussian_process/gpr.py:427: UserWarning: fmin_l_bfgs_b terminated abnormally with the  state: {'nit': 2, 'warnflag': 2, 'task': b'ABNORMAL_TERMINATION_IN_LNSRCH', 'funcalls': 48, 'grad': array([ 0.00087532])}\n",
      "  \" state: %s\" % convergence_dict)\n",
      "/Users/tsuzuki/anaconda3/lib/python3.4/site-packages/sklearn/gaussian_process/gpr.py:427: UserWarning: fmin_l_bfgs_b terminated abnormally with the  state: {'nit': 2, 'warnflag': 2, 'task': b'ABNORMAL_TERMINATION_IN_LNSRCH', 'funcalls': 38, 'grad': array([-21.45154312])}\n",
      "  \" state: %s\" % convergence_dict)\n",
      "/Users/tsuzuki/anaconda3/lib/python3.4/site-packages/sklearn/gaussian_process/gpr.py:427: UserWarning: fmin_l_bfgs_b terminated abnormally with the  state: {'nit': 6, 'warnflag': 2, 'task': b'ABNORMAL_TERMINATION_IN_LNSRCH', 'funcalls': 50, 'grad': array([ 0.0031119])}\n",
      "  \" state: %s\" % convergence_dict)\n",
      "/Users/tsuzuki/anaconda3/lib/python3.4/site-packages/sklearn/gaussian_process/gpr.py:427: UserWarning: fmin_l_bfgs_b terminated abnormally with the  state: {'nit': 2, 'warnflag': 2, 'task': b'ABNORMAL_TERMINATION_IN_LNSRCH', 'funcalls': 50, 'grad': array([-0.08071747])}\n",
      "  \" state: %s\" % convergence_dict)\n"
     ]
    },
    {
     "name": "stdout",
     "output_type": "stream",
     "text": [
      "iter 116\n",
      "iter 117\n"
     ]
    },
    {
     "name": "stderr",
     "output_type": "stream",
     "text": [
      "/Users/tsuzuki/anaconda3/lib/python3.4/site-packages/sklearn/gaussian_process/gpr.py:427: UserWarning: fmin_l_bfgs_b terminated abnormally with the  state: {'nit': 5, 'warnflag': 2, 'task': b'ABNORMAL_TERMINATION_IN_LNSRCH', 'funcalls': 49, 'grad': array([ 0.00210149])}\n",
      "  \" state: %s\" % convergence_dict)\n"
     ]
    },
    {
     "name": "stdout",
     "output_type": "stream",
     "text": [
      "iter 118\n"
     ]
    },
    {
     "name": "stderr",
     "output_type": "stream",
     "text": [
      "/Users/tsuzuki/anaconda3/lib/python3.4/site-packages/sklearn/gaussian_process/gpr.py:427: UserWarning: fmin_l_bfgs_b terminated abnormally with the  state: {'nit': 3, 'warnflag': 2, 'task': b'ABNORMAL_TERMINATION_IN_LNSRCH', 'funcalls': 53, 'grad': array([ 0.07352829])}\n",
      "  \" state: %s\" % convergence_dict)\n",
      "/Users/tsuzuki/anaconda3/lib/python3.4/site-packages/sklearn/gaussian_process/gpr.py:427: UserWarning: fmin_l_bfgs_b terminated abnormally with the  state: {'nit': 5, 'warnflag': 2, 'task': b'ABNORMAL_TERMINATION_IN_LNSRCH', 'funcalls': 48, 'grad': array([ 0.00102891])}\n",
      "  \" state: %s\" % convergence_dict)\n"
     ]
    },
    {
     "name": "stdout",
     "output_type": "stream",
     "text": [
      "iter 119\n",
      "iter 120\n"
     ]
    },
    {
     "name": "stderr",
     "output_type": "stream",
     "text": [
      "/Users/tsuzuki/anaconda3/lib/python3.4/site-packages/sklearn/gaussian_process/gpr.py:427: UserWarning: fmin_l_bfgs_b terminated abnormally with the  state: {'nit': 3, 'warnflag': 2, 'task': b'ABNORMAL_TERMINATION_IN_LNSRCH', 'funcalls': 53, 'grad': array([ 0.01768729])}\n",
      "  \" state: %s\" % convergence_dict)\n",
      "/Users/tsuzuki/anaconda3/lib/python3.4/site-packages/sklearn/gaussian_process/gpr.py:427: UserWarning: fmin_l_bfgs_b terminated abnormally with the  state: {'nit': 4, 'warnflag': 2, 'task': b'ABNORMAL_TERMINATION_IN_LNSRCH', 'funcalls': 47, 'grad': array([-0.03183976])}\n",
      "  \" state: %s\" % convergence_dict)\n",
      "/Users/tsuzuki/anaconda3/lib/python3.4/site-packages/sklearn/gaussian_process/gpr.py:427: UserWarning: fmin_l_bfgs_b terminated abnormally with the  state: {'nit': 3, 'warnflag': 2, 'task': b'ABNORMAL_TERMINATION_IN_LNSRCH', 'funcalls': 48, 'grad': array([ 0.00146098])}\n",
      "  \" state: %s\" % convergence_dict)\n",
      "/Users/tsuzuki/anaconda3/lib/python3.4/site-packages/sklearn/gaussian_process/gpr.py:427: UserWarning: fmin_l_bfgs_b terminated abnormally with the  state: {'nit': 1, 'warnflag': 2, 'task': b'ABNORMAL_TERMINATION_IN_LNSRCH', 'funcalls': 29, 'grad': array([-139.77203302])}\n",
      "  \" state: %s\" % convergence_dict)\n",
      "/Users/tsuzuki/anaconda3/lib/python3.4/site-packages/sklearn/gaussian_process/gpr.py:427: UserWarning: fmin_l_bfgs_b terminated abnormally with the  state: {'nit': 1, 'warnflag': 2, 'task': b'ABNORMAL_TERMINATION_IN_LNSRCH', 'funcalls': 29, 'grad': array([-149.74738207])}\n",
      "  \" state: %s\" % convergence_dict)\n",
      "/Users/tsuzuki/anaconda3/lib/python3.4/site-packages/sklearn/gaussian_process/gpr.py:427: UserWarning: fmin_l_bfgs_b terminated abnormally with the  state: {'nit': 2, 'warnflag': 2, 'task': b'ABNORMAL_TERMINATION_IN_LNSRCH', 'funcalls': 48, 'grad': array([ 0.00110402])}\n",
      "  \" state: %s\" % convergence_dict)\n"
     ]
    },
    {
     "name": "stdout",
     "output_type": "stream",
     "text": [
      "iter 121\n"
     ]
    },
    {
     "name": "stderr",
     "output_type": "stream",
     "text": [
      "/Users/tsuzuki/anaconda3/lib/python3.4/site-packages/sklearn/gaussian_process/gpr.py:427: UserWarning: fmin_l_bfgs_b terminated abnormally with the  state: {'nit': 5, 'warnflag': 2, 'task': b'ABNORMAL_TERMINATION_IN_LNSRCH', 'funcalls': 49, 'grad': array([ 0.00281296])}\n",
      "  \" state: %s\" % convergence_dict)\n"
     ]
    },
    {
     "name": "stdout",
     "output_type": "stream",
     "text": [
      "iter 122\n"
     ]
    },
    {
     "name": "stderr",
     "output_type": "stream",
     "text": [
      "/Users/tsuzuki/anaconda3/lib/python3.4/site-packages/sklearn/gaussian_process/gpr.py:427: UserWarning: fmin_l_bfgs_b terminated abnormally with the  state: {'nit': 3, 'warnflag': 2, 'task': b'ABNORMAL_TERMINATION_IN_LNSRCH', 'funcalls': 55, 'grad': array([-0.04818885])}\n",
      "  \" state: %s\" % convergence_dict)\n"
     ]
    },
    {
     "name": "stdout",
     "output_type": "stream",
     "text": [
      "iter 123\n"
     ]
    },
    {
     "name": "stderr",
     "output_type": "stream",
     "text": [
      "/Users/tsuzuki/anaconda3/lib/python3.4/site-packages/sklearn/gaussian_process/gpr.py:427: UserWarning: fmin_l_bfgs_b terminated abnormally with the  state: {'nit': 4, 'warnflag': 2, 'task': b'ABNORMAL_TERMINATION_IN_LNSRCH', 'funcalls': 57, 'grad': array([-0.00139307])}\n",
      "  \" state: %s\" % convergence_dict)\n"
     ]
    },
    {
     "name": "stdout",
     "output_type": "stream",
     "text": [
      "iter 124\n"
     ]
    },
    {
     "name": "stderr",
     "output_type": "stream",
     "text": [
      "/Users/tsuzuki/anaconda3/lib/python3.4/site-packages/sklearn/gaussian_process/gpr.py:427: UserWarning: fmin_l_bfgs_b terminated abnormally with the  state: {'nit': 3, 'warnflag': 2, 'task': b'ABNORMAL_TERMINATION_IN_LNSRCH', 'funcalls': 53, 'grad': array([-0.07232196])}\n",
      "  \" state: %s\" % convergence_dict)\n",
      "/Users/tsuzuki/anaconda3/lib/python3.4/site-packages/sklearn/gaussian_process/gpr.py:427: UserWarning: fmin_l_bfgs_b terminated abnormally with the  state: {'nit': 3, 'warnflag': 2, 'task': b'ABNORMAL_TERMINATION_IN_LNSRCH', 'funcalls': 48, 'grad': array([-0.00708785])}\n",
      "  \" state: %s\" % convergence_dict)\n",
      "/Users/tsuzuki/anaconda3/lib/python3.4/site-packages/sklearn/gaussian_process/gpr.py:427: UserWarning: fmin_l_bfgs_b terminated abnormally with the  state: {'nit': 3, 'warnflag': 2, 'task': b'ABNORMAL_TERMINATION_IN_LNSRCH', 'funcalls': 51, 'grad': array([  8.81871383e-05])}\n",
      "  \" state: %s\" % convergence_dict)\n"
     ]
    },
    {
     "name": "stdout",
     "output_type": "stream",
     "text": [
      "iter 125\n"
     ]
    },
    {
     "name": "stderr",
     "output_type": "stream",
     "text": [
      "/Users/tsuzuki/anaconda3/lib/python3.4/site-packages/sklearn/gaussian_process/gpr.py:427: UserWarning: fmin_l_bfgs_b terminated abnormally with the  state: {'nit': 5, 'warnflag': 2, 'task': b'ABNORMAL_TERMINATION_IN_LNSRCH', 'funcalls': 52, 'grad': array([ 0.00182671])}\n",
      "  \" state: %s\" % convergence_dict)\n"
     ]
    },
    {
     "name": "stdout",
     "output_type": "stream",
     "text": [
      "iter 126\n"
     ]
    },
    {
     "name": "stderr",
     "output_type": "stream",
     "text": [
      "/Users/tsuzuki/anaconda3/lib/python3.4/site-packages/sklearn/gaussian_process/gpr.py:427: UserWarning: fmin_l_bfgs_b terminated abnormally with the  state: {'nit': 4, 'warnflag': 2, 'task': b'ABNORMAL_TERMINATION_IN_LNSRCH', 'funcalls': 47, 'grad': array([-0.00411729])}\n",
      "  \" state: %s\" % convergence_dict)\n",
      "/Users/tsuzuki/anaconda3/lib/python3.4/site-packages/sklearn/gaussian_process/gpr.py:427: UserWarning: fmin_l_bfgs_b terminated abnormally with the  state: {'nit': 1, 'warnflag': 2, 'task': b'ABNORMAL_TERMINATION_IN_LNSRCH', 'funcalls': 29, 'grad': array([-145.66272752])}\n",
      "  \" state: %s\" % convergence_dict)\n"
     ]
    },
    {
     "name": "stdout",
     "output_type": "stream",
     "text": [
      "iter 127\n"
     ]
    },
    {
     "name": "stderr",
     "output_type": "stream",
     "text": [
      "/Users/tsuzuki/anaconda3/lib/python3.4/site-packages/sklearn/gaussian_process/gpr.py:427: UserWarning: fmin_l_bfgs_b terminated abnormally with the  state: {'nit': 3, 'warnflag': 2, 'task': b'ABNORMAL_TERMINATION_IN_LNSRCH', 'funcalls': 48, 'grad': array([-0.00717386])}\n",
      "  \" state: %s\" % convergence_dict)\n",
      "/Users/tsuzuki/anaconda3/lib/python3.4/site-packages/sklearn/gaussian_process/gpr.py:427: UserWarning: fmin_l_bfgs_b terminated abnormally with the  state: {'nit': 4, 'warnflag': 2, 'task': b'ABNORMAL_TERMINATION_IN_LNSRCH', 'funcalls': 54, 'grad': array([ 0.08354024])}\n",
      "  \" state: %s\" % convergence_dict)\n"
     ]
    },
    {
     "name": "stdout",
     "output_type": "stream",
     "text": [
      "iter 128\n"
     ]
    },
    {
     "name": "stderr",
     "output_type": "stream",
     "text": [
      "/Users/tsuzuki/anaconda3/lib/python3.4/site-packages/sklearn/gaussian_process/gpr.py:427: UserWarning: fmin_l_bfgs_b terminated abnormally with the  state: {'nit': 1, 'warnflag': 2, 'task': b'ABNORMAL_TERMINATION_IN_LNSRCH', 'funcalls': 29, 'grad': array([-160.0684906])}\n",
      "  \" state: %s\" % convergence_dict)\n"
     ]
    },
    {
     "name": "stdout",
     "output_type": "stream",
     "text": [
      "iter 129\n"
     ]
    },
    {
     "name": "stderr",
     "output_type": "stream",
     "text": [
      "/Users/tsuzuki/anaconda3/lib/python3.4/site-packages/sklearn/gaussian_process/gpr.py:427: UserWarning: fmin_l_bfgs_b terminated abnormally with the  state: {'nit': 5, 'warnflag': 2, 'task': b'ABNORMAL_TERMINATION_IN_LNSRCH', 'funcalls': 48, 'grad': array([ 0.00126226])}\n",
      "  \" state: %s\" % convergence_dict)\n"
     ]
    },
    {
     "name": "stdout",
     "output_type": "stream",
     "text": [
      "iter 130\n"
     ]
    },
    {
     "name": "stderr",
     "output_type": "stream",
     "text": [
      "/Users/tsuzuki/anaconda3/lib/python3.4/site-packages/sklearn/gaussian_process/gpr.py:427: UserWarning: fmin_l_bfgs_b terminated abnormally with the  state: {'nit': 2, 'warnflag': 2, 'task': b'ABNORMAL_TERMINATION_IN_LNSRCH', 'funcalls': 50, 'grad': array([-0.14178779])}\n",
      "  \" state: %s\" % convergence_dict)\n"
     ]
    },
    {
     "name": "stdout",
     "output_type": "stream",
     "text": [
      "iter 131\n"
     ]
    },
    {
     "name": "stderr",
     "output_type": "stream",
     "text": [
      "/Users/tsuzuki/anaconda3/lib/python3.4/site-packages/sklearn/gaussian_process/gpr.py:427: UserWarning: fmin_l_bfgs_b terminated abnormally with the  state: {'nit': 1, 'warnflag': 2, 'task': b'ABNORMAL_TERMINATION_IN_LNSRCH', 'funcalls': 29, 'grad': array([-521.38379756])}\n",
      "  \" state: %s\" % convergence_dict)\n",
      "/Users/tsuzuki/anaconda3/lib/python3.4/site-packages/sklearn/gaussian_process/gpr.py:427: UserWarning: fmin_l_bfgs_b terminated abnormally with the  state: {'nit': 3, 'warnflag': 2, 'task': b'ABNORMAL_TERMINATION_IN_LNSRCH', 'funcalls': 48, 'grad': array([ 0.0017771])}\n",
      "  \" state: %s\" % convergence_dict)\n",
      "/Users/tsuzuki/anaconda3/lib/python3.4/site-packages/sklearn/gaussian_process/gpr.py:427: UserWarning: fmin_l_bfgs_b terminated abnormally with the  state: {'nit': 3, 'warnflag': 2, 'task': b'ABNORMAL_TERMINATION_IN_LNSRCH', 'funcalls': 48, 'grad': array([ 0.00184204])}\n",
      "  \" state: %s\" % convergence_dict)\n"
     ]
    },
    {
     "name": "stdout",
     "output_type": "stream",
     "text": [
      "iter 132\n"
     ]
    },
    {
     "name": "stderr",
     "output_type": "stream",
     "text": [
      "/Users/tsuzuki/anaconda3/lib/python3.4/site-packages/sklearn/gaussian_process/gpr.py:427: UserWarning: fmin_l_bfgs_b terminated abnormally with the  state: {'nit': 2, 'warnflag': 2, 'task': b'ABNORMAL_TERMINATION_IN_LNSRCH', 'funcalls': 50, 'grad': array([-0.07205083])}\n",
      "  \" state: %s\" % convergence_dict)\n",
      "/Users/tsuzuki/anaconda3/lib/python3.4/site-packages/sklearn/gaussian_process/gpr.py:427: UserWarning: fmin_l_bfgs_b terminated abnormally with the  state: {'nit': 3, 'warnflag': 2, 'task': b'ABNORMAL_TERMINATION_IN_LNSRCH', 'funcalls': 51, 'grad': array([ 0.00049317])}\n",
      "  \" state: %s\" % convergence_dict)\n",
      "/Users/tsuzuki/anaconda3/lib/python3.4/site-packages/sklearn/gaussian_process/gpr.py:427: UserWarning: fmin_l_bfgs_b terminated abnormally with the  state: {'nit': 1, 'warnflag': 2, 'task': b'ABNORMAL_TERMINATION_IN_LNSRCH', 'funcalls': 29, 'grad': array([-145.75226118])}\n",
      "  \" state: %s\" % convergence_dict)\n"
     ]
    },
    {
     "name": "stdout",
     "output_type": "stream",
     "text": [
      "iter 133\n",
      "iter 134\n"
     ]
    },
    {
     "name": "stderr",
     "output_type": "stream",
     "text": [
      "/Users/tsuzuki/anaconda3/lib/python3.4/site-packages/sklearn/gaussian_process/gpr.py:427: UserWarning: fmin_l_bfgs_b terminated abnormally with the  state: {'nit': 3, 'warnflag': 2, 'task': b'ABNORMAL_TERMINATION_IN_LNSRCH', 'funcalls': 48, 'grad': array([ 0.01278668])}\n",
      "  \" state: %s\" % convergence_dict)\n",
      "/Users/tsuzuki/anaconda3/lib/python3.4/site-packages/sklearn/gaussian_process/gpr.py:427: UserWarning: fmin_l_bfgs_b terminated abnormally with the  state: {'nit': 2, 'warnflag': 2, 'task': b'ABNORMAL_TERMINATION_IN_LNSRCH', 'funcalls': 48, 'grad': array([ 0.00135784])}\n",
      "  \" state: %s\" % convergence_dict)\n",
      "/Users/tsuzuki/anaconda3/lib/python3.4/site-packages/sklearn/gaussian_process/gpr.py:427: UserWarning: fmin_l_bfgs_b terminated abnormally with the  state: {'nit': 2, 'warnflag': 2, 'task': b'ABNORMAL_TERMINATION_IN_LNSRCH', 'funcalls': 53, 'grad': array([ 0.07366002])}\n",
      "  \" state: %s\" % convergence_dict)\n"
     ]
    },
    {
     "name": "stdout",
     "output_type": "stream",
     "text": [
      "iter 135\n",
      "iter 136\n"
     ]
    },
    {
     "name": "stderr",
     "output_type": "stream",
     "text": [
      "/Users/tsuzuki/anaconda3/lib/python3.4/site-packages/sklearn/gaussian_process/gpr.py:427: UserWarning: fmin_l_bfgs_b terminated abnormally with the  state: {'nit': 3, 'warnflag': 2, 'task': b'ABNORMAL_TERMINATION_IN_LNSRCH', 'funcalls': 53, 'grad': array([ 0.00040117])}\n",
      "  \" state: %s\" % convergence_dict)\n",
      "/Users/tsuzuki/anaconda3/lib/python3.4/site-packages/sklearn/gaussian_process/gpr.py:427: UserWarning: fmin_l_bfgs_b terminated abnormally with the  state: {'nit': 6, 'warnflag': 2, 'task': b'ABNORMAL_TERMINATION_IN_LNSRCH', 'funcalls': 58, 'grad': array([ 0.00065068])}\n",
      "  \" state: %s\" % convergence_dict)\n",
      "/Users/tsuzuki/anaconda3/lib/python3.4/site-packages/sklearn/gaussian_process/gpr.py:427: UserWarning: fmin_l_bfgs_b terminated abnormally with the  state: {'nit': 3, 'warnflag': 2, 'task': b'ABNORMAL_TERMINATION_IN_LNSRCH', 'funcalls': 48, 'grad': array([-0.0094611])}\n",
      "  \" state: %s\" % convergence_dict)\n"
     ]
    },
    {
     "name": "stdout",
     "output_type": "stream",
     "text": [
      "iter 137\n"
     ]
    },
    {
     "name": "stderr",
     "output_type": "stream",
     "text": [
      "/Users/tsuzuki/anaconda3/lib/python3.4/site-packages/sklearn/gaussian_process/gpr.py:427: UserWarning: fmin_l_bfgs_b terminated abnormally with the  state: {'nit': 6, 'warnflag': 2, 'task': b'ABNORMAL_TERMINATION_IN_LNSRCH', 'funcalls': 57, 'grad': array([ 0.0028799])}\n",
      "  \" state: %s\" % convergence_dict)\n",
      "/Users/tsuzuki/anaconda3/lib/python3.4/site-packages/sklearn/gaussian_process/gpr.py:427: UserWarning: fmin_l_bfgs_b terminated abnormally with the  state: {'nit': 3, 'warnflag': 2, 'task': b'ABNORMAL_TERMINATION_IN_LNSRCH', 'funcalls': 48, 'grad': array([ 0.15320384])}\n",
      "  \" state: %s\" % convergence_dict)\n"
     ]
    },
    {
     "name": "stdout",
     "output_type": "stream",
     "text": [
      "iter 138\n"
     ]
    },
    {
     "name": "stderr",
     "output_type": "stream",
     "text": [
      "/Users/tsuzuki/anaconda3/lib/python3.4/site-packages/sklearn/gaussian_process/gpr.py:427: UserWarning: fmin_l_bfgs_b terminated abnormally with the  state: {'nit': 3, 'warnflag': 2, 'task': b'ABNORMAL_TERMINATION_IN_LNSRCH', 'funcalls': 53, 'grad': array([ 0.12530273])}\n",
      "  \" state: %s\" % convergence_dict)\n",
      "/Users/tsuzuki/anaconda3/lib/python3.4/site-packages/sklearn/gaussian_process/gpr.py:427: UserWarning: fmin_l_bfgs_b terminated abnormally with the  state: {'nit': 4, 'warnflag': 2, 'task': b'ABNORMAL_TERMINATION_IN_LNSRCH', 'funcalls': 47, 'grad': array([ 0.01298319])}\n",
      "  \" state: %s\" % convergence_dict)\n"
     ]
    },
    {
     "name": "stdout",
     "output_type": "stream",
     "text": [
      "iter 139\n",
      "iter 140\n"
     ]
    },
    {
     "name": "stderr",
     "output_type": "stream",
     "text": [
      "/Users/tsuzuki/anaconda3/lib/python3.4/site-packages/sklearn/gaussian_process/gpr.py:427: UserWarning: fmin_l_bfgs_b terminated abnormally with the  state: {'nit': 1, 'warnflag': 2, 'task': b'ABNORMAL_TERMINATION_IN_LNSRCH', 'funcalls': 29, 'grad': array([-389.13410127])}\n",
      "  \" state: %s\" % convergence_dict)\n"
     ]
    },
    {
     "name": "stdout",
     "output_type": "stream",
     "text": [
      "iter 141\n"
     ]
    },
    {
     "name": "stderr",
     "output_type": "stream",
     "text": [
      "/Users/tsuzuki/anaconda3/lib/python3.4/site-packages/sklearn/gaussian_process/gpr.py:427: UserWarning: fmin_l_bfgs_b terminated abnormally with the  state: {'nit': 1, 'warnflag': 2, 'task': b'ABNORMAL_TERMINATION_IN_LNSRCH', 'funcalls': 29, 'grad': array([-141.58026374])}\n",
      "  \" state: %s\" % convergence_dict)\n",
      "/Users/tsuzuki/anaconda3/lib/python3.4/site-packages/sklearn/gaussian_process/gpr.py:427: UserWarning: fmin_l_bfgs_b terminated abnormally with the  state: {'nit': 1, 'warnflag': 2, 'task': b'ABNORMAL_TERMINATION_IN_LNSRCH', 'funcalls': 29, 'grad': array([-137.39348562])}\n",
      "  \" state: %s\" % convergence_dict)\n"
     ]
    },
    {
     "name": "stdout",
     "output_type": "stream",
     "text": [
      "iter 142\n"
     ]
    },
    {
     "name": "stderr",
     "output_type": "stream",
     "text": [
      "/Users/tsuzuki/anaconda3/lib/python3.4/site-packages/sklearn/gaussian_process/gpr.py:427: UserWarning: fmin_l_bfgs_b terminated abnormally with the  state: {'nit': 3, 'warnflag': 2, 'task': b'ABNORMAL_TERMINATION_IN_LNSRCH', 'funcalls': 52, 'grad': array([-0.00113705])}\n",
      "  \" state: %s\" % convergence_dict)\n",
      "/Users/tsuzuki/anaconda3/lib/python3.4/site-packages/sklearn/gaussian_process/gpr.py:427: UserWarning: fmin_l_bfgs_b terminated abnormally with the  state: {'nit': 5, 'warnflag': 2, 'task': b'ABNORMAL_TERMINATION_IN_LNSRCH', 'funcalls': 49, 'grad': array([ 0.00352494])}\n",
      "  \" state: %s\" % convergence_dict)\n",
      "/Users/tsuzuki/anaconda3/lib/python3.4/site-packages/sklearn/gaussian_process/gpr.py:427: UserWarning: fmin_l_bfgs_b terminated abnormally with the  state: {'nit': 4, 'warnflag': 2, 'task': b'ABNORMAL_TERMINATION_IN_LNSRCH', 'funcalls': 54, 'grad': array([ 0.10834124])}\n",
      "  \" state: %s\" % convergence_dict)\n"
     ]
    },
    {
     "name": "stdout",
     "output_type": "stream",
     "text": [
      "iter 143\n"
     ]
    },
    {
     "name": "stderr",
     "output_type": "stream",
     "text": [
      "/Users/tsuzuki/anaconda3/lib/python3.4/site-packages/sklearn/gaussian_process/gpr.py:427: UserWarning: fmin_l_bfgs_b terminated abnormally with the  state: {'nit': 3, 'warnflag': 2, 'task': b'ABNORMAL_TERMINATION_IN_LNSRCH', 'funcalls': 53, 'grad': array([ 0.11094769])}\n",
      "  \" state: %s\" % convergence_dict)\n",
      "/Users/tsuzuki/anaconda3/lib/python3.4/site-packages/sklearn/gaussian_process/gpr.py:427: UserWarning: fmin_l_bfgs_b terminated abnormally with the  state: {'nit': 6, 'warnflag': 2, 'task': b'ABNORMAL_TERMINATION_IN_LNSRCH', 'funcalls': 55, 'grad': array([ 0.00074989])}\n",
      "  \" state: %s\" % convergence_dict)\n"
     ]
    },
    {
     "name": "stdout",
     "output_type": "stream",
     "text": [
      "iter 144\n"
     ]
    },
    {
     "name": "stderr",
     "output_type": "stream",
     "text": [
      "/Users/tsuzuki/anaconda3/lib/python3.4/site-packages/sklearn/gaussian_process/gpr.py:427: UserWarning: fmin_l_bfgs_b terminated abnormally with the  state: {'nit': 1, 'warnflag': 2, 'task': b'ABNORMAL_TERMINATION_IN_LNSRCH', 'funcalls': 29, 'grad': array([-141.30093695])}\n",
      "  \" state: %s\" % convergence_dict)\n",
      "/Users/tsuzuki/anaconda3/lib/python3.4/site-packages/sklearn/gaussian_process/gpr.py:427: UserWarning: fmin_l_bfgs_b terminated abnormally with the  state: {'nit': 3, 'warnflag': 2, 'task': b'ABNORMAL_TERMINATION_IN_LNSRCH', 'funcalls': 48, 'grad': array([ 0.03520216])}\n",
      "  \" state: %s\" % convergence_dict)\n",
      "/Users/tsuzuki/anaconda3/lib/python3.4/site-packages/sklearn/gaussian_process/gpr.py:427: UserWarning: fmin_l_bfgs_b terminated abnormally with the  state: {'nit': 1, 'warnflag': 2, 'task': b'ABNORMAL_TERMINATION_IN_LNSRCH', 'funcalls': 29, 'grad': array([-420.70581199])}\n",
      "  \" state: %s\" % convergence_dict)\n"
     ]
    },
    {
     "name": "stdout",
     "output_type": "stream",
     "text": [
      "iter 145\n"
     ]
    },
    {
     "name": "stderr",
     "output_type": "stream",
     "text": [
      "/Users/tsuzuki/anaconda3/lib/python3.4/site-packages/sklearn/gaussian_process/gpr.py:427: UserWarning: fmin_l_bfgs_b terminated abnormally with the  state: {'nit': 3, 'warnflag': 2, 'task': b'ABNORMAL_TERMINATION_IN_LNSRCH', 'funcalls': 49, 'grad': array([-0.00894652])}\n",
      "  \" state: %s\" % convergence_dict)\n",
      "/Users/tsuzuki/anaconda3/lib/python3.4/site-packages/sklearn/gaussian_process/gpr.py:427: UserWarning: fmin_l_bfgs_b terminated abnormally with the  state: {'nit': 3, 'warnflag': 2, 'task': b'ABNORMAL_TERMINATION_IN_LNSRCH', 'funcalls': 46, 'grad': array([ 0.11848017])}\n",
      "  \" state: %s\" % convergence_dict)\n"
     ]
    },
    {
     "name": "stdout",
     "output_type": "stream",
     "text": [
      "iter 146\n"
     ]
    },
    {
     "name": "stderr",
     "output_type": "stream",
     "text": [
      "/Users/tsuzuki/anaconda3/lib/python3.4/site-packages/sklearn/gaussian_process/gpr.py:427: UserWarning: fmin_l_bfgs_b terminated abnormally with the  state: {'nit': 3, 'warnflag': 2, 'task': b'ABNORMAL_TERMINATION_IN_LNSRCH', 'funcalls': 51, 'grad': array([-0.00032948])}\n",
      "  \" state: %s\" % convergence_dict)\n",
      "/Users/tsuzuki/anaconda3/lib/python3.4/site-packages/sklearn/gaussian_process/gpr.py:427: UserWarning: fmin_l_bfgs_b terminated abnormally with the  state: {'nit': 4, 'warnflag': 2, 'task': b'ABNORMAL_TERMINATION_IN_LNSRCH', 'funcalls': 51, 'grad': array([ 0.00147656])}\n",
      "  \" state: %s\" % convergence_dict)\n"
     ]
    },
    {
     "name": "stdout",
     "output_type": "stream",
     "text": [
      "iter 147\n"
     ]
    },
    {
     "name": "stderr",
     "output_type": "stream",
     "text": [
      "/Users/tsuzuki/anaconda3/lib/python3.4/site-packages/sklearn/gaussian_process/gpr.py:427: UserWarning: fmin_l_bfgs_b terminated abnormally with the  state: {'nit': 3, 'warnflag': 2, 'task': b'ABNORMAL_TERMINATION_IN_LNSRCH', 'funcalls': 58, 'grad': array([-0.00300859])}\n",
      "  \" state: %s\" % convergence_dict)\n",
      "/Users/tsuzuki/anaconda3/lib/python3.4/site-packages/sklearn/gaussian_process/gpr.py:427: UserWarning: fmin_l_bfgs_b terminated abnormally with the  state: {'nit': 1, 'warnflag': 2, 'task': b'ABNORMAL_TERMINATION_IN_LNSRCH', 'funcalls': 29, 'grad': array([-346.02553766])}\n",
      "  \" state: %s\" % convergence_dict)\n"
     ]
    },
    {
     "name": "stdout",
     "output_type": "stream",
     "text": [
      "iter 148\n"
     ]
    },
    {
     "name": "stderr",
     "output_type": "stream",
     "text": [
      "/Users/tsuzuki/anaconda3/lib/python3.4/site-packages/sklearn/gaussian_process/gpr.py:427: UserWarning: fmin_l_bfgs_b terminated abnormally with the  state: {'nit': 3, 'warnflag': 2, 'task': b'ABNORMAL_TERMINATION_IN_LNSRCH', 'funcalls': 52, 'grad': array([-0.11567675])}\n",
      "  \" state: %s\" % convergence_dict)\n",
      "/Users/tsuzuki/anaconda3/lib/python3.4/site-packages/sklearn/gaussian_process/gpr.py:427: UserWarning: fmin_l_bfgs_b terminated abnormally with the  state: {'nit': 4, 'warnflag': 2, 'task': b'ABNORMAL_TERMINATION_IN_LNSRCH', 'funcalls': 47, 'grad': array([ 0.00252237])}\n",
      "  \" state: %s\" % convergence_dict)\n"
     ]
    },
    {
     "name": "stdout",
     "output_type": "stream",
     "text": [
      "iter 149\n"
     ]
    }
   ],
   "source": [
    "n_sample=3\n",
    "n_iter = 150\n",
    "ran=2\n",
    "\n",
    "# results\n",
    "#results = {}\n",
    "for k in range(4,6):\n",
    "    results[k]=np.array([])\n",
    "\n",
    "for i in range(n_sample):\n",
    "    print (\"sample\",i) \n",
    "    #Init funcs\n",
    "    bo1 = BayesianOptimization(lambda x1: -(x1**2),\n",
    "                               {'x1': (-ran, ran)})\n",
    "    bo5 = BayesianOptimization(lambda x1,x2,x3,x4, x5: -(x1**2+x2**2+x3**2+x4**2+x5**2), \n",
    "                               {'x1': (-1*ran, ran),'x2': (-1*ran, ran),'x3': (-1*ran, ran),'x4': (-1*ran, ran),'x5': (-1*ran, ran)})\n",
    "    bo10 = BayesianOptimization(lambda x1,x2,x3,x4, x5, x6,x7,x8,x9, x10: \\\n",
    "                               -(x1**2+x2**2+x3**2+x4**2+x5**2+x6**2+x7**2+x8**2+x9**2+x10**2), \n",
    "                               {'x1': (-1*ran, ran),'x2': (-1*ran, ran),'x3': (-1*ran, ran),'x4': (-1*ran, ran),'x5': (-1*ran, ran),\n",
    "                                'x6': (-1*ran, ran),'x7': (-1*ran, ran),'x8': (-1*ran, ran),'x9': (-1*ran, ran),'x10': (-1*ran, ran)})\n",
    "    bo15 = BayesianOptimization(lambda x1,x2,x3,x4, x5, x6,x7,x8,x9, x10\\\n",
    "                                                                   ,x11,x12,x13,x14, x15: \\\n",
    "                               -(x1**2+x2**2+x3**2+x4**2+x5**2+x6**2+x7**2+x8**2+x9**2+x10**2\n",
    "                                +x11**2+x12**2+x13**2+x14**2+x15**2), \n",
    "                               {'x1': (-1*ran, ran),'x2': (-1*ran, ran),'x3': (-1*ran, ran),'x4': (-1*ran, ran),'x5': (-1*ran, ran),\n",
    "                                'x6': (-1*ran, ran),'x7': (-1*ran, ran),'x8': (-1*ran, ran),'x9': (-1*ran, ran),'x10': (-1*ran, ran),\n",
    "                               'x11': (-1*ran, ran),'x12': (-1*ran, ran),'x13': (-1*ran, ran),'x14': (-1*ran, ran),'x15': (-1*ran, ran)})\n",
    "    bo20 = BayesianOptimization(lambda x1,x2,x3,x4, x5, x6,x7,x8,x9, x10\\\n",
    "                                                                   ,x11,x12,x13,x14, x15, x16,x17,x18,x19, x20: \\\n",
    "                               -(x1**2+x2**2+x3**2+x4**2+x5**2+x6**2+x7**2+x8**2+x9**2+x10**2\n",
    "                                +x11**2+x12**2+x13**2+x14**2+x15**2+x16**2+x17**2+x18**2+x19**2+x20**2), \n",
    "                               {'x1': (-1*ran, ran),'x2': (-1*ran, ran),'x3': (-1*ran, ran),'x4': (-1*ran, ran),'x5': (-1*ran, ran),\n",
    "                                'x6': (-1*ran, ran),'x7': (-1*ran, ran),'x8': (-1*ran, ran),'x9': (-1*ran, ran),'x10': (-1*ran, ran),\n",
    "                               'x11': (-1*ran, ran),'x12': (-1*ran, ran),'x13': (-1*ran, ran),'x14': (-1*ran, ran),'x15': (-1*ran, ran),\n",
    "                                'x16': (-1*ran, ran),'x17': (-1*ran, ran),'x18': (-1*ran, ran),'x19': (-1*ran, ran),'x20': (-1*ran, ran)})\n",
    "    \n",
    "    bo1.maximize(init_points=1, n_iter=1, acq='mi', kappa=1)\n",
    "    bo5.maximize(init_points=1, n_iter=1, acq='mi', kappa=1)\n",
    "    bo10.maximize(init_points=1, n_iter=1, acq='mi', kappa=1)\n",
    "    bo15.maximize(init_points=1, n_iter=1, acq='mi', kappa=1)\n",
    "    bo20.maximize(init_points=1, n_iter=1, acq='mi', kappa=1)\n",
    "    \n",
    "    for j in range(n_iter):\n",
    "        print (\"iter\", j) \n",
    "        # calc next experiment\n",
    "        if (np.max(bo1.res[\"all\"][\"values\"])) < -1:\n",
    "            bo1.maximize(n_iter=1, acq='mi', kappa=1)\n",
    "            results[1] = np.append(results[1],[np.max(bo1.res[\"all\"][\"values\"])])\n",
    "        else:\n",
    "            results[1] = np.append(results[1],[0])\n",
    "            \n",
    "        if (np.max(bo5.res[\"all\"][\"values\"]))< -1:\n",
    "            bo5.maximize(n_iter=1, acq='mi', kappa=1)\n",
    "            results[2] = np.append(results[2],[np.max(bo5.res[\"all\"][\"values\"])])\n",
    "        else:\n",
    "            results[2] = np.append(results[2],[0])\n",
    "            \n",
    "        if (np.max(bo10.res[\"all\"][\"values\"]))< -1:\n",
    "            bo10.maximize(n_iter=1, acq='mi', kappa=1)\n",
    "            results[3] = np.append(results[3],[np.max(bo10.res[\"all\"][\"values\"])])\n",
    "        else:\n",
    "            results[3] = np.append(results[3],[0])\n",
    "            \n",
    "        if (np.max(bo15.res[\"all\"][\"values\"]))< -1:\n",
    "            bo15.maximize(n_iter=1, acq='mi', kappa=1)\n",
    "            results[4] = np.append(results[4],[np.max(bo15.res[\"all\"][\"values\"])])\n",
    "        else:\n",
    "            results[4] = np.append(results[4],[0])\n",
    "        \n",
    "        if (np.max(bo20.res[\"all\"][\"values\"]))< -1:\n",
    "            bo20.maximize(n_iter=1, acq='mi', kappa=1)\n",
    "            results[5] = np.append(results[5],[np.max(bo20.res[\"all\"][\"values\"])])\n",
    "        else:\n",
    "            results[5] = np.append(results[5],[0])\n",
    "        \n",
    "results[1]=results[1].reshape((n_sample, n_iter))\n",
    "results[2]=results[2].reshape((n_sample, n_iter))\n",
    "results[3]=results[3].reshape((n_sample, n_iter))\n",
    "results[4]=results[4].reshape((n_sample, n_iter))\n",
    "results[5]=results[5].reshape((n_sample, n_iter))"
   ]
  },
  {
   "cell_type": "markdown",
   "metadata": {},
   "source": [
    "#### Plot results"
   ]
  },
  {
   "cell_type": "code",
   "execution_count": 37,
   "metadata": {
    "collapsed": false
   },
   "outputs": [
    {
     "name": "stderr",
     "output_type": "stream",
     "text": [
      "/Users/tsuzuki/anaconda3/lib/python3.4/site-packages/matplotlib/figure.py:387: UserWarning: matplotlib is currently using a non-GUI backend, so cannot show the figure\n",
      "  \"matplotlib is currently using a non-GUI backend, \"\n"
     ]
    },
    {
     "data": {
      "image/png": "[encoded data removed]",
      "text/plain": [
       "<matplotlib.figure.Figure at 0x1042b6518>"
      ]
     },
     "metadata": {},
     "output_type": "display_data"
    }
   ],
   "source": [
    "fig = plt.figure()\n",
    "ax = fig.add_subplot(1,1,1)\n",
    "\n",
    "ax.plot(-np.mean(results[1],axis=0), c=\"red\", marker=\"^\", label=\"dim1\")\n",
    "ax.plot(-np.mean(results[2],axis=0), c=\"blue\", marker=\"^\", label=\"dim5\")\n",
    "ax.plot(-np.mean(results[3],axis=0), c=\"yellow\", marker=\"^\", label=\"dim10\")\n",
    "ax.plot(-np.mean(results[4],axis=0), c=\"black\", marker=\"^\", label=\"dim15\")\n",
    "ax.plot(-np.mean(results[5],axis=0), c=\"green\", marker=\"^\", label=\"dim20\")\n",
    "\n",
    "ax.set_ylim(0,40)\n",
    "\n",
    "ax.set_xlabel(\"query\", size=12)\n",
    "ax.set_ylabel(\"value(max)\", size=12)\n",
    "\n",
    "ax.grid(True)\n",
    "ax.legend(loc='upper right')\n",
    "\n",
    "fig.show()"
   ]
  },
  {
   "cell_type": "code",
   "execution_count": 59,
   "metadata": {
    "collapsed": false
   },
   "outputs": [
    {
     "name": "stderr",
     "output_type": "stream",
     "text": [
      "/Users/tsuzuki/anaconda3/lib/python3.4/site-packages/ipykernel/__main__.py:4: RuntimeWarning: divide by zero encountered in log10\n",
      "/Users/tsuzuki/anaconda3/lib/python3.4/site-packages/ipykernel/__main__.py:7: RuntimeWarning: divide by zero encountered in log10\n",
      "/Users/tsuzuki/anaconda3/lib/python3.4/site-packages/matplotlib/figure.py:387: UserWarning: matplotlib is currently using a non-GUI backend, so cannot show the figure\n",
      "  \"matplotlib is currently using a non-GUI backend, \"\n"
     ]
    },
    {
     "data": {
      "image/png": "[encoded data removed]",
      "text/plain": [
       "<matplotlib.figure.Figure at 0x1042679e8>"
      ]
     },
     "metadata": {},
     "output_type": "display_data"
    }
   ],
   "source": [
    "fig = plt.figure()\n",
    "ax = fig.add_subplot(1,1,1)\n",
    "\n",
    "ax.plot(np.log10(-np.mean(results[1],axis=0)/np.max(-np.mean(results[1],axis=0))), c=\"red\", marker=\"^\", label=\"dim1\")\n",
    "ax.plot(np.log10(-np.mean(results[2],axis=0)/np.max(-np.mean(results[2],axis=0))), c=\"blue\", marker=\"^\", label=\"dim5\")\n",
    "ax.plot(np.log10(-np.mean(results[3],axis=0)/np.max(-np.mean(results[3],axis=0))), c=\"yellow\", marker=\"^\", label=\"dim10\")\n",
    "ax.plot(np.log10(-np.mean(results[4],axis=0)/np.max(-np.mean(results[4],axis=0))), c=\"black\", marker=\"^\", label=\"dim15\")\n",
    "ax.plot(np.log10(-np.mean(results[5],axis=0)/np.max(-np.mean(results[5],axis=0))), c=\"green\", marker=\"^\", label=\"dim20\")\n",
    "\n",
    "#ax.set_ylim(0,1)\n",
    "\n",
    "ax.set_xlabel(\"query\", size=12)\n",
    "ax.set_ylabel(\"log-value\", size=12)\n",
    "\n",
    "ax.grid(True)\n",
    "ax.legend(loc='upper right')\n",
    "\n",
    "fig.show()"
   ]
  },
  {
   "cell_type": "markdown",
   "metadata": {},
   "source": [
    "### 初期loss に対して,10倍改善を要するのに必要なquery 数\n",
    "だいたい線形に増加"
   ]
  },
  {
   "cell_type": "code",
   "execution_count": 58,
   "metadata": {
    "collapsed": false,
    "scrolled": true
   },
   "outputs": [
    {
     "data": {
      "text/plain": [
       "<matplotlib.collections.PathCollection at 0x1042d0860>"
      ]
     },
     "execution_count": 58,
     "metadata": {},
     "output_type": "execute_result"
    },
    {
     "data": {
      "image/png": "[encoded data removed]",
      "text/plain": [
       "<matplotlib.figure.Figure at 0x109228128>"
      ]
     },
     "metadata": {},
     "output_type": "display_data"
    }
   ],
   "source": [
    "plt.scatter(np.array([1,5,10,15,20]),np.array([4,18,40,58,102]))"
   ]
  },
  {
   "cell_type": "markdown",
   "metadata": {},
   "source": [
    "## Save"
   ]
  },
  {
   "cell_type": "code",
   "execution_count": 32,
   "metadata": {
    "collapsed": false
   },
   "outputs": [],
   "source": [
    "import pickle\n",
    "\n",
    "with open('result.pickle', 'wb') as handle:\n",
    "    pickle.dump(results, handle, protocol=pickle.HIGHEST_PROTOCOL)\n",
    "\n",
    "with open('result.pickle', 'rb') as handle:\n",
    "    b = pickle.load(handle)\n"
   ]
  },
  {
   "cell_type": "markdown",
   "metadata": {},
   "source": [
    "適当な閾値を設けて，必要なquery数をプロットすべき（問題設定を忘れていた）"
   ]
  },
  {
   "cell_type": "code",
   "execution_count": null,
   "metadata": {
    "collapsed": true
   },
   "outputs": [],
   "source": [
    "0収束に必要なquery+dimのplotを書く\n",
    "→今日中\n",
    "\n",
    "1現実に近いもんだい（評価関数）をどう作るか\n",
    "①ノイズが乗る\n",
    "②あたりが少ない\n",
    "③変化が急\n",
    "\n",
    "④非凸\n",
    "\n",
    "2並列でquery飛ばせるように書き換える．"
   ]
  },
  {
   "cell_type": "code",
   "execution_count": null,
   "metadata": {
    "collapsed": true
   },
   "outputs": [],
   "source": [
    "・実証実験どうする？\n",
    "現実で実験すべき\n",
    "→どうするか？\n",
    "簡単な系でやるべき\n",
    "\n",
    "例：粒子の回収問題\n",
    "どの位置で取るか，どのタイミングで，　どのくらいの撹拌時間で"
   ]
  }
 ],
 "metadata": {
  "anaconda-cloud": {},
  "kernelspec": {
   "display_name": "Python [conda root]",
   "language": "python",
   "name": "conda-root-py"
  },
  "language_info": {
   "codemirror_mode": {
    "name": "ipython",
    "version": 3
   },
   "file_extension": ".py",
   "mimetype": "text/x-python",
   "name": "python",
   "nbconvert_exporter": "python",
   "pygments_lexer": "ipython3",
   "version": "3.4.5"
  },
  "latex_envs": {
   "bibliofile": "biblio.bib",
   "cite_by": "apalike",
   "current_citInitial": 1,
   "eqLabelWithNumbers": true,
   "eqNumInitial": 0
  },
  "nav_menu": {},
  "toc": {
   "navigate_menu": true,
   "number_sections": true,
   "sideBar": true,
   "threshold": 6,
   "toc_cell": false,
   "toc_section_display": "block",
   "toc_window_display": false
  }
 },
 "nbformat": 4,
 "nbformat_minor": 1
}
