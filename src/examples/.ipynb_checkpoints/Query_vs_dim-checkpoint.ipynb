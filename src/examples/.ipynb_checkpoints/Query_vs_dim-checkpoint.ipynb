{
 "cells": [
  {
   "cell_type": "code",
   "execution_count": 2,
   "metadata": {
    "collapsed": false
   },
   "outputs": [
    {
     "data": {
      "text/plain": [
       "'/Users/tsuzuki/bayesopt_prototype/src/examples'"
      ]
     },
     "execution_count": 2,
     "metadata": {},
     "output_type": "execute_result"
    }
   ],
   "source": [
    "pwd"
   ]
  },
  {
   "cell_type": "code",
   "execution_count": 3,
   "metadata": {
    "collapsed": false,
    "scrolled": true
   },
   "outputs": [
    {
     "name": "stdout",
     "output_type": "stream",
     "text": [
      "/Users/tsuzuki/bayesopt_prototype/src\n"
     ]
    }
   ],
   "source": [
    "cd .."
   ]
  },
  {
   "cell_type": "code",
   "execution_count": 4,
   "metadata": {
    "collapsed": false
   },
   "outputs": [],
   "source": [
    "%matplotlib inline\n",
    "import sys\n",
    "import numpy as np\n",
    "import matplotlib.pyplot as plt\n",
    "\n",
    "from bayes_opt import BayesianOptimization"
   ]
  },
  {
   "cell_type": "raw",
   "metadata": {},
   "source": [
    "実験計画：\n",
    "n=1,5,10,20,40,80をそれぞれ3回施行．　評価関数が2を下回るまでに必要とされたqueryの数の平均を評価．"
   ]
  },
  {
   "cell_type": "markdown",
   "metadata": {},
   "source": [
    "### 条件設定"
   ]
  },
  {
   "cell_type": "code",
   "execution_count": 5,
   "metadata": {
    "collapsed": false
   },
   "outputs": [],
   "source": [
    "n_sample=4\n",
    "\n",
    "#results\n",
    "counts = {}\n",
    "min_vals ={}\n",
    "for k in range(1,7):\n",
    "    counts[k]=np.array([])\n",
    "    min_vals[k]=np.array([])"
   ]
  },
  {
   "cell_type": "markdown",
   "metadata": {
    "collapsed": true
   },
   "source": [
    "#### dim=1"
   ]
  },
  {
   "cell_type": "code",
   "execution_count": 6,
   "metadata": {
    "collapsed": false
   },
   "outputs": [
    {
     "name": "stdout",
     "output_type": "stream",
     "text": [
      "iteration 0\n",
      "16.1548611972\n",
      "0.0530410199688\n",
      "iteration 1\n",
      "16.1559719269\n",
      "0.0288018896424\n",
      "iteration 2\n",
      "16.1557841526\n",
      "1.9287111915e-05\n",
      "iteration 3\n",
      "16.1552971142\n",
      "0.0117102548944\n"
     ]
    }
   ],
   "source": [
    "#define black box function\n",
    "for i in range(n_sample):\n",
    "    print (\"iteration {0}\".format(i))\n",
    "    bo1 = BayesianOptimization(lambda x1: -(x1**2)\n",
    "                               +np.cos(x1*3)-1,\n",
    "                               {'x1': (-4, 4)})\n",
    "    value = bo1.maximize(init_points=1, n_iter=1, acq='mi', kappa=3.29, value=True)\n",
    "    min_val = -1*value\n",
    "    count1=2\n",
    "    min_vals[1] = np.append(min_vals[1], [min_val])\n",
    "    \n",
    "    while min_val > 1:\n",
    "        count1=count1 + 1\n",
    "        value = bo1.maximize(init_points=1, n_iter=1, acq='mi', kappa=3.29, value=True)\n",
    "        if min_val > -1*value:\n",
    "            min_val =-1* value\n",
    "        \n",
    "        min_vals[1] = np.append(min_vals[1], [min_val])\n",
    "        print (min_val)\n",
    "    counts[1]=np.append(counts[1], [count1])"
   ]
  },
  {
   "cell_type": "code",
   "execution_count": 7,
   "metadata": {
    "collapsed": false,
    "scrolled": true
   },
   "outputs": [
    {
     "data": {
      "text/plain": [
       "array([ 4.,  4.,  4.,  4.])"
      ]
     },
     "execution_count": 7,
     "metadata": {},
     "output_type": "execute_result"
    }
   ],
   "source": [
    "counts[1]"
   ]
  },
  {
   "cell_type": "markdown",
   "metadata": {},
   "source": [
    "#### dim=5"
   ]
  },
  {
   "cell_type": "code",
   "execution_count": null,
   "metadata": {
    "code_folding": [],
    "collapsed": false
   },
   "outputs": [
    {
     "name": "stdout",
     "output_type": "stream",
     "text": [
      "iteration 0\n",
      "71.2967327628\n",
      "67.0956322562\n",
      "67.0956322562\n",
      "67.0956322562\n",
      "49.0766581917\n",
      "49.0766581917\n",
      "49.0766581917\n",
      "39.2904559324\n",
      "38.2405483137\n"
     ]
    },
    {
     "name": "stderr",
     "output_type": "stream",
     "text": [
      "/Users/tsuzuki/anaconda3/lib/python3.4/site-packages/sklearn/gaussian_process/gpr.py:427: UserWarning: fmin_l_bfgs_b terminated abnormally with the  state: {'funcalls': 51, 'nit': 2, 'task': b'ABNORMAL_TERMINATION_IN_LNSRCH', 'warnflag': 2, 'grad': array([-0.00056285])}\n",
      "  \" state: %s\" % convergence_dict)\n"
     ]
    },
    {
     "name": "stdout",
     "output_type": "stream",
     "text": [
      "37.932179548\n",
      "34.3606461596\n",
      "32.6325083941\n",
      "29.2300848607\n",
      "28.2203566201\n",
      "27.996636658\n",
      "27.8413478186\n",
      "27.0715380199\n",
      "26.7800875177\n",
      "26.4971420357\n"
     ]
    },
    {
     "name": "stderr",
     "output_type": "stream",
     "text": [
      "/Users/tsuzuki/anaconda3/lib/python3.4/site-packages/sklearn/gaussian_process/gpr.py:427: UserWarning: fmin_l_bfgs_b terminated abnormally with the  state: {'funcalls': 52, 'nit': 2, 'task': b'ABNORMAL_TERMINATION_IN_LNSRCH', 'warnflag': 2, 'grad': array([-0.00347201])}\n",
      "  \" state: %s\" % convergence_dict)\n"
     ]
    },
    {
     "name": "stdout",
     "output_type": "stream",
     "text": [
      "26.1104044082\n"
     ]
    },
    {
     "name": "stderr",
     "output_type": "stream",
     "text": [
      "/Users/tsuzuki/anaconda3/lib/python3.4/site-packages/sklearn/gaussian_process/gpr.py:427: UserWarning: fmin_l_bfgs_b terminated abnormally with the  state: {'funcalls': 51, 'nit': 2, 'task': b'ABNORMAL_TERMINATION_IN_LNSRCH', 'warnflag': 2, 'grad': array([ -4.08833301e-05])}\n",
      "  \" state: %s\" % convergence_dict)\n",
      "/Users/tsuzuki/anaconda3/lib/python3.4/site-packages/sklearn/gaussian_process/gpr.py:427: UserWarning: fmin_l_bfgs_b terminated abnormally with the  state: {'funcalls': 58, 'nit': 4, 'task': b'ABNORMAL_TERMINATION_IN_LNSRCH', 'warnflag': 2, 'grad': array([ 0.00180277])}\n",
      "  \" state: %s\" % convergence_dict)\n",
      "/Users/tsuzuki/anaconda3/lib/python3.4/site-packages/sklearn/gaussian_process/gpr.py:427: UserWarning: fmin_l_bfgs_b terminated abnormally with the  state: {'funcalls': 49, 'nit': 2, 'task': b'ABNORMAL_TERMINATION_IN_LNSRCH', 'warnflag': 2, 'grad': array([ 0.00414891])}\n",
      "  \" state: %s\" % convergence_dict)\n"
     ]
    },
    {
     "name": "stdout",
     "output_type": "stream",
     "text": [
      "25.3209809569\n",
      "22.3183389413\n"
     ]
    },
    {
     "name": "stderr",
     "output_type": "stream",
     "text": [
      "/Users/tsuzuki/anaconda3/lib/python3.4/site-packages/sklearn/gaussian_process/gpr.py:427: UserWarning: fmin_l_bfgs_b terminated abnormally with the  state: {'funcalls': 54, 'nit': 4, 'task': b'ABNORMAL_TERMINATION_IN_LNSRCH', 'warnflag': 2, 'grad': array([ 0.00036306])}\n",
      "  \" state: %s\" % convergence_dict)\n"
     ]
    },
    {
     "name": "stdout",
     "output_type": "stream",
     "text": [
      "17.5221527693\n",
      "13.0870324374\n",
      "11.4138117216\n",
      "11.4138117216\n",
      "11.0233272237\n"
     ]
    },
    {
     "name": "stderr",
     "output_type": "stream",
     "text": [
      "/Users/tsuzuki/anaconda3/lib/python3.4/site-packages/sklearn/gaussian_process/gpr.py:427: UserWarning: fmin_l_bfgs_b terminated abnormally with the  state: {'funcalls': 52, 'nit': 2, 'task': b'ABNORMAL_TERMINATION_IN_LNSRCH', 'warnflag': 2, 'grad': array([ 0.00014865])}\n",
      "  \" state: %s\" % convergence_dict)\n"
     ]
    },
    {
     "name": "stdout",
     "output_type": "stream",
     "text": [
      "9.48305832362\n",
      "9.12920219245\n",
      "9.12920219245\n",
      "9.03674477972\n"
     ]
    },
    {
     "name": "stderr",
     "output_type": "stream",
     "text": [
      "/Users/tsuzuki/anaconda3/lib/python3.4/site-packages/sklearn/gaussian_process/gpr.py:427: UserWarning: fmin_l_bfgs_b terminated abnormally with the  state: {'funcalls': 52, 'nit': 4, 'task': b'ABNORMAL_TERMINATION_IN_LNSRCH', 'warnflag': 2, 'grad': array([-0.00151966])}\n",
      "  \" state: %s\" % convergence_dict)\n"
     ]
    },
    {
     "name": "stdout",
     "output_type": "stream",
     "text": [
      "8.88197905695\n",
      "8.85604351254\n",
      "8.85395574891\n"
     ]
    },
    {
     "name": "stderr",
     "output_type": "stream",
     "text": [
      "/Users/tsuzuki/anaconda3/lib/python3.4/site-packages/sklearn/gaussian_process/gpr.py:427: UserWarning: fmin_l_bfgs_b terminated abnormally with the  state: {'funcalls': 53, 'nit': 5, 'task': b'ABNORMAL_TERMINATION_IN_LNSRCH', 'warnflag': 2, 'grad': array([ 0.00125485])}\n",
      "  \" state: %s\" % convergence_dict)\n",
      "/Users/tsuzuki/anaconda3/lib/python3.4/site-packages/sklearn/gaussian_process/gpr.py:427: UserWarning: fmin_l_bfgs_b terminated abnormally with the  state: {'funcalls': 56, 'nit': 3, 'task': b'ABNORMAL_TERMINATION_IN_LNSRCH', 'warnflag': 2, 'grad': array([ 0.01489826])}\n",
      "  \" state: %s\" % convergence_dict)\n",
      "/Users/tsuzuki/anaconda3/lib/python3.4/site-packages/sklearn/gaussian_process/gpr.py:427: UserWarning: fmin_l_bfgs_b terminated abnormally with the  state: {'funcalls': 28, 'nit': 1, 'task': b'ABNORMAL_TERMINATION_IN_LNSRCH', 'warnflag': 2, 'grad': array([-140.04953041])}\n",
      "  \" state: %s\" % convergence_dict)\n",
      "/Users/tsuzuki/anaconda3/lib/python3.4/site-packages/sklearn/gaussian_process/gpr.py:427: UserWarning: fmin_l_bfgs_b terminated abnormally with the  state: {'funcalls': 35, 'nit': 3, 'task': b'ABNORMAL_TERMINATION_IN_LNSRCH', 'warnflag': 2, 'grad': array([-90.93077349])}\n",
      "  \" state: %s\" % convergence_dict)\n"
     ]
    },
    {
     "name": "stdout",
     "output_type": "stream",
     "text": [
      "7.88299102261\n"
     ]
    },
    {
     "name": "stderr",
     "output_type": "stream",
     "text": [
      "/Users/tsuzuki/anaconda3/lib/python3.4/site-packages/sklearn/gaussian_process/gpr.py:427: UserWarning: fmin_l_bfgs_b terminated abnormally with the  state: {'funcalls': 54, 'nit': 4, 'task': b'ABNORMAL_TERMINATION_IN_LNSRCH', 'warnflag': 2, 'grad': array([ 0.00056775])}\n",
      "  \" state: %s\" % convergence_dict)\n",
      "/Users/tsuzuki/anaconda3/lib/python3.4/site-packages/sklearn/gaussian_process/gpr.py:427: UserWarning: fmin_l_bfgs_b terminated abnormally with the  state: {'funcalls': 55, 'nit': 6, 'task': b'ABNORMAL_TERMINATION_IN_LNSRCH', 'warnflag': 2, 'grad': array([-0.00199377])}\n",
      "  \" state: %s\" % convergence_dict)\n",
      "/Users/tsuzuki/anaconda3/lib/python3.4/site-packages/sklearn/gaussian_process/gpr.py:427: UserWarning: fmin_l_bfgs_b terminated abnormally with the  state: {'funcalls': 29, 'nit': 1, 'task': b'ABNORMAL_TERMINATION_IN_LNSRCH', 'warnflag': 2, 'grad': array([-308.11318011])}\n",
      "  \" state: %s\" % convergence_dict)\n"
     ]
    },
    {
     "name": "stdout",
     "output_type": "stream",
     "text": [
      "7.49069978573\n"
     ]
    },
    {
     "name": "stderr",
     "output_type": "stream",
     "text": [
      "/Users/tsuzuki/anaconda3/lib/python3.4/site-packages/sklearn/gaussian_process/gpr.py:427: UserWarning: fmin_l_bfgs_b terminated abnormally with the  state: {'funcalls': 51, 'nit': 2, 'task': b'ABNORMAL_TERMINATION_IN_LNSRCH', 'warnflag': 2, 'grad': array([ 0.00047515])}\n",
      "  \" state: %s\" % convergence_dict)\n",
      "/Users/tsuzuki/anaconda3/lib/python3.4/site-packages/sklearn/gaussian_process/gpr.py:427: UserWarning: fmin_l_bfgs_b terminated abnormally with the  state: {'funcalls': 54, 'nit': 5, 'task': b'ABNORMAL_TERMINATION_IN_LNSRCH', 'warnflag': 2, 'grad': array([-0.00159982])}\n",
      "  \" state: %s\" % convergence_dict)\n"
     ]
    },
    {
     "name": "stdout",
     "output_type": "stream",
     "text": [
      "7.44427655408\n"
     ]
    },
    {
     "name": "stderr",
     "output_type": "stream",
     "text": [
      "/Users/tsuzuki/anaconda3/lib/python3.4/site-packages/sklearn/gaussian_process/gpr.py:427: UserWarning: fmin_l_bfgs_b terminated abnormally with the  state: {'funcalls': 52, 'nit': 4, 'task': b'ABNORMAL_TERMINATION_IN_LNSRCH', 'warnflag': 2, 'grad': array([-0.01154648])}\n",
      "  \" state: %s\" % convergence_dict)\n",
      "/Users/tsuzuki/anaconda3/lib/python3.4/site-packages/sklearn/gaussian_process/gpr.py:427: UserWarning: fmin_l_bfgs_b terminated abnormally with the  state: {'funcalls': 59, 'nit': 5, 'task': b'ABNORMAL_TERMINATION_IN_LNSRCH', 'warnflag': 2, 'grad': array([-0.00786811])}\n",
      "  \" state: %s\" % convergence_dict)\n",
      "/Users/tsuzuki/anaconda3/lib/python3.4/site-packages/sklearn/gaussian_process/gpr.py:427: UserWarning: fmin_l_bfgs_b terminated abnormally with the  state: {'funcalls': 49, 'nit': 4, 'task': b'ABNORMAL_TERMINATION_IN_LNSRCH', 'warnflag': 2, 'grad': array([ 0.02024765])}\n",
      "  \" state: %s\" % convergence_dict)\n"
     ]
    },
    {
     "name": "stdout",
     "output_type": "stream",
     "text": [
      "7.28886046619\n"
     ]
    },
    {
     "name": "stderr",
     "output_type": "stream",
     "text": [
      "/Users/tsuzuki/anaconda3/lib/python3.4/site-packages/sklearn/gaussian_process/gpr.py:427: UserWarning: fmin_l_bfgs_b terminated abnormally with the  state: {'funcalls': 29, 'nit': 2, 'task': b'ABNORMAL_TERMINATION_IN_LNSRCH', 'warnflag': 2, 'grad': array([-211.13568307])}\n",
      "  \" state: %s\" % convergence_dict)\n"
     ]
    },
    {
     "name": "stdout",
     "output_type": "stream",
     "text": [
      "6.96963460115\n"
     ]
    },
    {
     "name": "stderr",
     "output_type": "stream",
     "text": [
      "/Users/tsuzuki/anaconda3/lib/python3.4/site-packages/sklearn/gaussian_process/gpr.py:427: UserWarning: fmin_l_bfgs_b terminated abnormally with the  state: {'funcalls': 58, 'nit': 5, 'task': b'ABNORMAL_TERMINATION_IN_LNSRCH', 'warnflag': 2, 'grad': array([-0.01119137])}\n",
      "  \" state: %s\" % convergence_dict)\n"
     ]
    },
    {
     "name": "stdout",
     "output_type": "stream",
     "text": [
      "6.94881821667\n"
     ]
    },
    {
     "name": "stderr",
     "output_type": "stream",
     "text": [
      "/Users/tsuzuki/anaconda3/lib/python3.4/site-packages/sklearn/gaussian_process/gpr.py:427: UserWarning: fmin_l_bfgs_b terminated abnormally with the  state: {'funcalls': 59, 'nit': 6, 'task': b'ABNORMAL_TERMINATION_IN_LNSRCH', 'warnflag': 2, 'grad': array([-0.03620842])}\n",
      "  \" state: %s\" % convergence_dict)\n"
     ]
    },
    {
     "name": "stdout",
     "output_type": "stream",
     "text": [
      "6.94595107059\n",
      "6.94210871145\n"
     ]
    },
    {
     "name": "stderr",
     "output_type": "stream",
     "text": [
      "/Users/tsuzuki/anaconda3/lib/python3.4/site-packages/sklearn/gaussian_process/gpr.py:427: UserWarning: fmin_l_bfgs_b terminated abnormally with the  state: {'funcalls': 28, 'nit': 1, 'task': b'ABNORMAL_TERMINATION_IN_LNSRCH', 'warnflag': 2, 'grad': array([-268.92470167])}\n",
      "  \" state: %s\" % convergence_dict)\n"
     ]
    },
    {
     "name": "stdout",
     "output_type": "stream",
     "text": [
      "6.93768314314\n"
     ]
    },
    {
     "name": "stderr",
     "output_type": "stream",
     "text": [
      "/Users/tsuzuki/anaconda3/lib/python3.4/site-packages/sklearn/gaussian_process/gpr.py:427: UserWarning: fmin_l_bfgs_b terminated abnormally with the  state: {'funcalls': 51, 'nit': 5, 'task': b'ABNORMAL_TERMINATION_IN_LNSRCH', 'warnflag': 2, 'grad': array([ 0.03657428])}\n",
      "  \" state: %s\" % convergence_dict)\n",
      "/Users/tsuzuki/anaconda3/lib/python3.4/site-packages/sklearn/gaussian_process/gpr.py:308: UserWarning: Predicted variances smaller than 0. Setting those variances to 0.\n",
      "  warnings.warn(\"Predicted variances smaller than 0. \"\n"
     ]
    },
    {
     "name": "stdout",
     "output_type": "stream",
     "text": [
      "6.93363678129\n"
     ]
    },
    {
     "name": "stderr",
     "output_type": "stream",
     "text": [
      "/Users/tsuzuki/anaconda3/lib/python3.4/site-packages/sklearn/gaussian_process/gpr.py:427: UserWarning: fmin_l_bfgs_b terminated abnormally with the  state: {'funcalls': 50, 'nit': 5, 'task': b'ABNORMAL_TERMINATION_IN_LNSRCH', 'warnflag': 2, 'grad': array([-0.02165142])}\n",
      "  \" state: %s\" % convergence_dict)\n"
     ]
    }
   ],
   "source": [
    "#define black box function\n",
    "num=2\n",
    "for i in range(n_sample):\n",
    "    print (\"iteration {0}\".format(i))\n",
    "    bo = BayesianOptimization(lambda x1,x2,x3,x4, x5: -(x1**2+x2**2+x3**2+x4**2+x5**2)\n",
    "                                 +(np.cos(x1*3)+np.cos(x2*3)+np.cos(x3*3)+np.cos(x4*3)+np.cos(x5*3))-5, \n",
    "                               {'x1': (-4, 4),'x2': (-4, 4),'x3': (-4, 4),'x4': (-4, 4),'x5': (-4, 4)})\n",
    "    \n",
    "    value = bo.maximize(init_points=1, n_iter=1, acq='mi', kappa=3.29, value=True)\n",
    "    min_val = -1*value\n",
    "    min_vals[num] = np.append(min_vals[num], [min_val])\n",
    "    \n",
    "    count=2\n",
    "    while min_val > 1:\n",
    "        count=count + 1\n",
    "        value = bo.maximize(init_points=1, n_iter=1, acq='mi', kappa=3.29, value=True)\n",
    "        if min_val > -1*value:\n",
    "            min_val =-1* value\n",
    "        \n",
    "        min_vals[num] = np.append(min_vals[num], [min_val])\n",
    "        print (min_val)\n",
    "    counts[num]=np.append(counts[num], [count])"
   ]
  },
  {
   "cell_type": "code",
   "execution_count": null,
   "metadata": {
    "collapsed": true
   },
   "outputs": [],
   "source": [
    "counts[2]"
   ]
  },
  {
   "cell_type": "markdown",
   "metadata": {},
   "source": [
    "#### dim=10"
   ]
  },
  {
   "cell_type": "code",
   "execution_count": null,
   "metadata": {
    "collapsed": true
   },
   "outputs": [],
   "source": [
    "num=3\n",
    "for i in range(n_sample):\n",
    "    print (\"iteration {0}\".format(i))\n",
    "    bo = BayesianOptimization(lambda x1,x2,x3,x4, x5, x6,x7,x8,x9, x10: \\\n",
    "                               -(x1**2+x2**2+x3**2+x4**2+x5**2+x6**2+x7**2+x8**2+x9**2+x10**2)\n",
    "                                 +(np.cos(x1*3)+np.cos(x2*3)+np.cos(x3*3)+np.cos(x4*3)+np.cos(x5*3)\n",
    "                                  +np.cos(x6*3)+np.cos(x7*3)+np.cos(x8*3)+np.cos(x9*3)+np.cos(x10*3))-10, \n",
    "                               {'x1': (-4, 4),'x2': (-4, 4),'x3': (-4, 4),'x4': (-4, 4),'x5': (-4, 4),\n",
    "                                'x6': (-4, 4),'x7': (-4, 4),'x8': (-4, 4),'x9': (-4, 4),'x10': (-4, 4)})\n",
    "    \n",
    "    value = bo.maximize(init_points=1, n_iter=1, acq='mi', kappa=3.29, value=True)\n",
    "    min_val = -1*value\n",
    "    min_vals[num] = np.append(min_vals[num], [min_val])\n",
    "    \n",
    "    count=2\n",
    "    while min_val > 1:\n",
    "        count=count + 1\n",
    "        value = bo.maximize(init_points=1, n_iter=1, acq='mi', kappa=3.29, value=True)\n",
    "        if min_val > -1*value:\n",
    "            min_val =-1* value\n",
    "        \n",
    "        min_vals[num] = np.append(min_vals[num], [min_val])\n",
    "        print (min_val)\n",
    "    counts[num]=np.append(counts[num], [count])"
   ]
  },
  {
   "cell_type": "code",
   "execution_count": null,
   "metadata": {
    "collapsed": true
   },
   "outputs": [],
   "source": [
    "counts[3]"
   ]
  },
  {
   "cell_type": "markdown",
   "metadata": {},
   "source": [
    "#### dim=20"
   ]
  },
  {
   "cell_type": "code",
   "execution_count": null,
   "metadata": {
    "code_folding": [],
    "collapsed": true
   },
   "outputs": [],
   "source": [
    "num=4\n",
    "for i in range(n_sample):\n",
    "    print (\"iteration {0}\".format(i))\n",
    "    bo = BayesianOptimization(lambda x1,x2,x3,x4, x5, x6,x7,x8,x9, x10\\\n",
    "                                                                   ,x11,x12,x13,x14, x15, x16,x17,x18,x19, x20: \\\n",
    "                               -(x1**2+x2**2+x3**2+x4**2+x5**2+x6**2+x7**2+x8**2+x9**2+x10**2\n",
    "                                +x11**2+x12**2+x13**2+x14**2+x15**2+x16**2+x17**2+x18**2+x19**2+x20**2)\n",
    "                                 +(np.cos(x1*3)+np.cos(x2*3)+np.cos(x3*3)+np.cos(x4*3)+np.cos(x5*3)\n",
    "                                  +np.cos(x6*3)+np.cos(x7*3)+np.cos(x8*3)+np.cos(x9*3)+np.cos(x10*3)\n",
    "                                  +np.cos(x11*3)+np.cos(x12*3)+np.cos(x13*3)+np.cos(x14*3)+np.cos(x15*3)\n",
    "                                  +np.cos(x16*3)+np.cos(x17*3)+np.cos(x18*3)+np.cos(x19*3)+np.cos(x20*3))\n",
    "                               -20, \n",
    "                               {'x1': (-4, 4),'x2': (-4, 4),'x3': (-4, 4),'x4': (-4, 4),'x5': (-4, 4),\n",
    "                                'x6': (-4, 4),'x7': (-4, 4),'x8': (-4, 4),'x9': (-4, 4),'x10': (-4, 4),\n",
    "                                'x11': (-4, 4),'x12': (-4, 4),'x13': (-4, 4),'x14': (-4, 4),'x15': (-4, 4),\n",
    "                                'x16': (-4, 4),'x17': (-4, 4),'x18': (-4, 4),'x19': (-4, 4),'x20': (-4, 4)})\n",
    "    \n",
    "    value = bo.maximize(init_points=1, n_iter=1, acq='mi', kappa=3.29, value=True)\n",
    "    min_val = -1*value\n",
    "    min_vals[num] = np.append(min_vals[num], [min_val])\n",
    "    \n",
    "    count=2\n",
    "    while min_val > 1:\n",
    "        count=count + 1\n",
    "        value = bo.maximize(init_points=1, n_iter=1, acq='mi', kappa=3.29, value=True)\n",
    "        if min_val > -1*value:\n",
    "            min_val =-1* value\n",
    "        \n",
    "        min_vals[num] = np.append(min_vals[num], [min_val])\n",
    "        print (min_val)\n",
    "    counts[num]=np.append(counts[num], [count])"
   ]
  },
  {
   "cell_type": "code",
   "execution_count": null,
   "metadata": {
    "collapsed": true
   },
   "outputs": [],
   "source": [
    "counts[4]"
   ]
  },
  {
   "cell_type": "markdown",
   "metadata": {},
   "source": [
    "#### dim=40"
   ]
  },
  {
   "cell_type": "code",
   "execution_count": null,
   "metadata": {
    "collapsed": true
   },
   "outputs": [],
   "source": [
    "num=5\n",
    "for i in range(n_sample):\n",
    "    print (\"iteration {0}\".format(i))\n",
    "    bo = BayesianOptimization(lambda x1,x2,x3,x4, x5, x6,x7,x8,x9, x10\\\n",
    "                                                                   ,x11,x12,x13,x14, x15, x16,x17,x18,x19, x20\\\n",
    "                                                                   ,x21,x22,x23,x24, x25, x26,x27,x28,x29, x30\\\n",
    "                                                                   ,x31,x32,x33,x34, x35, x36,x37,x38,x39, x40: \\\n",
    "                               -(x1**2+x2**2+x3**2+x4**2+x5**2+x6**2+x7**2+x8**2+x9**2+x10**2\n",
    "                                +x11**2+x12**2+x13**2+x14**2+x15**2+x16**2+x17**2+x18**2+x19**2+x20**2\n",
    "                                +x21**2+x22**2+x23**2+x24**2+x25**2+x26**2+x27**2+x28**2+x29**2+x30**2\n",
    "                                +x31**2+x32**2+x33**2+x34**2+x35**2+x36**2+x37**2+x38**2+x39**2+x40**2)\n",
    "                                 +(np.cos(x1*3)+np.cos(x2*3)+np.cos(x3*3)+np.cos(x4*3)+np.cos(x5*3)\n",
    "                                  +np.cos(x6*3)+np.cos(x7*3)+np.cos(x8*3)+np.cos(x9*3)+np.cos(x10*3)\n",
    "                                  +np.cos(x11*3)+np.cos(x12*3)+np.cos(x13*3)+np.cos(x14*3)+np.cos(x15*3)\n",
    "                                  +np.cos(x16*3)+np.cos(x17*3)+np.cos(x18*3)+np.cos(x19*3)+np.cos(x20*3)\n",
    "                                  +np.cos(x21*3)+np.cos(x22*3)+np.cos(x23*3)+np.cos(x24*3)+np.cos(x25*3)\n",
    "                                  +np.cos(x26*3)+np.cos(x27*3)+np.cos(x28*3)+np.cos(x29*3)+np.cos(x30*3)\n",
    "                                  +np.cos(x31*3)+np.cos(x32*3)+np.cos(x33*3)+np.cos(x34*3)+np.cos(x35*3)\n",
    "                                  +np.cos(x36*3)+np.cos(x37*3)+np.cos(x38*3)+np.cos(x39*3)+np.cos(x40*3))\n",
    "                               -20, \n",
    "                               {'x1': (-4, 4),'x2': (-4, 4),'x3': (-4, 4),'x4': (-4, 4),'x5': (-4, 4),\n",
    "                                'x6': (-4, 4),'x7': (-4, 4),'x8': (-4, 4),'x9': (-4, 4),'x10': (-4, 4),\n",
    "                                'x11': (-4, 4),'x12': (-4, 4),'x13': (-4, 4),'x14': (-4, 4),'x15': (-4, 4),\n",
    "                                'x16': (-4, 4),'x17': (-4, 4),'x18': (-4, 4),'x19': (-4, 4),'x20': (-4, 4),\n",
    "                                'x21': (-4, 4),'x22': (-4, 4),'x23': (-4, 4),'x24': (-4, 4),'x25': (-4, 4),\n",
    "                                'x26': (-4, 4),'x27': (-4, 4),'x28': (-4, 4),'x29': (-4, 4),'x30': (-4, 4),\n",
    "                                'x31': (-4, 4),'x32': (-4, 4),'x33': (-4, 4),'x34': (-4, 4),'x35': (-4, 4),\n",
    "                                'x36': (-4, 4),'x37': (-4, 4),'x38': (-4, 4),'x39': (-4, 4),'x40': (-4, 4)})\n",
    "    \n",
    "    value = bo.maximize(init_points=1, n_iter=1, acq='mi', kappa=3.29, value=True)\n",
    "    min_val = -1*value\n",
    "    min_vals[num] = np.append(min_vals[num], [min_val])\n",
    "    \n",
    "    count=2\n",
    "    while min_val > 1:\n",
    "        count=count + 1\n",
    "        value = bo.maximize(init_points=1, n_iter=1, acq='mi', kappa=3.29, value=True)\n",
    "        if min_val > -1*value:\n",
    "            min_val =-1* value\n",
    "        \n",
    "        min_vals[num] = np.append(min_vals[num], [min_val])\n",
    "        print (min_val)\n",
    "    counts[num]=np.append(counts[num], [count])"
   ]
  },
  {
   "cell_type": "code",
   "execution_count": null,
   "metadata": {
    "collapsed": true
   },
   "outputs": [],
   "source": [
    "counts[5]"
   ]
  },
  {
   "cell_type": "markdown",
   "metadata": {},
   "source": [
    "#### dim=80"
   ]
  },
  {
   "cell_type": "code",
   "execution_count": null,
   "metadata": {
    "collapsed": true
   },
   "outputs": [],
   "source": []
  }
 ],
 "metadata": {
  "anaconda-cloud": {},
  "kernelspec": {
   "display_name": "Python [default]",
   "language": "python",
   "name": "python3"
  },
  "language_info": {
   "codemirror_mode": {
    "name": "ipython",
    "version": 3
   },
   "file_extension": ".py",
   "mimetype": "text/x-python",
   "name": "python",
   "nbconvert_exporter": "python",
   "pygments_lexer": "ipython3",
   "version": "3.4.5"
  },
  "latex_envs": {
   "bibliofile": "biblio.bib",
   "cite_by": "apalike",
   "current_citInitial": 1,
   "eqLabelWithNumbers": true,
   "eqNumInitial": 0
  },
  "nav_menu": {},
  "toc": {
   "navigate_menu": true,
   "number_sections": true,
   "sideBar": true,
   "threshold": 6,
   "toc_cell": false,
   "toc_section_display": "block",
   "toc_window_display": false
  }
 },
 "nbformat": 4,
 "nbformat_minor": 1
}
