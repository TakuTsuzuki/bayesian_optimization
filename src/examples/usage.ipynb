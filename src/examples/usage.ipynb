{
 "cells": [
  {
   "cell_type": "markdown",
   "metadata": {},
   "source": [
    "## How to use bayesian_optimization"
   ]
  },
  {
   "cell_type": "code",
   "execution_count": 1,
   "metadata": {
    "collapsed": false
   },
   "outputs": [
    {
     "data": {
      "text/plain": [
       "'/Users/tsuzuki/bayesopt_prototype/src/examples'"
      ]
     },
     "execution_count": 1,
     "metadata": {},
     "output_type": "execute_result"
    }
   ],
   "source": [
    "pwd"
   ]
  },
  {
   "cell_type": "code",
   "execution_count": 2,
   "metadata": {
    "collapsed": false,
    "scrolled": true
   },
   "outputs": [],
   "source": [
    "import sys\n",
    "sys.path.append(\"./\")\n",
    "sys.path.append(\"../\")\n",
    "from bayes_opt import BayesianOptimization"
   ]
  },
  {
   "cell_type": "markdown",
   "metadata": {},
   "source": [
    "### Create the bayes_opt object and pass the function to be maximized"
   ]
  },
  {
   "cell_type": "code",
   "execution_count": 3,
   "metadata": {
    "collapsed": true
   },
   "outputs": [],
   "source": [
    "bo = BayesianOptimization(lambda x, y: -x ** 2 - (y - 1) ** 2 + 1,\n",
    "                          {'x': (-4, 4), 'y': (-4, 4)}, verbose=True)"
   ]
  },
  {
   "cell_type": "markdown",
   "metadata": {},
   "source": [
    "### Pass points which we want the algorithm to probe.\n",
    "A dictionary with the parameters names and a list of values to include in the search must be given."
   ]
  },
  {
   "cell_type": "code",
   "execution_count": 4,
   "metadata": {
    "collapsed": true
   },
   "outputs": [],
   "source": [
    "bo.explore({'x': [-1, 3], 'y': [-2, 2]})"
   ]
  },
  {
   "cell_type": "markdown",
   "metadata": {},
   "source": [
    "#### (Optional) Tell prior knowledge \n",
    "if we have any prior knowledge of the behaviour of the target function (even if not totally accurate) we can also tell that to the optimizer."
   ]
  },
  {
   "cell_type": "code",
   "execution_count": 5,
   "metadata": {
    "collapsed": true
   },
   "outputs": [],
   "source": [
    "bo.initialize(\n",
    "    {\n",
    "        'target': [-1, -1],\n",
    "        'x': [1, 1],\n",
    "        'y': [0, 2]\n",
    "    }\n",
    ")"
   ]
  },
  {
   "cell_type": "markdown",
   "metadata": {},
   "source": [
    "### Optimize\n",
    "* init_point: initial query \n",
    "* n_iter: number of query\n",
    "* acq: types of　acquisition function"
   ]
  },
  {
   "cell_type": "code",
   "execution_count": 6,
   "metadata": {
    "collapsed": false
   },
   "outputs": [
    {
     "name": "stdout",
     "output_type": "stream",
     "text": [
      "\u001b[31mInitialization\u001b[0m\n",
      "\u001b[94m-----------------------------------------------------\u001b[0m\n",
      " Step |   Time |      Value |         x |         y | \n",
      "    1 | 00m00s | \u001b[35m  -9.00000\u001b[0m | \u001b[32m  -1.0000\u001b[0m | \u001b[32m  -2.0000\u001b[0m | \n",
      "    2 | 00m00s |   -9.00000 |    3.0000 |    2.0000 | \n",
      "    3 | 00m00s | \u001b[35m  -4.33882\u001b[0m | \u001b[32m   2.1636\u001b[0m | \u001b[32m   0.1889\u001b[0m | \n",
      "    4 | 00m00s |   -7.31018 |    1.8413 |    3.2181 | \n",
      "    5 | 00m00s |  -23.24848 |    3.9923 |    3.8827 | \n",
      "    6 | 00m00s |  -17.93490 |    3.5668 |   -1.4926 | \n",
      "    7 | 00m00s | \u001b[35m  -2.30479\u001b[0m | \u001b[32m  -1.2692\u001b[0m | \u001b[32m  -0.3015\u001b[0m | \n",
      "\u001b[31mBayesian Optimization\u001b[0m\n",
      "\u001b[94m-----------------------------------------------------\u001b[0m\n",
      " Step |   Time |      Value |         x |         y | \n",
      "    8 | 00m18s |  -22.31975 |   -3.9906 |    3.7194 | \n",
      "    9 | 00m15s | \u001b[35m   0.81528\u001b[0m | \u001b[32m   0.4298\u001b[0m | \u001b[32m   0.9978\u001b[0m | \n",
      "   10 | 00m22s | \u001b[35m   0.86395\u001b[0m | \u001b[32m   0.3688\u001b[0m | \u001b[32m   1.0043\u001b[0m | \n",
      "   11 | 00m25s | \u001b[35m   0.95480\u001b[0m | \u001b[32m   0.2105\u001b[0m | \u001b[32m   1.0300\u001b[0m | \n",
      "   12 | 00m31s | \u001b[35m   0.97745\u001b[0m | \u001b[32m   0.1418\u001b[0m | \u001b[32m   1.0495\u001b[0m | \n",
      "   13 | 00m44s | \u001b[35m   0.98484\u001b[0m | \u001b[32m   0.1009\u001b[0m | \u001b[32m   1.0706\u001b[0m | \n",
      "   14 | 00m49s |    0.98417 |    0.0899 |    1.0880 | \n",
      "   15 | 00m49s | \u001b[35m   0.98942\u001b[0m | \u001b[32m   0.0820\u001b[0m | \u001b[32m   1.0621\u001b[0m | \n",
      "   16 | 00m55s | \u001b[35m   0.99656\u001b[0m | \u001b[32m   0.0477\u001b[0m | \u001b[32m   1.0341\u001b[0m | \n",
      "   17 | 00m58s | \u001b[35m   0.99854\u001b[0m | \u001b[32m   0.0323\u001b[0m | \u001b[32m   1.0204\u001b[0m | \n",
      "   18 | 01m05s | \u001b[35m   0.99939\u001b[0m | \u001b[32m   0.0225\u001b[0m | \u001b[32m   1.0103\u001b[0m | \n",
      "   19 | 01m12s | \u001b[35m   0.99967\u001b[0m | \u001b[32m   0.0178\u001b[0m | \u001b[32m   1.0030\u001b[0m | \n"
     ]
    },
    {
     "name": "stderr",
     "output_type": "stream",
     "text": [
      "/Users/tsuzuki/anaconda3/lib/python3.4/site-packages/sklearn/gaussian_process/gpr.py:427: UserWarning: fmin_l_bfgs_b terminated abnormally with the  state: {'warnflag': 2, 'task': b'ABNORMAL_TERMINATION_IN_LNSRCH', 'grad': array([-0.0001963]), 'nit': 5, 'funcalls': 51}\n",
      "  \" state: %s\" % convergence_dict)\n"
     ]
    },
    {
     "name": "stdout",
     "output_type": "stream",
     "text": [
      "   20 | 01m27s |    0.99966 |    0.0184 |    0.9977 | \n",
      "   21 | 01m44s | \u001b[35m   0.99978\u001b[0m | \u001b[32m   0.0148\u001b[0m | \u001b[32m   1.0009\u001b[0m | \n"
     ]
    },
    {
     "name": "stderr",
     "output_type": "stream",
     "text": [
      "/Users/tsuzuki/anaconda3/lib/python3.4/site-packages/sklearn/gaussian_process/gpr.py:427: UserWarning: fmin_l_bfgs_b terminated abnormally with the  state: {'warnflag': 2, 'task': b'ABNORMAL_TERMINATION_IN_LNSRCH', 'grad': array([-0.00119975]), 'nit': 3, 'funcalls': 50}\n",
      "  \" state: %s\" % convergence_dict)\n",
      "/Users/tsuzuki/anaconda3/lib/python3.4/site-packages/sklearn/gaussian_process/gpr.py:427: UserWarning: fmin_l_bfgs_b terminated abnormally with the  state: {'warnflag': 2, 'task': b'ABNORMAL_TERMINATION_IN_LNSRCH', 'grad': array([ 0.00072403]), 'nit': 4, 'funcalls': 49}\n",
      "  \" state: %s\" % convergence_dict)\n",
      "/Users/tsuzuki/anaconda3/lib/python3.4/site-packages/sklearn/gaussian_process/gpr.py:308: UserWarning: Predicted variances smaller than 0. Setting those variances to 0.\n",
      "  warnings.warn(\"Predicted variances smaller than 0. \"\n"
     ]
    },
    {
     "name": "stdout",
     "output_type": "stream",
     "text": [
      "   22 | 02m16s | \u001b[35m   0.99992\u001b[0m | \u001b[32m   0.0087\u001b[0m | \u001b[32m   1.0006\u001b[0m | \n"
     ]
    }
   ],
   "source": [
    "bo.maximize(init_points=5, n_iter=15, acq='mi',  kappa=2)"
   ]
  },
  {
   "cell_type": "markdown",
   "metadata": {},
   "source": [
    "### Print results"
   ]
  },
  {
   "cell_type": "code",
   "execution_count": 7,
   "metadata": {
    "collapsed": false,
    "scrolled": false
   },
   "outputs": [
    {
     "name": "stdout",
     "output_type": "stream",
     "text": [
      "{'values': [-22.319753112698677, 0.81527526886178225, 0.86394851355715374, 0.954798930256606, 0.97744652219018913, 0.984838606031466, 0.98416699667836227, 0.98942294969443567, 0.99655942117735419, 0.99854088236811533, 0.99939041220556901, 0.99967363733226555, 0.99965764221818476, 0.99978091500581068, 0.99992429837265862], 'params': [{'x': -3.9905511047377047, 'y': 3.7194218122930769}, {'x': 0.42979026242296303, 'y': 0.9977502300965817}, {'x': 0.36882697570645873, 'y': 1.0042600978948293}, {'x': 0.21047772032572032, 'y': 1.0300033163147326}, {'x': 0.14178026447660519, 'y': 1.0495160016030651}, {'x': 0.10087272100010132, 'y': 1.0706122377960769}, {'x': 0.089909590228354874, 'y': 1.0880299318789184}, {'x': 0.081966553423265545, 'y': 1.0621171025199603}, {'x': 0.047716472972549974, 'y': 1.0341132969632914}, {'x': 0.032311341302486238, 'y': 1.0203738767817736}, {'x': 0.02245634025548866, 'y': 1.0102616069287744}, {'x': 0.017815571162779296, 'y': 1.0029946772578087}, {'x': 0.018356056678867583, 'y': 0.99767342203710452}, {'x': 0.014776764905238706, 'y': 1.0008556945276308}, {'x': 0.0086808654888201123, 'y': 1.0005866870599787}]}\n"
     ]
    }
   ],
   "source": [
    "print(bo.res['all'])"
   ]
  },
  {
   "cell_type": "code",
   "execution_count": 8,
   "metadata": {
    "collapsed": false
   },
   "outputs": [
    {
     "name": "stdout",
     "output_type": "stream",
     "text": [
      "{'max_params': {'x': 0.0086808654888201123, 'y': 1.0005866870599787}, 'max_val': 0.99992429837265862}\n"
     ]
    }
   ],
   "source": [
    "print(bo.res['max'])"
   ]
  },
  {
   "cell_type": "markdown",
   "metadata": {},
   "source": [
    "### Additional optimization(Optional)"
   ]
  },
  {
   "cell_type": "markdown",
   "metadata": {},
   "source": []
  },
  {
   "cell_type": "code",
   "execution_count": 9,
   "metadata": {
    "collapsed": true
   },
   "outputs": [],
   "source": [
    "bo.explore({'x': [0.6], 'y': [-0.23]})"
   ]
  },
  {
   "cell_type": "markdown",
   "metadata": {},
   "source": [
    "#### Making changes to the gaussian process can impact the algorithm"
   ]
  },
  {
   "cell_type": "code",
   "execution_count": 13,
   "metadata": {
    "collapsed": false
   },
   "outputs": [],
   "source": [
    "gp_params = {'kernel': None, 'alpha': 1e-5}"
   ]
  },
  {
   "cell_type": "markdown",
   "metadata": {},
   "source": [
    "#### Run it again with different acquisition function"
   ]
  },
  {
   "cell_type": "code",
   "execution_count": 14,
   "metadata": {
    "collapsed": false
   },
   "outputs": [
    {
     "name": "stdout",
     "output_type": "stream",
     "text": [
      "\u001b[31mBayesian Optimization\u001b[0m\n",
      "\u001b[94m-----------------------------------------------------\u001b[0m\n",
      " Step |   Time |      Value |         x |         y | \n",
      "   23 | 00m06s |  -40.00000 |   -4.0000 |   -4.0000 | \n",
      "   24 | 00m02s |  -15.98530 |   -4.0000 |    0.0074 | \n",
      "   25 | 00m01s |  -25.97619 |    1.4058 |   -4.0000 | \n",
      "   26 | 00m01s |   -8.47233 |   -0.6873 |    4.0000 | \n",
      "   27 | 00m01s |   -0.78345 |   -1.3081 |    1.2692 | \n"
     ]
    }
   ],
   "source": [
    "bo.maximize(n_iter=5, acq='ei', **gp_params)"
   ]
  },
  {
   "cell_type": "code",
   "execution_count": 15,
   "metadata": {
    "collapsed": false
   },
   "outputs": [
    {
     "name": "stdout",
     "output_type": "stream",
     "text": [
      "{'values': [-22.319753112698677, 0.81527526886178225, 0.86394851355715374, 0.954798930256606, 0.97744652219018913, 0.984838606031466, 0.98416699667836227, 0.98942294969443567, 0.99655942117735419, 0.99854088236811533, 0.99939041220556901, 0.99967363733226555, 0.99965764221818476, 0.99978091500581068, 0.99992429837265862, -40.0, -15.985304391537696, -25.976189965757879, -8.472330188862859, -0.78344597450523068], 'params': [{'x': -3.9905511047377047, 'y': 3.7194218122930769}, {'x': 0.42979026242296303, 'y': 0.9977502300965817}, {'x': 0.36882697570645873, 'y': 1.0042600978948293}, {'x': 0.21047772032572032, 'y': 1.0300033163147326}, {'x': 0.14178026447660519, 'y': 1.0495160016030651}, {'x': 0.10087272100010132, 'y': 1.0706122377960769}, {'x': 0.089909590228354874, 'y': 1.0880299318789184}, {'x': 0.081966553423265545, 'y': 1.0621171025199603}, {'x': 0.047716472972549974, 'y': 1.0341132969632914}, {'x': 0.032311341302486238, 'y': 1.0203738767817736}, {'x': 0.02245634025548866, 'y': 1.0102616069287744}, {'x': 0.017815571162779296, 'y': 1.0029946772578087}, {'x': 0.018356056678867583, 'y': 0.99767342203710452}, {'x': 0.014776764905238706, 'y': 1.0008556945276308}, {'x': 0.0086808654888201123, 'y': 1.0005866870599787}, {'x': -4.0, 'y': -4.0}, {'x': -4.0, 'y': 0.0073749995402619482}, {'x': 1.4057702393200247, 'y': -4.0}, {'x': -0.68726282371655989, 'y': 4.0}, {'x': -1.3080501592796272, 'y': 1.2691667797366022}]}\n"
     ]
    }
   ],
   "source": [
    "print(bo.res['all'])"
   ]
  },
  {
   "cell_type": "code",
   "execution_count": 16,
   "metadata": {
    "collapsed": false
   },
   "outputs": [
    {
     "name": "stdout",
     "output_type": "stream",
     "text": [
      "{'max_params': {'x': 0.0086808654888201123, 'y': 1.0005866870599787}, 'max_val': 0.99992429837265862}\n"
     ]
    }
   ],
   "source": [
    "print(bo.res['max'])"
   ]
  }
 ],
 "metadata": {
  "anaconda-cloud": {},
  "kernelspec": {
   "display_name": "Python [conda root]",
   "language": "python",
   "name": "conda-root-py"
  },
  "language_info": {
   "codemirror_mode": {
    "name": "ipython",
    "version": 3
   },
   "file_extension": ".py",
   "mimetype": "text/x-python",
   "name": "python",
   "nbconvert_exporter": "python",
   "pygments_lexer": "ipython3",
   "version": "3.4.5"
  },
  "latex_envs": {
   "bibliofile": "biblio.bib",
   "cite_by": "apalike",
   "current_citInitial": 1,
   "eqLabelWithNumbers": true,
   "eqNumInitial": 0
  },
  "nav_menu": {},
  "toc": {
   "navigate_menu": true,
   "number_sections": true,
   "sideBar": true,
   "threshold": 6,
   "toc_cell": false,
   "toc_section_display": "block",
   "toc_window_display": false
  }
 },
 "nbformat": 4,
 "nbformat_minor": 1
}
