{
 "cells": [
  {
   "cell_type": "code",
   "execution_count": 1,
   "metadata": {
    "collapsed": false,
    "scrolled": false
   },
   "outputs": [
    {
     "data": {
      "text/plain": [
       "'/Users/tsuzuki/bayesopt_prototype/src/examples'"
      ]
     },
     "execution_count": 1,
     "metadata": {},
     "output_type": "execute_result"
    }
   ],
   "source": [
    "pwd"
   ]
  },
  {
   "cell_type": "code",
   "execution_count": 2,
   "metadata": {
    "collapsed": false,
    "scrolled": true
   },
   "outputs": [
    {
     "name": "stdout",
     "output_type": "stream",
     "text": [
      "/Users/tsuzuki/bayesopt_prototype/src\n"
     ]
    }
   ],
   "source": [
    "cd .."
   ]
  },
  {
   "cell_type": "code",
   "execution_count": 3,
   "metadata": {
    "collapsed": false
   },
   "outputs": [],
   "source": [
    "%matplotlib inline\n",
    "import sys\n",
    "import numpy as np\n",
    "import matplotlib.pyplot as plt\n",
    "\n",
    "from bayes_opt import BayesianOptimization"
   ]
  },
  {
   "cell_type": "raw",
   "metadata": {},
   "source": [
    "実験計画：\n",
    "n=1,5,10,20,40,80をそれぞれ3回施行．　評価関数が2を下回るまでに必要とされたqueryの数の平均を評価．"
   ]
  },
  {
   "cell_type": "markdown",
   "metadata": {},
   "source": [
    "### 条件設定"
   ]
  },
  {
   "cell_type": "code",
   "execution_count": 4,
   "metadata": {
    "collapsed": true
   },
   "outputs": [],
   "source": [
    "n_sample=1\n",
    "ran=1"
   ]
  },
  {
   "cell_type": "code",
   "execution_count": 5,
   "metadata": {
    "collapsed": false
   },
   "outputs": [],
   "source": [
    "#results\n",
    "counts = {}\n",
    "min_vals ={}\n",
    "for k in range(1,7):\n",
    "    counts[k]=np.array([])\n",
    "    min_vals[k]=np.array([])"
   ]
  },
  {
   "cell_type": "markdown",
   "metadata": {
    "collapsed": true
   },
   "source": [
    "#### dim=1"
   ]
  },
  {
   "cell_type": "code",
   "execution_count": 14,
   "metadata": {
    "collapsed": false
   },
   "outputs": [
    {
     "name": "stdout",
     "output_type": "stream",
     "text": [
      "iteration 0\n",
      "iteration 1\n",
      "iteration 2\n"
     ]
    }
   ],
   "source": [
    "#define black box function\n",
    "for i in range(n_sample):\n",
    "    print (\"iteration {0}\".format(i))\n",
    "    bo1 = BayesianOptimization(lambda x1: -(x1**2),\n",
    "                               {'x1': (-ran, ran)})\n",
    "    value = bo1.maximize(init_points=1, n_iter=1, acq='mi', kappa=3.29, value=True)\n",
    "    min_val = -1*value\n",
    "    count1=2\n",
    "    min_vals[1] = np.append(min_vals[1], [min_val])\n",
    "    \n",
    "    while min_val > 1:\n",
    "        count1=count1 + 1\n",
    "        value = bo1.maximize(init_points=1, n_iter=1, acq='mi', kappa=3.29, value=True)\n",
    "        if min_val > -1*value:\n",
    "            min_val =-1* value\n",
    "        \n",
    "        min_vals[1] = np.append(min_vals[1], [min_val])\n",
    "        print (min_val)\n",
    "    counts[1]=np.append(counts[1], [count1])"
   ]
  },
  {
   "cell_type": "code",
   "execution_count": 15,
   "metadata": {
    "collapsed": false,
    "scrolled": true
   },
   "outputs": [
    {
     "data": {
      "text/plain": [
       "array([ 4.,  4.,  4.,  2.,  2.,  2.])"
      ]
     },
     "execution_count": 15,
     "metadata": {},
     "output_type": "execute_result"
    }
   ],
   "source": [
    "counts[1]"
   ]
  },
  {
   "cell_type": "markdown",
   "metadata": {},
   "source": [
    "#### dim=5"
   ]
  },
  {
   "cell_type": "code",
   "execution_count": 7,
   "metadata": {
    "code_folding": [],
    "collapsed": false,
    "scrolled": true
   },
   "outputs": [
    {
     "name": "stdout",
     "output_type": "stream",
     "text": [
      "iteration 0\n",
      "4.07049306619\n",
      "3.99622738004\n",
      "3.99622738004\n",
      "3.87389782936\n",
      "3.87389782936\n",
      "3.87389782936\n",
      "3.87389782936\n",
      "3.87389782936\n",
      "3.87389782936\n",
      "3.87389782936\n",
      "3.87389782936\n",
      "3.87389782936\n",
      "3.87389782936\n",
      "3.87389782936\n",
      "3.87389782936\n",
      "2.21562284392\n",
      "2.21562284392\n",
      "1.74431631039\n",
      "1.17794178572\n",
      "1.09675604955\n",
      "1.09675604955\n",
      "1.09675604955\n",
      "0.965943151857\n",
      "iteration 1\n",
      "4.14993758709\n",
      "4.11104776869\n",
      "3.93444547222\n",
      "3.9079877743\n",
      "3.9079877743\n",
      "3.84715799214\n",
      "3.84715799214\n",
      "3.84715799214\n",
      "3.84715799214\n",
      "3.84715799214\n",
      "3.84715799214\n",
      "3.29953044283\n",
      "3.29953044283\n",
      "3.29953044283\n",
      "1.39755089835\n",
      "1.11792323682\n",
      "1.11792323682\n",
      "1.03964521656\n",
      "1.03964521656\n",
      "1.01164449563\n",
      "1.01164449563\n",
      "0.71655955624\n",
      "iteration 2\n",
      "4.11306146578\n",
      "4.11306146578\n",
      "4.11306146578\n",
      "4.11306146578\n",
      "4.07830975557\n",
      "4.07830975557\n",
      "4.07830975557\n",
      "4.07830975557\n",
      "4.07830975557\n",
      "3.86804761382\n",
      "3.86804761382\n",
      "3.49342082202\n",
      "3.49342082202\n",
      "2.34358827713\n",
      "2.34358827713\n",
      "1.89338895713\n",
      "1.89338895713\n",
      "1.50016371636\n",
      "1.16343394538\n",
      "1.07428656394\n",
      "1.07428656394\n",
      "0.973839638627\n"
     ]
    }
   ],
   "source": [
    "#define black box function\n",
    "num=2\n",
    "for i in range(n_sample):\n",
    "    print (\"iteration {0}\".format(i))\n",
    "    bo = BayesianOptimization(lambda x1,x2,x3,x4, x5: -(x1**2+x2**2+x3**2+x4**2+x5**2), \n",
    "                               {'x1': (-1*ran, ran),'x2': (-1*ran, ran),'x3': (-1*ran, ran),'x4': (-1*ran, ran),'x5': (-1*ran, ran)})\n",
    "    \n",
    "    value = bo.maximize(init_points=1, n_iter=1, acq='mi', kappa=3.29, value=True)\n",
    "    min_val = -1*value\n",
    "    min_vals[num] = np.append(min_vals[num], [min_val])\n",
    "    \n",
    "    count=2\n",
    "    while min_val > 1:\n",
    "        count=count + 1\n",
    "        value = bo.maximize(init_points=1, n_iter=1, acq='mi', kappa=3.29, value=True)\n",
    "        if min_val > -1*value:\n",
    "            min_val =-1* value\n",
    "        \n",
    "        min_vals[num] = np.append(min_vals[num], [min_val])\n",
    "        print (min_val)\n",
    "    counts[num]=np.append(counts[num], [count])"
   ]
  },
  {
   "cell_type": "code",
   "execution_count": 8,
   "metadata": {
    "collapsed": false
   },
   "outputs": [
    {
     "data": {
      "text/plain": [
       "array([ 25.,  24.,  24.])"
      ]
     },
     "execution_count": 8,
     "metadata": {},
     "output_type": "execute_result"
    }
   ],
   "source": [
    "counts[2]"
   ]
  },
  {
   "cell_type": "markdown",
   "metadata": {},
   "source": [
    "#### dim=10"
   ]
  },
  {
   "cell_type": "code",
   "execution_count": 9,
   "metadata": {
    "collapsed": false,
    "scrolled": true
   },
   "outputs": [
    {
     "name": "stdout",
     "output_type": "stream",
     "text": [
      "iteration 0\n",
      "6.1987006836\n",
      "5.92363748519\n",
      "5.92363748519\n",
      "5.92363748519\n",
      "5.92363748519\n",
      "5.92363748519\n",
      "5.92363748519\n",
      "5.92363748519\n",
      "5.92363748519\n",
      "5.73570786019\n",
      "5.73570786019\n",
      "5.73570786019\n",
      "4.79801463367\n",
      "4.30891832947\n",
      "4.30891832947\n",
      "3.16032646306\n",
      "3.16032646306\n",
      "3.16032646306\n",
      "3.16032646306\n",
      "3.16032646306\n",
      "3.16032646306\n",
      "3.16032646306\n",
      "2.86358318907\n",
      "2.86358318907\n",
      "2.86358318907\n",
      "2.86358318907\n",
      "2.86358318907\n",
      "2.86358318907\n",
      "2.86358318907\n",
      "2.86358318907\n",
      "2.58250009907\n",
      "2.39411254416\n",
      "2.04910009132\n",
      "1.8280409227\n",
      "1.80046576479\n",
      "1.77466213473\n",
      "1.53384765587\n",
      "1.33190142503\n",
      "1.29265133173\n"
     ]
    },
    {
     "name": "stderr",
     "output_type": "stream",
     "text": [
      "/Users/tsuzuki/anaconda3/lib/python3.4/site-packages/sklearn/gaussian_process/gpr.py:427: UserWarning: fmin_l_bfgs_b terminated abnormally with the  state: {'grad': array([-0.00014895]), 'funcalls': 49, 'warnflag': 2, 'nit': 4, 'task': b'ABNORMAL_TERMINATION_IN_LNSRCH'}\n",
      "  \" state: %s\" % convergence_dict)\n"
     ]
    },
    {
     "name": "stdout",
     "output_type": "stream",
     "text": [
      "1.29265133173\n",
      "1.23581107027\n"
     ]
    },
    {
     "name": "stderr",
     "output_type": "stream",
     "text": [
      "/Users/tsuzuki/anaconda3/lib/python3.4/site-packages/sklearn/gaussian_process/gpr.py:427: UserWarning: fmin_l_bfgs_b terminated abnormally with the  state: {'grad': array([ -8.22223961e-05]), 'funcalls': 47, 'warnflag': 2, 'nit': 2, 'task': b'ABNORMAL_TERMINATION_IN_LNSRCH'}\n",
      "  \" state: %s\" % convergence_dict)\n"
     ]
    },
    {
     "name": "stdout",
     "output_type": "stream",
     "text": [
      "1.11342192577\n",
      "1.1010613061\n",
      "1.0973825043\n",
      "0.955458065342\n",
      "iteration 1\n",
      "7.04532261331\n",
      "7.04532261331\n",
      "7.04532261331\n",
      "7.04532261331\n",
      "6.28094469001\n",
      "6.28094469001\n",
      "5.25940794763\n",
      "4.90609548211\n",
      "4.90609548211\n",
      "4.90609548211\n",
      "4.90609548211\n",
      "4.90609548211\n",
      "3.66081270927\n",
      "3.18759303812\n",
      "1.73188979127\n",
      "1.73188979127\n",
      "1.73188979127\n",
      "1.73188979127\n",
      "1.69974675754\n",
      "1.69974675754\n",
      "1.69974675754\n",
      "1.69974675754\n",
      "0.907249551737\n",
      "iteration 2\n",
      "6.46422164256\n",
      "6.1526478511\n",
      "6.1526478511\n",
      "6.1526478511\n",
      "6.1526478511\n",
      "6.1526478511\n",
      "6.00148502953\n",
      "6.00148502953\n",
      "6.00148502953\n",
      "6.00148502953\n",
      "6.00148502953\n",
      "6.00148502953\n",
      "6.00148502953\n",
      "6.00148502953\n",
      "6.00148502953\n",
      "5.17709989329\n",
      "5.17709989329\n",
      "5.17709989329\n",
      "5.17709989329\n",
      "5.17709989329\n",
      "3.32679283328\n",
      "3.32679283328\n",
      "3.32679283328\n",
      "3.32679283328\n",
      "3.32679283328\n",
      "3.28060007386\n"
     ]
    },
    {
     "name": "stderr",
     "output_type": "stream",
     "text": [
      "/Users/tsuzuki/anaconda3/lib/python3.4/site-packages/sklearn/gaussian_process/gpr.py:427: UserWarning: fmin_l_bfgs_b terminated abnormally with the  state: {'grad': array([ -5.37321736e-05]), 'funcalls': 53, 'warnflag': 2, 'nit': 4, 'task': b'ABNORMAL_TERMINATION_IN_LNSRCH'}\n",
      "  \" state: %s\" % convergence_dict)\n"
     ]
    },
    {
     "name": "stdout",
     "output_type": "stream",
     "text": [
      "2.90209637862\n",
      "2.79614393905\n",
      "2.78595637952\n",
      "2.78480386946\n",
      "2.64234405595\n"
     ]
    },
    {
     "name": "stderr",
     "output_type": "stream",
     "text": [
      "/Users/tsuzuki/anaconda3/lib/python3.4/site-packages/sklearn/gaussian_process/gpr.py:427: UserWarning: fmin_l_bfgs_b terminated abnormally with the  state: {'grad': array([-0.00116099]), 'funcalls': 52, 'warnflag': 2, 'nit': 3, 'task': b'ABNORMAL_TERMINATION_IN_LNSRCH'}\n",
      "  \" state: %s\" % convergence_dict)\n",
      "/Users/tsuzuki/anaconda3/lib/python3.4/site-packages/sklearn/gaussian_process/gpr.py:427: UserWarning: fmin_l_bfgs_b terminated abnormally with the  state: {'grad': array([ -2.96937147e-05]), 'funcalls': 51, 'warnflag': 2, 'nit': 3, 'task': b'ABNORMAL_TERMINATION_IN_LNSRCH'}\n",
      "  \" state: %s\" % convergence_dict)\n"
     ]
    },
    {
     "name": "stdout",
     "output_type": "stream",
     "text": [
      "2.45142822063\n"
     ]
    },
    {
     "name": "stderr",
     "output_type": "stream",
     "text": [
      "/Users/tsuzuki/anaconda3/lib/python3.4/site-packages/sklearn/gaussian_process/gpr.py:427: UserWarning: fmin_l_bfgs_b terminated abnormally with the  state: {'grad': array([ 0.00031835]), 'funcalls': 48, 'warnflag': 2, 'nit': 3, 'task': b'ABNORMAL_TERMINATION_IN_LNSRCH'}\n",
      "  \" state: %s\" % convergence_dict)\n"
     ]
    },
    {
     "name": "stdout",
     "output_type": "stream",
     "text": [
      "2.23458625637\n"
     ]
    },
    {
     "name": "stderr",
     "output_type": "stream",
     "text": [
      "/Users/tsuzuki/anaconda3/lib/python3.4/site-packages/sklearn/gaussian_process/gpr.py:427: UserWarning: fmin_l_bfgs_b terminated abnormally with the  state: {'grad': array([-0.00044313]), 'funcalls': 50, 'warnflag': 2, 'nit': 3, 'task': b'ABNORMAL_TERMINATION_IN_LNSRCH'}\n",
      "  \" state: %s\" % convergence_dict)\n"
     ]
    },
    {
     "name": "stdout",
     "output_type": "stream",
     "text": [
      "2.17150018666\n"
     ]
    },
    {
     "name": "stderr",
     "output_type": "stream",
     "text": [
      "/Users/tsuzuki/anaconda3/lib/python3.4/site-packages/sklearn/gaussian_process/gpr.py:427: UserWarning: fmin_l_bfgs_b terminated abnormally with the  state: {'grad': array([-0.00033749]), 'funcalls': 53, 'warnflag': 2, 'nit': 4, 'task': b'ABNORMAL_TERMINATION_IN_LNSRCH'}\n",
      "  \" state: %s\" % convergence_dict)\n",
      "/Users/tsuzuki/anaconda3/lib/python3.4/site-packages/sklearn/gaussian_process/gpr.py:427: UserWarning: fmin_l_bfgs_b terminated abnormally with the  state: {'grad': array([ 0.00190783]), 'funcalls': 52, 'warnflag': 2, 'nit': 3, 'task': b'ABNORMAL_TERMINATION_IN_LNSRCH'}\n",
      "  \" state: %s\" % convergence_dict)\n"
     ]
    },
    {
     "name": "stdout",
     "output_type": "stream",
     "text": [
      "2.17150018666\n"
     ]
    },
    {
     "name": "stderr",
     "output_type": "stream",
     "text": [
      "/Users/tsuzuki/anaconda3/lib/python3.4/site-packages/sklearn/gaussian_process/gpr.py:427: UserWarning: fmin_l_bfgs_b terminated abnormally with the  state: {'grad': array([-0.00160856]), 'funcalls': 50, 'warnflag': 2, 'nit': 3, 'task': b'ABNORMAL_TERMINATION_IN_LNSRCH'}\n",
      "  \" state: %s\" % convergence_dict)\n",
      "/Users/tsuzuki/anaconda3/lib/python3.4/site-packages/sklearn/gaussian_process/gpr.py:427: UserWarning: fmin_l_bfgs_b terminated abnormally with the  state: {'grad': array([ 0.00041722]), 'funcalls': 57, 'warnflag': 2, 'nit': 4, 'task': b'ABNORMAL_TERMINATION_IN_LNSRCH'}\n",
      "  \" state: %s\" % convergence_dict)\n",
      "/Users/tsuzuki/anaconda3/lib/python3.4/site-packages/sklearn/gaussian_process/gpr.py:427: UserWarning: fmin_l_bfgs_b terminated abnormally with the  state: {'grad': array([  8.95927986e-05]), 'funcalls': 52, 'warnflag': 2, 'nit': 4, 'task': b'ABNORMAL_TERMINATION_IN_LNSRCH'}\n",
      "  \" state: %s\" % convergence_dict)\n"
     ]
    },
    {
     "name": "stdout",
     "output_type": "stream",
     "text": [
      "2.1093011179\n"
     ]
    },
    {
     "name": "stderr",
     "output_type": "stream",
     "text": [
      "/Users/tsuzuki/anaconda3/lib/python3.4/site-packages/sklearn/gaussian_process/gpr.py:427: UserWarning: fmin_l_bfgs_b terminated abnormally with the  state: {'grad': array([-0.00024563]), 'funcalls': 54, 'warnflag': 2, 'nit': 3, 'task': b'ABNORMAL_TERMINATION_IN_LNSRCH'}\n",
      "  \" state: %s\" % convergence_dict)\n",
      "/Users/tsuzuki/anaconda3/lib/python3.4/site-packages/sklearn/gaussian_process/gpr.py:427: UserWarning: fmin_l_bfgs_b terminated abnormally with the  state: {'grad': array([  3.75395401e-05]), 'funcalls': 49, 'warnflag': 2, 'nit': 4, 'task': b'ABNORMAL_TERMINATION_IN_LNSRCH'}\n",
      "  \" state: %s\" % convergence_dict)\n",
      "/Users/tsuzuki/anaconda3/lib/python3.4/site-packages/sklearn/gaussian_process/gpr.py:427: UserWarning: fmin_l_bfgs_b terminated abnormally with the  state: {'grad': array([-0.00070655]), 'funcalls': 50, 'warnflag': 2, 'nit': 3, 'task': b'ABNORMAL_TERMINATION_IN_LNSRCH'}\n",
      "  \" state: %s\" % convergence_dict)\n"
     ]
    },
    {
     "name": "stdout",
     "output_type": "stream",
     "text": [
      "1.9267111055\n",
      "1.82081469255\n",
      "1.76083377001\n"
     ]
    },
    {
     "name": "stderr",
     "output_type": "stream",
     "text": [
      "/Users/tsuzuki/anaconda3/lib/python3.4/site-packages/sklearn/gaussian_process/gpr.py:427: UserWarning: fmin_l_bfgs_b terminated abnormally with the  state: {'grad': array([ -2.13567100e-05]), 'funcalls': 48, 'warnflag': 2, 'nit': 5, 'task': b'ABNORMAL_TERMINATION_IN_LNSRCH'}\n",
      "  \" state: %s\" % convergence_dict)\n"
     ]
    },
    {
     "name": "stdout",
     "output_type": "stream",
     "text": [
      "1.74353216805\n",
      "1.73706532593\n"
     ]
    },
    {
     "name": "stderr",
     "output_type": "stream",
     "text": [
      "/Users/tsuzuki/anaconda3/lib/python3.4/site-packages/sklearn/gaussian_process/gpr.py:427: UserWarning: fmin_l_bfgs_b terminated abnormally with the  state: {'grad': array([ 0.00118292]), 'funcalls': 54, 'warnflag': 2, 'nit': 4, 'task': b'ABNORMAL_TERMINATION_IN_LNSRCH'}\n",
      "  \" state: %s\" % convergence_dict)\n"
     ]
    },
    {
     "name": "stdout",
     "output_type": "stream",
     "text": [
      "1.73346521708\n"
     ]
    },
    {
     "name": "stderr",
     "output_type": "stream",
     "text": [
      "/Users/tsuzuki/anaconda3/lib/python3.4/site-packages/sklearn/gaussian_process/gpr.py:427: UserWarning: fmin_l_bfgs_b terminated abnormally with the  state: {'grad': array([ 0.0003979]), 'funcalls': 55, 'warnflag': 2, 'nit': 5, 'task': b'ABNORMAL_TERMINATION_IN_LNSRCH'}\n",
      "  \" state: %s\" % convergence_dict)\n"
     ]
    },
    {
     "name": "stdout",
     "output_type": "stream",
     "text": [
      "1.72587455427\n"
     ]
    },
    {
     "name": "stderr",
     "output_type": "stream",
     "text": [
      "/Users/tsuzuki/anaconda3/lib/python3.4/site-packages/sklearn/gaussian_process/gpr.py:427: UserWarning: fmin_l_bfgs_b terminated abnormally with the  state: {'grad': array([-0.001361]), 'funcalls': 50, 'warnflag': 2, 'nit': 2, 'task': b'ABNORMAL_TERMINATION_IN_LNSRCH'}\n",
      "  \" state: %s\" % convergence_dict)\n",
      "/Users/tsuzuki/anaconda3/lib/python3.4/site-packages/sklearn/gaussian_process/gpr.py:427: UserWarning: fmin_l_bfgs_b terminated abnormally with the  state: {'grad': array([ 0.00041237]), 'funcalls': 55, 'warnflag': 2, 'nit': 5, 'task': b'ABNORMAL_TERMINATION_IN_LNSRCH'}\n",
      "  \" state: %s\" % convergence_dict)\n",
      "/Users/tsuzuki/anaconda3/lib/python3.4/site-packages/sklearn/gaussian_process/gpr.py:427: UserWarning: fmin_l_bfgs_b terminated abnormally with the  state: {'grad': array([ 0.00073197]), 'funcalls': 55, 'warnflag': 2, 'nit': 5, 'task': b'ABNORMAL_TERMINATION_IN_LNSRCH'}\n",
      "  \" state: %s\" % convergence_dict)\n"
     ]
    },
    {
     "name": "stdout",
     "output_type": "stream",
     "text": [
      "1.71462621337\n"
     ]
    },
    {
     "name": "stderr",
     "output_type": "stream",
     "text": [
      "/Users/tsuzuki/anaconda3/lib/python3.4/site-packages/sklearn/gaussian_process/gpr.py:427: UserWarning: fmin_l_bfgs_b terminated abnormally with the  state: {'grad': array([-0.0005583]), 'funcalls': 49, 'warnflag': 2, 'nit': 3, 'task': b'ABNORMAL_TERMINATION_IN_LNSRCH'}\n",
      "  \" state: %s\" % convergence_dict)\n"
     ]
    },
    {
     "name": "stdout",
     "output_type": "stream",
     "text": [
      "1.71071406173\n"
     ]
    },
    {
     "name": "stderr",
     "output_type": "stream",
     "text": [
      "/Users/tsuzuki/anaconda3/lib/python3.4/site-packages/sklearn/gaussian_process/gpr.py:427: UserWarning: fmin_l_bfgs_b terminated abnormally with the  state: {'grad': array([ 0.00021953]), 'funcalls': 55, 'warnflag': 2, 'nit': 5, 'task': b'ABNORMAL_TERMINATION_IN_LNSRCH'}\n",
      "  \" state: %s\" % convergence_dict)\n"
     ]
    },
    {
     "name": "stdout",
     "output_type": "stream",
     "text": [
      "1.68974356556\n"
     ]
    },
    {
     "name": "stderr",
     "output_type": "stream",
     "text": [
      "/Users/tsuzuki/anaconda3/lib/python3.4/site-packages/sklearn/gaussian_process/gpr.py:427: UserWarning: fmin_l_bfgs_b terminated abnormally with the  state: {'grad': array([ 0.00039959]), 'funcalls': 53, 'warnflag': 2, 'nit': 3, 'task': b'ABNORMAL_TERMINATION_IN_LNSRCH'}\n",
      "  \" state: %s\" % convergence_dict)\n"
     ]
    },
    {
     "name": "stdout",
     "output_type": "stream",
     "text": [
      "1.55854642718\n",
      "1.42485930494\n",
      "1.38816276238\n"
     ]
    },
    {
     "name": "stderr",
     "output_type": "stream",
     "text": [
      "/Users/tsuzuki/anaconda3/lib/python3.4/site-packages/sklearn/gaussian_process/gpr.py:427: UserWarning: fmin_l_bfgs_b terminated abnormally with the  state: {'grad': array([-0.00028969]), 'funcalls': 48, 'warnflag': 2, 'nit': 5, 'task': b'ABNORMAL_TERMINATION_IN_LNSRCH'}\n",
      "  \" state: %s\" % convergence_dict)\n",
      "/Users/tsuzuki/anaconda3/lib/python3.4/site-packages/sklearn/gaussian_process/gpr.py:427: UserWarning: fmin_l_bfgs_b terminated abnormally with the  state: {'grad': array([-0.00118858]), 'funcalls': 47, 'warnflag': 2, 'nit': 4, 'task': b'ABNORMAL_TERMINATION_IN_LNSRCH'}\n",
      "  \" state: %s\" % convergence_dict)\n"
     ]
    },
    {
     "name": "stdout",
     "output_type": "stream",
     "text": [
      "1.38816276238\n"
     ]
    },
    {
     "name": "stderr",
     "output_type": "stream",
     "text": [
      "/Users/tsuzuki/anaconda3/lib/python3.4/site-packages/sklearn/gaussian_process/gpr.py:427: UserWarning: fmin_l_bfgs_b terminated abnormally with the  state: {'grad': array([ -3.92506245e-05]), 'funcalls': 59, 'warnflag': 2, 'nit': 4, 'task': b'ABNORMAL_TERMINATION_IN_LNSRCH'}\n",
      "  \" state: %s\" % convergence_dict)\n"
     ]
    },
    {
     "name": "stdout",
     "output_type": "stream",
     "text": [
      "1.36717074322\n"
     ]
    },
    {
     "name": "stderr",
     "output_type": "stream",
     "text": [
      "/Users/tsuzuki/anaconda3/lib/python3.4/site-packages/sklearn/gaussian_process/gpr.py:427: UserWarning: fmin_l_bfgs_b terminated abnormally with the  state: {'grad': array([ 0.00074049]), 'funcalls': 54, 'warnflag': 2, 'nit': 4, 'task': b'ABNORMAL_TERMINATION_IN_LNSRCH'}\n",
      "  \" state: %s\" % convergence_dict)\n"
     ]
    },
    {
     "name": "stdout",
     "output_type": "stream",
     "text": [
      "1.31065920283\n"
     ]
    },
    {
     "name": "stderr",
     "output_type": "stream",
     "text": [
      "/Users/tsuzuki/anaconda3/lib/python3.4/site-packages/sklearn/gaussian_process/gpr.py:427: UserWarning: fmin_l_bfgs_b terminated abnormally with the  state: {'grad': array([ 0.00030232]), 'funcalls': 49, 'warnflag': 2, 'nit': 4, 'task': b'ABNORMAL_TERMINATION_IN_LNSRCH'}\n",
      "  \" state: %s\" % convergence_dict)\n"
     ]
    },
    {
     "name": "stdout",
     "output_type": "stream",
     "text": [
      "1.31065920283\n"
     ]
    },
    {
     "name": "stderr",
     "output_type": "stream",
     "text": [
      "/Users/tsuzuki/anaconda3/lib/python3.4/site-packages/sklearn/gaussian_process/gpr.py:427: UserWarning: fmin_l_bfgs_b terminated abnormally with the  state: {'grad': array([-0.00164233]), 'funcalls': 53, 'warnflag': 2, 'nit': 4, 'task': b'ABNORMAL_TERMINATION_IN_LNSRCH'}\n",
      "  \" state: %s\" % convergence_dict)\n",
      "/Users/tsuzuki/anaconda3/lib/python3.4/site-packages/sklearn/gaussian_process/gpr.py:427: UserWarning: fmin_l_bfgs_b terminated abnormally with the  state: {'grad': array([ 0.00016236]), 'funcalls': 60, 'warnflag': 2, 'nit': 6, 'task': b'ABNORMAL_TERMINATION_IN_LNSRCH'}\n",
      "  \" state: %s\" % convergence_dict)\n"
     ]
    },
    {
     "name": "stdout",
     "output_type": "stream",
     "text": [
      "1.3024814751\n",
      "1.25654518509\n"
     ]
    },
    {
     "name": "stderr",
     "output_type": "stream",
     "text": [
      "/Users/tsuzuki/anaconda3/lib/python3.4/site-packages/sklearn/gaussian_process/gpr.py:427: UserWarning: fmin_l_bfgs_b terminated abnormally with the  state: {'grad': array([-0.00015643]), 'funcalls': 50, 'warnflag': 2, 'nit': 4, 'task': b'ABNORMAL_TERMINATION_IN_LNSRCH'}\n",
      "  \" state: %s\" % convergence_dict)\n",
      "/Users/tsuzuki/anaconda3/lib/python3.4/site-packages/sklearn/gaussian_process/gpr.py:427: UserWarning: fmin_l_bfgs_b terminated abnormally with the  state: {'grad': array([ 0.00029204]), 'funcalls': 52, 'warnflag': 2, 'nit': 3, 'task': b'ABNORMAL_TERMINATION_IN_LNSRCH'}\n",
      "  \" state: %s\" % convergence_dict)\n"
     ]
    },
    {
     "name": "stdout",
     "output_type": "stream",
     "text": [
      "1.24751612539\n",
      "1.24619945855\n",
      "1.23965739377\n"
     ]
    },
    {
     "name": "stderr",
     "output_type": "stream",
     "text": [
      "/Users/tsuzuki/anaconda3/lib/python3.4/site-packages/sklearn/gaussian_process/gpr.py:427: UserWarning: fmin_l_bfgs_b terminated abnormally with the  state: {'grad': array([-0.00035591]), 'funcalls': 49, 'warnflag': 2, 'nit': 2, 'task': b'ABNORMAL_TERMINATION_IN_LNSRCH'}\n",
      "  \" state: %s\" % convergence_dict)\n",
      "/Users/tsuzuki/anaconda3/lib/python3.4/site-packages/sklearn/gaussian_process/gpr.py:427: UserWarning: fmin_l_bfgs_b terminated abnormally with the  state: {'grad': array([ 0.00017138]), 'funcalls': 55, 'warnflag': 2, 'nit': 5, 'task': b'ABNORMAL_TERMINATION_IN_LNSRCH'}\n",
      "  \" state: %s\" % convergence_dict)\n",
      "/Users/tsuzuki/anaconda3/lib/python3.4/site-packages/sklearn/gaussian_process/gpr.py:427: UserWarning: fmin_l_bfgs_b terminated abnormally with the  state: {'grad': array([ 0.00016333]), 'funcalls': 54, 'warnflag': 2, 'nit': 5, 'task': b'ABNORMAL_TERMINATION_IN_LNSRCH'}\n",
      "  \" state: %s\" % convergence_dict)\n",
      "/Users/tsuzuki/anaconda3/lib/python3.4/site-packages/sklearn/gaussian_process/gpr.py:427: UserWarning: fmin_l_bfgs_b terminated abnormally with the  state: {'grad': array([  1.36231247e-05]), 'funcalls': 55, 'warnflag': 2, 'nit': 5, 'task': b'ABNORMAL_TERMINATION_IN_LNSRCH'}\n",
      "  \" state: %s\" % convergence_dict)\n"
     ]
    },
    {
     "name": "stdout",
     "output_type": "stream",
     "text": [
      "1.2107101337\n"
     ]
    },
    {
     "name": "stderr",
     "output_type": "stream",
     "text": [
      "/Users/tsuzuki/anaconda3/lib/python3.4/site-packages/sklearn/gaussian_process/gpr.py:427: UserWarning: fmin_l_bfgs_b terminated abnormally with the  state: {'grad': array([ 0.00036007]), 'funcalls': 52, 'warnflag': 2, 'nit': 3, 'task': b'ABNORMAL_TERMINATION_IN_LNSRCH'}\n",
      "  \" state: %s\" % convergence_dict)\n",
      "/Users/tsuzuki/anaconda3/lib/python3.4/site-packages/sklearn/gaussian_process/gpr.py:427: UserWarning: fmin_l_bfgs_b terminated abnormally with the  state: {'grad': array([ -3.71192707e-05]), 'funcalls': 54, 'warnflag': 2, 'nit': 4, 'task': b'ABNORMAL_TERMINATION_IN_LNSRCH'}\n",
      "  \" state: %s\" % convergence_dict)\n"
     ]
    },
    {
     "name": "stdout",
     "output_type": "stream",
     "text": [
      "1.15920271718\n"
     ]
    },
    {
     "name": "stderr",
     "output_type": "stream",
     "text": [
      "/Users/tsuzuki/anaconda3/lib/python3.4/site-packages/sklearn/gaussian_process/gpr.py:427: UserWarning: fmin_l_bfgs_b terminated abnormally with the  state: {'grad': array([-0.00056109]), 'funcalls': 49, 'warnflag': 2, 'nit': 4, 'task': b'ABNORMAL_TERMINATION_IN_LNSRCH'}\n",
      "  \" state: %s\" % convergence_dict)\n",
      "/Users/tsuzuki/anaconda3/lib/python3.4/site-packages/sklearn/gaussian_process/gpr.py:427: UserWarning: fmin_l_bfgs_b terminated abnormally with the  state: {'grad': array([  6.62140410e-05]), 'funcalls': 51, 'warnflag': 2, 'nit': 3, 'task': b'ABNORMAL_TERMINATION_IN_LNSRCH'}\n",
      "  \" state: %s\" % convergence_dict)\n"
     ]
    },
    {
     "name": "stdout",
     "output_type": "stream",
     "text": [
      "1.12857566592\n",
      "1.11844540666\n"
     ]
    },
    {
     "name": "stderr",
     "output_type": "stream",
     "text": [
      "/Users/tsuzuki/anaconda3/lib/python3.4/site-packages/sklearn/gaussian_process/gpr.py:427: UserWarning: fmin_l_bfgs_b terminated abnormally with the  state: {'grad': array([-0.00055435]), 'funcalls': 52, 'warnflag': 2, 'nit': 3, 'task': b'ABNORMAL_TERMINATION_IN_LNSRCH'}\n",
      "  \" state: %s\" % convergence_dict)\n",
      "/Users/tsuzuki/anaconda3/lib/python3.4/site-packages/sklearn/gaussian_process/gpr.py:427: UserWarning: fmin_l_bfgs_b terminated abnormally with the  state: {'grad': array([  6.82905811e-05]), 'funcalls': 54, 'warnflag': 2, 'nit': 5, 'task': b'ABNORMAL_TERMINATION_IN_LNSRCH'}\n",
      "  \" state: %s\" % convergence_dict)\n"
     ]
    },
    {
     "name": "stdout",
     "output_type": "stream",
     "text": [
      "1.11497660508\n"
     ]
    },
    {
     "name": "stderr",
     "output_type": "stream",
     "text": [
      "/Users/tsuzuki/anaconda3/lib/python3.4/site-packages/sklearn/gaussian_process/gpr.py:427: UserWarning: fmin_l_bfgs_b terminated abnormally with the  state: {'grad': array([  1.23526443e-05]), 'funcalls': 51, 'warnflag': 2, 'nit': 5, 'task': b'ABNORMAL_TERMINATION_IN_LNSRCH'}\n",
      "  \" state: %s\" % convergence_dict)\n"
     ]
    },
    {
     "name": "stdout",
     "output_type": "stream",
     "text": [
      "1.10910196785\n",
      "1.09322899628\n"
     ]
    },
    {
     "name": "stderr",
     "output_type": "stream",
     "text": [
      "/Users/tsuzuki/anaconda3/lib/python3.4/site-packages/sklearn/gaussian_process/gpr.py:427: UserWarning: fmin_l_bfgs_b terminated abnormally with the  state: {'grad': array([ 0.00069615]), 'funcalls': 51, 'warnflag': 2, 'nit': 3, 'task': b'ABNORMAL_TERMINATION_IN_LNSRCH'}\n",
      "  \" state: %s\" % convergence_dict)\n",
      "/Users/tsuzuki/anaconda3/lib/python3.4/site-packages/sklearn/gaussian_process/gpr.py:427: UserWarning: fmin_l_bfgs_b terminated abnormally with the  state: {'grad': array([ -3.18582388e-05]), 'funcalls': 49, 'warnflag': 2, 'nit': 3, 'task': b'ABNORMAL_TERMINATION_IN_LNSRCH'}\n",
      "  \" state: %s\" % convergence_dict)\n"
     ]
    },
    {
     "name": "stdout",
     "output_type": "stream",
     "text": [
      "1.07614405873\n",
      "1.07482416711\n"
     ]
    },
    {
     "name": "stderr",
     "output_type": "stream",
     "text": [
      "/Users/tsuzuki/anaconda3/lib/python3.4/site-packages/sklearn/gaussian_process/gpr.py:427: UserWarning: fmin_l_bfgs_b terminated abnormally with the  state: {'grad': array([ -1.64373632e-05]), 'funcalls': 58, 'warnflag': 2, 'nit': 4, 'task': b'ABNORMAL_TERMINATION_IN_LNSRCH'}\n",
      "  \" state: %s\" % convergence_dict)\n",
      "/Users/tsuzuki/anaconda3/lib/python3.4/site-packages/sklearn/gaussian_process/gpr.py:427: UserWarning: fmin_l_bfgs_b terminated abnormally with the  state: {'grad': array([ -2.33727829e-05]), 'funcalls': 50, 'warnflag': 2, 'nit': 4, 'task': b'ABNORMAL_TERMINATION_IN_LNSRCH'}\n",
      "  \" state: %s\" % convergence_dict)\n"
     ]
    },
    {
     "name": "stdout",
     "output_type": "stream",
     "text": [
      "1.07396555736\n"
     ]
    },
    {
     "name": "stderr",
     "output_type": "stream",
     "text": [
      "/Users/tsuzuki/anaconda3/lib/python3.4/site-packages/sklearn/gaussian_process/gpr.py:427: UserWarning: fmin_l_bfgs_b terminated abnormally with the  state: {'grad': array([-0.00104845]), 'funcalls': 49, 'warnflag': 2, 'nit': 4, 'task': b'ABNORMAL_TERMINATION_IN_LNSRCH'}\n",
      "  \" state: %s\" % convergence_dict)\n",
      "/Users/tsuzuki/anaconda3/lib/python3.4/site-packages/sklearn/gaussian_process/gpr.py:427: UserWarning: fmin_l_bfgs_b terminated abnormally with the  state: {'grad': array([ -2.22248636e-05]), 'funcalls': 54, 'warnflag': 2, 'nit': 4, 'task': b'ABNORMAL_TERMINATION_IN_LNSRCH'}\n",
      "  \" state: %s\" % convergence_dict)\n"
     ]
    },
    {
     "name": "stdout",
     "output_type": "stream",
     "text": [
      "1.07386061392\n"
     ]
    },
    {
     "name": "stderr",
     "output_type": "stream",
     "text": [
      "/Users/tsuzuki/anaconda3/lib/python3.4/site-packages/sklearn/gaussian_process/gpr.py:427: UserWarning: fmin_l_bfgs_b terminated abnormally with the  state: {'grad': array([ -4.24771533e-05]), 'funcalls': 50, 'warnflag': 2, 'nit': 5, 'task': b'ABNORMAL_TERMINATION_IN_LNSRCH'}\n",
      "  \" state: %s\" % convergence_dict)\n"
     ]
    },
    {
     "name": "stdout",
     "output_type": "stream",
     "text": [
      "1.06972438114\n"
     ]
    },
    {
     "name": "stderr",
     "output_type": "stream",
     "text": [
      "/Users/tsuzuki/anaconda3/lib/python3.4/site-packages/sklearn/gaussian_process/gpr.py:427: UserWarning: fmin_l_bfgs_b terminated abnormally with the  state: {'grad': array([ -3.62755491e-05]), 'funcalls': 48, 'warnflag': 2, 'nit': 5, 'task': b'ABNORMAL_TERMINATION_IN_LNSRCH'}\n",
      "  \" state: %s\" % convergence_dict)\n"
     ]
    },
    {
     "name": "stdout",
     "output_type": "stream",
     "text": [
      "1.05755149098\n"
     ]
    },
    {
     "name": "stderr",
     "output_type": "stream",
     "text": [
      "/Users/tsuzuki/anaconda3/lib/python3.4/site-packages/sklearn/gaussian_process/gpr.py:427: UserWarning: fmin_l_bfgs_b terminated abnormally with the  state: {'grad': array([-0.0009911]), 'funcalls': 51, 'warnflag': 2, 'nit': 3, 'task': b'ABNORMAL_TERMINATION_IN_LNSRCH'}\n",
      "  \" state: %s\" % convergence_dict)\n",
      "/Users/tsuzuki/anaconda3/lib/python3.4/site-packages/sklearn/gaussian_process/gpr.py:427: UserWarning: fmin_l_bfgs_b terminated abnormally with the  state: {'grad': array([ -1.40145347e-05]), 'funcalls': 55, 'warnflag': 2, 'nit': 5, 'task': b'ABNORMAL_TERMINATION_IN_LNSRCH'}\n",
      "  \" state: %s\" % convergence_dict)\n"
     ]
    },
    {
     "name": "stdout",
     "output_type": "stream",
     "text": [
      "1.05755149098\n"
     ]
    },
    {
     "name": "stderr",
     "output_type": "stream",
     "text": [
      "/Users/tsuzuki/anaconda3/lib/python3.4/site-packages/sklearn/gaussian_process/gpr.py:427: UserWarning: fmin_l_bfgs_b terminated abnormally with the  state: {'grad': array([ -2.81619621e-05]), 'funcalls': 57, 'warnflag': 2, 'nit': 4, 'task': b'ABNORMAL_TERMINATION_IN_LNSRCH'}\n",
      "  \" state: %s\" % convergence_dict)\n",
      "/Users/tsuzuki/anaconda3/lib/python3.4/site-packages/sklearn/gaussian_process/gpr.py:427: UserWarning: fmin_l_bfgs_b terminated abnormally with the  state: {'grad': array([  1.47961109e-05]), 'funcalls': 54, 'warnflag': 2, 'nit': 5, 'task': b'ABNORMAL_TERMINATION_IN_LNSRCH'}\n",
      "  \" state: %s\" % convergence_dict)\n",
      "/Users/tsuzuki/anaconda3/lib/python3.4/site-packages/sklearn/gaussian_process/gpr.py:427: UserWarning: fmin_l_bfgs_b terminated abnormally with the  state: {'grad': array([ 0.00011027]), 'funcalls': 53, 'warnflag': 2, 'nit': 4, 'task': b'ABNORMAL_TERMINATION_IN_LNSRCH'}\n",
      "  \" state: %s\" % convergence_dict)\n"
     ]
    },
    {
     "name": "stdout",
     "output_type": "stream",
     "text": [
      "1.05154892353\n",
      "1.04840127001\n"
     ]
    },
    {
     "name": "stderr",
     "output_type": "stream",
     "text": [
      "/Users/tsuzuki/anaconda3/lib/python3.4/site-packages/sklearn/gaussian_process/gpr.py:427: UserWarning: fmin_l_bfgs_b terminated abnormally with the  state: {'grad': array([ 0.00019396]), 'funcalls': 50, 'warnflag': 2, 'nit': 3, 'task': b'ABNORMAL_TERMINATION_IN_LNSRCH'}\n",
      "  \" state: %s\" % convergence_dict)\n"
     ]
    },
    {
     "name": "stdout",
     "output_type": "stream",
     "text": [
      "1.04782455542\n"
     ]
    },
    {
     "name": "stderr",
     "output_type": "stream",
     "text": [
      "/Users/tsuzuki/anaconda3/lib/python3.4/site-packages/sklearn/gaussian_process/gpr.py:427: UserWarning: fmin_l_bfgs_b terminated abnormally with the  state: {'grad': array([ -4.07307895e-05]), 'funcalls': 51, 'warnflag': 2, 'nit': 5, 'task': b'ABNORMAL_TERMINATION_IN_LNSRCH'}\n",
      "  \" state: %s\" % convergence_dict)\n"
     ]
    },
    {
     "name": "stdout",
     "output_type": "stream",
     "text": [
      "1.04673051698\n"
     ]
    },
    {
     "name": "stderr",
     "output_type": "stream",
     "text": [
      "/Users/tsuzuki/anaconda3/lib/python3.4/site-packages/sklearn/gaussian_process/gpr.py:427: UserWarning: fmin_l_bfgs_b terminated abnormally with the  state: {'grad': array([  8.75401873e-05]), 'funcalls': 53, 'warnflag': 2, 'nit': 4, 'task': b'ABNORMAL_TERMINATION_IN_LNSRCH'}\n",
      "  \" state: %s\" % convergence_dict)\n",
      "/Users/tsuzuki/anaconda3/lib/python3.4/site-packages/sklearn/gaussian_process/gpr.py:308: UserWarning: Predicted variances smaller than 0. Setting those variances to 0.\n",
      "  warnings.warn(\"Predicted variances smaller than 0. \"\n",
      "/Users/tsuzuki/anaconda3/lib/python3.4/site-packages/sklearn/gaussian_process/gpr.py:427: UserWarning: fmin_l_bfgs_b terminated abnormally with the  state: {'grad': array([ -4.94960696e-05]), 'funcalls': 51, 'warnflag': 2, 'nit': 5, 'task': b'ABNORMAL_TERMINATION_IN_LNSRCH'}\n",
      "  \" state: %s\" % convergence_dict)\n",
      "/Users/tsuzuki/anaconda3/lib/python3.4/site-packages/sklearn/gaussian_process/gpr.py:427: UserWarning: fmin_l_bfgs_b terminated abnormally with the  state: {'grad': array([ 0.00039991]), 'funcalls': 58, 'warnflag': 2, 'nit': 6, 'task': b'ABNORMAL_TERMINATION_IN_LNSRCH'}\n",
      "  \" state: %s\" % convergence_dict)\n"
     ]
    },
    {
     "name": "stdout",
     "output_type": "stream",
     "text": [
      "1.04664764918\n"
     ]
    },
    {
     "name": "stderr",
     "output_type": "stream",
     "text": [
      "/Users/tsuzuki/anaconda3/lib/python3.4/site-packages/sklearn/gaussian_process/gpr.py:427: UserWarning: fmin_l_bfgs_b terminated abnormally with the  state: {'grad': array([  1.21993944e-05]), 'funcalls': 53, 'warnflag': 2, 'nit': 4, 'task': b'ABNORMAL_TERMINATION_IN_LNSRCH'}\n",
      "  \" state: %s\" % convergence_dict)\n",
      "/Users/tsuzuki/anaconda3/lib/python3.4/site-packages/sklearn/gaussian_process/gpr.py:427: UserWarning: fmin_l_bfgs_b terminated abnormally with the  state: {'grad': array([-58.97516955]), 'funcalls': 21, 'warnflag': 2, 'nit': 0, 'task': b'ABNORMAL_TERMINATION_IN_LNSRCH'}\n",
      "  \" state: %s\" % convergence_dict)\n",
      "/Users/tsuzuki/anaconda3/lib/python3.4/site-packages/sklearn/gaussian_process/gpr.py:427: UserWarning: fmin_l_bfgs_b terminated abnormally with the  state: {'grad': array([-0.00216566]), 'funcalls': 62, 'warnflag': 2, 'nit': 4, 'task': b'ABNORMAL_TERMINATION_IN_LNSRCH'}\n",
      "  \" state: %s\" % convergence_dict)\n",
      "/Users/tsuzuki/anaconda3/lib/python3.4/site-packages/sklearn/gaussian_process/gpr.py:427: UserWarning: fmin_l_bfgs_b terminated abnormally with the  state: {'grad': array([-0.00108665]), 'funcalls': 68, 'warnflag': 2, 'nit': 7, 'task': b'ABNORMAL_TERMINATION_IN_LNSRCH'}\n",
      "  \" state: %s\" % convergence_dict)\n",
      "/Users/tsuzuki/anaconda3/lib/python3.4/site-packages/sklearn/gaussian_process/gpr.py:427: UserWarning: fmin_l_bfgs_b terminated abnormally with the  state: {'grad': array([ 0.0002626]), 'funcalls': 55, 'warnflag': 2, 'nit': 5, 'task': b'ABNORMAL_TERMINATION_IN_LNSRCH'}\n",
      "  \" state: %s\" % convergence_dict)\n",
      "/Users/tsuzuki/anaconda3/lib/python3.4/site-packages/sklearn/gaussian_process/gpr.py:427: UserWarning: fmin_l_bfgs_b terminated abnormally with the  state: {'grad': array([ 0.00039626]), 'funcalls': 57, 'warnflag': 2, 'nit': 7, 'task': b'ABNORMAL_TERMINATION_IN_LNSRCH'}\n",
      "  \" state: %s\" % convergence_dict)\n",
      "/Users/tsuzuki/anaconda3/lib/python3.4/site-packages/sklearn/gaussian_process/gpr.py:427: UserWarning: fmin_l_bfgs_b terminated abnormally with the  state: {'grad': array([ 0.00273424]), 'funcalls': 66, 'warnflag': 2, 'nit': 7, 'task': b'ABNORMAL_TERMINATION_IN_LNSRCH'}\n",
      "  \" state: %s\" % convergence_dict)\n"
     ]
    },
    {
     "name": "stdout",
     "output_type": "stream",
     "text": [
      "1.03560331781\n"
     ]
    },
    {
     "name": "stderr",
     "output_type": "stream",
     "text": [
      "/Users/tsuzuki/anaconda3/lib/python3.4/site-packages/sklearn/gaussian_process/gpr.py:427: UserWarning: fmin_l_bfgs_b terminated abnormally with the  state: {'grad': array([-0.00039254]), 'funcalls': 51, 'warnflag': 2, 'nit': 4, 'task': b'ABNORMAL_TERMINATION_IN_LNSRCH'}\n",
      "  \" state: %s\" % convergence_dict)\n",
      "/Users/tsuzuki/anaconda3/lib/python3.4/site-packages/sklearn/gaussian_process/gpr.py:427: UserWarning: fmin_l_bfgs_b terminated abnormally with the  state: {'grad': array([-13.89072487]), 'funcalls': 35, 'warnflag': 2, 'nit': 2, 'task': b'ABNORMAL_TERMINATION_IN_LNSRCH'}\n",
      "  \" state: %s\" % convergence_dict)\n",
      "/Users/tsuzuki/anaconda3/lib/python3.4/site-packages/sklearn/gaussian_process/gpr.py:427: UserWarning: fmin_l_bfgs_b terminated abnormally with the  state: {'grad': array([ 0.00023887]), 'funcalls': 50, 'warnflag': 2, 'nit': 3, 'task': b'ABNORMAL_TERMINATION_IN_LNSRCH'}\n",
      "  \" state: %s\" % convergence_dict)\n",
      "/Users/tsuzuki/anaconda3/lib/python3.4/site-packages/sklearn/gaussian_process/gpr.py:427: UserWarning: fmin_l_bfgs_b terminated abnormally with the  state: {'grad': array([  6.35278593e-05]), 'funcalls': 60, 'warnflag': 2, 'nit': 3, 'task': b'ABNORMAL_TERMINATION_IN_LNSRCH'}\n",
      "  \" state: %s\" % convergence_dict)\n",
      "/Users/tsuzuki/anaconda3/lib/python3.4/site-packages/sklearn/gaussian_process/gpr.py:427: UserWarning: fmin_l_bfgs_b terminated abnormally with the  state: {'grad': array([ -6.64029767e-05]), 'funcalls': 61, 'warnflag': 2, 'nit': 5, 'task': b'ABNORMAL_TERMINATION_IN_LNSRCH'}\n",
      "  \" state: %s\" % convergence_dict)\n",
      "/Users/tsuzuki/anaconda3/lib/python3.4/site-packages/sklearn/gaussian_process/gpr.py:427: UserWarning: fmin_l_bfgs_b terminated abnormally with the  state: {'grad': array([ -7.22750556e-05]), 'funcalls': 82, 'warnflag': 2, 'nit': 7, 'task': b'ABNORMAL_TERMINATION_IN_LNSRCH'}\n",
      "  \" state: %s\" % convergence_dict)\n",
      "/Users/tsuzuki/anaconda3/lib/python3.4/site-packages/sklearn/gaussian_process/gpr.py:427: UserWarning: fmin_l_bfgs_b terminated abnormally with the  state: {'grad': array([-34.13726865]), 'funcalls': 49, 'warnflag': 2, 'nit': 2, 'task': b'ABNORMAL_TERMINATION_IN_LNSRCH'}\n",
      "  \" state: %s\" % convergence_dict)\n",
      "/Users/tsuzuki/anaconda3/lib/python3.4/site-packages/sklearn/gaussian_process/gpr.py:427: UserWarning: fmin_l_bfgs_b terminated abnormally with the  state: {'grad': array([ 0.0004097]), 'funcalls': 71, 'warnflag': 2, 'nit': 4, 'task': b'ABNORMAL_TERMINATION_IN_LNSRCH'}\n",
      "  \" state: %s\" % convergence_dict)\n",
      "/Users/tsuzuki/anaconda3/lib/python3.4/site-packages/sklearn/gaussian_process/gpr.py:427: UserWarning: fmin_l_bfgs_b terminated abnormally with the  state: {'grad': array([-53.05895253]), 'funcalls': 46, 'warnflag': 2, 'nit': 3, 'task': b'ABNORMAL_TERMINATION_IN_LNSRCH'}\n",
      "  \" state: %s\" % convergence_dict)\n",
      "/Users/tsuzuki/anaconda3/lib/python3.4/site-packages/sklearn/gaussian_process/gpr.py:427: UserWarning: fmin_l_bfgs_b terminated abnormally with the  state: {'grad': array([ -6.24685781e-05]), 'funcalls': 94, 'warnflag': 2, 'nit': 7, 'task': b'ABNORMAL_TERMINATION_IN_LNSRCH'}\n",
      "  \" state: %s\" % convergence_dict)\n",
      "/Users/tsuzuki/anaconda3/lib/python3.4/site-packages/sklearn/gaussian_process/gpr.py:427: UserWarning: fmin_l_bfgs_b terminated abnormally with the  state: {'grad': array([ 0.00022914]), 'funcalls': 61, 'warnflag': 2, 'nit': 5, 'task': b'ABNORMAL_TERMINATION_IN_LNSRCH'}\n",
      "  \" state: %s\" % convergence_dict)\n",
      "/Users/tsuzuki/anaconda3/lib/python3.4/site-packages/sklearn/gaussian_process/gpr.py:427: UserWarning: fmin_l_bfgs_b terminated abnormally with the  state: {'grad': array([-0.01269317]), 'funcalls': 49, 'warnflag': 2, 'nit': 4, 'task': b'ABNORMAL_TERMINATION_IN_LNSRCH'}\n",
      "  \" state: %s\" % convergence_dict)\n",
      "/Users/tsuzuki/anaconda3/lib/python3.4/site-packages/sklearn/gaussian_process/gpr.py:427: UserWarning: fmin_l_bfgs_b terminated abnormally with the  state: {'grad': array([ 0.00023935]), 'funcalls': 88, 'warnflag': 2, 'nit': 5, 'task': b'ABNORMAL_TERMINATION_IN_LNSRCH'}\n",
      "  \" state: %s\" % convergence_dict)\n"
     ]
    },
    {
     "name": "stdout",
     "output_type": "stream",
     "text": [
      "1.02990639594\n"
     ]
    },
    {
     "name": "stderr",
     "output_type": "stream",
     "text": [
      "/Users/tsuzuki/anaconda3/lib/python3.4/site-packages/sklearn/gaussian_process/gpr.py:427: UserWarning: fmin_l_bfgs_b terminated abnormally with the  state: {'grad': array([ -6.02370128e-05]), 'funcalls': 56, 'warnflag': 2, 'nit': 5, 'task': b'ABNORMAL_TERMINATION_IN_LNSRCH'}\n",
      "  \" state: %s\" % convergence_dict)\n",
      "/Users/tsuzuki/anaconda3/lib/python3.4/site-packages/sklearn/gaussian_process/gpr.py:427: UserWarning: fmin_l_bfgs_b terminated abnormally with the  state: {'grad': array([-0.00381217]), 'funcalls': 67, 'warnflag': 2, 'nit': 5, 'task': b'ABNORMAL_TERMINATION_IN_LNSRCH'}\n",
      "  \" state: %s\" % convergence_dict)\n",
      "/Users/tsuzuki/anaconda3/lib/python3.4/site-packages/sklearn/gaussian_process/gpr.py:427: UserWarning: fmin_l_bfgs_b terminated abnormally with the  state: {'grad': array([ -3.38380923e-05]), 'funcalls': 52, 'warnflag': 2, 'nit': 4, 'task': b'ABNORMAL_TERMINATION_IN_LNSRCH'}\n",
      "  \" state: %s\" % convergence_dict)\n",
      "/Users/tsuzuki/anaconda3/lib/python3.4/site-packages/sklearn/gaussian_process/gpr.py:427: UserWarning: fmin_l_bfgs_b terminated abnormally with the  state: {'grad': array([ -6.53852476e-05]), 'funcalls': 69, 'warnflag': 2, 'nit': 6, 'task': b'ABNORMAL_TERMINATION_IN_LNSRCH'}\n",
      "  \" state: %s\" % convergence_dict)\n",
      "/Users/tsuzuki/anaconda3/lib/python3.4/site-packages/sklearn/gaussian_process/gpr.py:427: UserWarning: fmin_l_bfgs_b terminated abnormally with the  state: {'grad': array([ -7.12768768e-05]), 'funcalls': 69, 'warnflag': 2, 'nit': 6, 'task': b'ABNORMAL_TERMINATION_IN_LNSRCH'}\n",
      "  \" state: %s\" % convergence_dict)\n",
      "/Users/tsuzuki/anaconda3/lib/python3.4/site-packages/sklearn/gaussian_process/gpr.py:427: UserWarning: fmin_l_bfgs_b terminated abnormally with the  state: {'grad': array([-62.16289719]), 'funcalls': 53, 'warnflag': 2, 'nit': 2, 'task': b'ABNORMAL_TERMINATION_IN_LNSRCH'}\n",
      "  \" state: %s\" % convergence_dict)\n",
      "/Users/tsuzuki/anaconda3/lib/python3.4/site-packages/sklearn/gaussian_process/gpr.py:427: UserWarning: fmin_l_bfgs_b terminated abnormally with the  state: {'grad': array([-32.94062415]), 'funcalls': 36, 'warnflag': 2, 'nit': 3, 'task': b'ABNORMAL_TERMINATION_IN_LNSRCH'}\n",
      "  \" state: %s\" % convergence_dict)\n",
      "/Users/tsuzuki/anaconda3/lib/python3.4/site-packages/sklearn/gaussian_process/gpr.py:427: UserWarning: fmin_l_bfgs_b terminated abnormally with the  state: {'grad': array([ -6.52885270e-05]), 'funcalls': 53, 'warnflag': 2, 'nit': 4, 'task': b'ABNORMAL_TERMINATION_IN_LNSRCH'}\n",
      "  \" state: %s\" % convergence_dict)\n"
     ]
    },
    {
     "name": "stdout",
     "output_type": "stream",
     "text": [
      "1.02757074071\n"
     ]
    },
    {
     "name": "stderr",
     "output_type": "stream",
     "text": [
      "/Users/tsuzuki/anaconda3/lib/python3.4/site-packages/sklearn/gaussian_process/gpr.py:427: UserWarning: fmin_l_bfgs_b terminated abnormally with the  state: {'grad': array([ -6.82469466e-05]), 'funcalls': 68, 'warnflag': 2, 'nit': 4, 'task': b'ABNORMAL_TERMINATION_IN_LNSRCH'}\n",
      "  \" state: %s\" % convergence_dict)\n"
     ]
    },
    {
     "ename": "KeyboardInterrupt",
     "evalue": "",
     "output_type": "error",
     "traceback": [
      "\u001b[0;31m---------------------------------------------------------------------------\u001b[0m",
      "\u001b[0;31mKeyboardInterrupt\u001b[0m                         Traceback (most recent call last)",
      "\u001b[0;32m<ipython-input-9-0cf170501ad9>\u001b[0m in \u001b[0;36m<module>\u001b[0;34m()\u001b[0m\n\u001b[1;32m     13\u001b[0m     \u001b[0;32mwhile\u001b[0m \u001b[0mmin_val\u001b[0m \u001b[0;34m>\u001b[0m \u001b[0;36m1\u001b[0m\u001b[0;34m:\u001b[0m\u001b[0;34m\u001b[0m\u001b[0m\n\u001b[1;32m     14\u001b[0m         \u001b[0mcount\u001b[0m\u001b[0;34m=\u001b[0m\u001b[0mcount\u001b[0m \u001b[0;34m+\u001b[0m \u001b[0;36m1\u001b[0m\u001b[0;34m\u001b[0m\u001b[0m\n\u001b[0;32m---> 15\u001b[0;31m         \u001b[0mvalue\u001b[0m \u001b[0;34m=\u001b[0m \u001b[0mbo\u001b[0m\u001b[0;34m.\u001b[0m\u001b[0mmaximize\u001b[0m\u001b[0;34m(\u001b[0m\u001b[0minit_points\u001b[0m\u001b[0;34m=\u001b[0m\u001b[0;36m1\u001b[0m\u001b[0;34m,\u001b[0m \u001b[0mn_iter\u001b[0m\u001b[0;34m=\u001b[0m\u001b[0;36m1\u001b[0m\u001b[0;34m,\u001b[0m \u001b[0macq\u001b[0m\u001b[0;34m=\u001b[0m\u001b[0;34m'mi'\u001b[0m\u001b[0;34m,\u001b[0m \u001b[0mkappa\u001b[0m\u001b[0;34m=\u001b[0m\u001b[0;36m3.29\u001b[0m\u001b[0;34m,\u001b[0m \u001b[0mvalue\u001b[0m\u001b[0;34m=\u001b[0m\u001b[0;32mTrue\u001b[0m\u001b[0;34m)\u001b[0m\u001b[0;34m\u001b[0m\u001b[0m\n\u001b[0m\u001b[1;32m     16\u001b[0m         \u001b[0;32mif\u001b[0m \u001b[0mmin_val\u001b[0m \u001b[0;34m>\u001b[0m \u001b[0;34m-\u001b[0m\u001b[0;36m1\u001b[0m\u001b[0;34m*\u001b[0m\u001b[0mvalue\u001b[0m\u001b[0;34m:\u001b[0m\u001b[0;34m\u001b[0m\u001b[0m\n\u001b[1;32m     17\u001b[0m             \u001b[0mmin_val\u001b[0m \u001b[0;34m=\u001b[0m\u001b[0;34m-\u001b[0m\u001b[0;36m1\u001b[0m\u001b[0;34m*\u001b[0m \u001b[0mvalue\u001b[0m\u001b[0;34m\u001b[0m\u001b[0m\n",
      "\u001b[0;32m/Users/tsuzuki/bayesopt_prototype/src/bayes_opt/bayesian_optimization.py\u001b[0m in \u001b[0;36mmaximize\u001b[0;34m(self, init_points, n_iter, acq, kappa, xi, value, **gp_params)\u001b[0m\n\u001b[1;32m    263\u001b[0m                         \u001b[0mgp\u001b[0m\u001b[0;34m=\u001b[0m\u001b[0mself\u001b[0m\u001b[0;34m.\u001b[0m\u001b[0mgp\u001b[0m\u001b[0;34m,\u001b[0m\u001b[0;34m\u001b[0m\u001b[0m\n\u001b[1;32m    264\u001b[0m                         \u001b[0my_max\u001b[0m\u001b[0;34m=\u001b[0m\u001b[0my_max\u001b[0m\u001b[0;34m,\u001b[0m\u001b[0;34m\u001b[0m\u001b[0m\n\u001b[0;32m--> 265\u001b[0;31m                         bounds=self.bounds)\n\u001b[0m\u001b[1;32m    266\u001b[0m \u001b[0;34m\u001b[0m\u001b[0m\n\u001b[1;32m    267\u001b[0m         \u001b[0;31m# Print new header\u001b[0m\u001b[0;34m\u001b[0m\u001b[0;34m\u001b[0m\u001b[0m\n",
      "\u001b[0;32m/Users/tsuzuki/bayesopt_prototype/src/bayes_opt/helpers.py\u001b[0m in \u001b[0;36macq_max\u001b[0;34m(ac, gp, y_max, bounds)\u001b[0m\n\u001b[1;32m     50\u001b[0m                        \u001b[0mx_try\u001b[0m\u001b[0;34m.\u001b[0m\u001b[0mreshape\u001b[0m\u001b[0;34m(\u001b[0m\u001b[0;36m1\u001b[0m\u001b[0;34m,\u001b[0m \u001b[0;34m-\u001b[0m\u001b[0;36m1\u001b[0m\u001b[0;34m)\u001b[0m\u001b[0;34m,\u001b[0m\u001b[0;34m\u001b[0m\u001b[0m\n\u001b[1;32m     51\u001b[0m                        \u001b[0mbounds\u001b[0m\u001b[0;34m=\u001b[0m\u001b[0mbounds\u001b[0m\u001b[0;34m,\u001b[0m\u001b[0;34m\u001b[0m\u001b[0m\n\u001b[0;32m---> 52\u001b[0;31m                        method=\"L-BFGS-B\")\n\u001b[0m\u001b[1;32m     53\u001b[0m \u001b[0;34m\u001b[0m\u001b[0m\n\u001b[1;32m     54\u001b[0m         \u001b[0;31m# Store it if better than previous minimum(maximum).\u001b[0m\u001b[0;34m\u001b[0m\u001b[0;34m\u001b[0m\u001b[0m\n",
      "\u001b[0;32m/Users/tsuzuki/anaconda3/lib/python3.4/site-packages/scipy/optimize/_minimize.py\u001b[0m in \u001b[0;36mminimize\u001b[0;34m(fun, x0, args, method, jac, hess, hessp, bounds, constraints, tol, callback, options)\u001b[0m\n\u001b[1;32m    425\u001b[0m     \u001b[0;32melif\u001b[0m \u001b[0mmeth\u001b[0m \u001b[0;34m==\u001b[0m \u001b[0;34m'l-bfgs-b'\u001b[0m\u001b[0;34m:\u001b[0m\u001b[0;34m\u001b[0m\u001b[0m\n\u001b[1;32m    426\u001b[0m         return _minimize_lbfgsb(fun, x0, args, jac, bounds,\n\u001b[0;32m--> 427\u001b[0;31m                                 callback=callback, **options)\n\u001b[0m\u001b[1;32m    428\u001b[0m     \u001b[0;32melif\u001b[0m \u001b[0mmeth\u001b[0m \u001b[0;34m==\u001b[0m \u001b[0;34m'tnc'\u001b[0m\u001b[0;34m:\u001b[0m\u001b[0;34m\u001b[0m\u001b[0m\n\u001b[1;32m    429\u001b[0m         return _minimize_tnc(fun, x0, args, jac, bounds, callback=callback,\n",
      "\u001b[0;32m/Users/tsuzuki/anaconda3/lib/python3.4/site-packages/scipy/optimize/lbfgsb.py\u001b[0m in \u001b[0;36m_minimize_lbfgsb\u001b[0;34m(fun, x0, args, jac, bounds, disp, maxcor, ftol, gtol, eps, maxfun, maxiter, iprint, callback, **unknown_options)\u001b[0m\n\u001b[1;32m    313\u001b[0m                 \u001b[0;31m# minimization routine wants f and g at the current x\u001b[0m\u001b[0;34m\u001b[0m\u001b[0;34m\u001b[0m\u001b[0m\n\u001b[1;32m    314\u001b[0m                 \u001b[0;31m# Overwrite f and g:\u001b[0m\u001b[0;34m\u001b[0m\u001b[0;34m\u001b[0m\u001b[0m\n\u001b[0;32m--> 315\u001b[0;31m                 \u001b[0mf\u001b[0m\u001b[0;34m,\u001b[0m \u001b[0mg\u001b[0m \u001b[0;34m=\u001b[0m \u001b[0mfunc_and_grad\u001b[0m\u001b[0;34m(\u001b[0m\u001b[0mx\u001b[0m\u001b[0;34m)\u001b[0m\u001b[0;34m\u001b[0m\u001b[0m\n\u001b[0m\u001b[1;32m    316\u001b[0m         \u001b[0;32melif\u001b[0m \u001b[0mtask_str\u001b[0m\u001b[0;34m.\u001b[0m\u001b[0mstartswith\u001b[0m\u001b[0;34m(\u001b[0m\u001b[0;34mb'NEW_X'\u001b[0m\u001b[0;34m)\u001b[0m\u001b[0;34m:\u001b[0m\u001b[0;34m\u001b[0m\u001b[0m\n\u001b[1;32m    317\u001b[0m             \u001b[0;31m# new iteration\u001b[0m\u001b[0;34m\u001b[0m\u001b[0;34m\u001b[0m\u001b[0m\n",
      "\u001b[0;32m/Users/tsuzuki/anaconda3/lib/python3.4/site-packages/scipy/optimize/lbfgsb.py\u001b[0m in \u001b[0;36mfunc_and_grad\u001b[0;34m(x)\u001b[0m\n\u001b[1;32m    260\u001b[0m         \u001b[0;32mdef\u001b[0m \u001b[0mfunc_and_grad\u001b[0m\u001b[0;34m(\u001b[0m\u001b[0mx\u001b[0m\u001b[0;34m)\u001b[0m\u001b[0;34m:\u001b[0m\u001b[0;34m\u001b[0m\u001b[0m\n\u001b[1;32m    261\u001b[0m             \u001b[0mf\u001b[0m \u001b[0;34m=\u001b[0m \u001b[0mfun\u001b[0m\u001b[0;34m(\u001b[0m\u001b[0mx\u001b[0m\u001b[0;34m,\u001b[0m \u001b[0;34m*\u001b[0m\u001b[0margs\u001b[0m\u001b[0;34m)\u001b[0m\u001b[0;34m\u001b[0m\u001b[0m\n\u001b[0;32m--> 262\u001b[0;31m             \u001b[0mg\u001b[0m \u001b[0;34m=\u001b[0m \u001b[0m_approx_fprime_helper\u001b[0m\u001b[0;34m(\u001b[0m\u001b[0mx\u001b[0m\u001b[0;34m,\u001b[0m \u001b[0mfun\u001b[0m\u001b[0;34m,\u001b[0m \u001b[0mepsilon\u001b[0m\u001b[0;34m,\u001b[0m \u001b[0margs\u001b[0m\u001b[0;34m=\u001b[0m\u001b[0margs\u001b[0m\u001b[0;34m,\u001b[0m \u001b[0mf0\u001b[0m\u001b[0;34m=\u001b[0m\u001b[0mf\u001b[0m\u001b[0;34m)\u001b[0m\u001b[0;34m\u001b[0m\u001b[0m\n\u001b[0m\u001b[1;32m    263\u001b[0m             \u001b[0;32mreturn\u001b[0m \u001b[0mf\u001b[0m\u001b[0;34m,\u001b[0m \u001b[0mg\u001b[0m\u001b[0;34m\u001b[0m\u001b[0m\n\u001b[1;32m    264\u001b[0m     \u001b[0;32melse\u001b[0m\u001b[0;34m:\u001b[0m\u001b[0;34m\u001b[0m\u001b[0m\n",
      "\u001b[0;32m/Users/tsuzuki/anaconda3/lib/python3.4/site-packages/scipy/optimize/optimize.py\u001b[0m in \u001b[0;36m_approx_fprime_helper\u001b[0;34m(xk, f, epsilon, args, f0)\u001b[0m\n\u001b[1;32m    554\u001b[0m         \u001b[0mei\u001b[0m\u001b[0;34m[\u001b[0m\u001b[0mk\u001b[0m\u001b[0;34m]\u001b[0m \u001b[0;34m=\u001b[0m \u001b[0;36m1.0\u001b[0m\u001b[0;34m\u001b[0m\u001b[0m\n\u001b[1;32m    555\u001b[0m         \u001b[0md\u001b[0m \u001b[0;34m=\u001b[0m \u001b[0mepsilon\u001b[0m \u001b[0;34m*\u001b[0m \u001b[0mei\u001b[0m\u001b[0;34m\u001b[0m\u001b[0m\n\u001b[0;32m--> 556\u001b[0;31m         \u001b[0mgrad\u001b[0m\u001b[0;34m[\u001b[0m\u001b[0mk\u001b[0m\u001b[0;34m]\u001b[0m \u001b[0;34m=\u001b[0m \u001b[0;34m(\u001b[0m\u001b[0mf\u001b[0m\u001b[0;34m(\u001b[0m\u001b[0;34m*\u001b[0m\u001b[0;34m(\u001b[0m\u001b[0;34m(\u001b[0m\u001b[0mxk\u001b[0m \u001b[0;34m+\u001b[0m \u001b[0md\u001b[0m\u001b[0;34m,\u001b[0m\u001b[0;34m)\u001b[0m \u001b[0;34m+\u001b[0m \u001b[0margs\u001b[0m\u001b[0;34m)\u001b[0m\u001b[0;34m)\u001b[0m \u001b[0;34m-\u001b[0m \u001b[0mf0\u001b[0m\u001b[0;34m)\u001b[0m \u001b[0;34m/\u001b[0m \u001b[0md\u001b[0m\u001b[0;34m[\u001b[0m\u001b[0mk\u001b[0m\u001b[0;34m]\u001b[0m\u001b[0;34m\u001b[0m\u001b[0m\n\u001b[0m\u001b[1;32m    557\u001b[0m         \u001b[0mei\u001b[0m\u001b[0;34m[\u001b[0m\u001b[0mk\u001b[0m\u001b[0;34m]\u001b[0m \u001b[0;34m=\u001b[0m \u001b[0;36m0.0\u001b[0m\u001b[0;34m\u001b[0m\u001b[0m\n\u001b[1;32m    558\u001b[0m     \u001b[0;32mreturn\u001b[0m \u001b[0mgrad\u001b[0m\u001b[0;34m\u001b[0m\u001b[0m\n",
      "\u001b[0;32m/Users/tsuzuki/anaconda3/lib/python3.4/site-packages/scipy/optimize/optimize.py\u001b[0m in \u001b[0;36mfunction_wrapper\u001b[0;34m(*wrapper_args)\u001b[0m\n\u001b[1;32m    280\u001b[0m     \u001b[0;32mdef\u001b[0m \u001b[0mfunction_wrapper\u001b[0m\u001b[0;34m(\u001b[0m\u001b[0;34m*\u001b[0m\u001b[0mwrapper_args\u001b[0m\u001b[0;34m)\u001b[0m\u001b[0;34m:\u001b[0m\u001b[0;34m\u001b[0m\u001b[0m\n\u001b[1;32m    281\u001b[0m         \u001b[0mncalls\u001b[0m\u001b[0;34m[\u001b[0m\u001b[0;36m0\u001b[0m\u001b[0;34m]\u001b[0m \u001b[0;34m+=\u001b[0m \u001b[0;36m1\u001b[0m\u001b[0;34m\u001b[0m\u001b[0m\n\u001b[0;32m--> 282\u001b[0;31m         \u001b[0;32mreturn\u001b[0m \u001b[0mfunction\u001b[0m\u001b[0;34m(\u001b[0m\u001b[0;34m*\u001b[0m\u001b[0;34m(\u001b[0m\u001b[0mwrapper_args\u001b[0m \u001b[0;34m+\u001b[0m \u001b[0margs\u001b[0m\u001b[0;34m)\u001b[0m\u001b[0;34m)\u001b[0m\u001b[0;34m\u001b[0m\u001b[0m\n\u001b[0m\u001b[1;32m    283\u001b[0m \u001b[0;34m\u001b[0m\u001b[0m\n\u001b[1;32m    284\u001b[0m     \u001b[0;32mreturn\u001b[0m \u001b[0mncalls\u001b[0m\u001b[0;34m,\u001b[0m \u001b[0mfunction_wrapper\u001b[0m\u001b[0;34m\u001b[0m\u001b[0m\n",
      "\u001b[0;32m/Users/tsuzuki/bayesopt_prototype/src/bayes_opt/helpers.py\u001b[0m in \u001b[0;36m<lambda>\u001b[0;34m(x)\u001b[0m\n\u001b[1;32m     47\u001b[0m     \u001b[0;32mfor\u001b[0m \u001b[0mx_try\u001b[0m \u001b[0;32min\u001b[0m \u001b[0mx_seeds\u001b[0m\u001b[0;34m:\u001b[0m\u001b[0;34m\u001b[0m\u001b[0m\n\u001b[1;32m     48\u001b[0m         \u001b[0;31m# Find the minimum of minus the acquisition function\u001b[0m\u001b[0;34m\u001b[0m\u001b[0;34m\u001b[0m\u001b[0m\n\u001b[0;32m---> 49\u001b[0;31m         res = minimize(lambda x: -ac(x.reshape(1, -1), gp=gp, y_max=y_max),\n\u001b[0m\u001b[1;32m     50\u001b[0m                        \u001b[0mx_try\u001b[0m\u001b[0;34m.\u001b[0m\u001b[0mreshape\u001b[0m\u001b[0;34m(\u001b[0m\u001b[0;36m1\u001b[0m\u001b[0;34m,\u001b[0m \u001b[0;34m-\u001b[0m\u001b[0;36m1\u001b[0m\u001b[0;34m)\u001b[0m\u001b[0;34m,\u001b[0m\u001b[0;34m\u001b[0m\u001b[0m\n\u001b[1;32m     51\u001b[0m                        \u001b[0mbounds\u001b[0m\u001b[0;34m=\u001b[0m\u001b[0mbounds\u001b[0m\u001b[0;34m,\u001b[0m\u001b[0;34m\u001b[0m\u001b[0m\n",
      "\u001b[0;32m/Users/tsuzuki/bayesopt_prototype/src/bayes_opt/helpers.py\u001b[0m in \u001b[0;36mutility\u001b[0;34m(self, x, gp, y_max)\u001b[0m\n\u001b[1;32m     95\u001b[0m             \u001b[0;32mreturn\u001b[0m \u001b[0mself\u001b[0m\u001b[0;34m.\u001b[0m\u001b[0m_poi\u001b[0m\u001b[0;34m(\u001b[0m\u001b[0mx\u001b[0m\u001b[0;34m,\u001b[0m \u001b[0mgp\u001b[0m\u001b[0;34m,\u001b[0m \u001b[0my_max\u001b[0m\u001b[0;34m,\u001b[0m \u001b[0mself\u001b[0m\u001b[0;34m.\u001b[0m\u001b[0mxi\u001b[0m\u001b[0;34m)\u001b[0m\u001b[0;34m\u001b[0m\u001b[0m\n\u001b[1;32m     96\u001b[0m         \u001b[0;32mif\u001b[0m \u001b[0mself\u001b[0m\u001b[0;34m.\u001b[0m\u001b[0mkind\u001b[0m \u001b[0;34m==\u001b[0m \u001b[0;34m'mi'\u001b[0m\u001b[0;34m:\u001b[0m\u001b[0;34m\u001b[0m\u001b[0m\n\u001b[0;32m---> 97\u001b[0;31m             \u001b[0;32mreturn\u001b[0m \u001b[0mself\u001b[0m\u001b[0;34m.\u001b[0m\u001b[0m_mi\u001b[0m\u001b[0;34m(\u001b[0m\u001b[0mself\u001b[0m\u001b[0;34m,\u001b[0m \u001b[0mx\u001b[0m\u001b[0;34m,\u001b[0m \u001b[0mgp\u001b[0m\u001b[0;34m)\u001b[0m\u001b[0;34m\u001b[0m\u001b[0m\n\u001b[0m\u001b[1;32m     98\u001b[0m \u001b[0;34m\u001b[0m\u001b[0m\n\u001b[1;32m     99\u001b[0m     \u001b[0;34m@\u001b[0m\u001b[0mstaticmethod\u001b[0m\u001b[0;34m\u001b[0m\u001b[0m\n",
      "\u001b[0;32m/Users/tsuzuki/bayesopt_prototype/src/bayes_opt/helpers.py\u001b[0m in \u001b[0;36m_mi\u001b[0;34m(self, x, gp)\u001b[0m\n\u001b[1;32m    117\u001b[0m     \u001b[0;32mdef\u001b[0m \u001b[0m_mi\u001b[0m\u001b[0;34m(\u001b[0m\u001b[0mself\u001b[0m\u001b[0;34m,\u001b[0m \u001b[0mx\u001b[0m\u001b[0;34m,\u001b[0m \u001b[0mgp\u001b[0m \u001b[0;34m)\u001b[0m\u001b[0;34m:\u001b[0m\u001b[0;34m\u001b[0m\u001b[0m\n\u001b[1;32m    118\u001b[0m         \u001b[0mmean\u001b[0m\u001b[0;34m,\u001b[0m \u001b[0mstd\u001b[0m \u001b[0;34m=\u001b[0m \u001b[0mgp\u001b[0m\u001b[0;34m.\u001b[0m\u001b[0mpredict\u001b[0m\u001b[0;34m(\u001b[0m\u001b[0mx\u001b[0m\u001b[0;34m,\u001b[0m \u001b[0mreturn_std\u001b[0m\u001b[0;34m=\u001b[0m\u001b[0;32mTrue\u001b[0m\u001b[0;34m)\u001b[0m\u001b[0;34m\u001b[0m\u001b[0m\n\u001b[0;32m--> 119\u001b[0;31m         \u001b[0mphi\u001b[0m \u001b[0;34m=\u001b[0m \u001b[0mnp\u001b[0m\u001b[0;34m.\u001b[0m\u001b[0msqrt\u001b[0m\u001b[0;34m(\u001b[0m\u001b[0mstd\u001b[0m\u001b[0;34m**\u001b[0m\u001b[0;36m2\u001b[0m \u001b[0;34m+\u001b[0m \u001b[0mnp\u001b[0m\u001b[0;34m.\u001b[0m\u001b[0msum\u001b[0m\u001b[0;34m(\u001b[0m\u001b[0mself\u001b[0m\u001b[0;34m.\u001b[0m\u001b[0mhist_var\u001b[0m\u001b[0;34m)\u001b[0m\u001b[0;34m)\u001b[0m \u001b[0;34m-\u001b[0m \u001b[0mnp\u001b[0m\u001b[0;34m.\u001b[0m\u001b[0msqrt\u001b[0m\u001b[0;34m(\u001b[0m\u001b[0mnp\u001b[0m\u001b[0;34m.\u001b[0m\u001b[0msum\u001b[0m\u001b[0;34m(\u001b[0m\u001b[0mself\u001b[0m\u001b[0;34m.\u001b[0m\u001b[0mhist_var\u001b[0m\u001b[0;34m)\u001b[0m\u001b[0;34m)\u001b[0m\u001b[0;34m\u001b[0m\u001b[0m\n\u001b[0m\u001b[1;32m    120\u001b[0m         \u001b[0mself\u001b[0m\u001b[0;34m.\u001b[0m\u001b[0mhist_var\u001b[0m \u001b[0;34m=\u001b[0m \u001b[0mnp\u001b[0m\u001b[0;34m.\u001b[0m\u001b[0mappend\u001b[0m\u001b[0;34m(\u001b[0m\u001b[0mself\u001b[0m\u001b[0;34m.\u001b[0m\u001b[0mhist_var\u001b[0m\u001b[0;34m,\u001b[0m \u001b[0;34m[\u001b[0m\u001b[0mstd\u001b[0m\u001b[0;34m**\u001b[0m\u001b[0;36m2\u001b[0m\u001b[0;34m]\u001b[0m\u001b[0;34m)\u001b[0m\u001b[0;34m\u001b[0m\u001b[0m\n\u001b[1;32m    121\u001b[0m         \u001b[0;32mreturn\u001b[0m \u001b[0mmean\u001b[0m \u001b[0;34m+\u001b[0m \u001b[0mself\u001b[0m\u001b[0;34m.\u001b[0m\u001b[0mkappa\u001b[0m \u001b[0;34m*\u001b[0m \u001b[0mphi\u001b[0m\u001b[0;34m\u001b[0m\u001b[0m\n",
      "\u001b[0;32m/Users/tsuzuki/anaconda3/lib/python3.4/site-packages/numpy/core/fromnumeric.py\u001b[0m in \u001b[0;36msum\u001b[0;34m(a, axis, dtype, out, keepdims)\u001b[0m\n\u001b[1;32m   1722\u001b[0m     \u001b[0;32melse\u001b[0m\u001b[0;34m:\u001b[0m\u001b[0;34m\u001b[0m\u001b[0m\n\u001b[1;32m   1723\u001b[0m         return _methods._sum(a, axis=axis, dtype=dtype,\n\u001b[0;32m-> 1724\u001b[0;31m                             out=out, keepdims=keepdims)\n\u001b[0m\u001b[1;32m   1725\u001b[0m \u001b[0;34m\u001b[0m\u001b[0m\n\u001b[1;32m   1726\u001b[0m \u001b[0;32mdef\u001b[0m \u001b[0mproduct\u001b[0m \u001b[0;34m(\u001b[0m\u001b[0ma\u001b[0m\u001b[0;34m,\u001b[0m \u001b[0maxis\u001b[0m\u001b[0;34m=\u001b[0m\u001b[0;32mNone\u001b[0m\u001b[0;34m,\u001b[0m \u001b[0mdtype\u001b[0m\u001b[0;34m=\u001b[0m\u001b[0;32mNone\u001b[0m\u001b[0;34m,\u001b[0m \u001b[0mout\u001b[0m\u001b[0;34m=\u001b[0m\u001b[0;32mNone\u001b[0m\u001b[0;34m,\u001b[0m \u001b[0mkeepdims\u001b[0m\u001b[0;34m=\u001b[0m\u001b[0;32mFalse\u001b[0m\u001b[0;34m)\u001b[0m\u001b[0;34m:\u001b[0m\u001b[0;34m\u001b[0m\u001b[0m\n",
      "\u001b[0;32m/Users/tsuzuki/anaconda3/lib/python3.4/site-packages/numpy/core/_methods.py\u001b[0m in \u001b[0;36m_sum\u001b[0;34m(a, axis, dtype, out, keepdims)\u001b[0m\n\u001b[1;32m     30\u001b[0m \u001b[0;34m\u001b[0m\u001b[0m\n\u001b[1;32m     31\u001b[0m \u001b[0;32mdef\u001b[0m \u001b[0m_sum\u001b[0m\u001b[0;34m(\u001b[0m\u001b[0ma\u001b[0m\u001b[0;34m,\u001b[0m \u001b[0maxis\u001b[0m\u001b[0;34m=\u001b[0m\u001b[0;32mNone\u001b[0m\u001b[0;34m,\u001b[0m \u001b[0mdtype\u001b[0m\u001b[0;34m=\u001b[0m\u001b[0;32mNone\u001b[0m\u001b[0;34m,\u001b[0m \u001b[0mout\u001b[0m\u001b[0;34m=\u001b[0m\u001b[0;32mNone\u001b[0m\u001b[0;34m,\u001b[0m \u001b[0mkeepdims\u001b[0m\u001b[0;34m=\u001b[0m\u001b[0;32mFalse\u001b[0m\u001b[0;34m)\u001b[0m\u001b[0;34m:\u001b[0m\u001b[0;34m\u001b[0m\u001b[0m\n\u001b[0;32m---> 32\u001b[0;31m     \u001b[0;32mreturn\u001b[0m \u001b[0mumr_sum\u001b[0m\u001b[0;34m(\u001b[0m\u001b[0ma\u001b[0m\u001b[0;34m,\u001b[0m \u001b[0maxis\u001b[0m\u001b[0;34m,\u001b[0m \u001b[0mdtype\u001b[0m\u001b[0;34m,\u001b[0m \u001b[0mout\u001b[0m\u001b[0;34m,\u001b[0m \u001b[0mkeepdims\u001b[0m\u001b[0;34m)\u001b[0m\u001b[0;34m\u001b[0m\u001b[0m\n\u001b[0m\u001b[1;32m     33\u001b[0m \u001b[0;34m\u001b[0m\u001b[0m\n\u001b[1;32m     34\u001b[0m \u001b[0;32mdef\u001b[0m \u001b[0m_prod\u001b[0m\u001b[0;34m(\u001b[0m\u001b[0ma\u001b[0m\u001b[0;34m,\u001b[0m \u001b[0maxis\u001b[0m\u001b[0;34m=\u001b[0m\u001b[0;32mNone\u001b[0m\u001b[0;34m,\u001b[0m \u001b[0mdtype\u001b[0m\u001b[0;34m=\u001b[0m\u001b[0;32mNone\u001b[0m\u001b[0;34m,\u001b[0m \u001b[0mout\u001b[0m\u001b[0;34m=\u001b[0m\u001b[0;32mNone\u001b[0m\u001b[0;34m,\u001b[0m \u001b[0mkeepdims\u001b[0m\u001b[0;34m=\u001b[0m\u001b[0;32mFalse\u001b[0m\u001b[0;34m)\u001b[0m\u001b[0;34m:\u001b[0m\u001b[0;34m\u001b[0m\u001b[0m\n",
      "\u001b[0;31mKeyboardInterrupt\u001b[0m: "
     ]
    }
   ],
   "source": [
    "num=3\n",
    "for i in range(n_sample):\n",
    "    print (\"iteration {0}\".format(i))\n",
    "    bo = BayesianOptimization(lambda x1,x2,x3,x4, x5, x6,x7,x8,x9, x10: \\\n",
    "                               -(x1**2+x2**2+x3**2+x4**2+x5**2+x6**2+x7**2+x8**2+x9**2+x10**2), \n",
    "                               {'x1': (-1*ran, ran),'x2': (-1*ran, ran),'x3': (-1*ran, ran),'x4': (-1*ran, ran),'x5': (-1*ran, ran),\n",
    "                                'x6': (-1*ran, ran),'x7': (-1*ran, ran),'x8': (-1*ran, ran),'x9': (-1*ran, ran),'x10': (-1*ran, ran)})\n",
    "    \n",
    "    value = bo.maximize(init_points=1, n_iter=1, acq='mi', kappa=3.29, value=True)\n",
    "    min_val = -1*value\n",
    "    min_vals[num] = np.append(min_vals[num], [min_val])\n",
    "    \n",
    "    count=2\n",
    "    while min_val > 1:\n",
    "        count=count + 1\n",
    "        value = bo.maximize(init_points=1, n_iter=1, acq='mi', kappa=3.29, value=True)\n",
    "        if min_val > -1*value:\n",
    "            min_val =-1* value\n",
    "        \n",
    "        min_vals[num] = np.append(min_vals[num], [min_val])\n",
    "        print (min_val)\n",
    "    counts[num]=np.append(counts[num], [count])"
   ]
  },
  {
   "cell_type": "code",
   "execution_count": 10,
   "metadata": {
    "collapsed": false
   },
   "outputs": [
    {
     "data": {
      "text/plain": [
       "array([ 47.,  25.])"
      ]
     },
     "execution_count": 10,
     "metadata": {},
     "output_type": "execute_result"
    }
   ],
   "source": [
    "counts[3]"
   ]
  },
  {
   "cell_type": "markdown",
   "metadata": {},
   "source": [
    "#### dim=20"
   ]
  },
  {
   "cell_type": "code",
   "execution_count": null,
   "metadata": {
    "code_folding": [],
    "collapsed": false
   },
   "outputs": [
    {
     "name": "stdout",
     "output_type": "stream",
     "text": [
      "iteration 0\n",
      "10.596487077\n",
      "10.596487077\n",
      "10.596487077\n",
      "10.596487077\n",
      "10.596487077\n",
      "10.596487077\n",
      "10.596487077\n",
      "10.596487077\n",
      "10.596487077\n",
      "10.0707351914\n",
      "10.0707351914\n",
      "10.0707351914\n",
      "10.0707351914\n",
      "10.0707351914\n",
      "10.0707351914\n",
      "10.0707351914\n",
      "10.0707351914\n",
      "10.0707351914\n",
      "10.0707351914\n",
      "10.0707351914\n",
      "10.0707351914\n",
      "10.0707351914\n",
      "10.0707351914\n",
      "10.0707351914\n",
      "10.0707351914\n",
      "10.0707351914\n",
      "10.0707351914\n",
      "10.0707351914\n",
      "10.0707351914\n",
      "10.0707351914\n",
      "10.0707351914\n",
      "10.0707351914\n",
      "10.0707351914\n",
      "10.0707351914\n",
      "10.0707351914\n",
      "10.0707351914\n",
      "9.98513241638\n",
      "9.98513241638\n",
      "9.98513241638\n",
      "9.98513241638\n",
      "9.98513241638\n",
      "9.98513241638\n",
      "9.98513241638\n",
      "9.98513241638\n",
      "9.98513241638\n",
      "9.98513241638\n",
      "9.98513241638\n",
      "9.98513241638\n",
      "9.98513241638\n",
      "9.98513241638\n",
      "9.98513241638\n",
      "9.98513241638\n",
      "9.98513241638\n",
      "9.98513241638\n",
      "9.98513241638\n",
      "9.98513241638\n",
      "9.98513241638\n",
      "9.98513241638\n",
      "9.98513241638\n",
      "9.98513241638\n",
      "9.98513241638\n",
      "9.98513241638\n",
      "9.98513241638\n",
      "9.98513241638\n",
      "9.98513241638\n",
      "9.98513241638\n",
      "9.98513241638\n",
      "9.98513241638\n",
      "9.98513241638\n",
      "9.98513241638\n",
      "9.98513241638\n",
      "9.98513241638\n",
      "9.98513241638\n",
      "9.71863619107\n",
      "9.71863619107\n",
      "9.71863619107\n",
      "9.71863619107\n",
      "9.71863619107\n",
      "9.71863619107\n",
      "9.71863619107\n",
      "9.71863619107\n",
      "9.71863619107\n",
      "9.71863619107\n",
      "9.71863619107\n",
      "9.71863619107\n",
      "9.71863619107\n",
      "9.71863619107\n",
      "9.71863619107\n",
      "9.71863619107\n",
      "9.71863619107\n",
      "9.71863619107\n",
      "9.71863619107\n",
      "9.71863619107\n",
      "9.71863619107\n",
      "9.71863619107\n",
      "9.71863619107\n",
      "9.71863619107\n",
      "9.71863619107\n",
      "9.71863619107\n",
      "9.71863619107\n",
      "9.71863619107\n",
      "9.71863619107\n",
      "9.71863619107\n",
      "9.71863619107\n",
      "9.71863619107\n",
      "9.71863619107\n",
      "9.71863619107\n",
      "9.71863619107\n",
      "9.71863619107\n",
      "9.37571599092\n",
      "9.37571599092\n",
      "9.37571599092\n",
      "9.37571599092\n",
      "9.37571599092\n",
      "8.49486389282\n",
      "8.49486389282\n",
      "8.49486389282\n",
      "8.49486389282\n",
      "8.49486389282\n",
      "8.49486389282\n",
      "8.49486389282\n",
      "8.49486389282\n",
      "8.49486389282\n",
      "8.49486389282\n",
      "8.49486389282\n",
      "8.49486389282\n",
      "8.49486389282\n",
      "8.49486389282\n",
      "8.49486389282\n",
      "8.49486389282\n",
      "8.49486389282\n",
      "8.49486389282\n",
      "8.49486389282\n",
      "8.49486389282\n",
      "8.49486389282\n",
      "8.49486389282\n",
      "8.49486389282\n",
      "8.49486389282\n",
      "8.49486389282\n",
      "8.49486389282\n",
      "8.49486389282\n",
      "8.49486389282\n",
      "8.49486389282\n",
      "8.49486389282\n",
      "8.49486389282\n",
      "8.49486389282\n",
      "8.49486389282\n",
      "8.19563832411\n"
     ]
    }
   ],
   "source": [
    "num=4\n",
    "for i in range(n_sample):\n",
    "    print (\"iteration {0}\".format(i))\n",
    "    bo = BayesianOptimization(lambda x1,x2,x3,x4, x5, x6,x7,x8,x9, x10\\\n",
    "                                                                   ,x11,x12,x13,x14, x15, x16,x17,x18,x19, x20: \\\n",
    "                               -(x1**2+x2**2+x3**2+x4**2+x5**2+x6**2+x7**2+x8**2+x9**2+x10**2\n",
    "                                +x11**2+x12**2+x13**2+x14**2+x15**2+x16**2+x17**2+x18**2+x19**2+x20**2), \n",
    "                               {'x1': (-1*ran, ran),'x2': (-1*ran, ran),'x3': (-1*ran, ran),'x4': (-1*ran, ran),'x5': (-1*ran, ran),\n",
    "                                'x6': (-1*ran, ran),'x7': (-1*ran, ran),'x8': (-1*ran, ran),'x9': (-1*ran, ran),'x10': (-1*ran, ran),\n",
    "                               'x11': (-1*ran, ran),'x12': (-1*ran, ran),'x13': (-1*ran, ran),'x14': (-1*ran, ran),'x15': (-1*ran, ran),\n",
    "                                'x16': (-1*ran, ran),'x17': (-1*ran, ran),'x18': (-1*ran, ran),'x19': (-1*ran, ran),'x20': (-1*ran, ran)})\n",
    "    \n",
    "    value = bo.maximize(init_points=1, n_iter=1, acq='mi', kappa=3.29, value=True)\n",
    "    min_val = -1*value\n",
    "    min_vals[num] = np.append(min_vals[num], [min_val])\n",
    "    \n",
    "    count=2\n",
    "    while min_val > 1:\n",
    "        count=count + 1\n",
    "        value = bo.maximize(init_points=1, n_iter=1, acq='mi', kappa=3.29, value=True)\n",
    "        if min_val > -1*value:\n",
    "            min_val =-1* value\n",
    "        \n",
    "        min_vals[num] = np.append(min_vals[num], [min_val])\n",
    "        print (min_val)\n",
    "    counts[num]=np.append(counts[num], [count])"
   ]
  },
  {
   "cell_type": "code",
   "execution_count": null,
   "metadata": {
    "collapsed": false
   },
   "outputs": [],
   "source": [
    "counts[4]"
   ]
  },
  {
   "cell_type": "markdown",
   "metadata": {},
   "source": [
    "#### dim=40"
   ]
  },
  {
   "cell_type": "markdown",
   "metadata": {
    "collapsed": true
   },
   "source": [
    "num=5\n",
    "for i in range(n_sample):\n",
    "    print (\"iteration {0}\".format(i))\n",
    "    bo = BayesianOptimization(lambda x1,x2,x3,x4, x5, x6,x7,x8,x9, x10\\\n",
    "                                                                   ,x11,x12,x13,x14, x15, x16,x17,x18,x19, x20\\\n",
    "                                                                   ,x21,x22,x23,x24, x25, x26,x27,x28,x29, x30\\\n",
    "                                                                   ,x31,x32,x33,x34, x35, x36,x37,x38,x39, x40: \\\n",
    "                               -(x1**2+x2**2+x3**2+x4**2+x5**2+x6**2+x7**2+x8**2+x9**2+x10**2\n",
    "                                +x11**2+x12**2+x13**2+x14**2+x15**2+x16**2+x17**2+x18**2+x19**2+x20**2\n",
    "                                +x21**2+x22**2+x23**2+x24**2+x25**2+x26**2+x27**2+x28**2+x29**2+x30**2\n",
    "                                +x31**2+x32**2+x33**2+x34**2+x35**2+x36**2+x37**2+x38**2+x39**2+x40**2), \n",
    "                               {'x1': (-1*ran, ran),'x2': (-1*ran, ran),'x3': (-1*ran, ran),'x4': (-1*ran, ran),'x5': (-1*ran, ran),\n",
    "                                'x6': (-1*ran, ran),'x7': (-1*ran, ran),'x8': (-1*ran, ran),'x9': (-1*ran, ran),'x10': (-1*ran, ran),\n",
    "                               'x11': (-1*ran, ran),'x12': (-1*ran, ran),'x13': (-1*ran, ran),'x14': (-1*ran, ran),'x15': (-1*ran, ran),\n",
    "                                'x16': (-1*ran, ran),'x17': (-1*ran, ran),'x18': (-1*ran, ran),'x19': (-1*ran, ran),'x20': (-1*ran, ran)\n",
    "                               'x21': (-1*ran, ran),'x22': (-1*ran, ran),'x23': (-1*ran, ran),'x24': (-1*ran, ran),'x25': (-1*ran, ran),\n",
    "                                'x26': (-1*ran, ran),'x27': (-1*ran, ran),'x28': (-1*ran, ran),'x29': (-1*ran, ran),'x30': (-1*ran, ran),\n",
    "                               'x31': (-1*ran, ran),'x32': (-1*ran, ran),'x33': (-1*ran, ran),'x34': (-1*ran, ran),'x35': (-1*ran, ran),\n",
    "                                'x36': (-1*ran, ran),'x37': (-1*ran, ran),'x38': (-1*ran, ran),'x39': (-1*ran, ran),'x40': (-1*ran, ran)})\n",
    "    \n",
    "    value = bo.maximize(init_points=1, n_iter=1, acq='mi', kappa=3.29, value=True)\n",
    "    min_val = -1*value\n",
    "    min_vals[num] = np.append(min_vals[num], [min_val])\n",
    "    \n",
    "    count=2\n",
    "    while min_val > 1:\n",
    "        count=count + 1\n",
    "        value = bo.maximize(init_points=1, n_iter=1, acq='mi', kappa=3.29, value=True)\n",
    "        if min_val > -1*value:\n",
    "            min_val =-1* value\n",
    "        \n",
    "        min_vals[num] = np.append(min_vals[num], [min_val])\n",
    "        print (min_val)\n",
    "    counts[num]=np.append(counts[num], [count])"
   ]
  },
  {
   "cell_type": "markdown",
   "metadata": {
    "collapsed": true
   },
   "source": [
    "counts[5]"
   ]
  },
  {
   "cell_type": "markdown",
   "metadata": {},
   "source": [
    "#### dim=80"
   ]
  },
  {
   "cell_type": "code",
   "execution_count": null,
   "metadata": {
    "collapsed": true
   },
   "outputs": [],
   "source": []
  }
 ],
 "metadata": {
  "anaconda-cloud": {},
  "kernelspec": {
   "display_name": "Python [default]",
   "language": "python",
   "name": "python3"
  },
  "language_info": {
   "codemirror_mode": {
    "name": "ipython",
    "version": 3
   },
   "file_extension": ".py",
   "mimetype": "text/x-python",
   "name": "python",
   "nbconvert_exporter": "python",
   "pygments_lexer": "ipython3",
   "version": "3.4.5"
  },
  "latex_envs": {
   "bibliofile": "biblio.bib",
   "cite_by": "apalike",
   "current_citInitial": 1,
   "eqLabelWithNumbers": true,
   "eqNumInitial": 0
  },
  "nav_menu": {},
  "toc": {
   "navigate_menu": true,
   "number_sections": true,
   "sideBar": true,
   "threshold": 6,
   "toc_cell": false,
   "toc_section_display": "block",
   "toc_window_display": false
  }
 },
 "nbformat": 4,
 "nbformat_minor": 1
}
