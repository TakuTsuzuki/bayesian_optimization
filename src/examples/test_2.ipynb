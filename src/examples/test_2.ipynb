{
 "cells": [
  {
   "cell_type": "markdown",
   "metadata": {},
   "source": [
    "# Bayesian Optimization test"
   ]
  },
  {
   "cell_type": "code",
   "execution_count": 1,
   "metadata": {
    "collapsed": false,
    "scrolled": true
   },
   "outputs": [
    {
     "data": {
      "text/plain": [
       "'/Users/tsuzuki/bayesopt_prototype/src/examples'"
      ]
     },
     "execution_count": 1,
     "metadata": {},
     "output_type": "execute_result"
    }
   ],
   "source": [
    "pwd"
   ]
  },
  {
   "cell_type": "code",
   "execution_count": 2,
   "metadata": {
    "collapsed": false
   },
   "outputs": [
    {
     "name": "stdout",
     "output_type": "stream",
     "text": [
      "/Users/tsuzuki/bayesopt_prototype/src\n"
     ]
    }
   ],
   "source": [
    "cd .."
   ]
  },
  {
   "cell_type": "code",
   "execution_count": 3,
   "metadata": {
    "collapsed": false,
    "scrolled": true
   },
   "outputs": [],
   "source": [
    "%matplotlib inline\n",
    "import sys\n",
    "import numpy as np\n",
    "import matplotlib.pyplot as plt\n",
    "\n",
    "#sys.path.append( '/Users/tsuzuki/BayesianOptimization/bayes_opt')\n",
    "#from bayesian_optimization import BayesianOptimization\n",
    "#from helpers import UtilityFunction\n",
    "from bayes_opt import BayesianOptimization"
   ]
  },
  {
   "cell_type": "markdown",
   "metadata": {},
   "source": [
    "## Experiments"
   ]
  },
  {
   "cell_type": "markdown",
   "metadata": {},
   "source": [
    "### convex"
   ]
  },
  {
   "cell_type": "code",
   "execution_count": 27,
   "metadata": {
    "code_folding": [
     12,
     14,
     16,
     20,
     27
    ],
    "collapsed": false
   },
   "outputs": [
    {
     "name": "stdout",
     "output_type": "stream",
     "text": [
      "sample 0\n",
      "iter 0\n",
      "iter 1\n",
      "iter 2\n",
      "iter 3\n",
      "iter 4\n",
      "iter 5\n",
      "iter 6\n",
      "iter 7\n",
      "iter 8\n",
      "iter 9\n",
      "iter 10\n",
      "iter 11\n",
      "iter 12\n",
      "iter 13\n",
      "iter 14\n",
      "iter 15\n",
      "iter 16\n",
      "iter 17\n"
     ]
    },
    {
     "name": "stderr",
     "output_type": "stream",
     "text": [
      "/Users/tsuzuki/anaconda3/lib/python3.4/site-packages/sklearn/gaussian_process/gpr.py:427: UserWarning: fmin_l_bfgs_b terminated abnormally with the  state: {'nit': 3, 'warnflag': 2, 'task': b'ABNORMAL_TERMINATION_IN_LNSRCH', 'funcalls': 49, 'grad': array([-0.00238672])}\n",
      "  \" state: %s\" % convergence_dict)\n"
     ]
    },
    {
     "name": "stdout",
     "output_type": "stream",
     "text": [
      "iter 18\n"
     ]
    },
    {
     "name": "stderr",
     "output_type": "stream",
     "text": [
      "/Users/tsuzuki/anaconda3/lib/python3.4/site-packages/sklearn/gaussian_process/gpr.py:427: UserWarning: fmin_l_bfgs_b terminated abnormally with the  state: {'nit': 3, 'warnflag': 2, 'task': b'ABNORMAL_TERMINATION_IN_LNSRCH', 'funcalls': 51, 'grad': array([ 0.00160261])}\n",
      "  \" state: %s\" % convergence_dict)\n"
     ]
    },
    {
     "name": "stdout",
     "output_type": "stream",
     "text": [
      "iter 19\n",
      "iter 20\n",
      "iter 21\n"
     ]
    },
    {
     "name": "stderr",
     "output_type": "stream",
     "text": [
      "/Users/tsuzuki/anaconda3/lib/python3.4/site-packages/sklearn/gaussian_process/gpr.py:427: UserWarning: fmin_l_bfgs_b terminated abnormally with the  state: {'nit': 4, 'warnflag': 2, 'task': b'ABNORMAL_TERMINATION_IN_LNSRCH', 'funcalls': 54, 'grad': array([ 0.00037628])}\n",
      "  \" state: %s\" % convergence_dict)\n"
     ]
    },
    {
     "name": "stdout",
     "output_type": "stream",
     "text": [
      "iter 22\n",
      "iter 23\n"
     ]
    },
    {
     "name": "stderr",
     "output_type": "stream",
     "text": [
      "/Users/tsuzuki/anaconda3/lib/python3.4/site-packages/sklearn/gaussian_process/gpr.py:427: UserWarning: fmin_l_bfgs_b terminated abnormally with the  state: {'nit': 2, 'warnflag': 2, 'task': b'ABNORMAL_TERMINATION_IN_LNSRCH', 'funcalls': 51, 'grad': array([ -2.10293251e-05])}\n",
      "  \" state: %s\" % convergence_dict)\n"
     ]
    },
    {
     "name": "stdout",
     "output_type": "stream",
     "text": [
      "iter 24\n",
      "iter 25\n"
     ]
    },
    {
     "name": "stderr",
     "output_type": "stream",
     "text": [
      "/Users/tsuzuki/anaconda3/lib/python3.4/site-packages/sklearn/gaussian_process/gpr.py:427: UserWarning: fmin_l_bfgs_b terminated abnormally with the  state: {'nit': 2, 'warnflag': 2, 'task': b'ABNORMAL_TERMINATION_IN_LNSRCH', 'funcalls': 52, 'grad': array([ 0.00012132])}\n",
      "  \" state: %s\" % convergence_dict)\n"
     ]
    },
    {
     "name": "stdout",
     "output_type": "stream",
     "text": [
      "iter 26\n"
     ]
    },
    {
     "name": "stderr",
     "output_type": "stream",
     "text": [
      "/Users/tsuzuki/anaconda3/lib/python3.4/site-packages/sklearn/gaussian_process/gpr.py:427: UserWarning: fmin_l_bfgs_b terminated abnormally with the  state: {'nit': 4, 'warnflag': 2, 'task': b'ABNORMAL_TERMINATION_IN_LNSRCH', 'funcalls': 60, 'grad': array([ 0.0006949])}\n",
      "  \" state: %s\" % convergence_dict)\n",
      "/Users/tsuzuki/anaconda3/lib/python3.4/site-packages/sklearn/gaussian_process/gpr.py:427: UserWarning: fmin_l_bfgs_b terminated abnormally with the  state: {'nit': 2, 'warnflag': 2, 'task': b'ABNORMAL_TERMINATION_IN_LNSRCH', 'funcalls': 53, 'grad': array([ 0.00057512])}\n",
      "  \" state: %s\" % convergence_dict)\n"
     ]
    },
    {
     "name": "stdout",
     "output_type": "stream",
     "text": [
      "iter 27\n",
      "iter 28\n"
     ]
    },
    {
     "name": "stderr",
     "output_type": "stream",
     "text": [
      "/Users/tsuzuki/anaconda3/lib/python3.4/site-packages/sklearn/gaussian_process/gpr.py:427: UserWarning: fmin_l_bfgs_b terminated abnormally with the  state: {'nit': 5, 'warnflag': 2, 'task': b'ABNORMAL_TERMINATION_IN_LNSRCH', 'funcalls': 54, 'grad': array([ 0.00169597])}\n",
      "  \" state: %s\" % convergence_dict)\n"
     ]
    },
    {
     "name": "stdout",
     "output_type": "stream",
     "text": [
      "iter 29\n",
      "iter 30\n",
      "iter 31\n"
     ]
    },
    {
     "name": "stderr",
     "output_type": "stream",
     "text": [
      "/Users/tsuzuki/anaconda3/lib/python3.4/site-packages/sklearn/gaussian_process/gpr.py:427: UserWarning: fmin_l_bfgs_b terminated abnormally with the  state: {'nit': 2, 'warnflag': 2, 'task': b'ABNORMAL_TERMINATION_IN_LNSRCH', 'funcalls': 49, 'grad': array([-56.93322464])}\n",
      "  \" state: %s\" % convergence_dict)\n"
     ]
    },
    {
     "name": "stdout",
     "output_type": "stream",
     "text": [
      "iter 32\n"
     ]
    },
    {
     "name": "stderr",
     "output_type": "stream",
     "text": [
      "/Users/tsuzuki/anaconda3/lib/python3.4/site-packages/sklearn/gaussian_process/gpr.py:427: UserWarning: fmin_l_bfgs_b terminated abnormally with the  state: {'nit': 5, 'warnflag': 2, 'task': b'ABNORMAL_TERMINATION_IN_LNSRCH', 'funcalls': 60, 'grad': array([ -4.34962567e-05])}\n",
      "  \" state: %s\" % convergence_dict)\n",
      "/Users/tsuzuki/anaconda3/lib/python3.4/site-packages/sklearn/gaussian_process/gpr.py:427: UserWarning: fmin_l_bfgs_b terminated abnormally with the  state: {'nit': 6, 'warnflag': 2, 'task': b'ABNORMAL_TERMINATION_IN_LNSRCH', 'funcalls': 55, 'grad': array([-0.00191077])}\n",
      "  \" state: %s\" % convergence_dict)\n",
      "/Users/tsuzuki/anaconda3/lib/python3.4/site-packages/sklearn/gaussian_process/gpr.py:427: UserWarning: fmin_l_bfgs_b terminated abnormally with the  state: {'nit': 5, 'warnflag': 2, 'task': b'ABNORMAL_TERMINATION_IN_LNSRCH', 'funcalls': 58, 'grad': array([-0.00073034])}\n",
      "  \" state: %s\" % convergence_dict)\n",
      "/Users/tsuzuki/anaconda3/lib/python3.4/site-packages/sklearn/gaussian_process/gpr.py:427: UserWarning: fmin_l_bfgs_b terminated abnormally with the  state: {'nit': 4, 'warnflag': 2, 'task': b'ABNORMAL_TERMINATION_IN_LNSRCH', 'funcalls': 50, 'grad': array([-0.01333366])}\n",
      "  \" state: %s\" % convergence_dict)\n"
     ]
    },
    {
     "name": "stdout",
     "output_type": "stream",
     "text": [
      "iter 33\n"
     ]
    },
    {
     "name": "stderr",
     "output_type": "stream",
     "text": [
      "/Users/tsuzuki/anaconda3/lib/python3.4/site-packages/sklearn/gaussian_process/gpr.py:427: UserWarning: fmin_l_bfgs_b terminated abnormally with the  state: {'nit': 1, 'warnflag': 2, 'task': b'ABNORMAL_TERMINATION_IN_LNSRCH', 'funcalls': 29, 'grad': array([-250.24867436])}\n",
      "  \" state: %s\" % convergence_dict)\n",
      "/Users/tsuzuki/anaconda3/lib/python3.4/site-packages/sklearn/gaussian_process/gpr.py:427: UserWarning: fmin_l_bfgs_b terminated abnormally with the  state: {'nit': 2, 'warnflag': 2, 'task': b'ABNORMAL_TERMINATION_IN_LNSRCH', 'funcalls': 49, 'grad': array([ 0.00212211])}\n",
      "  \" state: %s\" % convergence_dict)\n",
      "/Users/tsuzuki/anaconda3/lib/python3.4/site-packages/sklearn/gaussian_process/gpr.py:427: UserWarning: fmin_l_bfgs_b terminated abnormally with the  state: {'nit': 4, 'warnflag': 2, 'task': b'ABNORMAL_TERMINATION_IN_LNSRCH', 'funcalls': 55, 'grad': array([ 0.00194331])}\n",
      "  \" state: %s\" % convergence_dict)\n"
     ]
    },
    {
     "name": "stdout",
     "output_type": "stream",
     "text": [
      "iter 34\n"
     ]
    },
    {
     "name": "stderr",
     "output_type": "stream",
     "text": [
      "/Users/tsuzuki/anaconda3/lib/python3.4/site-packages/sklearn/gaussian_process/gpr.py:427: UserWarning: fmin_l_bfgs_b terminated abnormally with the  state: {'nit': 6, 'warnflag': 2, 'task': b'ABNORMAL_TERMINATION_IN_LNSRCH', 'funcalls': 60, 'grad': array([ 0.00741656])}\n",
      "  \" state: %s\" % convergence_dict)\n"
     ]
    },
    {
     "name": "stdout",
     "output_type": "stream",
     "text": [
      "iter 35\n"
     ]
    },
    {
     "name": "stderr",
     "output_type": "stream",
     "text": [
      "/Users/tsuzuki/anaconda3/lib/python3.4/site-packages/sklearn/gaussian_process/gpr.py:427: UserWarning: fmin_l_bfgs_b terminated abnormally with the  state: {'nit': 3, 'warnflag': 2, 'task': b'ABNORMAL_TERMINATION_IN_LNSRCH', 'funcalls': 51, 'grad': array([ 0.03331391])}\n",
      "  \" state: %s\" % convergence_dict)\n"
     ]
    },
    {
     "name": "stdout",
     "output_type": "stream",
     "text": [
      "iter 36\n"
     ]
    },
    {
     "name": "stderr",
     "output_type": "stream",
     "text": [
      "/Users/tsuzuki/anaconda3/lib/python3.4/site-packages/sklearn/gaussian_process/gpr.py:427: UserWarning: fmin_l_bfgs_b terminated abnormally with the  state: {'nit': 2, 'warnflag': 2, 'task': b'ABNORMAL_TERMINATION_IN_LNSRCH', 'funcalls': 49, 'grad': array([  9.87594775e-05])}\n",
      "  \" state: %s\" % convergence_dict)\n",
      "/Users/tsuzuki/anaconda3/lib/python3.4/site-packages/sklearn/gaussian_process/gpr.py:427: UserWarning: fmin_l_bfgs_b terminated abnormally with the  state: {'nit': 4, 'warnflag': 2, 'task': b'ABNORMAL_TERMINATION_IN_LNSRCH', 'funcalls': 51, 'grad': array([ 0.00157353])}\n",
      "  \" state: %s\" % convergence_dict)\n",
      "/Users/tsuzuki/anaconda3/lib/python3.4/site-packages/sklearn/gaussian_process/gpr.py:427: UserWarning: fmin_l_bfgs_b terminated abnormally with the  state: {'nit': 2, 'warnflag': 2, 'task': b'ABNORMAL_TERMINATION_IN_LNSRCH', 'funcalls': 52, 'grad': array([-0.00643587])}\n",
      "  \" state: %s\" % convergence_dict)\n",
      "/Users/tsuzuki/anaconda3/lib/python3.4/site-packages/sklearn/gaussian_process/gpr.py:427: UserWarning: fmin_l_bfgs_b terminated abnormally with the  state: {'nit': 4, 'warnflag': 2, 'task': b'ABNORMAL_TERMINATION_IN_LNSRCH', 'funcalls': 47, 'grad': array([-0.00686308])}\n",
      "  \" state: %s\" % convergence_dict)\n"
     ]
    },
    {
     "name": "stdout",
     "output_type": "stream",
     "text": [
      "iter 37\n"
     ]
    },
    {
     "name": "stderr",
     "output_type": "stream",
     "text": [
      "/Users/tsuzuki/anaconda3/lib/python3.4/site-packages/sklearn/gaussian_process/gpr.py:427: UserWarning: fmin_l_bfgs_b terminated abnormally with the  state: {'nit': 4, 'warnflag': 2, 'task': b'ABNORMAL_TERMINATION_IN_LNSRCH', 'funcalls': 55, 'grad': array([-0.00327201])}\n",
      "  \" state: %s\" % convergence_dict)\n",
      "/Users/tsuzuki/anaconda3/lib/python3.4/site-packages/sklearn/gaussian_process/gpr.py:427: UserWarning: fmin_l_bfgs_b terminated abnormally with the  state: {'nit': 3, 'warnflag': 2, 'task': b'ABNORMAL_TERMINATION_IN_LNSRCH', 'funcalls': 52, 'grad': array([ 0.00089996])}\n",
      "  \" state: %s\" % convergence_dict)\n"
     ]
    },
    {
     "name": "stdout",
     "output_type": "stream",
     "text": [
      "iter 38\n"
     ]
    },
    {
     "name": "stderr",
     "output_type": "stream",
     "text": [
      "/Users/tsuzuki/anaconda3/lib/python3.4/site-packages/sklearn/gaussian_process/gpr.py:427: UserWarning: fmin_l_bfgs_b terminated abnormally with the  state: {'nit': 3, 'warnflag': 2, 'task': b'ABNORMAL_TERMINATION_IN_LNSRCH', 'funcalls': 52, 'grad': array([ 0.01700046])}\n",
      "  \" state: %s\" % convergence_dict)\n",
      "/Users/tsuzuki/anaconda3/lib/python3.4/site-packages/sklearn/gaussian_process/gpr.py:427: UserWarning: fmin_l_bfgs_b terminated abnormally with the  state: {'nit': 4, 'warnflag': 2, 'task': b'ABNORMAL_TERMINATION_IN_LNSRCH', 'funcalls': 49, 'grad': array([ 0.00234434])}\n",
      "  \" state: %s\" % convergence_dict)\n"
     ]
    },
    {
     "name": "stdout",
     "output_type": "stream",
     "text": [
      "iter 39\n"
     ]
    },
    {
     "name": "stderr",
     "output_type": "stream",
     "text": [
      "/Users/tsuzuki/anaconda3/lib/python3.4/site-packages/sklearn/gaussian_process/gpr.py:427: UserWarning: fmin_l_bfgs_b terminated abnormally with the  state: {'nit': 4, 'warnflag': 2, 'task': b'ABNORMAL_TERMINATION_IN_LNSRCH', 'funcalls': 53, 'grad': array([ 0.01401388])}\n",
      "  \" state: %s\" % convergence_dict)\n",
      "/Users/tsuzuki/anaconda3/lib/python3.4/site-packages/sklearn/gaussian_process/gpr.py:427: UserWarning: fmin_l_bfgs_b terminated abnormally with the  state: {'nit': 4, 'warnflag': 2, 'task': b'ABNORMAL_TERMINATION_IN_LNSRCH', 'funcalls': 54, 'grad': array([ 0.00633131])}\n",
      "  \" state: %s\" % convergence_dict)\n",
      "/Users/tsuzuki/anaconda3/lib/python3.4/site-packages/sklearn/gaussian_process/gpr.py:427: UserWarning: fmin_l_bfgs_b terminated abnormally with the  state: {'nit': 3, 'warnflag': 2, 'task': b'ABNORMAL_TERMINATION_IN_LNSRCH', 'funcalls': 50, 'grad': array([ 0.0023133])}\n",
      "  \" state: %s\" % convergence_dict)\n"
     ]
    },
    {
     "name": "stdout",
     "output_type": "stream",
     "text": [
      "iter 40\n"
     ]
    },
    {
     "name": "stderr",
     "output_type": "stream",
     "text": [
      "/Users/tsuzuki/anaconda3/lib/python3.4/site-packages/sklearn/gaussian_process/gpr.py:427: UserWarning: fmin_l_bfgs_b terminated abnormally with the  state: {'nit': 4, 'warnflag': 2, 'task': b'ABNORMAL_TERMINATION_IN_LNSRCH', 'funcalls': 52, 'grad': array([ 0.00129622])}\n",
      "  \" state: %s\" % convergence_dict)\n",
      "/Users/tsuzuki/anaconda3/lib/python3.4/site-packages/sklearn/gaussian_process/gpr.py:427: UserWarning: fmin_l_bfgs_b terminated abnormally with the  state: {'nit': 2, 'warnflag': 2, 'task': b'ABNORMAL_TERMINATION_IN_LNSRCH', 'funcalls': 51, 'grad': array([-0.00035762])}\n",
      "  \" state: %s\" % convergence_dict)\n",
      "/Users/tsuzuki/anaconda3/lib/python3.4/site-packages/sklearn/gaussian_process/gpr.py:427: UserWarning: fmin_l_bfgs_b terminated abnormally with the  state: {'nit': 5, 'warnflag': 2, 'task': b'ABNORMAL_TERMINATION_IN_LNSRCH', 'funcalls': 48, 'grad': array([-0.00156903])}\n",
      "  \" state: %s\" % convergence_dict)\n"
     ]
    },
    {
     "name": "stdout",
     "output_type": "stream",
     "text": [
      "iter 41\n"
     ]
    },
    {
     "name": "stderr",
     "output_type": "stream",
     "text": [
      "/Users/tsuzuki/anaconda3/lib/python3.4/site-packages/sklearn/gaussian_process/gpr.py:427: UserWarning: fmin_l_bfgs_b terminated abnormally with the  state: {'nit': 3, 'warnflag': 2, 'task': b'ABNORMAL_TERMINATION_IN_LNSRCH', 'funcalls': 54, 'grad': array([ 0.06943698])}\n",
      "  \" state: %s\" % convergence_dict)\n",
      "/Users/tsuzuki/anaconda3/lib/python3.4/site-packages/sklearn/gaussian_process/gpr.py:427: UserWarning: fmin_l_bfgs_b terminated abnormally with the  state: {'nit': 2, 'warnflag': 2, 'task': b'ABNORMAL_TERMINATION_IN_LNSRCH', 'funcalls': 53, 'grad': array([ 0.00751633])}\n",
      "  \" state: %s\" % convergence_dict)\n",
      "/Users/tsuzuki/anaconda3/lib/python3.4/site-packages/sklearn/gaussian_process/gpr.py:427: UserWarning: fmin_l_bfgs_b terminated abnormally with the  state: {'nit': 2, 'warnflag': 2, 'task': b'ABNORMAL_TERMINATION_IN_LNSRCH', 'funcalls': 50, 'grad': array([-0.02698597])}\n",
      "  \" state: %s\" % convergence_dict)\n",
      "/Users/tsuzuki/anaconda3/lib/python3.4/site-packages/sklearn/gaussian_process/gpr.py:427: UserWarning: fmin_l_bfgs_b terminated abnormally with the  state: {'nit': 2, 'warnflag': 2, 'task': b'ABNORMAL_TERMINATION_IN_LNSRCH', 'funcalls': 31, 'grad': array([-14.45650599])}\n",
      "  \" state: %s\" % convergence_dict)\n",
      "/Users/tsuzuki/anaconda3/lib/python3.4/site-packages/sklearn/gaussian_process/gpr.py:427: UserWarning: fmin_l_bfgs_b terminated abnormally with the  state: {'nit': 3, 'warnflag': 2, 'task': b'ABNORMAL_TERMINATION_IN_LNSRCH', 'funcalls': 47, 'grad': array([ 0.000617])}\n",
      "  \" state: %s\" % convergence_dict)\n"
     ]
    },
    {
     "name": "stdout",
     "output_type": "stream",
     "text": [
      "iter 42\n"
     ]
    },
    {
     "name": "stderr",
     "output_type": "stream",
     "text": [
      "/Users/tsuzuki/anaconda3/lib/python3.4/site-packages/sklearn/gaussian_process/gpr.py:427: UserWarning: fmin_l_bfgs_b terminated abnormally with the  state: {'nit': 3, 'warnflag': 2, 'task': b'ABNORMAL_TERMINATION_IN_LNSRCH', 'funcalls': 54, 'grad': array([ 0.0171306])}\n",
      "  \" state: %s\" % convergence_dict)\n",
      "/Users/tsuzuki/anaconda3/lib/python3.4/site-packages/sklearn/gaussian_process/gpr.py:427: UserWarning: fmin_l_bfgs_b terminated abnormally with the  state: {'nit': 2, 'warnflag': 2, 'task': b'ABNORMAL_TERMINATION_IN_LNSRCH', 'funcalls': 51, 'grad': array([-0.00013777])}\n",
      "  \" state: %s\" % convergence_dict)\n"
     ]
    },
    {
     "name": "stdout",
     "output_type": "stream",
     "text": [
      "iter 43\n"
     ]
    },
    {
     "name": "stderr",
     "output_type": "stream",
     "text": [
      "/Users/tsuzuki/anaconda3/lib/python3.4/site-packages/sklearn/gaussian_process/gpr.py:427: UserWarning: fmin_l_bfgs_b terminated abnormally with the  state: {'nit': 4, 'warnflag': 2, 'task': b'ABNORMAL_TERMINATION_IN_LNSRCH', 'funcalls': 54, 'grad': array([-0.00096391])}\n",
      "  \" state: %s\" % convergence_dict)\n",
      "/Users/tsuzuki/anaconda3/lib/python3.4/site-packages/sklearn/gaussian_process/gpr.py:427: UserWarning: fmin_l_bfgs_b terminated abnormally with the  state: {'nit': 3, 'warnflag': 2, 'task': b'ABNORMAL_TERMINATION_IN_LNSRCH', 'funcalls': 53, 'grad': array([  3.66009772e-05])}\n",
      "  \" state: %s\" % convergence_dict)\n",
      "/Users/tsuzuki/anaconda3/lib/python3.4/site-packages/sklearn/gaussian_process/gpr.py:427: UserWarning: fmin_l_bfgs_b terminated abnormally with the  state: {'nit': 3, 'warnflag': 2, 'task': b'ABNORMAL_TERMINATION_IN_LNSRCH', 'funcalls': 50, 'grad': array([ 0.11461158])}\n",
      "  \" state: %s\" % convergence_dict)\n",
      "/Users/tsuzuki/anaconda3/lib/python3.4/site-packages/sklearn/gaussian_process/gpr.py:427: UserWarning: fmin_l_bfgs_b terminated abnormally with the  state: {'nit': 2, 'warnflag': 2, 'task': b'ABNORMAL_TERMINATION_IN_LNSRCH', 'funcalls': 52, 'grad': array([ 0.00012633])}\n",
      "  \" state: %s\" % convergence_dict)\n",
      "/Users/tsuzuki/anaconda3/lib/python3.4/site-packages/sklearn/gaussian_process/gpr.py:427: UserWarning: fmin_l_bfgs_b terminated abnormally with the  state: {'nit': 3, 'warnflag': 2, 'task': b'ABNORMAL_TERMINATION_IN_LNSRCH', 'funcalls': 51, 'grad': array([ 0.00400859])}\n",
      "  \" state: %s\" % convergence_dict)\n"
     ]
    },
    {
     "name": "stdout",
     "output_type": "stream",
     "text": [
      "iter 44\n"
     ]
    },
    {
     "name": "stderr",
     "output_type": "stream",
     "text": [
      "/Users/tsuzuki/anaconda3/lib/python3.4/site-packages/sklearn/gaussian_process/gpr.py:427: UserWarning: fmin_l_bfgs_b terminated abnormally with the  state: {'nit': 3, 'warnflag': 2, 'task': b'ABNORMAL_TERMINATION_IN_LNSRCH', 'funcalls': 49, 'grad': array([-0.00433648])}\n",
      "  \" state: %s\" % convergence_dict)\n",
      "/Users/tsuzuki/anaconda3/lib/python3.4/site-packages/sklearn/gaussian_process/gpr.py:427: UserWarning: fmin_l_bfgs_b terminated abnormally with the  state: {'nit': 2, 'warnflag': 2, 'task': b'ABNORMAL_TERMINATION_IN_LNSRCH', 'funcalls': 49, 'grad': array([ 0.00189245])}\n",
      "  \" state: %s\" % convergence_dict)\n"
     ]
    },
    {
     "name": "stdout",
     "output_type": "stream",
     "text": [
      "iter 45\n"
     ]
    },
    {
     "name": "stderr",
     "output_type": "stream",
     "text": [
      "/Users/tsuzuki/anaconda3/lib/python3.4/site-packages/sklearn/gaussian_process/gpr.py:427: UserWarning: fmin_l_bfgs_b terminated abnormally with the  state: {'nit': 4, 'warnflag': 2, 'task': b'ABNORMAL_TERMINATION_IN_LNSRCH', 'funcalls': 51, 'grad': array([ 0.04169235])}\n",
      "  \" state: %s\" % convergence_dict)\n",
      "/Users/tsuzuki/anaconda3/lib/python3.4/site-packages/sklearn/gaussian_process/gpr.py:427: UserWarning: fmin_l_bfgs_b terminated abnormally with the  state: {'nit': 3, 'warnflag': 2, 'task': b'ABNORMAL_TERMINATION_IN_LNSRCH', 'funcalls': 54, 'grad': array([ 0.02969188])}\n",
      "  \" state: %s\" % convergence_dict)\n"
     ]
    },
    {
     "name": "stdout",
     "output_type": "stream",
     "text": [
      "iter 46\n"
     ]
    },
    {
     "name": "stderr",
     "output_type": "stream",
     "text": [
      "/Users/tsuzuki/anaconda3/lib/python3.4/site-packages/sklearn/gaussian_process/gpr.py:427: UserWarning: fmin_l_bfgs_b terminated abnormally with the  state: {'nit': 3, 'warnflag': 2, 'task': b'ABNORMAL_TERMINATION_IN_LNSRCH', 'funcalls': 51, 'grad': array([ 0.00214817])}\n",
      "  \" state: %s\" % convergence_dict)\n",
      "/Users/tsuzuki/anaconda3/lib/python3.4/site-packages/sklearn/gaussian_process/gpr.py:427: UserWarning: fmin_l_bfgs_b terminated abnormally with the  state: {'nit': 3, 'warnflag': 2, 'task': b'ABNORMAL_TERMINATION_IN_LNSRCH', 'funcalls': 54, 'grad': array([ 0.00647531])}\n",
      "  \" state: %s\" % convergence_dict)\n"
     ]
    },
    {
     "name": "stdout",
     "output_type": "stream",
     "text": [
      "iter 47\n"
     ]
    },
    {
     "name": "stderr",
     "output_type": "stream",
     "text": [
      "/Users/tsuzuki/anaconda3/lib/python3.4/site-packages/sklearn/gaussian_process/gpr.py:427: UserWarning: fmin_l_bfgs_b terminated abnormally with the  state: {'nit': 5, 'warnflag': 2, 'task': b'ABNORMAL_TERMINATION_IN_LNSRCH', 'funcalls': 56, 'grad': array([ 0.01628089])}\n",
      "  \" state: %s\" % convergence_dict)\n",
      "/Users/tsuzuki/anaconda3/lib/python3.4/site-packages/sklearn/gaussian_process/gpr.py:427: UserWarning: fmin_l_bfgs_b terminated abnormally with the  state: {'nit': 4, 'warnflag': 2, 'task': b'ABNORMAL_TERMINATION_IN_LNSRCH', 'funcalls': 55, 'grad': array([ 0.00094586])}\n",
      "  \" state: %s\" % convergence_dict)\n",
      "/Users/tsuzuki/anaconda3/lib/python3.4/site-packages/sklearn/gaussian_process/gpr.py:427: UserWarning: fmin_l_bfgs_b terminated abnormally with the  state: {'nit': 5, 'warnflag': 2, 'task': b'ABNORMAL_TERMINATION_IN_LNSRCH', 'funcalls': 52, 'grad': array([-0.02160149])}\n",
      "  \" state: %s\" % convergence_dict)\n"
     ]
    },
    {
     "name": "stdout",
     "output_type": "stream",
     "text": [
      "iter 48\n"
     ]
    },
    {
     "name": "stderr",
     "output_type": "stream",
     "text": [
      "/Users/tsuzuki/anaconda3/lib/python3.4/site-packages/sklearn/gaussian_process/gpr.py:427: UserWarning: fmin_l_bfgs_b terminated abnormally with the  state: {'nit': 3, 'warnflag': 2, 'task': b'ABNORMAL_TERMINATION_IN_LNSRCH', 'funcalls': 50, 'grad': array([ 0.03170939])}\n",
      "  \" state: %s\" % convergence_dict)\n",
      "/Users/tsuzuki/anaconda3/lib/python3.4/site-packages/sklearn/gaussian_process/gpr.py:427: UserWarning: fmin_l_bfgs_b terminated abnormally with the  state: {'nit': 5, 'warnflag': 2, 'task': b'ABNORMAL_TERMINATION_IN_LNSRCH', 'funcalls': 48, 'grad': array([-0.00122976])}\n",
      "  \" state: %s\" % convergence_dict)\n"
     ]
    },
    {
     "name": "stdout",
     "output_type": "stream",
     "text": [
      "iter 49\n"
     ]
    },
    {
     "name": "stderr",
     "output_type": "stream",
     "text": [
      "/Users/tsuzuki/anaconda3/lib/python3.4/site-packages/sklearn/gaussian_process/gpr.py:427: UserWarning: fmin_l_bfgs_b terminated abnormally with the  state: {'nit': 4, 'warnflag': 2, 'task': b'ABNORMAL_TERMINATION_IN_LNSRCH', 'funcalls': 49, 'grad': array([ 0.01385425])}\n",
      "  \" state: %s\" % convergence_dict)\n",
      "/Users/tsuzuki/anaconda3/lib/python3.4/site-packages/sklearn/gaussian_process/gpr.py:427: UserWarning: fmin_l_bfgs_b terminated abnormally with the  state: {'nit': 5, 'warnflag': 2, 'task': b'ABNORMAL_TERMINATION_IN_LNSRCH', 'funcalls': 56, 'grad': array([ 0.0066005])}\n",
      "  \" state: %s\" % convergence_dict)\n",
      "/Users/tsuzuki/anaconda3/lib/python3.4/site-packages/sklearn/gaussian_process/gpr.py:427: UserWarning: fmin_l_bfgs_b terminated abnormally with the  state: {'nit': 2, 'warnflag': 2, 'task': b'ABNORMAL_TERMINATION_IN_LNSRCH', 'funcalls': 52, 'grad': array([-0.00134431])}\n",
      "  \" state: %s\" % convergence_dict)\n"
     ]
    },
    {
     "name": "stdout",
     "output_type": "stream",
     "text": [
      "iter 50\n"
     ]
    },
    {
     "name": "stderr",
     "output_type": "stream",
     "text": [
      "/Users/tsuzuki/anaconda3/lib/python3.4/site-packages/sklearn/gaussian_process/gpr.py:427: UserWarning: fmin_l_bfgs_b terminated abnormally with the  state: {'nit': 2, 'warnflag': 2, 'task': b'ABNORMAL_TERMINATION_IN_LNSRCH', 'funcalls': 36, 'grad': array([-12.57665783])}\n",
      "  \" state: %s\" % convergence_dict)\n",
      "/Users/tsuzuki/anaconda3/lib/python3.4/site-packages/sklearn/gaussian_process/gpr.py:427: UserWarning: fmin_l_bfgs_b terminated abnormally with the  state: {'nit': 2, 'warnflag': 2, 'task': b'ABNORMAL_TERMINATION_IN_LNSRCH', 'funcalls': 52, 'grad': array([-0.00069722])}\n",
      "  \" state: %s\" % convergence_dict)\n"
     ]
    },
    {
     "name": "stdout",
     "output_type": "stream",
     "text": [
      "iter 51\n"
     ]
    },
    {
     "name": "stderr",
     "output_type": "stream",
     "text": [
      "/Users/tsuzuki/anaconda3/lib/python3.4/site-packages/sklearn/gaussian_process/gpr.py:427: UserWarning: fmin_l_bfgs_b terminated abnormally with the  state: {'nit': 2, 'warnflag': 2, 'task': b'ABNORMAL_TERMINATION_IN_LNSRCH', 'funcalls': 52, 'grad': array([ 0.00619776])}\n",
      "  \" state: %s\" % convergence_dict)\n",
      "/Users/tsuzuki/anaconda3/lib/python3.4/site-packages/sklearn/gaussian_process/gpr.py:427: UserWarning: fmin_l_bfgs_b terminated abnormally with the  state: {'nit': 2, 'warnflag': 2, 'task': b'ABNORMAL_TERMINATION_IN_LNSRCH', 'funcalls': 52, 'grad': array([ 0.02139467])}\n",
      "  \" state: %s\" % convergence_dict)\n",
      "/Users/tsuzuki/anaconda3/lib/python3.4/site-packages/sklearn/gaussian_process/gpr.py:427: UserWarning: fmin_l_bfgs_b terminated abnormally with the  state: {'nit': 5, 'warnflag': 2, 'task': b'ABNORMAL_TERMINATION_IN_LNSRCH', 'funcalls': 56, 'grad': array([ 0.00194914])}\n",
      "  \" state: %s\" % convergence_dict)\n"
     ]
    },
    {
     "name": "stdout",
     "output_type": "stream",
     "text": [
      "iter 52\n"
     ]
    },
    {
     "name": "stderr",
     "output_type": "stream",
     "text": [
      "/Users/tsuzuki/anaconda3/lib/python3.4/site-packages/sklearn/gaussian_process/gpr.py:427: UserWarning: fmin_l_bfgs_b terminated abnormally with the  state: {'nit': 4, 'warnflag': 2, 'task': b'ABNORMAL_TERMINATION_IN_LNSRCH', 'funcalls': 55, 'grad': array([ 0.00170694])}\n",
      "  \" state: %s\" % convergence_dict)\n",
      "/Users/tsuzuki/anaconda3/lib/python3.4/site-packages/sklearn/gaussian_process/gpr.py:427: UserWarning: fmin_l_bfgs_b terminated abnormally with the  state: {'nit': 6, 'warnflag': 2, 'task': b'ABNORMAL_TERMINATION_IN_LNSRCH', 'funcalls': 64, 'grad': array([ 0.00150676])}\n",
      "  \" state: %s\" % convergence_dict)\n"
     ]
    },
    {
     "name": "stdout",
     "output_type": "stream",
     "text": [
      "iter 53\n"
     ]
    },
    {
     "name": "stderr",
     "output_type": "stream",
     "text": [
      "/Users/tsuzuki/anaconda3/lib/python3.4/site-packages/sklearn/gaussian_process/gpr.py:427: UserWarning: fmin_l_bfgs_b terminated abnormally with the  state: {'nit': 2, 'warnflag': 2, 'task': b'ABNORMAL_TERMINATION_IN_LNSRCH', 'funcalls': 51, 'grad': array([-0.005635])}\n",
      "  \" state: %s\" % convergence_dict)\n",
      "/Users/tsuzuki/anaconda3/lib/python3.4/site-packages/sklearn/gaussian_process/gpr.py:427: UserWarning: fmin_l_bfgs_b terminated abnormally with the  state: {'nit': 2, 'warnflag': 2, 'task': b'ABNORMAL_TERMINATION_IN_LNSRCH', 'funcalls': 35, 'grad': array([-11.12789006])}\n",
      "  \" state: %s\" % convergence_dict)\n"
     ]
    },
    {
     "name": "stdout",
     "output_type": "stream",
     "text": [
      "iter 54\n"
     ]
    },
    {
     "name": "stderr",
     "output_type": "stream",
     "text": [
      "/Users/tsuzuki/anaconda3/lib/python3.4/site-packages/sklearn/gaussian_process/gpr.py:427: UserWarning: fmin_l_bfgs_b terminated abnormally with the  state: {'nit': 5, 'warnflag': 2, 'task': b'ABNORMAL_TERMINATION_IN_LNSRCH', 'funcalls': 56, 'grad': array([ 0.00041261])}\n",
      "  \" state: %s\" % convergence_dict)\n",
      "/Users/tsuzuki/anaconda3/lib/python3.4/site-packages/sklearn/gaussian_process/gpr.py:427: UserWarning: fmin_l_bfgs_b terminated abnormally with the  state: {'nit': 5, 'warnflag': 2, 'task': b'ABNORMAL_TERMINATION_IN_LNSRCH', 'funcalls': 53, 'grad': array([-0.0031215])}\n",
      "  \" state: %s\" % convergence_dict)\n"
     ]
    },
    {
     "name": "stdout",
     "output_type": "stream",
     "text": [
      "iter 55\n"
     ]
    },
    {
     "name": "stderr",
     "output_type": "stream",
     "text": [
      "/Users/tsuzuki/anaconda3/lib/python3.4/site-packages/sklearn/gaussian_process/gpr.py:427: UserWarning: fmin_l_bfgs_b terminated abnormally with the  state: {'nit': 4, 'warnflag': 2, 'task': b'ABNORMAL_TERMINATION_IN_LNSRCH', 'funcalls': 55, 'grad': array([ 0.00764547])}\n",
      "  \" state: %s\" % convergence_dict)\n",
      "/Users/tsuzuki/anaconda3/lib/python3.4/site-packages/sklearn/gaussian_process/gpr.py:427: UserWarning: fmin_l_bfgs_b terminated abnormally with the  state: {'nit': 2, 'warnflag': 2, 'task': b'ABNORMAL_TERMINATION_IN_LNSRCH', 'funcalls': 52, 'grad': array([  8.99342481e-05])}\n",
      "  \" state: %s\" % convergence_dict)\n",
      "/Users/tsuzuki/anaconda3/lib/python3.4/site-packages/sklearn/gaussian_process/gpr.py:427: UserWarning: fmin_l_bfgs_b terminated abnormally with the  state: {'nit': 3, 'warnflag': 2, 'task': b'ABNORMAL_TERMINATION_IN_LNSRCH', 'funcalls': 53, 'grad': array([  8.92858857e-05])}\n",
      "  \" state: %s\" % convergence_dict)\n",
      "/Users/tsuzuki/anaconda3/lib/python3.4/site-packages/sklearn/gaussian_process/gpr.py:427: UserWarning: fmin_l_bfgs_b terminated abnormally with the  state: {'nit': 6, 'warnflag': 2, 'task': b'ABNORMAL_TERMINATION_IN_LNSRCH', 'funcalls': 57, 'grad': array([ 0.00210178])}\n",
      "  \" state: %s\" % convergence_dict)\n"
     ]
    },
    {
     "name": "stdout",
     "output_type": "stream",
     "text": [
      "iter 56\n"
     ]
    },
    {
     "name": "stderr",
     "output_type": "stream",
     "text": [
      "/Users/tsuzuki/anaconda3/lib/python3.4/site-packages/sklearn/gaussian_process/gpr.py:427: UserWarning: fmin_l_bfgs_b terminated abnormally with the  state: {'nit': 2, 'warnflag': 2, 'task': b'ABNORMAL_TERMINATION_IN_LNSRCH', 'funcalls': 49, 'grad': array([-0.02406794])}\n",
      "  \" state: %s\" % convergence_dict)\n",
      "/Users/tsuzuki/anaconda3/lib/python3.4/site-packages/sklearn/gaussian_process/gpr.py:427: UserWarning: fmin_l_bfgs_b terminated abnormally with the  state: {'nit': 2, 'warnflag': 2, 'task': b'ABNORMAL_TERMINATION_IN_LNSRCH', 'funcalls': 51, 'grad': array([ 0.003115])}\n",
      "  \" state: %s\" % convergence_dict)\n",
      "/Users/tsuzuki/anaconda3/lib/python3.4/site-packages/sklearn/gaussian_process/gpr.py:427: UserWarning: fmin_l_bfgs_b terminated abnormally with the  state: {'nit': 3, 'warnflag': 2, 'task': b'ABNORMAL_TERMINATION_IN_LNSRCH', 'funcalls': 51, 'grad': array([ 0.00146782])}\n",
      "  \" state: %s\" % convergence_dict)\n",
      "/Users/tsuzuki/anaconda3/lib/python3.4/site-packages/sklearn/gaussian_process/gpr.py:427: UserWarning: fmin_l_bfgs_b terminated abnormally with the  state: {'nit': 5, 'warnflag': 2, 'task': b'ABNORMAL_TERMINATION_IN_LNSRCH', 'funcalls': 48, 'grad': array([-0.00229025])}\n",
      "  \" state: %s\" % convergence_dict)\n"
     ]
    },
    {
     "name": "stdout",
     "output_type": "stream",
     "text": [
      "iter 57\n"
     ]
    },
    {
     "name": "stderr",
     "output_type": "stream",
     "text": [
      "/Users/tsuzuki/anaconda3/lib/python3.4/site-packages/sklearn/gaussian_process/gpr.py:427: UserWarning: fmin_l_bfgs_b terminated abnormally with the  state: {'nit': 4, 'warnflag': 2, 'task': b'ABNORMAL_TERMINATION_IN_LNSRCH', 'funcalls': 53, 'grad': array([-0.00118966])}\n",
      "  \" state: %s\" % convergence_dict)\n",
      "/Users/tsuzuki/anaconda3/lib/python3.4/site-packages/sklearn/gaussian_process/gpr.py:427: UserWarning: fmin_l_bfgs_b terminated abnormally with the  state: {'nit': 5, 'warnflag': 2, 'task': b'ABNORMAL_TERMINATION_IN_LNSRCH', 'funcalls': 63, 'grad': array([ 0.0026788])}\n",
      "  \" state: %s\" % convergence_dict)\n",
      "/Users/tsuzuki/anaconda3/lib/python3.4/site-packages/sklearn/gaussian_process/gpr.py:427: UserWarning: fmin_l_bfgs_b terminated abnormally with the  state: {'nit': 4, 'warnflag': 2, 'task': b'ABNORMAL_TERMINATION_IN_LNSRCH', 'funcalls': 55, 'grad': array([ 0.02518486])}\n",
      "  \" state: %s\" % convergence_dict)\n"
     ]
    },
    {
     "name": "stdout",
     "output_type": "stream",
     "text": [
      "iter 58\n"
     ]
    },
    {
     "name": "stderr",
     "output_type": "stream",
     "text": [
      "/Users/tsuzuki/anaconda3/lib/python3.4/site-packages/sklearn/gaussian_process/gpr.py:427: UserWarning: fmin_l_bfgs_b terminated abnormally with the  state: {'nit': 3, 'warnflag': 2, 'task': b'ABNORMAL_TERMINATION_IN_LNSRCH', 'funcalls': 56, 'grad': array([-0.00039925])}\n",
      "  \" state: %s\" % convergence_dict)\n",
      "/Users/tsuzuki/anaconda3/lib/python3.4/site-packages/sklearn/gaussian_process/gpr.py:427: UserWarning: fmin_l_bfgs_b terminated abnormally with the  state: {'nit': 2, 'warnflag': 2, 'task': b'ABNORMAL_TERMINATION_IN_LNSRCH', 'funcalls': 51, 'grad': array([-0.00365581])}\n",
      "  \" state: %s\" % convergence_dict)\n",
      "/Users/tsuzuki/anaconda3/lib/python3.4/site-packages/sklearn/gaussian_process/gpr.py:427: UserWarning: fmin_l_bfgs_b terminated abnormally with the  state: {'nit': 5, 'warnflag': 2, 'task': b'ABNORMAL_TERMINATION_IN_LNSRCH', 'funcalls': 54, 'grad': array([-0.00122319])}\n",
      "  \" state: %s\" % convergence_dict)\n"
     ]
    },
    {
     "name": "stdout",
     "output_type": "stream",
     "text": [
      "iter 59\n"
     ]
    },
    {
     "name": "stderr",
     "output_type": "stream",
     "text": [
      "/Users/tsuzuki/anaconda3/lib/python3.4/site-packages/sklearn/gaussian_process/gpr.py:427: UserWarning: fmin_l_bfgs_b terminated abnormally with the  state: {'nit': 4, 'warnflag': 2, 'task': b'ABNORMAL_TERMINATION_IN_LNSRCH', 'funcalls': 52, 'grad': array([ 0.00158472])}\n",
      "  \" state: %s\" % convergence_dict)\n"
     ]
    },
    {
     "name": "stdout",
     "output_type": "stream",
     "text": [
      "iter 60\n"
     ]
    },
    {
     "name": "stderr",
     "output_type": "stream",
     "text": [
      "/Users/tsuzuki/anaconda3/lib/python3.4/site-packages/sklearn/gaussian_process/gpr.py:427: UserWarning: fmin_l_bfgs_b terminated abnormally with the  state: {'nit': 3, 'warnflag': 2, 'task': b'ABNORMAL_TERMINATION_IN_LNSRCH', 'funcalls': 54, 'grad': array([ 0.00558063])}\n",
      "  \" state: %s\" % convergence_dict)\n",
      "/Users/tsuzuki/anaconda3/lib/python3.4/site-packages/sklearn/gaussian_process/gpr.py:427: UserWarning: fmin_l_bfgs_b terminated abnormally with the  state: {'nit': 5, 'warnflag': 2, 'task': b'ABNORMAL_TERMINATION_IN_LNSRCH', 'funcalls': 56, 'grad': array([ 0.0003536])}\n",
      "  \" state: %s\" % convergence_dict)\n",
      "/Users/tsuzuki/anaconda3/lib/python3.4/site-packages/sklearn/gaussian_process/gpr.py:427: UserWarning: fmin_l_bfgs_b terminated abnormally with the  state: {'nit': 3, 'warnflag': 2, 'task': b'ABNORMAL_TERMINATION_IN_LNSRCH', 'funcalls': 54, 'grad': array([ 0.01265451])}\n",
      "  \" state: %s\" % convergence_dict)\n"
     ]
    },
    {
     "name": "stdout",
     "output_type": "stream",
     "text": [
      "iter 61\n"
     ]
    },
    {
     "name": "stderr",
     "output_type": "stream",
     "text": [
      "/Users/tsuzuki/anaconda3/lib/python3.4/site-packages/sklearn/gaussian_process/gpr.py:427: UserWarning: fmin_l_bfgs_b terminated abnormally with the  state: {'nit': 3, 'warnflag': 2, 'task': b'ABNORMAL_TERMINATION_IN_LNSRCH', 'funcalls': 51, 'grad': array([ 0.00243485])}\n",
      "  \" state: %s\" % convergence_dict)\n",
      "/Users/tsuzuki/anaconda3/lib/python3.4/site-packages/sklearn/gaussian_process/gpr.py:427: UserWarning: fmin_l_bfgs_b terminated abnormally with the  state: {'nit': 2, 'warnflag': 2, 'task': b'ABNORMAL_TERMINATION_IN_LNSRCH', 'funcalls': 34, 'grad': array([-12.0976813])}\n",
      "  \" state: %s\" % convergence_dict)\n"
     ]
    },
    {
     "name": "stdout",
     "output_type": "stream",
     "text": [
      "iter 62\n"
     ]
    },
    {
     "name": "stderr",
     "output_type": "stream",
     "text": [
      "/Users/tsuzuki/anaconda3/lib/python3.4/site-packages/sklearn/gaussian_process/gpr.py:427: UserWarning: fmin_l_bfgs_b terminated abnormally with the  state: {'nit': 5, 'warnflag': 2, 'task': b'ABNORMAL_TERMINATION_IN_LNSRCH', 'funcalls': 56, 'grad': array([ 0.0087039])}\n",
      "  \" state: %s\" % convergence_dict)\n"
     ]
    },
    {
     "name": "stdout",
     "output_type": "stream",
     "text": [
      "iter 63\n"
     ]
    },
    {
     "name": "stderr",
     "output_type": "stream",
     "text": [
      "/Users/tsuzuki/anaconda3/lib/python3.4/site-packages/sklearn/gaussian_process/gpr.py:427: UserWarning: fmin_l_bfgs_b terminated abnormally with the  state: {'nit': 4, 'warnflag': 2, 'task': b'ABNORMAL_TERMINATION_IN_LNSRCH', 'funcalls': 55, 'grad': array([ 0.00076674])}\n",
      "  \" state: %s\" % convergence_dict)\n",
      "/Users/tsuzuki/anaconda3/lib/python3.4/site-packages/sklearn/gaussian_process/gpr.py:427: UserWarning: fmin_l_bfgs_b terminated abnormally with the  state: {'nit': 4, 'warnflag': 2, 'task': b'ABNORMAL_TERMINATION_IN_LNSRCH', 'funcalls': 55, 'grad': array([ 0.00547056])}\n",
      "  \" state: %s\" % convergence_dict)\n",
      "/Users/tsuzuki/anaconda3/lib/python3.4/site-packages/sklearn/gaussian_process/gpr.py:427: UserWarning: fmin_l_bfgs_b terminated abnormally with the  state: {'nit': 4, 'warnflag': 2, 'task': b'ABNORMAL_TERMINATION_IN_LNSRCH', 'funcalls': 54, 'grad': array([-0.00804426])}\n",
      "  \" state: %s\" % convergence_dict)\n"
     ]
    },
    {
     "name": "stdout",
     "output_type": "stream",
     "text": [
      "iter 64\n"
     ]
    },
    {
     "name": "stderr",
     "output_type": "stream",
     "text": [
      "/Users/tsuzuki/anaconda3/lib/python3.4/site-packages/sklearn/gaussian_process/gpr.py:427: UserWarning: fmin_l_bfgs_b terminated abnormally with the  state: {'nit': 3, 'warnflag': 2, 'task': b'ABNORMAL_TERMINATION_IN_LNSRCH', 'funcalls': 53, 'grad': array([ 0.00141111])}\n",
      "  \" state: %s\" % convergence_dict)\n",
      "/Users/tsuzuki/anaconda3/lib/python3.4/site-packages/sklearn/gaussian_process/gpr.py:427: UserWarning: fmin_l_bfgs_b terminated abnormally with the  state: {'nit': 2, 'warnflag': 2, 'task': b'ABNORMAL_TERMINATION_IN_LNSRCH', 'funcalls': 36, 'grad': array([-12.19321064])}\n",
      "  \" state: %s\" % convergence_dict)\n",
      "/Users/tsuzuki/anaconda3/lib/python3.4/site-packages/sklearn/gaussian_process/gpr.py:427: UserWarning: fmin_l_bfgs_b terminated abnormally with the  state: {'nit': 4, 'warnflag': 2, 'task': b'ABNORMAL_TERMINATION_IN_LNSRCH', 'funcalls': 54, 'grad': array([ 0.00076108])}\n",
      "  \" state: %s\" % convergence_dict)\n"
     ]
    },
    {
     "name": "stdout",
     "output_type": "stream",
     "text": [
      "iter 65\n"
     ]
    },
    {
     "name": "stderr",
     "output_type": "stream",
     "text": [
      "/Users/tsuzuki/anaconda3/lib/python3.4/site-packages/sklearn/gaussian_process/gpr.py:427: UserWarning: fmin_l_bfgs_b terminated abnormally with the  state: {'nit': 3, 'warnflag': 2, 'task': b'ABNORMAL_TERMINATION_IN_LNSRCH', 'funcalls': 47, 'grad': array([ 0.01695824])}\n",
      "  \" state: %s\" % convergence_dict)\n",
      "/Users/tsuzuki/anaconda3/lib/python3.4/site-packages/sklearn/gaussian_process/gpr.py:427: UserWarning: fmin_l_bfgs_b terminated abnormally with the  state: {'nit': 4, 'warnflag': 2, 'task': b'ABNORMAL_TERMINATION_IN_LNSRCH', 'funcalls': 55, 'grad': array([-0.00410282])}\n",
      "  \" state: %s\" % convergence_dict)\n"
     ]
    },
    {
     "name": "stdout",
     "output_type": "stream",
     "text": [
      "iter 66\n"
     ]
    },
    {
     "name": "stderr",
     "output_type": "stream",
     "text": [
      "/Users/tsuzuki/anaconda3/lib/python3.4/site-packages/sklearn/gaussian_process/gpr.py:427: UserWarning: fmin_l_bfgs_b terminated abnormally with the  state: {'nit': 5, 'warnflag': 2, 'task': b'ABNORMAL_TERMINATION_IN_LNSRCH', 'funcalls': 56, 'grad': array([ 0.00613789])}\n",
      "  \" state: %s\" % convergence_dict)\n"
     ]
    },
    {
     "name": "stdout",
     "output_type": "stream",
     "text": [
      "iter 67\n"
     ]
    },
    {
     "name": "stderr",
     "output_type": "stream",
     "text": [
      "/Users/tsuzuki/anaconda3/lib/python3.4/site-packages/sklearn/gaussian_process/gpr.py:427: UserWarning: fmin_l_bfgs_b terminated abnormally with the  state: {'nit': 5, 'warnflag': 2, 'task': b'ABNORMAL_TERMINATION_IN_LNSRCH', 'funcalls': 56, 'grad': array([ 0.00580541])}\n",
      "  \" state: %s\" % convergence_dict)\n",
      "/Users/tsuzuki/anaconda3/lib/python3.4/site-packages/sklearn/gaussian_process/gpr.py:427: UserWarning: fmin_l_bfgs_b terminated abnormally with the  state: {'nit': 3, 'warnflag': 2, 'task': b'ABNORMAL_TERMINATION_IN_LNSRCH', 'funcalls': 49, 'grad': array([-0.00519535])}\n",
      "  \" state: %s\" % convergence_dict)\n",
      "/Users/tsuzuki/anaconda3/lib/python3.4/site-packages/sklearn/gaussian_process/gpr.py:427: UserWarning: fmin_l_bfgs_b terminated abnormally with the  state: {'nit': 4, 'warnflag': 2, 'task': b'ABNORMAL_TERMINATION_IN_LNSRCH', 'funcalls': 55, 'grad': array([ 0.00280284])}\n",
      "  \" state: %s\" % convergence_dict)\n"
     ]
    },
    {
     "name": "stdout",
     "output_type": "stream",
     "text": [
      "iter 68\n"
     ]
    },
    {
     "name": "stderr",
     "output_type": "stream",
     "text": [
      "/Users/tsuzuki/anaconda3/lib/python3.4/site-packages/sklearn/gaussian_process/gpr.py:427: UserWarning: fmin_l_bfgs_b terminated abnormally with the  state: {'nit': 2, 'warnflag': 2, 'task': b'ABNORMAL_TERMINATION_IN_LNSRCH', 'funcalls': 34, 'grad': array([-11.70023614])}\n",
      "  \" state: %s\" % convergence_dict)\n"
     ]
    },
    {
     "name": "stdout",
     "output_type": "stream",
     "text": [
      "iter 69\n",
      "iter 70\n"
     ]
    },
    {
     "name": "stderr",
     "output_type": "stream",
     "text": [
      "/Users/tsuzuki/anaconda3/lib/python3.4/site-packages/sklearn/gaussian_process/gpr.py:427: UserWarning: fmin_l_bfgs_b terminated abnormally with the  state: {'nit': 4, 'warnflag': 2, 'task': b'ABNORMAL_TERMINATION_IN_LNSRCH', 'funcalls': 55, 'grad': array([ 0.00112705])}\n",
      "  \" state: %s\" % convergence_dict)\n",
      "/Users/tsuzuki/anaconda3/lib/python3.4/site-packages/sklearn/gaussian_process/gpr.py:427: UserWarning: fmin_l_bfgs_b terminated abnormally with the  state: {'nit': 4, 'warnflag': 2, 'task': b'ABNORMAL_TERMINATION_IN_LNSRCH', 'funcalls': 55, 'grad': array([ 0.0004512])}\n",
      "  \" state: %s\" % convergence_dict)\n",
      "/Users/tsuzuki/anaconda3/lib/python3.4/site-packages/sklearn/gaussian_process/gpr.py:427: UserWarning: fmin_l_bfgs_b terminated abnormally with the  state: {'nit': 3, 'warnflag': 2, 'task': b'ABNORMAL_TERMINATION_IN_LNSRCH', 'funcalls': 53, 'grad': array([ 0.0077892])}\n",
      "  \" state: %s\" % convergence_dict)\n"
     ]
    },
    {
     "name": "stdout",
     "output_type": "stream",
     "text": [
      "iter 71\n"
     ]
    },
    {
     "name": "stderr",
     "output_type": "stream",
     "text": [
      "/Users/tsuzuki/anaconda3/lib/python3.4/site-packages/sklearn/gaussian_process/gpr.py:427: UserWarning: fmin_l_bfgs_b terminated abnormally with the  state: {'nit': 3, 'warnflag': 2, 'task': b'ABNORMAL_TERMINATION_IN_LNSRCH', 'funcalls': 50, 'grad': array([-0.0024931])}\n",
      "  \" state: %s\" % convergence_dict)\n"
     ]
    },
    {
     "name": "stdout",
     "output_type": "stream",
     "text": [
      "iter 72\n",
      "iter 73\n"
     ]
    },
    {
     "name": "stderr",
     "output_type": "stream",
     "text": [
      "/Users/tsuzuki/anaconda3/lib/python3.4/site-packages/sklearn/gaussian_process/gpr.py:427: UserWarning: fmin_l_bfgs_b terminated abnormally with the  state: {'nit': 3, 'warnflag': 2, 'task': b'ABNORMAL_TERMINATION_IN_LNSRCH', 'funcalls': 54, 'grad': array([ 0.0070026])}\n",
      "  \" state: %s\" % convergence_dict)\n"
     ]
    },
    {
     "name": "stdout",
     "output_type": "stream",
     "text": [
      "iter 74\n"
     ]
    },
    {
     "name": "stderr",
     "output_type": "stream",
     "text": [
      "/Users/tsuzuki/anaconda3/lib/python3.4/site-packages/sklearn/gaussian_process/gpr.py:427: UserWarning: fmin_l_bfgs_b terminated abnormally with the  state: {'nit': 2, 'warnflag': 2, 'task': b'ABNORMAL_TERMINATION_IN_LNSRCH', 'funcalls': 51, 'grad': array([-0.00030311])}\n",
      "  \" state: %s\" % convergence_dict)\n",
      "/Users/tsuzuki/anaconda3/lib/python3.4/site-packages/sklearn/gaussian_process/gpr.py:427: UserWarning: fmin_l_bfgs_b terminated abnormally with the  state: {'nit': 3, 'warnflag': 2, 'task': b'ABNORMAL_TERMINATION_IN_LNSRCH', 'funcalls': 56, 'grad': array([ 0.0023829])}\n",
      "  \" state: %s\" % convergence_dict)\n"
     ]
    },
    {
     "name": "stdout",
     "output_type": "stream",
     "text": [
      "iter 75\n"
     ]
    },
    {
     "name": "stderr",
     "output_type": "stream",
     "text": [
      "/Users/tsuzuki/anaconda3/lib/python3.4/site-packages/sklearn/gaussian_process/gpr.py:427: UserWarning: fmin_l_bfgs_b terminated abnormally with the  state: {'nit': 6, 'warnflag': 2, 'task': b'ABNORMAL_TERMINATION_IN_LNSRCH', 'funcalls': 55, 'grad': array([-0.00317005])}\n",
      "  \" state: %s\" % convergence_dict)\n"
     ]
    },
    {
     "name": "stdout",
     "output_type": "stream",
     "text": [
      "iter 76\n"
     ]
    },
    {
     "name": "stderr",
     "output_type": "stream",
     "text": [
      "/Users/tsuzuki/anaconda3/lib/python3.4/site-packages/sklearn/gaussian_process/gpr.py:427: UserWarning: fmin_l_bfgs_b terminated abnormally with the  state: {'nit': 2, 'warnflag': 2, 'task': b'ABNORMAL_TERMINATION_IN_LNSRCH', 'funcalls': 51, 'grad': array([  9.15648416e-05])}\n",
      "  \" state: %s\" % convergence_dict)\n",
      "/Users/tsuzuki/anaconda3/lib/python3.4/site-packages/sklearn/gaussian_process/gpr.py:427: UserWarning: fmin_l_bfgs_b terminated abnormally with the  state: {'nit': 4, 'warnflag': 2, 'task': b'ABNORMAL_TERMINATION_IN_LNSRCH', 'funcalls': 53, 'grad': array([ 0.02246229])}\n",
      "  \" state: %s\" % convergence_dict)\n"
     ]
    },
    {
     "name": "stdout",
     "output_type": "stream",
     "text": [
      "iter 77\n"
     ]
    },
    {
     "name": "stderr",
     "output_type": "stream",
     "text": [
      "/Users/tsuzuki/anaconda3/lib/python3.4/site-packages/sklearn/gaussian_process/gpr.py:427: UserWarning: fmin_l_bfgs_b terminated abnormally with the  state: {'nit': 3, 'warnflag': 2, 'task': b'ABNORMAL_TERMINATION_IN_LNSRCH', 'funcalls': 56, 'grad': array([ 0.03746007])}\n",
      "  \" state: %s\" % convergence_dict)\n"
     ]
    },
    {
     "name": "stdout",
     "output_type": "stream",
     "text": [
      "iter 78\n"
     ]
    },
    {
     "name": "stderr",
     "output_type": "stream",
     "text": [
      "/Users/tsuzuki/anaconda3/lib/python3.4/site-packages/sklearn/gaussian_process/gpr.py:427: UserWarning: fmin_l_bfgs_b terminated abnormally with the  state: {'nit': 3, 'warnflag': 2, 'task': b'ABNORMAL_TERMINATION_IN_LNSRCH', 'funcalls': 54, 'grad': array([ 0.00875251])}\n",
      "  \" state: %s\" % convergence_dict)\n",
      "/Users/tsuzuki/anaconda3/lib/python3.4/site-packages/sklearn/gaussian_process/gpr.py:427: UserWarning: fmin_l_bfgs_b terminated abnormally with the  state: {'nit': 2, 'warnflag': 2, 'task': b'ABNORMAL_TERMINATION_IN_LNSRCH', 'funcalls': 36, 'grad': array([-16.67332424])}\n",
      "  \" state: %s\" % convergence_dict)\n",
      "/Users/tsuzuki/anaconda3/lib/python3.4/site-packages/sklearn/gaussian_process/gpr.py:427: UserWarning: fmin_l_bfgs_b terminated abnormally with the  state: {'nit': 5, 'warnflag': 2, 'task': b'ABNORMAL_TERMINATION_IN_LNSRCH', 'funcalls': 55, 'grad': array([-0.00911133])}\n",
      "  \" state: %s\" % convergence_dict)\n",
      "/Users/tsuzuki/anaconda3/lib/python3.4/site-packages/sklearn/gaussian_process/gpr.py:427: UserWarning: fmin_l_bfgs_b terminated abnormally with the  state: {'nit': 3, 'warnflag': 2, 'task': b'ABNORMAL_TERMINATION_IN_LNSRCH', 'funcalls': 36, 'grad': array([-11.96298602])}\n",
      "  \" state: %s\" % convergence_dict)\n"
     ]
    },
    {
     "name": "stdout",
     "output_type": "stream",
     "text": [
      "iter 79\n"
     ]
    },
    {
     "name": "stderr",
     "output_type": "stream",
     "text": [
      "/Users/tsuzuki/anaconda3/lib/python3.4/site-packages/sklearn/gaussian_process/gpr.py:427: UserWarning: fmin_l_bfgs_b terminated abnormally with the  state: {'nit': 3, 'warnflag': 2, 'task': b'ABNORMAL_TERMINATION_IN_LNSRCH', 'funcalls': 52, 'grad': array([ 0.02054861])}\n",
      "  \" state: %s\" % convergence_dict)\n",
      "/Users/tsuzuki/anaconda3/lib/python3.4/site-packages/sklearn/gaussian_process/gpr.py:427: UserWarning: fmin_l_bfgs_b terminated abnormally with the  state: {'nit': 4, 'warnflag': 2, 'task': b'ABNORMAL_TERMINATION_IN_LNSRCH', 'funcalls': 55, 'grad': array([ 0.00020665])}\n",
      "  \" state: %s\" % convergence_dict)\n"
     ]
    },
    {
     "name": "stdout",
     "output_type": "stream",
     "text": [
      "iter 80\n",
      "iter 81\n"
     ]
    },
    {
     "name": "stderr",
     "output_type": "stream",
     "text": [
      "/Users/tsuzuki/anaconda3/lib/python3.4/site-packages/sklearn/gaussian_process/gpr.py:427: UserWarning: fmin_l_bfgs_b terminated abnormally with the  state: {'nit': 5, 'warnflag': 2, 'task': b'ABNORMAL_TERMINATION_IN_LNSRCH', 'funcalls': 56, 'grad': array([ 0.00029856])}\n",
      "  \" state: %s\" % convergence_dict)\n",
      "/Users/tsuzuki/anaconda3/lib/python3.4/site-packages/sklearn/gaussian_process/gpr.py:427: UserWarning: fmin_l_bfgs_b terminated abnormally with the  state: {'nit': 4, 'warnflag': 2, 'task': b'ABNORMAL_TERMINATION_IN_LNSRCH', 'funcalls': 49, 'grad': array([-0.0052542])}\n",
      "  \" state: %s\" % convergence_dict)\n"
     ]
    },
    {
     "name": "stdout",
     "output_type": "stream",
     "text": [
      "iter 82\n",
      "iter 83\n"
     ]
    },
    {
     "name": "stderr",
     "output_type": "stream",
     "text": [
      "/Users/tsuzuki/anaconda3/lib/python3.4/site-packages/sklearn/gaussian_process/gpr.py:427: UserWarning: fmin_l_bfgs_b terminated abnormally with the  state: {'nit': 3, 'warnflag': 2, 'task': b'ABNORMAL_TERMINATION_IN_LNSRCH', 'funcalls': 54, 'grad': array([ 0.01452303])}\n",
      "  \" state: %s\" % convergence_dict)\n"
     ]
    },
    {
     "name": "stdout",
     "output_type": "stream",
     "text": [
      "iter 84\n"
     ]
    },
    {
     "name": "stderr",
     "output_type": "stream",
     "text": [
      "/Users/tsuzuki/anaconda3/lib/python3.4/site-packages/sklearn/gaussian_process/gpr.py:427: UserWarning: fmin_l_bfgs_b terminated abnormally with the  state: {'nit': 3, 'warnflag': 2, 'task': b'ABNORMAL_TERMINATION_IN_LNSRCH', 'funcalls': 47, 'grad': array([ 0.02231521])}\n",
      "  \" state: %s\" % convergence_dict)\n",
      "/Users/tsuzuki/anaconda3/lib/python3.4/site-packages/sklearn/gaussian_process/gpr.py:427: UserWarning: fmin_l_bfgs_b terminated abnormally with the  state: {'nit': 2, 'warnflag': 2, 'task': b'ABNORMAL_TERMINATION_IN_LNSRCH', 'funcalls': 51, 'grad': array([ 0.00693242])}\n",
      "  \" state: %s\" % convergence_dict)\n"
     ]
    },
    {
     "name": "stdout",
     "output_type": "stream",
     "text": [
      "iter 85\n"
     ]
    },
    {
     "name": "stderr",
     "output_type": "stream",
     "text": [
      "/Users/tsuzuki/anaconda3/lib/python3.4/site-packages/sklearn/gaussian_process/gpr.py:427: UserWarning: fmin_l_bfgs_b terminated abnormally with the  state: {'nit': 3, 'warnflag': 2, 'task': b'ABNORMAL_TERMINATION_IN_LNSRCH', 'funcalls': 51, 'grad': array([ 0.00559104])}\n",
      "  \" state: %s\" % convergence_dict)\n"
     ]
    },
    {
     "name": "stdout",
     "output_type": "stream",
     "text": [
      "iter 86\n"
     ]
    },
    {
     "name": "stderr",
     "output_type": "stream",
     "text": [
      "/Users/tsuzuki/anaconda3/lib/python3.4/site-packages/sklearn/gaussian_process/gpr.py:427: UserWarning: fmin_l_bfgs_b terminated abnormally with the  state: {'nit': 3, 'warnflag': 2, 'task': b'ABNORMAL_TERMINATION_IN_LNSRCH', 'funcalls': 47, 'grad': array([ 0.00257507])}\n",
      "  \" state: %s\" % convergence_dict)\n",
      "/Users/tsuzuki/anaconda3/lib/python3.4/site-packages/sklearn/gaussian_process/gpr.py:427: UserWarning: fmin_l_bfgs_b terminated abnormally with the  state: {'nit': 3, 'warnflag': 2, 'task': b'ABNORMAL_TERMINATION_IN_LNSRCH', 'funcalls': 52, 'grad': array([ 0.00391698])}\n",
      "  \" state: %s\" % convergence_dict)\n",
      "/Users/tsuzuki/anaconda3/lib/python3.4/site-packages/sklearn/gaussian_process/gpr.py:427: UserWarning: fmin_l_bfgs_b terminated abnormally with the  state: {'nit': 2, 'warnflag': 2, 'task': b'ABNORMAL_TERMINATION_IN_LNSRCH', 'funcalls': 52, 'grad': array([  9.82936472e-05])}\n",
      "  \" state: %s\" % convergence_dict)\n",
      "/Users/tsuzuki/anaconda3/lib/python3.4/site-packages/sklearn/gaussian_process/gpr.py:427: UserWarning: fmin_l_bfgs_b terminated abnormally with the  state: {'nit': 2, 'warnflag': 2, 'task': b'ABNORMAL_TERMINATION_IN_LNSRCH', 'funcalls': 51, 'grad': array([-0.00089129])}\n",
      "  \" state: %s\" % convergence_dict)\n"
     ]
    },
    {
     "name": "stdout",
     "output_type": "stream",
     "text": [
      "iter 87\n"
     ]
    },
    {
     "name": "stderr",
     "output_type": "stream",
     "text": [
      "/Users/tsuzuki/anaconda3/lib/python3.4/site-packages/sklearn/gaussian_process/gpr.py:427: UserWarning: fmin_l_bfgs_b terminated abnormally with the  state: {'nit': 3, 'warnflag': 2, 'task': b'ABNORMAL_TERMINATION_IN_LNSRCH', 'funcalls': 47, 'grad': array([ 0.02071897])}\n",
      "  \" state: %s\" % convergence_dict)\n",
      "/Users/tsuzuki/anaconda3/lib/python3.4/site-packages/sklearn/gaussian_process/gpr.py:427: UserWarning: fmin_l_bfgs_b terminated abnormally with the  state: {'nit': 4, 'warnflag': 2, 'task': b'ABNORMAL_TERMINATION_IN_LNSRCH', 'funcalls': 53, 'grad': array([-0.00179386])}\n",
      "  \" state: %s\" % convergence_dict)\n"
     ]
    },
    {
     "name": "stdout",
     "output_type": "stream",
     "text": [
      "iter 88\n"
     ]
    },
    {
     "name": "stderr",
     "output_type": "stream",
     "text": [
      "/Users/tsuzuki/anaconda3/lib/python3.4/site-packages/sklearn/gaussian_process/gpr.py:427: UserWarning: fmin_l_bfgs_b terminated abnormally with the  state: {'nit': 3, 'warnflag': 2, 'task': b'ABNORMAL_TERMINATION_IN_LNSRCH', 'funcalls': 53, 'grad': array([ 0.00115799])}\n",
      "  \" state: %s\" % convergence_dict)\n",
      "/Users/tsuzuki/anaconda3/lib/python3.4/site-packages/sklearn/gaussian_process/gpr.py:427: UserWarning: fmin_l_bfgs_b terminated abnormally with the  state: {'nit': 5, 'warnflag': 2, 'task': b'ABNORMAL_TERMINATION_IN_LNSRCH', 'funcalls': 57, 'grad': array([ 0.02609951])}\n",
      "  \" state: %s\" % convergence_dict)\n",
      "/Users/tsuzuki/anaconda3/lib/python3.4/site-packages/sklearn/gaussian_process/gpr.py:427: UserWarning: fmin_l_bfgs_b terminated abnormally with the  state: {'nit': 5, 'warnflag': 2, 'task': b'ABNORMAL_TERMINATION_IN_LNSRCH', 'funcalls': 51, 'grad': array([-0.00054239])}\n",
      "  \" state: %s\" % convergence_dict)\n",
      "/Users/tsuzuki/anaconda3/lib/python3.4/site-packages/sklearn/gaussian_process/gpr.py:427: UserWarning: fmin_l_bfgs_b terminated abnormally with the  state: {'nit': 2, 'warnflag': 2, 'task': b'ABNORMAL_TERMINATION_IN_LNSRCH', 'funcalls': 32, 'grad': array([-83.91876861])}\n",
      "  \" state: %s\" % convergence_dict)\n"
     ]
    },
    {
     "name": "stdout",
     "output_type": "stream",
     "text": [
      "iter 89\n"
     ]
    },
    {
     "name": "stderr",
     "output_type": "stream",
     "text": [
      "/Users/tsuzuki/anaconda3/lib/python3.4/site-packages/sklearn/gaussian_process/gpr.py:427: UserWarning: fmin_l_bfgs_b terminated abnormally with the  state: {'nit': 2, 'warnflag': 2, 'task': b'ABNORMAL_TERMINATION_IN_LNSRCH', 'funcalls': 30, 'grad': array([-58.68660277])}\n",
      "  \" state: %s\" % convergence_dict)\n",
      "/Users/tsuzuki/anaconda3/lib/python3.4/site-packages/sklearn/gaussian_process/gpr.py:308: UserWarning: Predicted variances smaller than 0. Setting those variances to 0.\n",
      "  warnings.warn(\"Predicted variances smaller than 0. \"\n"
     ]
    },
    {
     "name": "stdout",
     "output_type": "stream",
     "text": [
      "iter 90\n"
     ]
    },
    {
     "name": "stderr",
     "output_type": "stream",
     "text": [
      "/Users/tsuzuki/anaconda3/lib/python3.4/site-packages/sklearn/gaussian_process/gpr.py:427: UserWarning: fmin_l_bfgs_b terminated abnormally with the  state: {'nit': 3, 'warnflag': 2, 'task': b'ABNORMAL_TERMINATION_IN_LNSRCH', 'funcalls': 53, 'grad': array([  2.25020922e-05])}\n",
      "  \" state: %s\" % convergence_dict)\n",
      "/Users/tsuzuki/anaconda3/lib/python3.4/site-packages/sklearn/gaussian_process/gpr.py:427: UserWarning: fmin_l_bfgs_b terminated abnormally with the  state: {'nit': 4, 'warnflag': 2, 'task': b'ABNORMAL_TERMINATION_IN_LNSRCH', 'funcalls': 57, 'grad': array([ 0.00331451])}\n",
      "  \" state: %s\" % convergence_dict)\n"
     ]
    },
    {
     "name": "stdout",
     "output_type": "stream",
     "text": [
      "iter 91\n"
     ]
    },
    {
     "name": "stderr",
     "output_type": "stream",
     "text": [
      "/Users/tsuzuki/anaconda3/lib/python3.4/site-packages/sklearn/gaussian_process/gpr.py:427: UserWarning: fmin_l_bfgs_b terminated abnormally with the  state: {'nit': 5, 'warnflag': 2, 'task': b'ABNORMAL_TERMINATION_IN_LNSRCH', 'funcalls': 51, 'grad': array([-0.0005316])}\n",
      "  \" state: %s\" % convergence_dict)\n"
     ]
    },
    {
     "name": "stdout",
     "output_type": "stream",
     "text": [
      "iter 92\n"
     ]
    },
    {
     "name": "stderr",
     "output_type": "stream",
     "text": [
      "/Users/tsuzuki/anaconda3/lib/python3.4/site-packages/sklearn/gaussian_process/gpr.py:427: UserWarning: fmin_l_bfgs_b terminated abnormally with the  state: {'nit': 2, 'warnflag': 2, 'task': b'ABNORMAL_TERMINATION_IN_LNSRCH', 'funcalls': 52, 'grad': array([ 0.00061614])}\n",
      "  \" state: %s\" % convergence_dict)\n",
      "/Users/tsuzuki/anaconda3/lib/python3.4/site-packages/sklearn/gaussian_process/gpr.py:427: UserWarning: fmin_l_bfgs_b terminated abnormally with the  state: {'nit': 4, 'warnflag': 2, 'task': b'ABNORMAL_TERMINATION_IN_LNSRCH', 'funcalls': 49, 'grad': array([-0.02582753])}\n",
      "  \" state: %s\" % convergence_dict)\n"
     ]
    },
    {
     "name": "stdout",
     "output_type": "stream",
     "text": [
      "iter 93\n"
     ]
    },
    {
     "name": "stderr",
     "output_type": "stream",
     "text": [
      "/Users/tsuzuki/anaconda3/lib/python3.4/site-packages/sklearn/gaussian_process/gpr.py:427: UserWarning: fmin_l_bfgs_b terminated abnormally with the  state: {'nit': 2, 'warnflag': 2, 'task': b'ABNORMAL_TERMINATION_IN_LNSRCH', 'funcalls': 34, 'grad': array([-11.86989334])}\n",
      "  \" state: %s\" % convergence_dict)\n",
      "/Users/tsuzuki/anaconda3/lib/python3.4/site-packages/sklearn/gaussian_process/gpr.py:427: UserWarning: fmin_l_bfgs_b terminated abnormally with the  state: {'nit': 4, 'warnflag': 2, 'task': b'ABNORMAL_TERMINATION_IN_LNSRCH', 'funcalls': 49, 'grad': array([ 0.00512896])}\n",
      "  \" state: %s\" % convergence_dict)\n"
     ]
    },
    {
     "name": "stdout",
     "output_type": "stream",
     "text": [
      "iter 94\n"
     ]
    },
    {
     "name": "stderr",
     "output_type": "stream",
     "text": [
      "/Users/tsuzuki/anaconda3/lib/python3.4/site-packages/sklearn/gaussian_process/gpr.py:427: UserWarning: fmin_l_bfgs_b terminated abnormally with the  state: {'nit': 2, 'warnflag': 2, 'task': b'ABNORMAL_TERMINATION_IN_LNSRCH', 'funcalls': 53, 'grad': array([ 0.02022298])}\n",
      "  \" state: %s\" % convergence_dict)\n",
      "/Users/tsuzuki/anaconda3/lib/python3.4/site-packages/sklearn/gaussian_process/gpr.py:427: UserWarning: fmin_l_bfgs_b terminated abnormally with the  state: {'nit': 4, 'warnflag': 2, 'task': b'ABNORMAL_TERMINATION_IN_LNSRCH', 'funcalls': 51, 'grad': array([-0.00365926])}\n",
      "  \" state: %s\" % convergence_dict)\n",
      "/Users/tsuzuki/anaconda3/lib/python3.4/site-packages/sklearn/gaussian_process/gpr.py:427: UserWarning: fmin_l_bfgs_b terminated abnormally with the  state: {'nit': 6, 'warnflag': 2, 'task': b'ABNORMAL_TERMINATION_IN_LNSRCH', 'funcalls': 49, 'grad': array([ 0.0031001])}\n",
      "  \" state: %s\" % convergence_dict)\n"
     ]
    },
    {
     "name": "stdout",
     "output_type": "stream",
     "text": [
      "iter 95\n"
     ]
    },
    {
     "name": "stderr",
     "output_type": "stream",
     "text": [
      "/Users/tsuzuki/anaconda3/lib/python3.4/site-packages/sklearn/gaussian_process/gpr.py:427: UserWarning: fmin_l_bfgs_b terminated abnormally with the  state: {'nit': 3, 'warnflag': 2, 'task': b'ABNORMAL_TERMINATION_IN_LNSRCH', 'funcalls': 53, 'grad': array([ 0.00022694])}\n",
      "  \" state: %s\" % convergence_dict)\n",
      "/Users/tsuzuki/anaconda3/lib/python3.4/site-packages/sklearn/gaussian_process/gpr.py:427: UserWarning: fmin_l_bfgs_b terminated abnormally with the  state: {'nit': 5, 'warnflag': 2, 'task': b'ABNORMAL_TERMINATION_IN_LNSRCH', 'funcalls': 51, 'grad': array([-0.00053142])}\n",
      "  \" state: %s\" % convergence_dict)\n",
      "/Users/tsuzuki/anaconda3/lib/python3.4/site-packages/sklearn/gaussian_process/gpr.py:427: UserWarning: fmin_l_bfgs_b terminated abnormally with the  state: {'nit': 4, 'warnflag': 2, 'task': b'ABNORMAL_TERMINATION_IN_LNSRCH', 'funcalls': 55, 'grad': array([ 0.00093207])}\n",
      "  \" state: %s\" % convergence_dict)\n",
      "/Users/tsuzuki/anaconda3/lib/python3.4/site-packages/sklearn/gaussian_process/gpr.py:427: UserWarning: fmin_l_bfgs_b terminated abnormally with the  state: {'nit': 3, 'warnflag': 2, 'task': b'ABNORMAL_TERMINATION_IN_LNSRCH', 'funcalls': 51, 'grad': array([ 0.00333319])}\n",
      "  \" state: %s\" % convergence_dict)\n"
     ]
    },
    {
     "name": "stdout",
     "output_type": "stream",
     "text": [
      "iter 96\n"
     ]
    },
    {
     "name": "stderr",
     "output_type": "stream",
     "text": [
      "/Users/tsuzuki/anaconda3/lib/python3.4/site-packages/sklearn/gaussian_process/gpr.py:427: UserWarning: fmin_l_bfgs_b terminated abnormally with the  state: {'nit': 5, 'warnflag': 2, 'task': b'ABNORMAL_TERMINATION_IN_LNSRCH', 'funcalls': 59, 'grad': array([-0.0057973])}\n",
      "  \" state: %s\" % convergence_dict)\n",
      "/Users/tsuzuki/anaconda3/lib/python3.4/site-packages/sklearn/gaussian_process/gpr.py:427: UserWarning: fmin_l_bfgs_b terminated abnormally with the  state: {'nit': 5, 'warnflag': 2, 'task': b'ABNORMAL_TERMINATION_IN_LNSRCH', 'funcalls': 51, 'grad': array([-0.0005675])}\n",
      "  \" state: %s\" % convergence_dict)\n",
      "/Users/tsuzuki/anaconda3/lib/python3.4/site-packages/sklearn/gaussian_process/gpr.py:427: UserWarning: fmin_l_bfgs_b terminated abnormally with the  state: {'nit': 2, 'warnflag': 2, 'task': b'ABNORMAL_TERMINATION_IN_LNSRCH', 'funcalls': 51, 'grad': array([-0.00118779])}\n",
      "  \" state: %s\" % convergence_dict)\n"
     ]
    },
    {
     "name": "stdout",
     "output_type": "stream",
     "text": [
      "iter 97\n"
     ]
    },
    {
     "name": "stderr",
     "output_type": "stream",
     "text": [
      "/Users/tsuzuki/anaconda3/lib/python3.4/site-packages/sklearn/gaussian_process/gpr.py:427: UserWarning: fmin_l_bfgs_b terminated abnormally with the  state: {'nit': 2, 'warnflag': 2, 'task': b'ABNORMAL_TERMINATION_IN_LNSRCH', 'funcalls': 52, 'grad': array([ 0.00022671])}\n",
      "  \" state: %s\" % convergence_dict)\n"
     ]
    },
    {
     "name": "stdout",
     "output_type": "stream",
     "text": [
      "iter 98\n"
     ]
    },
    {
     "name": "stderr",
     "output_type": "stream",
     "text": [
      "/Users/tsuzuki/anaconda3/lib/python3.4/site-packages/sklearn/gaussian_process/gpr.py:427: UserWarning: fmin_l_bfgs_b terminated abnormally with the  state: {'nit': 3, 'warnflag': 2, 'task': b'ABNORMAL_TERMINATION_IN_LNSRCH', 'funcalls': 54, 'grad': array([ 0.02553073])}\n",
      "  \" state: %s\" % convergence_dict)\n",
      "/Users/tsuzuki/anaconda3/lib/python3.4/site-packages/sklearn/gaussian_process/gpr.py:427: UserWarning: fmin_l_bfgs_b terminated abnormally with the  state: {'nit': 2, 'warnflag': 2, 'task': b'ABNORMAL_TERMINATION_IN_LNSRCH', 'funcalls': 51, 'grad': array([-0.00036736])}\n",
      "  \" state: %s\" % convergence_dict)\n"
     ]
    },
    {
     "name": "stdout",
     "output_type": "stream",
     "text": [
      "iter 99\n"
     ]
    },
    {
     "name": "stderr",
     "output_type": "stream",
     "text": [
      "/Users/tsuzuki/anaconda3/lib/python3.4/site-packages/sklearn/gaussian_process/gpr.py:427: UserWarning: fmin_l_bfgs_b terminated abnormally with the  state: {'nit': 4, 'warnflag': 2, 'task': b'ABNORMAL_TERMINATION_IN_LNSRCH', 'funcalls': 55, 'grad': array([-0.00081316])}\n",
      "  \" state: %s\" % convergence_dict)\n",
      "/Users/tsuzuki/anaconda3/lib/python3.4/site-packages/sklearn/gaussian_process/gpr.py:427: UserWarning: fmin_l_bfgs_b terminated abnormally with the  state: {'nit': 4, 'warnflag': 2, 'task': b'ABNORMAL_TERMINATION_IN_LNSRCH', 'funcalls': 49, 'grad': array([-0.00438646])}\n",
      "  \" state: %s\" % convergence_dict)\n"
     ]
    },
    {
     "name": "stdout",
     "output_type": "stream",
     "text": [
      "iter 100\n"
     ]
    },
    {
     "name": "stderr",
     "output_type": "stream",
     "text": [
      "/Users/tsuzuki/anaconda3/lib/python3.4/site-packages/sklearn/gaussian_process/gpr.py:427: UserWarning: fmin_l_bfgs_b terminated abnormally with the  state: {'nit': 3, 'warnflag': 2, 'task': b'ABNORMAL_TERMINATION_IN_LNSRCH', 'funcalls': 47, 'grad': array([ 0.00584866])}\n",
      "  \" state: %s\" % convergence_dict)\n",
      "/Users/tsuzuki/anaconda3/lib/python3.4/site-packages/sklearn/gaussian_process/gpr.py:427: UserWarning: fmin_l_bfgs_b terminated abnormally with the  state: {'nit': 4, 'warnflag': 2, 'task': b'ABNORMAL_TERMINATION_IN_LNSRCH', 'funcalls': 49, 'grad': array([ 0.00137905])}\n",
      "  \" state: %s\" % convergence_dict)\n"
     ]
    },
    {
     "name": "stdout",
     "output_type": "stream",
     "text": [
      "iter 101\n"
     ]
    },
    {
     "name": "stderr",
     "output_type": "stream",
     "text": [
      "/Users/tsuzuki/anaconda3/lib/python3.4/site-packages/sklearn/gaussian_process/gpr.py:427: UserWarning: fmin_l_bfgs_b terminated abnormally with the  state: {'nit': 2, 'warnflag': 2, 'task': b'ABNORMAL_TERMINATION_IN_LNSRCH', 'funcalls': 33, 'grad': array([-18.78593888])}\n",
      "  \" state: %s\" % convergence_dict)\n",
      "/Users/tsuzuki/anaconda3/lib/python3.4/site-packages/sklearn/gaussian_process/gpr.py:427: UserWarning: fmin_l_bfgs_b terminated abnormally with the  state: {'nit': 2, 'warnflag': 2, 'task': b'ABNORMAL_TERMINATION_IN_LNSRCH', 'funcalls': 36, 'grad': array([-11.1131542])}\n",
      "  \" state: %s\" % convergence_dict)\n",
      "/Users/tsuzuki/anaconda3/lib/python3.4/site-packages/sklearn/gaussian_process/gpr.py:427: UserWarning: fmin_l_bfgs_b terminated abnormally with the  state: {'nit': 4, 'warnflag': 2, 'task': b'ABNORMAL_TERMINATION_IN_LNSRCH', 'funcalls': 55, 'grad': array([ 0.00057224])}\n",
      "  \" state: %s\" % convergence_dict)\n",
      "/Users/tsuzuki/anaconda3/lib/python3.4/site-packages/sklearn/gaussian_process/gpr.py:427: UserWarning: fmin_l_bfgs_b terminated abnormally with the  state: {'nit': 2, 'warnflag': 2, 'task': b'ABNORMAL_TERMINATION_IN_LNSRCH', 'funcalls': 35, 'grad': array([-10.41157732])}\n",
      "  \" state: %s\" % convergence_dict)\n"
     ]
    },
    {
     "name": "stdout",
     "output_type": "stream",
     "text": [
      "iter 102\n"
     ]
    },
    {
     "name": "stderr",
     "output_type": "stream",
     "text": [
      "/Users/tsuzuki/anaconda3/lib/python3.4/site-packages/sklearn/gaussian_process/gpr.py:427: UserWarning: fmin_l_bfgs_b terminated abnormally with the  state: {'nit': 5, 'warnflag': 2, 'task': b'ABNORMAL_TERMINATION_IN_LNSRCH', 'funcalls': 52, 'grad': array([ 0.01734293])}\n",
      "  \" state: %s\" % convergence_dict)\n",
      "/Users/tsuzuki/anaconda3/lib/python3.4/site-packages/sklearn/gaussian_process/gpr.py:427: UserWarning: fmin_l_bfgs_b terminated abnormally with the  state: {'nit': 6, 'warnflag': 2, 'task': b'ABNORMAL_TERMINATION_IN_LNSRCH', 'funcalls': 55, 'grad': array([-0.00095674])}\n",
      "  \" state: %s\" % convergence_dict)\n",
      "/Users/tsuzuki/anaconda3/lib/python3.4/site-packages/sklearn/gaussian_process/gpr.py:427: UserWarning: fmin_l_bfgs_b terminated abnormally with the  state: {'nit': 2, 'warnflag': 2, 'task': b'ABNORMAL_TERMINATION_IN_LNSRCH', 'funcalls': 34, 'grad': array([-87.89148574])}\n",
      "  \" state: %s\" % convergence_dict)\n"
     ]
    },
    {
     "name": "stdout",
     "output_type": "stream",
     "text": [
      "iter 103\n"
     ]
    },
    {
     "name": "stderr",
     "output_type": "stream",
     "text": [
      "/Users/tsuzuki/anaconda3/lib/python3.4/site-packages/sklearn/gaussian_process/gpr.py:427: UserWarning: fmin_l_bfgs_b terminated abnormally with the  state: {'nit': 5, 'warnflag': 2, 'task': b'ABNORMAL_TERMINATION_IN_LNSRCH', 'funcalls': 59, 'grad': array([-0.00566516])}\n",
      "  \" state: %s\" % convergence_dict)\n",
      "/Users/tsuzuki/anaconda3/lib/python3.4/site-packages/sklearn/gaussian_process/gpr.py:427: UserWarning: fmin_l_bfgs_b terminated abnormally with the  state: {'nit': 2, 'warnflag': 2, 'task': b'ABNORMAL_TERMINATION_IN_LNSRCH', 'funcalls': 35, 'grad': array([-10.13673695])}\n",
      "  \" state: %s\" % convergence_dict)\n"
     ]
    },
    {
     "name": "stdout",
     "output_type": "stream",
     "text": [
      "iter 104\n"
     ]
    },
    {
     "name": "stderr",
     "output_type": "stream",
     "text": [
      "/Users/tsuzuki/anaconda3/lib/python3.4/site-packages/sklearn/gaussian_process/gpr.py:427: UserWarning: fmin_l_bfgs_b terminated abnormally with the  state: {'nit': 5, 'warnflag': 2, 'task': b'ABNORMAL_TERMINATION_IN_LNSRCH', 'funcalls': 52, 'grad': array([-0.00223051])}\n",
      "  \" state: %s\" % convergence_dict)\n"
     ]
    },
    {
     "name": "stdout",
     "output_type": "stream",
     "text": [
      "iter 105\n"
     ]
    },
    {
     "name": "stderr",
     "output_type": "stream",
     "text": [
      "/Users/tsuzuki/anaconda3/lib/python3.4/site-packages/sklearn/gaussian_process/gpr.py:427: UserWarning: fmin_l_bfgs_b terminated abnormally with the  state: {'nit': 4, 'warnflag': 2, 'task': b'ABNORMAL_TERMINATION_IN_LNSRCH', 'funcalls': 56, 'grad': array([-0.00612903])}\n",
      "  \" state: %s\" % convergence_dict)\n"
     ]
    },
    {
     "name": "stdout",
     "output_type": "stream",
     "text": [
      "iter 106\n"
     ]
    },
    {
     "name": "stderr",
     "output_type": "stream",
     "text": [
      "/Users/tsuzuki/anaconda3/lib/python3.4/site-packages/sklearn/gaussian_process/gpr.py:427: UserWarning: fmin_l_bfgs_b terminated abnormally with the  state: {'nit': 5, 'warnflag': 2, 'task': b'ABNORMAL_TERMINATION_IN_LNSRCH', 'funcalls': 59, 'grad': array([ 0.04413932])}\n",
      "  \" state: %s\" % convergence_dict)\n"
     ]
    },
    {
     "name": "stdout",
     "output_type": "stream",
     "text": [
      "iter 107\n"
     ]
    },
    {
     "name": "stderr",
     "output_type": "stream",
     "text": [
      "/Users/tsuzuki/anaconda3/lib/python3.4/site-packages/sklearn/gaussian_process/gpr.py:427: UserWarning: fmin_l_bfgs_b terminated abnormally with the  state: {'nit': 3, 'warnflag': 2, 'task': b'ABNORMAL_TERMINATION_IN_LNSRCH', 'funcalls': 36, 'grad': array([-9.111483])}\n",
      "  \" state: %s\" % convergence_dict)\n",
      "/Users/tsuzuki/anaconda3/lib/python3.4/site-packages/sklearn/gaussian_process/gpr.py:427: UserWarning: fmin_l_bfgs_b terminated abnormally with the  state: {'nit': 3, 'warnflag': 2, 'task': b'ABNORMAL_TERMINATION_IN_LNSRCH', 'funcalls': 51, 'grad': array([-0.04187729])}\n",
      "  \" state: %s\" % convergence_dict)\n"
     ]
    },
    {
     "name": "stdout",
     "output_type": "stream",
     "text": [
      "iter 108\n"
     ]
    },
    {
     "name": "stderr",
     "output_type": "stream",
     "text": [
      "/Users/tsuzuki/anaconda3/lib/python3.4/site-packages/sklearn/gaussian_process/gpr.py:427: UserWarning: fmin_l_bfgs_b terminated abnormally with the  state: {'nit': 3, 'warnflag': 2, 'task': b'ABNORMAL_TERMINATION_IN_LNSRCH', 'funcalls': 56, 'grad': array([ 0.20060221])}\n",
      "  \" state: %s\" % convergence_dict)\n"
     ]
    },
    {
     "name": "stdout",
     "output_type": "stream",
     "text": [
      "iter 109\n"
     ]
    },
    {
     "name": "stderr",
     "output_type": "stream",
     "text": [
      "/Users/tsuzuki/anaconda3/lib/python3.4/site-packages/sklearn/gaussian_process/gpr.py:427: UserWarning: fmin_l_bfgs_b terminated abnormally with the  state: {'nit': 6, 'warnflag': 2, 'task': b'ABNORMAL_TERMINATION_IN_LNSRCH', 'funcalls': 49, 'grad': array([ 0.00247463])}\n",
      "  \" state: %s\" % convergence_dict)\n"
     ]
    },
    {
     "name": "stdout",
     "output_type": "stream",
     "text": [
      "iter 110\n"
     ]
    },
    {
     "name": "stderr",
     "output_type": "stream",
     "text": [
      "/Users/tsuzuki/anaconda3/lib/python3.4/site-packages/sklearn/gaussian_process/gpr.py:427: UserWarning: fmin_l_bfgs_b terminated abnormally with the  state: {'nit': 3, 'warnflag': 2, 'task': b'ABNORMAL_TERMINATION_IN_LNSRCH', 'funcalls': 48, 'grad': array([ 0.00137242])}\n",
      "  \" state: %s\" % convergence_dict)\n",
      "/Users/tsuzuki/anaconda3/lib/python3.4/site-packages/sklearn/gaussian_process/gpr.py:427: UserWarning: fmin_l_bfgs_b terminated abnormally with the  state: {'nit': 3, 'warnflag': 2, 'task': b'ABNORMAL_TERMINATION_IN_LNSRCH', 'funcalls': 48, 'grad': array([-0.02164804])}\n",
      "  \" state: %s\" % convergence_dict)\n",
      "/Users/tsuzuki/anaconda3/lib/python3.4/site-packages/sklearn/gaussian_process/gpr.py:427: UserWarning: fmin_l_bfgs_b terminated abnormally with the  state: {'nit': 3, 'warnflag': 2, 'task': b'ABNORMAL_TERMINATION_IN_LNSRCH', 'funcalls': 54, 'grad': array([-0.01885801])}\n",
      "  \" state: %s\" % convergence_dict)\n"
     ]
    },
    {
     "name": "stdout",
     "output_type": "stream",
     "text": [
      "iter 111\n"
     ]
    },
    {
     "name": "stderr",
     "output_type": "stream",
     "text": [
      "/Users/tsuzuki/anaconda3/lib/python3.4/site-packages/sklearn/gaussian_process/gpr.py:427: UserWarning: fmin_l_bfgs_b terminated abnormally with the  state: {'nit': 3, 'warnflag': 2, 'task': b'ABNORMAL_TERMINATION_IN_LNSRCH', 'funcalls': 52, 'grad': array([-0.04828208])}\n",
      "  \" state: %s\" % convergence_dict)\n"
     ]
    },
    {
     "name": "stdout",
     "output_type": "stream",
     "text": [
      "iter 112\n",
      "iter 113\n"
     ]
    },
    {
     "name": "stderr",
     "output_type": "stream",
     "text": [
      "/Users/tsuzuki/anaconda3/lib/python3.4/site-packages/sklearn/gaussian_process/gpr.py:427: UserWarning: fmin_l_bfgs_b terminated abnormally with the  state: {'nit': 3, 'warnflag': 2, 'task': b'ABNORMAL_TERMINATION_IN_LNSRCH', 'funcalls': 48, 'grad': array([ 0.01661088])}\n",
      "  \" state: %s\" % convergence_dict)\n",
      "/Users/tsuzuki/anaconda3/lib/python3.4/site-packages/sklearn/gaussian_process/gpr.py:427: UserWarning: fmin_l_bfgs_b terminated abnormally with the  state: {'nit': 5, 'warnflag': 2, 'task': b'ABNORMAL_TERMINATION_IN_LNSRCH', 'funcalls': 54, 'grad': array([ 0.00738022])}\n",
      "  \" state: %s\" % convergence_dict)\n"
     ]
    },
    {
     "name": "stdout",
     "output_type": "stream",
     "text": [
      "iter 114\n"
     ]
    },
    {
     "name": "stderr",
     "output_type": "stream",
     "text": [
      "/Users/tsuzuki/anaconda3/lib/python3.4/site-packages/sklearn/gaussian_process/gpr.py:427: UserWarning: fmin_l_bfgs_b terminated abnormally with the  state: {'nit': 5, 'warnflag': 2, 'task': b'ABNORMAL_TERMINATION_IN_LNSRCH', 'funcalls': 58, 'grad': array([ 0.00191751])}\n",
      "  \" state: %s\" % convergence_dict)\n"
     ]
    },
    {
     "name": "stdout",
     "output_type": "stream",
     "text": [
      "iter 115\n",
      "iter 116\n"
     ]
    },
    {
     "name": "stderr",
     "output_type": "stream",
     "text": [
      "/Users/tsuzuki/anaconda3/lib/python3.4/site-packages/sklearn/gaussian_process/gpr.py:427: UserWarning: fmin_l_bfgs_b terminated abnormally with the  state: {'nit': 2, 'warnflag': 2, 'task': b'ABNORMAL_TERMINATION_IN_LNSRCH', 'funcalls': 51, 'grad': array([-0.00122017])}\n",
      "  \" state: %s\" % convergence_dict)\n",
      "/Users/tsuzuki/anaconda3/lib/python3.4/site-packages/sklearn/gaussian_process/gpr.py:427: UserWarning: fmin_l_bfgs_b terminated abnormally with the  state: {'nit': 4, 'warnflag': 2, 'task': b'ABNORMAL_TERMINATION_IN_LNSRCH', 'funcalls': 53, 'grad': array([ 0.06567204])}\n",
      "  \" state: %s\" % convergence_dict)\n",
      "/Users/tsuzuki/anaconda3/lib/python3.4/site-packages/sklearn/gaussian_process/gpr.py:427: UserWarning: fmin_l_bfgs_b terminated abnormally with the  state: {'nit': 1, 'warnflag': 2, 'task': b'ABNORMAL_TERMINATION_IN_LNSRCH', 'funcalls': 48, 'grad': array([-234.54711233])}\n",
      "  \" state: %s\" % convergence_dict)\n"
     ]
    },
    {
     "name": "stdout",
     "output_type": "stream",
     "text": [
      "iter 117\n",
      "iter 118\n"
     ]
    },
    {
     "name": "stderr",
     "output_type": "stream",
     "text": [
      "/Users/tsuzuki/anaconda3/lib/python3.4/site-packages/sklearn/gaussian_process/gpr.py:427: UserWarning: fmin_l_bfgs_b terminated abnormally with the  state: {'nit': 4, 'warnflag': 2, 'task': b'ABNORMAL_TERMINATION_IN_LNSRCH', 'funcalls': 49, 'grad': array([ 0.0101993])}\n",
      "  \" state: %s\" % convergence_dict)\n",
      "/Users/tsuzuki/anaconda3/lib/python3.4/site-packages/sklearn/gaussian_process/gpr.py:427: UserWarning: fmin_l_bfgs_b terminated abnormally with the  state: {'nit': 5, 'warnflag': 2, 'task': b'ABNORMAL_TERMINATION_IN_LNSRCH', 'funcalls': 48, 'grad': array([-0.04490617])}\n",
      "  \" state: %s\" % convergence_dict)\n",
      "/Users/tsuzuki/anaconda3/lib/python3.4/site-packages/sklearn/gaussian_process/gpr.py:427: UserWarning: fmin_l_bfgs_b terminated abnormally with the  state: {'nit': 2, 'warnflag': 2, 'task': b'ABNORMAL_TERMINATION_IN_LNSRCH', 'funcalls': 34, 'grad': array([-13.9600377])}\n",
      "  \" state: %s\" % convergence_dict)\n",
      "/Users/tsuzuki/anaconda3/lib/python3.4/site-packages/sklearn/gaussian_process/gpr.py:427: UserWarning: fmin_l_bfgs_b terminated abnormally with the  state: {'nit': 2, 'warnflag': 2, 'task': b'ABNORMAL_TERMINATION_IN_LNSRCH', 'funcalls': 34, 'grad': array([-14.35228122])}\n",
      "  \" state: %s\" % convergence_dict)\n"
     ]
    },
    {
     "name": "stdout",
     "output_type": "stream",
     "text": [
      "iter 119\n"
     ]
    },
    {
     "name": "stderr",
     "output_type": "stream",
     "text": [
      "/Users/tsuzuki/anaconda3/lib/python3.4/site-packages/sklearn/gaussian_process/gpr.py:427: UserWarning: fmin_l_bfgs_b terminated abnormally with the  state: {'nit': 2, 'warnflag': 2, 'task': b'ABNORMAL_TERMINATION_IN_LNSRCH', 'funcalls': 51, 'grad': array([ 0.05133167])}\n",
      "  \" state: %s\" % convergence_dict)\n",
      "/Users/tsuzuki/anaconda3/lib/python3.4/site-packages/sklearn/gaussian_process/gpr.py:427: UserWarning: fmin_l_bfgs_b terminated abnormally with the  state: {'nit': 4, 'warnflag': 2, 'task': b'ABNORMAL_TERMINATION_IN_LNSRCH', 'funcalls': 54, 'grad': array([ 0.01600248])}\n",
      "  \" state: %s\" % convergence_dict)\n"
     ]
    },
    {
     "name": "stdout",
     "output_type": "stream",
     "text": [
      "iter 120\n"
     ]
    },
    {
     "name": "stderr",
     "output_type": "stream",
     "text": [
      "/Users/tsuzuki/anaconda3/lib/python3.4/site-packages/sklearn/gaussian_process/gpr.py:427: UserWarning: fmin_l_bfgs_b terminated abnormally with the  state: {'nit': 4, 'warnflag': 2, 'task': b'ABNORMAL_TERMINATION_IN_LNSRCH', 'funcalls': 59, 'grad': array([ 0.0011762])}\n",
      "  \" state: %s\" % convergence_dict)\n",
      "/Users/tsuzuki/anaconda3/lib/python3.4/site-packages/sklearn/gaussian_process/gpr.py:427: UserWarning: fmin_l_bfgs_b terminated abnormally with the  state: {'nit': 2, 'warnflag': 2, 'task': b'ABNORMAL_TERMINATION_IN_LNSRCH', 'funcalls': 49, 'grad': array([-0.04387948])}\n",
      "  \" state: %s\" % convergence_dict)\n",
      "/Users/tsuzuki/anaconda3/lib/python3.4/site-packages/sklearn/gaussian_process/gpr.py:427: UserWarning: fmin_l_bfgs_b terminated abnormally with the  state: {'nit': 3, 'warnflag': 2, 'task': b'ABNORMAL_TERMINATION_IN_LNSRCH', 'funcalls': 52, 'grad': array([ 0.00830444])}\n",
      "  \" state: %s\" % convergence_dict)\n"
     ]
    },
    {
     "name": "stdout",
     "output_type": "stream",
     "text": [
      "iter 121\n"
     ]
    },
    {
     "name": "stderr",
     "output_type": "stream",
     "text": [
      "/Users/tsuzuki/anaconda3/lib/python3.4/site-packages/sklearn/gaussian_process/gpr.py:427: UserWarning: fmin_l_bfgs_b terminated abnormally with the  state: {'nit': 4, 'warnflag': 2, 'task': b'ABNORMAL_TERMINATION_IN_LNSRCH', 'funcalls': 49, 'grad': array([-0.00434988])}\n",
      "  \" state: %s\" % convergence_dict)\n"
     ]
    },
    {
     "name": "stdout",
     "output_type": "stream",
     "text": [
      "iter 122\n"
     ]
    },
    {
     "name": "stderr",
     "output_type": "stream",
     "text": [
      "/Users/tsuzuki/anaconda3/lib/python3.4/site-packages/sklearn/gaussian_process/gpr.py:427: UserWarning: fmin_l_bfgs_b terminated abnormally with the  state: {'nit': 2, 'warnflag': 2, 'task': b'ABNORMAL_TERMINATION_IN_LNSRCH', 'funcalls': 51, 'grad': array([-0.00079988])}\n",
      "  \" state: %s\" % convergence_dict)\n",
      "/Users/tsuzuki/anaconda3/lib/python3.4/site-packages/sklearn/gaussian_process/gpr.py:427: UserWarning: fmin_l_bfgs_b terminated abnormally with the  state: {'nit': 1, 'warnflag': 2, 'task': b'ABNORMAL_TERMINATION_IN_LNSRCH', 'funcalls': 48, 'grad': array([-247.97821366])}\n",
      "  \" state: %s\" % convergence_dict)\n",
      "/Users/tsuzuki/anaconda3/lib/python3.4/site-packages/sklearn/gaussian_process/gpr.py:427: UserWarning: fmin_l_bfgs_b terminated abnormally with the  state: {'nit': 2, 'warnflag': 2, 'task': b'ABNORMAL_TERMINATION_IN_LNSRCH', 'funcalls': 32, 'grad': array([-537.62315809])}\n",
      "  \" state: %s\" % convergence_dict)\n",
      "/Users/tsuzuki/anaconda3/lib/python3.4/site-packages/sklearn/gaussian_process/gpr.py:427: UserWarning: fmin_l_bfgs_b terminated abnormally with the  state: {'nit': 1, 'warnflag': 2, 'task': b'ABNORMAL_TERMINATION_IN_LNSRCH', 'funcalls': 48, 'grad': array([-238.34780304])}\n",
      "  \" state: %s\" % convergence_dict)\n"
     ]
    },
    {
     "name": "stdout",
     "output_type": "stream",
     "text": [
      "iter 123\n",
      "iter 124\n",
      "iter 125\n"
     ]
    },
    {
     "name": "stderr",
     "output_type": "stream",
     "text": [
      "/Users/tsuzuki/anaconda3/lib/python3.4/site-packages/sklearn/gaussian_process/gpr.py:427: UserWarning: fmin_l_bfgs_b terminated abnormally with the  state: {'nit': 3, 'warnflag': 2, 'task': b'ABNORMAL_TERMINATION_IN_LNSRCH', 'funcalls': 37, 'grad': array([-16.14936972])}\n",
      "  \" state: %s\" % convergence_dict)\n"
     ]
    },
    {
     "name": "stdout",
     "output_type": "stream",
     "text": [
      "iter 126\n"
     ]
    },
    {
     "name": "stderr",
     "output_type": "stream",
     "text": [
      "/Users/tsuzuki/anaconda3/lib/python3.4/site-packages/sklearn/gaussian_process/gpr.py:427: UserWarning: fmin_l_bfgs_b terminated abnormally with the  state: {'nit': 2, 'warnflag': 2, 'task': b'ABNORMAL_TERMINATION_IN_LNSRCH', 'funcalls': 49, 'grad': array([-0.00401403])}\n",
      "  \" state: %s\" % convergence_dict)\n"
     ]
    },
    {
     "name": "stdout",
     "output_type": "stream",
     "text": [
      "iter 127\n"
     ]
    },
    {
     "name": "stderr",
     "output_type": "stream",
     "text": [
      "/Users/tsuzuki/anaconda3/lib/python3.4/site-packages/sklearn/gaussian_process/gpr.py:427: UserWarning: fmin_l_bfgs_b terminated abnormally with the  state: {'nit': 1, 'warnflag': 2, 'task': b'ABNORMAL_TERMINATION_IN_LNSRCH', 'funcalls': 48, 'grad': array([-248.38307471])}\n",
      "  \" state: %s\" % convergence_dict)\n"
     ]
    },
    {
     "name": "stdout",
     "output_type": "stream",
     "text": [
      "iter 128\n"
     ]
    },
    {
     "name": "stderr",
     "output_type": "stream",
     "text": [
      "/Users/tsuzuki/anaconda3/lib/python3.4/site-packages/sklearn/gaussian_process/gpr.py:427: UserWarning: fmin_l_bfgs_b terminated abnormally with the  state: {'nit': 2, 'warnflag': 2, 'task': b'ABNORMAL_TERMINATION_IN_LNSRCH', 'funcalls': 49, 'grad': array([-0.05817283])}\n",
      "  \" state: %s\" % convergence_dict)\n",
      "/Users/tsuzuki/anaconda3/lib/python3.4/site-packages/sklearn/gaussian_process/gpr.py:427: UserWarning: fmin_l_bfgs_b terminated abnormally with the  state: {'nit': 2, 'warnflag': 2, 'task': b'ABNORMAL_TERMINATION_IN_LNSRCH', 'funcalls': 54, 'grad': array([-0.00046069])}\n",
      "  \" state: %s\" % convergence_dict)\n",
      "/Users/tsuzuki/anaconda3/lib/python3.4/site-packages/sklearn/gaussian_process/gpr.py:427: UserWarning: fmin_l_bfgs_b terminated abnormally with the  state: {'nit': 1, 'warnflag': 2, 'task': b'ABNORMAL_TERMINATION_IN_LNSRCH', 'funcalls': 28, 'grad': array([-565.39214893])}\n",
      "  \" state: %s\" % convergence_dict)\n"
     ]
    },
    {
     "name": "stdout",
     "output_type": "stream",
     "text": [
      "iter 129\n"
     ]
    },
    {
     "name": "stderr",
     "output_type": "stream",
     "text": [
      "/Users/tsuzuki/anaconda3/lib/python3.4/site-packages/sklearn/gaussian_process/gpr.py:427: UserWarning: fmin_l_bfgs_b terminated abnormally with the  state: {'nit': 5, 'warnflag': 2, 'task': b'ABNORMAL_TERMINATION_IN_LNSRCH', 'funcalls': 48, 'grad': array([-0.03314228])}\n",
      "  \" state: %s\" % convergence_dict)\n"
     ]
    },
    {
     "name": "stdout",
     "output_type": "stream",
     "text": [
      "iter 130\n"
     ]
    },
    {
     "name": "stderr",
     "output_type": "stream",
     "text": [
      "/Users/tsuzuki/anaconda3/lib/python3.4/site-packages/sklearn/gaussian_process/gpr.py:427: UserWarning: fmin_l_bfgs_b terminated abnormally with the  state: {'nit': 3, 'warnflag': 2, 'task': b'ABNORMAL_TERMINATION_IN_LNSRCH', 'funcalls': 33, 'grad': array([-52.22424149])}\n",
      "  \" state: %s\" % convergence_dict)\n",
      "/Users/tsuzuki/anaconda3/lib/python3.4/site-packages/sklearn/gaussian_process/gpr.py:427: UserWarning: fmin_l_bfgs_b terminated abnormally with the  state: {'nit': 3, 'warnflag': 2, 'task': b'ABNORMAL_TERMINATION_IN_LNSRCH', 'funcalls': 53, 'grad': array([ 0.03645347])}\n",
      "  \" state: %s\" % convergence_dict)\n"
     ]
    },
    {
     "name": "stdout",
     "output_type": "stream",
     "text": [
      "iter 131\n"
     ]
    },
    {
     "name": "stderr",
     "output_type": "stream",
     "text": [
      "/Users/tsuzuki/anaconda3/lib/python3.4/site-packages/sklearn/gaussian_process/gpr.py:427: UserWarning: fmin_l_bfgs_b terminated abnormally with the  state: {'nit': 2, 'warnflag': 2, 'task': b'ABNORMAL_TERMINATION_IN_LNSRCH', 'funcalls': 34, 'grad': array([-14.14199495])}\n",
      "  \" state: %s\" % convergence_dict)\n"
     ]
    },
    {
     "name": "stdout",
     "output_type": "stream",
     "text": [
      "iter 132\n"
     ]
    },
    {
     "name": "stderr",
     "output_type": "stream",
     "text": [
      "/Users/tsuzuki/anaconda3/lib/python3.4/site-packages/sklearn/gaussian_process/gpr.py:427: UserWarning: fmin_l_bfgs_b terminated abnormally with the  state: {'nit': 5, 'warnflag': 2, 'task': b'ABNORMAL_TERMINATION_IN_LNSRCH', 'funcalls': 50, 'grad': array([ 0.00137759])}\n",
      "  \" state: %s\" % convergence_dict)\n",
      "/Users/tsuzuki/anaconda3/lib/python3.4/site-packages/sklearn/gaussian_process/gpr.py:427: UserWarning: fmin_l_bfgs_b terminated abnormally with the  state: {'nit': 1, 'warnflag': 2, 'task': b'ABNORMAL_TERMINATION_IN_LNSRCH', 'funcalls': 48, 'grad': array([-249.20866045])}\n",
      "  \" state: %s\" % convergence_dict)\n",
      "/Users/tsuzuki/anaconda3/lib/python3.4/site-packages/sklearn/gaussian_process/gpr.py:427: UserWarning: fmin_l_bfgs_b terminated abnormally with the  state: {'nit': 4, 'warnflag': 2, 'task': b'ABNORMAL_TERMINATION_IN_LNSRCH', 'funcalls': 52, 'grad': array([ 0.00890062])}\n",
      "  \" state: %s\" % convergence_dict)\n"
     ]
    },
    {
     "name": "stdout",
     "output_type": "stream",
     "text": [
      "iter 133\n",
      "iter 134\n"
     ]
    },
    {
     "name": "stderr",
     "output_type": "stream",
     "text": [
      "/Users/tsuzuki/anaconda3/lib/python3.4/site-packages/sklearn/gaussian_process/gpr.py:427: UserWarning: fmin_l_bfgs_b terminated abnormally with the  state: {'nit': 3, 'warnflag': 2, 'task': b'ABNORMAL_TERMINATION_IN_LNSRCH', 'funcalls': 48, 'grad': array([ 0.02618025])}\n",
      "  \" state: %s\" % convergence_dict)\n",
      "/Users/tsuzuki/anaconda3/lib/python3.4/site-packages/sklearn/gaussian_process/gpr.py:427: UserWarning: fmin_l_bfgs_b terminated abnormally with the  state: {'nit': 2, 'warnflag': 2, 'task': b'ABNORMAL_TERMINATION_IN_LNSRCH', 'funcalls': 53, 'grad': array([-0.02447821])}\n",
      "  \" state: %s\" % convergence_dict)\n"
     ]
    },
    {
     "name": "stdout",
     "output_type": "stream",
     "text": [
      "iter 135\n",
      "iter 136\n"
     ]
    },
    {
     "name": "stderr",
     "output_type": "stream",
     "text": [
      "/Users/tsuzuki/anaconda3/lib/python3.4/site-packages/sklearn/gaussian_process/gpr.py:427: UserWarning: fmin_l_bfgs_b terminated abnormally with the  state: {'nit': 0, 'warnflag': 2, 'task': b'ABNORMAL_TERMINATION_IN_LNSRCH', 'funcalls': 21, 'grad': array([-84.20164645])}\n",
      "  \" state: %s\" % convergence_dict)\n",
      "/Users/tsuzuki/anaconda3/lib/python3.4/site-packages/sklearn/gaussian_process/gpr.py:427: UserWarning: fmin_l_bfgs_b terminated abnormally with the  state: {'nit': 2, 'warnflag': 2, 'task': b'ABNORMAL_TERMINATION_IN_LNSRCH', 'funcalls': 49, 'grad': array([-226.6581155])}\n",
      "  \" state: %s\" % convergence_dict)\n"
     ]
    },
    {
     "name": "stdout",
     "output_type": "stream",
     "text": [
      "iter 137\n"
     ]
    },
    {
     "name": "stderr",
     "output_type": "stream",
     "text": [
      "/Users/tsuzuki/anaconda3/lib/python3.4/site-packages/sklearn/gaussian_process/gpr.py:427: UserWarning: fmin_l_bfgs_b terminated abnormally with the  state: {'nit': 2, 'warnflag': 2, 'task': b'ABNORMAL_TERMINATION_IN_LNSRCH', 'funcalls': 53, 'grad': array([-0.06796247])}\n",
      "  \" state: %s\" % convergence_dict)\n",
      "/Users/tsuzuki/anaconda3/lib/python3.4/site-packages/sklearn/gaussian_process/gpr.py:427: UserWarning: fmin_l_bfgs_b terminated abnormally with the  state: {'nit': 5, 'warnflag': 2, 'task': b'ABNORMAL_TERMINATION_IN_LNSRCH', 'funcalls': 50, 'grad': array([ 0.01038266])}\n",
      "  \" state: %s\" % convergence_dict)\n",
      "/Users/tsuzuki/anaconda3/lib/python3.4/site-packages/sklearn/gaussian_process/gpr.py:427: UserWarning: fmin_l_bfgs_b terminated abnormally with the  state: {'nit': 1, 'warnflag': 2, 'task': b'ABNORMAL_TERMINATION_IN_LNSRCH', 'funcalls': 48, 'grad': array([-229.79215165])}\n",
      "  \" state: %s\" % convergence_dict)\n"
     ]
    },
    {
     "name": "stdout",
     "output_type": "stream",
     "text": [
      "iter 138\n"
     ]
    },
    {
     "name": "stderr",
     "output_type": "stream",
     "text": [
      "/Users/tsuzuki/anaconda3/lib/python3.4/site-packages/sklearn/gaussian_process/gpr.py:427: UserWarning: fmin_l_bfgs_b terminated abnormally with the  state: {'nit': 4, 'warnflag': 2, 'task': b'ABNORMAL_TERMINATION_IN_LNSRCH', 'funcalls': 49, 'grad': array([ 0.00189059])}\n",
      "  \" state: %s\" % convergence_dict)\n",
      "/Users/tsuzuki/anaconda3/lib/python3.4/site-packages/sklearn/gaussian_process/gpr.py:427: UserWarning: fmin_l_bfgs_b terminated abnormally with the  state: {'nit': 4, 'warnflag': 2, 'task': b'ABNORMAL_TERMINATION_IN_LNSRCH', 'funcalls': 53, 'grad': array([ 0.00168472])}\n",
      "  \" state: %s\" % convergence_dict)\n"
     ]
    },
    {
     "name": "stdout",
     "output_type": "stream",
     "text": [
      "iter 139\n"
     ]
    },
    {
     "name": "stderr",
     "output_type": "stream",
     "text": [
      "/Users/tsuzuki/anaconda3/lib/python3.4/site-packages/sklearn/gaussian_process/gpr.py:427: UserWarning: fmin_l_bfgs_b terminated abnormally with the  state: {'nit': 3, 'warnflag': 2, 'task': b'ABNORMAL_TERMINATION_IN_LNSRCH', 'funcalls': 53, 'grad': array([ 0.01912851])}\n",
      "  \" state: %s\" % convergence_dict)\n"
     ]
    },
    {
     "name": "stdout",
     "output_type": "stream",
     "text": [
      "iter 140\n"
     ]
    },
    {
     "name": "stderr",
     "output_type": "stream",
     "text": [
      "/Users/tsuzuki/anaconda3/lib/python3.4/site-packages/sklearn/gaussian_process/gpr.py:427: UserWarning: fmin_l_bfgs_b terminated abnormally with the  state: {'nit': 6, 'warnflag': 2, 'task': b'ABNORMAL_TERMINATION_IN_LNSRCH', 'funcalls': 49, 'grad': array([ 0.00215503])}\n",
      "  \" state: %s\" % convergence_dict)\n",
      "/Users/tsuzuki/anaconda3/lib/python3.4/site-packages/sklearn/gaussian_process/gpr.py:427: UserWarning: fmin_l_bfgs_b terminated abnormally with the  state: {'nit': 4, 'warnflag': 2, 'task': b'ABNORMAL_TERMINATION_IN_LNSRCH', 'funcalls': 49, 'grad': array([-0.0286366])}\n",
      "  \" state: %s\" % convergence_dict)\n",
      "/Users/tsuzuki/anaconda3/lib/python3.4/site-packages/sklearn/gaussian_process/gpr.py:427: UserWarning: fmin_l_bfgs_b terminated abnormally with the  state: {'nit': 2, 'warnflag': 2, 'task': b'ABNORMAL_TERMINATION_IN_LNSRCH', 'funcalls': 50, 'grad': array([-0.10955072])}\n",
      "  \" state: %s\" % convergence_dict)\n",
      "/Users/tsuzuki/anaconda3/lib/python3.4/site-packages/sklearn/gaussian_process/gpr.py:427: UserWarning: fmin_l_bfgs_b terminated abnormally with the  state: {'nit': 1, 'warnflag': 2, 'task': b'ABNORMAL_TERMINATION_IN_LNSRCH', 'funcalls': 48, 'grad': array([-241.98131975])}\n",
      "  \" state: %s\" % convergence_dict)\n"
     ]
    },
    {
     "name": "stdout",
     "output_type": "stream",
     "text": [
      "iter 141\n"
     ]
    },
    {
     "name": "stderr",
     "output_type": "stream",
     "text": [
      "/Users/tsuzuki/anaconda3/lib/python3.4/site-packages/sklearn/gaussian_process/gpr.py:427: UserWarning: fmin_l_bfgs_b terminated abnormally with the  state: {'nit': 2, 'warnflag': 2, 'task': b'ABNORMAL_TERMINATION_IN_LNSRCH', 'funcalls': 34, 'grad': array([-14.72541163])}\n",
      "  \" state: %s\" % convergence_dict)\n",
      "/Users/tsuzuki/anaconda3/lib/python3.4/site-packages/sklearn/gaussian_process/gpr.py:427: UserWarning: fmin_l_bfgs_b terminated abnormally with the  state: {'nit': 5, 'warnflag': 2, 'task': b'ABNORMAL_TERMINATION_IN_LNSRCH', 'funcalls': 48, 'grad': array([-0.06124774])}\n",
      "  \" state: %s\" % convergence_dict)\n"
     ]
    },
    {
     "name": "stdout",
     "output_type": "stream",
     "text": [
      "iter 142\n"
     ]
    },
    {
     "name": "stderr",
     "output_type": "stream",
     "text": [
      "/Users/tsuzuki/anaconda3/lib/python3.4/site-packages/sklearn/gaussian_process/gpr.py:427: UserWarning: fmin_l_bfgs_b terminated abnormally with the  state: {'nit': 3, 'warnflag': 2, 'task': b'ABNORMAL_TERMINATION_IN_LNSRCH', 'funcalls': 53, 'grad': array([ 0.01524704])}\n",
      "  \" state: %s\" % convergence_dict)\n",
      "/Users/tsuzuki/anaconda3/lib/python3.4/site-packages/sklearn/gaussian_process/gpr.py:427: UserWarning: fmin_l_bfgs_b terminated abnormally with the  state: {'nit': 3, 'warnflag': 2, 'task': b'ABNORMAL_TERMINATION_IN_LNSRCH', 'funcalls': 54, 'grad': array([ 0.07660266])}\n",
      "  \" state: %s\" % convergence_dict)\n"
     ]
    },
    {
     "name": "stdout",
     "output_type": "stream",
     "text": [
      "iter 143\n"
     ]
    },
    {
     "name": "stderr",
     "output_type": "stream",
     "text": [
      "/Users/tsuzuki/anaconda3/lib/python3.4/site-packages/sklearn/gaussian_process/gpr.py:427: UserWarning: fmin_l_bfgs_b terminated abnormally with the  state: {'nit': 3, 'warnflag': 2, 'task': b'ABNORMAL_TERMINATION_IN_LNSRCH', 'funcalls': 51, 'grad': array([ 0.02310582])}\n",
      "  \" state: %s\" % convergence_dict)\n"
     ]
    },
    {
     "name": "stdout",
     "output_type": "stream",
     "text": [
      "iter 144\n",
      "iter 145\n"
     ]
    },
    {
     "name": "stderr",
     "output_type": "stream",
     "text": [
      "/Users/tsuzuki/anaconda3/lib/python3.4/site-packages/sklearn/gaussian_process/gpr.py:427: UserWarning: fmin_l_bfgs_b terminated abnormally with the  state: {'nit': 2, 'warnflag': 2, 'task': b'ABNORMAL_TERMINATION_IN_LNSRCH', 'funcalls': 49, 'grad': array([-0.08260654])}\n",
      "  \" state: %s\" % convergence_dict)\n"
     ]
    },
    {
     "name": "stdout",
     "output_type": "stream",
     "text": [
      "iter 146\n"
     ]
    },
    {
     "name": "stderr",
     "output_type": "stream",
     "text": [
      "/Users/tsuzuki/anaconda3/lib/python3.4/site-packages/sklearn/gaussian_process/gpr.py:427: UserWarning: fmin_l_bfgs_b terminated abnormally with the  state: {'nit': 2, 'warnflag': 2, 'task': b'ABNORMAL_TERMINATION_IN_LNSRCH', 'funcalls': 51, 'grad': array([-0.00130413])}\n",
      "  \" state: %s\" % convergence_dict)\n"
     ]
    },
    {
     "name": "stdout",
     "output_type": "stream",
     "text": [
      "iter 147\n"
     ]
    },
    {
     "name": "stderr",
     "output_type": "stream",
     "text": [
      "/Users/tsuzuki/anaconda3/lib/python3.4/site-packages/sklearn/gaussian_process/gpr.py:427: UserWarning: fmin_l_bfgs_b terminated abnormally with the  state: {'nit': 3, 'warnflag': 2, 'task': b'ABNORMAL_TERMINATION_IN_LNSRCH', 'funcalls': 58, 'grad': array([-0.08030479])}\n",
      "  \" state: %s\" % convergence_dict)\n",
      "/Users/tsuzuki/anaconda3/lib/python3.4/site-packages/sklearn/gaussian_process/gpr.py:427: UserWarning: fmin_l_bfgs_b terminated abnormally with the  state: {'nit': 4, 'warnflag': 2, 'task': b'ABNORMAL_TERMINATION_IN_LNSRCH', 'funcalls': 49, 'grad': array([-0.01884661])}\n",
      "  \" state: %s\" % convergence_dict)\n",
      "/Users/tsuzuki/anaconda3/lib/python3.4/site-packages/sklearn/gaussian_process/gpr.py:427: UserWarning: fmin_l_bfgs_b terminated abnormally with the  state: {'nit': 6, 'warnflag': 2, 'task': b'ABNORMAL_TERMINATION_IN_LNSRCH', 'funcalls': 49, 'grad': array([ 0.00126788])}\n",
      "  \" state: %s\" % convergence_dict)\n",
      "/Users/tsuzuki/anaconda3/lib/python3.4/site-packages/sklearn/gaussian_process/gpr.py:427: UserWarning: fmin_l_bfgs_b terminated abnormally with the  state: {'nit': 4, 'warnflag': 2, 'task': b'ABNORMAL_TERMINATION_IN_LNSRCH', 'funcalls': 49, 'grad': array([-0.0276676])}\n",
      "  \" state: %s\" % convergence_dict)\n"
     ]
    },
    {
     "name": "stdout",
     "output_type": "stream",
     "text": [
      "iter 148\n"
     ]
    },
    {
     "name": "stderr",
     "output_type": "stream",
     "text": [
      "/Users/tsuzuki/anaconda3/lib/python3.4/site-packages/sklearn/gaussian_process/gpr.py:427: UserWarning: fmin_l_bfgs_b terminated abnormally with the  state: {'nit': 3, 'warnflag': 2, 'task': b'ABNORMAL_TERMINATION_IN_LNSRCH', 'funcalls': 53, 'grad': array([ 0.01105563])}\n",
      "  \" state: %s\" % convergence_dict)\n",
      "/Users/tsuzuki/anaconda3/lib/python3.4/site-packages/sklearn/gaussian_process/gpr.py:427: UserWarning: fmin_l_bfgs_b terminated abnormally with the  state: {'nit': 3, 'warnflag': 2, 'task': b'ABNORMAL_TERMINATION_IN_LNSRCH', 'funcalls': 51, 'grad': array([ 0.00538806])}\n",
      "  \" state: %s\" % convergence_dict)\n"
     ]
    },
    {
     "name": "stdout",
     "output_type": "stream",
     "text": [
      "iter 149\n"
     ]
    },
    {
     "name": "stderr",
     "output_type": "stream",
     "text": [
      "/Users/tsuzuki/anaconda3/lib/python3.4/site-packages/sklearn/gaussian_process/gpr.py:427: UserWarning: fmin_l_bfgs_b terminated abnormally with the  state: {'nit': 5, 'warnflag': 2, 'task': b'ABNORMAL_TERMINATION_IN_LNSRCH', 'funcalls': 48, 'grad': array([-0.00355085])}\n",
      "  \" state: %s\" % convergence_dict)\n",
      "/Users/tsuzuki/anaconda3/lib/python3.4/site-packages/sklearn/gaussian_process/gpr.py:427: UserWarning: fmin_l_bfgs_b terminated abnormally with the  state: {'nit': 2, 'warnflag': 2, 'task': b'ABNORMAL_TERMINATION_IN_LNSRCH', 'funcalls': 49, 'grad': array([-775.65341982])}\n",
      "  \" state: %s\" % convergence_dict)\n",
      "/Users/tsuzuki/anaconda3/lib/python3.4/site-packages/sklearn/gaussian_process/gpr.py:427: UserWarning: fmin_l_bfgs_b terminated abnormally with the  state: {'nit': 4, 'warnflag': 2, 'task': b'ABNORMAL_TERMINATION_IN_LNSRCH', 'funcalls': 49, 'grad': array([-0.01899761])}\n",
      "  \" state: %s\" % convergence_dict)\n"
     ]
    },
    {
     "name": "stdout",
     "output_type": "stream",
     "text": [
      "sample 1\n",
      "iter 0\n",
      "iter 1\n",
      "iter 2\n",
      "iter 3\n",
      "iter 4\n",
      "iter 5\n",
      "iter 6\n",
      "iter 7\n",
      "iter 8\n",
      "iter 9\n",
      "iter 10\n",
      "iter 11\n",
      "iter 12\n",
      "iter 13\n",
      "iter 14\n",
      "iter 15\n",
      "iter 16\n"
     ]
    },
    {
     "name": "stderr",
     "output_type": "stream",
     "text": [
      "/Users/tsuzuki/anaconda3/lib/python3.4/site-packages/sklearn/gaussian_process/gpr.py:427: UserWarning: fmin_l_bfgs_b terminated abnormally with the  state: {'nit': 4, 'warnflag': 2, 'task': b'ABNORMAL_TERMINATION_IN_LNSRCH', 'funcalls': 50, 'grad': array([-0.00114173])}\n",
      "  \" state: %s\" % convergence_dict)\n"
     ]
    },
    {
     "name": "stdout",
     "output_type": "stream",
     "text": [
      "iter 17\n",
      "iter 18\n",
      "iter 19\n"
     ]
    },
    {
     "name": "stderr",
     "output_type": "stream",
     "text": [
      "/Users/tsuzuki/anaconda3/lib/python3.4/site-packages/sklearn/gaussian_process/gpr.py:427: UserWarning: fmin_l_bfgs_b terminated abnormally with the  state: {'nit': 2, 'warnflag': 2, 'task': b'ABNORMAL_TERMINATION_IN_LNSRCH', 'funcalls': 49, 'grad': array([-0.00103082])}\n",
      "  \" state: %s\" % convergence_dict)\n"
     ]
    },
    {
     "name": "stdout",
     "output_type": "stream",
     "text": [
      "iter 20\n"
     ]
    },
    {
     "name": "stderr",
     "output_type": "stream",
     "text": [
      "/Users/tsuzuki/anaconda3/lib/python3.4/site-packages/sklearn/gaussian_process/gpr.py:427: UserWarning: fmin_l_bfgs_b terminated abnormally with the  state: {'nit': 2, 'warnflag': 2, 'task': b'ABNORMAL_TERMINATION_IN_LNSRCH', 'funcalls': 49, 'grad': array([-0.00056383])}\n",
      "  \" state: %s\" % convergence_dict)\n"
     ]
    },
    {
     "name": "stdout",
     "output_type": "stream",
     "text": [
      "iter 21\n"
     ]
    },
    {
     "name": "stderr",
     "output_type": "stream",
     "text": [
      "/Users/tsuzuki/anaconda3/lib/python3.4/site-packages/sklearn/gaussian_process/gpr.py:427: UserWarning: fmin_l_bfgs_b terminated abnormally with the  state: {'nit': 2, 'warnflag': 2, 'task': b'ABNORMAL_TERMINATION_IN_LNSRCH', 'funcalls': 52, 'grad': array([ 0.00019643])}\n",
      "  \" state: %s\" % convergence_dict)\n"
     ]
    },
    {
     "name": "stdout",
     "output_type": "stream",
     "text": [
      "iter 22\n"
     ]
    },
    {
     "name": "stderr",
     "output_type": "stream",
     "text": [
      "/Users/tsuzuki/anaconda3/lib/python3.4/site-packages/sklearn/gaussian_process/gpr.py:427: UserWarning: fmin_l_bfgs_b terminated abnormally with the  state: {'nit': 2, 'warnflag': 2, 'task': b'ABNORMAL_TERMINATION_IN_LNSRCH', 'funcalls': 49, 'grad': array([-0.00238473])}\n",
      "  \" state: %s\" % convergence_dict)\n",
      "/Users/tsuzuki/anaconda3/lib/python3.4/site-packages/sklearn/gaussian_process/gpr.py:427: UserWarning: fmin_l_bfgs_b terminated abnormally with the  state: {'nit': 3, 'warnflag': 2, 'task': b'ABNORMAL_TERMINATION_IN_LNSRCH', 'funcalls': 50, 'grad': array([-0.01061865])}\n",
      "  \" state: %s\" % convergence_dict)\n"
     ]
    },
    {
     "name": "stdout",
     "output_type": "stream",
     "text": [
      "iter 23\n"
     ]
    },
    {
     "name": "stderr",
     "output_type": "stream",
     "text": [
      "/Users/tsuzuki/anaconda3/lib/python3.4/site-packages/sklearn/gaussian_process/gpr.py:427: UserWarning: fmin_l_bfgs_b terminated abnormally with the  state: {'nit': 4, 'warnflag': 2, 'task': b'ABNORMAL_TERMINATION_IN_LNSRCH', 'funcalls': 54, 'grad': array([-0.00088156])}\n",
      "  \" state: %s\" % convergence_dict)\n"
     ]
    },
    {
     "name": "stdout",
     "output_type": "stream",
     "text": [
      "iter 24\n"
     ]
    },
    {
     "name": "stderr",
     "output_type": "stream",
     "text": [
      "/Users/tsuzuki/anaconda3/lib/python3.4/site-packages/sklearn/gaussian_process/gpr.py:427: UserWarning: fmin_l_bfgs_b terminated abnormally with the  state: {'nit': 3, 'warnflag': 2, 'task': b'ABNORMAL_TERMINATION_IN_LNSRCH', 'funcalls': 47, 'grad': array([ 0.00660023])}\n",
      "  \" state: %s\" % convergence_dict)\n",
      "/Users/tsuzuki/anaconda3/lib/python3.4/site-packages/sklearn/gaussian_process/gpr.py:427: UserWarning: fmin_l_bfgs_b terminated abnormally with the  state: {'nit': 3, 'warnflag': 2, 'task': b'ABNORMAL_TERMINATION_IN_LNSRCH', 'funcalls': 52, 'grad': array([ 0.01662333])}\n",
      "  \" state: %s\" % convergence_dict)\n"
     ]
    },
    {
     "name": "stdout",
     "output_type": "stream",
     "text": [
      "iter 25\n",
      "iter 26\n",
      "iter 27\n",
      "iter 28\n"
     ]
    },
    {
     "name": "stderr",
     "output_type": "stream",
     "text": [
      "/Users/tsuzuki/anaconda3/lib/python3.4/site-packages/sklearn/gaussian_process/gpr.py:427: UserWarning: fmin_l_bfgs_b terminated abnormally with the  state: {'nit': 4, 'warnflag': 2, 'task': b'ABNORMAL_TERMINATION_IN_LNSRCH', 'funcalls': 54, 'grad': array([-0.00534167])}\n",
      "  \" state: %s\" % convergence_dict)\n"
     ]
    },
    {
     "name": "stdout",
     "output_type": "stream",
     "text": [
      "iter 29\n"
     ]
    },
    {
     "name": "stderr",
     "output_type": "stream",
     "text": [
      "/Users/tsuzuki/anaconda3/lib/python3.4/site-packages/sklearn/gaussian_process/gpr.py:427: UserWarning: fmin_l_bfgs_b terminated abnormally with the  state: {'nit': 2, 'warnflag': 2, 'task': b'ABNORMAL_TERMINATION_IN_LNSRCH', 'funcalls': 51, 'grad': array([-0.0001128])}\n",
      "  \" state: %s\" % convergence_dict)\n",
      "/Users/tsuzuki/anaconda3/lib/python3.4/site-packages/sklearn/gaussian_process/gpr.py:427: UserWarning: fmin_l_bfgs_b terminated abnormally with the  state: {'nit': 3, 'warnflag': 2, 'task': b'ABNORMAL_TERMINATION_IN_LNSRCH', 'funcalls': 51, 'grad': array([ 0.00101232])}\n",
      "  \" state: %s\" % convergence_dict)\n"
     ]
    },
    {
     "name": "stdout",
     "output_type": "stream",
     "text": [
      "iter 30\n"
     ]
    },
    {
     "name": "stderr",
     "output_type": "stream",
     "text": [
      "/Users/tsuzuki/anaconda3/lib/python3.4/site-packages/sklearn/gaussian_process/gpr.py:427: UserWarning: fmin_l_bfgs_b terminated abnormally with the  state: {'nit': 3, 'warnflag': 2, 'task': b'ABNORMAL_TERMINATION_IN_LNSRCH', 'funcalls': 56, 'grad': array([ -5.40085584e-05])}\n",
      "  \" state: %s\" % convergence_dict)\n"
     ]
    },
    {
     "name": "stdout",
     "output_type": "stream",
     "text": [
      "iter 31\n",
      "iter 32\n",
      "iter 33\n"
     ]
    },
    {
     "name": "stderr",
     "output_type": "stream",
     "text": [
      "/Users/tsuzuki/anaconda3/lib/python3.4/site-packages/sklearn/gaussian_process/gpr.py:427: UserWarning: fmin_l_bfgs_b terminated abnormally with the  state: {'nit': 3, 'warnflag': 2, 'task': b'ABNORMAL_TERMINATION_IN_LNSRCH', 'funcalls': 54, 'grad': array([ -2.10923763e-05])}\n",
      "  \" state: %s\" % convergence_dict)\n"
     ]
    },
    {
     "name": "stdout",
     "output_type": "stream",
     "text": [
      "iter 34\n",
      "iter 35\n",
      "iter 36\n",
      "iter 37\n",
      "iter 38\n"
     ]
    },
    {
     "name": "stderr",
     "output_type": "stream",
     "text": [
      "/Users/tsuzuki/anaconda3/lib/python3.4/site-packages/sklearn/gaussian_process/gpr.py:427: UserWarning: fmin_l_bfgs_b terminated abnormally with the  state: {'nit': 2, 'warnflag': 2, 'task': b'ABNORMAL_TERMINATION_IN_LNSRCH', 'funcalls': 48, 'grad': array([ 0.00013657])}\n",
      "  \" state: %s\" % convergence_dict)\n",
      "/Users/tsuzuki/anaconda3/lib/python3.4/site-packages/sklearn/gaussian_process/gpr.py:427: UserWarning: fmin_l_bfgs_b terminated abnormally with the  state: {'nit': 3, 'warnflag': 2, 'task': b'ABNORMAL_TERMINATION_IN_LNSRCH', 'funcalls': 50, 'grad': array([ 0.00091187])}\n",
      "  \" state: %s\" % convergence_dict)\n"
     ]
    },
    {
     "name": "stdout",
     "output_type": "stream",
     "text": [
      "iter 39\n"
     ]
    },
    {
     "name": "stderr",
     "output_type": "stream",
     "text": [
      "/Users/tsuzuki/anaconda3/lib/python3.4/site-packages/sklearn/gaussian_process/gpr.py:427: UserWarning: fmin_l_bfgs_b terminated abnormally with the  state: {'nit': 4, 'warnflag': 2, 'task': b'ABNORMAL_TERMINATION_IN_LNSRCH', 'funcalls': 54, 'grad': array([ 0.01077488])}\n",
      "  \" state: %s\" % convergence_dict)\n",
      "/Users/tsuzuki/anaconda3/lib/python3.4/site-packages/sklearn/gaussian_process/gpr.py:427: UserWarning: fmin_l_bfgs_b terminated abnormally with the  state: {'nit': 2, 'warnflag': 2, 'task': b'ABNORMAL_TERMINATION_IN_LNSRCH', 'funcalls': 49, 'grad': array([-0.00041113])}\n",
      "  \" state: %s\" % convergence_dict)\n"
     ]
    },
    {
     "name": "stdout",
     "output_type": "stream",
     "text": [
      "iter 40\n",
      "iter 41\n"
     ]
    },
    {
     "name": "stderr",
     "output_type": "stream",
     "text": [
      "/Users/tsuzuki/anaconda3/lib/python3.4/site-packages/sklearn/gaussian_process/gpr.py:427: UserWarning: fmin_l_bfgs_b terminated abnormally with the  state: {'nit': 2, 'warnflag': 2, 'task': b'ABNORMAL_TERMINATION_IN_LNSRCH', 'funcalls': 49, 'grad': array([-0.00686862])}\n",
      "  \" state: %s\" % convergence_dict)\n"
     ]
    },
    {
     "name": "stdout",
     "output_type": "stream",
     "text": [
      "iter 42\n"
     ]
    },
    {
     "name": "stderr",
     "output_type": "stream",
     "text": [
      "/Users/tsuzuki/anaconda3/lib/python3.4/site-packages/sklearn/gaussian_process/gpr.py:427: UserWarning: fmin_l_bfgs_b terminated abnormally with the  state: {'nit': 2, 'warnflag': 2, 'task': b'ABNORMAL_TERMINATION_IN_LNSRCH', 'funcalls': 49, 'grad': array([-0.00034298])}\n",
      "  \" state: %s\" % convergence_dict)\n"
     ]
    },
    {
     "name": "stdout",
     "output_type": "stream",
     "text": [
      "iter 43\n"
     ]
    },
    {
     "name": "stderr",
     "output_type": "stream",
     "text": [
      "/Users/tsuzuki/anaconda3/lib/python3.4/site-packages/sklearn/gaussian_process/gpr.py:427: UserWarning: fmin_l_bfgs_b terminated abnormally with the  state: {'nit': 2, 'warnflag': 2, 'task': b'ABNORMAL_TERMINATION_IN_LNSRCH', 'funcalls': 49, 'grad': array([-0.00250691])}\n",
      "  \" state: %s\" % convergence_dict)\n"
     ]
    },
    {
     "name": "stdout",
     "output_type": "stream",
     "text": [
      "iter 44\n",
      "iter 45\n"
     ]
    },
    {
     "name": "stderr",
     "output_type": "stream",
     "text": [
      "/Users/tsuzuki/anaconda3/lib/python3.4/site-packages/sklearn/gaussian_process/gpr.py:427: UserWarning: fmin_l_bfgs_b terminated abnormally with the  state: {'nit': 6, 'warnflag': 2, 'task': b'ABNORMAL_TERMINATION_IN_LNSRCH', 'funcalls': 50, 'grad': array([-0.00220849])}\n",
      "  \" state: %s\" % convergence_dict)\n"
     ]
    },
    {
     "name": "stdout",
     "output_type": "stream",
     "text": [
      "iter 46\n"
     ]
    },
    {
     "name": "stderr",
     "output_type": "stream",
     "text": [
      "/Users/tsuzuki/anaconda3/lib/python3.4/site-packages/sklearn/gaussian_process/gpr.py:427: UserWarning: fmin_l_bfgs_b terminated abnormally with the  state: {'nit': 4, 'warnflag': 2, 'task': b'ABNORMAL_TERMINATION_IN_LNSRCH', 'funcalls': 53, 'grad': array([-0.00214773])}\n",
      "  \" state: %s\" % convergence_dict)\n"
     ]
    },
    {
     "name": "stdout",
     "output_type": "stream",
     "text": [
      "iter 47\n",
      "iter 48\n"
     ]
    },
    {
     "name": "stderr",
     "output_type": "stream",
     "text": [
      "/Users/tsuzuki/anaconda3/lib/python3.4/site-packages/sklearn/gaussian_process/gpr.py:427: UserWarning: fmin_l_bfgs_b terminated abnormally with the  state: {'nit': 3, 'warnflag': 2, 'task': b'ABNORMAL_TERMINATION_IN_LNSRCH', 'funcalls': 53, 'grad': array([ 0.00353379])}\n",
      "  \" state: %s\" % convergence_dict)\n",
      "/Users/tsuzuki/anaconda3/lib/python3.4/site-packages/sklearn/gaussian_process/gpr.py:427: UserWarning: fmin_l_bfgs_b terminated abnormally with the  state: {'nit': 4, 'warnflag': 2, 'task': b'ABNORMAL_TERMINATION_IN_LNSRCH', 'funcalls': 52, 'grad': array([-0.00911349])}\n",
      "  \" state: %s\" % convergence_dict)\n",
      "/Users/tsuzuki/anaconda3/lib/python3.4/site-packages/sklearn/gaussian_process/gpr.py:427: UserWarning: fmin_l_bfgs_b terminated abnormally with the  state: {'nit': 5, 'warnflag': 2, 'task': b'ABNORMAL_TERMINATION_IN_LNSRCH', 'funcalls': 54, 'grad': array([ 0.00050185])}\n",
      "  \" state: %s\" % convergence_dict)\n",
      "/Users/tsuzuki/anaconda3/lib/python3.4/site-packages/sklearn/gaussian_process/gpr.py:427: UserWarning: fmin_l_bfgs_b terminated abnormally with the  state: {'nit': 3, 'warnflag': 2, 'task': b'ABNORMAL_TERMINATION_IN_LNSRCH', 'funcalls': 51, 'grad': array([ 0.00371704])}\n",
      "  \" state: %s\" % convergence_dict)\n"
     ]
    },
    {
     "name": "stdout",
     "output_type": "stream",
     "text": [
      "iter 49\n"
     ]
    },
    {
     "name": "stderr",
     "output_type": "stream",
     "text": [
      "/Users/tsuzuki/anaconda3/lib/python3.4/site-packages/sklearn/gaussian_process/gpr.py:427: UserWarning: fmin_l_bfgs_b terminated abnormally with the  state: {'nit': 3, 'warnflag': 2, 'task': b'ABNORMAL_TERMINATION_IN_LNSRCH', 'funcalls': 50, 'grad': array([ 0.00406593])}\n",
      "  \" state: %s\" % convergence_dict)\n",
      "/Users/tsuzuki/anaconda3/lib/python3.4/site-packages/sklearn/gaussian_process/gpr.py:427: UserWarning: fmin_l_bfgs_b terminated abnormally with the  state: {'nit': 2, 'warnflag': 2, 'task': b'ABNORMAL_TERMINATION_IN_LNSRCH', 'funcalls': 48, 'grad': array([ 0.00185338])}\n",
      "  \" state: %s\" % convergence_dict)\n"
     ]
    },
    {
     "name": "stdout",
     "output_type": "stream",
     "text": [
      "iter 50\n",
      "iter 51\n"
     ]
    },
    {
     "name": "stderr",
     "output_type": "stream",
     "text": [
      "/Users/tsuzuki/anaconda3/lib/python3.4/site-packages/sklearn/gaussian_process/gpr.py:427: UserWarning: fmin_l_bfgs_b terminated abnormally with the  state: {'nit': 4, 'warnflag': 2, 'task': b'ABNORMAL_TERMINATION_IN_LNSRCH', 'funcalls': 53, 'grad': array([-0.00180263])}\n",
      "  \" state: %s\" % convergence_dict)\n",
      "/Users/tsuzuki/anaconda3/lib/python3.4/site-packages/sklearn/gaussian_process/gpr.py:427: UserWarning: fmin_l_bfgs_b terminated abnormally with the  state: {'nit': 3, 'warnflag': 2, 'task': b'ABNORMAL_TERMINATION_IN_LNSRCH', 'funcalls': 50, 'grad': array([ 0.0009428])}\n",
      "  \" state: %s\" % convergence_dict)\n",
      "/Users/tsuzuki/anaconda3/lib/python3.4/site-packages/sklearn/gaussian_process/gpr.py:427: UserWarning: fmin_l_bfgs_b terminated abnormally with the  state: {'nit': 3, 'warnflag': 2, 'task': b'ABNORMAL_TERMINATION_IN_LNSRCH', 'funcalls': 51, 'grad': array([ 0.00096531])}\n",
      "  \" state: %s\" % convergence_dict)\n",
      "/Users/tsuzuki/anaconda3/lib/python3.4/site-packages/sklearn/gaussian_process/gpr.py:427: UserWarning: fmin_l_bfgs_b terminated abnormally with the  state: {'nit': 2, 'warnflag': 2, 'task': b'ABNORMAL_TERMINATION_IN_LNSRCH', 'funcalls': 49, 'grad': array([-0.00036775])}\n",
      "  \" state: %s\" % convergence_dict)\n"
     ]
    },
    {
     "name": "stdout",
     "output_type": "stream",
     "text": [
      "iter 52\n"
     ]
    },
    {
     "name": "stderr",
     "output_type": "stream",
     "text": [
      "/Users/tsuzuki/anaconda3/lib/python3.4/site-packages/sklearn/gaussian_process/gpr.py:427: UserWarning: fmin_l_bfgs_b terminated abnormally with the  state: {'nit': 3, 'warnflag': 2, 'task': b'ABNORMAL_TERMINATION_IN_LNSRCH', 'funcalls': 50, 'grad': array([ 0.00121369])}\n",
      "  \" state: %s\" % convergence_dict)\n",
      "/Users/tsuzuki/anaconda3/lib/python3.4/site-packages/sklearn/gaussian_process/gpr.py:427: UserWarning: fmin_l_bfgs_b terminated abnormally with the  state: {'nit': 2, 'warnflag': 2, 'task': b'ABNORMAL_TERMINATION_IN_LNSRCH', 'funcalls': 49, 'grad': array([ -4.46025515e-05])}\n",
      "  \" state: %s\" % convergence_dict)\n"
     ]
    },
    {
     "name": "stdout",
     "output_type": "stream",
     "text": [
      "iter 53\n",
      "iter 54\n"
     ]
    },
    {
     "name": "stderr",
     "output_type": "stream",
     "text": [
      "/Users/tsuzuki/anaconda3/lib/python3.4/site-packages/sklearn/gaussian_process/gpr.py:427: UserWarning: fmin_l_bfgs_b terminated abnormally with the  state: {'nit': 3, 'warnflag': 2, 'task': b'ABNORMAL_TERMINATION_IN_LNSRCH', 'funcalls': 50, 'grad': array([ 0.00146766])}\n",
      "  \" state: %s\" % convergence_dict)\n"
     ]
    },
    {
     "name": "stdout",
     "output_type": "stream",
     "text": [
      "iter 55\n"
     ]
    },
    {
     "name": "stderr",
     "output_type": "stream",
     "text": [
      "/Users/tsuzuki/anaconda3/lib/python3.4/site-packages/sklearn/gaussian_process/gpr.py:427: UserWarning: fmin_l_bfgs_b terminated abnormally with the  state: {'nit': 4, 'warnflag': 2, 'task': b'ABNORMAL_TERMINATION_IN_LNSRCH', 'funcalls': 53, 'grad': array([ 0.0033283])}\n",
      "  \" state: %s\" % convergence_dict)\n",
      "/Users/tsuzuki/anaconda3/lib/python3.4/site-packages/sklearn/gaussian_process/gpr.py:427: UserWarning: fmin_l_bfgs_b terminated abnormally with the  state: {'nit': 4, 'warnflag': 2, 'task': b'ABNORMAL_TERMINATION_IN_LNSRCH', 'funcalls': 57, 'grad': array([ 0.00039525])}\n",
      "  \" state: %s\" % convergence_dict)\n"
     ]
    },
    {
     "name": "stdout",
     "output_type": "stream",
     "text": [
      "iter 56\n"
     ]
    },
    {
     "name": "stderr",
     "output_type": "stream",
     "text": [
      "/Users/tsuzuki/anaconda3/lib/python3.4/site-packages/sklearn/gaussian_process/gpr.py:427: UserWarning: fmin_l_bfgs_b terminated abnormally with the  state: {'nit': 4, 'warnflag': 2, 'task': b'ABNORMAL_TERMINATION_IN_LNSRCH', 'funcalls': 50, 'grad': array([ 0.00242098])}\n",
      "  \" state: %s\" % convergence_dict)\n"
     ]
    },
    {
     "name": "stdout",
     "output_type": "stream",
     "text": [
      "iter 57\n",
      "iter 58\n",
      "iter 59\n",
      "iter 60\n"
     ]
    },
    {
     "name": "stderr",
     "output_type": "stream",
     "text": [
      "/Users/tsuzuki/anaconda3/lib/python3.4/site-packages/sklearn/gaussian_process/gpr.py:427: UserWarning: fmin_l_bfgs_b terminated abnormally with the  state: {'nit': 4, 'warnflag': 2, 'task': b'ABNORMAL_TERMINATION_IN_LNSRCH', 'funcalls': 53, 'grad': array([ 0.0036142])}\n",
      "  \" state: %s\" % convergence_dict)\n",
      "/Users/tsuzuki/anaconda3/lib/python3.4/site-packages/sklearn/gaussian_process/gpr.py:427: UserWarning: fmin_l_bfgs_b terminated abnormally with the  state: {'nit': 4, 'warnflag': 2, 'task': b'ABNORMAL_TERMINATION_IN_LNSRCH', 'funcalls': 50, 'grad': array([-0.00315046])}\n",
      "  \" state: %s\" % convergence_dict)\n"
     ]
    },
    {
     "name": "stdout",
     "output_type": "stream",
     "text": [
      "iter 61\n"
     ]
    },
    {
     "name": "stderr",
     "output_type": "stream",
     "text": [
      "/Users/tsuzuki/anaconda3/lib/python3.4/site-packages/sklearn/gaussian_process/gpr.py:427: UserWarning: fmin_l_bfgs_b terminated abnormally with the  state: {'nit': 2, 'warnflag': 2, 'task': b'ABNORMAL_TERMINATION_IN_LNSRCH', 'funcalls': 48, 'grad': array([  5.88342664e-05])}\n",
      "  \" state: %s\" % convergence_dict)\n"
     ]
    },
    {
     "name": "stdout",
     "output_type": "stream",
     "text": [
      "iter 62\n"
     ]
    },
    {
     "name": "stderr",
     "output_type": "stream",
     "text": [
      "/Users/tsuzuki/anaconda3/lib/python3.4/site-packages/sklearn/gaussian_process/gpr.py:427: UserWarning: fmin_l_bfgs_b terminated abnormally with the  state: {'nit': 5, 'warnflag': 2, 'task': b'ABNORMAL_TERMINATION_IN_LNSRCH', 'funcalls': 54, 'grad': array([-0.00220112])}\n",
      "  \" state: %s\" % convergence_dict)\n",
      "/Users/tsuzuki/anaconda3/lib/python3.4/site-packages/sklearn/gaussian_process/gpr.py:427: UserWarning: fmin_l_bfgs_b terminated abnormally with the  state: {'nit': 3, 'warnflag': 2, 'task': b'ABNORMAL_TERMINATION_IN_LNSRCH', 'funcalls': 50, 'grad': array([ 0.00435856])}\n",
      "  \" state: %s\" % convergence_dict)\n",
      "/Users/tsuzuki/anaconda3/lib/python3.4/site-packages/sklearn/gaussian_process/gpr.py:427: UserWarning: fmin_l_bfgs_b terminated abnormally with the  state: {'nit': 4, 'warnflag': 2, 'task': b'ABNORMAL_TERMINATION_IN_LNSRCH', 'funcalls': 55, 'grad': array([-0.00645095])}\n",
      "  \" state: %s\" % convergence_dict)\n"
     ]
    },
    {
     "name": "stdout",
     "output_type": "stream",
     "text": [
      "iter 63\n"
     ]
    },
    {
     "name": "stderr",
     "output_type": "stream",
     "text": [
      "/Users/tsuzuki/anaconda3/lib/python3.4/site-packages/sklearn/gaussian_process/gpr.py:427: UserWarning: fmin_l_bfgs_b terminated abnormally with the  state: {'nit': 3, 'warnflag': 2, 'task': b'ABNORMAL_TERMINATION_IN_LNSRCH', 'funcalls': 50, 'grad': array([ 0.00190794])}\n",
      "  \" state: %s\" % convergence_dict)\n",
      "/Users/tsuzuki/anaconda3/lib/python3.4/site-packages/sklearn/gaussian_process/gpr.py:427: UserWarning: fmin_l_bfgs_b terminated abnormally with the  state: {'nit': 4, 'warnflag': 2, 'task': b'ABNORMAL_TERMINATION_IN_LNSRCH', 'funcalls': 55, 'grad': array([-0.00598555])}\n",
      "  \" state: %s\" % convergence_dict)\n",
      "/Users/tsuzuki/anaconda3/lib/python3.4/site-packages/sklearn/gaussian_process/gpr.py:427: UserWarning: fmin_l_bfgs_b terminated abnormally with the  state: {'nit': 4, 'warnflag': 2, 'task': b'ABNORMAL_TERMINATION_IN_LNSRCH', 'funcalls': 52, 'grad': array([ 0.00161192])}\n",
      "  \" state: %s\" % convergence_dict)\n"
     ]
    },
    {
     "name": "stdout",
     "output_type": "stream",
     "text": [
      "iter 64\n",
      "iter 65\n",
      "iter 66\n"
     ]
    },
    {
     "name": "stderr",
     "output_type": "stream",
     "text": [
      "/Users/tsuzuki/anaconda3/lib/python3.4/site-packages/sklearn/gaussian_process/gpr.py:427: UserWarning: fmin_l_bfgs_b terminated abnormally with the  state: {'nit': 3, 'warnflag': 2, 'task': b'ABNORMAL_TERMINATION_IN_LNSRCH', 'funcalls': 50, 'grad': array([ 0.01642879])}\n",
      "  \" state: %s\" % convergence_dict)\n",
      "/Users/tsuzuki/anaconda3/lib/python3.4/site-packages/sklearn/gaussian_process/gpr.py:427: UserWarning: fmin_l_bfgs_b terminated abnormally with the  state: {'nit': 2, 'warnflag': 2, 'task': b'ABNORMAL_TERMINATION_IN_LNSRCH', 'funcalls': 49, 'grad': array([ -3.84273008e-05])}\n",
      "  \" state: %s\" % convergence_dict)\n"
     ]
    },
    {
     "name": "stdout",
     "output_type": "stream",
     "text": [
      "iter 67\n"
     ]
    },
    {
     "name": "stderr",
     "output_type": "stream",
     "text": [
      "/Users/tsuzuki/anaconda3/lib/python3.4/site-packages/sklearn/gaussian_process/gpr.py:427: UserWarning: fmin_l_bfgs_b terminated abnormally with the  state: {'nit': 3, 'warnflag': 2, 'task': b'ABNORMAL_TERMINATION_IN_LNSRCH', 'funcalls': 48, 'grad': array([ 0.00278454])}\n",
      "  \" state: %s\" % convergence_dict)\n",
      "/Users/tsuzuki/anaconda3/lib/python3.4/site-packages/sklearn/gaussian_process/gpr.py:427: UserWarning: fmin_l_bfgs_b terminated abnormally with the  state: {'nit': 4, 'warnflag': 2, 'task': b'ABNORMAL_TERMINATION_IN_LNSRCH', 'funcalls': 54, 'grad': array([ 0.00281293])}\n",
      "  \" state: %s\" % convergence_dict)\n",
      "/Users/tsuzuki/anaconda3/lib/python3.4/site-packages/sklearn/gaussian_process/gpr.py:427: UserWarning: fmin_l_bfgs_b terminated abnormally with the  state: {'nit': 3, 'warnflag': 2, 'task': b'ABNORMAL_TERMINATION_IN_LNSRCH', 'funcalls': 50, 'grad': array([ 0.00109724])}\n",
      "  \" state: %s\" % convergence_dict)\n"
     ]
    },
    {
     "name": "stdout",
     "output_type": "stream",
     "text": [
      "iter 68\n"
     ]
    },
    {
     "name": "stderr",
     "output_type": "stream",
     "text": [
      "/Users/tsuzuki/anaconda3/lib/python3.4/site-packages/sklearn/gaussian_process/gpr.py:427: UserWarning: fmin_l_bfgs_b terminated abnormally with the  state: {'nit': 4, 'warnflag': 2, 'task': b'ABNORMAL_TERMINATION_IN_LNSRCH', 'funcalls': 51, 'grad': array([ 0.00143162])}\n",
      "  \" state: %s\" % convergence_dict)\n"
     ]
    },
    {
     "name": "stdout",
     "output_type": "stream",
     "text": [
      "iter 69\n"
     ]
    },
    {
     "name": "stderr",
     "output_type": "stream",
     "text": [
      "/Users/tsuzuki/anaconda3/lib/python3.4/site-packages/sklearn/gaussian_process/gpr.py:427: UserWarning: fmin_l_bfgs_b terminated abnormally with the  state: {'nit': 3, 'warnflag': 2, 'task': b'ABNORMAL_TERMINATION_IN_LNSRCH', 'funcalls': 48, 'grad': array([ 0.00415767])}\n",
      "  \" state: %s\" % convergence_dict)\n"
     ]
    },
    {
     "name": "stdout",
     "output_type": "stream",
     "text": [
      "iter 70\n"
     ]
    },
    {
     "name": "stderr",
     "output_type": "stream",
     "text": [
      "/Users/tsuzuki/anaconda3/lib/python3.4/site-packages/sklearn/gaussian_process/gpr.py:427: UserWarning: fmin_l_bfgs_b terminated abnormally with the  state: {'nit': 2, 'warnflag': 2, 'task': b'ABNORMAL_TERMINATION_IN_LNSRCH', 'funcalls': 49, 'grad': array([-0.00362806])}\n",
      "  \" state: %s\" % convergence_dict)\n"
     ]
    },
    {
     "name": "stdout",
     "output_type": "stream",
     "text": [
      "iter 71\n",
      "iter 72\n"
     ]
    },
    {
     "name": "stderr",
     "output_type": "stream",
     "text": [
      "/Users/tsuzuki/anaconda3/lib/python3.4/site-packages/sklearn/gaussian_process/gpr.py:427: UserWarning: fmin_l_bfgs_b terminated abnormally with the  state: {'nit': 2, 'warnflag': 2, 'task': b'ABNORMAL_TERMINATION_IN_LNSRCH', 'funcalls': 51, 'grad': array([ 0.01042158])}\n",
      "  \" state: %s\" % convergence_dict)\n",
      "/Users/tsuzuki/anaconda3/lib/python3.4/site-packages/sklearn/gaussian_process/gpr.py:427: UserWarning: fmin_l_bfgs_b terminated abnormally with the  state: {'nit': 4, 'warnflag': 2, 'task': b'ABNORMAL_TERMINATION_IN_LNSRCH', 'funcalls': 54, 'grad': array([-0.00400323])}\n",
      "  \" state: %s\" % convergence_dict)\n"
     ]
    },
    {
     "name": "stdout",
     "output_type": "stream",
     "text": [
      "iter 73\n"
     ]
    },
    {
     "name": "stderr",
     "output_type": "stream",
     "text": [
      "/Users/tsuzuki/anaconda3/lib/python3.4/site-packages/sklearn/gaussian_process/gpr.py:427: UserWarning: fmin_l_bfgs_b terminated abnormally with the  state: {'nit': 4, 'warnflag': 2, 'task': b'ABNORMAL_TERMINATION_IN_LNSRCH', 'funcalls': 53, 'grad': array([ 0.00131174])}\n",
      "  \" state: %s\" % convergence_dict)\n"
     ]
    },
    {
     "name": "stdout",
     "output_type": "stream",
     "text": [
      "iter 74\n",
      "iter 75\n",
      "iter 76\n",
      "iter 77\n"
     ]
    },
    {
     "name": "stderr",
     "output_type": "stream",
     "text": [
      "/Users/tsuzuki/anaconda3/lib/python3.4/site-packages/sklearn/gaussian_process/gpr.py:427: UserWarning: fmin_l_bfgs_b terminated abnormally with the  state: {'nit': 6, 'warnflag': 2, 'task': b'ABNORMAL_TERMINATION_IN_LNSRCH', 'funcalls': 54, 'grad': array([ 0.00844729])}\n",
      "  \" state: %s\" % convergence_dict)\n",
      "/Users/tsuzuki/anaconda3/lib/python3.4/site-packages/sklearn/gaussian_process/gpr.py:427: UserWarning: fmin_l_bfgs_b terminated abnormally with the  state: {'nit': 5, 'warnflag': 2, 'task': b'ABNORMAL_TERMINATION_IN_LNSRCH', 'funcalls': 55, 'grad': array([-0.00273446])}\n",
      "  \" state: %s\" % convergence_dict)\n"
     ]
    },
    {
     "name": "stdout",
     "output_type": "stream",
     "text": [
      "iter 78\n",
      "iter 79\n"
     ]
    },
    {
     "name": "stderr",
     "output_type": "stream",
     "text": [
      "/Users/tsuzuki/anaconda3/lib/python3.4/site-packages/sklearn/gaussian_process/gpr.py:427: UserWarning: fmin_l_bfgs_b terminated abnormally with the  state: {'nit': 4, 'warnflag': 2, 'task': b'ABNORMAL_TERMINATION_IN_LNSRCH', 'funcalls': 50, 'grad': array([-0.00048418])}\n",
      "  \" state: %s\" % convergence_dict)\n",
      "/Users/tsuzuki/anaconda3/lib/python3.4/site-packages/sklearn/gaussian_process/gpr.py:427: UserWarning: fmin_l_bfgs_b terminated abnormally with the  state: {'nit': 3, 'warnflag': 2, 'task': b'ABNORMAL_TERMINATION_IN_LNSRCH', 'funcalls': 51, 'grad': array([ 0.00323514])}\n",
      "  \" state: %s\" % convergence_dict)\n",
      "/Users/tsuzuki/anaconda3/lib/python3.4/site-packages/sklearn/gaussian_process/gpr.py:427: UserWarning: fmin_l_bfgs_b terminated abnormally with the  state: {'nit': 4, 'warnflag': 2, 'task': b'ABNORMAL_TERMINATION_IN_LNSRCH', 'funcalls': 54, 'grad': array([-0.00136878])}\n",
      "  \" state: %s\" % convergence_dict)\n"
     ]
    },
    {
     "name": "stdout",
     "output_type": "stream",
     "text": [
      "iter 80\n"
     ]
    },
    {
     "name": "stderr",
     "output_type": "stream",
     "text": [
      "/Users/tsuzuki/anaconda3/lib/python3.4/site-packages/sklearn/gaussian_process/gpr.py:427: UserWarning: fmin_l_bfgs_b terminated abnormally with the  state: {'nit': 4, 'warnflag': 2, 'task': b'ABNORMAL_TERMINATION_IN_LNSRCH', 'funcalls': 51, 'grad': array([ 0.00857564])}\n",
      "  \" state: %s\" % convergence_dict)\n"
     ]
    },
    {
     "name": "stdout",
     "output_type": "stream",
     "text": [
      "iter 81\n"
     ]
    },
    {
     "name": "stderr",
     "output_type": "stream",
     "text": [
      "/Users/tsuzuki/anaconda3/lib/python3.4/site-packages/sklearn/gaussian_process/gpr.py:427: UserWarning: fmin_l_bfgs_b terminated abnormally with the  state: {'nit': 4, 'warnflag': 2, 'task': b'ABNORMAL_TERMINATION_IN_LNSRCH', 'funcalls': 48, 'grad': array([-0.00941179])}\n",
      "  \" state: %s\" % convergence_dict)\n"
     ]
    },
    {
     "name": "stdout",
     "output_type": "stream",
     "text": [
      "iter 82\n"
     ]
    },
    {
     "name": "stderr",
     "output_type": "stream",
     "text": [
      "/Users/tsuzuki/anaconda3/lib/python3.4/site-packages/sklearn/gaussian_process/gpr.py:427: UserWarning: fmin_l_bfgs_b terminated abnormally with the  state: {'nit': 4, 'warnflag': 2, 'task': b'ABNORMAL_TERMINATION_IN_LNSRCH', 'funcalls': 49, 'grad': array([ 0.00253462])}\n",
      "  \" state: %s\" % convergence_dict)\n"
     ]
    },
    {
     "name": "stdout",
     "output_type": "stream",
     "text": [
      "iter 83\n"
     ]
    },
    {
     "name": "stderr",
     "output_type": "stream",
     "text": [
      "/Users/tsuzuki/anaconda3/lib/python3.4/site-packages/sklearn/gaussian_process/gpr.py:427: UserWarning: fmin_l_bfgs_b terminated abnormally with the  state: {'nit': 4, 'warnflag': 2, 'task': b'ABNORMAL_TERMINATION_IN_LNSRCH', 'funcalls': 49, 'grad': array([ 0.00253263])}\n",
      "  \" state: %s\" % convergence_dict)\n"
     ]
    },
    {
     "name": "stdout",
     "output_type": "stream",
     "text": [
      "iter 84\n"
     ]
    },
    {
     "name": "stderr",
     "output_type": "stream",
     "text": [
      "/Users/tsuzuki/anaconda3/lib/python3.4/site-packages/sklearn/gaussian_process/gpr.py:427: UserWarning: fmin_l_bfgs_b terminated abnormally with the  state: {'nit': 3, 'warnflag': 2, 'task': b'ABNORMAL_TERMINATION_IN_LNSRCH', 'funcalls': 50, 'grad': array([ 0.00432701])}\n",
      "  \" state: %s\" % convergence_dict)\n",
      "/Users/tsuzuki/anaconda3/lib/python3.4/site-packages/sklearn/gaussian_process/gpr.py:427: UserWarning: fmin_l_bfgs_b terminated abnormally with the  state: {'nit': 2, 'warnflag': 2, 'task': b'ABNORMAL_TERMINATION_IN_LNSRCH', 'funcalls': 48, 'grad': array([ 0.00042659])}\n",
      "  \" state: %s\" % convergence_dict)\n",
      "/Users/tsuzuki/anaconda3/lib/python3.4/site-packages/sklearn/gaussian_process/gpr.py:427: UserWarning: fmin_l_bfgs_b terminated abnormally with the  state: {'nit': 4, 'warnflag': 2, 'task': b'ABNORMAL_TERMINATION_IN_LNSRCH', 'funcalls': 55, 'grad': array([-0.00422281])}\n",
      "  \" state: %s\" % convergence_dict)\n",
      "/Users/tsuzuki/anaconda3/lib/python3.4/site-packages/sklearn/gaussian_process/gpr.py:427: UserWarning: fmin_l_bfgs_b terminated abnormally with the  state: {'nit': 5, 'warnflag': 2, 'task': b'ABNORMAL_TERMINATION_IN_LNSRCH', 'funcalls': 48, 'grad': array([ 0.00224014])}\n",
      "  \" state: %s\" % convergence_dict)\n"
     ]
    },
    {
     "name": "stdout",
     "output_type": "stream",
     "text": [
      "iter 85\n",
      "iter 86\n"
     ]
    },
    {
     "name": "stderr",
     "output_type": "stream",
     "text": [
      "/Users/tsuzuki/anaconda3/lib/python3.4/site-packages/sklearn/gaussian_process/gpr.py:427: UserWarning: fmin_l_bfgs_b terminated abnormally with the  state: {'nit': 4, 'warnflag': 2, 'task': b'ABNORMAL_TERMINATION_IN_LNSRCH', 'funcalls': 49, 'grad': array([ 0.00049506])}\n",
      "  \" state: %s\" % convergence_dict)\n",
      "/Users/tsuzuki/anaconda3/lib/python3.4/site-packages/sklearn/gaussian_process/gpr.py:427: UserWarning: fmin_l_bfgs_b terminated abnormally with the  state: {'nit': 5, 'warnflag': 2, 'task': b'ABNORMAL_TERMINATION_IN_LNSRCH', 'funcalls': 55, 'grad': array([-0.0008737])}\n",
      "  \" state: %s\" % convergence_dict)\n",
      "/Users/tsuzuki/anaconda3/lib/python3.4/site-packages/sklearn/gaussian_process/gpr.py:427: UserWarning: fmin_l_bfgs_b terminated abnormally with the  state: {'nit': 4, 'warnflag': 2, 'task': b'ABNORMAL_TERMINATION_IN_LNSRCH', 'funcalls': 49, 'grad': array([ 0.00051733])}\n",
      "  \" state: %s\" % convergence_dict)\n"
     ]
    },
    {
     "name": "stdout",
     "output_type": "stream",
     "text": [
      "iter 87\n"
     ]
    },
    {
     "name": "stderr",
     "output_type": "stream",
     "text": [
      "/Users/tsuzuki/anaconda3/lib/python3.4/site-packages/sklearn/gaussian_process/gpr.py:427: UserWarning: fmin_l_bfgs_b terminated abnormally with the  state: {'nit': 5, 'warnflag': 2, 'task': b'ABNORMAL_TERMINATION_IN_LNSRCH', 'funcalls': 56, 'grad': array([-0.00712311])}\n",
      "  \" state: %s\" % convergence_dict)\n"
     ]
    },
    {
     "name": "stdout",
     "output_type": "stream",
     "text": [
      "iter 88\n"
     ]
    },
    {
     "name": "stderr",
     "output_type": "stream",
     "text": [
      "/Users/tsuzuki/anaconda3/lib/python3.4/site-packages/sklearn/gaussian_process/gpr.py:427: UserWarning: fmin_l_bfgs_b terminated abnormally with the  state: {'nit': 4, 'warnflag': 2, 'task': b'ABNORMAL_TERMINATION_IN_LNSRCH', 'funcalls': 55, 'grad': array([-0.00780502])}\n",
      "  \" state: %s\" % convergence_dict)\n",
      "/Users/tsuzuki/anaconda3/lib/python3.4/site-packages/sklearn/gaussian_process/gpr.py:427: UserWarning: fmin_l_bfgs_b terminated abnormally with the  state: {'nit': 3, 'warnflag': 2, 'task': b'ABNORMAL_TERMINATION_IN_LNSRCH', 'funcalls': 50, 'grad': array([ 0.00350716])}\n",
      "  \" state: %s\" % convergence_dict)\n",
      "/Users/tsuzuki/anaconda3/lib/python3.4/site-packages/sklearn/gaussian_process/gpr.py:427: UserWarning: fmin_l_bfgs_b terminated abnormally with the  state: {'nit': 2, 'warnflag': 2, 'task': b'ABNORMAL_TERMINATION_IN_LNSRCH', 'funcalls': 49, 'grad': array([ -3.26619484e-05])}\n",
      "  \" state: %s\" % convergence_dict)\n"
     ]
    },
    {
     "name": "stdout",
     "output_type": "stream",
     "text": [
      "iter 89\n",
      "iter 90\n"
     ]
    },
    {
     "name": "stderr",
     "output_type": "stream",
     "text": [
      "/Users/tsuzuki/anaconda3/lib/python3.4/site-packages/sklearn/gaussian_process/gpr.py:427: UserWarning: fmin_l_bfgs_b terminated abnormally with the  state: {'nit': 2, 'warnflag': 2, 'task': b'ABNORMAL_TERMINATION_IN_LNSRCH', 'funcalls': 49, 'grad': array([ -1.96555047e-05])}\n",
      "  \" state: %s\" % convergence_dict)\n"
     ]
    },
    {
     "name": "stdout",
     "output_type": "stream",
     "text": [
      "iter 91\n"
     ]
    },
    {
     "name": "stderr",
     "output_type": "stream",
     "text": [
      "/Users/tsuzuki/anaconda3/lib/python3.4/site-packages/sklearn/gaussian_process/gpr.py:427: UserWarning: fmin_l_bfgs_b terminated abnormally with the  state: {'nit': 3, 'warnflag': 2, 'task': b'ABNORMAL_TERMINATION_IN_LNSRCH', 'funcalls': 50, 'grad': array([ 0.00459354])}\n",
      "  \" state: %s\" % convergence_dict)\n"
     ]
    },
    {
     "name": "stdout",
     "output_type": "stream",
     "text": [
      "iter 92\n"
     ]
    },
    {
     "name": "stderr",
     "output_type": "stream",
     "text": [
      "/Users/tsuzuki/anaconda3/lib/python3.4/site-packages/sklearn/gaussian_process/gpr.py:427: UserWarning: fmin_l_bfgs_b terminated abnormally with the  state: {'nit': 3, 'warnflag': 2, 'task': b'ABNORMAL_TERMINATION_IN_LNSRCH', 'funcalls': 53, 'grad': array([ 0.01155318])}\n",
      "  \" state: %s\" % convergence_dict)\n"
     ]
    },
    {
     "name": "stdout",
     "output_type": "stream",
     "text": [
      "iter 93\n",
      "iter 94\n"
     ]
    },
    {
     "name": "stderr",
     "output_type": "stream",
     "text": [
      "/Users/tsuzuki/anaconda3/lib/python3.4/site-packages/sklearn/gaussian_process/gpr.py:427: UserWarning: fmin_l_bfgs_b terminated abnormally with the  state: {'nit': 4, 'warnflag': 2, 'task': b'ABNORMAL_TERMINATION_IN_LNSRCH', 'funcalls': 49, 'grad': array([ 0.00308382])}\n",
      "  \" state: %s\" % convergence_dict)\n",
      "/Users/tsuzuki/anaconda3/lib/python3.4/site-packages/sklearn/gaussian_process/gpr.py:427: UserWarning: fmin_l_bfgs_b terminated abnormally with the  state: {'nit': 2, 'warnflag': 2, 'task': b'ABNORMAL_TERMINATION_IN_LNSRCH', 'funcalls': 50, 'grad': array([-0.00854856])}\n",
      "  \" state: %s\" % convergence_dict)\n"
     ]
    },
    {
     "name": "stdout",
     "output_type": "stream",
     "text": [
      "iter 95\n",
      "iter 96\n"
     ]
    },
    {
     "name": "stderr",
     "output_type": "stream",
     "text": [
      "/Users/tsuzuki/anaconda3/lib/python3.4/site-packages/sklearn/gaussian_process/gpr.py:427: UserWarning: fmin_l_bfgs_b terminated abnormally with the  state: {'nit': 2, 'warnflag': 2, 'task': b'ABNORMAL_TERMINATION_IN_LNSRCH', 'funcalls': 49, 'grad': array([ -2.72841426e-05])}\n",
      "  \" state: %s\" % convergence_dict)\n"
     ]
    },
    {
     "name": "stdout",
     "output_type": "stream",
     "text": [
      "iter 97\n",
      "iter 98\n",
      "iter 99\n"
     ]
    },
    {
     "name": "stderr",
     "output_type": "stream",
     "text": [
      "/Users/tsuzuki/anaconda3/lib/python3.4/site-packages/sklearn/gaussian_process/gpr.py:427: UserWarning: fmin_l_bfgs_b terminated abnormally with the  state: {'nit': 4, 'warnflag': 2, 'task': b'ABNORMAL_TERMINATION_IN_LNSRCH', 'funcalls': 55, 'grad': array([ 0.0015848])}\n",
      "  \" state: %s\" % convergence_dict)\n"
     ]
    },
    {
     "name": "stdout",
     "output_type": "stream",
     "text": [
      "iter 100\n",
      "iter 101\n"
     ]
    },
    {
     "name": "stderr",
     "output_type": "stream",
     "text": [
      "/Users/tsuzuki/anaconda3/lib/python3.4/site-packages/sklearn/gaussian_process/gpr.py:427: UserWarning: fmin_l_bfgs_b terminated abnormally with the  state: {'nit': 5, 'warnflag': 2, 'task': b'ABNORMAL_TERMINATION_IN_LNSRCH', 'funcalls': 48, 'grad': array([-0.00988864])}\n",
      "  \" state: %s\" % convergence_dict)\n"
     ]
    },
    {
     "name": "stdout",
     "output_type": "stream",
     "text": [
      "iter 102\n"
     ]
    },
    {
     "name": "stderr",
     "output_type": "stream",
     "text": [
      "/Users/tsuzuki/anaconda3/lib/python3.4/site-packages/sklearn/gaussian_process/gpr.py:427: UserWarning: fmin_l_bfgs_b terminated abnormally with the  state: {'nit': 2, 'warnflag': 2, 'task': b'ABNORMAL_TERMINATION_IN_LNSRCH', 'funcalls': 49, 'grad': array([ -5.50288241e-05])}\n",
      "  \" state: %s\" % convergence_dict)\n"
     ]
    },
    {
     "name": "stdout",
     "output_type": "stream",
     "text": [
      "iter 103\n"
     ]
    },
    {
     "name": "stderr",
     "output_type": "stream",
     "text": [
      "/Users/tsuzuki/anaconda3/lib/python3.4/site-packages/sklearn/gaussian_process/gpr.py:427: UserWarning: fmin_l_bfgs_b terminated abnormally with the  state: {'nit': 2, 'warnflag': 2, 'task': b'ABNORMAL_TERMINATION_IN_LNSRCH', 'funcalls': 50, 'grad': array([-0.00083789])}\n",
      "  \" state: %s\" % convergence_dict)\n"
     ]
    },
    {
     "name": "stdout",
     "output_type": "stream",
     "text": [
      "iter 104\n"
     ]
    },
    {
     "name": "stderr",
     "output_type": "stream",
     "text": [
      "/Users/tsuzuki/anaconda3/lib/python3.4/site-packages/sklearn/gaussian_process/gpr.py:427: UserWarning: fmin_l_bfgs_b terminated abnormally with the  state: {'nit': 4, 'warnflag': 2, 'task': b'ABNORMAL_TERMINATION_IN_LNSRCH', 'funcalls': 51, 'grad': array([ 0.00337458])}\n",
      "  \" state: %s\" % convergence_dict)\n",
      "/Users/tsuzuki/anaconda3/lib/python3.4/site-packages/sklearn/gaussian_process/gpr.py:427: UserWarning: fmin_l_bfgs_b terminated abnormally with the  state: {'nit': 2, 'warnflag': 2, 'task': b'ABNORMAL_TERMINATION_IN_LNSRCH', 'funcalls': 50, 'grad': array([  7.55597139e-05])}\n",
      "  \" state: %s\" % convergence_dict)\n"
     ]
    },
    {
     "name": "stdout",
     "output_type": "stream",
     "text": [
      "iter 105\n"
     ]
    },
    {
     "name": "stderr",
     "output_type": "stream",
     "text": [
      "/Users/tsuzuki/anaconda3/lib/python3.4/site-packages/sklearn/gaussian_process/gpr.py:427: UserWarning: fmin_l_bfgs_b terminated abnormally with the  state: {'nit': 4, 'warnflag': 2, 'task': b'ABNORMAL_TERMINATION_IN_LNSRCH', 'funcalls': 53, 'grad': array([ 0.00573884])}\n",
      "  \" state: %s\" % convergence_dict)\n"
     ]
    },
    {
     "name": "stdout",
     "output_type": "stream",
     "text": [
      "iter 106\n"
     ]
    },
    {
     "name": "stderr",
     "output_type": "stream",
     "text": [
      "/Users/tsuzuki/anaconda3/lib/python3.4/site-packages/sklearn/gaussian_process/gpr.py:427: UserWarning: fmin_l_bfgs_b terminated abnormally with the  state: {'nit': 5, 'warnflag': 2, 'task': b'ABNORMAL_TERMINATION_IN_LNSRCH', 'funcalls': 53, 'grad': array([-0.00509049])}\n",
      "  \" state: %s\" % convergence_dict)\n"
     ]
    },
    {
     "name": "stdout",
     "output_type": "stream",
     "text": [
      "iter 107\n"
     ]
    },
    {
     "name": "stderr",
     "output_type": "stream",
     "text": [
      "/Users/tsuzuki/anaconda3/lib/python3.4/site-packages/sklearn/gaussian_process/gpr.py:427: UserWarning: fmin_l_bfgs_b terminated abnormally with the  state: {'nit': 3, 'warnflag': 2, 'task': b'ABNORMAL_TERMINATION_IN_LNSRCH', 'funcalls': 47, 'grad': array([ 0.00106936])}\n",
      "  \" state: %s\" % convergence_dict)\n"
     ]
    },
    {
     "name": "stdout",
     "output_type": "stream",
     "text": [
      "iter 108\n"
     ]
    },
    {
     "name": "stderr",
     "output_type": "stream",
     "text": [
      "/Users/tsuzuki/anaconda3/lib/python3.4/site-packages/sklearn/gaussian_process/gpr.py:427: UserWarning: fmin_l_bfgs_b terminated abnormally with the  state: {'nit': 2, 'warnflag': 2, 'task': b'ABNORMAL_TERMINATION_IN_LNSRCH', 'funcalls': 50, 'grad': array([-0.0051513])}\n",
      "  \" state: %s\" % convergence_dict)\n",
      "/Users/tsuzuki/anaconda3/lib/python3.4/site-packages/sklearn/gaussian_process/gpr.py:427: UserWarning: fmin_l_bfgs_b terminated abnormally with the  state: {'nit': 2, 'warnflag': 2, 'task': b'ABNORMAL_TERMINATION_IN_LNSRCH', 'funcalls': 50, 'grad': array([ -5.69638796e-05])}\n",
      "  \" state: %s\" % convergence_dict)\n"
     ]
    },
    {
     "name": "stdout",
     "output_type": "stream",
     "text": [
      "iter 109\n",
      "iter 110\n",
      "iter 111\n",
      "iter 112\n"
     ]
    },
    {
     "name": "stderr",
     "output_type": "stream",
     "text": [
      "/Users/tsuzuki/anaconda3/lib/python3.4/site-packages/sklearn/gaussian_process/gpr.py:427: UserWarning: fmin_l_bfgs_b terminated abnormally with the  state: {'nit': 5, 'warnflag': 2, 'task': b'ABNORMAL_TERMINATION_IN_LNSRCH', 'funcalls': 51, 'grad': array([-0.00377756])}\n",
      "  \" state: %s\" % convergence_dict)\n",
      "/Users/tsuzuki/anaconda3/lib/python3.4/site-packages/sklearn/gaussian_process/gpr.py:427: UserWarning: fmin_l_bfgs_b terminated abnormally with the  state: {'nit': 5, 'warnflag': 2, 'task': b'ABNORMAL_TERMINATION_IN_LNSRCH', 'funcalls': 58, 'grad': array([-0.01400182])}\n",
      "  \" state: %s\" % convergence_dict)\n"
     ]
    },
    {
     "name": "stdout",
     "output_type": "stream",
     "text": [
      "iter 113\n"
     ]
    },
    {
     "name": "stderr",
     "output_type": "stream",
     "text": [
      "/Users/tsuzuki/anaconda3/lib/python3.4/site-packages/sklearn/gaussian_process/gpr.py:427: UserWarning: fmin_l_bfgs_b terminated abnormally with the  state: {'nit': 3, 'warnflag': 2, 'task': b'ABNORMAL_TERMINATION_IN_LNSRCH', 'funcalls': 50, 'grad': array([ 0.01596695])}\n",
      "  \" state: %s\" % convergence_dict)\n",
      "/Users/tsuzuki/anaconda3/lib/python3.4/site-packages/sklearn/gaussian_process/gpr.py:427: UserWarning: fmin_l_bfgs_b terminated abnormally with the  state: {'nit': 5, 'warnflag': 2, 'task': b'ABNORMAL_TERMINATION_IN_LNSRCH', 'funcalls': 52, 'grad': array([ 0.01588921])}\n",
      "  \" state: %s\" % convergence_dict)\n",
      "/Users/tsuzuki/anaconda3/lib/python3.4/site-packages/sklearn/gaussian_process/gpr.py:427: UserWarning: fmin_l_bfgs_b terminated abnormally with the  state: {'nit': 2, 'warnflag': 2, 'task': b'ABNORMAL_TERMINATION_IN_LNSRCH', 'funcalls': 51, 'grad': array([-0.01381801])}\n",
      "  \" state: %s\" % convergence_dict)\n"
     ]
    },
    {
     "name": "stdout",
     "output_type": "stream",
     "text": [
      "iter 114\n",
      "iter 115\n"
     ]
    },
    {
     "name": "stderr",
     "output_type": "stream",
     "text": [
      "/Users/tsuzuki/anaconda3/lib/python3.4/site-packages/sklearn/gaussian_process/gpr.py:427: UserWarning: fmin_l_bfgs_b terminated abnormally with the  state: {'nit': 2, 'warnflag': 2, 'task': b'ABNORMAL_TERMINATION_IN_LNSRCH', 'funcalls': 51, 'grad': array([-0.01441678])}\n",
      "  \" state: %s\" % convergence_dict)\n"
     ]
    },
    {
     "name": "stdout",
     "output_type": "stream",
     "text": [
      "iter 116\n",
      "iter 117\n",
      "iter 118\n"
     ]
    },
    {
     "name": "stderr",
     "output_type": "stream",
     "text": [
      "/Users/tsuzuki/anaconda3/lib/python3.4/site-packages/sklearn/gaussian_process/gpr.py:427: UserWarning: fmin_l_bfgs_b terminated abnormally with the  state: {'nit': 4, 'warnflag': 2, 'task': b'ABNORMAL_TERMINATION_IN_LNSRCH', 'funcalls': 52, 'grad': array([-0.00092405])}\n",
      "  \" state: %s\" % convergence_dict)\n"
     ]
    },
    {
     "name": "stdout",
     "output_type": "stream",
     "text": [
      "iter 119\n",
      "iter 120\n",
      "iter 121\n",
      "iter 122\n"
     ]
    },
    {
     "name": "stderr",
     "output_type": "stream",
     "text": [
      "/Users/tsuzuki/anaconda3/lib/python3.4/site-packages/sklearn/gaussian_process/gpr.py:427: UserWarning: fmin_l_bfgs_b terminated abnormally with the  state: {'nit': 2, 'warnflag': 2, 'task': b'ABNORMAL_TERMINATION_IN_LNSRCH', 'funcalls': 49, 'grad': array([ 0.01136297])}\n",
      "  \" state: %s\" % convergence_dict)\n"
     ]
    },
    {
     "name": "stdout",
     "output_type": "stream",
     "text": [
      "iter 123\n",
      "iter 124\n",
      "iter 125\n"
     ]
    },
    {
     "name": "stderr",
     "output_type": "stream",
     "text": [
      "/Users/tsuzuki/anaconda3/lib/python3.4/site-packages/sklearn/gaussian_process/gpr.py:427: UserWarning: fmin_l_bfgs_b terminated abnormally with the  state: {'nit': 2, 'warnflag': 2, 'task': b'ABNORMAL_TERMINATION_IN_LNSRCH', 'funcalls': 48, 'grad': array([-0.00388664])}\n",
      "  \" state: %s\" % convergence_dict)\n"
     ]
    },
    {
     "name": "stdout",
     "output_type": "stream",
     "text": [
      "iter 126\n",
      "iter 127\n"
     ]
    },
    {
     "name": "stderr",
     "output_type": "stream",
     "text": [
      "/Users/tsuzuki/anaconda3/lib/python3.4/site-packages/sklearn/gaussian_process/gpr.py:427: UserWarning: fmin_l_bfgs_b terminated abnormally with the  state: {'nit': 3, 'warnflag': 2, 'task': b'ABNORMAL_TERMINATION_IN_LNSRCH', 'funcalls': 47, 'grad': array([ 0.00060058])}\n",
      "  \" state: %s\" % convergence_dict)\n",
      "/Users/tsuzuki/anaconda3/lib/python3.4/site-packages/sklearn/gaussian_process/gpr.py:427: UserWarning: fmin_l_bfgs_b terminated abnormally with the  state: {'nit': 4, 'warnflag': 2, 'task': b'ABNORMAL_TERMINATION_IN_LNSRCH', 'funcalls': 48, 'grad': array([-0.00354098])}\n",
      "  \" state: %s\" % convergence_dict)\n"
     ]
    },
    {
     "name": "stdout",
     "output_type": "stream",
     "text": [
      "iter 128\n"
     ]
    },
    {
     "name": "stderr",
     "output_type": "stream",
     "text": [
      "/Users/tsuzuki/anaconda3/lib/python3.4/site-packages/sklearn/gaussian_process/gpr.py:427: UserWarning: fmin_l_bfgs_b terminated abnormally with the  state: {'nit': 6, 'warnflag': 2, 'task': b'ABNORMAL_TERMINATION_IN_LNSRCH', 'funcalls': 50, 'grad': array([-0.00387192])}\n",
      "  \" state: %s\" % convergence_dict)\n",
      "/Users/tsuzuki/anaconda3/lib/python3.4/site-packages/sklearn/gaussian_process/gpr.py:427: UserWarning: fmin_l_bfgs_b terminated abnormally with the  state: {'nit': 4, 'warnflag': 2, 'task': b'ABNORMAL_TERMINATION_IN_LNSRCH', 'funcalls': 50, 'grad': array([ 0.0034969])}\n",
      "  \" state: %s\" % convergence_dict)\n"
     ]
    },
    {
     "name": "stdout",
     "output_type": "stream",
     "text": [
      "iter 129\n",
      "iter 130\n"
     ]
    },
    {
     "name": "stderr",
     "output_type": "stream",
     "text": [
      "/Users/tsuzuki/anaconda3/lib/python3.4/site-packages/sklearn/gaussian_process/gpr.py:427: UserWarning: fmin_l_bfgs_b terminated abnormally with the  state: {'nit': 3, 'warnflag': 2, 'task': b'ABNORMAL_TERMINATION_IN_LNSRCH', 'funcalls': 50, 'grad': array([ 0.02107975])}\n",
      "  \" state: %s\" % convergence_dict)\n",
      "/Users/tsuzuki/anaconda3/lib/python3.4/site-packages/sklearn/gaussian_process/gpr.py:427: UserWarning: fmin_l_bfgs_b terminated abnormally with the  state: {'nit': 2, 'warnflag': 2, 'task': b'ABNORMAL_TERMINATION_IN_LNSRCH', 'funcalls': 47, 'grad': array([-0.00020859])}\n",
      "  \" state: %s\" % convergence_dict)\n"
     ]
    },
    {
     "name": "stdout",
     "output_type": "stream",
     "text": [
      "iter 131\n"
     ]
    },
    {
     "name": "stderr",
     "output_type": "stream",
     "text": [
      "/Users/tsuzuki/anaconda3/lib/python3.4/site-packages/sklearn/gaussian_process/gpr.py:427: UserWarning: fmin_l_bfgs_b terminated abnormally with the  state: {'nit': 3, 'warnflag': 2, 'task': b'ABNORMAL_TERMINATION_IN_LNSRCH', 'funcalls': 53, 'grad': array([ 0.00746047])}\n",
      "  \" state: %s\" % convergence_dict)\n"
     ]
    },
    {
     "name": "stdout",
     "output_type": "stream",
     "text": [
      "iter 132\n"
     ]
    },
    {
     "name": "stderr",
     "output_type": "stream",
     "text": [
      "/Users/tsuzuki/anaconda3/lib/python3.4/site-packages/sklearn/gaussian_process/gpr.py:427: UserWarning: fmin_l_bfgs_b terminated abnormally with the  state: {'nit': 3, 'warnflag': 2, 'task': b'ABNORMAL_TERMINATION_IN_LNSRCH', 'funcalls': 53, 'grad': array([ 0.01734512])}\n",
      "  \" state: %s\" % convergence_dict)\n"
     ]
    },
    {
     "name": "stdout",
     "output_type": "stream",
     "text": [
      "iter 133\n",
      "iter 134\n",
      "iter 135\n",
      "iter 136\n",
      "iter 137\n",
      "iter 138\n"
     ]
    },
    {
     "name": "stderr",
     "output_type": "stream",
     "text": [
      "/Users/tsuzuki/anaconda3/lib/python3.4/site-packages/sklearn/gaussian_process/gpr.py:427: UserWarning: fmin_l_bfgs_b terminated abnormally with the  state: {'nit': 4, 'warnflag': 2, 'task': b'ABNORMAL_TERMINATION_IN_LNSRCH', 'funcalls': 47, 'grad': array([ 0.00124464])}\n",
      "  \" state: %s\" % convergence_dict)\n"
     ]
    },
    {
     "name": "stdout",
     "output_type": "stream",
     "text": [
      "iter 139\n",
      "iter 140\n",
      "iter 141\n",
      "iter 142\n",
      "iter 143\n",
      "iter 144\n"
     ]
    },
    {
     "name": "stderr",
     "output_type": "stream",
     "text": [
      "/Users/tsuzuki/anaconda3/lib/python3.4/site-packages/sklearn/gaussian_process/gpr.py:427: UserWarning: fmin_l_bfgs_b terminated abnormally with the  state: {'nit': 5, 'warnflag': 2, 'task': b'ABNORMAL_TERMINATION_IN_LNSRCH', 'funcalls': 55, 'grad': array([-0.01144656])}\n",
      "  \" state: %s\" % convergence_dict)\n"
     ]
    },
    {
     "name": "stdout",
     "output_type": "stream",
     "text": [
      "iter 145\n",
      "iter 146\n"
     ]
    },
    {
     "name": "stderr",
     "output_type": "stream",
     "text": [
      "/Users/tsuzuki/anaconda3/lib/python3.4/site-packages/sklearn/gaussian_process/gpr.py:427: UserWarning: fmin_l_bfgs_b terminated abnormally with the  state: {'nit': 2, 'warnflag': 2, 'task': b'ABNORMAL_TERMINATION_IN_LNSRCH', 'funcalls': 51, 'grad': array([-0.00350057])}\n",
      "  \" state: %s\" % convergence_dict)\n"
     ]
    },
    {
     "name": "stdout",
     "output_type": "stream",
     "text": [
      "iter 147\n"
     ]
    },
    {
     "name": "stderr",
     "output_type": "stream",
     "text": [
      "/Users/tsuzuki/anaconda3/lib/python3.4/site-packages/sklearn/gaussian_process/gpr.py:427: UserWarning: fmin_l_bfgs_b terminated abnormally with the  state: {'nit': 4, 'warnflag': 2, 'task': b'ABNORMAL_TERMINATION_IN_LNSRCH', 'funcalls': 47, 'grad': array([-0.02028685])}\n",
      "  \" state: %s\" % convergence_dict)\n"
     ]
    },
    {
     "name": "stdout",
     "output_type": "stream",
     "text": [
      "iter 148\n"
     ]
    },
    {
     "name": "stderr",
     "output_type": "stream",
     "text": [
      "/Users/tsuzuki/anaconda3/lib/python3.4/site-packages/sklearn/gaussian_process/gpr.py:427: UserWarning: fmin_l_bfgs_b terminated abnormally with the  state: {'nit': 4, 'warnflag': 2, 'task': b'ABNORMAL_TERMINATION_IN_LNSRCH', 'funcalls': 54, 'grad': array([ 0.00957245])}\n",
      "  \" state: %s\" % convergence_dict)\n"
     ]
    },
    {
     "name": "stdout",
     "output_type": "stream",
     "text": [
      "iter 149\n"
     ]
    },
    {
     "name": "stderr",
     "output_type": "stream",
     "text": [
      "/Users/tsuzuki/anaconda3/lib/python3.4/site-packages/sklearn/gaussian_process/gpr.py:427: UserWarning: fmin_l_bfgs_b terminated abnormally with the  state: {'nit': 4, 'warnflag': 2, 'task': b'ABNORMAL_TERMINATION_IN_LNSRCH', 'funcalls': 57, 'grad': array([-0.0007697])}\n",
      "  \" state: %s\" % convergence_dict)\n"
     ]
    },
    {
     "name": "stdout",
     "output_type": "stream",
     "text": [
      "sample 2\n",
      "iter 0\n",
      "iter 1\n",
      "iter 2\n",
      "iter 3\n",
      "iter 4\n",
      "iter 5\n",
      "iter 6\n",
      "iter 7\n",
      "iter 8\n",
      "iter 9\n",
      "iter 10\n",
      "iter 11\n",
      "iter 12\n",
      "iter 13\n",
      "iter 14\n",
      "iter 15\n",
      "iter 16\n"
     ]
    },
    {
     "name": "stderr",
     "output_type": "stream",
     "text": [
      "/Users/tsuzuki/anaconda3/lib/python3.4/site-packages/sklearn/gaussian_process/gpr.py:427: UserWarning: fmin_l_bfgs_b terminated abnormally with the  state: {'nit': 2, 'warnflag': 2, 'task': b'ABNORMAL_TERMINATION_IN_LNSRCH', 'funcalls': 50, 'grad': array([-0.00035021])}\n",
      "  \" state: %s\" % convergence_dict)\n"
     ]
    },
    {
     "name": "stdout",
     "output_type": "stream",
     "text": [
      "iter 17\n",
      "iter 18\n",
      "iter 19\n",
      "iter 20\n",
      "iter 21\n",
      "iter 22\n",
      "iter 23\n",
      "iter 24\n",
      "iter 25\n",
      "iter 26\n",
      "iter 27\n",
      "iter 28\n"
     ]
    },
    {
     "name": "stderr",
     "output_type": "stream",
     "text": [
      "/Users/tsuzuki/anaconda3/lib/python3.4/site-packages/sklearn/gaussian_process/gpr.py:427: UserWarning: fmin_l_bfgs_b terminated abnormally with the  state: {'nit': 2, 'warnflag': 2, 'task': b'ABNORMAL_TERMINATION_IN_LNSRCH', 'funcalls': 49, 'grad': array([ -1.00933466e-05])}\n",
      "  \" state: %s\" % convergence_dict)\n"
     ]
    },
    {
     "name": "stdout",
     "output_type": "stream",
     "text": [
      "iter 29\n",
      "iter 30\n",
      "iter 31\n"
     ]
    },
    {
     "name": "stderr",
     "output_type": "stream",
     "text": [
      "/Users/tsuzuki/anaconda3/lib/python3.4/site-packages/sklearn/gaussian_process/gpr.py:427: UserWarning: fmin_l_bfgs_b terminated abnormally with the  state: {'nit': 4, 'warnflag': 2, 'task': b'ABNORMAL_TERMINATION_IN_LNSRCH', 'funcalls': 47, 'grad': array([ 0.00036986])}\n",
      "  \" state: %s\" % convergence_dict)\n"
     ]
    },
    {
     "name": "stdout",
     "output_type": "stream",
     "text": [
      "iter 32\n",
      "iter 33\n"
     ]
    },
    {
     "name": "stderr",
     "output_type": "stream",
     "text": [
      "/Users/tsuzuki/anaconda3/lib/python3.4/site-packages/sklearn/gaussian_process/gpr.py:427: UserWarning: fmin_l_bfgs_b terminated abnormally with the  state: {'nit': 2, 'warnflag': 2, 'task': b'ABNORMAL_TERMINATION_IN_LNSRCH', 'funcalls': 49, 'grad': array([-0.0003973])}\n",
      "  \" state: %s\" % convergence_dict)\n"
     ]
    },
    {
     "name": "stdout",
     "output_type": "stream",
     "text": [
      "iter 34\n",
      "iter 35\n",
      "iter 36\n",
      "iter 37\n",
      "iter 38\n"
     ]
    },
    {
     "name": "stderr",
     "output_type": "stream",
     "text": [
      "/Users/tsuzuki/anaconda3/lib/python3.4/site-packages/sklearn/gaussian_process/gpr.py:427: UserWarning: fmin_l_bfgs_b terminated abnormally with the  state: {'nit': 4, 'warnflag': 2, 'task': b'ABNORMAL_TERMINATION_IN_LNSRCH', 'funcalls': 49, 'grad': array([ -2.87628693e-05])}\n",
      "  \" state: %s\" % convergence_dict)\n"
     ]
    },
    {
     "name": "stdout",
     "output_type": "stream",
     "text": [
      "iter 39\n",
      "iter 40\n",
      "iter 41\n",
      "iter 42\n"
     ]
    },
    {
     "name": "stderr",
     "output_type": "stream",
     "text": [
      "/Users/tsuzuki/anaconda3/lib/python3.4/site-packages/sklearn/gaussian_process/gpr.py:427: UserWarning: fmin_l_bfgs_b terminated abnormally with the  state: {'nit': 2, 'warnflag': 2, 'task': b'ABNORMAL_TERMINATION_IN_LNSRCH', 'funcalls': 51, 'grad': array([-0.00041115])}\n",
      "  \" state: %s\" % convergence_dict)\n"
     ]
    },
    {
     "name": "stdout",
     "output_type": "stream",
     "text": [
      "iter 43\n",
      "iter 44\n"
     ]
    },
    {
     "name": "stderr",
     "output_type": "stream",
     "text": [
      "/Users/tsuzuki/anaconda3/lib/python3.4/site-packages/sklearn/gaussian_process/gpr.py:427: UserWarning: fmin_l_bfgs_b terminated abnormally with the  state: {'nit': 2, 'warnflag': 2, 'task': b'ABNORMAL_TERMINATION_IN_LNSRCH', 'funcalls': 51, 'grad': array([  3.90013918e-05])}\n",
      "  \" state: %s\" % convergence_dict)\n",
      "/Users/tsuzuki/anaconda3/lib/python3.4/site-packages/sklearn/gaussian_process/gpr.py:427: UserWarning: fmin_l_bfgs_b terminated abnormally with the  state: {'nit': 3, 'warnflag': 2, 'task': b'ABNORMAL_TERMINATION_IN_LNSRCH', 'funcalls': 57, 'grad': array([ 0.00064152])}\n",
      "  \" state: %s\" % convergence_dict)\n"
     ]
    },
    {
     "name": "stdout",
     "output_type": "stream",
     "text": [
      "iter 45\n"
     ]
    },
    {
     "name": "stderr",
     "output_type": "stream",
     "text": [
      "/Users/tsuzuki/anaconda3/lib/python3.4/site-packages/sklearn/gaussian_process/gpr.py:427: UserWarning: fmin_l_bfgs_b terminated abnormally with the  state: {'nit': 5, 'warnflag': 2, 'task': b'ABNORMAL_TERMINATION_IN_LNSRCH', 'funcalls': 51, 'grad': array([-0.0005341])}\n",
      "  \" state: %s\" % convergence_dict)\n"
     ]
    },
    {
     "name": "stdout",
     "output_type": "stream",
     "text": [
      "iter 46\n",
      "iter 47\n",
      "iter 48\n",
      "iter 49\n",
      "iter 50\n",
      "iter 51\n"
     ]
    },
    {
     "name": "stderr",
     "output_type": "stream",
     "text": [
      "/Users/tsuzuki/anaconda3/lib/python3.4/site-packages/sklearn/gaussian_process/gpr.py:427: UserWarning: fmin_l_bfgs_b terminated abnormally with the  state: {'nit': 3, 'warnflag': 2, 'task': b'ABNORMAL_TERMINATION_IN_LNSRCH', 'funcalls': 52, 'grad': array([ -1.15246712e-05])}\n",
      "  \" state: %s\" % convergence_dict)\n"
     ]
    },
    {
     "name": "stdout",
     "output_type": "stream",
     "text": [
      "iter 52\n"
     ]
    },
    {
     "name": "stderr",
     "output_type": "stream",
     "text": [
      "/Users/tsuzuki/anaconda3/lib/python3.4/site-packages/sklearn/gaussian_process/gpr.py:427: UserWarning: fmin_l_bfgs_b terminated abnormally with the  state: {'nit': 5, 'warnflag': 2, 'task': b'ABNORMAL_TERMINATION_IN_LNSRCH', 'funcalls': 49, 'grad': array([ -3.24601647e-05])}\n",
      "  \" state: %s\" % convergence_dict)\n",
      "/Users/tsuzuki/anaconda3/lib/python3.4/site-packages/sklearn/gaussian_process/gpr.py:427: UserWarning: fmin_l_bfgs_b terminated abnormally with the  state: {'nit': 5, 'warnflag': 2, 'task': b'ABNORMAL_TERMINATION_IN_LNSRCH', 'funcalls': 49, 'grad': array([-0.00028755])}\n",
      "  \" state: %s\" % convergence_dict)\n"
     ]
    },
    {
     "name": "stdout",
     "output_type": "stream",
     "text": [
      "iter 53\n"
     ]
    },
    {
     "name": "stderr",
     "output_type": "stream",
     "text": [
      "/Users/tsuzuki/anaconda3/lib/python3.4/site-packages/sklearn/gaussian_process/gpr.py:427: UserWarning: fmin_l_bfgs_b terminated abnormally with the  state: {'nit': 3, 'warnflag': 2, 'task': b'ABNORMAL_TERMINATION_IN_LNSRCH', 'funcalls': 48, 'grad': array([ -9.43072373e-05])}\n",
      "  \" state: %s\" % convergence_dict)\n"
     ]
    },
    {
     "name": "stdout",
     "output_type": "stream",
     "text": [
      "iter 54\n"
     ]
    },
    {
     "name": "stderr",
     "output_type": "stream",
     "text": [
      "/Users/tsuzuki/anaconda3/lib/python3.4/site-packages/sklearn/gaussian_process/gpr.py:427: UserWarning: fmin_l_bfgs_b terminated abnormally with the  state: {'nit': 4, 'warnflag': 2, 'task': b'ABNORMAL_TERMINATION_IN_LNSRCH', 'funcalls': 55, 'grad': array([-0.00329884])}\n",
      "  \" state: %s\" % convergence_dict)\n"
     ]
    },
    {
     "name": "stdout",
     "output_type": "stream",
     "text": [
      "iter 55\n",
      "iter 56\n"
     ]
    },
    {
     "name": "stderr",
     "output_type": "stream",
     "text": [
      "/Users/tsuzuki/anaconda3/lib/python3.4/site-packages/sklearn/gaussian_process/gpr.py:427: UserWarning: fmin_l_bfgs_b terminated abnormally with the  state: {'nit': 5, 'warnflag': 2, 'task': b'ABNORMAL_TERMINATION_IN_LNSRCH', 'funcalls': 51, 'grad': array([-0.00043002])}\n",
      "  \" state: %s\" % convergence_dict)\n",
      "/Users/tsuzuki/anaconda3/lib/python3.4/site-packages/sklearn/gaussian_process/gpr.py:427: UserWarning: fmin_l_bfgs_b terminated abnormally with the  state: {'nit': 3, 'warnflag': 2, 'task': b'ABNORMAL_TERMINATION_IN_LNSRCH', 'funcalls': 50, 'grad': array([ 0.00224938])}\n",
      "  \" state: %s\" % convergence_dict)\n",
      "/Users/tsuzuki/anaconda3/lib/python3.4/site-packages/sklearn/gaussian_process/gpr.py:427: UserWarning: fmin_l_bfgs_b terminated abnormally with the  state: {'nit': 3, 'warnflag': 2, 'task': b'ABNORMAL_TERMINATION_IN_LNSRCH', 'funcalls': 53, 'grad': array([ -3.21781633e-05])}\n",
      "  \" state: %s\" % convergence_dict)\n"
     ]
    },
    {
     "name": "stdout",
     "output_type": "stream",
     "text": [
      "iter 57\n",
      "iter 58\n",
      "iter 59\n",
      "iter 60\n",
      "iter 61\n"
     ]
    },
    {
     "name": "stderr",
     "output_type": "stream",
     "text": [
      "/Users/tsuzuki/anaconda3/lib/python3.4/site-packages/sklearn/gaussian_process/gpr.py:427: UserWarning: fmin_l_bfgs_b terminated abnormally with the  state: {'nit': 5, 'warnflag': 2, 'task': b'ABNORMAL_TERMINATION_IN_LNSRCH', 'funcalls': 52, 'grad': array([-0.00697376])}\n",
      "  \" state: %s\" % convergence_dict)\n",
      "/Users/tsuzuki/anaconda3/lib/python3.4/site-packages/sklearn/gaussian_process/gpr.py:427: UserWarning: fmin_l_bfgs_b terminated abnormally with the  state: {'nit': 5, 'warnflag': 2, 'task': b'ABNORMAL_TERMINATION_IN_LNSRCH', 'funcalls': 49, 'grad': array([-0.00127973])}\n",
      "  \" state: %s\" % convergence_dict)\n"
     ]
    },
    {
     "name": "stdout",
     "output_type": "stream",
     "text": [
      "iter 62\n"
     ]
    },
    {
     "name": "stderr",
     "output_type": "stream",
     "text": [
      "/Users/tsuzuki/anaconda3/lib/python3.4/site-packages/sklearn/gaussian_process/gpr.py:427: UserWarning: fmin_l_bfgs_b terminated abnormally with the  state: {'nit': 4, 'warnflag': 2, 'task': b'ABNORMAL_TERMINATION_IN_LNSRCH', 'funcalls': 49, 'grad': array([-0.0005385])}\n",
      "  \" state: %s\" % convergence_dict)\n"
     ]
    },
    {
     "name": "stdout",
     "output_type": "stream",
     "text": [
      "iter 63\n"
     ]
    },
    {
     "name": "stderr",
     "output_type": "stream",
     "text": [
      "/Users/tsuzuki/anaconda3/lib/python3.4/site-packages/sklearn/gaussian_process/gpr.py:427: UserWarning: fmin_l_bfgs_b terminated abnormally with the  state: {'nit': 3, 'warnflag': 2, 'task': b'ABNORMAL_TERMINATION_IN_LNSRCH', 'funcalls': 48, 'grad': array([ 0.00273635])}\n",
      "  \" state: %s\" % convergence_dict)\n",
      "/Users/tsuzuki/anaconda3/lib/python3.4/site-packages/sklearn/gaussian_process/gpr.py:427: UserWarning: fmin_l_bfgs_b terminated abnormally with the  state: {'nit': 4, 'warnflag': 2, 'task': b'ABNORMAL_TERMINATION_IN_LNSRCH', 'funcalls': 55, 'grad': array([-0.00157836])}\n",
      "  \" state: %s\" % convergence_dict)\n",
      "/Users/tsuzuki/anaconda3/lib/python3.4/site-packages/sklearn/gaussian_process/gpr.py:427: UserWarning: fmin_l_bfgs_b terminated abnormally with the  state: {'nit': 2, 'warnflag': 2, 'task': b'ABNORMAL_TERMINATION_IN_LNSRCH', 'funcalls': 51, 'grad': array([ 0.00086719])}\n",
      "  \" state: %s\" % convergence_dict)\n",
      "/Users/tsuzuki/anaconda3/lib/python3.4/site-packages/sklearn/gaussian_process/gpr.py:427: UserWarning: fmin_l_bfgs_b terminated abnormally with the  state: {'nit': 3, 'warnflag': 2, 'task': b'ABNORMAL_TERMINATION_IN_LNSRCH', 'funcalls': 48, 'grad': array([-0.00018895])}\n",
      "  \" state: %s\" % convergence_dict)\n"
     ]
    },
    {
     "name": "stdout",
     "output_type": "stream",
     "text": [
      "iter 64\n"
     ]
    },
    {
     "name": "stderr",
     "output_type": "stream",
     "text": [
      "/Users/tsuzuki/anaconda3/lib/python3.4/site-packages/sklearn/gaussian_process/gpr.py:427: UserWarning: fmin_l_bfgs_b terminated abnormally with the  state: {'nit': 2, 'warnflag': 2, 'task': b'ABNORMAL_TERMINATION_IN_LNSRCH', 'funcalls': 51, 'grad': array([ 0.00136743])}\n",
      "  \" state: %s\" % convergence_dict)\n",
      "/Users/tsuzuki/anaconda3/lib/python3.4/site-packages/sklearn/gaussian_process/gpr.py:427: UserWarning: fmin_l_bfgs_b terminated abnormally with the  state: {'nit': 2, 'warnflag': 2, 'task': b'ABNORMAL_TERMINATION_IN_LNSRCH', 'funcalls': 53, 'grad': array([ 0.00073727])}\n",
      "  \" state: %s\" % convergence_dict)\n"
     ]
    },
    {
     "name": "stdout",
     "output_type": "stream",
     "text": [
      "iter 65\n"
     ]
    },
    {
     "name": "stderr",
     "output_type": "stream",
     "text": [
      "/Users/tsuzuki/anaconda3/lib/python3.4/site-packages/sklearn/gaussian_process/gpr.py:427: UserWarning: fmin_l_bfgs_b terminated abnormally with the  state: {'nit': 2, 'warnflag': 2, 'task': b'ABNORMAL_TERMINATION_IN_LNSRCH', 'funcalls': 53, 'grad': array([ 0.00057792])}\n",
      "  \" state: %s\" % convergence_dict)\n",
      "/Users/tsuzuki/anaconda3/lib/python3.4/site-packages/sklearn/gaussian_process/gpr.py:427: UserWarning: fmin_l_bfgs_b terminated abnormally with the  state: {'nit': 2, 'warnflag': 2, 'task': b'ABNORMAL_TERMINATION_IN_LNSRCH', 'funcalls': 53, 'grad': array([ 0.00062498])}\n",
      "  \" state: %s\" % convergence_dict)\n",
      "/Users/tsuzuki/anaconda3/lib/python3.4/site-packages/sklearn/gaussian_process/gpr.py:427: UserWarning: fmin_l_bfgs_b terminated abnormally with the  state: {'nit': 3, 'warnflag': 2, 'task': b'ABNORMAL_TERMINATION_IN_LNSRCH', 'funcalls': 52, 'grad': array([-0.001327])}\n",
      "  \" state: %s\" % convergence_dict)\n"
     ]
    },
    {
     "name": "stdout",
     "output_type": "stream",
     "text": [
      "iter 66\n"
     ]
    },
    {
     "name": "stderr",
     "output_type": "stream",
     "text": [
      "/Users/tsuzuki/anaconda3/lib/python3.4/site-packages/sklearn/gaussian_process/gpr.py:427: UserWarning: fmin_l_bfgs_b terminated abnormally with the  state: {'nit': 5, 'warnflag': 2, 'task': b'ABNORMAL_TERMINATION_IN_LNSRCH', 'funcalls': 49, 'grad': array([ -1.80379138e-05])}\n",
      "  \" state: %s\" % convergence_dict)\n",
      "/Users/tsuzuki/anaconda3/lib/python3.4/site-packages/sklearn/gaussian_process/gpr.py:427: UserWarning: fmin_l_bfgs_b terminated abnormally with the  state: {'nit': 2, 'warnflag': 2, 'task': b'ABNORMAL_TERMINATION_IN_LNSRCH', 'funcalls': 53, 'grad': array([  9.74301220e-05])}\n",
      "  \" state: %s\" % convergence_dict)\n"
     ]
    },
    {
     "name": "stdout",
     "output_type": "stream",
     "text": [
      "iter 67\n"
     ]
    },
    {
     "name": "stderr",
     "output_type": "stream",
     "text": [
      "/Users/tsuzuki/anaconda3/lib/python3.4/site-packages/sklearn/gaussian_process/gpr.py:427: UserWarning: fmin_l_bfgs_b terminated abnormally with the  state: {'nit': 2, 'warnflag': 2, 'task': b'ABNORMAL_TERMINATION_IN_LNSRCH', 'funcalls': 53, 'grad': array([ 0.00028578])}\n",
      "  \" state: %s\" % convergence_dict)\n"
     ]
    },
    {
     "name": "stdout",
     "output_type": "stream",
     "text": [
      "iter 68\n"
     ]
    },
    {
     "name": "stderr",
     "output_type": "stream",
     "text": [
      "/Users/tsuzuki/anaconda3/lib/python3.4/site-packages/sklearn/gaussian_process/gpr.py:427: UserWarning: fmin_l_bfgs_b terminated abnormally with the  state: {'nit': 2, 'warnflag': 2, 'task': b'ABNORMAL_TERMINATION_IN_LNSRCH', 'funcalls': 53, 'grad': array([ 0.00027438])}\n",
      "  \" state: %s\" % convergence_dict)\n",
      "/Users/tsuzuki/anaconda3/lib/python3.4/site-packages/sklearn/gaussian_process/gpr.py:427: UserWarning: fmin_l_bfgs_b terminated abnormally with the  state: {'nit': 2, 'warnflag': 2, 'task': b'ABNORMAL_TERMINATION_IN_LNSRCH', 'funcalls': 47, 'grad': array([ 0.00010687])}\n",
      "  \" state: %s\" % convergence_dict)\n"
     ]
    },
    {
     "name": "stdout",
     "output_type": "stream",
     "text": [
      "iter 69\n"
     ]
    },
    {
     "name": "stderr",
     "output_type": "stream",
     "text": [
      "/Users/tsuzuki/anaconda3/lib/python3.4/site-packages/sklearn/gaussian_process/gpr.py:427: UserWarning: fmin_l_bfgs_b terminated abnormally with the  state: {'nit': 2, 'warnflag': 2, 'task': b'ABNORMAL_TERMINATION_IN_LNSRCH', 'funcalls': 47, 'grad': array([ 0.00013601])}\n",
      "  \" state: %s\" % convergence_dict)\n",
      "/Users/tsuzuki/anaconda3/lib/python3.4/site-packages/sklearn/gaussian_process/gpr.py:427: UserWarning: fmin_l_bfgs_b terminated abnormally with the  state: {'nit': 2, 'warnflag': 2, 'task': b'ABNORMAL_TERMINATION_IN_LNSRCH', 'funcalls': 51, 'grad': array([ 0.00097523])}\n",
      "  \" state: %s\" % convergence_dict)\n"
     ]
    },
    {
     "name": "stdout",
     "output_type": "stream",
     "text": [
      "iter 70\n",
      "iter 71\n"
     ]
    },
    {
     "name": "stderr",
     "output_type": "stream",
     "text": [
      "/Users/tsuzuki/anaconda3/lib/python3.4/site-packages/sklearn/gaussian_process/gpr.py:427: UserWarning: fmin_l_bfgs_b terminated abnormally with the  state: {'nit': 3, 'warnflag': 2, 'task': b'ABNORMAL_TERMINATION_IN_LNSRCH', 'funcalls': 48, 'grad': array([ 0.00130505])}\n",
      "  \" state: %s\" % convergence_dict)\n",
      "/Users/tsuzuki/anaconda3/lib/python3.4/site-packages/sklearn/gaussian_process/gpr.py:427: UserWarning: fmin_l_bfgs_b terminated abnormally with the  state: {'nit': 2, 'warnflag': 2, 'task': b'ABNORMAL_TERMINATION_IN_LNSRCH', 'funcalls': 51, 'grad': array([ 0.0004759])}\n",
      "  \" state: %s\" % convergence_dict)\n"
     ]
    },
    {
     "name": "stdout",
     "output_type": "stream",
     "text": [
      "iter 72\n"
     ]
    },
    {
     "name": "stderr",
     "output_type": "stream",
     "text": [
      "/Users/tsuzuki/anaconda3/lib/python3.4/site-packages/sklearn/gaussian_process/gpr.py:427: UserWarning: fmin_l_bfgs_b terminated abnormally with the  state: {'nit': 4, 'warnflag': 2, 'task': b'ABNORMAL_TERMINATION_IN_LNSRCH', 'funcalls': 57, 'grad': array([-0.00714906])}\n",
      "  \" state: %s\" % convergence_dict)\n",
      "/Users/tsuzuki/anaconda3/lib/python3.4/site-packages/sklearn/gaussian_process/gpr.py:427: UserWarning: fmin_l_bfgs_b terminated abnormally with the  state: {'nit': 3, 'warnflag': 2, 'task': b'ABNORMAL_TERMINATION_IN_LNSRCH', 'funcalls': 46, 'grad': array([ -2.81621979e-05])}\n",
      "  \" state: %s\" % convergence_dict)\n",
      "/Users/tsuzuki/anaconda3/lib/python3.4/site-packages/sklearn/gaussian_process/gpr.py:427: UserWarning: fmin_l_bfgs_b terminated abnormally with the  state: {'nit': 5, 'warnflag': 2, 'task': b'ABNORMAL_TERMINATION_IN_LNSRCH', 'funcalls': 48, 'grad': array([-0.00135796])}\n",
      "  \" state: %s\" % convergence_dict)\n"
     ]
    },
    {
     "name": "stdout",
     "output_type": "stream",
     "text": [
      "iter 73\n"
     ]
    },
    {
     "name": "stderr",
     "output_type": "stream",
     "text": [
      "/Users/tsuzuki/anaconda3/lib/python3.4/site-packages/sklearn/gaussian_process/gpr.py:427: UserWarning: fmin_l_bfgs_b terminated abnormally with the  state: {'nit': 3, 'warnflag': 2, 'task': b'ABNORMAL_TERMINATION_IN_LNSRCH', 'funcalls': 57, 'grad': array([-0.00611267])}\n",
      "  \" state: %s\" % convergence_dict)\n",
      "/Users/tsuzuki/anaconda3/lib/python3.4/site-packages/sklearn/gaussian_process/gpr.py:427: UserWarning: fmin_l_bfgs_b terminated abnormally with the  state: {'nit': 5, 'warnflag': 2, 'task': b'ABNORMAL_TERMINATION_IN_LNSRCH', 'funcalls': 50, 'grad': array([ 0.00211403])}\n",
      "  \" state: %s\" % convergence_dict)\n",
      "/Users/tsuzuki/anaconda3/lib/python3.4/site-packages/sklearn/gaussian_process/gpr.py:427: UserWarning: fmin_l_bfgs_b terminated abnormally with the  state: {'nit': 2, 'warnflag': 2, 'task': b'ABNORMAL_TERMINATION_IN_LNSRCH', 'funcalls': 53, 'grad': array([ 0.00011018])}\n",
      "  \" state: %s\" % convergence_dict)\n"
     ]
    },
    {
     "name": "stdout",
     "output_type": "stream",
     "text": [
      "iter 74\n"
     ]
    },
    {
     "name": "stderr",
     "output_type": "stream",
     "text": [
      "/Users/tsuzuki/anaconda3/lib/python3.4/site-packages/sklearn/gaussian_process/gpr.py:427: UserWarning: fmin_l_bfgs_b terminated abnormally with the  state: {'nit': 4, 'warnflag': 2, 'task': b'ABNORMAL_TERMINATION_IN_LNSRCH', 'funcalls': 47, 'grad': array([-0.00480267])}\n",
      "  \" state: %s\" % convergence_dict)\n"
     ]
    },
    {
     "name": "stdout",
     "output_type": "stream",
     "text": [
      "iter 75\n"
     ]
    },
    {
     "name": "stderr",
     "output_type": "stream",
     "text": [
      "/Users/tsuzuki/anaconda3/lib/python3.4/site-packages/sklearn/gaussian_process/gpr.py:427: UserWarning: fmin_l_bfgs_b terminated abnormally with the  state: {'nit': 5, 'warnflag': 2, 'task': b'ABNORMAL_TERMINATION_IN_LNSRCH', 'funcalls': 49, 'grad': array([ -4.54336841e-05])}\n",
      "  \" state: %s\" % convergence_dict)\n"
     ]
    },
    {
     "name": "stdout",
     "output_type": "stream",
     "text": [
      "iter 76\n",
      "iter 77\n"
     ]
    },
    {
     "name": "stderr",
     "output_type": "stream",
     "text": [
      "/Users/tsuzuki/anaconda3/lib/python3.4/site-packages/sklearn/gaussian_process/gpr.py:427: UserWarning: fmin_l_bfgs_b terminated abnormally with the  state: {'nit': 5, 'warnflag': 2, 'task': b'ABNORMAL_TERMINATION_IN_LNSRCH', 'funcalls': 48, 'grad': array([ -9.88845713e-05])}\n",
      "  \" state: %s\" % convergence_dict)\n"
     ]
    },
    {
     "name": "stdout",
     "output_type": "stream",
     "text": [
      "iter 78\n",
      "iter 79\n",
      "iter 80\n",
      "iter 81\n",
      "iter 82\n"
     ]
    },
    {
     "name": "stderr",
     "output_type": "stream",
     "text": [
      "/Users/tsuzuki/anaconda3/lib/python3.4/site-packages/sklearn/gaussian_process/gpr.py:427: UserWarning: fmin_l_bfgs_b terminated abnormally with the  state: {'nit': 5, 'warnflag': 2, 'task': b'ABNORMAL_TERMINATION_IN_LNSRCH', 'funcalls': 49, 'grad': array([ 0.00011076])}\n",
      "  \" state: %s\" % convergence_dict)\n"
     ]
    },
    {
     "name": "stdout",
     "output_type": "stream",
     "text": [
      "iter 83\n",
      "iter 84\n",
      "iter 85\n",
      "iter 86\n",
      "iter 87\n",
      "iter 88\n"
     ]
    },
    {
     "name": "stderr",
     "output_type": "stream",
     "text": [
      "/Users/tsuzuki/anaconda3/lib/python3.4/site-packages/sklearn/gaussian_process/gpr.py:427: UserWarning: fmin_l_bfgs_b terminated abnormally with the  state: {'nit': 4, 'warnflag': 2, 'task': b'ABNORMAL_TERMINATION_IN_LNSRCH', 'funcalls': 47, 'grad': array([ 0.00021622])}\n",
      "  \" state: %s\" % convergence_dict)\n",
      "/Users/tsuzuki/anaconda3/lib/python3.4/site-packages/sklearn/gaussian_process/gpr.py:427: UserWarning: fmin_l_bfgs_b terminated abnormally with the  state: {'nit': 2, 'warnflag': 2, 'task': b'ABNORMAL_TERMINATION_IN_LNSRCH', 'funcalls': 50, 'grad': array([ -1.48114723e-05])}\n",
      "  \" state: %s\" % convergence_dict)\n"
     ]
    },
    {
     "name": "stdout",
     "output_type": "stream",
     "text": [
      "iter 89\n"
     ]
    },
    {
     "name": "stderr",
     "output_type": "stream",
     "text": [
      "/Users/tsuzuki/anaconda3/lib/python3.4/site-packages/sklearn/gaussian_process/gpr.py:427: UserWarning: fmin_l_bfgs_b terminated abnormally with the  state: {'nit': 3, 'warnflag': 2, 'task': b'ABNORMAL_TERMINATION_IN_LNSRCH', 'funcalls': 50, 'grad': array([-0.00347213])}\n",
      "  \" state: %s\" % convergence_dict)\n"
     ]
    },
    {
     "name": "stdout",
     "output_type": "stream",
     "text": [
      "iter 90\n",
      "iter 91\n",
      "iter 92\n"
     ]
    },
    {
     "name": "stderr",
     "output_type": "stream",
     "text": [
      "/Users/tsuzuki/anaconda3/lib/python3.4/site-packages/sklearn/gaussian_process/gpr.py:427: UserWarning: fmin_l_bfgs_b terminated abnormally with the  state: {'nit': 4, 'warnflag': 2, 'task': b'ABNORMAL_TERMINATION_IN_LNSRCH', 'funcalls': 49, 'grad': array([ 0.00052833])}\n",
      "  \" state: %s\" % convergence_dict)\n",
      "/Users/tsuzuki/anaconda3/lib/python3.4/site-packages/sklearn/gaussian_process/gpr.py:427: UserWarning: fmin_l_bfgs_b terminated abnormally with the  state: {'nit': 2, 'warnflag': 2, 'task': b'ABNORMAL_TERMINATION_IN_LNSRCH', 'funcalls': 52, 'grad': array([-0.00473157])}\n",
      "  \" state: %s\" % convergence_dict)\n"
     ]
    },
    {
     "name": "stdout",
     "output_type": "stream",
     "text": [
      "iter 93\n"
     ]
    },
    {
     "name": "stderr",
     "output_type": "stream",
     "text": [
      "/Users/tsuzuki/anaconda3/lib/python3.4/site-packages/sklearn/gaussian_process/gpr.py:427: UserWarning: fmin_l_bfgs_b terminated abnormally with the  state: {'nit': 2, 'warnflag': 2, 'task': b'ABNORMAL_TERMINATION_IN_LNSRCH', 'funcalls': 52, 'grad': array([ -5.31196856e-05])}\n",
      "  \" state: %s\" % convergence_dict)\n"
     ]
    },
    {
     "name": "stdout",
     "output_type": "stream",
     "text": [
      "iter 94\n",
      "iter 95\n",
      "iter 96\n",
      "iter 97\n",
      "iter 98\n"
     ]
    },
    {
     "name": "stderr",
     "output_type": "stream",
     "text": [
      "/Users/tsuzuki/anaconda3/lib/python3.4/site-packages/sklearn/gaussian_process/gpr.py:427: UserWarning: fmin_l_bfgs_b terminated abnormally with the  state: {'nit': 3, 'warnflag': 2, 'task': b'ABNORMAL_TERMINATION_IN_LNSRCH', 'funcalls': 52, 'grad': array([-0.00299112])}\n",
      "  \" state: %s\" % convergence_dict)\n",
      "/Users/tsuzuki/anaconda3/lib/python3.4/site-packages/sklearn/gaussian_process/gpr.py:427: UserWarning: fmin_l_bfgs_b terminated abnormally with the  state: {'nit': 3, 'warnflag': 2, 'task': b'ABNORMAL_TERMINATION_IN_LNSRCH', 'funcalls': 51, 'grad': array([ 0.00011757])}\n",
      "  \" state: %s\" % convergence_dict)\n"
     ]
    },
    {
     "name": "stdout",
     "output_type": "stream",
     "text": [
      "iter 99\n"
     ]
    },
    {
     "name": "stderr",
     "output_type": "stream",
     "text": [
      "/Users/tsuzuki/anaconda3/lib/python3.4/site-packages/sklearn/gaussian_process/gpr.py:427: UserWarning: fmin_l_bfgs_b terminated abnormally with the  state: {'nit': 2, 'warnflag': 2, 'task': b'ABNORMAL_TERMINATION_IN_LNSRCH', 'funcalls': 51, 'grad': array([-0.00744052])}\n",
      "  \" state: %s\" % convergence_dict)\n"
     ]
    },
    {
     "name": "stdout",
     "output_type": "stream",
     "text": [
      "iter 100\n"
     ]
    },
    {
     "name": "stderr",
     "output_type": "stream",
     "text": [
      "/Users/tsuzuki/anaconda3/lib/python3.4/site-packages/sklearn/gaussian_process/gpr.py:427: UserWarning: fmin_l_bfgs_b terminated abnormally with the  state: {'nit': 2, 'warnflag': 2, 'task': b'ABNORMAL_TERMINATION_IN_LNSRCH', 'funcalls': 51, 'grad': array([-0.00622494])}\n",
      "  \" state: %s\" % convergence_dict)\n",
      "/Users/tsuzuki/anaconda3/lib/python3.4/site-packages/sklearn/gaussian_process/gpr.py:427: UserWarning: fmin_l_bfgs_b terminated abnormally with the  state: {'nit': 3, 'warnflag': 2, 'task': b'ABNORMAL_TERMINATION_IN_LNSRCH', 'funcalls': 46, 'grad': array([ 0.02004924])}\n",
      "  \" state: %s\" % convergence_dict)\n"
     ]
    },
    {
     "name": "stdout",
     "output_type": "stream",
     "text": [
      "iter 101\n",
      "iter 102\n"
     ]
    },
    {
     "name": "stderr",
     "output_type": "stream",
     "text": [
      "/Users/tsuzuki/anaconda3/lib/python3.4/site-packages/sklearn/gaussian_process/gpr.py:427: UserWarning: fmin_l_bfgs_b terminated abnormally with the  state: {'nit': 2, 'warnflag': 2, 'task': b'ABNORMAL_TERMINATION_IN_LNSRCH', 'funcalls': 51, 'grad': array([-0.00760244])}\n",
      "  \" state: %s\" % convergence_dict)\n"
     ]
    },
    {
     "name": "stdout",
     "output_type": "stream",
     "text": [
      "iter 103\n"
     ]
    },
    {
     "name": "stderr",
     "output_type": "stream",
     "text": [
      "/Users/tsuzuki/anaconda3/lib/python3.4/site-packages/sklearn/gaussian_process/gpr.py:427: UserWarning: fmin_l_bfgs_b terminated abnormally with the  state: {'nit': 3, 'warnflag': 2, 'task': b'ABNORMAL_TERMINATION_IN_LNSRCH', 'funcalls': 53, 'grad': array([ 0.00372289])}\n",
      "  \" state: %s\" % convergence_dict)\n",
      "/Users/tsuzuki/anaconda3/lib/python3.4/site-packages/sklearn/gaussian_process/gpr.py:427: UserWarning: fmin_l_bfgs_b terminated abnormally with the  state: {'nit': 5, 'warnflag': 2, 'task': b'ABNORMAL_TERMINATION_IN_LNSRCH', 'funcalls': 49, 'grad': array([ 0.00241609])}\n",
      "  \" state: %s\" % convergence_dict)\n"
     ]
    },
    {
     "name": "stdout",
     "output_type": "stream",
     "text": [
      "iter 104\n",
      "iter 105\n"
     ]
    },
    {
     "name": "stderr",
     "output_type": "stream",
     "text": [
      "/Users/tsuzuki/anaconda3/lib/python3.4/site-packages/sklearn/gaussian_process/gpr.py:427: UserWarning: fmin_l_bfgs_b terminated abnormally with the  state: {'nit': 3, 'warnflag': 2, 'task': b'ABNORMAL_TERMINATION_IN_LNSRCH', 'funcalls': 48, 'grad': array([  5.18749512e-05])}\n",
      "  \" state: %s\" % convergence_dict)\n"
     ]
    },
    {
     "name": "stdout",
     "output_type": "stream",
     "text": [
      "iter 106\n",
      "iter 107\n"
     ]
    },
    {
     "name": "stderr",
     "output_type": "stream",
     "text": [
      "/Users/tsuzuki/anaconda3/lib/python3.4/site-packages/sklearn/gaussian_process/gpr.py:427: UserWarning: fmin_l_bfgs_b terminated abnormally with the  state: {'nit': 3, 'warnflag': 2, 'task': b'ABNORMAL_TERMINATION_IN_LNSRCH', 'funcalls': 57, 'grad': array([-0.00177705])}\n",
      "  \" state: %s\" % convergence_dict)\n"
     ]
    },
    {
     "name": "stdout",
     "output_type": "stream",
     "text": [
      "iter 108\n"
     ]
    },
    {
     "name": "stderr",
     "output_type": "stream",
     "text": [
      "/Users/tsuzuki/anaconda3/lib/python3.4/site-packages/sklearn/gaussian_process/gpr.py:427: UserWarning: fmin_l_bfgs_b terminated abnormally with the  state: {'nit': 3, 'warnflag': 2, 'task': b'ABNORMAL_TERMINATION_IN_LNSRCH', 'funcalls': 48, 'grad': array([-0.00448728])}\n",
      "  \" state: %s\" % convergence_dict)\n",
      "/Users/tsuzuki/anaconda3/lib/python3.4/site-packages/sklearn/gaussian_process/gpr.py:427: UserWarning: fmin_l_bfgs_b terminated abnormally with the  state: {'nit': 1, 'warnflag': 2, 'task': b'ABNORMAL_TERMINATION_IN_LNSRCH', 'funcalls': 29, 'grad': array([-159.71886383])}\n",
      "  \" state: %s\" % convergence_dict)\n"
     ]
    },
    {
     "name": "stdout",
     "output_type": "stream",
     "text": [
      "iter 109\n",
      "iter 110\n"
     ]
    },
    {
     "name": "stderr",
     "output_type": "stream",
     "text": [
      "/Users/tsuzuki/anaconda3/lib/python3.4/site-packages/sklearn/gaussian_process/gpr.py:427: UserWarning: fmin_l_bfgs_b terminated abnormally with the  state: {'nit': 2, 'warnflag': 2, 'task': b'ABNORMAL_TERMINATION_IN_LNSRCH', 'funcalls': 50, 'grad': array([ -2.69125667e-05])}\n",
      "  \" state: %s\" % convergence_dict)\n"
     ]
    },
    {
     "name": "stdout",
     "output_type": "stream",
     "text": [
      "iter 111\n"
     ]
    },
    {
     "name": "stderr",
     "output_type": "stream",
     "text": [
      "/Users/tsuzuki/anaconda3/lib/python3.4/site-packages/sklearn/gaussian_process/gpr.py:427: UserWarning: fmin_l_bfgs_b terminated abnormally with the  state: {'nit': 2, 'warnflag': 2, 'task': b'ABNORMAL_TERMINATION_IN_LNSRCH', 'funcalls': 50, 'grad': array([-0.00056833])}\n",
      "  \" state: %s\" % convergence_dict)\n"
     ]
    },
    {
     "name": "stdout",
     "output_type": "stream",
     "text": [
      "iter 112\n"
     ]
    },
    {
     "name": "stderr",
     "output_type": "stream",
     "text": [
      "/Users/tsuzuki/anaconda3/lib/python3.4/site-packages/sklearn/gaussian_process/gpr.py:427: UserWarning: fmin_l_bfgs_b terminated abnormally with the  state: {'nit': 3, 'warnflag': 2, 'task': b'ABNORMAL_TERMINATION_IN_LNSRCH', 'funcalls': 48, 'grad': array([-0.00583054])}\n",
      "  \" state: %s\" % convergence_dict)\n",
      "/Users/tsuzuki/anaconda3/lib/python3.4/site-packages/sklearn/gaussian_process/gpr.py:427: UserWarning: fmin_l_bfgs_b terminated abnormally with the  state: {'nit': 3, 'warnflag': 2, 'task': b'ABNORMAL_TERMINATION_IN_LNSRCH', 'funcalls': 53, 'grad': array([-0.00052509])}\n",
      "  \" state: %s\" % convergence_dict)\n"
     ]
    },
    {
     "name": "stdout",
     "output_type": "stream",
     "text": [
      "iter 113\n"
     ]
    },
    {
     "name": "stderr",
     "output_type": "stream",
     "text": [
      "/Users/tsuzuki/anaconda3/lib/python3.4/site-packages/sklearn/gaussian_process/gpr.py:427: UserWarning: fmin_l_bfgs_b terminated abnormally with the  state: {'nit': 3, 'warnflag': 2, 'task': b'ABNORMAL_TERMINATION_IN_LNSRCH', 'funcalls': 48, 'grad': array([-0.00587595])}\n",
      "  \" state: %s\" % convergence_dict)\n",
      "/Users/tsuzuki/anaconda3/lib/python3.4/site-packages/sklearn/gaussian_process/gpr.py:427: UserWarning: fmin_l_bfgs_b terminated abnormally with the  state: {'nit': 3, 'warnflag': 2, 'task': b'ABNORMAL_TERMINATION_IN_LNSRCH', 'funcalls': 57, 'grad': array([-0.00032906])}\n",
      "  \" state: %s\" % convergence_dict)\n"
     ]
    },
    {
     "name": "stdout",
     "output_type": "stream",
     "text": [
      "iter 114\n"
     ]
    },
    {
     "name": "stderr",
     "output_type": "stream",
     "text": [
      "/Users/tsuzuki/anaconda3/lib/python3.4/site-packages/sklearn/gaussian_process/gpr.py:427: UserWarning: fmin_l_bfgs_b terminated abnormally with the  state: {'nit': 2, 'warnflag': 2, 'task': b'ABNORMAL_TERMINATION_IN_LNSRCH', 'funcalls': 50, 'grad': array([-0.00563023])}\n",
      "  \" state: %s\" % convergence_dict)\n"
     ]
    },
    {
     "name": "stdout",
     "output_type": "stream",
     "text": [
      "iter 115\n"
     ]
    },
    {
     "name": "stderr",
     "output_type": "stream",
     "text": [
      "/Users/tsuzuki/anaconda3/lib/python3.4/site-packages/sklearn/gaussian_process/gpr.py:427: UserWarning: fmin_l_bfgs_b terminated abnormally with the  state: {'nit': 1, 'warnflag': 2, 'task': b'ABNORMAL_TERMINATION_IN_LNSRCH', 'funcalls': 29, 'grad': array([-265.02843052])}\n",
      "  \" state: %s\" % convergence_dict)\n",
      "/Users/tsuzuki/anaconda3/lib/python3.4/site-packages/sklearn/gaussian_process/gpr.py:427: UserWarning: fmin_l_bfgs_b terminated abnormally with the  state: {'nit': 2, 'warnflag': 2, 'task': b'ABNORMAL_TERMINATION_IN_LNSRCH', 'funcalls': 48, 'grad': array([ 0.00087532])}\n",
      "  \" state: %s\" % convergence_dict)\n",
      "/Users/tsuzuki/anaconda3/lib/python3.4/site-packages/sklearn/gaussian_process/gpr.py:427: UserWarning: fmin_l_bfgs_b terminated abnormally with the  state: {'nit': 2, 'warnflag': 2, 'task': b'ABNORMAL_TERMINATION_IN_LNSRCH', 'funcalls': 38, 'grad': array([-21.45154312])}\n",
      "  \" state: %s\" % convergence_dict)\n",
      "/Users/tsuzuki/anaconda3/lib/python3.4/site-packages/sklearn/gaussian_process/gpr.py:427: UserWarning: fmin_l_bfgs_b terminated abnormally with the  state: {'nit': 6, 'warnflag': 2, 'task': b'ABNORMAL_TERMINATION_IN_LNSRCH', 'funcalls': 50, 'grad': array([ 0.0031119])}\n",
      "  \" state: %s\" % convergence_dict)\n",
      "/Users/tsuzuki/anaconda3/lib/python3.4/site-packages/sklearn/gaussian_process/gpr.py:427: UserWarning: fmin_l_bfgs_b terminated abnormally with the  state: {'nit': 2, 'warnflag': 2, 'task': b'ABNORMAL_TERMINATION_IN_LNSRCH', 'funcalls': 50, 'grad': array([-0.08071747])}\n",
      "  \" state: %s\" % convergence_dict)\n"
     ]
    },
    {
     "name": "stdout",
     "output_type": "stream",
     "text": [
      "iter 116\n",
      "iter 117\n"
     ]
    },
    {
     "name": "stderr",
     "output_type": "stream",
     "text": [
      "/Users/tsuzuki/anaconda3/lib/python3.4/site-packages/sklearn/gaussian_process/gpr.py:427: UserWarning: fmin_l_bfgs_b terminated abnormally with the  state: {'nit': 5, 'warnflag': 2, 'task': b'ABNORMAL_TERMINATION_IN_LNSRCH', 'funcalls': 49, 'grad': array([ 0.00210149])}\n",
      "  \" state: %s\" % convergence_dict)\n"
     ]
    },
    {
     "name": "stdout",
     "output_type": "stream",
     "text": [
      "iter 118\n"
     ]
    },
    {
     "name": "stderr",
     "output_type": "stream",
     "text": [
      "/Users/tsuzuki/anaconda3/lib/python3.4/site-packages/sklearn/gaussian_process/gpr.py:427: UserWarning: fmin_l_bfgs_b terminated abnormally with the  state: {'nit': 3, 'warnflag': 2, 'task': b'ABNORMAL_TERMINATION_IN_LNSRCH', 'funcalls': 53, 'grad': array([ 0.07352829])}\n",
      "  \" state: %s\" % convergence_dict)\n",
      "/Users/tsuzuki/anaconda3/lib/python3.4/site-packages/sklearn/gaussian_process/gpr.py:427: UserWarning: fmin_l_bfgs_b terminated abnormally with the  state: {'nit': 5, 'warnflag': 2, 'task': b'ABNORMAL_TERMINATION_IN_LNSRCH', 'funcalls': 48, 'grad': array([ 0.00102891])}\n",
      "  \" state: %s\" % convergence_dict)\n"
     ]
    },
    {
     "name": "stdout",
     "output_type": "stream",
     "text": [
      "iter 119\n",
      "iter 120\n"
     ]
    },
    {
     "name": "stderr",
     "output_type": "stream",
     "text": [
      "/Users/tsuzuki/anaconda3/lib/python3.4/site-packages/sklearn/gaussian_process/gpr.py:427: UserWarning: fmin_l_bfgs_b terminated abnormally with the  state: {'nit': 3, 'warnflag': 2, 'task': b'ABNORMAL_TERMINATION_IN_LNSRCH', 'funcalls': 53, 'grad': array([ 0.01768729])}\n",
      "  \" state: %s\" % convergence_dict)\n",
      "/Users/tsuzuki/anaconda3/lib/python3.4/site-packages/sklearn/gaussian_process/gpr.py:427: UserWarning: fmin_l_bfgs_b terminated abnormally with the  state: {'nit': 4, 'warnflag': 2, 'task': b'ABNORMAL_TERMINATION_IN_LNSRCH', 'funcalls': 47, 'grad': array([-0.03183976])}\n",
      "  \" state: %s\" % convergence_dict)\n",
      "/Users/tsuzuki/anaconda3/lib/python3.4/site-packages/sklearn/gaussian_process/gpr.py:427: UserWarning: fmin_l_bfgs_b terminated abnormally with the  state: {'nit': 3, 'warnflag': 2, 'task': b'ABNORMAL_TERMINATION_IN_LNSRCH', 'funcalls': 48, 'grad': array([ 0.00146098])}\n",
      "  \" state: %s\" % convergence_dict)\n",
      "/Users/tsuzuki/anaconda3/lib/python3.4/site-packages/sklearn/gaussian_process/gpr.py:427: UserWarning: fmin_l_bfgs_b terminated abnormally with the  state: {'nit': 1, 'warnflag': 2, 'task': b'ABNORMAL_TERMINATION_IN_LNSRCH', 'funcalls': 29, 'grad': array([-139.77203302])}\n",
      "  \" state: %s\" % convergence_dict)\n",
      "/Users/tsuzuki/anaconda3/lib/python3.4/site-packages/sklearn/gaussian_process/gpr.py:427: UserWarning: fmin_l_bfgs_b terminated abnormally with the  state: {'nit': 1, 'warnflag': 2, 'task': b'ABNORMAL_TERMINATION_IN_LNSRCH', 'funcalls': 29, 'grad': array([-149.74738207])}\n",
      "  \" state: %s\" % convergence_dict)\n",
      "/Users/tsuzuki/anaconda3/lib/python3.4/site-packages/sklearn/gaussian_process/gpr.py:427: UserWarning: fmin_l_bfgs_b terminated abnormally with the  state: {'nit': 2, 'warnflag': 2, 'task': b'ABNORMAL_TERMINATION_IN_LNSRCH', 'funcalls': 48, 'grad': array([ 0.00110402])}\n",
      "  \" state: %s\" % convergence_dict)\n"
     ]
    },
    {
     "name": "stdout",
     "output_type": "stream",
     "text": [
      "iter 121\n"
     ]
    },
    {
     "name": "stderr",
     "output_type": "stream",
     "text": [
      "/Users/tsuzuki/anaconda3/lib/python3.4/site-packages/sklearn/gaussian_process/gpr.py:427: UserWarning: fmin_l_bfgs_b terminated abnormally with the  state: {'nit': 5, 'warnflag': 2, 'task': b'ABNORMAL_TERMINATION_IN_LNSRCH', 'funcalls': 49, 'grad': array([ 0.00281296])}\n",
      "  \" state: %s\" % convergence_dict)\n"
     ]
    },
    {
     "name": "stdout",
     "output_type": "stream",
     "text": [
      "iter 122\n"
     ]
    },
    {
     "name": "stderr",
     "output_type": "stream",
     "text": [
      "/Users/tsuzuki/anaconda3/lib/python3.4/site-packages/sklearn/gaussian_process/gpr.py:427: UserWarning: fmin_l_bfgs_b terminated abnormally with the  state: {'nit': 3, 'warnflag': 2, 'task': b'ABNORMAL_TERMINATION_IN_LNSRCH', 'funcalls': 55, 'grad': array([-0.04818885])}\n",
      "  \" state: %s\" % convergence_dict)\n"
     ]
    },
    {
     "name": "stdout",
     "output_type": "stream",
     "text": [
      "iter 123\n"
     ]
    },
    {
     "name": "stderr",
     "output_type": "stream",
     "text": [
      "/Users/tsuzuki/anaconda3/lib/python3.4/site-packages/sklearn/gaussian_process/gpr.py:427: UserWarning: fmin_l_bfgs_b terminated abnormally with the  state: {'nit': 4, 'warnflag': 2, 'task': b'ABNORMAL_TERMINATION_IN_LNSRCH', 'funcalls': 57, 'grad': array([-0.00139307])}\n",
      "  \" state: %s\" % convergence_dict)\n"
     ]
    },
    {
     "name": "stdout",
     "output_type": "stream",
     "text": [
      "iter 124\n"
     ]
    },
    {
     "name": "stderr",
     "output_type": "stream",
     "text": [
      "/Users/tsuzuki/anaconda3/lib/python3.4/site-packages/sklearn/gaussian_process/gpr.py:427: UserWarning: fmin_l_bfgs_b terminated abnormally with the  state: {'nit': 3, 'warnflag': 2, 'task': b'ABNORMAL_TERMINATION_IN_LNSRCH', 'funcalls': 53, 'grad': array([-0.07232196])}\n",
      "  \" state: %s\" % convergence_dict)\n",
      "/Users/tsuzuki/anaconda3/lib/python3.4/site-packages/sklearn/gaussian_process/gpr.py:427: UserWarning: fmin_l_bfgs_b terminated abnormally with the  state: {'nit': 3, 'warnflag': 2, 'task': b'ABNORMAL_TERMINATION_IN_LNSRCH', 'funcalls': 48, 'grad': array([-0.00708785])}\n",
      "  \" state: %s\" % convergence_dict)\n",
      "/Users/tsuzuki/anaconda3/lib/python3.4/site-packages/sklearn/gaussian_process/gpr.py:427: UserWarning: fmin_l_bfgs_b terminated abnormally with the  state: {'nit': 3, 'warnflag': 2, 'task': b'ABNORMAL_TERMINATION_IN_LNSRCH', 'funcalls': 51, 'grad': array([  8.81871383e-05])}\n",
      "  \" state: %s\" % convergence_dict)\n"
     ]
    },
    {
     "name": "stdout",
     "output_type": "stream",
     "text": [
      "iter 125\n"
     ]
    },
    {
     "name": "stderr",
     "output_type": "stream",
     "text": [
      "/Users/tsuzuki/anaconda3/lib/python3.4/site-packages/sklearn/gaussian_process/gpr.py:427: UserWarning: fmin_l_bfgs_b terminated abnormally with the  state: {'nit': 5, 'warnflag': 2, 'task': b'ABNORMAL_TERMINATION_IN_LNSRCH', 'funcalls': 52, 'grad': array([ 0.00182671])}\n",
      "  \" state: %s\" % convergence_dict)\n"
     ]
    },
    {
     "name": "stdout",
     "output_type": "stream",
     "text": [
      "iter 126\n"
     ]
    },
    {
     "name": "stderr",
     "output_type": "stream",
     "text": [
      "/Users/tsuzuki/anaconda3/lib/python3.4/site-packages/sklearn/gaussian_process/gpr.py:427: UserWarning: fmin_l_bfgs_b terminated abnormally with the  state: {'nit': 4, 'warnflag': 2, 'task': b'ABNORMAL_TERMINATION_IN_LNSRCH', 'funcalls': 47, 'grad': array([-0.00411729])}\n",
      "  \" state: %s\" % convergence_dict)\n",
      "/Users/tsuzuki/anaconda3/lib/python3.4/site-packages/sklearn/gaussian_process/gpr.py:427: UserWarning: fmin_l_bfgs_b terminated abnormally with the  state: {'nit': 1, 'warnflag': 2, 'task': b'ABNORMAL_TERMINATION_IN_LNSRCH', 'funcalls': 29, 'grad': array([-145.66272752])}\n",
      "  \" state: %s\" % convergence_dict)\n"
     ]
    },
    {
     "name": "stdout",
     "output_type": "stream",
     "text": [
      "iter 127\n"
     ]
    },
    {
     "name": "stderr",
     "output_type": "stream",
     "text": [
      "/Users/tsuzuki/anaconda3/lib/python3.4/site-packages/sklearn/gaussian_process/gpr.py:427: UserWarning: fmin_l_bfgs_b terminated abnormally with the  state: {'nit': 3, 'warnflag': 2, 'task': b'ABNORMAL_TERMINATION_IN_LNSRCH', 'funcalls': 48, 'grad': array([-0.00717386])}\n",
      "  \" state: %s\" % convergence_dict)\n",
      "/Users/tsuzuki/anaconda3/lib/python3.4/site-packages/sklearn/gaussian_process/gpr.py:427: UserWarning: fmin_l_bfgs_b terminated abnormally with the  state: {'nit': 4, 'warnflag': 2, 'task': b'ABNORMAL_TERMINATION_IN_LNSRCH', 'funcalls': 54, 'grad': array([ 0.08354024])}\n",
      "  \" state: %s\" % convergence_dict)\n"
     ]
    },
    {
     "name": "stdout",
     "output_type": "stream",
     "text": [
      "iter 128\n"
     ]
    },
    {
     "name": "stderr",
     "output_type": "stream",
     "text": [
      "/Users/tsuzuki/anaconda3/lib/python3.4/site-packages/sklearn/gaussian_process/gpr.py:427: UserWarning: fmin_l_bfgs_b terminated abnormally with the  state: {'nit': 1, 'warnflag': 2, 'task': b'ABNORMAL_TERMINATION_IN_LNSRCH', 'funcalls': 29, 'grad': array([-160.0684906])}\n",
      "  \" state: %s\" % convergence_dict)\n"
     ]
    },
    {
     "name": "stdout",
     "output_type": "stream",
     "text": [
      "iter 129\n"
     ]
    },
    {
     "name": "stderr",
     "output_type": "stream",
     "text": [
      "/Users/tsuzuki/anaconda3/lib/python3.4/site-packages/sklearn/gaussian_process/gpr.py:427: UserWarning: fmin_l_bfgs_b terminated abnormally with the  state: {'nit': 5, 'warnflag': 2, 'task': b'ABNORMAL_TERMINATION_IN_LNSRCH', 'funcalls': 48, 'grad': array([ 0.00126226])}\n",
      "  \" state: %s\" % convergence_dict)\n"
     ]
    },
    {
     "name": "stdout",
     "output_type": "stream",
     "text": [
      "iter 130\n"
     ]
    },
    {
     "name": "stderr",
     "output_type": "stream",
     "text": [
      "/Users/tsuzuki/anaconda3/lib/python3.4/site-packages/sklearn/gaussian_process/gpr.py:427: UserWarning: fmin_l_bfgs_b terminated abnormally with the  state: {'nit': 2, 'warnflag': 2, 'task': b'ABNORMAL_TERMINATION_IN_LNSRCH', 'funcalls': 50, 'grad': array([-0.14178779])}\n",
      "  \" state: %s\" % convergence_dict)\n"
     ]
    },
    {
     "name": "stdout",
     "output_type": "stream",
     "text": [
      "iter 131\n"
     ]
    },
    {
     "name": "stderr",
     "output_type": "stream",
     "text": [
      "/Users/tsuzuki/anaconda3/lib/python3.4/site-packages/sklearn/gaussian_process/gpr.py:427: UserWarning: fmin_l_bfgs_b terminated abnormally with the  state: {'nit': 1, 'warnflag': 2, 'task': b'ABNORMAL_TERMINATION_IN_LNSRCH', 'funcalls': 29, 'grad': array([-521.38379756])}\n",
      "  \" state: %s\" % convergence_dict)\n",
      "/Users/tsuzuki/anaconda3/lib/python3.4/site-packages/sklearn/gaussian_process/gpr.py:427: UserWarning: fmin_l_bfgs_b terminated abnormally with the  state: {'nit': 3, 'warnflag': 2, 'task': b'ABNORMAL_TERMINATION_IN_LNSRCH', 'funcalls': 48, 'grad': array([ 0.0017771])}\n",
      "  \" state: %s\" % convergence_dict)\n",
      "/Users/tsuzuki/anaconda3/lib/python3.4/site-packages/sklearn/gaussian_process/gpr.py:427: UserWarning: fmin_l_bfgs_b terminated abnormally with the  state: {'nit': 3, 'warnflag': 2, 'task': b'ABNORMAL_TERMINATION_IN_LNSRCH', 'funcalls': 48, 'grad': array([ 0.00184204])}\n",
      "  \" state: %s\" % convergence_dict)\n"
     ]
    },
    {
     "name": "stdout",
     "output_type": "stream",
     "text": [
      "iter 132\n"
     ]
    },
    {
     "name": "stderr",
     "output_type": "stream",
     "text": [
      "/Users/tsuzuki/anaconda3/lib/python3.4/site-packages/sklearn/gaussian_process/gpr.py:427: UserWarning: fmin_l_bfgs_b terminated abnormally with the  state: {'nit': 2, 'warnflag': 2, 'task': b'ABNORMAL_TERMINATION_IN_LNSRCH', 'funcalls': 50, 'grad': array([-0.07205083])}\n",
      "  \" state: %s\" % convergence_dict)\n",
      "/Users/tsuzuki/anaconda3/lib/python3.4/site-packages/sklearn/gaussian_process/gpr.py:427: UserWarning: fmin_l_bfgs_b terminated abnormally with the  state: {'nit': 3, 'warnflag': 2, 'task': b'ABNORMAL_TERMINATION_IN_LNSRCH', 'funcalls': 51, 'grad': array([ 0.00049317])}\n",
      "  \" state: %s\" % convergence_dict)\n",
      "/Users/tsuzuki/anaconda3/lib/python3.4/site-packages/sklearn/gaussian_process/gpr.py:427: UserWarning: fmin_l_bfgs_b terminated abnormally with the  state: {'nit': 1, 'warnflag': 2, 'task': b'ABNORMAL_TERMINATION_IN_LNSRCH', 'funcalls': 29, 'grad': array([-145.75226118])}\n",
      "  \" state: %s\" % convergence_dict)\n"
     ]
    },
    {
     "name": "stdout",
     "output_type": "stream",
     "text": [
      "iter 133\n",
      "iter 134\n"
     ]
    },
    {
     "name": "stderr",
     "output_type": "stream",
     "text": [
      "/Users/tsuzuki/anaconda3/lib/python3.4/site-packages/sklearn/gaussian_process/gpr.py:427: UserWarning: fmin_l_bfgs_b terminated abnormally with the  state: {'nit': 3, 'warnflag': 2, 'task': b'ABNORMAL_TERMINATION_IN_LNSRCH', 'funcalls': 48, 'grad': array([ 0.01278668])}\n",
      "  \" state: %s\" % convergence_dict)\n",
      "/Users/tsuzuki/anaconda3/lib/python3.4/site-packages/sklearn/gaussian_process/gpr.py:427: UserWarning: fmin_l_bfgs_b terminated abnormally with the  state: {'nit': 2, 'warnflag': 2, 'task': b'ABNORMAL_TERMINATION_IN_LNSRCH', 'funcalls': 48, 'grad': array([ 0.00135784])}\n",
      "  \" state: %s\" % convergence_dict)\n",
      "/Users/tsuzuki/anaconda3/lib/python3.4/site-packages/sklearn/gaussian_process/gpr.py:427: UserWarning: fmin_l_bfgs_b terminated abnormally with the  state: {'nit': 2, 'warnflag': 2, 'task': b'ABNORMAL_TERMINATION_IN_LNSRCH', 'funcalls': 53, 'grad': array([ 0.07366002])}\n",
      "  \" state: %s\" % convergence_dict)\n"
     ]
    },
    {
     "name": "stdout",
     "output_type": "stream",
     "text": [
      "iter 135\n",
      "iter 136\n"
     ]
    },
    {
     "name": "stderr",
     "output_type": "stream",
     "text": [
      "/Users/tsuzuki/anaconda3/lib/python3.4/site-packages/sklearn/gaussian_process/gpr.py:427: UserWarning: fmin_l_bfgs_b terminated abnormally with the  state: {'nit': 3, 'warnflag': 2, 'task': b'ABNORMAL_TERMINATION_IN_LNSRCH', 'funcalls': 53, 'grad': array([ 0.00040117])}\n",
      "  \" state: %s\" % convergence_dict)\n",
      "/Users/tsuzuki/anaconda3/lib/python3.4/site-packages/sklearn/gaussian_process/gpr.py:427: UserWarning: fmin_l_bfgs_b terminated abnormally with the  state: {'nit': 6, 'warnflag': 2, 'task': b'ABNORMAL_TERMINATION_IN_LNSRCH', 'funcalls': 58, 'grad': array([ 0.00065068])}\n",
      "  \" state: %s\" % convergence_dict)\n",
      "/Users/tsuzuki/anaconda3/lib/python3.4/site-packages/sklearn/gaussian_process/gpr.py:427: UserWarning: fmin_l_bfgs_b terminated abnormally with the  state: {'nit': 3, 'warnflag': 2, 'task': b'ABNORMAL_TERMINATION_IN_LNSRCH', 'funcalls': 48, 'grad': array([-0.0094611])}\n",
      "  \" state: %s\" % convergence_dict)\n"
     ]
    },
    {
     "name": "stdout",
     "output_type": "stream",
     "text": [
      "iter 137\n"
     ]
    },
    {
     "name": "stderr",
     "output_type": "stream",
     "text": [
      "/Users/tsuzuki/anaconda3/lib/python3.4/site-packages/sklearn/gaussian_process/gpr.py:427: UserWarning: fmin_l_bfgs_b terminated abnormally with the  state: {'nit': 6, 'warnflag': 2, 'task': b'ABNORMAL_TERMINATION_IN_LNSRCH', 'funcalls': 57, 'grad': array([ 0.0028799])}\n",
      "  \" state: %s\" % convergence_dict)\n",
      "/Users/tsuzuki/anaconda3/lib/python3.4/site-packages/sklearn/gaussian_process/gpr.py:427: UserWarning: fmin_l_bfgs_b terminated abnormally with the  state: {'nit': 3, 'warnflag': 2, 'task': b'ABNORMAL_TERMINATION_IN_LNSRCH', 'funcalls': 48, 'grad': array([ 0.15320384])}\n",
      "  \" state: %s\" % convergence_dict)\n"
     ]
    },
    {
     "name": "stdout",
     "output_type": "stream",
     "text": [
      "iter 138\n"
     ]
    },
    {
     "name": "stderr",
     "output_type": "stream",
     "text": [
      "/Users/tsuzuki/anaconda3/lib/python3.4/site-packages/sklearn/gaussian_process/gpr.py:427: UserWarning: fmin_l_bfgs_b terminated abnormally with the  state: {'nit': 3, 'warnflag': 2, 'task': b'ABNORMAL_TERMINATION_IN_LNSRCH', 'funcalls': 53, 'grad': array([ 0.12530273])}\n",
      "  \" state: %s\" % convergence_dict)\n",
      "/Users/tsuzuki/anaconda3/lib/python3.4/site-packages/sklearn/gaussian_process/gpr.py:427: UserWarning: fmin_l_bfgs_b terminated abnormally with the  state: {'nit': 4, 'warnflag': 2, 'task': b'ABNORMAL_TERMINATION_IN_LNSRCH', 'funcalls': 47, 'grad': array([ 0.01298319])}\n",
      "  \" state: %s\" % convergence_dict)\n"
     ]
    },
    {
     "name": "stdout",
     "output_type": "stream",
     "text": [
      "iter 139\n",
      "iter 140\n"
     ]
    },
    {
     "name": "stderr",
     "output_type": "stream",
     "text": [
      "/Users/tsuzuki/anaconda3/lib/python3.4/site-packages/sklearn/gaussian_process/gpr.py:427: UserWarning: fmin_l_bfgs_b terminated abnormally with the  state: {'nit': 1, 'warnflag': 2, 'task': b'ABNORMAL_TERMINATION_IN_LNSRCH', 'funcalls': 29, 'grad': array([-389.13410127])}\n",
      "  \" state: %s\" % convergence_dict)\n"
     ]
    },
    {
     "name": "stdout",
     "output_type": "stream",
     "text": [
      "iter 141\n"
     ]
    },
    {
     "name": "stderr",
     "output_type": "stream",
     "text": [
      "/Users/tsuzuki/anaconda3/lib/python3.4/site-packages/sklearn/gaussian_process/gpr.py:427: UserWarning: fmin_l_bfgs_b terminated abnormally with the  state: {'nit': 1, 'warnflag': 2, 'task': b'ABNORMAL_TERMINATION_IN_LNSRCH', 'funcalls': 29, 'grad': array([-141.58026374])}\n",
      "  \" state: %s\" % convergence_dict)\n",
      "/Users/tsuzuki/anaconda3/lib/python3.4/site-packages/sklearn/gaussian_process/gpr.py:427: UserWarning: fmin_l_bfgs_b terminated abnormally with the  state: {'nit': 1, 'warnflag': 2, 'task': b'ABNORMAL_TERMINATION_IN_LNSRCH', 'funcalls': 29, 'grad': array([-137.39348562])}\n",
      "  \" state: %s\" % convergence_dict)\n"
     ]
    },
    {
     "name": "stdout",
     "output_type": "stream",
     "text": [
      "iter 142\n"
     ]
    },
    {
     "name": "stderr",
     "output_type": "stream",
     "text": [
      "/Users/tsuzuki/anaconda3/lib/python3.4/site-packages/sklearn/gaussian_process/gpr.py:427: UserWarning: fmin_l_bfgs_b terminated abnormally with the  state: {'nit': 3, 'warnflag': 2, 'task': b'ABNORMAL_TERMINATION_IN_LNSRCH', 'funcalls': 52, 'grad': array([-0.00113705])}\n",
      "  \" state: %s\" % convergence_dict)\n",
      "/Users/tsuzuki/anaconda3/lib/python3.4/site-packages/sklearn/gaussian_process/gpr.py:427: UserWarning: fmin_l_bfgs_b terminated abnormally with the  state: {'nit': 5, 'warnflag': 2, 'task': b'ABNORMAL_TERMINATION_IN_LNSRCH', 'funcalls': 49, 'grad': array([ 0.00352494])}\n",
      "  \" state: %s\" % convergence_dict)\n",
      "/Users/tsuzuki/anaconda3/lib/python3.4/site-packages/sklearn/gaussian_process/gpr.py:427: UserWarning: fmin_l_bfgs_b terminated abnormally with the  state: {'nit': 4, 'warnflag': 2, 'task': b'ABNORMAL_TERMINATION_IN_LNSRCH', 'funcalls': 54, 'grad': array([ 0.10834124])}\n",
      "  \" state: %s\" % convergence_dict)\n"
     ]
    },
    {
     "name": "stdout",
     "output_type": "stream",
     "text": [
      "iter 143\n"
     ]
    },
    {
     "name": "stderr",
     "output_type": "stream",
     "text": [
      "/Users/tsuzuki/anaconda3/lib/python3.4/site-packages/sklearn/gaussian_process/gpr.py:427: UserWarning: fmin_l_bfgs_b terminated abnormally with the  state: {'nit': 3, 'warnflag': 2, 'task': b'ABNORMAL_TERMINATION_IN_LNSRCH', 'funcalls': 53, 'grad': array([ 0.11094769])}\n",
      "  \" state: %s\" % convergence_dict)\n",
      "/Users/tsuzuki/anaconda3/lib/python3.4/site-packages/sklearn/gaussian_process/gpr.py:427: UserWarning: fmin_l_bfgs_b terminated abnormally with the  state: {'nit': 6, 'warnflag': 2, 'task': b'ABNORMAL_TERMINATION_IN_LNSRCH', 'funcalls': 55, 'grad': array([ 0.00074989])}\n",
      "  \" state: %s\" % convergence_dict)\n"
     ]
    },
    {
     "name": "stdout",
     "output_type": "stream",
     "text": [
      "iter 144\n"
     ]
    },
    {
     "name": "stderr",
     "output_type": "stream",
     "text": [
      "/Users/tsuzuki/anaconda3/lib/python3.4/site-packages/sklearn/gaussian_process/gpr.py:427: UserWarning: fmin_l_bfgs_b terminated abnormally with the  state: {'nit': 1, 'warnflag': 2, 'task': b'ABNORMAL_TERMINATION_IN_LNSRCH', 'funcalls': 29, 'grad': array([-141.30093695])}\n",
      "  \" state: %s\" % convergence_dict)\n",
      "/Users/tsuzuki/anaconda3/lib/python3.4/site-packages/sklearn/gaussian_process/gpr.py:427: UserWarning: fmin_l_bfgs_b terminated abnormally with the  state: {'nit': 3, 'warnflag': 2, 'task': b'ABNORMAL_TERMINATION_IN_LNSRCH', 'funcalls': 48, 'grad': array([ 0.03520216])}\n",
      "  \" state: %s\" % convergence_dict)\n",
      "/Users/tsuzuki/anaconda3/lib/python3.4/site-packages/sklearn/gaussian_process/gpr.py:427: UserWarning: fmin_l_bfgs_b terminated abnormally with the  state: {'nit': 1, 'warnflag': 2, 'task': b'ABNORMAL_TERMINATION_IN_LNSRCH', 'funcalls': 29, 'grad': array([-420.70581199])}\n",
      "  \" state: %s\" % convergence_dict)\n"
     ]
    },
    {
     "name": "stdout",
     "output_type": "stream",
     "text": [
      "iter 145\n"
     ]
    },
    {
     "name": "stderr",
     "output_type": "stream",
     "text": [
      "/Users/tsuzuki/anaconda3/lib/python3.4/site-packages/sklearn/gaussian_process/gpr.py:427: UserWarning: fmin_l_bfgs_b terminated abnormally with the  state: {'nit': 3, 'warnflag': 2, 'task': b'ABNORMAL_TERMINATION_IN_LNSRCH', 'funcalls': 49, 'grad': array([-0.00894652])}\n",
      "  \" state: %s\" % convergence_dict)\n",
      "/Users/tsuzuki/anaconda3/lib/python3.4/site-packages/sklearn/gaussian_process/gpr.py:427: UserWarning: fmin_l_bfgs_b terminated abnormally with the  state: {'nit': 3, 'warnflag': 2, 'task': b'ABNORMAL_TERMINATION_IN_LNSRCH', 'funcalls': 46, 'grad': array([ 0.11848017])}\n",
      "  \" state: %s\" % convergence_dict)\n"
     ]
    },
    {
     "name": "stdout",
     "output_type": "stream",
     "text": [
      "iter 146\n"
     ]
    },
    {
     "name": "stderr",
     "output_type": "stream",
     "text": [
      "/Users/tsuzuki/anaconda3/lib/python3.4/site-packages/sklearn/gaussian_process/gpr.py:427: UserWarning: fmin_l_bfgs_b terminated abnormally with the  state: {'nit': 3, 'warnflag': 2, 'task': b'ABNORMAL_TERMINATION_IN_LNSRCH', 'funcalls': 51, 'grad': array([-0.00032948])}\n",
      "  \" state: %s\" % convergence_dict)\n",
      "/Users/tsuzuki/anaconda3/lib/python3.4/site-packages/sklearn/gaussian_process/gpr.py:427: UserWarning: fmin_l_bfgs_b terminated abnormally with the  state: {'nit': 4, 'warnflag': 2, 'task': b'ABNORMAL_TERMINATION_IN_LNSRCH', 'funcalls': 51, 'grad': array([ 0.00147656])}\n",
      "  \" state: %s\" % convergence_dict)\n"
     ]
    },
    {
     "name": "stdout",
     "output_type": "stream",
     "text": [
      "iter 147\n"
     ]
    },
    {
     "name": "stderr",
     "output_type": "stream",
     "text": [
      "/Users/tsuzuki/anaconda3/lib/python3.4/site-packages/sklearn/gaussian_process/gpr.py:427: UserWarning: fmin_l_bfgs_b terminated abnormally with the  state: {'nit': 3, 'warnflag': 2, 'task': b'ABNORMAL_TERMINATION_IN_LNSRCH', 'funcalls': 58, 'grad': array([-0.00300859])}\n",
      "  \" state: %s\" % convergence_dict)\n",
      "/Users/tsuzuki/anaconda3/lib/python3.4/site-packages/sklearn/gaussian_process/gpr.py:427: UserWarning: fmin_l_bfgs_b terminated abnormally with the  state: {'nit': 1, 'warnflag': 2, 'task': b'ABNORMAL_TERMINATION_IN_LNSRCH', 'funcalls': 29, 'grad': array([-346.02553766])}\n",
      "  \" state: %s\" % convergence_dict)\n"
     ]
    },
    {
     "name": "stdout",
     "output_type": "stream",
     "text": [
      "iter 148\n"
     ]
    },
    {
     "name": "stderr",
     "output_type": "stream",
     "text": [
      "/Users/tsuzuki/anaconda3/lib/python3.4/site-packages/sklearn/gaussian_process/gpr.py:427: UserWarning: fmin_l_bfgs_b terminated abnormally with the  state: {'nit': 3, 'warnflag': 2, 'task': b'ABNORMAL_TERMINATION_IN_LNSRCH', 'funcalls': 52, 'grad': array([-0.11567675])}\n",
      "  \" state: %s\" % convergence_dict)\n",
      "/Users/tsuzuki/anaconda3/lib/python3.4/site-packages/sklearn/gaussian_process/gpr.py:427: UserWarning: fmin_l_bfgs_b terminated abnormally with the  state: {'nit': 4, 'warnflag': 2, 'task': b'ABNORMAL_TERMINATION_IN_LNSRCH', 'funcalls': 47, 'grad': array([ 0.00252237])}\n",
      "  \" state: %s\" % convergence_dict)\n"
     ]
    },
    {
     "name": "stdout",
     "output_type": "stream",
     "text": [
      "iter 149\n"
     ]
    }
   ],
   "source": [
    "n_sample=3\n",
    "n_iter = 150\n",
    "ran=2\n",
    "\n",
    "# results\n",
    "#results = {}\n",
    "for k in range(4,6):\n",
    "    results[k]=np.array([])\n",
    "\n",
    "for i in range(n_sample):\n",
    "    print (\"sample\",i) \n",
    "    #Init funcs\n",
    "    \"\"\"\"\"\n",
    "    bo1 = BayesianOptimization(lambda x1: -(x1**2),\n",
    "                               {'x1': (-ran, ran)})\n",
    "    bo5 = BayesianOptimization(lambda x1,x2,x3,x4, x5: -(x1**2+x2**2+x3**2+x4**2+x5**2), \n",
    "                               {'x1': (-1*ran, ran),'x2': (-1*ran, ran),'x3': (-1*ran, ran),'x4': (-1*ran, ran),'x5': (-1*ran, ran)})\n",
    "    bo10 = BayesianOptimization(lambda x1,x2,x3,x4, x5, x6,x7,x8,x9, x10: \\\n",
    "                               -(x1**2+x2**2+x3**2+x4**2+x5**2+x6**2+x7**2+x8**2+x9**2+x10**2), \n",
    "                               {'x1': (-1*ran, ran),'x2': (-1*ran, ran),'x3': (-1*ran, ran),'x4': (-1*ran, ran),'x5': (-1*ran, ran),\n",
    "                                'x6': (-1*ran, ran),'x7': (-1*ran, ran),'x8': (-1*ran, ran),'x9': (-1*ran, ran),'x10': (-1*ran, ran)})\n",
    "    \"\"\"\"\"\n",
    "    bo15 = BayesianOptimization(lambda x1,x2,x3,x4, x5, x6,x7,x8,x9, x10\\\n",
    "                                                                   ,x11,x12,x13,x14, x15: \\\n",
    "                               -(x1**2+x2**2+x3**2+x4**2+x5**2+x6**2+x7**2+x8**2+x9**2+x10**2\n",
    "                                +x11**2+x12**2+x13**2+x14**2+x15**2), \n",
    "                               {'x1': (-1*ran, ran),'x2': (-1*ran, ran),'x3': (-1*ran, ran),'x4': (-1*ran, ran),'x5': (-1*ran, ran),\n",
    "                                'x6': (-1*ran, ran),'x7': (-1*ran, ran),'x8': (-1*ran, ran),'x9': (-1*ran, ran),'x10': (-1*ran, ran),\n",
    "                               'x11': (-1*ran, ran),'x12': (-1*ran, ran),'x13': (-1*ran, ran),'x14': (-1*ran, ran),'x15': (-1*ran, ran)})\n",
    "    bo20 = BayesianOptimization(lambda x1,x2,x3,x4, x5, x6,x7,x8,x9, x10\\\n",
    "                                                                   ,x11,x12,x13,x14, x15, x16,x17,x18,x19, x20: \\\n",
    "                               -(x1**2+x2**2+x3**2+x4**2+x5**2+x6**2+x7**2+x8**2+x9**2+x10**2\n",
    "                                +x11**2+x12**2+x13**2+x14**2+x15**2+x16**2+x17**2+x18**2+x19**2+x20**2), \n",
    "                               {'x1': (-1*ran, ran),'x2': (-1*ran, ran),'x3': (-1*ran, ran),'x4': (-1*ran, ran),'x5': (-1*ran, ran),\n",
    "                                'x6': (-1*ran, ran),'x7': (-1*ran, ran),'x8': (-1*ran, ran),'x9': (-1*ran, ran),'x10': (-1*ran, ran),\n",
    "                               'x11': (-1*ran, ran),'x12': (-1*ran, ran),'x13': (-1*ran, ran),'x14': (-1*ran, ran),'x15': (-1*ran, ran),\n",
    "                                'x16': (-1*ran, ran),'x17': (-1*ran, ran),'x18': (-1*ran, ran),'x19': (-1*ran, ran),'x20': (-1*ran, ran)})\n",
    "    \n",
    "    \"\"\"\"\"\n",
    "    bo1.maximize(init_points=1, n_iter=1, acq='mi', kappa=1)\n",
    "    bo5.maximize(init_points=1, n_iter=1, acq='mi', kappa=1)\n",
    "    bo10.maximize(init_points=1, n_iter=1, acq='mi', kappa=1)\n",
    "    \"\"\"\"\"\n",
    "    \n",
    "    bo15.maximize(init_points=1, n_iter=1, acq='mi', kappa=1)\n",
    "    bo20.maximize(init_points=1, n_iter=1, acq='mi', kappa=1)\n",
    "    \n",
    "    for j in range(n_iter):\n",
    "        print (\"iter\", j) \n",
    "        # calc next experiment\n",
    "        \"\"\"\"\"\n",
    "        if (np.max(bo1.res[\"all\"][\"values\"])) < -1:\n",
    "            bo1.maximize(init_points=1, n_iter=1, acq='mi', kappa=1)\n",
    "            results[1] = np.append(results[1],[np.max(bo1.res[\"all\"][\"values\"])])\n",
    "        else:\n",
    "            results[1] = np.append(results[1],[0])\n",
    "            \n",
    "        if (np.max(bo5.res[\"all\"][\"values\"]))< -1:\n",
    "            bo5.maximize(init_points=1, n_iter=1, acq='mi', kappa=1)\n",
    "            results[2] = np.append(results[2],[np.max(bo5.res[\"all\"][\"values\"])])\n",
    "        else:\n",
    "            results[2] = np.append(results[2],[0])\n",
    "            \n",
    "        if (np.max(bo10.res[\"all\"][\"values\"]))< -1:\n",
    "            bo10.maximize(init_points=1, n_iter=1, acq='mi', kappa=1)\n",
    "            results[3] = np.append(results[3],[np.max(bo10.res[\"all\"][\"values\"])])\n",
    "        else:\n",
    "            results[3] = np.append(results[3],[0])\n",
    "        \"\"\"\"\"\n",
    "            \n",
    "        if (np.max(bo15.res[\"all\"][\"values\"]))< -1:\n",
    "            bo15.maximize(init_points=1, n_iter=1, acq='mi', kappa=1)\n",
    "            results[4] = np.append(results[4],[np.max(bo15.res[\"all\"][\"values\"])])\n",
    "        else:\n",
    "            results[4] = np.append(results[4],[0])\n",
    "        \n",
    "        if (np.max(bo20.res[\"all\"][\"values\"]))< -1:\n",
    "            bo20.maximize(init_points=1, n_iter=1, acq='mi', kappa=1)\n",
    "            results[5] = np.append(results[5],[np.max(bo20.res[\"all\"][\"values\"])])\n",
    "        else:\n",
    "            results[5] = np.append(results[5],[0])\n",
    "\n",
    "\"\"\"\"\"        \n",
    "results[1]=results[1].reshape((n_sample, n_iter))\n",
    "results[2]=results[2].reshape((n_sample, n_iter))\n",
    "results[3]=results[3].reshape((n_sample, n_iter))\n",
    "\"\"\"\"\"\n",
    "results[4]=results[4].reshape((n_sample, n_iter))\n",
    "results[5]=results[5].reshape((n_sample, n_iter))"
   ]
  },
  {
   "cell_type": "markdown",
   "metadata": {},
   "source": [
    "#### Plot results"
   ]
  },
  {
   "cell_type": "code",
   "execution_count": 37,
   "metadata": {
    "collapsed": false
   },
   "outputs": [
    {
     "name": "stderr",
     "output_type": "stream",
     "text": [
      "/Users/tsuzuki/anaconda3/lib/python3.4/site-packages/matplotlib/figure.py:387: UserWarning: matplotlib is currently using a non-GUI backend, so cannot show the figure\n",
      "  \"matplotlib is currently using a non-GUI backend, \"\n"
     ]
    },
    {
     "data": {
      "image/png": "[encoded data removed]",
      "text/plain": [
       "<matplotlib.figure.Figure at 0x1042b6518>"
      ]
     },
     "metadata": {},
     "output_type": "display_data"
    }
   ],
   "source": [
    "fig = plt.figure()\n",
    "ax = fig.add_subplot(1,1,1)\n",
    "\n",
    "ax.plot(-np.mean(results[1],axis=0), c=\"red\", marker=\"^\", label=\"dim1\")\n",
    "ax.plot(-np.mean(results[2],axis=0), c=\"blue\", marker=\"^\", label=\"dim5\")\n",
    "ax.plot(-np.mean(results[3],axis=0), c=\"yellow\", marker=\"^\", label=\"dim10\")\n",
    "ax.plot(-np.mean(results[4],axis=0), c=\"black\", marker=\"^\", label=\"dim15\")\n",
    "ax.plot(-np.mean(results[5],axis=0), c=\"green\", marker=\"^\", label=\"dim20\")\n",
    "\n",
    "ax.set_ylim(0,40)\n",
    "\n",
    "ax.set_xlabel(\"query\", size=12)\n",
    "ax.set_ylabel(\"value(max)\", size=12)\n",
    "\n",
    "ax.grid(True)\n",
    "ax.legend(loc='upper right')\n",
    "\n",
    "fig.show()"
   ]
  },
  {
   "cell_type": "code",
   "execution_count": 59,
   "metadata": {
    "collapsed": false
   },
   "outputs": [
    {
     "name": "stderr",
     "output_type": "stream",
     "text": [
      "/Users/tsuzuki/anaconda3/lib/python3.4/site-packages/ipykernel/__main__.py:4: RuntimeWarning: divide by zero encountered in log10\n",
      "/Users/tsuzuki/anaconda3/lib/python3.4/site-packages/ipykernel/__main__.py:7: RuntimeWarning: divide by zero encountered in log10\n",
      "/Users/tsuzuki/anaconda3/lib/python3.4/site-packages/matplotlib/figure.py:387: UserWarning: matplotlib is currently using a non-GUI backend, so cannot show the figure\n",
      "  \"matplotlib is currently using a non-GUI backend, \"\n"
     ]
    },
    {
     "data": {
      "image/png": "[encoded data removed]",
      "text/plain": [
       "<matplotlib.figure.Figure at 0x1042679e8>"
      ]
     },
     "metadata": {},
     "output_type": "display_data"
    }
   ],
   "source": [
    "fig = plt.figure()\n",
    "ax = fig.add_subplot(1,1,1)\n",
    "\n",
    "ax.plot(np.log10(-np.mean(results[1],axis=0)/np.max(-np.mean(results[1],axis=0))), c=\"red\", marker=\"^\", label=\"dim1\")\n",
    "ax.plot(np.log10(-np.mean(results[2],axis=0)/np.max(-np.mean(results[2],axis=0))), c=\"blue\", marker=\"^\", label=\"dim5\")\n",
    "ax.plot(np.log10(-np.mean(results[3],axis=0)/np.max(-np.mean(results[3],axis=0))), c=\"yellow\", marker=\"^\", label=\"dim10\")\n",
    "ax.plot(np.log10(-np.mean(results[4],axis=0)/np.max(-np.mean(results[4],axis=0))), c=\"black\", marker=\"^\", label=\"dim15\")\n",
    "ax.plot(np.log10(-np.mean(results[5],axis=0)/np.max(-np.mean(results[5],axis=0))), c=\"green\", marker=\"^\", label=\"dim20\")\n",
    "\n",
    "#ax.set_ylim(0,1)\n",
    "\n",
    "ax.set_xlabel(\"query\", size=12)\n",
    "ax.set_ylabel(\"log-value\", size=12)\n",
    "\n",
    "ax.grid(True)\n",
    "ax.legend(loc='upper right')\n",
    "\n",
    "fig.show()"
   ]
  },
  {
   "cell_type": "markdown",
   "metadata": {},
   "source": [
    "### 初期loss に対して,10倍改善を要するのに必要なquery 数"
   ]
  },
  {
   "cell_type": "code",
   "execution_count": 58,
   "metadata": {
    "collapsed": false,
    "scrolled": true
   },
   "outputs": [
    {
     "data": {
      "text/plain": [
       "<matplotlib.collections.PathCollection at 0x1042d0860>"
      ]
     },
     "execution_count": 58,
     "metadata": {},
     "output_type": "execute_result"
    },
    {
     "data": {
      "image/png": "[encoded data removed]",
      "text/plain": [
       "<matplotlib.figure.Figure at 0x109228128>"
      ]
     },
     "metadata": {},
     "output_type": "display_data"
    }
   ],
   "source": [
    "plt.scatter(np.array([1,5,10,15,20]),np.array([4,18,40,58,102]))"
   ]
  },
  {
   "cell_type": "code",
   "execution_count": 32,
   "metadata": {
    "collapsed": false
   },
   "outputs": [],
   "source": [
    "import pickle\n",
    "\n",
    "with open('result.pickle', 'wb') as handle:\n",
    "    pickle.dump(results, handle, protocol=pickle.HIGHEST_PROTOCOL)\n",
    "\n",
    "with open('result.pickle', 'rb') as handle:\n",
    "    b = pickle.load(handle)\n"
   ]
  },
  {
   "cell_type": "markdown",
   "metadata": {},
   "source": [
    "### non-convex "
   ]
  },
  {
   "cell_type": "code",
   "execution_count": 42,
   "metadata": {
    "code_folding": [],
    "collapsed": true
   },
   "outputs": [
    {
     "name": "stdout",
     "output_type": "stream",
     "text": [
      "0\n",
      "\u001b[31mInitialization\u001b[0m\n",
      "\u001b[94m-----------------------------------------\u001b[0m\n",
      " Step |   Time |      Value |        x1 | \n",
      "    1 | 00m00s | \u001b[35m  -0.96693\u001b[0m | \u001b[32m   0.4457\u001b[0m | \n",
      "\u001b[31mBayesian Optimization\u001b[0m\n",
      "\u001b[94m-----------------------------------------\u001b[0m\n",
      " Step |   Time |      Value |        x1 | \n",
      "    2 | 00m01s |   -5.20316 |   -2.2557 | \n",
      "\u001b[31mInitialization\u001b[0m\n",
      "\u001b[94m-----------------------------------------------------\u001b[0m\n",
      " Step |   Time |      Value |        x1 |        x2 | \n",
      "    1 | 00m00s | \u001b[35m  -6.42565\u001b[0m | \u001b[32m   0.4384\u001b[0m | \u001b[32m   2.3019\u001b[0m | \n",
      "\u001b[31mBayesian Optimization\u001b[0m\n",
      "\u001b[94m-----------------------------------------------------\u001b[0m\n",
      " Step |   Time |      Value |        x1 |        x2 | \n",
      "    2 | 00m01s |  -11.16906 |    3.0026 |    0.2113 | \n",
      "\u001b[31mInitialization\u001b[0m\n",
      "\u001b[94m-----------------------------------------------------------------\u001b[0m\n",
      " Step |   Time |      Value |        x1 |        x2 |        x3 | \n",
      "    1 | 00m00s | \u001b[35m -20.81600\u001b[0m | \u001b[32m   0.7329\u001b[0m | \u001b[32m  -3.8207\u001b[0m | \u001b[32m   1.7419\u001b[0m | \n",
      "\u001b[31mBayesian Optimization\u001b[0m\n",
      "\u001b[94m-----------------------------------------------------------------\u001b[0m\n",
      " Step |   Time |      Value |        x1 |        x2 |        x3 | \n",
      "    2 | 00m06s | \u001b[35m -19.61498\u001b[0m | \u001b[32m   3.7052\u001b[0m | \u001b[32m  -0.4124\u001b[0m | \u001b[32m   2.0368\u001b[0m | \n",
      "\u001b[31mInitialization\u001b[0m\n",
      "\u001b[94m-----------------------------------------------------------------------------\u001b[0m\n",
      " Step |   Time |      Value |        x1 |        x2 |        x3 |        x4 | \n",
      "    1 | 00m00s | \u001b[35m -46.14788\u001b[0m | \u001b[32m  -3.8887\u001b[0m | \u001b[32m   2.5835\u001b[0m | \u001b[32m  -3.5418\u001b[0m | \u001b[32m   2.7769\u001b[0m | \n",
      "\u001b[31mBayesian Optimization\u001b[0m\n",
      "\u001b[94m-----------------------------------------------------------------------------\u001b[0m\n",
      " Step |   Time |      Value |        x1 |        x2 |        x3 |        x4 | \n",
      "    2 | 00m05s | \u001b[35m -21.48796\u001b[0m | \u001b[32m  -0.5366\u001b[0m | \u001b[32m   1.1444\u001b[0m | \u001b[32m  -3.4040\u001b[0m | \u001b[32m  -1.7959\u001b[0m | \n",
      "\u001b[31mInitialization\u001b[0m\n",
      "\u001b[94m-----------------------------------------------------------------------------------------\u001b[0m\n",
      " Step |   Time |      Value |        x1 |        x2 |        x3 |        x4 |        x5 | \n",
      "    1 | 00m00s | \u001b[35m -43.99918\u001b[0m | \u001b[32m  -3.9144\u001b[0m | \u001b[32m  -2.0727\u001b[0m | \u001b[32m   1.9932\u001b[0m | \u001b[32m  -2.4050\u001b[0m | \u001b[32m   3.5293\u001b[0m | \n",
      "\u001b[31mBayesian Optimization\u001b[0m\n",
      "\u001b[94m-----------------------------------------------------------------------------------------\u001b[0m\n",
      " Step |   Time |      Value |        x1 |        x2 |        x3 |        x4 |        x5 | \n",
      "    2 | 00m07s | \u001b[35m -29.28021\u001b[0m | \u001b[32m  -2.2568\u001b[0m | \u001b[32m  -0.1546\u001b[0m | \u001b[32m  -2.7995\u001b[0m | \u001b[32m  -3.2328\u001b[0m | \u001b[32m   0.7454\u001b[0m | \n",
      "\u001b[31mBayesian Optimization\u001b[0m\n",
      "\u001b[94m-----------------------------------------\u001b[0m\n",
      " Step |   Time |      Value |        x1 | \n",
      "    3 | 00m02s |  -12.20232 |    3.1962 | \n",
      "\u001b[31mBayesian Optimization\u001b[0m\n",
      "\u001b[94m-----------------------------------------------------\u001b[0m\n",
      " Step |   Time |      Value |        x1 |        x2 | \n",
      "    3 | 00m04s |  -32.31229 |   -4.0000 |   -4.0000 | \n",
      "\u001b[31mBayesian Optimization\u001b[0m\n",
      "\u001b[94m-----------------------------------------------------------------\u001b[0m\n",
      " Step |   Time |      Value |        x1 |        x2 |        x3 | \n",
      "    3 | 00m03s |  -30.38912 |   -1.8860 |    3.2886 |   -3.5460 | \n",
      "\u001b[31mBayesian Optimization\u001b[0m\n",
      "\u001b[94m-----------------------------------------------------------------------------\u001b[0m\n",
      " Step |   Time |      Value |        x1 |        x2 |        x3 |        x4 | \n",
      "    3 | 00m03s |  -38.96550 |    3.6594 |    1.7587 |    3.9621 |    2.2341 | \n",
      "\u001b[31mBayesian Optimization\u001b[0m\n",
      "\u001b[94m-----------------------------------------------------------------------------------------\u001b[0m\n",
      " Step |   Time |      Value |        x1 |        x2 |        x3 |        x4 |        x5 | \n",
      "    3 | 00m04s |  -60.41188 |    3.7074 |   -1.6219 |   -3.2026 |    3.9733 |   -3.5842 | \n",
      "\u001b[31mBayesian Optimization\u001b[0m\n",
      "\u001b[94m-----------------------------------------\u001b[0m\n",
      " Step |   Time |      Value |        x1 | \n",
      "    4 | 00m02s |   -2.77991 |   -0.9218 | \n",
      "\u001b[31mBayesian Optimization\u001b[0m\n",
      "\u001b[94m-----------------------------------------------------\u001b[0m\n",
      " Step |   Time |      Value |        x1 |        x2 | \n",
      "    4 | 00m05s |  -17.46554 |    0.5323 |    4.0000 | \n",
      "\u001b[31mBayesian Optimization\u001b[0m\n",
      "\u001b[94m-----------------------------------------------------------------\u001b[0m\n",
      " Step |   Time |      Value |        x1 |        x2 |        x3 | \n",
      "    4 | 00m04s |  -45.30266 |    4.0000 |   -3.8472 |    3.5322 | \n",
      "\u001b[31mBayesian Optimization\u001b[0m\n",
      "\u001b[94m-----------------------------------------------------------------------------\u001b[0m\n",
      " Step |   Time |      Value |        x1 |        x2 |        x3 |        x4 | \n",
      "    4 | 00m05s |  -64.62458 |   -4.0000 |   -4.0000 |   -4.0000 |   -4.0000 | \n",
      "\u001b[31mBayesian Optimization\u001b[0m\n",
      "\u001b[94m-----------------------------------------------------------------------------------------\u001b[0m\n",
      " Step |   Time |      Value |        x1 |        x2 |        x3 |        x4 |        x5 | \n",
      "    4 | 00m02s |  -59.45570 |   -2.9246 |    3.8149 |   -1.6635 |   -3.7404 |    3.9295 | \n",
      "\u001b[31mBayesian Optimization\u001b[0m\n",
      "\u001b[94m-----------------------------------------\u001b[0m\n",
      " Step |   Time |      Value |        x1 | \n",
      "    5 | 00m01s |   -3.31968 |    1.1847 | \n",
      "\u001b[31mBayesian Optimization\u001b[0m\n",
      "\u001b[94m-----------------------------------------------------\u001b[0m\n",
      " Step |   Time |      Value |        x1 |        x2 | \n",
      "    5 | 00m04s |  -26.61296 |   -3.2794 |    3.5503 | \n",
      "\u001b[31mBayesian Optimization\u001b[0m\n",
      "\u001b[94m-----------------------------------------------------------------\u001b[0m\n",
      " Step |   Time |      Value |        x1 |        x2 |        x3 | \n",
      "    5 | 00m04s |  -48.46844 |   -4.0000 |   -4.0000 |   -4.0000 | \n",
      "\u001b[31mBayesian Optimization\u001b[0m\n",
      "\u001b[94m-----------------------------------------------------------------------------\u001b[0m\n",
      " Step |   Time |      Value |        x1 |        x2 |        x3 |        x4 | \n",
      "    5 | 00m08s |  -23.95935 |    1.2371 |    2.9219 |   -1.8645 |   -2.4546 | \n",
      "\u001b[31mBayesian Optimization\u001b[0m\n",
      "\u001b[94m-----------------------------------------------------------------------------------------\u001b[0m\n",
      " Step |   Time |      Value |        x1 |        x2 |        x3 |        x4 |        x5 | \n",
      "    5 | 00m08s |  -80.78073 |   -4.0000 |   -4.0000 |   -4.0000 |   -4.0000 |   -4.0000 | \n",
      "\u001b[31mBayesian Optimization\u001b[0m\n",
      "\u001b[94m-----------------------------------------\u001b[0m\n",
      " Step |   Time |      Value |        x1 | \n",
      "    6 | 00m01s | \u001b[35m  -0.24304\u001b[0m | \u001b[32m   0.2132\u001b[0m | \n",
      "\u001b[31mBayesian Optimization\u001b[0m\n",
      "\u001b[94m-----------------------------------------------------\u001b[0m\n",
      " Step |   Time |      Value |        x1 |        x2 | \n",
      "    6 | 00m04s |  -29.20181 |    3.5620 |   -3.8330 | \n",
      "\u001b[31mBayesian Optimization\u001b[0m\n",
      "\u001b[94m-----------------------------------------------------------------\u001b[0m\n",
      " Step |   Time |      Value |        x1 |        x2 |        x3 | \n",
      "    6 | 00m05s |  -29.64288 |   -2.1484 |    2.7489 |    3.9871 | \n",
      "\u001b[31mBayesian Optimization\u001b[0m\n",
      "\u001b[94m-----------------------------------------------------------------------------\u001b[0m\n",
      " Step |   Time |      Value |        x1 |        x2 |        x3 |        x4 | \n",
      "    6 | 00m06s |  -31.02971 |    2.7986 |    1.3917 |   -3.7595 |   -1.2443 | \n",
      "\u001b[31mBayesian Optimization\u001b[0m\n",
      "\u001b[94m-----------------------------------------------------------------------------------------\u001b[0m\n",
      " Step |   Time |      Value |        x1 |        x2 |        x3 |        x4 |        x5 | \n",
      "    6 | 00m10s |  -51.90102 |    3.5330 |   -3.5475 |    3.1468 |    0.2650 |    3.1354 | \n",
      "\u001b[31mBayesian Optimization\u001b[0m\n",
      "\u001b[94m-----------------------------------------\u001b[0m\n",
      " Step |   Time |      Value |        x1 | \n",
      "    7 | 00m02s | \u001b[35m  -0.01976\u001b[0m | \u001b[32m   0.0600\u001b[0m | \n",
      "\u001b[31mBayesian Optimization\u001b[0m\n",
      "\u001b[94m-----------------------------------------------------\u001b[0m\n",
      " Step |   Time |      Value |        x1 |        x2 | \n",
      "    7 | 00m04s | \u001b[35m  -6.29558\u001b[0m | \u001b[32m   0.9281\u001b[0m | \u001b[32m   1.6734\u001b[0m | \n",
      "\u001b[31mBayesian Optimization\u001b[0m\n",
      "\u001b[94m-----------------------------------------------------------------\u001b[0m\n",
      " Step |   Time |      Value |        x1 |        x2 |        x3 | \n",
      "    7 | 00m05s |  -39.14508 |    3.9805 |    2.8781 |   -3.3686 | \n",
      "\u001b[31mBayesian Optimization\u001b[0m\n",
      "\u001b[94m-----------------------------------------------------------------------------\u001b[0m\n",
      " Step |   Time |      Value |        x1 |        x2 |        x3 |        x4 | \n",
      "    7 | 00m07s |  -38.71108 |   -0.0227 |    3.1371 |   -3.4144 |   -3.4548 | \n",
      "\u001b[31mBayesian Optimization\u001b[0m\n",
      "\u001b[94m-----------------------------------------------------------------------------------------\u001b[0m\n",
      " Step |   Time |      Value |        x1 |        x2 |        x3 |        x4 |        x5 | \n",
      "    7 | 00m08s |  -56.49882 |    3.2071 |    3.6800 |    3.6461 |   -3.0270 |   -2.0678 | \n",
      "\u001b[31mBayesian Optimization\u001b[0m\n",
      "\u001b[94m-----------------------------------------\u001b[0m\n",
      " Step |   Time |      Value |        x1 | \n",
      "    8 | 00m01s | \u001b[35m  -0.00286\u001b[0m | \u001b[32m   0.0228\u001b[0m | \n",
      "\u001b[31mBayesian Optimization\u001b[0m\n",
      "\u001b[94m-----------------------------------------------------\u001b[0m\n",
      " Step |   Time |      Value |        x1 |        x2 | \n",
      "    8 | 00m03s | \u001b[35m  -5.33866\u001b[0m | \u001b[32m   0.5663\u001b[0m | \u001b[32m   1.9482\u001b[0m | \n",
      "\u001b[31mBayesian Optimization\u001b[0m\n",
      "\u001b[94m-----------------------------------------------------------------\u001b[0m\n",
      " Step |   Time |      Value |        x1 |        x2 |        x3 | \n",
      "    8 | 00m05s |  -38.37515 |    3.7359 |    3.3091 |    2.9851 | \n",
      "\u001b[31mBayesian Optimization\u001b[0m\n",
      "\u001b[94m-----------------------------------------------------------------------------\u001b[0m\n",
      " Step |   Time |      Value |        x1 |        x2 |        x3 |        x4 | \n",
      "    8 | 00m07s |  -39.67958 |   -2.9526 |   -3.0934 |    2.6793 |    2.7804 | \n",
      "\u001b[31mBayesian Optimization\u001b[0m\n",
      "\u001b[94m-----------------------------------------------------------------------------------------\u001b[0m\n",
      " Step |   Time |      Value |        x1 |        x2 |        x3 |        x4 |        x5 | \n",
      "    8 | 00m09s |  -34.57485 |   -0.5840 |   -0.8294 |   -3.5830 |   -3.6463 |    0.7361 | \n",
      "\u001b[31mBayesian Optimization\u001b[0m\n",
      "\u001b[94m-----------------------------------------\u001b[0m\n",
      " Step |   Time |      Value |        x1 | \n",
      "    9 | 00m01s | \u001b[35m  -0.00021\u001b[0m | \u001b[32m   0.0061\u001b[0m | \n",
      "\u001b[31mBayesian Optimization\u001b[0m\n",
      "\u001b[94m-----------------------------------------------------\u001b[0m\n",
      " Step |   Time |      Value |        x1 |        x2 | \n",
      "    9 | 00m04s | \u001b[35m  -3.95806\u001b[0m | \u001b[32m   0.2475\u001b[0m | \u001b[32m   1.8207\u001b[0m | \n",
      "\u001b[31mBayesian Optimization\u001b[0m\n",
      "\u001b[94m-----------------------------------------------------------------\u001b[0m\n",
      " Step |   Time |      Value |        x1 |        x2 |        x3 | \n",
      "    9 | 00m05s |  -31.12444 |   -1.3365 |   -3.9251 |    3.1607 | \n",
      "\u001b[31mBayesian Optimization\u001b[0m\n",
      "\u001b[94m-----------------------------------------------------------------------------\u001b[0m\n",
      " Step |   Time |      Value |        x1 |        x2 |        x3 |        x4 | \n",
      "    9 | 00m06s |  -38.85106 |    1.3061 |    3.3016 |    2.4725 |   -3.9676 | \n",
      "\u001b[31mBayesian Optimization\u001b[0m\n",
      "\u001b[94m-----------------------------------------------------------------------------------------\u001b[0m\n",
      " Step |   Time |      Value |        x1 |        x2 |        x3 |        x4 |        x5 | \n",
      "    9 | 00m09s |  -43.01641 |   -2.7225 |    0.0869 |   -4.0000 |   -3.7551 |    1.1421 | \n",
      "\u001b[31mBayesian Optimization\u001b[0m\n",
      "\u001b[94m-----------------------------------------\u001b[0m\n",
      " Step |   Time |      Value |        x1 | \n",
      "   10 | 00m01s | \u001b[35m  -0.00002\u001b[0m | \u001b[32m   0.0021\u001b[0m | \n",
      "\u001b[31mBayesian Optimization\u001b[0m\n",
      "\u001b[94m-----------------------------------------------------\u001b[0m\n",
      " Step |   Time |      Value |        x1 |        x2 | \n",
      "   10 | 00m04s | \u001b[35m  -3.46499\u001b[0m | \u001b[32m  -0.0338\u001b[0m | \u001b[32m   1.4701\u001b[0m | \n",
      "\u001b[31mBayesian Optimization\u001b[0m\n",
      "\u001b[94m-----------------------------------------------------------------\u001b[0m\n",
      " Step |   Time |      Value |        x1 |        x2 |        x3 | \n",
      "   10 | 00m05s |  -42.01474 |    3.3008 |   -3.9521 |   -3.4206 | \n",
      "\u001b[31mBayesian Optimization\u001b[0m\n",
      "\u001b[94m-----------------------------------------------------------------------------\u001b[0m\n",
      " Step |   Time |      Value |        x1 |        x2 |        x3 |        x4 | \n",
      "   10 | 00m07s | \u001b[35m -18.69407\u001b[0m | \u001b[32m  -0.2807\u001b[0m | \u001b[32m   0.9891\u001b[0m | \u001b[32m  -3.1400\u001b[0m | \u001b[32m  -1.4673\u001b[0m | \n",
      "\u001b[31mBayesian Optimization\u001b[0m\n",
      "\u001b[94m-----------------------------------------------------------------------------------------\u001b[0m\n",
      " Step |   Time |      Value |        x1 |        x2 |        x3 |        x4 |        x5 | \n",
      "   10 | 00m10s | \u001b[35m -21.08832\u001b[0m | \u001b[32m  -1.9179\u001b[0m | \u001b[32m  -0.2540\u001b[0m | \u001b[32m  -2.2517\u001b[0m | \u001b[32m  -2.8899\u001b[0m | \u001b[32m   0.6207\u001b[0m | \n",
      "\u001b[31mBayesian Optimization\u001b[0m\n",
      "\u001b[94m-----------------------------------------\u001b[0m\n",
      " Step |   Time |      Value |        x1 | \n"
     ]
    },
    {
     "name": "stderr",
     "output_type": "stream",
     "text": [
      "/Users/tsuzuki/anaconda3/lib/python3.4/site-packages/sklearn/gaussian_process/gpr.py:427: UserWarning: fmin_l_bfgs_b terminated abnormally with the  state: {'grad': array([ 0.00010883]), 'warnflag': 2, 'task': b'ABNORMAL_TERMINATION_IN_LNSRCH', 'nit': 5, 'funcalls': 51}\n",
      "  \" state: %s\" % convergence_dict)\n",
      "/Users/tsuzuki/anaconda3/lib/python3.4/site-packages/sklearn/gaussian_process/gpr.py:308: UserWarning: Predicted variances smaller than 0. Setting those variances to 0.\n",
      "  warnings.warn(\"Predicted variances smaller than 0. \"\n"
     ]
    },
    {
     "name": "stdout",
     "output_type": "stream",
     "text": [
      "   11 | 00m01s | \u001b[35m  -0.00000\u001b[0m | \u001b[32m   0.0006\u001b[0m | \n",
      "\u001b[31mBayesian Optimization\u001b[0m\n",
      "\u001b[94m-----------------------------------------------------\u001b[0m\n",
      " Step |   Time |      Value |        x1 |        x2 | \n",
      "   11 | 00m04s |   -3.47193 |    0.0452 |    1.4986 | \n",
      "\u001b[31mBayesian Optimization\u001b[0m\n",
      "\u001b[94m-----------------------------------------------------------------\u001b[0m\n",
      " Step |   Time |      Value |        x1 |        x2 |        x3 | \n",
      "   11 | 00m05s | \u001b[35m -19.14487\u001b[0m | \u001b[32m   0.7251\u001b[0m | \u001b[32m  -3.4773\u001b[0m | \u001b[32m   1.3179\u001b[0m | \n",
      "\u001b[31mBayesian Optimization\u001b[0m\n",
      "\u001b[94m-----------------------------------------------------------------------------\u001b[0m\n",
      " Step |   Time |      Value |        x1 |        x2 |        x3 |        x4 | \n",
      "   11 | 00m07s |  -39.84946 |    3.4496 |   -2.7452 |   -3.5362 |    1.7566 | \n",
      "\u001b[31mBayesian Optimization\u001b[0m\n",
      "\u001b[94m-----------------------------------------------------------------------------------------\u001b[0m\n",
      " Step |   Time |      Value |        x1 |        x2 |        x3 |        x4 |        x5 | \n",
      "   11 | 00m11s | \u001b[35m -14.33169\u001b[0m | \u001b[32m  -1.6686\u001b[0m | \u001b[32m  -0.2619\u001b[0m | \u001b[32m  -1.7507\u001b[0m | \u001b[32m  -2.3737\u001b[0m | \u001b[32m   0.4434\u001b[0m | \n",
      "1\n",
      "\u001b[31mInitialization\u001b[0m\n",
      "\u001b[94m-----------------------------------------\u001b[0m\n",
      " Step |   Time |      Value |        x1 | \n",
      "    1 | 00m00s | \u001b[35m  -1.04558\u001b[0m | \u001b[32m  -0.4661\u001b[0m | \n",
      "\u001b[31mBayesian Optimization\u001b[0m\n",
      "\u001b[94m-----------------------------------------\u001b[0m\n",
      " Step |   Time |      Value |        x1 | \n",
      "    2 | 00m01s |   -4.59930 |    2.1422 | \n",
      "\u001b[31mInitialization\u001b[0m\n",
      "\u001b[94m-----------------------------------------------------\u001b[0m\n",
      " Step |   Time |      Value |        x1 |        x2 | \n",
      "    1 | 00m00s | \u001b[35m  -9.63184\u001b[0m | \u001b[32m   0.9600\u001b[0m | \u001b[32m   2.4795\u001b[0m | \n",
      "\u001b[31mBayesian Optimization\u001b[0m\n",
      "\u001b[94m-----------------------------------------------------\u001b[0m\n",
      " Step |   Time |      Value |        x1 |        x2 | \n",
      "    2 | 00m03s |  -10.65634 |   -1.0510 |   -2.5811 | \n",
      "\u001b[31mInitialization\u001b[0m\n",
      "\u001b[94m-----------------------------------------------------------------\u001b[0m\n",
      " Step |   Time |      Value |        x1 |        x2 |        x3 | \n",
      "    1 | 00m00s | \u001b[35m -18.23082\u001b[0m | \u001b[32m  -1.1082\u001b[0m | \u001b[32m  -2.5725\u001b[0m | \u001b[32m  -2.5794\u001b[0m | \n",
      "\u001b[31mBayesian Optimization\u001b[0m\n",
      "\u001b[94m-----------------------------------------------------------------\u001b[0m\n",
      " Step |   Time |      Value |        x1 |        x2 |        x3 | \n",
      "    2 | 00m04s |  -40.55572 |   -3.5483 |   -3.3191 |   -3.5042 | \n",
      "\u001b[31mInitialization\u001b[0m\n",
      "\u001b[94m-----------------------------------------------------------------------------\u001b[0m\n",
      " Step |   Time |      Value |        x1 |        x2 |        x3 |        x4 | \n",
      "    1 | 00m00s | \u001b[35m -24.53344\u001b[0m | \u001b[32m  -2.4721\u001b[0m | \u001b[32m  -0.0782\u001b[0m | \u001b[32m  -2.3321\u001b[0m | \u001b[32m   3.1841\u001b[0m | \n",
      "\u001b[31mBayesian Optimization\u001b[0m\n",
      "\u001b[94m-----------------------------------------------------------------------------\u001b[0m\n",
      " Step |   Time |      Value |        x1 |        x2 |        x3 |        x4 | \n",
      "    2 | 00m04s |  -28.77176 |    2.5315 |   -3.6752 |    0.9307 |    2.0824 | \n",
      "\u001b[31mInitialization\u001b[0m\n",
      "\u001b[94m-----------------------------------------------------------------------------------------\u001b[0m\n",
      " Step |   Time |      Value |        x1 |        x2 |        x3 |        x4 |        x5 | \n",
      "    1 | 00m00s | \u001b[35m -24.98695\u001b[0m | \u001b[32m  -2.3428\u001b[0m | \u001b[32m   3.1231\u001b[0m | \u001b[32m  -1.5643\u001b[0m | \u001b[32m  -0.1521\u001b[0m | \u001b[32m  -1.9479\u001b[0m | \n",
      "\u001b[31mBayesian Optimization\u001b[0m\n",
      "\u001b[94m-----------------------------------------------------------------------------------------\u001b[0m\n",
      " Step |   Time |      Value |        x1 |        x2 |        x3 |        x4 |        x5 | \n",
      "    2 | 00m04s |  -34.11493 |   -0.3561 |    1.1892 |   -3.0026 |    2.2877 |   -3.5212 | \n",
      "\u001b[31mBayesian Optimization\u001b[0m\n",
      "\u001b[94m-----------------------------------------\u001b[0m\n",
      " Step |   Time |      Value |        x1 | \n",
      "    3 | 00m02s |  -16.15615 |   -4.0000 | \n",
      "\u001b[31mBayesian Optimization\u001b[0m\n",
      "\u001b[94m-----------------------------------------------------\u001b[0m\n",
      " Step |   Time |      Value |        x1 |        x2 | \n",
      "    3 | 00m02s |  -17.57315 |   -1.6401 |    3.5848 | \n",
      "\u001b[31mBayesian Optimization\u001b[0m\n",
      "\u001b[94m-----------------------------------------------------------------\u001b[0m\n",
      " Step |   Time |      Value |        x1 |        x2 |        x3 | \n",
      "    3 | 00m04s |  -25.17622 |    3.7721 |    0.9338 |   -2.5683 | \n",
      "\u001b[31mBayesian Optimization\u001b[0m\n",
      "\u001b[94m-----------------------------------------------------------------------------\u001b[0m\n",
      " Step |   Time |      Value |        x1 |        x2 |        x3 |        x4 | \n",
      "    3 | 00m04s |  -55.40633 |   -4.0000 |   -2.5044 |   -4.0000 |   -4.0000 | \n",
      "\u001b[31mBayesian Optimization\u001b[0m\n",
      "\u001b[94m-----------------------------------------------------------------------------------------\u001b[0m\n",
      " Step |   Time |      Value |        x1 |        x2 |        x3 |        x4 |        x5 | \n",
      "    3 | 00m03s |  -56.16354 |    3.0395 |   -3.7973 |    0.5872 |   -3.4844 |    3.7360 | \n",
      "\u001b[31mBayesian Optimization\u001b[0m\n",
      "\u001b[94m-----------------------------------------\u001b[0m\n",
      " Step |   Time |      Value |        x1 | \n",
      "    4 | 00m02s | \u001b[35m  -0.53699\u001b[0m | \u001b[32m  -0.3226\u001b[0m | \n",
      "\u001b[31mBayesian Optimization\u001b[0m\n",
      "\u001b[94m-----------------------------------------------------\u001b[0m\n",
      " Step |   Time |      Value |        x1 |        x2 | \n",
      "    4 | 00m01s |  -27.70959 |    3.9047 |   -3.1826 | \n",
      "\u001b[31mBayesian Optimization\u001b[0m\n",
      "\u001b[94m-----------------------------------------------------------------\u001b[0m\n",
      " Step |   Time |      Value |        x1 |        x2 |        x3 | \n",
      "    4 | 00m04s |  -28.98615 |   -2.8366 |    1.2148 |    3.9716 | \n",
      "\u001b[31mBayesian Optimization\u001b[0m\n",
      "\u001b[94m-----------------------------------------------------------------------------\u001b[0m\n",
      " Step |   Time |      Value |        x1 |        x2 |        x3 |        x4 | \n",
      "    4 | 00m06s |  -50.82929 |    2.6515 |    3.4172 |    3.9900 |    3.3951 | \n",
      "\u001b[31mBayesian Optimization\u001b[0m\n",
      "\u001b[94m-----------------------------------------------------------------------------------------\u001b[0m\n",
      " Step |   Time |      Value |        x1 |        x2 |        x3 |        x4 |        x5 | \n",
      "    4 | 00m04s |  -80.78073 |   -4.0000 |    4.0000 |   -4.0000 |   -4.0000 |   -4.0000 | \n",
      "\u001b[31mBayesian Optimization\u001b[0m\n",
      "\u001b[94m-----------------------------------------\u001b[0m\n",
      " Step |   Time |      Value |        x1 | \n",
      "    5 | 00m02s |   -7.68451 |    2.5974 | \n",
      "\u001b[31mBayesian Optimization\u001b[0m\n",
      "\u001b[94m-----------------------------------------------------\u001b[0m\n",
      " Step |   Time |      Value |        x1 |        x2 | \n",
      "    5 | 00m03s |  -32.31229 |   -4.0000 |   -4.0000 | \n",
      "\u001b[31mBayesian Optimization\u001b[0m\n",
      "\u001b[94m-----------------------------------------------------------------\u001b[0m\n",
      " Step |   Time |      Value |        x1 |        x2 |        x3 | \n",
      "    5 | 00m05s |  -45.25318 |    3.8802 |   -3.8446 |    3.6874 | \n",
      "\u001b[31mBayesian Optimization\u001b[0m\n",
      "\u001b[94m-----------------------------------------------------------------------------\u001b[0m\n",
      " Step |   Time |      Value |        x1 |        x2 |        x3 |        x4 | \n",
      "    5 | 00m08s |  -54.40531 |   -3.1354 |    3.2276 |   -3.9143 |    3.6915 | \n",
      "\u001b[31mBayesian Optimization\u001b[0m\n",
      "\u001b[94m-----------------------------------------------------------------------------------------\u001b[0m\n",
      " Step |   Time |      Value |        x1 |        x2 |        x3 |        x4 |        x5 | \n",
      "    5 | 00m04s |  -42.06028 |   -2.1063 |    1.9884 |    3.7138 |    3.9668 |   -1.0139 | \n",
      "\u001b[31mBayesian Optimization\u001b[0m\n",
      "\u001b[94m-----------------------------------------\u001b[0m\n",
      " Step |   Time |      Value |        x1 | \n",
      "    6 | 00m02s |  -13.58178 |    3.4673 | \n",
      "\u001b[31mBayesian Optimization\u001b[0m\n",
      "\u001b[94m-----------------------------------------------------\u001b[0m\n",
      " Step |   Time |      Value |        x1 |        x2 | \n",
      "    6 | 00m04s |  -28.38590 |    3.5696 |    3.6484 | \n",
      "\u001b[31mBayesian Optimization\u001b[0m\n",
      "\u001b[94m-----------------------------------------------------------------\u001b[0m\n",
      " Step |   Time |      Value |        x1 |        x2 |        x3 | \n",
      "    6 | 00m06s |  -29.52866 |   -0.7465 |    3.8346 |   -3.1847 | \n",
      "\u001b[31mBayesian Optimization\u001b[0m\n",
      "\u001b[94m-----------------------------------------------------------------------------\u001b[0m\n",
      " Step |   Time |      Value |        x1 |        x2 |        x3 |        x4 | \n",
      "    6 | 00m07s |  -48.17030 |   -3.2265 |   -4.0000 |   -1.6295 |    4.0000 | \n",
      "\u001b[31mBayesian Optimization\u001b[0m\n",
      "\u001b[94m-----------------------------------------------------------------------------------------\u001b[0m\n",
      " Step |   Time |      Value |        x1 |        x2 |        x3 |        x4 |        x5 | \n",
      "    6 | 00m04s |  -41.67032 |    0.0877 |    2.4443 |   -3.9865 |    1.6560 |    3.9052 | \n",
      "\u001b[31mBayesian Optimization\u001b[0m\n",
      "\u001b[94m-----------------------------------------\u001b[0m\n",
      " Step |   Time |      Value |        x1 | \n",
      "    7 | 00m02s |   -3.41493 |    1.2981 | \n",
      "\u001b[31mBayesian Optimization\u001b[0m\n",
      "\u001b[94m-----------------------------------------------------\u001b[0m\n",
      " Step |   Time |      Value |        x1 |        x2 | \n",
      "    7 | 00m04s | \u001b[35m  -0.78976\u001b[0m | \u001b[32m  -0.0023\u001b[0m | \u001b[32m   0.3978\u001b[0m | \n",
      "\u001b[31mBayesian Optimization\u001b[0m\n",
      "\u001b[94m-----------------------------------------------------------------\u001b[0m\n",
      " Step |   Time |      Value |        x1 |        x2 |        x3 | \n",
      "    7 | 00m06s |  -32.68152 |    1.6141 |   -3.8481 |   -3.5449 | \n",
      "\u001b[31mBayesian Optimization\u001b[0m\n",
      "\u001b[94m-----------------------------------------------------------------------------\u001b[0m\n",
      " Step |   Time |      Value |        x1 |        x2 |        x3 |        x4 | \n",
      "    7 | 00m06s |  -41.00558 |    2.4796 |    3.9481 |    0.9096 |   -3.9210 | \n",
      "\u001b[31mBayesian Optimization\u001b[0m\n",
      "\u001b[94m-----------------------------------------------------------------------------------------\u001b[0m\n",
      " Step |   Time |      Value |        x1 |        x2 |        x3 |        x4 |        x5 | \n",
      "    7 | 00m03s |  -45.87158 |    3.3153 |    0.1382 |    1.8614 |    3.9166 |   -3.4613 | \n",
      "\u001b[31mBayesian Optimization\u001b[0m\n",
      "\u001b[94m-----------------------------------------\u001b[0m\n",
      " Step |   Time |      Value |        x1 | \n",
      "    8 | 00m02s |   -3.39055 |   -1.2599 | \n",
      "\u001b[31mBayesian Optimization\u001b[0m\n",
      "\u001b[94m-----------------------------------------------------\u001b[0m\n",
      " Step |   Time |      Value |        x1 |        x2 | \n",
      "    8 | 00m04s | \u001b[35m  -0.40104\u001b[0m | \u001b[32m  -0.0425\u001b[0m | \u001b[32m   0.2728\u001b[0m | \n",
      "\u001b[31mBayesian Optimization\u001b[0m\n",
      "\u001b[94m-----------------------------------------------------------------\u001b[0m\n",
      " Step |   Time |      Value |        x1 |        x2 |        x3 | \n",
      "    8 | 00m07s | \u001b[35m -13.47139\u001b[0m | \u001b[32m  -0.9296\u001b[0m | \u001b[32m  -2.2080\u001b[0m | \u001b[32m  -2.3402\u001b[0m | \n",
      "\u001b[31mBayesian Optimization\u001b[0m\n",
      "\u001b[94m-----------------------------------------------------------------------------\u001b[0m\n",
      " Step |   Time |      Value |        x1 |        x2 |        x3 |        x4 | \n",
      "    8 | 00m07s |  -33.54190 |    3.9902 |   -2.9488 |   -1.3450 |    1.6265 | \n",
      "\u001b[31mBayesian Optimization\u001b[0m\n",
      "\u001b[94m-----------------------------------------------------------------------------------------\u001b[0m\n",
      " Step |   Time |      Value |        x1 |        x2 |        x3 |        x4 |        x5 | \n",
      "    8 | 00m04s |  -35.36928 |   -3.6221 |    3.1758 |   -1.0650 |    2.1563 |   -0.5153 | \n",
      "\u001b[31mBayesian Optimization\u001b[0m\n",
      "\u001b[94m-----------------------------------------\u001b[0m\n",
      " Step |   Time |      Value |        x1 | \n",
      "    9 | 00m02s | \u001b[35m  -0.02385\u001b[0m | \u001b[32m  -0.0659\u001b[0m | \n",
      "\u001b[31mBayesian Optimization\u001b[0m\n",
      "\u001b[94m-----------------------------------------------------\u001b[0m\n",
      " Step |   Time |      Value |        x1 |        x2 | \n",
      "    9 | 00m05s | \u001b[35m  -0.12396\u001b[0m | \u001b[32m  -0.1510\u001b[0m | \u001b[32m  -0.0074\u001b[0m | \n",
      "\u001b[31mBayesian Optimization\u001b[0m\n",
      "\u001b[94m-----------------------------------------------------------------\u001b[0m\n",
      " Step |   Time |      Value |        x1 |        x2 |        x3 | \n",
      "    9 | 00m06s | \u001b[35m  -9.88220\u001b[0m | \u001b[32m  -0.7557\u001b[0m | \u001b[32m  -1.6087\u001b[0m | \u001b[32m  -2.0456\u001b[0m | \n",
      "\u001b[31mBayesian Optimization\u001b[0m\n",
      "\u001b[94m-----------------------------------------------------------------------------\u001b[0m\n",
      " Step |   Time |      Value |        x1 |        x2 |        x3 |        x4 | \n",
      "    9 | 00m07s |  -44.14295 |    3.8242 |   -3.6132 |    3.5142 |    0.4491 | \n",
      "\u001b[31mBayesian Optimization\u001b[0m\n",
      "\u001b[94m-----------------------------------------------------------------------------------------\u001b[0m\n",
      " Step |   Time |      Value |        x1 |        x2 |        x3 |        x4 |        x5 | \n",
      "    9 | 00m06s |  -80.78073 |   -4.0000 |   -4.0000 |   -4.0000 |   -4.0000 |   -4.0000 | \n",
      "\u001b[31mBayesian Optimization\u001b[0m\n",
      "\u001b[94m-----------------------------------------\u001b[0m\n",
      " Step |   Time |      Value |        x1 | \n",
      "   10 | 00m02s | \u001b[35m  -0.00021\u001b[0m | \u001b[32m  -0.0062\u001b[0m | \n",
      "\u001b[31mBayesian Optimization\u001b[0m\n",
      "\u001b[94m-----------------------------------------------------\u001b[0m\n",
      " Step |   Time |      Value |        x1 |        x2 | \n",
      "   10 | 00m04s | \u001b[35m  -0.09920\u001b[0m | \u001b[32m  -0.1309\u001b[0m | \u001b[32m   0.0329\u001b[0m | \n",
      "\u001b[31mBayesian Optimization\u001b[0m\n",
      "\u001b[94m-----------------------------------------------------------------\u001b[0m\n",
      " Step |   Time |      Value |        x1 |        x2 |        x3 | \n",
      "   10 | 00m06s |   -9.92549 |   -1.1621 |   -1.5412 |   -1.0845 | \n",
      "\u001b[31mBayesian Optimization\u001b[0m\n",
      "\u001b[94m-----------------------------------------------------------------------------\u001b[0m\n",
      " Step |   Time |      Value |        x1 |        x2 |        x3 |        x4 | \n",
      "   10 | 00m06s |  -24.88310 |   -1.6604 |   -0.7941 |   -1.6843 |    3.8946 | \n",
      "\u001b[31mBayesian Optimization\u001b[0m\n",
      "\u001b[94m-----------------------------------------------------------------------------------------\u001b[0m\n",
      " Step |   Time |      Value |        x1 |        x2 |        x3 |        x4 |        x5 | \n",
      "   10 | 00m08s |  -27.86445 |   -1.9178 |    3.6811 |   -1.7758 |    0.1123 |   -2.3644 | \n",
      "\u001b[31mBayesian Optimization\u001b[0m\n",
      "\u001b[94m-----------------------------------------\u001b[0m\n",
      " Step |   Time |      Value |        x1 | \n",
      "   11 | 00m02s | \u001b[35m  -0.00000\u001b[0m | \u001b[32m   0.0003\u001b[0m | \n",
      "\u001b[31mBayesian Optimization\u001b[0m\n",
      "\u001b[94m-----------------------------------------------------\u001b[0m\n",
      " Step |   Time |      Value |        x1 |        x2 | \n",
      "   11 | 00m05s | \u001b[35m  -0.07082\u001b[0m | \u001b[32m  -0.1031\u001b[0m | \u001b[32m   0.0482\u001b[0m | \n",
      "\u001b[31mBayesian Optimization\u001b[0m\n",
      "\u001b[94m-----------------------------------------------------------------\u001b[0m\n",
      " Step |   Time |      Value |        x1 |        x2 |        x3 | \n",
      "   11 | 00m06s | \u001b[35m  -9.31705\u001b[0m | \u001b[32m  -0.8051\u001b[0m | \u001b[32m  -1.4383\u001b[0m | \u001b[32m  -1.5546\u001b[0m | \n",
      "\u001b[31mBayesian Optimization\u001b[0m\n",
      "\u001b[94m-----------------------------------------------------------------------------\u001b[0m\n",
      " Step |   Time |      Value |        x1 |        x2 |        x3 |        x4 | \n",
      "   11 | 00m07s |  -47.35387 |   -3.5060 |    2.1983 |    3.9936 |    3.2674 | \n",
      "\u001b[31mBayesian Optimization\u001b[0m\n",
      "\u001b[94m-----------------------------------------------------------------------------------------\u001b[0m\n",
      " Step |   Time |      Value |        x1 |        x2 |        x3 |        x4 |        x5 | \n",
      "   11 | 00m08s | \u001b[35m -23.90100\u001b[0m | \u001b[32m  -2.2854\u001b[0m | \u001b[32m   3.1273\u001b[0m | \u001b[32m  -1.0729\u001b[0m | \u001b[32m  -0.1130\u001b[0m | \u001b[32m  -1.7139\u001b[0m | \n",
      "2\n",
      "\u001b[31mInitialization\u001b[0m\n",
      "\u001b[94m-----------------------------------------\u001b[0m\n",
      " Step |   Time |      Value |        x1 | \n",
      "    1 | 00m00s | \u001b[35m  -6.08027\u001b[0m | \u001b[32m   2.3900\u001b[0m | \n",
      "\u001b[31mBayesian Optimization\u001b[0m\n",
      "\u001b[94m-----------------------------------------\u001b[0m\n",
      " Step |   Time |      Value |        x1 | \n",
      "    2 | 00m02s |  -15.29529 |   -3.8499 | \n",
      "\u001b[31mInitialization\u001b[0m\n",
      "\u001b[94m-----------------------------------------------------\u001b[0m\n",
      " Step |   Time |      Value |        x1 |        x2 | \n",
      "    1 | 00m00s | \u001b[35m  -9.50184\u001b[0m | \u001b[32m  -2.3780\u001b[0m | \u001b[32m   1.6907\u001b[0m | \n",
      "\u001b[31mBayesian Optimization\u001b[0m\n",
      "\u001b[94m-----------------------------------------------------\u001b[0m\n",
      " Step |   Time |      Value |        x1 |        x2 | \n",
      "    2 | 00m02s | \u001b[35m  -6.34929\u001b[0m | \u001b[32m   1.5955\u001b[0m | \u001b[32m  -0.9564\u001b[0m | \n",
      "\u001b[31mInitialization\u001b[0m\n",
      "\u001b[94m-----------------------------------------------------------------\u001b[0m\n",
      " Step |   Time |      Value |        x1 |        x2 |        x3 | \n",
      "    1 | 00m00s | \u001b[35m -12.51601\u001b[0m | \u001b[32m  -1.3900\u001b[0m | \u001b[32m  -1.0321\u001b[0m | \u001b[32m   2.3791\u001b[0m | \n",
      "\u001b[31mBayesian Optimization\u001b[0m\n",
      "\u001b[94m-----------------------------------------------------------------\u001b[0m\n",
      " Step |   Time |      Value |        x1 |        x2 |        x3 | \n",
      "    2 | 00m04s |  -19.72201 |   -1.1184 |   -3.1870 |   -2.0846 | \n",
      "\u001b[31mInitialization\u001b[0m\n",
      "\u001b[94m-----------------------------------------------------------------------------\u001b[0m\n",
      " Step |   Time |      Value |        x1 |        x2 |        x3 |        x4 | \n",
      "    1 | 00m00s | \u001b[35m -25.01726\u001b[0m | \u001b[32m  -1.3121\u001b[0m | \u001b[32m  -0.9584\u001b[0m | \u001b[32m  -1.8159\u001b[0m | \u001b[32m  -3.8080\u001b[0m | \n",
      "\u001b[31mBayesian Optimization\u001b[0m\n",
      "\u001b[94m-----------------------------------------------------------------------------\u001b[0m\n",
      " Step |   Time |      Value |        x1 |        x2 |        x3 |        x4 | \n",
      "    2 | 00m04s | \u001b[35m  -7.12815\u001b[0m | \u001b[32m   1.6196\u001b[0m | \u001b[32m  -1.6906\u001b[0m | \u001b[32m   0.0034\u001b[0m | \u001b[32m  -0.1634\u001b[0m | \n",
      "\u001b[31mInitialization\u001b[0m\n",
      "\u001b[94m-----------------------------------------------------------------------------------------\u001b[0m\n",
      " Step |   Time |      Value |        x1 |        x2 |        x3 |        x4 |        x5 | \n",
      "    1 | 00m00s | \u001b[35m -41.79718\u001b[0m | \u001b[32m  -3.6365\u001b[0m | \u001b[32m   0.1228\u001b[0m | \u001b[32m   3.3346\u001b[0m | \u001b[32m   0.7497\u001b[0m | \u001b[32m  -3.2059\u001b[0m | \n",
      "\u001b[31mBayesian Optimization\u001b[0m\n",
      "\u001b[94m-----------------------------------------------------------------------------------------\u001b[0m\n",
      " Step |   Time |      Value |        x1 |        x2 |        x3 |        x4 |        x5 | \n",
      "    2 | 00m04s | \u001b[35m -24.39624\u001b[0m | \u001b[32m   2.7001\u001b[0m | \u001b[32m   2.2870\u001b[0m | \u001b[32m  -1.1957\u001b[0m | \u001b[32m   0.0798\u001b[0m | \u001b[32m   2.5253\u001b[0m | \n",
      "\u001b[31mBayesian Optimization\u001b[0m\n",
      "\u001b[94m-----------------------------------------\u001b[0m\n",
      " Step |   Time |      Value |        x1 | \n",
      "    3 | 00m02s |  -14.88978 |    3.7670 | \n",
      "\u001b[31mBayesian Optimization\u001b[0m\n",
      "\u001b[94m-----------------------------------------------------\u001b[0m\n",
      " Step |   Time |      Value |        x1 |        x2 | \n",
      "    3 | 00m02s |  -27.54845 |    3.3871 |   -3.6423 | \n",
      "\u001b[31mBayesian Optimization\u001b[0m\n",
      "\u001b[94m-----------------------------------------------------------------\u001b[0m\n",
      " Step |   Time |      Value |        x1 |        x2 |        x3 | \n",
      "    3 | 00m03s |  -41.20736 |    3.2448 |    3.4883 |    3.8011 | \n",
      "\u001b[31mBayesian Optimization\u001b[0m\n",
      "\u001b[94m-----------------------------------------------------------------------------\u001b[0m\n",
      " Step |   Time |      Value |        x1 |        x2 |        x3 |        x4 | \n",
      "    3 | 00m04s |  -39.40589 |   -1.8320 |    3.1583 |    3.0231 |    3.2859 | \n",
      "\u001b[31mBayesian Optimization\u001b[0m\n",
      "\u001b[94m-----------------------------------------------------------------------------------------\u001b[0m\n",
      " Step |   Time |      Value |        x1 |        x2 |        x3 |        x4 |        x5 | \n",
      "    3 | 00m04s |  -46.14816 |    3.4911 |    1.4750 |   -3.3503 |    0.8591 |    3.4237 | \n",
      "\u001b[31mBayesian Optimization\u001b[0m\n",
      "\u001b[94m-----------------------------------------\u001b[0m\n",
      " Step |   Time |      Value |        x1 | \n",
      "    4 | 00m02s | \u001b[35m  -0.39661\u001b[0m | \u001b[32m  -0.2748\u001b[0m | \n",
      "\u001b[31mBayesian Optimization\u001b[0m\n",
      "\u001b[94m-----------------------------------------------------\u001b[0m\n",
      " Step |   Time |      Value |        x1 |        x2 | \n",
      "    4 | 00m01s |  -21.51108 |    2.4537 |    3.7827 | \n",
      "\u001b[31mBayesian Optimization\u001b[0m\n",
      "\u001b[94m-----------------------------------------------------------------\u001b[0m\n",
      " Step |   Time |      Value |        x1 |        x2 |        x3 | \n",
      "    4 | 00m03s |  -34.55602 |   -2.1774 |   -3.8426 |    3.6864 | \n",
      "\u001b[31mBayesian Optimization\u001b[0m\n",
      "\u001b[94m-----------------------------------------------------------------------------\u001b[0m\n",
      " Step |   Time |      Value |        x1 |        x2 |        x3 |        x4 | \n",
      "    4 | 00m04s |  -40.28866 |    3.6653 |   -3.3609 |    2.7950 |   -1.3973 | \n",
      "\u001b[31mBayesian Optimization\u001b[0m\n",
      "\u001b[94m-----------------------------------------------------------------------------------------\u001b[0m\n",
      " Step |   Time |      Value |        x1 |        x2 |        x3 |        x4 |        x5 | \n",
      "    4 | 00m06s |  -80.78073 |   -4.0000 |   -4.0000 |   -4.0000 |   -4.0000 |   -4.0000 | \n",
      "\u001b[31mBayesian Optimization\u001b[0m\n",
      "\u001b[94m-----------------------------------------\u001b[0m\n",
      " Step |   Time |      Value |        x1 | \n",
      "    5 | 00m02s | \u001b[35m  -0.06718\u001b[0m | \u001b[32m  -0.1109\u001b[0m | \n",
      "\u001b[31mBayesian Optimization\u001b[0m\n",
      "\u001b[94m-----------------------------------------------------\u001b[0m\n",
      " Step |   Time |      Value |        x1 |        x2 | \n",
      "    5 | 00m03s |  -32.31229 |   -4.0000 |   -4.0000 | \n",
      "\u001b[31mBayesian Optimization\u001b[0m\n",
      "\u001b[94m-----------------------------------------------------------------\u001b[0m\n",
      " Step |   Time |      Value |        x1 |        x2 |        x3 | \n",
      "    5 | 00m02s |  -31.40673 |   -3.4429 |    3.6812 |   -1.3327 | \n",
      "\u001b[31mBayesian Optimization\u001b[0m\n",
      "\u001b[94m-----------------------------------------------------------------------------\u001b[0m\n",
      " Step |   Time |      Value |        x1 |        x2 |        x3 |        x4 | \n",
      "    5 | 00m03s |  -43.08488 |    3.9159 |    0.8451 |   -3.4035 |    3.1007 | \n",
      "\u001b[31mBayesian Optimization\u001b[0m\n",
      "\u001b[94m-----------------------------------------------------------------------------------------\u001b[0m\n",
      " Step |   Time |      Value |        x1 |        x2 |        x3 |        x4 |        x5 | \n",
      "    5 | 00m07s |  -45.43420 |    3.7414 |    2.1604 |    3.2158 |    0.4498 |    3.2806 | \n",
      "\u001b[31mBayesian Optimization\u001b[0m\n",
      "\u001b[94m-----------------------------------------\u001b[0m\n",
      " Step |   Time |      Value |        x1 | \n",
      "    6 | 00m02s |   -2.57556 |   -0.8569 | \n",
      "\u001b[31mBayesian Optimization\u001b[0m\n",
      "\u001b[94m-----------------------------------------------------\u001b[0m\n",
      " Step |   Time |      Value |        x1 |        x2 | \n",
      "    6 | 00m04s |  -29.89580 |   -3.9184 |    3.6178 | \n",
      "\u001b[31mBayesian Optimization\u001b[0m\n",
      "\u001b[94m-----------------------------------------------------------------\u001b[0m\n",
      " Step |   Time |      Value |        x1 |        x2 |        x3 | \n",
      "    6 | 00m01s |  -25.99794 |    3.5122 |   -1.6246 |   -2.7250 | \n",
      "\u001b[31mBayesian Optimization\u001b[0m\n",
      "\u001b[94m-----------------------------------------------------------------------------\u001b[0m\n",
      " Step |   Time |      Value |        x1 |        x2 |        x3 |        x4 | \n",
      "    6 | 00m03s |  -27.50236 |   -1.5244 |   -3.8664 |   -2.2821 |    1.1653 | \n",
      "\u001b[31mBayesian Optimization\u001b[0m\n",
      "\u001b[94m-----------------------------------------------------------------------------------------\u001b[0m\n",
      " Step |   Time |      Value |        x1 |        x2 |        x3 |        x4 |        x5 | \n",
      "    6 | 00m07s |  -51.68475 |    3.6096 |    3.7286 |   -2.3613 |   -3.4715 |   -1.1660 | \n",
      "\u001b[31mBayesian Optimization\u001b[0m\n",
      "\u001b[94m-----------------------------------------\u001b[0m\n",
      " Step |   Time |      Value |        x1 | \n",
      "    7 | 00m02s |   -0.11975 |    0.1486 | \n",
      "\u001b[31mBayesian Optimization\u001b[0m\n",
      "\u001b[94m-----------------------------------------------------\u001b[0m\n",
      " Step |   Time |      Value |        x1 |        x2 | \n",
      "    7 | 00m04s | \u001b[35m  -0.81785\u001b[0m | \u001b[32m   0.3401\u001b[0m | \u001b[32m  -0.2051\u001b[0m | \n",
      "\u001b[31mBayesian Optimization\u001b[0m\n",
      "\u001b[94m-----------------------------------------------------------------\u001b[0m\n",
      " Step |   Time |      Value |        x1 |        x2 |        x3 | \n",
      "    7 | 00m03s |  -48.46844 |   -4.0000 |   -4.0000 |   -4.0000 | \n",
      "\u001b[31mBayesian Optimization\u001b[0m\n",
      "\u001b[94m-----------------------------------------------------------------------------\u001b[0m\n",
      " Step |   Time |      Value |        x1 |        x2 |        x3 |        x4 | \n",
      "    7 | 00m02s |  -54.88599 |    3.4333 |    3.5893 |   -3.2050 |   -3.8099 | \n",
      "\u001b[31mBayesian Optimization\u001b[0m\n",
      "\u001b[94m-----------------------------------------------------------------------------------------\u001b[0m\n",
      " Step |   Time |      Value |        x1 |        x2 |        x3 |        x4 |        x5 | \n"
     ]
    },
    {
     "name": "stderr",
     "output_type": "stream",
     "text": [
      "/Users/tsuzuki/anaconda3/lib/python3.4/site-packages/sklearn/gaussian_process/gpr.py:427: UserWarning: fmin_l_bfgs_b terminated abnormally with the  state: {'grad': array([-0.00018916]), 'warnflag': 2, 'task': b'ABNORMAL_TERMINATION_IN_LNSRCH', 'nit': 3, 'funcalls': 51}\n",
      "  \" state: %s\" % convergence_dict)\n"
     ]
    },
    {
     "name": "stdout",
     "output_type": "stream",
     "text": [
      "    7 | 00m07s |  -52.42857 |   -2.6386 |    3.5055 |   -2.1823 |    3.5319 |    3.1616 | \n",
      "\u001b[31mBayesian Optimization\u001b[0m\n",
      "\u001b[94m-----------------------------------------\u001b[0m\n",
      " Step |   Time |      Value |        x1 | \n",
      "    8 | 00m02s | \u001b[35m  -0.00310\u001b[0m | \u001b[32m  -0.0238\u001b[0m | \n",
      "\u001b[31mBayesian Optimization\u001b[0m\n",
      "\u001b[94m-----------------------------------------------------\u001b[0m\n",
      " Step |   Time |      Value |        x1 |        x2 | \n",
      "    8 | 00m04s | \u001b[35m  -0.11585\u001b[0m | \u001b[32m   0.1010\u001b[0m | \u001b[32m  -0.1049\u001b[0m | \n",
      "\u001b[31mBayesian Optimization\u001b[0m\n",
      "\u001b[94m-----------------------------------------------------------------\u001b[0m\n",
      " Step |   Time |      Value |        x1 |        x2 |        x3 | \n",
      "    8 | 00m05s | \u001b[35m -12.25233\u001b[0m | \u001b[32m  -2.3660\u001b[0m | \u001b[32m  -0.6202\u001b[0m | \u001b[32m   2.1569\u001b[0m | \n",
      "\u001b[31mBayesian Optimization\u001b[0m\n",
      "\u001b[94m-----------------------------------------------------------------------------\u001b[0m\n",
      " Step |   Time |      Value |        x1 |        x2 |        x3 |        x4 | \n",
      "    8 | 00m02s | \u001b[35m  -5.82951\u001b[0m | \u001b[32m   0.7515\u001b[0m | \u001b[32m  -1.1566\u001b[0m | \u001b[32m  -0.2568\u001b[0m | \u001b[32m  -0.0077\u001b[0m | \n",
      "\u001b[31mBayesian Optimization\u001b[0m\n",
      "\u001b[94m-----------------------------------------------------------------------------------------\u001b[0m\n",
      " Step |   Time |      Value |        x1 |        x2 |        x3 |        x4 |        x5 | \n",
      "    8 | 00m07s |  -52.24740 |    3.8150 |    1.9885 |    3.7799 |    2.8929 |   -2.6441 | \n",
      "\u001b[31mBayesian Optimization\u001b[0m\n",
      "\u001b[94m-----------------------------------------\u001b[0m\n",
      " Step |   Time |      Value |        x1 | \n",
      "    9 | 00m01s |   -2.76176 |    0.9157 | \n",
      "\u001b[31mBayesian Optimization\u001b[0m\n",
      "\u001b[94m-----------------------------------------------------\u001b[0m\n",
      " Step |   Time |      Value |        x1 |        x2 | \n",
      "    9 | 00m04s |   -0.20852 |   -0.1943 |   -0.0323 | \n",
      "\u001b[31mBayesian Optimization\u001b[0m\n",
      "\u001b[94m-----------------------------------------------------------------\u001b[0m\n",
      " Step |   Time |      Value |        x1 |        x2 |        x3 | \n",
      "    9 | 00m05s |  -31.12553 |   -3.8708 |    0.8117 |    3.4058 | \n",
      "\u001b[31mBayesian Optimization\u001b[0m\n",
      "\u001b[94m-----------------------------------------------------------------------------\u001b[0m\n",
      " Step |   Time |      Value |        x1 |        x2 |        x3 |        x4 | \n",
      "    9 | 00m02s |   -6.14354 |    0.8871 |   -1.4166 |   -0.0513 |   -0.0201 | \n",
      "\u001b[31mBayesian Optimization\u001b[0m\n",
      "\u001b[94m-----------------------------------------------------------------------------------------\u001b[0m\n",
      " Step |   Time |      Value |        x1 |        x2 |        x3 |        x4 |        x5 | \n",
      "    9 | 00m07s |  -43.51005 |    3.0205 |    3.5181 |   -1.1255 |   -1.2695 |    3.1643 | \n",
      "\u001b[31mBayesian Optimization\u001b[0m\n",
      "\u001b[94m-----------------------------------------\u001b[0m\n",
      " Step |   Time |      Value |        x1 | \n",
      "   10 | 00m01s | \u001b[35m  -0.00000\u001b[0m | \u001b[32m   0.0007\u001b[0m | \n",
      "\u001b[31mBayesian Optimization\u001b[0m\n",
      "\u001b[94m-----------------------------------------------------\u001b[0m\n",
      " Step |   Time |      Value |        x1 |        x2 | \n",
      "   10 | 00m05s | \u001b[35m  -0.00592\u001b[0m | \u001b[32m   0.0127\u001b[0m | \u001b[32m  -0.0303\u001b[0m | \n",
      "\u001b[31mBayesian Optimization\u001b[0m\n",
      "\u001b[94m-----------------------------------------------------------------\u001b[0m\n",
      " Step |   Time |      Value |        x1 |        x2 |        x3 | \n",
      "   10 | 00m05s | \u001b[35m  -8.89927\u001b[0m | \u001b[32m  -1.6530\u001b[0m | \u001b[32m  -0.7046\u001b[0m | \u001b[32m   1.2701\u001b[0m | \n",
      "\u001b[31mBayesian Optimization\u001b[0m\n",
      "\u001b[94m-----------------------------------------------------------------------------\u001b[0m\n",
      " Step |   Time |      Value |        x1 |        x2 |        x3 |        x4 | \n",
      "   10 | 00m03s |   -6.59997 |    0.9674 |   -1.1765 |   -0.2662 |   -0.0419 | \n",
      "\u001b[31mBayesian Optimization\u001b[0m\n",
      "\u001b[94m-----------------------------------------------------------------------------------------\u001b[0m\n",
      " Step |   Time |      Value |        x1 |        x2 |        x3 |        x4 |        x5 | \n",
      "   10 | 00m08s |  -41.09779 |    1.2147 |   -2.7825 |    0.6917 |    3.7330 |    3.1360 | \n",
      "\u001b[31mBayesian Optimization\u001b[0m\n",
      "\u001b[94m-----------------------------------------\u001b[0m\n",
      " Step |   Time |      Value |        x1 | \n",
      "   11 | 00m02s | \u001b[35m  -0.00000\u001b[0m | \u001b[32m   0.0002\u001b[0m | \n",
      "\u001b[31mBayesian Optimization\u001b[0m\n",
      "\u001b[94m-----------------------------------------------------\u001b[0m\n",
      " Step |   Time |      Value |        x1 |        x2 | \n",
      "   11 | 00m04s | \u001b[35m  -0.00529\u001b[0m | \u001b[32m   0.0170\u001b[0m | \u001b[32m   0.0259\u001b[0m | \n",
      "\u001b[31mBayesian Optimization\u001b[0m\n",
      "\u001b[94m-----------------------------------------------------------------\u001b[0m\n",
      " Step |   Time |      Value |        x1 |        x2 |        x3 | \n",
      "   11 | 00m05s |   -9.10287 |   -1.5952 |   -0.7669 |    1.2420 | \n",
      "\u001b[31mBayesian Optimization\u001b[0m\n",
      "\u001b[94m-----------------------------------------------------------------------------\u001b[0m\n",
      " Step |   Time |      Value |        x1 |        x2 |        x3 |        x4 | \n",
      "   11 | 00m03s |   -8.64390 |    1.0107 |   -2.1192 |   -0.3237 |    0.3405 | \n",
      "\u001b[31mBayesian Optimization\u001b[0m\n",
      "\u001b[94m-----------------------------------------------------------------------------------------\u001b[0m\n",
      " Step |   Time |      Value |        x1 |        x2 |        x3 |        x4 |        x5 | \n",
      "   11 | 00m08s |  -45.70051 |   -0.8384 |   -3.4185 |   -0.2856 |   -3.7524 |    3.6983 | \n",
      "3\n",
      "\u001b[31mInitialization\u001b[0m\n",
      "\u001b[94m-----------------------------------------\u001b[0m\n",
      " Step |   Time |      Value |        x1 | \n",
      "    1 | 00m00s | \u001b[35m -13.95151\u001b[0m | \u001b[32m   3.5524\u001b[0m | \n",
      "\u001b[31mBayesian Optimization\u001b[0m\n",
      "\u001b[94m-----------------------------------------\u001b[0m\n",
      " Step |   Time |      Value |        x1 | \n",
      "    2 | 00m01s | \u001b[35m  -8.00096\u001b[0m | \u001b[32m  -2.6358\u001b[0m | \n",
      "\u001b[31mInitialization\u001b[0m\n",
      "\u001b[94m-----------------------------------------------------\u001b[0m\n",
      " Step |   Time |      Value |        x1 |        x2 | \n",
      "    1 | 00m00s | \u001b[35m -19.21080\u001b[0m | \u001b[32m  -3.1520\u001b[0m | \u001b[32m  -2.5470\u001b[0m | \n",
      "\u001b[31mBayesian Optimization\u001b[0m\n",
      "\u001b[94m-----------------------------------------------------\u001b[0m\n",
      " Step |   Time |      Value |        x1 |        x2 | \n",
      "    2 | 00m03s |  -21.81540 |    2.4299 |   -3.8785 | \n",
      "\u001b[31mInitialization\u001b[0m\n",
      "\u001b[94m-----------------------------------------------------------------\u001b[0m\n",
      " Step |   Time |      Value |        x1 |        x2 |        x3 | \n",
      "    1 | 00m00s | \u001b[35m -30.81832\u001b[0m | \u001b[32m  -3.3228\u001b[0m | \u001b[32m   3.3827\u001b[0m | \u001b[32m   2.1689\u001b[0m | \n",
      "\u001b[31mBayesian Optimization\u001b[0m\n",
      "\u001b[94m-----------------------------------------------------------------\u001b[0m\n",
      " Step |   Time |      Value |        x1 |        x2 |        x3 | \n",
      "    2 | 00m02s | \u001b[35m -14.66352\u001b[0m | \u001b[32m   0.4291\u001b[0m | \u001b[32m  -0.1059\u001b[0m | \u001b[32m   3.4937\u001b[0m | \n",
      "\u001b[31mInitialization\u001b[0m\n",
      "\u001b[94m-----------------------------------------------------------------------------\u001b[0m\n",
      " Step |   Time |      Value |        x1 |        x2 |        x3 |        x4 | \n",
      "    1 | 00m00s | \u001b[35m -27.05257\u001b[0m | \u001b[32m   3.1880\u001b[0m | \u001b[32m  -2.0101\u001b[0m | \u001b[32m   1.1787\u001b[0m | \u001b[32m   2.5765\u001b[0m | \n",
      "\u001b[31mBayesian Optimization\u001b[0m\n",
      "\u001b[94m-----------------------------------------------------------------------------\u001b[0m\n",
      " Step |   Time |      Value |        x1 |        x2 |        x3 |        x4 | \n",
      "    2 | 00m03s | \u001b[35m -16.14256\u001b[0m | \u001b[32m   1.1559\u001b[0m | \u001b[32m  -1.9512\u001b[0m | \u001b[32m  -2.6064\u001b[0m | \u001b[32m   0.5058\u001b[0m | \n",
      "\u001b[31mInitialization\u001b[0m\n",
      "\u001b[94m-----------------------------------------------------------------------------------------\u001b[0m\n",
      " Step |   Time |      Value |        x1 |        x2 |        x3 |        x4 |        x5 | \n",
      "    1 | 00m00s | \u001b[35m -28.67529\u001b[0m | \u001b[32m   1.6587\u001b[0m | \u001b[32m  -3.8769\u001b[0m | \u001b[32m   1.1309\u001b[0m | \u001b[32m   1.0178\u001b[0m | \u001b[32m   1.5737\u001b[0m | \n",
      "\u001b[31mBayesian Optimization\u001b[0m\n",
      "\u001b[94m-----------------------------------------------------------------------------------------\u001b[0m\n",
      " Step |   Time |      Value |        x1 |        x2 |        x3 |        x4 |        x5 | \n",
      "    2 | 00m06s | \u001b[35m -26.91919\u001b[0m | \u001b[32m   0.4190\u001b[0m | \u001b[32m   1.7809\u001b[0m | \u001b[32m   1.2101\u001b[0m | \u001b[32m   1.3373\u001b[0m | \u001b[32m  -3.9227\u001b[0m | \n",
      "\u001b[31mBayesian Optimization\u001b[0m\n",
      "\u001b[94m-----------------------------------------\u001b[0m\n",
      " Step |   Time |      Value |        x1 | \n",
      "    3 | 00m01s |  -16.15615 |   -4.0000 | \n",
      "\u001b[31mBayesian Optimization\u001b[0m\n",
      "\u001b[94m-----------------------------------------------------\u001b[0m\n",
      " Step |   Time |      Value |        x1 |        x2 | \n",
      "    3 | 00m01s |  -29.24861 |   -3.5634 |    3.8410 | \n",
      "\u001b[31mBayesian Optimization\u001b[0m\n",
      "\u001b[94m-----------------------------------------------------------------\u001b[0m\n",
      " Step |   Time |      Value |        x1 |        x2 |        x3 | \n",
      "    3 | 00m01s |  -27.96718 |    3.7321 |   -2.8504 |   -1.5929 | \n",
      "\u001b[31mBayesian Optimization\u001b[0m\n",
      "\u001b[94m-----------------------------------------------------------------------------\u001b[0m\n",
      " Step |   Time |      Value |        x1 |        x2 |        x3 |        x4 | \n",
      "    3 | 00m04s |  -64.62458 |   -4.0000 |   -4.0000 |   -4.0000 |   -4.0000 | \n",
      "\u001b[31mBayesian Optimization\u001b[0m\n",
      "\u001b[94m-----------------------------------------------------------------------------------------\u001b[0m\n",
      " Step |   Time |      Value |        x1 |        x2 |        x3 |        x4 |        x5 | \n",
      "    3 | 00m06s |  -66.20901 |   -4.0000 |    0.5993 |   -4.0000 |   -4.0000 |   -4.0000 | \n",
      "\u001b[31mBayesian Optimization\u001b[0m\n",
      "\u001b[94m-----------------------------------------\u001b[0m\n",
      " Step |   Time |      Value |        x1 | \n",
      "    4 | 00m02s | \u001b[35m  -0.09286\u001b[0m | \u001b[32m  -0.1306\u001b[0m | \n",
      "\u001b[31mBayesian Optimization\u001b[0m\n",
      "\u001b[94m-----------------------------------------------------\u001b[0m\n",
      " Step |   Time |      Value |        x1 |        x2 | \n",
      "    4 | 00m02s |  -32.27461 |   -3.9941 |   -4.0000 | \n",
      "\u001b[31mBayesian Optimization\u001b[0m\n",
      "\u001b[94m-----------------------------------------------------------------\u001b[0m\n",
      " Step |   Time |      Value |        x1 |        x2 |        x3 | \n",
      "    4 | 00m03s |  -48.46844 |   -4.0000 |   -4.0000 |   -4.0000 | \n",
      "\u001b[31mBayesian Optimization\u001b[0m\n",
      "\u001b[94m-----------------------------------------------------------------------------\u001b[0m\n",
      " Step |   Time |      Value |        x1 |        x2 |        x3 |        x4 | \n",
      "    4 | 00m06s |  -51.54044 |   -2.1497 |    3.7899 |    3.9421 |    3.9921 | \n",
      "\u001b[31mBayesian Optimization\u001b[0m\n",
      "\u001b[94m-----------------------------------------------------------------------------------------\u001b[0m\n",
      " Step |   Time |      Value |        x1 |        x2 |        x3 |        x4 |        x5 | \n",
      "    4 | 00m07s |  -55.47128 |    3.3928 |    3.7728 |    2.8372 |    0.9272 |   -3.7601 | \n",
      "\u001b[31mBayesian Optimization\u001b[0m\n",
      "\u001b[94m-----------------------------------------\u001b[0m\n",
      " Step |   Time |      Value |        x1 | \n",
      "    5 | 00m02s | \u001b[35m  -0.06740\u001b[0m | \u001b[32m  -0.1111\u001b[0m | \n",
      "\u001b[31mBayesian Optimization\u001b[0m\n",
      "\u001b[94m-----------------------------------------------------\u001b[0m\n",
      " Step |   Time |      Value |        x1 |        x2 | \n",
      "    5 | 00m04s |  -28.87260 |    3.6740 |    3.6576 | \n",
      "\u001b[31mBayesian Optimization\u001b[0m\n",
      "\u001b[94m-----------------------------------------------------------------\u001b[0m\n",
      " Step |   Time |      Value |        x1 |        x2 |        x3 | \n",
      "    5 | 00m06s |  -42.28289 |    3.6118 |    3.8072 |    3.3426 | \n",
      "\u001b[31mBayesian Optimization\u001b[0m\n",
      "\u001b[94m-----------------------------------------------------------------------------\u001b[0m\n",
      " Step |   Time |      Value |        x1 |        x2 |        x3 |        x4 | \n",
      "    5 | 00m10s |  -40.35522 |    3.4848 |   -3.6038 |   -3.2524 |    0.0193 | \n",
      "\u001b[31mBayesian Optimization\u001b[0m\n",
      "\u001b[94m-----------------------------------------------------------------------------------------\u001b[0m\n",
      " Step |   Time |      Value |        x1 |        x2 |        x3 |        x4 |        x5 | \n",
      "    5 | 00m07s |  -38.78778 |   -3.6539 |   -0.3166 |    2.3475 |    2.4092 |    3.1434 | \n",
      "\u001b[31mBayesian Optimization\u001b[0m\n",
      "\u001b[94m-----------------------------------------\u001b[0m\n",
      " Step |   Time |      Value |        x1 | \n",
      "    6 | 00m02s |   -0.06746 |    0.1112 | \n",
      "\u001b[31mBayesian Optimization\u001b[0m\n",
      "\u001b[94m-----------------------------------------------------\u001b[0m\n",
      " Step |   Time |      Value |        x1 |        x2 | \n",
      "    6 | 00m04s | \u001b[35m -10.13679\u001b[0m | \u001b[32m  -2.4743\u001b[0m | \u001b[32m  -1.3357\u001b[0m | \n",
      "\u001b[31mBayesian Optimization\u001b[0m\n",
      "\u001b[94m-----------------------------------------------------------------\u001b[0m\n",
      " Step |   Time |      Value |        x1 |        x2 |        x3 | \n",
      "    6 | 00m05s |  -35.83539 |    2.3956 |   -3.8818 |    3.6229 | \n",
      "\u001b[31mBayesian Optimization\u001b[0m\n",
      "\u001b[94m-----------------------------------------------------------------------------\u001b[0m\n",
      " Step |   Time |      Value |        x1 |        x2 |        x3 |        x4 | \n",
      "    6 | 00m07s |  -48.44150 |    3.4664 |    3.9400 |   -3.6601 |    2.1555 | \n",
      "\u001b[31mBayesian Optimization\u001b[0m\n",
      "\u001b[94m-----------------------------------------------------------------------------------------\u001b[0m\n",
      " Step |   Time |      Value |        x1 |        x2 |        x3 |        x4 |        x5 | \n",
      "    6 | 00m07s |  -51.83721 |    2.6778 |   -3.6538 |   -1.9058 |    3.5237 |   -3.0827 | \n",
      "\u001b[31mBayesian Optimization\u001b[0m\n",
      "\u001b[94m-----------------------------------------\u001b[0m\n",
      " Step |   Time |      Value |        x1 | \n",
      "    7 | 00m02s |   -3.19543 |    1.0988 | \n",
      "\u001b[31mBayesian Optimization\u001b[0m\n",
      "\u001b[94m-----------------------------------------------------\u001b[0m\n",
      " Step |   Time |      Value |        x1 |        x2 | \n",
      "    7 | 00m05s | \u001b[35m  -7.49558\u001b[0m | \u001b[32m  -2.1674\u001b[0m | \u001b[32m  -0.9199\u001b[0m | \n",
      "\u001b[31mBayesian Optimization\u001b[0m\n",
      "\u001b[94m-----------------------------------------------------------------\u001b[0m\n",
      " Step |   Time |      Value |        x1 |        x2 |        x3 | \n",
      "    7 | 00m05s |  -19.78770 |   -0.8649 |   -0.9306 |    3.6528 | \n",
      "\u001b[31mBayesian Optimization\u001b[0m\n",
      "\u001b[94m-----------------------------------------------------------------------------\u001b[0m\n",
      " Step |   Time |      Value |        x1 |        x2 |        x3 |        x4 | \n",
      "    7 | 00m08s |  -22.31698 |   -0.2678 |   -1.9292 |   -3.3045 |    2.2711 | \n",
      "\u001b[31mBayesian Optimization\u001b[0m\n",
      "\u001b[94m-----------------------------------------------------------------------------------------\u001b[0m\n",
      " Step |   Time |      Value |        x1 |        x2 |        x3 |        x4 |        x5 | \n",
      "    7 | 00m07s |  -44.86397 |    3.8352 |   -2.8921 |    1.2317 |   -2.5359 |    2.7552 | \n",
      "\u001b[31mBayesian Optimization\u001b[0m\n",
      "\u001b[94m-----------------------------------------\u001b[0m\n",
      " Step |   Time |      Value |        x1 | \n",
      "    8 | 00m02s | \u001b[35m  -0.00012\u001b[0m | \u001b[32m  -0.0047\u001b[0m | \n",
      "\u001b[31mBayesian Optimization\u001b[0m\n",
      "\u001b[94m-----------------------------------------------------\u001b[0m\n",
      " Step |   Time |      Value |        x1 |        x2 | \n",
      "    8 | 00m04s | \u001b[35m  -5.16005\u001b[0m | \u001b[32m  -1.7211\u001b[0m | \u001b[32m  -0.6113\u001b[0m | \n",
      "\u001b[31mBayesian Optimization\u001b[0m\n",
      "\u001b[94m-----------------------------------------------------------------\u001b[0m\n",
      " Step |   Time |      Value |        x1 |        x2 |        x3 | \n",
      "    8 | 00m05s |  -39.59477 |    2.8984 |    3.8125 |   -3.6436 | \n",
      "\u001b[31mBayesian Optimization\u001b[0m\n",
      "\u001b[94m-----------------------------------------------------------------------------\u001b[0m\n",
      " Step |   Time |      Value |        x1 |        x2 |        x3 |        x4 | \n",
      "    8 | 00m07s |  -35.03446 |    2.2194 |    1.3521 |    2.9940 |   -3.9303 | \n",
      "\u001b[31mBayesian Optimization\u001b[0m\n",
      "\u001b[94m-----------------------------------------------------------------------------------------\u001b[0m\n",
      " Step |   Time |      Value |        x1 |        x2 |        x3 |        x4 |        x5 | \n",
      "    8 | 00m07s |  -44.33348 |   -1.5342 |    3.1192 |    2.6373 |    2.6438 |   -3.3560 | \n",
      "\u001b[31mBayesian Optimization\u001b[0m\n",
      "\u001b[94m-----------------------------------------\u001b[0m\n",
      " Step |   Time |      Value |        x1 | \n",
      "    9 | 00m02s | \u001b[35m  -0.00005\u001b[0m | \u001b[32m  -0.0029\u001b[0m | \n",
      "\u001b[31mBayesian Optimization\u001b[0m\n",
      "\u001b[94m-----------------------------------------------------\u001b[0m\n",
      " Step |   Time |      Value |        x1 |        x2 | \n",
      "    9 | 00m04s | \u001b[35m  -4.23600\u001b[0m | \u001b[32m  -1.3804\u001b[0m | \u001b[32m  -0.3978\u001b[0m | \n",
      "\u001b[31mBayesian Optimization\u001b[0m\n",
      "\u001b[94m-----------------------------------------------------------------\u001b[0m\n",
      " Step |   Time |      Value |        x1 |        x2 |        x3 | \n",
      "    9 | 00m05s | \u001b[35m -14.50533\u001b[0m | \u001b[32m   0.0719\u001b[0m | \u001b[32m   1.1957\u001b[0m | \u001b[32m   3.0328\u001b[0m | \n",
      "\u001b[31mBayesian Optimization\u001b[0m\n",
      "\u001b[94m-----------------------------------------------------------------------------\u001b[0m\n",
      " Step |   Time |      Value |        x1 |        x2 |        x3 |        x4 | \n",
      "    9 | 00m07s | \u001b[35m -10.30658\u001b[0m | \u001b[32m   0.2076\u001b[0m | \u001b[32m  -1.1315\u001b[0m | \u001b[32m  -2.3450\u001b[0m | \u001b[32m   0.4695\u001b[0m | \n",
      "\u001b[31mBayesian Optimization\u001b[0m\n",
      "\u001b[94m-----------------------------------------------------------------------------------------\u001b[0m\n",
      " Step |   Time |      Value |        x1 |        x2 |        x3 |        x4 |        x5 | \n",
      "    9 | 00m06s |  -48.68613 |    2.2876 |    3.4185 |   -2.9969 |    3.4544 |    2.3066 | \n",
      "\u001b[31mBayesian Optimization\u001b[0m\n",
      "\u001b[94m-----------------------------------------\u001b[0m\n",
      " Step |   Time |      Value |        x1 | \n"
     ]
    },
    {
     "name": "stderr",
     "output_type": "stream",
     "text": [
      "/Users/tsuzuki/anaconda3/lib/python3.4/site-packages/sklearn/gaussian_process/gpr.py:427: UserWarning: fmin_l_bfgs_b terminated abnormally with the  state: {'grad': array([ 0.00098913]), 'warnflag': 2, 'task': b'ABNORMAL_TERMINATION_IN_LNSRCH', 'nit': 4, 'funcalls': 52}\n",
      "  \" state: %s\" % convergence_dict)\n",
      "/Users/tsuzuki/anaconda3/lib/python3.4/site-packages/sklearn/gaussian_process/gpr.py:427: UserWarning: fmin_l_bfgs_b terminated abnormally with the  state: {'grad': array([ -4.36274705e-05]), 'warnflag': 2, 'task': b'ABNORMAL_TERMINATION_IN_LNSRCH', 'nit': 5, 'funcalls': 51}\n",
      "  \" state: %s\" % convergence_dict)\n"
     ]
    },
    {
     "name": "stdout",
     "output_type": "stream",
     "text": [
      "   10 | 00m02s | \u001b[35m  -0.00000\u001b[0m | \u001b[32m  -0.0004\u001b[0m | \n",
      "\u001b[31mBayesian Optimization\u001b[0m\n",
      "\u001b[94m-----------------------------------------------------\u001b[0m\n",
      " Step |   Time |      Value |        x1 |        x2 | \n",
      "   10 | 00m04s | \u001b[35m  -3.91937\u001b[0m | \u001b[32m  -1.1725\u001b[0m | \u001b[32m  -0.3468\u001b[0m | \n",
      "\u001b[31mBayesian Optimization\u001b[0m\n",
      "\u001b[94m-----------------------------------------------------------------\u001b[0m\n",
      " Step |   Time |      Value |        x1 |        x2 |        x3 | \n",
      "   10 | 00m05s |  -15.57703 |   -0.0821 |    0.6593 |    3.4963 | \n",
      "\u001b[31mBayesian Optimization\u001b[0m\n",
      "\u001b[94m-----------------------------------------------------------------------------\u001b[0m\n",
      " Step |   Time |      Value |        x1 |        x2 |        x3 |        x4 | \n",
      "   10 | 00m07s | \u001b[35m  -8.41026\u001b[0m | \u001b[32m   0.1427\u001b[0m | \u001b[32m  -1.0540\u001b[0m | \u001b[32m  -2.1443\u001b[0m | \u001b[32m   0.3362\u001b[0m | \n",
      "\u001b[31mBayesian Optimization\u001b[0m\n",
      "\u001b[94m-----------------------------------------------------------------------------------------\u001b[0m\n",
      " Step |   Time |      Value |        x1 |        x2 |        x3 |        x4 |        x5 | \n",
      "   10 | 00m06s |  -41.65034 |   -3.2354 |   -3.8812 |    1.5234 |   -0.2776 |    2.8665 | \n",
      "\u001b[31mBayesian Optimization\u001b[0m\n",
      "\u001b[94m-----------------------------------------\u001b[0m\n",
      " Step |   Time |      Value |        x1 | \n"
     ]
    },
    {
     "name": "stderr",
     "output_type": "stream",
     "text": [
      "/Users/tsuzuki/anaconda3/lib/python3.4/site-packages/sklearn/gaussian_process/gpr.py:427: UserWarning: fmin_l_bfgs_b terminated abnormally with the  state: {'grad': array([-0.00030886]), 'warnflag': 2, 'task': b'ABNORMAL_TERMINATION_IN_LNSRCH', 'nit': 4, 'funcalls': 55}\n",
      "  \" state: %s\" % convergence_dict)\n",
      "/Users/tsuzuki/anaconda3/lib/python3.4/site-packages/sklearn/gaussian_process/gpr.py:427: UserWarning: fmin_l_bfgs_b terminated abnormally with the  state: {'grad': array([-0.00421078]), 'warnflag': 2, 'task': b'ABNORMAL_TERMINATION_IN_LNSRCH', 'nit': 4, 'funcalls': 55}\n",
      "  \" state: %s\" % convergence_dict)\n"
     ]
    },
    {
     "name": "stdout",
     "output_type": "stream",
     "text": [
      "   11 | 00m03s | \u001b[35m  -0.00000\u001b[0m | \u001b[32m  -0.0001\u001b[0m | \n",
      "\u001b[31mBayesian Optimization\u001b[0m\n",
      "\u001b[94m-----------------------------------------------------\u001b[0m\n",
      " Step |   Time |      Value |        x1 |        x2 | \n",
      "   11 | 00m05s | \u001b[35m  -3.59595\u001b[0m | \u001b[32m  -0.9859\u001b[0m | \u001b[32m  -0.3548\u001b[0m | \n",
      "\u001b[31mBayesian Optimization\u001b[0m\n",
      "\u001b[94m-----------------------------------------------------------------\u001b[0m\n",
      " Step |   Time |      Value |        x1 |        x2 |        x3 | \n",
      "   11 | 00m05s | \u001b[35m  -8.49933\u001b[0m | \u001b[32m   0.1032\u001b[0m | \u001b[32m   0.7404\u001b[0m | \u001b[32m   2.4187\u001b[0m | \n",
      "\u001b[31mBayesian Optimization\u001b[0m\n",
      "\u001b[94m-----------------------------------------------------------------------------\u001b[0m\n",
      " Step |   Time |      Value |        x1 |        x2 |        x3 |        x4 | \n",
      "   11 | 00m07s | \u001b[35m  -7.03002\u001b[0m | \u001b[32m  -1.0463\u001b[0m | \u001b[32m  -0.2439\u001b[0m | \u001b[32m  -1.8094\u001b[0m | \u001b[32m   0.0204\u001b[0m | \n",
      "\u001b[31mBayesian Optimization\u001b[0m\n",
      "\u001b[94m-----------------------------------------------------------------------------------------\u001b[0m\n",
      " Step |   Time |      Value |        x1 |        x2 |        x3 |        x4 |        x5 | \n",
      "   11 | 00m06s |  -40.66347 |    0.1928 |   -2.9917 |    3.8266 |    3.6655 |    0.0034 | \n",
      "4\n",
      "\u001b[31mInitialization\u001b[0m\n",
      "\u001b[94m-----------------------------------------\u001b[0m\n",
      " Step |   Time |      Value |        x1 | \n",
      "    1 | 00m00s | \u001b[35m  -3.18106\u001b[0m | \u001b[32m   1.0907\u001b[0m | \n",
      "\u001b[31mBayesian Optimization\u001b[0m\n",
      "\u001b[94m-----------------------------------------\u001b[0m\n",
      " Step |   Time |      Value |        x1 | \n",
      "    2 | 00m02s |  -16.15615 |   -4.0000 | \n",
      "\u001b[31mInitialization\u001b[0m\n",
      "\u001b[94m-----------------------------------------------------\u001b[0m\n",
      " Step |   Time |      Value |        x1 |        x2 | \n",
      "    1 | 00m00s | \u001b[35m  -3.99731\u001b[0m | \u001b[32m   0.3542\u001b[0m | \u001b[32m   1.2214\u001b[0m | \n",
      "\u001b[31mBayesian Optimization\u001b[0m\n",
      "\u001b[94m-----------------------------------------------------\u001b[0m\n",
      " Step |   Time |      Value |        x1 |        x2 | \n",
      "    2 | 00m02s |  -21.82524 |    3.0497 |    2.9528 | \n",
      "\u001b[31mInitialization\u001b[0m\n",
      "\u001b[94m-----------------------------------------------------------------\u001b[0m\n",
      " Step |   Time |      Value |        x1 |        x2 |        x3 | \n",
      "    1 | 00m00s | \u001b[35m -38.67980\u001b[0m | \u001b[32m  -3.1472\u001b[0m | \u001b[32m   3.5049\u001b[0m | \u001b[32m   3.3490\u001b[0m | \n",
      "\u001b[31mBayesian Optimization\u001b[0m\n",
      "\u001b[94m-----------------------------------------------------------------\u001b[0m\n",
      " Step |   Time |      Value |        x1 |        x2 |        x3 | \n",
      "    2 | 00m02s | \u001b[35m -33.55751\u001b[0m | \u001b[32m   3.7847\u001b[0m | \u001b[32m   2.6729\u001b[0m | \u001b[32m   2.9152\u001b[0m | \n",
      "\u001b[31mInitialization\u001b[0m\n",
      "\u001b[94m-----------------------------------------------------------------------------\u001b[0m\n",
      " Step |   Time |      Value |        x1 |        x2 |        x3 |        x4 | \n",
      "    1 | 00m00s | \u001b[35m -19.85222\u001b[0m | \u001b[32m   2.7102\u001b[0m | \u001b[32m   0.5405\u001b[0m | \u001b[32m   2.1368\u001b[0m | \u001b[32m   2.2747\u001b[0m | \n",
      "\u001b[31mBayesian Optimization\u001b[0m\n",
      "\u001b[94m-----------------------------------------------------------------------------\u001b[0m\n",
      " Step |   Time |      Value |        x1 |        x2 |        x3 |        x4 | \n",
      "    2 | 00m03s |  -36.86169 |   -2.3322 |    1.3563 |    3.2391 |    3.8488 | \n",
      "\u001b[31mInitialization\u001b[0m\n",
      "\u001b[94m-----------------------------------------------------------------------------------------\u001b[0m\n",
      " Step |   Time |      Value |        x1 |        x2 |        x3 |        x4 |        x5 | \n",
      "    1 | 00m00s | \u001b[35m -28.48353\u001b[0m | \u001b[32m   2.3644\u001b[0m | \u001b[32m   2.3035\u001b[0m | \u001b[32m   1.2478\u001b[0m | \u001b[32m  -0.3418\u001b[0m | \u001b[32m   3.3650\u001b[0m | \n",
      "\u001b[31mBayesian Optimization\u001b[0m\n",
      "\u001b[94m-----------------------------------------------------------------------------------------\u001b[0m\n",
      " Step |   Time |      Value |        x1 |        x2 |        x3 |        x4 |        x5 | \n",
      "    2 | 00m06s |  -36.69178 |    1.6687 |   -0.9595 |   -1.7997 |   -3.0127 |    3.9251 | \n",
      "\u001b[31mBayesian Optimization\u001b[0m\n",
      "\u001b[94m-----------------------------------------\u001b[0m\n",
      " Step |   Time |      Value |        x1 | \n",
      "    3 | 00m02s |  -15.73746 |    3.9310 | \n",
      "\u001b[31mBayesian Optimization\u001b[0m\n",
      "\u001b[94m-----------------------------------------------------\u001b[0m\n",
      " Step |   Time |      Value |        x1 |        x2 | \n",
      "    3 | 00m02s |  -21.05509 |    3.4977 |   -2.5549 | \n",
      "\u001b[31mBayesian Optimization\u001b[0m\n",
      "\u001b[94m-----------------------------------------------------------------\u001b[0m\n",
      " Step |   Time |      Value |        x1 |        x2 |        x3 | \n",
      "    3 | 00m04s |  -48.46844 |   -4.0000 |   -4.0000 |   -4.0000 | \n",
      "\u001b[31mBayesian Optimization\u001b[0m\n",
      "\u001b[94m-----------------------------------------------------------------------------\u001b[0m\n",
      " Step |   Time |      Value |        x1 |        x2 |        x3 |        x4 | \n",
      "    3 | 00m04s |  -64.62458 |   -4.0000 |   -4.0000 |   -4.0000 |   -4.0000 | \n",
      "\u001b[31mBayesian Optimization\u001b[0m\n",
      "\u001b[94m-----------------------------------------------------------------------------------------\u001b[0m\n",
      " Step |   Time |      Value |        x1 |        x2 |        x3 |        x4 |        x5 | \n",
      "    3 | 00m04s |  -48.27238 |   -3.7961 |    2.4793 |   -0.4431 |    3.3796 |   -3.2246 | \n",
      "\u001b[31mBayesian Optimization\u001b[0m\n",
      "\u001b[94m-----------------------------------------\u001b[0m\n",
      " Step |   Time |      Value |        x1 | \n",
      "    4 | 00m02s | \u001b[35m  -0.00094\u001b[0m | \u001b[32m  -0.0131\u001b[0m | \n",
      "\u001b[31mBayesian Optimization\u001b[0m\n",
      "\u001b[94m-----------------------------------------------------\u001b[0m\n",
      " Step |   Time |      Value |        x1 |        x2 | \n",
      "    4 | 00m01s |   -9.00565 |   -2.3096 |   -1.5883 | \n",
      "\u001b[31mBayesian Optimization\u001b[0m\n",
      "\u001b[94m-----------------------------------------------------------------\u001b[0m\n",
      " Step |   Time |      Value |        x1 |        x2 |        x3 | \n",
      "    4 | 00m04s |  -38.08042 |    3.0135 |    3.4416 |    3.4729 | \n",
      "\u001b[31mBayesian Optimization\u001b[0m\n",
      "\u001b[94m-----------------------------------------------------------------------------\u001b[0m\n",
      " Step |   Time |      Value |        x1 |        x2 |        x3 |        x4 | \n",
      "    4 | 00m06s |  -48.16919 |    3.4135 |    2.9720 |    3.1823 |   -3.1636 | \n",
      "\u001b[31mBayesian Optimization\u001b[0m\n",
      "\u001b[94m-----------------------------------------------------------------------------------------\u001b[0m\n",
      " Step |   Time |      Value |        x1 |        x2 |        x3 |        x4 |        x5 | \n",
      "    4 | 00m04s |  -56.19461 |    4.0000 |    3.7048 |    2.6780 |   -0.4345 |    4.0000 | \n",
      "\u001b[31mBayesian Optimization\u001b[0m\n",
      "\u001b[94m-----------------------------------------\u001b[0m\n",
      " Step |   Time |      Value |        x1 | \n",
      "    5 | 00m02s |   -0.34142 |   -0.2541 | \n",
      "\u001b[31mBayesian Optimization\u001b[0m\n",
      "\u001b[94m-----------------------------------------------------\u001b[0m\n",
      " Step |   Time |      Value |        x1 |        x2 | \n",
      "    5 | 00m01s |  -25.00550 |   -2.8631 |    3.8185 | \n",
      "\u001b[31mBayesian Optimization\u001b[0m\n",
      "\u001b[94m-----------------------------------------------------------------\u001b[0m\n",
      " Step |   Time |      Value |        x1 |        x2 |        x3 | \n",
      "    5 | 00m04s | \u001b[35m -32.22786\u001b[0m | \u001b[32m   3.9998\u001b[0m | \u001b[32m  -1.4825\u001b[0m | \u001b[32m   3.2688\u001b[0m | \n",
      "\u001b[31mBayesian Optimization\u001b[0m\n",
      "\u001b[94m-----------------------------------------------------------------------------\u001b[0m\n",
      " Step |   Time |      Value |        x1 |        x2 |        x3 |        x4 | \n",
      "    5 | 00m06s |  -48.63000 |    3.8642 |    0.9192 |    3.7471 |    3.9229 | \n",
      "\u001b[31mBayesian Optimization\u001b[0m\n",
      "\u001b[94m-----------------------------------------------------------------------------------------\u001b[0m\n",
      " Step |   Time |      Value |        x1 |        x2 |        x3 |        x4 |        x5 | \n",
      "    5 | 00m06s |  -80.78073 |   -4.0000 |   -4.0000 |   -4.0000 |   -4.0000 |   -4.0000 | \n",
      "\u001b[31mBayesian Optimization\u001b[0m\n",
      "\u001b[94m-----------------------------------------\u001b[0m\n",
      " Step |   Time |      Value |        x1 | \n",
      "    6 | 00m02s |   -0.00327 |    0.0244 | \n",
      "\u001b[31mBayesian Optimization\u001b[0m\n",
      "\u001b[94m-----------------------------------------------------\u001b[0m\n",
      " Step |   Time |      Value |        x1 |        x2 | \n",
      "    6 | 00m03s |  -32.31229 |   -4.0000 |   -4.0000 | \n",
      "\u001b[31mBayesian Optimization\u001b[0m\n",
      "\u001b[94m-----------------------------------------------------------------\u001b[0m\n",
      " Step |   Time |      Value |        x1 |        x2 |        x3 | \n",
      "    6 | 00m04s | \u001b[35m -27.37876\u001b[0m | \u001b[32m   2.7802\u001b[0m | \u001b[32m   1.0666\u001b[0m | \u001b[32m  -3.7998\u001b[0m | \n",
      "\u001b[31mBayesian Optimization\u001b[0m\n",
      "\u001b[94m-----------------------------------------------------------------------------\u001b[0m\n",
      " Step |   Time |      Value |        x1 |        x2 |        x3 |        x4 | \n",
      "    6 | 00m07s |  -49.32297 |    3.4981 |    2.4031 |   -3.5946 |    3.8509 | \n",
      "\u001b[31mBayesian Optimization\u001b[0m\n",
      "\u001b[94m-----------------------------------------------------------------------------------------\u001b[0m\n",
      " Step |   Time |      Value |        x1 |        x2 |        x3 |        x4 |        x5 | \n",
      "    6 | 00m08s |  -49.50154 |    1.7344 |   -3.6584 |    3.6476 |    3.5616 |   -1.1086 | \n",
      "\u001b[31mBayesian Optimization\u001b[0m\n",
      "\u001b[94m-----------------------------------------\u001b[0m\n",
      " Step |   Time |      Value |        x1 | \n",
      "    7 | 00m03s | \u001b[35m  -0.00000\u001b[0m | \u001b[32m   0.0003\u001b[0m | \n",
      "\u001b[31mBayesian Optimization\u001b[0m\n",
      "\u001b[94m-----------------------------------------------------\u001b[0m\n",
      " Step |   Time |      Value |        x1 |        x2 | \n",
      "    7 | 00m04s |   -4.47016 |   -1.5616 |   -0.4553 | \n",
      "\u001b[31mBayesian Optimization\u001b[0m\n",
      "\u001b[94m-----------------------------------------------------------------\u001b[0m\n",
      " Step |   Time |      Value |        x1 |        x2 |        x3 | \n",
      "    7 | 00m04s | \u001b[35m -25.27970\u001b[0m | \u001b[32m   3.7522\u001b[0m | \u001b[32m   0.4336\u001b[0m | \u001b[32m  -2.8219\u001b[0m | \n",
      "\u001b[31mBayesian Optimization\u001b[0m\n",
      "\u001b[94m-----------------------------------------------------------------------------\u001b[0m\n",
      " Step |   Time |      Value |        x1 |        x2 |        x3 |        x4 | \n",
      "    7 | 00m07s |  -29.57867 |    1.4737 |   -3.3462 |    2.8359 |    1.4280 | \n",
      "\u001b[31mBayesian Optimization\u001b[0m\n",
      "\u001b[94m-----------------------------------------------------------------------------------------\u001b[0m\n",
      " Step |   Time |      Value |        x1 |        x2 |        x3 |        x4 |        x5 | \n",
      "    7 | 00m07s |  -48.45643 |   -3.7901 |    3.4804 |   -1.7878 |   -0.6729 |    3.6439 | \n",
      "\u001b[31mBayesian Optimization\u001b[0m\n",
      "\u001b[94m-----------------------------------------\u001b[0m\n",
      " Step |   Time |      Value |        x1 | \n"
     ]
    },
    {
     "name": "stderr",
     "output_type": "stream",
     "text": [
      "/Users/tsuzuki/anaconda3/lib/python3.4/site-packages/sklearn/gaussian_process/gpr.py:427: UserWarning: fmin_l_bfgs_b terminated abnormally with the  state: {'grad': array([-0.00058874]), 'warnflag': 2, 'task': b'ABNORMAL_TERMINATION_IN_LNSRCH', 'nit': 4, 'funcalls': 48}\n",
      "  \" state: %s\" % convergence_dict)\n"
     ]
    },
    {
     "name": "stdout",
     "output_type": "stream",
     "text": [
      "    8 | 00m02s |   -0.00000 |   -0.0008 | \n",
      "\u001b[31mBayesian Optimization\u001b[0m\n",
      "\u001b[94m-----------------------------------------------------\u001b[0m\n",
      " Step |   Time |      Value |        x1 |        x2 | \n",
      "    8 | 00m04s | \u001b[35m  -1.41401\u001b[0m | \u001b[32m  -0.2154\u001b[0m | \u001b[32m   0.4967\u001b[0m | \n",
      "\u001b[31mBayesian Optimization\u001b[0m\n",
      "\u001b[94m-----------------------------------------------------------------\u001b[0m\n",
      " Step |   Time |      Value |        x1 |        x2 |        x3 | \n",
      "    8 | 00m04s |  -34.72859 |    3.8143 |   -1.4401 |   -4.0000 | \n",
      "\u001b[31mBayesian Optimization\u001b[0m\n",
      "\u001b[94m-----------------------------------------------------------------------------\u001b[0m\n",
      " Step |   Time |      Value |        x1 |        x2 |        x3 |        x4 | \n",
      "    8 | 00m06s |  -42.93079 |   -3.7971 |    3.6869 |    0.2116 |   -3.3700 | \n",
      "\u001b[31mBayesian Optimization\u001b[0m\n",
      "\u001b[94m-----------------------------------------------------------------------------------------\u001b[0m\n",
      " Step |   Time |      Value |        x1 |        x2 |        x3 |        x4 |        x5 | \n",
      "    8 | 00m07s | \u001b[35m -24.16031\u001b[0m | \u001b[32m   2.5044\u001b[0m | \u001b[32m   2.2874\u001b[0m | \u001b[32m  -0.2208\u001b[0m | \u001b[32m  -1.1116\u001b[0m | \u001b[32m   2.6779\u001b[0m | \n",
      "\u001b[31mBayesian Optimization\u001b[0m\n",
      "\u001b[94m-----------------------------------------\u001b[0m\n",
      " Step |   Time |      Value |        x1 | \n"
     ]
    },
    {
     "name": "stderr",
     "output_type": "stream",
     "text": [
      "/Users/tsuzuki/anaconda3/lib/python3.4/site-packages/sklearn/gaussian_process/gpr.py:427: UserWarning: fmin_l_bfgs_b terminated abnormally with the  state: {'grad': array([-0.00033782]), 'warnflag': 2, 'task': b'ABNORMAL_TERMINATION_IN_LNSRCH', 'nit': 6, 'funcalls': 59}\n",
      "  \" state: %s\" % convergence_dict)\n",
      "/Users/tsuzuki/anaconda3/lib/python3.4/site-packages/sklearn/gaussian_process/gpr.py:427: UserWarning: fmin_l_bfgs_b terminated abnormally with the  state: {'grad': array([-0.00123287]), 'warnflag': 2, 'task': b'ABNORMAL_TERMINATION_IN_LNSRCH', 'nit': 3, 'funcalls': 70}\n",
      "  \" state: %s\" % convergence_dict)\n"
     ]
    },
    {
     "name": "stdout",
     "output_type": "stream",
     "text": [
      "    9 | 00m03s | \u001b[35m  -0.00000\u001b[0m | \u001b[32m   0.0000\u001b[0m | \n",
      "\u001b[31mBayesian Optimization\u001b[0m\n",
      "\u001b[94m-----------------------------------------------------\u001b[0m\n",
      " Step |   Time |      Value |        x1 |        x2 | \n",
      "    9 | 00m04s | \u001b[35m  -0.85697\u001b[0m | \u001b[32m  -0.2351\u001b[0m | \u001b[32m   0.3309\u001b[0m | \n",
      "\u001b[31mBayesian Optimization\u001b[0m\n",
      "\u001b[94m-----------------------------------------------------------------\u001b[0m\n",
      " Step |   Time |      Value |        x1 |        x2 |        x3 | \n",
      "    9 | 00m05s |  -48.30923 |    4.0000 |    3.9746 |   -4.0000 | \n",
      "\u001b[31mBayesian Optimization\u001b[0m\n",
      "\u001b[94m-----------------------------------------------------------------------------\u001b[0m\n",
      " Step |   Time |      Value |        x1 |        x2 |        x3 |        x4 | \n",
      "    9 | 00m07s | \u001b[35m -11.25401\u001b[0m | \u001b[32m   1.6051\u001b[0m | \u001b[32m   0.0274\u001b[0m | \u001b[32m   2.0913\u001b[0m | \u001b[32m   1.2773\u001b[0m | \n",
      "\u001b[31mBayesian Optimization\u001b[0m\n",
      "\u001b[94m-----------------------------------------------------------------------------------------\u001b[0m\n",
      " Step |   Time |      Value |        x1 |        x2 |        x3 |        x4 |        x5 | \n",
      "    9 | 00m07s | \u001b[35m -22.82881\u001b[0m | \u001b[32m   2.4470\u001b[0m | \u001b[32m   2.1182\u001b[0m | \u001b[32m  -1.0543\u001b[0m | \u001b[32m  -1.1050\u001b[0m | \u001b[32m   2.3081\u001b[0m | \n",
      "\u001b[31mBayesian Optimization\u001b[0m\n",
      "\u001b[94m-----------------------------------------\u001b[0m\n",
      " Step |   Time |      Value |        x1 | \n"
     ]
    },
    {
     "name": "stderr",
     "output_type": "stream",
     "text": [
      "/Users/tsuzuki/anaconda3/lib/python3.4/site-packages/sklearn/gaussian_process/gpr.py:427: UserWarning: fmin_l_bfgs_b terminated abnormally with the  state: {'grad': array([ -1.21374381e-05]), 'warnflag': 2, 'task': b'ABNORMAL_TERMINATION_IN_LNSRCH', 'nit': 6, 'funcalls': 73}\n",
      "  \" state: %s\" % convergence_dict)\n",
      "/Users/tsuzuki/anaconda3/lib/python3.4/site-packages/sklearn/gaussian_process/gpr.py:427: UserWarning: fmin_l_bfgs_b terminated abnormally with the  state: {'grad': array([-0.00011595]), 'warnflag': 2, 'task': b'ABNORMAL_TERMINATION_IN_LNSRCH', 'nit': 5, 'funcalls': 67}\n",
      "  \" state: %s\" % convergence_dict)\n",
      "/Users/tsuzuki/anaconda3/lib/python3.4/site-packages/sklearn/gaussian_process/gpr.py:427: UserWarning: fmin_l_bfgs_b terminated abnormally with the  state: {'grad': array([-0.00010588]), 'warnflag': 2, 'task': b'ABNORMAL_TERMINATION_IN_LNSRCH', 'nit': 6, 'funcalls': 71}\n",
      "  \" state: %s\" % convergence_dict)\n"
     ]
    },
    {
     "name": "stdout",
     "output_type": "stream",
     "text": [
      "   10 | 00m05s |   -0.00000 |    0.0000 | \n",
      "\u001b[31mBayesian Optimization\u001b[0m\n",
      "\u001b[94m-----------------------------------------------------\u001b[0m\n",
      " Step |   Time |      Value |        x1 |        x2 | \n",
      "   10 | 00m04s | \u001b[35m  -0.18112\u001b[0m | \u001b[32m  -0.1833\u001b[0m | \u001b[32m  -0.0038\u001b[0m | \n",
      "\u001b[31mBayesian Optimization\u001b[0m\n",
      "\u001b[94m-----------------------------------------------------------------\u001b[0m\n",
      " Step |   Time |      Value |        x1 |        x2 |        x3 | \n",
      "   10 | 00m05s | \u001b[35m -14.12800\u001b[0m | \u001b[32m   2.8985\u001b[0m | \u001b[32m   0.3166\u001b[0m | \u001b[32m  -1.5241\u001b[0m | \n",
      "\u001b[31mBayesian Optimization\u001b[0m\n",
      "\u001b[94m-----------------------------------------------------------------------------\u001b[0m\n",
      " Step |   Time |      Value |        x1 |        x2 |        x3 |        x4 | \n",
      "   10 | 00m07s |  -11.44805 |    1.0650 |   -0.3222 |    2.4954 |    0.4312 | \n",
      "\u001b[31mBayesian Optimization\u001b[0m\n",
      "\u001b[94m-----------------------------------------------------------------------------------------\u001b[0m\n",
      " Step |   Time |      Value |        x1 |        x2 |        x3 |        x4 |        x5 | \n",
      "   10 | 00m07s |  -22.83447 |    2.4262 |    2.4812 |   -1.0187 |    1.1245 |    1.5262 | \n"
     ]
    },
    {
     "name": "stderr",
     "output_type": "stream",
     "text": [
      "/Users/tsuzuki/anaconda3/lib/python3.4/site-packages/sklearn/gaussian_process/gpr.py:427: UserWarning: fmin_l_bfgs_b terminated abnormally with the  state: {'grad': array([  1.15363856e-05]), 'warnflag': 2, 'task': b'ABNORMAL_TERMINATION_IN_LNSRCH', 'nit': 6, 'funcalls': 60}\n",
      "  \" state: %s\" % convergence_dict)\n",
      "/Users/tsuzuki/anaconda3/lib/python3.4/site-packages/sklearn/gaussian_process/gpr.py:427: UserWarning: fmin_l_bfgs_b terminated abnormally with the  state: {'grad': array([ 0.00696254]), 'warnflag': 2, 'task': b'ABNORMAL_TERMINATION_IN_LNSRCH', 'nit': 5, 'funcalls': 63}\n",
      "  \" state: %s\" % convergence_dict)\n",
      "/Users/tsuzuki/anaconda3/lib/python3.4/site-packages/sklearn/gaussian_process/gpr.py:427: UserWarning: fmin_l_bfgs_b terminated abnormally with the  state: {'grad': array([ -5.84912014e-05]), 'warnflag': 2, 'task': b'ABNORMAL_TERMINATION_IN_LNSRCH', 'nit': 6, 'funcalls': 61}\n",
      "  \" state: %s\" % convergence_dict)\n"
     ]
    },
    {
     "name": "stdout",
     "output_type": "stream",
     "text": [
      "\u001b[31mBayesian Optimization\u001b[0m\n",
      "\u001b[94m-----------------------------------------\u001b[0m\n",
      " Step |   Time |      Value |        x1 | \n"
     ]
    },
    {
     "name": "stderr",
     "output_type": "stream",
     "text": [
      "/Users/tsuzuki/anaconda3/lib/python3.4/site-packages/sklearn/gaussian_process/gpr.py:427: UserWarning: fmin_l_bfgs_b terminated abnormally with the  state: {'grad': array([-0.00035668]), 'warnflag': 2, 'task': b'ABNORMAL_TERMINATION_IN_LNSRCH', 'nit': 5, 'funcalls': 50}\n",
      "  \" state: %s\" % convergence_dict)\n",
      "/Users/tsuzuki/anaconda3/lib/python3.4/site-packages/sklearn/gaussian_process/gpr.py:427: UserWarning: fmin_l_bfgs_b terminated abnormally with the  state: {'grad': array([-0.00243977]), 'warnflag': 2, 'task': b'ABNORMAL_TERMINATION_IN_LNSRCH', 'nit': 4, 'funcalls': 73}\n",
      "  \" state: %s\" % convergence_dict)\n",
      "/Users/tsuzuki/anaconda3/lib/python3.4/site-packages/sklearn/gaussian_process/gpr.py:427: UserWarning: fmin_l_bfgs_b terminated abnormally with the  state: {'grad': array([ 0.00163136]), 'warnflag': 2, 'task': b'ABNORMAL_TERMINATION_IN_LNSRCH', 'nit': 5, 'funcalls': 57}\n",
      "  \" state: %s\" % convergence_dict)\n",
      "/Users/tsuzuki/anaconda3/lib/python3.4/site-packages/sklearn/gaussian_process/gpr.py:427: UserWarning: fmin_l_bfgs_b terminated abnormally with the  state: {'grad': array([ 0.0001659]), 'warnflag': 2, 'task': b'ABNORMAL_TERMINATION_IN_LNSRCH', 'nit': 3, 'funcalls': 51}\n",
      "  \" state: %s\" % convergence_dict)\n",
      "/Users/tsuzuki/anaconda3/lib/python3.4/site-packages/sklearn/gaussian_process/gpr.py:427: UserWarning: fmin_l_bfgs_b terminated abnormally with the  state: {'grad': array([-0.00257769]), 'warnflag': 2, 'task': b'ABNORMAL_TERMINATION_IN_LNSRCH', 'nit': 3, 'funcalls': 52}\n",
      "  \" state: %s\" % convergence_dict)\n",
      "/Users/tsuzuki/anaconda3/lib/python3.4/site-packages/sklearn/gaussian_process/gpr.py:427: UserWarning: fmin_l_bfgs_b terminated abnormally with the  state: {'grad': array([ 0.00159346]), 'warnflag': 2, 'task': b'ABNORMAL_TERMINATION_IN_LNSRCH', 'nit': 6, 'funcalls': 60}\n",
      "  \" state: %s\" % convergence_dict)\n"
     ]
    },
    {
     "name": "stdout",
     "output_type": "stream",
     "text": [
      "   11 | 00m05s | \u001b[35m  -0.00000\u001b[0m | \u001b[32m   0.0000\u001b[0m | \n",
      "\u001b[31mBayesian Optimization\u001b[0m\n",
      "\u001b[94m-----------------------------------------------------\u001b[0m\n",
      " Step |   Time |      Value |        x1 |        x2 | \n",
      "   11 | 00m04s | \u001b[35m  -0.15064\u001b[0m | \u001b[32m  -0.1375\u001b[0m | \u001b[32m  -0.0935\u001b[0m | \n",
      "\u001b[31mBayesian Optimization\u001b[0m\n",
      "\u001b[94m-----------------------------------------------------------------\u001b[0m\n",
      " Step |   Time |      Value |        x1 |        x2 |        x3 | \n",
      "   11 | 00m05s | \u001b[35m  -7.71724\u001b[0m | \u001b[32m   2.2137\u001b[0m | \u001b[32m   0.1381\u001b[0m | \u001b[32m  -0.8795\u001b[0m | \n",
      "\u001b[31mBayesian Optimization\u001b[0m\n",
      "\u001b[94m-----------------------------------------------------------------------------\u001b[0m\n",
      " Step |   Time |      Value |        x1 |        x2 |        x3 |        x4 | \n",
      "   11 | 00m07s | \u001b[35m -10.08352\u001b[0m | \u001b[32m   1.4657\u001b[0m | \u001b[32m  -0.1250\u001b[0m | \u001b[32m   2.0658\u001b[0m | \u001b[32m   0.7706\u001b[0m | \n",
      "\u001b[31mBayesian Optimization\u001b[0m\n",
      "\u001b[94m-----------------------------------------------------------------------------------------\u001b[0m\n",
      " Step |   Time |      Value |        x1 |        x2 |        x3 |        x4 |        x5 | \n",
      "   11 | 00m08s |  -49.49250 |    2.2967 |    3.5728 |   -2.6976 |    2.5955 |    3.5212 | \n"
     ]
    }
   ],
   "source": [
    "n_sample=3\n",
    "n_iter = 150\n",
    "ran=2\n",
    "\n",
    "# results\n",
    "#results = {}\n",
    "for k in range(4,6):\n",
    "    results[k]=np.array([])\n",
    "\n",
    "for i in range(n_sample):\n",
    "    print (\"sample\",i) \n",
    "    #Init funcs\n",
    "    \"\"\"\"\"\n",
    "    bo1 = BayesianOptimization(lambda x1: -(x1**2),\n",
    "                               {'x1': (-ran, ran)})\n",
    "    bo5 = BayesianOptimization(lambda x1,x2,x3,x4, x5: -(x1**2+x2**2+x3**2+x4**2+x5**2), \n",
    "                               {'x1': (-1*ran, ran),'x2': (-1*ran, ran),'x3': (-1*ran, ran),'x4': (-1*ran, ran),'x5': (-1*ran, ran)})\n",
    "    bo10 = BayesianOptimization(lambda x1,x2,x3,x4, x5, x6,x7,x8,x9, x10: \\\n",
    "                               -(x1**2+x2**2+x3**2+x4**2+x5**2+x6**2+x7**2+x8**2+x9**2+x10**2), \n",
    "                               {'x1': (-1*ran, ran),'x2': (-1*ran, ran),'x3': (-1*ran, ran),'x4': (-1*ran, ran),'x5': (-1*ran, ran),\n",
    "                                'x6': (-1*ran, ran),'x7': (-1*ran, ran),'x8': (-1*ran, ran),'x9': (-1*ran, ran),'x10': (-1*ran, ran)})\n",
    "    \"\"\"\"\"\n",
    "    bo15 = BayesianOptimization(lambda x1,x2,x3,x4, x5, x6,x7,x8,x9, x10\\\n",
    "                                                                   ,x11,x12,x13,x14, x15: \\\n",
    "                               -(x1**2+x2**2+x3**2+x4**2+x5**2+x6**2+x7**2+x8**2+x9**2+x10**2\n",
    "                                +x11**2+x12**2+x13**2+x14**2+x15**2), \n",
    "                               {'x1': (-1*ran, ran),'x2': (-1*ran, ran),'x3': (-1*ran, ran),'x4': (-1*ran, ran),'x5': (-1*ran, ran),\n",
    "                                'x6': (-1*ran, ran),'x7': (-1*ran, ran),'x8': (-1*ran, ran),'x9': (-1*ran, ran),'x10': (-1*ran, ran),\n",
    "                               'x11': (-1*ran, ran),'x12': (-1*ran, ran),'x13': (-1*ran, ran),'x14': (-1*ran, ran),'x15': (-1*ran, ran)})\n",
    "    bo20 = BayesianOptimization(lambda x1,x2,x3,x4, x5, x6,x7,x8,x9, x10\\\n",
    "                                                                   ,x11,x12,x13,x14, x15, x16,x17,x18,x19, x20: \\\n",
    "                               -(x1**2+x2**2+x3**2+x4**2+x5**2+x6**2+x7**2+x8**2+x9**2+x10**2\n",
    "                                +x11**2+x12**2+x13**2+x14**2+x15**2+x16**2+x17**2+x18**2+x19**2+x20**2), \n",
    "                               {'x1': (-1*ran, ran),'x2': (-1*ran, ran),'x3': (-1*ran, ran),'x4': (-1*ran, ran),'x5': (-1*ran, ran),\n",
    "                                'x6': (-1*ran, ran),'x7': (-1*ran, ran),'x8': (-1*ran, ran),'x9': (-1*ran, ran),'x10': (-1*ran, ran),\n",
    "                               'x11': (-1*ran, ran),'x12': (-1*ran, ran),'x13': (-1*ran, ran),'x14': (-1*ran, ran),'x15': (-1*ran, ran),\n",
    "                                'x16': (-1*ran, ran),'x17': (-1*ran, ran),'x18': (-1*ran, ran),'x19': (-1*ran, ran),'x20': (-1*ran, ran)})\n",
    "    \n",
    "    \"\"\"\"\"\n",
    "    bo1.maximize(init_points=1, n_iter=1, acq='mi', kappa=1)\n",
    "    bo5.maximize(init_points=1, n_iter=1, acq='mi', kappa=1)\n",
    "    bo10.maximize(init_points=1, n_iter=1, acq='mi', kappa=1)\n",
    "    \"\"\"\"\"\n",
    "    \n",
    "    bo15.maximize(init_points=1, n_iter=1, acq='mi', kappa=1)\n",
    "    bo20.maximize(init_points=1, n_iter=1, acq='mi', kappa=1)\n",
    "    \n",
    "    for j in range(n_iter):\n",
    "        print (\"iter\", j) \n",
    "        # calc next experiment\n",
    "        \"\"\"\"\"\n",
    "        if (np.max(bo1.res[\"all\"][\"values\"])) < -1:\n",
    "            bo1.maximize(init_points=1, n_iter=1, acq='mi', kappa=1)\n",
    "            results[1] = np.append(results[1],[np.max(bo1.res[\"all\"][\"values\"])])\n",
    "        else:\n",
    "            results[1] = np.append(results[1],[0])\n",
    "            \n",
    "        if (np.max(bo5.res[\"all\"][\"values\"]))< -1:\n",
    "            bo5.maximize(init_points=1, n_iter=1, acq='mi', kappa=1)\n",
    "            results[2] = np.append(results[2],[np.max(bo5.res[\"all\"][\"values\"])])\n",
    "        else:\n",
    "            results[2] = np.append(results[2],[0])\n",
    "            \n",
    "        if (np.max(bo10.res[\"all\"][\"values\"]))< -1:\n",
    "            bo10.maximize(init_points=1, n_iter=1, acq='mi', kappa=1)\n",
    "            results[3] = np.append(results[3],[np.max(bo10.res[\"all\"][\"values\"])])\n",
    "        else:\n",
    "            results[3] = np.append(results[3],[0])\n",
    "        \"\"\"\"\"\n",
    "            \n",
    "        if (np.max(bo15.res[\"all\"][\"values\"]))< -1:\n",
    "            bo15.maximize(init_points=1, n_iter=1, acq='mi', kappa=1)\n",
    "            results[4] = np.append(results[4],[np.max(bo15.res[\"all\"][\"values\"])])\n",
    "        else:\n",
    "            results[4] = np.append(results[4],[0])\n",
    "        \n",
    "        if (np.max(bo20.res[\"all\"][\"values\"]))< -1:\n",
    "            bo20.maximize(init_points=1, n_iter=1, acq='mi', kappa=1)\n",
    "            results[5] = np.append(results[5],[np.max(bo20.res[\"all\"][\"values\"])])\n",
    "        else:\n",
    "            results[5] = np.append(results[5],[0])\n",
    "\n",
    "\"\"\"\"\"        \n",
    "results[1]=results[1].reshape((n_sample, n_iter))\n",
    "results[2]=results[2].reshape((n_sample, n_iter))\n",
    "results[3]=results[3].reshape((n_sample, n_iter))\n",
    "\"\"\"\"\"\n",
    "results[4]=results[4].reshape((n_sample, n_iter))\n",
    "results[5]=results[5].reshape((n_sample, n_iter))"
   ]
  },
  {
   "cell_type": "markdown",
   "metadata": {},
   "source": [
    "### Plot results"
   ]
  },
  {
   "cell_type": "code",
   "execution_count": 43,
   "metadata": {
    "collapsed": false
   },
   "outputs": [
    {
     "name": "stderr",
     "output_type": "stream",
     "text": [
      "/Users/tsuzuki/anaconda3/lib/python3.4/site-packages/matplotlib/figure.py:387: UserWarning: matplotlib is currently using a non-GUI backend, so cannot show the figure\n",
      "  \"matplotlib is currently using a non-GUI backend, \"\n"
     ]
    },
    {
     "data": {
      "image/png": "[encoded data removed]",
      "text/plain": [
       "<matplotlib.figure.Figure at 0x10aba7240>"
      ]
     },
     "metadata": {},
     "output_type": "display_data"
    }
   ],
   "source": [
    "fig = plt.figure()\n",
    "ax = fig.add_subplot(1,1,1)\n",
    "\n",
    "ax.plot(-np.mean(results_n[1],axis=0), c=\"red\", marker=\"^\", label=\"dim1\")\n",
    "ax.plot(-np.mean(results_n[2],axis=0), c=\"blue\", marker=\"^\", label=\"dim2\")\n",
    "ax.plot(-np.mean(results_n[3],axis=0), c=\"yellow\", marker=\"^\", label=\"dim3\")\n",
    "ax.plot(-np.mean(results_n[4],axis=0), c=\"black\", marker=\"^\", label=\"dim4\")\n",
    "ax.plot(-np.mean(results_n[5],axis=0), c=\"green\", marker=\"^\", label=\"dim5\")\n",
    "\n",
    "ax.set_ylim(0,40)\n",
    "\n",
    "ax.set_xlabel(\"query\", size=12)\n",
    "ax.set_ylabel(\"value(max)\", size=12)\n",
    "\n",
    "ax.grid(True)\n",
    "ax.legend(loc='upper right')\n",
    "\n",
    "fig.show()"
   ]
  },
  {
   "cell_type": "markdown",
   "metadata": {},
   "source": [
    "適当な閾値を設けて，必要なquery数をプロットすべき（問題設定を忘れていた）"
   ]
  },
  {
   "cell_type": "code",
   "execution_count": null,
   "metadata": {
    "collapsed": true
   },
   "outputs": [],
   "source": [
    "0収束に必要なquery+dimのplotを書く\n",
    "→今日中\n",
    "\n",
    "1現実に近いもんだい（評価関数）をどう作るか\n",
    "①ノイズが乗る\n",
    "②あたりが少ない\n",
    "③変化が急\n",
    "\n",
    "④非凸\n",
    "\n",
    "2並列でquery飛ばせるように書き換える．"
   ]
  },
  {
   "cell_type": "code",
   "execution_count": null,
   "metadata": {
    "collapsed": true
   },
   "outputs": [],
   "source": [
    "・実証実験どうする？\n",
    "現実で実験すべき\n",
    "→どうするか？\n",
    "簡単な系でやるべき\n",
    "\n",
    "例：粒子の回収問題\n",
    "どの位置で取るか，どのタイミングで，　どのくらいの撹拌時間で"
   ]
  }
 ],
 "metadata": {
  "anaconda-cloud": {},
  "kernelspec": {
   "display_name": "Python [conda root]",
   "language": "python",
   "name": "conda-root-py"
  },
  "language_info": {
   "codemirror_mode": {
    "name": "ipython",
    "version": 3
   },
   "file_extension": ".py",
   "mimetype": "text/x-python",
   "name": "python",
   "nbconvert_exporter": "python",
   "pygments_lexer": "ipython3",
   "version": "3.4.5"
  },
  "latex_envs": {
   "bibliofile": "biblio.bib",
   "cite_by": "apalike",
   "current_citInitial": 1,
   "eqLabelWithNumbers": true,
   "eqNumInitial": 0
  },
  "nav_menu": {},
  "toc": {
   "navigate_menu": true,
   "number_sections": true,
   "sideBar": true,
   "threshold": 6,
   "toc_cell": false,
   "toc_section_display": "block",
   "toc_window_display": false
  }
 },
 "nbformat": 4,
 "nbformat_minor": 1
}
